








<!DOCTYPE html>
<html lang="en">

<head>
  <meta charset="utf-8">
  <title>Jupyter Notebook Viewer</title>
  <meta name="viewport" content="width=device-width, initial-scale=1.0">
  <meta name="description" content="">
  <meta name="author" content="">
  
  <meta name="robots" content="noindex,nofollow">
  

  <!--NEW RELIC Start Perf Measurement-->
  
  <!--NREND-->

  <!-- Le styles -->
  <link href="/static/build/styles.css" rel="stylesheet">

  <!-- Le HTML5 shim, for IE6-8 support of HTML5 elements -->
  <!--[if lt IE 9]>
    <script src="http://html5shim.googlecode.com/svn/trunk/html5.js"></script>
  <![endif]-->

  <!-- Le fav and touch icons -->
  <link rel="shortcut icon" href="/static/ico/ipynb_icon_16x16.png">
  <link rel="apple-touch-icon-precomposed" sizes="144x144"
        href="/static/ico/apple-touch-icon-144-precomposed.png">
  <link rel="apple-touch-icon-precomposed" sizes="114x114"
        href="/static/ico/apple-touch-icon-114-precomposed.png">
  <link rel="apple-touch-icon-precomposed" sizes="72x72"
        href="/static/ico/apple-touch-icon-72-precomposed.png">
  <link rel="apple-touch-icon-precomposed"
        href="/static/ico/apple-touch-icon-57-precomposed.png">
  <!--block extra head layout.html-->
  
  

  

  
  <meta name="twitter:card" content="summary">
  <meta name="twitter:title" content="Notebook on nbviewer">
  <meta name="twitter:description" content="Check out this Jupyter notebook!">

  
  <meta name="twitter:domain" content="nbviewer.jupyter.org">
  <meta name="twitter:image:src" content="http://ipython.org/ipython-doc/dev/_images/ipynb_icon_128x128.png">

  
    <link href="/static/build/notebook.css" rel="stylesheet">
  

  

  
    <script src="https://cdnjs.cloudflare.com/ajax/libs/mathjax/2.7.1/MathJax.js?config=TeX-AMS_HTML" type="text/javascript">
    </script>
    <script type="text/javascript">
      init_mathjax = function() {
        if (window.MathJax) {
          // MathJax loaded
          MathJax.Hub.Config({
            TeX: {
              equationNumbers: {
                autoNumber: "AMS",
                useLabelIds: true
              }
            },
            tex2jax: {
              inlineMath: [ ['$','$'], ["\\(","\\)"] ],
              displayMath: [ ['$$','$$'], ["\\[","\\]"] ],
              processEscapes: true,
              processEnvironments: true
            },
            displayAlign: 'center',
            "HTML-CSS": {
              styles: {'.MathJax_Display': {"margin": 0}},
              linebreaks: { automatic: true }
            }
          });
          MathJax.Hub.Queue(["Typeset", MathJax.Hub]);
        }
      }
      init_mathjax();
    </script>
  

  
    <!-- block ipywidgets notebook.html -->
    <script>
      (function() {
        function addWidgetsRenderer() {
          var mimeElement = document.querySelector('script[type="application/vnd.jupyter.widget-view+json"]');
          var scriptElement = document.createElement('script');
          var widgetRendererSrc = 'https://unpkg.com/@jupyter-widgets/html-manager@0.15/dist/embed-amd.js';
          var widgetState;

          try {
            widgetState = mimeElement && JSON.parse(mimeElement.innerHTML);

            if (widgetState && (widgetState.version_major < 2 || !widgetState.version_major)) {
              widgetRendererSrc = 'https://unpkg.com/jupyter-js-widgets@2.1/dist/embed.js';
            }
          } catch(e) {}

          scriptElement.src = widgetRendererSrc;

          document.body.appendChild(scriptElement);
        }

        document.addEventListener('DOMContentLoaded', addWidgetsRenderer);
      }());
    </script>
    <!-- end block ipywidgets notebook.html -->
  

  <!--end block extra head layout.html-->
  <link rel="stylesheet" href="https://cdn.jsdelivr.net/npm/@fortawesome/fontawesome-free@^5/css/all.min.css" type="text/css" />
  <link rel="stylesheet" href="https://cdn.jsdelivr.net/npm/@fortawesome/fontawesome-free@^5/css/v4-shims.min.css" type="text/css" />
</head>

<body class="nbviewer">

  <!-- These are loaded at the top of the body so they are available to
       notebook cells when they are loaded below. -->
  <script src="/static/components/jquery/dist/jquery.min.js"></script>
  <script src="/static/components/requirejs/require.js"></script>
  <script src="/static/components/moment/min/moment.min.js"></script>
<!-- Navbar
================================================== -->
  <nav id="menubar" class="navbar navbar-default navbar-fixed-top" data-spy="affix">
    <div class="container">
      <div class="navbar-header">
        <button type="button" class="navbar-toggle collapsed" data-toggle="collapse" data-target=".navbar-collapse">
          <span class="sr-only">Toggle navigation</span>
          <i class="fa fa-bars"></i>
        </button>
        <a class="navbar-brand" href="/">
          <img src="/static/img/nav_logo.svg" width="159"/>
        </a>
      </div>

      <div class="collapse navbar-collapse">
        <ul class="nav navbar-nav navbar-right">
          <li>
            <a class="active" href="http://jupyter.org">JUPYTER</a>
          </li>
          <li>
    <a href="/faq" title="FAQ" >
      
        <span>FAQ</span>
      
    </a>
  </li>

          
  
    
  
    
      
        <li>
    <a href="/format/script/github/michaelferguson2/Loan-Default-Model-Comparison/blob/main/loan_default.ipynb" title="View as Code" >
      <span class="fa fa-code fa-2x menu-icon"></span>
      <span class="menu-text">View as Code</span>
    </a>
  </li>
      
    
  

  
    <li>
    <a href="#" title="Python 3 (ipykernel) Kernel" >
      <span class="fa fa-server fa-2x menu-icon"></span>
      <span class="menu-text">Python 3 (ipykernel) Kernel</span>
    </a>
  </li>
  

  
    <li>
    <a href="https://github.com/michaelferguson2/Loan-Default-Model-Comparison/blob/main/loan_default.ipynb" title="View on GitHub" >
      <span class="fa fa-github fa-2x menu-icon"></span>
      <span class="menu-text">View on GitHub</span>
    </a>
  </li>
  

  
    <li>
    <a href="https://mybinder.org/v2/gh/michaelferguson2/Loan-Default-Model-Comparison/main?filepath=loan_default.ipynb" title="Execute on Binder" >
      <span class="fa fa-icon-binder fa-2x menu-icon"></span>
      <span class="menu-text">Execute on Binder</span>
    </a>
  </li>
  

  <li>
    <a href="https://raw.githubusercontent.com/michaelferguson2/Loan-Default-Model-Comparison/main/loan_default.ipynb" title="Download Notebook" download>
      <span class="fa fa-download fa-2x menu-icon"></span>
      <span class="menu-text">Download Notebook</span>
    </a>
  </li>

        </ul>
      </div><!-- /.navbar-collapse -->
      
      
    </div>
  </nav>

  <div class="container container-main">
    
  <!-- block body safe notebook.html -->
  
  <ol class="breadcrumb">
    
      <li>
        <a href="/github/michaelferguson2/Loan-Default-Model-Comparison/tree/main">Loan-Default-Model-Comparison</a>
      </li>
    
      <li>
        <a href="/github/michaelferguson2/Loan-Default-Model-Comparison/tree/main/loan_default.ipynb">loan_default.ipynb</a>
      </li>
    
  </ol>
  
  <!DOCTYPE html>
<html>
<head><meta charset="utf-8" />
<meta name="viewport" content="width=device-width, initial-scale=1.0">

<title>Notebook</title><script src="https://cdnjs.cloudflare.com/ajax/libs/require.js/2.1.10/require.min.js"></script>




<style type="text/css">
    pre { line-height: 125%; }
td.linenos .normal { color: inherit; background-color: transparent; padding-left: 5px; padding-right: 5px; }
span.linenos { color: inherit; background-color: transparent; padding-left: 5px; padding-right: 5px; }
td.linenos .special { color: #000000; background-color: #ffffc0; padding-left: 5px; padding-right: 5px; }
span.linenos.special { color: #000000; background-color: #ffffc0; padding-left: 5px; padding-right: 5px; }
.highlight .hll { background-color: var(--jp-cell-editor-active-background) }
.highlight { background: var(--jp-cell-editor-background); color: var(--jp-mirror-editor-variable-color) }
.highlight .c { color: var(--jp-mirror-editor-comment-color); font-style: italic } /* Comment */
.highlight .err { color: var(--jp-mirror-editor-error-color) } /* Error */
.highlight .k { color: var(--jp-mirror-editor-keyword-color); font-weight: bold } /* Keyword */
.highlight .o { color: var(--jp-mirror-editor-operator-color); font-weight: bold } /* Operator */
.highlight .p { color: var(--jp-mirror-editor-punctuation-color) } /* Punctuation */
.highlight .ch { color: var(--jp-mirror-editor-comment-color); font-style: italic } /* Comment.Hashbang */
.highlight .cm { color: var(--jp-mirror-editor-comment-color); font-style: italic } /* Comment.Multiline */
.highlight .cp { color: var(--jp-mirror-editor-comment-color); font-style: italic } /* Comment.Preproc */
.highlight .cpf { color: var(--jp-mirror-editor-comment-color); font-style: italic } /* Comment.PreprocFile */
.highlight .c1 { color: var(--jp-mirror-editor-comment-color); font-style: italic } /* Comment.Single */
.highlight .cs { color: var(--jp-mirror-editor-comment-color); font-style: italic } /* Comment.Special */
.highlight .kc { color: var(--jp-mirror-editor-keyword-color); font-weight: bold } /* Keyword.Constant */
.highlight .kd { color: var(--jp-mirror-editor-keyword-color); font-weight: bold } /* Keyword.Declaration */
.highlight .kn { color: var(--jp-mirror-editor-keyword-color); font-weight: bold } /* Keyword.Namespace */
.highlight .kp { color: var(--jp-mirror-editor-keyword-color); font-weight: bold } /* Keyword.Pseudo */
.highlight .kr { color: var(--jp-mirror-editor-keyword-color); font-weight: bold } /* Keyword.Reserved */
.highlight .kt { color: var(--jp-mirror-editor-keyword-color); font-weight: bold } /* Keyword.Type */
.highlight .m { color: var(--jp-mirror-editor-number-color) } /* Literal.Number */
.highlight .s { color: var(--jp-mirror-editor-string-color) } /* Literal.String */
.highlight .ow { color: var(--jp-mirror-editor-operator-color); font-weight: bold } /* Operator.Word */
.highlight .pm { color: var(--jp-mirror-editor-punctuation-color) } /* Punctuation.Marker */
.highlight .w { color: var(--jp-mirror-editor-variable-color) } /* Text.Whitespace */
.highlight .mb { color: var(--jp-mirror-editor-number-color) } /* Literal.Number.Bin */
.highlight .mf { color: var(--jp-mirror-editor-number-color) } /* Literal.Number.Float */
.highlight .mh { color: var(--jp-mirror-editor-number-color) } /* Literal.Number.Hex */
.highlight .mi { color: var(--jp-mirror-editor-number-color) } /* Literal.Number.Integer */
.highlight .mo { color: var(--jp-mirror-editor-number-color) } /* Literal.Number.Oct */
.highlight .sa { color: var(--jp-mirror-editor-string-color) } /* Literal.String.Affix */
.highlight .sb { color: var(--jp-mirror-editor-string-color) } /* Literal.String.Backtick */
.highlight .sc { color: var(--jp-mirror-editor-string-color) } /* Literal.String.Char */
.highlight .dl { color: var(--jp-mirror-editor-string-color) } /* Literal.String.Delimiter */
.highlight .sd { color: var(--jp-mirror-editor-string-color) } /* Literal.String.Doc */
.highlight .s2 { color: var(--jp-mirror-editor-string-color) } /* Literal.String.Double */
.highlight .se { color: var(--jp-mirror-editor-string-color) } /* Literal.String.Escape */
.highlight .sh { color: var(--jp-mirror-editor-string-color) } /* Literal.String.Heredoc */
.highlight .si { color: var(--jp-mirror-editor-string-color) } /* Literal.String.Interpol */
.highlight .sx { color: var(--jp-mirror-editor-string-color) } /* Literal.String.Other */
.highlight .sr { color: var(--jp-mirror-editor-string-color) } /* Literal.String.Regex */
.highlight .s1 { color: var(--jp-mirror-editor-string-color) } /* Literal.String.Single */
.highlight .ss { color: var(--jp-mirror-editor-string-color) } /* Literal.String.Symbol */
.highlight .il { color: var(--jp-mirror-editor-number-color) } /* Literal.Number.Integer.Long */
  </style>



<style type="text/css">
/*-----------------------------------------------------------------------------
| Copyright (c) Jupyter Development Team.
| Distributed under the terms of the Modified BSD License.
|----------------------------------------------------------------------------*/

/*
 * Mozilla scrollbar styling
 */

/* use standard opaque scrollbars for most nodes */
[data-jp-theme-scrollbars='true'] {
  scrollbar-color: rgb(var(--jp-scrollbar-thumb-color))
    var(--jp-scrollbar-background-color);
}

/* for code nodes, use a transparent style of scrollbar. These selectors
 * will match lower in the tree, and so will override the above */
[data-jp-theme-scrollbars='true'] .CodeMirror-hscrollbar,
[data-jp-theme-scrollbars='true'] .CodeMirror-vscrollbar {
  scrollbar-color: rgba(var(--jp-scrollbar-thumb-color), 0.5) transparent;
}

/* tiny scrollbar */

.jp-scrollbar-tiny {
  scrollbar-color: rgba(var(--jp-scrollbar-thumb-color), 0.5) transparent;
  scrollbar-width: thin;
}

/*
 * Webkit scrollbar styling
 */

/* use standard opaque scrollbars for most nodes */

[data-jp-theme-scrollbars='true'] ::-webkit-scrollbar,
[data-jp-theme-scrollbars='true'] ::-webkit-scrollbar-corner {
  background: var(--jp-scrollbar-background-color);
}

[data-jp-theme-scrollbars='true'] ::-webkit-scrollbar-thumb {
  background: rgb(var(--jp-scrollbar-thumb-color));
  border: var(--jp-scrollbar-thumb-margin) solid transparent;
  background-clip: content-box;
  border-radius: var(--jp-scrollbar-thumb-radius);
}

[data-jp-theme-scrollbars='true'] ::-webkit-scrollbar-track:horizontal {
  border-left: var(--jp-scrollbar-endpad) solid
    var(--jp-scrollbar-background-color);
  border-right: var(--jp-scrollbar-endpad) solid
    var(--jp-scrollbar-background-color);
}

[data-jp-theme-scrollbars='true'] ::-webkit-scrollbar-track:vertical {
  border-top: var(--jp-scrollbar-endpad) solid
    var(--jp-scrollbar-background-color);
  border-bottom: var(--jp-scrollbar-endpad) solid
    var(--jp-scrollbar-background-color);
}

/* for code nodes, use a transparent style of scrollbar */

[data-jp-theme-scrollbars='true'] .CodeMirror-hscrollbar::-webkit-scrollbar,
[data-jp-theme-scrollbars='true'] .CodeMirror-vscrollbar::-webkit-scrollbar,
[data-jp-theme-scrollbars='true']
  .CodeMirror-hscrollbar::-webkit-scrollbar-corner,
[data-jp-theme-scrollbars='true']
  .CodeMirror-vscrollbar::-webkit-scrollbar-corner {
  background-color: transparent;
}

[data-jp-theme-scrollbars='true']
  .CodeMirror-hscrollbar::-webkit-scrollbar-thumb,
[data-jp-theme-scrollbars='true']
  .CodeMirror-vscrollbar::-webkit-scrollbar-thumb {
  background: rgba(var(--jp-scrollbar-thumb-color), 0.5);
  border: var(--jp-scrollbar-thumb-margin) solid transparent;
  background-clip: content-box;
  border-radius: var(--jp-scrollbar-thumb-radius);
}

[data-jp-theme-scrollbars='true']
  .CodeMirror-hscrollbar::-webkit-scrollbar-track:horizontal {
  border-left: var(--jp-scrollbar-endpad) solid transparent;
  border-right: var(--jp-scrollbar-endpad) solid transparent;
}

[data-jp-theme-scrollbars='true']
  .CodeMirror-vscrollbar::-webkit-scrollbar-track:vertical {
  border-top: var(--jp-scrollbar-endpad) solid transparent;
  border-bottom: var(--jp-scrollbar-endpad) solid transparent;
}

/* tiny scrollbar */

.jp-scrollbar-tiny::-webkit-scrollbar,
.jp-scrollbar-tiny::-webkit-scrollbar-corner {
  background-color: transparent;
  height: 4px;
  width: 4px;
}

.jp-scrollbar-tiny::-webkit-scrollbar-thumb {
  background: rgba(var(--jp-scrollbar-thumb-color), 0.5);
}

.jp-scrollbar-tiny::-webkit-scrollbar-track:horizontal {
  border-left: 0px solid transparent;
  border-right: 0px solid transparent;
}

.jp-scrollbar-tiny::-webkit-scrollbar-track:vertical {
  border-top: 0px solid transparent;
  border-bottom: 0px solid transparent;
}

/*
 * Phosphor
 */

.lm-ScrollBar[data-orientation='horizontal'] {
  min-height: 16px;
  max-height: 16px;
  min-width: 45px;
  border-top: 1px solid #a0a0a0;
}

.lm-ScrollBar[data-orientation='vertical'] {
  min-width: 16px;
  max-width: 16px;
  min-height: 45px;
  border-left: 1px solid #a0a0a0;
}

.lm-ScrollBar-button {
  background-color: #f0f0f0;
  background-position: center center;
  min-height: 15px;
  max-height: 15px;
  min-width: 15px;
  max-width: 15px;
}

.lm-ScrollBar-button:hover {
  background-color: #dadada;
}

.lm-ScrollBar-button.lm-mod-active {
  background-color: #cdcdcd;
}

.lm-ScrollBar-track {
  background: #f0f0f0;
}

.lm-ScrollBar-thumb {
  background: #cdcdcd;
}

.lm-ScrollBar-thumb:hover {
  background: #bababa;
}

.lm-ScrollBar-thumb.lm-mod-active {
  background: #a0a0a0;
}

.lm-ScrollBar[data-orientation='horizontal'] .lm-ScrollBar-thumb {
  height: 100%;
  min-width: 15px;
  border-left: 1px solid #a0a0a0;
  border-right: 1px solid #a0a0a0;
}

.lm-ScrollBar[data-orientation='vertical'] .lm-ScrollBar-thumb {
  width: 100%;
  min-height: 15px;
  border-top: 1px solid #a0a0a0;
  border-bottom: 1px solid #a0a0a0;
}

.lm-ScrollBar[data-orientation='horizontal']
  .lm-ScrollBar-button[data-action='decrement'] {
  background-image: var(--jp-icon-caret-left);
  background-size: 17px;
}

.lm-ScrollBar[data-orientation='horizontal']
  .lm-ScrollBar-button[data-action='increment'] {
  background-image: var(--jp-icon-caret-right);
  background-size: 17px;
}

.lm-ScrollBar[data-orientation='vertical']
  .lm-ScrollBar-button[data-action='decrement'] {
  background-image: var(--jp-icon-caret-up);
  background-size: 17px;
}

.lm-ScrollBar[data-orientation='vertical']
  .lm-ScrollBar-button[data-action='increment'] {
  background-image: var(--jp-icon-caret-down);
  background-size: 17px;
}

/*-----------------------------------------------------------------------------
| Copyright (c) Jupyter Development Team.
| Copyright (c) 2014-2017, PhosphorJS Contributors
|
| Distributed under the terms of the BSD 3-Clause License.
|
| The full license is in the file LICENSE, distributed with this software.
|----------------------------------------------------------------------------*/


/* <DEPRECATED> */ .p-Widget, /* </DEPRECATED> */
.lm-Widget {
  box-sizing: border-box;
  position: relative;
  overflow: hidden;
  cursor: default;
}


/* <DEPRECATED> */ .p-Widget.p-mod-hidden, /* </DEPRECATED> */
.lm-Widget.lm-mod-hidden {
  display: none !important;
}

/*-----------------------------------------------------------------------------
| Copyright (c) Jupyter Development Team.
| Copyright (c) 2014-2017, PhosphorJS Contributors
|
| Distributed under the terms of the BSD 3-Clause License.
|
| The full license is in the file LICENSE, distributed with this software.
|----------------------------------------------------------------------------*/


/* <DEPRECATED> */ .p-CommandPalette, /* </DEPRECATED> */
.lm-CommandPalette {
  display: flex;
  flex-direction: column;
  -webkit-user-select: none;
  -moz-user-select: none;
  -ms-user-select: none;
  user-select: none;
}


/* <DEPRECATED> */ .p-CommandPalette-search, /* </DEPRECATED> */
.lm-CommandPalette-search {
  flex: 0 0 auto;
}


/* <DEPRECATED> */ .p-CommandPalette-content, /* </DEPRECATED> */
.lm-CommandPalette-content {
  flex: 1 1 auto;
  margin: 0;
  padding: 0;
  min-height: 0;
  overflow: auto;
  list-style-type: none;
}


/* <DEPRECATED> */ .p-CommandPalette-header, /* </DEPRECATED> */
.lm-CommandPalette-header {
  overflow: hidden;
  white-space: nowrap;
  text-overflow: ellipsis;
}


/* <DEPRECATED> */ .p-CommandPalette-item, /* </DEPRECATED> */
.lm-CommandPalette-item {
  display: flex;
  flex-direction: row;
}


/* <DEPRECATED> */ .p-CommandPalette-itemIcon, /* </DEPRECATED> */
.lm-CommandPalette-itemIcon {
  flex: 0 0 auto;
}


/* <DEPRECATED> */ .p-CommandPalette-itemContent, /* </DEPRECATED> */
.lm-CommandPalette-itemContent {
  flex: 1 1 auto;
  overflow: hidden;
}


/* <DEPRECATED> */ .p-CommandPalette-itemShortcut, /* </DEPRECATED> */
.lm-CommandPalette-itemShortcut {
  flex: 0 0 auto;
}


/* <DEPRECATED> */ .p-CommandPalette-itemLabel, /* </DEPRECATED> */
.lm-CommandPalette-itemLabel {
  overflow: hidden;
  white-space: nowrap;
  text-overflow: ellipsis;
}

.lm-close-icon {
	border:1px solid transparent;
  background-color: transparent;
  position: absolute;
	z-index:1;
	right:3%;
	top: 0;
	bottom: 0;
	margin: auto;
	padding: 7px 0;
	display: none;
	vertical-align: middle;
  outline: 0;
  cursor: pointer;
}
.lm-close-icon:after {
	content: "X";
	display: block;
	width: 15px;
	height: 15px;
	text-align: center;
	color:#000;
	font-weight: normal;
	font-size: 12px;
	cursor: pointer;
}

/*-----------------------------------------------------------------------------
| Copyright (c) Jupyter Development Team.
| Copyright (c) 2014-2017, PhosphorJS Contributors
|
| Distributed under the terms of the BSD 3-Clause License.
|
| The full license is in the file LICENSE, distributed with this software.
|----------------------------------------------------------------------------*/


/* <DEPRECATED> */ .p-DockPanel, /* </DEPRECATED> */
.lm-DockPanel {
  z-index: 0;
}


/* <DEPRECATED> */ .p-DockPanel-widget, /* </DEPRECATED> */
.lm-DockPanel-widget {
  z-index: 0;
}


/* <DEPRECATED> */ .p-DockPanel-tabBar, /* </DEPRECATED> */
.lm-DockPanel-tabBar {
  z-index: 1;
}


/* <DEPRECATED> */ .p-DockPanel-handle, /* </DEPRECATED> */
.lm-DockPanel-handle {
  z-index: 2;
}


/* <DEPRECATED> */ .p-DockPanel-handle.p-mod-hidden, /* </DEPRECATED> */
.lm-DockPanel-handle.lm-mod-hidden {
  display: none !important;
}


/* <DEPRECATED> */ .p-DockPanel-handle:after, /* </DEPRECATED> */
.lm-DockPanel-handle:after {
  position: absolute;
  top: 0;
  left: 0;
  width: 100%;
  height: 100%;
  content: '';
}


/* <DEPRECATED> */
.p-DockPanel-handle[data-orientation='horizontal'],
/* </DEPRECATED> */
.lm-DockPanel-handle[data-orientation='horizontal'] {
  cursor: ew-resize;
}


/* <DEPRECATED> */
.p-DockPanel-handle[data-orientation='vertical'],
/* </DEPRECATED> */
.lm-DockPanel-handle[data-orientation='vertical'] {
  cursor: ns-resize;
}


/* <DEPRECATED> */
.p-DockPanel-handle[data-orientation='horizontal']:after,
/* </DEPRECATED> */
.lm-DockPanel-handle[data-orientation='horizontal']:after {
  left: 50%;
  min-width: 8px;
  transform: translateX(-50%);
}


/* <DEPRECATED> */
.p-DockPanel-handle[data-orientation='vertical']:after,
/* </DEPRECATED> */
.lm-DockPanel-handle[data-orientation='vertical']:after {
  top: 50%;
  min-height: 8px;
  transform: translateY(-50%);
}


/* <DEPRECATED> */ .p-DockPanel-overlay, /* </DEPRECATED> */
.lm-DockPanel-overlay {
  z-index: 3;
  box-sizing: border-box;
  pointer-events: none;
}


/* <DEPRECATED> */ .p-DockPanel-overlay.p-mod-hidden, /* </DEPRECATED> */
.lm-DockPanel-overlay.lm-mod-hidden {
  display: none !important;
}

/*-----------------------------------------------------------------------------
| Copyright (c) Jupyter Development Team.
| Copyright (c) 2014-2017, PhosphorJS Contributors
|
| Distributed under the terms of the BSD 3-Clause License.
|
| The full license is in the file LICENSE, distributed with this software.
|----------------------------------------------------------------------------*/


/* <DEPRECATED> */ .p-Menu, /* </DEPRECATED> */
.lm-Menu {
  z-index: 10000;
  position: absolute;
  white-space: nowrap;
  overflow-x: hidden;
  overflow-y: auto;
  outline: none;
  -webkit-user-select: none;
  -moz-user-select: none;
  -ms-user-select: none;
  user-select: none;
}


/* <DEPRECATED> */ .p-Menu-content, /* </DEPRECATED> */
.lm-Menu-content {
  margin: 0;
  padding: 0;
  display: table;
  list-style-type: none;
}


/* <DEPRECATED> */ .p-Menu-item, /* </DEPRECATED> */
.lm-Menu-item {
  display: table-row;
}


/* <DEPRECATED> */
.p-Menu-item.p-mod-hidden,
.p-Menu-item.p-mod-collapsed,
/* </DEPRECATED> */
.lm-Menu-item.lm-mod-hidden,
.lm-Menu-item.lm-mod-collapsed {
  display: none !important;
}


/* <DEPRECATED> */
.p-Menu-itemIcon,
.p-Menu-itemSubmenuIcon,
/* </DEPRECATED> */
.lm-Menu-itemIcon,
.lm-Menu-itemSubmenuIcon {
  display: table-cell;
  text-align: center;
}


/* <DEPRECATED> */ .p-Menu-itemLabel, /* </DEPRECATED> */
.lm-Menu-itemLabel {
  display: table-cell;
  text-align: left;
}


/* <DEPRECATED> */ .p-Menu-itemShortcut, /* </DEPRECATED> */
.lm-Menu-itemShortcut {
  display: table-cell;
  text-align: right;
}

/*-----------------------------------------------------------------------------
| Copyright (c) Jupyter Development Team.
| Copyright (c) 2014-2017, PhosphorJS Contributors
|
| Distributed under the terms of the BSD 3-Clause License.
|
| The full license is in the file LICENSE, distributed with this software.
|----------------------------------------------------------------------------*/


/* <DEPRECATED> */ .p-MenuBar, /* </DEPRECATED> */
.lm-MenuBar {
  outline: none;
  -webkit-user-select: none;
  -moz-user-select: none;
  -ms-user-select: none;
  user-select: none;
}


/* <DEPRECATED> */ .p-MenuBar-content, /* </DEPRECATED> */
.lm-MenuBar-content {
  margin: 0;
  padding: 0;
  display: flex;
  flex-direction: row;
  list-style-type: none;
}


/* <DEPRECATED> */ .p--MenuBar-item, /* </DEPRECATED> */
.lm-MenuBar-item {
  box-sizing: border-box;
}


/* <DEPRECATED> */
.p-MenuBar-itemIcon,
.p-MenuBar-itemLabel,
/* </DEPRECATED> */
.lm-MenuBar-itemIcon,
.lm-MenuBar-itemLabel {
  display: inline-block;
}

/*-----------------------------------------------------------------------------
| Copyright (c) Jupyter Development Team.
| Copyright (c) 2014-2017, PhosphorJS Contributors
|
| Distributed under the terms of the BSD 3-Clause License.
|
| The full license is in the file LICENSE, distributed with this software.
|----------------------------------------------------------------------------*/


/* <DEPRECATED> */ .p-ScrollBar, /* </DEPRECATED> */
.lm-ScrollBar {
  display: flex;
  -webkit-user-select: none;
  -moz-user-select: none;
  -ms-user-select: none;
  user-select: none;
}


/* <DEPRECATED> */
.p-ScrollBar[data-orientation='horizontal'],
/* </DEPRECATED> */
.lm-ScrollBar[data-orientation='horizontal'] {
  flex-direction: row;
}


/* <DEPRECATED> */
.p-ScrollBar[data-orientation='vertical'],
/* </DEPRECATED> */
.lm-ScrollBar[data-orientation='vertical'] {
  flex-direction: column;
}


/* <DEPRECATED> */ .p-ScrollBar-button, /* </DEPRECATED> */
.lm-ScrollBar-button {
  box-sizing: border-box;
  flex: 0 0 auto;
}


/* <DEPRECATED> */ .p-ScrollBar-track, /* </DEPRECATED> */
.lm-ScrollBar-track {
  box-sizing: border-box;
  position: relative;
  overflow: hidden;
  flex: 1 1 auto;
}


/* <DEPRECATED> */ .p-ScrollBar-thumb, /* </DEPRECATED> */
.lm-ScrollBar-thumb {
  box-sizing: border-box;
  position: absolute;
}

/*-----------------------------------------------------------------------------
| Copyright (c) Jupyter Development Team.
| Copyright (c) 2014-2017, PhosphorJS Contributors
|
| Distributed under the terms of the BSD 3-Clause License.
|
| The full license is in the file LICENSE, distributed with this software.
|----------------------------------------------------------------------------*/


/* <DEPRECATED> */ .p-SplitPanel-child, /* </DEPRECATED> */
.lm-SplitPanel-child {
  z-index: 0;
}


/* <DEPRECATED> */ .p-SplitPanel-handle, /* </DEPRECATED> */
.lm-SplitPanel-handle {
  z-index: 1;
}


/* <DEPRECATED> */ .p-SplitPanel-handle.p-mod-hidden, /* </DEPRECATED> */
.lm-SplitPanel-handle.lm-mod-hidden {
  display: none !important;
}


/* <DEPRECATED> */ .p-SplitPanel-handle:after, /* </DEPRECATED> */
.lm-SplitPanel-handle:after {
  position: absolute;
  top: 0;
  left: 0;
  width: 100%;
  height: 100%;
  content: '';
}


/* <DEPRECATED> */
.p-SplitPanel[data-orientation='horizontal'] > .p-SplitPanel-handle,
/* </DEPRECATED> */
.lm-SplitPanel[data-orientation='horizontal'] > .lm-SplitPanel-handle {
  cursor: ew-resize;
}


/* <DEPRECATED> */
.p-SplitPanel[data-orientation='vertical'] > .p-SplitPanel-handle,
/* </DEPRECATED> */
.lm-SplitPanel[data-orientation='vertical'] > .lm-SplitPanel-handle {
  cursor: ns-resize;
}


/* <DEPRECATED> */
.p-SplitPanel[data-orientation='horizontal'] > .p-SplitPanel-handle:after,
/* </DEPRECATED> */
.lm-SplitPanel[data-orientation='horizontal'] > .lm-SplitPanel-handle:after {
  left: 50%;
  min-width: 8px;
  transform: translateX(-50%);
}


/* <DEPRECATED> */
.p-SplitPanel[data-orientation='vertical'] > .p-SplitPanel-handle:after,
/* </DEPRECATED> */
.lm-SplitPanel[data-orientation='vertical'] > .lm-SplitPanel-handle:after {
  top: 50%;
  min-height: 8px;
  transform: translateY(-50%);
}

/*-----------------------------------------------------------------------------
| Copyright (c) Jupyter Development Team.
| Copyright (c) 2014-2017, PhosphorJS Contributors
|
| Distributed under the terms of the BSD 3-Clause License.
|
| The full license is in the file LICENSE, distributed with this software.
|----------------------------------------------------------------------------*/


/* <DEPRECATED> */ .p-TabBar, /* </DEPRECATED> */
.lm-TabBar {
  display: flex;
  -webkit-user-select: none;
  -moz-user-select: none;
  -ms-user-select: none;
  user-select: none;
}


/* <DEPRECATED> */ .p-TabBar[data-orientation='horizontal'], /* </DEPRECATED> */
.lm-TabBar[data-orientation='horizontal'] {
  flex-direction: row;
  align-items: flex-end;
}


/* <DEPRECATED> */ .p-TabBar[data-orientation='vertical'], /* </DEPRECATED> */
.lm-TabBar[data-orientation='vertical'] {
  flex-direction: column;
  align-items: flex-end;
}


/* <DEPRECATED> */ .p-TabBar-content, /* </DEPRECATED> */
.lm-TabBar-content {
  margin: 0;
  padding: 0;
  display: flex;
  flex: 1 1 auto;
  list-style-type: none;
}


/* <DEPRECATED> */
.p-TabBar[data-orientation='horizontal'] > .p-TabBar-content,
/* </DEPRECATED> */
.lm-TabBar[data-orientation='horizontal'] > .lm-TabBar-content {
  flex-direction: row;
}


/* <DEPRECATED> */
.p-TabBar[data-orientation='vertical'] > .p-TabBar-content,
/* </DEPRECATED> */
.lm-TabBar[data-orientation='vertical'] > .lm-TabBar-content {
  flex-direction: column;
}


/* <DEPRECATED> */ .p-TabBar-tab, /* </DEPRECATED> */
.lm-TabBar-tab {
  display: flex;
  flex-direction: row;
  box-sizing: border-box;
  overflow: hidden;
}


/* <DEPRECATED> */
.p-TabBar-tabIcon,
.p-TabBar-tabCloseIcon,
/* </DEPRECATED> */
.lm-TabBar-tabIcon,
.lm-TabBar-tabCloseIcon {
  flex: 0 0 auto;
}


/* <DEPRECATED> */ .p-TabBar-tabLabel, /* </DEPRECATED> */
.lm-TabBar-tabLabel {
  flex: 1 1 auto;
  overflow: hidden;
  white-space: nowrap;
}


.lm-TabBar-tabInput {
  user-select: all;
  width: 100%;
  box-sizing : border-box;
}


/* <DEPRECATED> */ .p-TabBar-tab.p-mod-hidden, /* </DEPRECATED> */
.lm-TabBar-tab.lm-mod-hidden {
  display: none !important;
}


.lm-TabBar-addButton.lm-mod-hidden {
  display: none !important;
}


/* <DEPRECATED> */ .p-TabBar.p-mod-dragging .p-TabBar-tab, /* </DEPRECATED> */
.lm-TabBar.lm-mod-dragging .lm-TabBar-tab {
  position: relative;
}


/* <DEPRECATED> */
.p-TabBar.p-mod-dragging[data-orientation='horizontal'] .p-TabBar-tab,
/* </DEPRECATED> */
.lm-TabBar.lm-mod-dragging[data-orientation='horizontal'] .lm-TabBar-tab {
  left: 0;
  transition: left 150ms ease;
}


/* <DEPRECATED> */
.p-TabBar.p-mod-dragging[data-orientation='vertical'] .p-TabBar-tab,
/* </DEPRECATED> */
.lm-TabBar.lm-mod-dragging[data-orientation='vertical'] .lm-TabBar-tab {
  top: 0;
  transition: top 150ms ease;
}


/* <DEPRECATED> */
.p-TabBar.p-mod-dragging .p-TabBar-tab.p-mod-dragging,
/* </DEPRECATED> */
.lm-TabBar.lm-mod-dragging .lm-TabBar-tab.lm-mod-dragging {
  transition: none;
}

.lm-TabBar-tabLabel .lm-TabBar-tabInput {
  user-select: all;
  width: 100%;
  box-sizing : border-box;
  background: inherit;
}

/*-----------------------------------------------------------------------------
| Copyright (c) Jupyter Development Team.
| Copyright (c) 2014-2017, PhosphorJS Contributors
|
| Distributed under the terms of the BSD 3-Clause License.
|
| The full license is in the file LICENSE, distributed with this software.
|----------------------------------------------------------------------------*/


/* <DEPRECATED> */ .p-TabPanel-tabBar, /* </DEPRECATED> */
.lm-TabPanel-tabBar {
  z-index: 1;
}


/* <DEPRECATED> */ .p-TabPanel-stackedPanel, /* </DEPRECATED> */
.lm-TabPanel-stackedPanel {
  z-index: 0;
}

/*-----------------------------------------------------------------------------
| Copyright (c) Jupyter Development Team.
| Copyright (c) 2014-2017, PhosphorJS Contributors
|
| Distributed under the terms of the BSD 3-Clause License.
|
| The full license is in the file LICENSE, distributed with this software.
|----------------------------------------------------------------------------*/

@charset "UTF-8";
html{
  -webkit-box-sizing:border-box;
          box-sizing:border-box; }

*,
*::before,
*::after{
  -webkit-box-sizing:inherit;
          box-sizing:inherit; }

body{
  font-size:14px;
  font-weight:400;
  letter-spacing:0;
  line-height:1.28581;
  text-transform:none;
  color:#182026;
  font-family:-apple-system, "BlinkMacSystemFont", "Segoe UI", "Roboto", "Oxygen", "Ubuntu", "Cantarell", "Open Sans", "Helvetica Neue", "Icons16", sans-serif; }

p{
  margin-bottom:10px;
  margin-top:0; }

small{
  font-size:12px; }

strong{
  font-weight:600; }

::-moz-selection{
  background:rgba(125, 188, 255, 0.6); }

::selection{
  background:rgba(125, 188, 255, 0.6); }
.bp3-heading{
  color:#182026;
  font-weight:600;
  margin:0 0 10px;
  padding:0; }
  .bp3-dark .bp3-heading{
    color:#f5f8fa; }

h1.bp3-heading, .bp3-running-text h1{
  font-size:36px;
  line-height:40px; }

h2.bp3-heading, .bp3-running-text h2{
  font-size:28px;
  line-height:32px; }

h3.bp3-heading, .bp3-running-text h3{
  font-size:22px;
  line-height:25px; }

h4.bp3-heading, .bp3-running-text h4{
  font-size:18px;
  line-height:21px; }

h5.bp3-heading, .bp3-running-text h5{
  font-size:16px;
  line-height:19px; }

h6.bp3-heading, .bp3-running-text h6{
  font-size:14px;
  line-height:16px; }
.bp3-ui-text{
  font-size:14px;
  font-weight:400;
  letter-spacing:0;
  line-height:1.28581;
  text-transform:none; }

.bp3-monospace-text{
  font-family:monospace;
  text-transform:none; }

.bp3-text-muted{
  color:#5c7080; }
  .bp3-dark .bp3-text-muted{
    color:#a7b6c2; }

.bp3-text-disabled{
  color:rgba(92, 112, 128, 0.6); }
  .bp3-dark .bp3-text-disabled{
    color:rgba(167, 182, 194, 0.6); }

.bp3-text-overflow-ellipsis{
  overflow:hidden;
  text-overflow:ellipsis;
  white-space:nowrap;
  word-wrap:normal; }
.bp3-running-text{
  font-size:14px;
  line-height:1.5; }
  .bp3-running-text h1{
    color:#182026;
    font-weight:600;
    margin-bottom:20px;
    margin-top:40px; }
    .bp3-dark .bp3-running-text h1{
      color:#f5f8fa; }
  .bp3-running-text h2{
    color:#182026;
    font-weight:600;
    margin-bottom:20px;
    margin-top:40px; }
    .bp3-dark .bp3-running-text h2{
      color:#f5f8fa; }
  .bp3-running-text h3{
    color:#182026;
    font-weight:600;
    margin-bottom:20px;
    margin-top:40px; }
    .bp3-dark .bp3-running-text h3{
      color:#f5f8fa; }
  .bp3-running-text h4{
    color:#182026;
    font-weight:600;
    margin-bottom:20px;
    margin-top:40px; }
    .bp3-dark .bp3-running-text h4{
      color:#f5f8fa; }
  .bp3-running-text h5{
    color:#182026;
    font-weight:600;
    margin-bottom:20px;
    margin-top:40px; }
    .bp3-dark .bp3-running-text h5{
      color:#f5f8fa; }
  .bp3-running-text h6{
    color:#182026;
    font-weight:600;
    margin-bottom:20px;
    margin-top:40px; }
    .bp3-dark .bp3-running-text h6{
      color:#f5f8fa; }
  .bp3-running-text hr{
    border:none;
    border-bottom:1px solid rgba(16, 22, 26, 0.15);
    margin:20px 0; }
    .bp3-dark .bp3-running-text hr{
      border-color:rgba(255, 255, 255, 0.15); }
  .bp3-running-text p{
    margin:0 0 10px;
    padding:0; }

.bp3-text-large{
  font-size:16px; }

.bp3-text-small{
  font-size:12px; }
a{
  color:#106ba3;
  text-decoration:none; }
  a:hover{
    color:#106ba3;
    cursor:pointer;
    text-decoration:underline; }
  a .bp3-icon, a .bp3-icon-standard, a .bp3-icon-large{
    color:inherit; }
  a code,
  .bp3-dark a code{
    color:inherit; }
  .bp3-dark a,
  .bp3-dark a:hover{
    color:#48aff0; }
    .bp3-dark a .bp3-icon, .bp3-dark a .bp3-icon-standard, .bp3-dark a .bp3-icon-large,
    .bp3-dark a:hover .bp3-icon,
    .bp3-dark a:hover .bp3-icon-standard,
    .bp3-dark a:hover .bp3-icon-large{
      color:inherit; }
.bp3-running-text code, .bp3-code{
  font-family:monospace;
  text-transform:none;
  background:rgba(255, 255, 255, 0.7);
  border-radius:3px;
  -webkit-box-shadow:inset 0 0 0 1px rgba(16, 22, 26, 0.2);
          box-shadow:inset 0 0 0 1px rgba(16, 22, 26, 0.2);
  color:#5c7080;
  font-size:smaller;
  padding:2px 5px; }
  .bp3-dark .bp3-running-text code, .bp3-running-text .bp3-dark code, .bp3-dark .bp3-code{
    background:rgba(16, 22, 26, 0.3);
    -webkit-box-shadow:inset 0 0 0 1px rgba(16, 22, 26, 0.4);
            box-shadow:inset 0 0 0 1px rgba(16, 22, 26, 0.4);
    color:#a7b6c2; }
  .bp3-running-text a > code, a > .bp3-code{
    color:#137cbd; }
    .bp3-dark .bp3-running-text a > code, .bp3-running-text .bp3-dark a > code, .bp3-dark a > .bp3-code{
      color:inherit; }

.bp3-running-text pre, .bp3-code-block{
  font-family:monospace;
  text-transform:none;
  background:rgba(255, 255, 255, 0.7);
  border-radius:3px;
  -webkit-box-shadow:inset 0 0 0 1px rgba(16, 22, 26, 0.15);
          box-shadow:inset 0 0 0 1px rgba(16, 22, 26, 0.15);
  color:#182026;
  display:block;
  font-size:13px;
  line-height:1.4;
  margin:10px 0;
  padding:13px 15px 12px;
  word-break:break-all;
  word-wrap:break-word; }
  .bp3-dark .bp3-running-text pre, .bp3-running-text .bp3-dark pre, .bp3-dark .bp3-code-block{
    background:rgba(16, 22, 26, 0.3);
    -webkit-box-shadow:inset 0 0 0 1px rgba(16, 22, 26, 0.4);
            box-shadow:inset 0 0 0 1px rgba(16, 22, 26, 0.4);
    color:#f5f8fa; }
  .bp3-running-text pre > code, .bp3-code-block > code{
    background:none;
    -webkit-box-shadow:none;
            box-shadow:none;
    color:inherit;
    font-size:inherit;
    padding:0; }

.bp3-running-text kbd, .bp3-key{
  -webkit-box-align:center;
      -ms-flex-align:center;
          align-items:center;
  background:#ffffff;
  border-radius:3px;
  -webkit-box-shadow:0 0 0 1px rgba(16, 22, 26, 0.1), 0 0 0 rgba(16, 22, 26, 0), 0 1px 1px rgba(16, 22, 26, 0.2);
          box-shadow:0 0 0 1px rgba(16, 22, 26, 0.1), 0 0 0 rgba(16, 22, 26, 0), 0 1px 1px rgba(16, 22, 26, 0.2);
  color:#5c7080;
  display:-webkit-inline-box;
  display:-ms-inline-flexbox;
  display:inline-flex;
  font-family:inherit;
  font-size:12px;
  height:24px;
  -webkit-box-pack:center;
      -ms-flex-pack:center;
          justify-content:center;
  line-height:24px;
  min-width:24px;
  padding:3px 6px;
  vertical-align:middle; }
  .bp3-running-text kbd .bp3-icon, .bp3-key .bp3-icon, .bp3-running-text kbd .bp3-icon-standard, .bp3-key .bp3-icon-standard, .bp3-running-text kbd .bp3-icon-large, .bp3-key .bp3-icon-large{
    margin-right:5px; }
  .bp3-dark .bp3-running-text kbd, .bp3-running-text .bp3-dark kbd, .bp3-dark .bp3-key{
    background:#394b59;
    -webkit-box-shadow:0 0 0 1px rgba(16, 22, 26, 0.2), 0 0 0 rgba(16, 22, 26, 0), 0 1px 1px rgba(16, 22, 26, 0.4);
            box-shadow:0 0 0 1px rgba(16, 22, 26, 0.2), 0 0 0 rgba(16, 22, 26, 0), 0 1px 1px rgba(16, 22, 26, 0.4);
    color:#a7b6c2; }
.bp3-running-text blockquote, .bp3-blockquote{
  border-left:solid 4px rgba(167, 182, 194, 0.5);
  margin:0 0 10px;
  padding:0 20px; }
  .bp3-dark .bp3-running-text blockquote, .bp3-running-text .bp3-dark blockquote, .bp3-dark .bp3-blockquote{
    border-color:rgba(115, 134, 148, 0.5); }
.bp3-running-text ul,
.bp3-running-text ol, .bp3-list{
  margin:10px 0;
  padding-left:30px; }
  .bp3-running-text ul li:not(:last-child), .bp3-running-text ol li:not(:last-child), .bp3-list li:not(:last-child){
    margin-bottom:5px; }
  .bp3-running-text ul ol, .bp3-running-text ol ol, .bp3-list ol,
  .bp3-running-text ul ul,
  .bp3-running-text ol ul,
  .bp3-list ul{
    margin-top:5px; }

.bp3-list-unstyled{
  list-style:none;
  margin:0;
  padding:0; }
  .bp3-list-unstyled li{
    padding:0; }
.bp3-rtl{
  text-align:right; }

.bp3-dark{
  color:#f5f8fa; }

:focus{
  outline:rgba(19, 124, 189, 0.6) auto 2px;
  outline-offset:2px;
  -moz-outline-radius:6px; }

.bp3-focus-disabled :focus{
  outline:none !important; }
  .bp3-focus-disabled :focus ~ .bp3-control-indicator{
    outline:none !important; }

.bp3-alert{
  max-width:400px;
  padding:20px; }

.bp3-alert-body{
  display:-webkit-box;
  display:-ms-flexbox;
  display:flex; }
  .bp3-alert-body .bp3-icon{
    font-size:40px;
    margin-right:20px;
    margin-top:0; }

.bp3-alert-contents{
  word-break:break-word; }

.bp3-alert-footer{
  display:-webkit-box;
  display:-ms-flexbox;
  display:flex;
  -webkit-box-orient:horizontal;
  -webkit-box-direction:reverse;
      -ms-flex-direction:row-reverse;
          flex-direction:row-reverse;
  margin-top:10px; }
  .bp3-alert-footer .bp3-button{
    margin-left:10px; }
.bp3-breadcrumbs{
  -webkit-box-align:center;
      -ms-flex-align:center;
          align-items:center;
  cursor:default;
  display:-webkit-box;
  display:-ms-flexbox;
  display:flex;
  -ms-flex-wrap:wrap;
      flex-wrap:wrap;
  height:30px;
  list-style:none;
  margin:0;
  padding:0; }
  .bp3-breadcrumbs > li{
    -webkit-box-align:center;
        -ms-flex-align:center;
            align-items:center;
    display:-webkit-box;
    display:-ms-flexbox;
    display:flex; }
    .bp3-breadcrumbs > li::after{
      background:url("data:image/svg+xml,%3csvg xmlns='http://www.w3.org/2000/svg' viewBox='0 0 16 16'%3e%3cpath fill-rule='evenodd' clip-rule='evenodd' d='M10.71 7.29l-4-4a1.003 1.003 0 00-1.42 1.42L8.59 8 5.3 11.29c-.19.18-.3.43-.3.71a1.003 1.003 0 001.71.71l4-4c.18-.18.29-.43.29-.71 0-.28-.11-.53-.29-.71z' fill='%235C7080'/%3e%3c/svg%3e");
      content:"";
      display:block;
      height:16px;
      margin:0 5px;
      width:16px; }
    .bp3-breadcrumbs > li:last-of-type::after{
      display:none; }

.bp3-breadcrumb,
.bp3-breadcrumb-current,
.bp3-breadcrumbs-collapsed{
  -webkit-box-align:center;
      -ms-flex-align:center;
          align-items:center;
  display:-webkit-inline-box;
  display:-ms-inline-flexbox;
  display:inline-flex;
  font-size:16px; }

.bp3-breadcrumb,
.bp3-breadcrumbs-collapsed{
  color:#5c7080; }

.bp3-breadcrumb:hover{
  text-decoration:none; }

.bp3-breadcrumb.bp3-disabled{
  color:rgba(92, 112, 128, 0.6);
  cursor:not-allowed; }

.bp3-breadcrumb .bp3-icon{
  margin-right:5px; }

.bp3-breadcrumb-current{
  color:inherit;
  font-weight:600; }
  .bp3-breadcrumb-current .bp3-input{
    font-size:inherit;
    font-weight:inherit;
    vertical-align:baseline; }

.bp3-breadcrumbs-collapsed{
  background:#ced9e0;
  border:none;
  border-radius:3px;
  cursor:pointer;
  margin-right:2px;
  padding:1px 5px;
  vertical-align:text-bottom; }
  .bp3-breadcrumbs-collapsed::before{
    background:url("data:image/svg+xml,%3csvg xmlns='http://www.w3.org/2000/svg' viewBox='0 0 16 16'%3e%3cg fill='%235C7080'%3e%3ccircle cx='2' cy='8.03' r='2'/%3e%3ccircle cx='14' cy='8.03' r='2'/%3e%3ccircle cx='8' cy='8.03' r='2'/%3e%3c/g%3e%3c/svg%3e") center no-repeat;
    content:"";
    display:block;
    height:16px;
    width:16px; }
  .bp3-breadcrumbs-collapsed:hover{
    background:#bfccd6;
    color:#182026;
    text-decoration:none; }

.bp3-dark .bp3-breadcrumb,
.bp3-dark .bp3-breadcrumbs-collapsed{
  color:#a7b6c2; }

.bp3-dark .bp3-breadcrumbs > li::after{
  color:#a7b6c2; }

.bp3-dark .bp3-breadcrumb.bp3-disabled{
  color:rgba(167, 182, 194, 0.6); }

.bp3-dark .bp3-breadcrumb-current{
  color:#f5f8fa; }

.bp3-dark .bp3-breadcrumbs-collapsed{
  background:rgba(16, 22, 26, 0.4); }
  .bp3-dark .bp3-breadcrumbs-collapsed:hover{
    background:rgba(16, 22, 26, 0.6);
    color:#f5f8fa; }
.bp3-button{
  display:-webkit-inline-box;
  display:-ms-inline-flexbox;
  display:inline-flex;
  -webkit-box-orient:horizontal;
  -webkit-box-direction:normal;
      -ms-flex-direction:row;
          flex-direction:row;
  -webkit-box-align:center;
      -ms-flex-align:center;
          align-items:center;
  border:none;
  border-radius:3px;
  cursor:pointer;
  font-size:14px;
  -webkit-box-pack:center;
      -ms-flex-pack:center;
          justify-content:center;
  padding:5px 10px;
  text-align:left;
  vertical-align:middle;
  min-height:30px;
  min-width:30px; }
  .bp3-button > *{
    -webkit-box-flex:0;
        -ms-flex-positive:0;
            flex-grow:0;
    -ms-flex-negative:0;
        flex-shrink:0; }
  .bp3-button > .bp3-fill{
    -webkit-box-flex:1;
        -ms-flex-positive:1;
            flex-grow:1;
    -ms-flex-negative:1;
        flex-shrink:1; }
  .bp3-button::before,
  .bp3-button > *{
    margin-right:7px; }
  .bp3-button:empty::before,
  .bp3-button > :last-child{
    margin-right:0; }
  .bp3-button:empty{
    padding:0 !important; }
  .bp3-button:disabled, .bp3-button.bp3-disabled{
    cursor:not-allowed; }
  .bp3-button.bp3-fill{
    display:-webkit-box;
    display:-ms-flexbox;
    display:flex;
    width:100%; }
  .bp3-button.bp3-align-right,
  .bp3-align-right .bp3-button{
    text-align:right; }
  .bp3-button.bp3-align-left,
  .bp3-align-left .bp3-button{
    text-align:left; }
  .bp3-button:not([class*="bp3-intent-"]){
    background-color:#f5f8fa;
    background-image:-webkit-gradient(linear, left top, left bottom, from(rgba(255, 255, 255, 0.8)), to(rgba(255, 255, 255, 0)));
    background-image:linear-gradient(to bottom, rgba(255, 255, 255, 0.8), rgba(255, 255, 255, 0));
    -webkit-box-shadow:inset 0 0 0 1px rgba(16, 22, 26, 0.2), inset 0 -1px 0 rgba(16, 22, 26, 0.1);
            box-shadow:inset 0 0 0 1px rgba(16, 22, 26, 0.2), inset 0 -1px 0 rgba(16, 22, 26, 0.1);
    color:#182026; }
    .bp3-button:not([class*="bp3-intent-"]):hover{
      background-clip:padding-box;
      background-color:#ebf1f5;
      -webkit-box-shadow:inset 0 0 0 1px rgba(16, 22, 26, 0.2), inset 0 -1px 0 rgba(16, 22, 26, 0.1);
              box-shadow:inset 0 0 0 1px rgba(16, 22, 26, 0.2), inset 0 -1px 0 rgba(16, 22, 26, 0.1); }
    .bp3-button:not([class*="bp3-intent-"]):active, .bp3-button:not([class*="bp3-intent-"]).bp3-active{
      background-color:#d8e1e8;
      background-image:none;
      -webkit-box-shadow:inset 0 0 0 1px rgba(16, 22, 26, 0.2), inset 0 1px 2px rgba(16, 22, 26, 0.2);
              box-shadow:inset 0 0 0 1px rgba(16, 22, 26, 0.2), inset 0 1px 2px rgba(16, 22, 26, 0.2); }
    .bp3-button:not([class*="bp3-intent-"]):disabled, .bp3-button:not([class*="bp3-intent-"]).bp3-disabled{
      background-color:rgba(206, 217, 224, 0.5);
      background-image:none;
      -webkit-box-shadow:none;
              box-shadow:none;
      color:rgba(92, 112, 128, 0.6);
      cursor:not-allowed;
      outline:none; }
      .bp3-button:not([class*="bp3-intent-"]):disabled.bp3-active, .bp3-button:not([class*="bp3-intent-"]):disabled.bp3-active:hover, .bp3-button:not([class*="bp3-intent-"]).bp3-disabled.bp3-active, .bp3-button:not([class*="bp3-intent-"]).bp3-disabled.bp3-active:hover{
        background:rgba(206, 217, 224, 0.7); }
  .bp3-button.bp3-intent-primary{
    background-color:#137cbd;
    background-image:-webkit-gradient(linear, left top, left bottom, from(rgba(255, 255, 255, 0.1)), to(rgba(255, 255, 255, 0)));
    background-image:linear-gradient(to bottom, rgba(255, 255, 255, 0.1), rgba(255, 255, 255, 0));
    -webkit-box-shadow:inset 0 0 0 1px rgba(16, 22, 26, 0.4), inset 0 -1px 0 rgba(16, 22, 26, 0.2);
            box-shadow:inset 0 0 0 1px rgba(16, 22, 26, 0.4), inset 0 -1px 0 rgba(16, 22, 26, 0.2);
    color:#ffffff; }
    .bp3-button.bp3-intent-primary:hover, .bp3-button.bp3-intent-primary:active, .bp3-button.bp3-intent-primary.bp3-active{
      color:#ffffff; }
    .bp3-button.bp3-intent-primary:hover{
      background-color:#106ba3;
      -webkit-box-shadow:inset 0 0 0 1px rgba(16, 22, 26, 0.4), inset 0 -1px 0 rgba(16, 22, 26, 0.2);
              box-shadow:inset 0 0 0 1px rgba(16, 22, 26, 0.4), inset 0 -1px 0 rgba(16, 22, 26, 0.2); }
    .bp3-button.bp3-intent-primary:active, .bp3-button.bp3-intent-primary.bp3-active{
      background-color:#0e5a8a;
      background-image:none;
      -webkit-box-shadow:inset 0 0 0 1px rgba(16, 22, 26, 0.4), inset 0 1px 2px rgba(16, 22, 26, 0.2);
              box-shadow:inset 0 0 0 1px rgba(16, 22, 26, 0.4), inset 0 1px 2px rgba(16, 22, 26, 0.2); }
    .bp3-button.bp3-intent-primary:disabled, .bp3-button.bp3-intent-primary.bp3-disabled{
      background-color:rgba(19, 124, 189, 0.5);
      background-image:none;
      border-color:transparent;
      -webkit-box-shadow:none;
              box-shadow:none;
      color:rgba(255, 255, 255, 0.6); }
  .bp3-button.bp3-intent-success{
    background-color:#0f9960;
    background-image:-webkit-gradient(linear, left top, left bottom, from(rgba(255, 255, 255, 0.1)), to(rgba(255, 255, 255, 0)));
    background-image:linear-gradient(to bottom, rgba(255, 255, 255, 0.1), rgba(255, 255, 255, 0));
    -webkit-box-shadow:inset 0 0 0 1px rgba(16, 22, 26, 0.4), inset 0 -1px 0 rgba(16, 22, 26, 0.2);
            box-shadow:inset 0 0 0 1px rgba(16, 22, 26, 0.4), inset 0 -1px 0 rgba(16, 22, 26, 0.2);
    color:#ffffff; }
    .bp3-button.bp3-intent-success:hover, .bp3-button.bp3-intent-success:active, .bp3-button.bp3-intent-success.bp3-active{
      color:#ffffff; }
    .bp3-button.bp3-intent-success:hover{
      background-color:#0d8050;
      -webkit-box-shadow:inset 0 0 0 1px rgba(16, 22, 26, 0.4), inset 0 -1px 0 rgba(16, 22, 26, 0.2);
              box-shadow:inset 0 0 0 1px rgba(16, 22, 26, 0.4), inset 0 -1px 0 rgba(16, 22, 26, 0.2); }
    .bp3-button.bp3-intent-success:active, .bp3-button.bp3-intent-success.bp3-active{
      background-color:#0a6640;
      background-image:none;
      -webkit-box-shadow:inset 0 0 0 1px rgba(16, 22, 26, 0.4), inset 0 1px 2px rgba(16, 22, 26, 0.2);
              box-shadow:inset 0 0 0 1px rgba(16, 22, 26, 0.4), inset 0 1px 2px rgba(16, 22, 26, 0.2); }
    .bp3-button.bp3-intent-success:disabled, .bp3-button.bp3-intent-success.bp3-disabled{
      background-color:rgba(15, 153, 96, 0.5);
      background-image:none;
      border-color:transparent;
      -webkit-box-shadow:none;
              box-shadow:none;
      color:rgba(255, 255, 255, 0.6); }
  .bp3-button.bp3-intent-warning{
    background-color:#d9822b;
    background-image:-webkit-gradient(linear, left top, left bottom, from(rgba(255, 255, 255, 0.1)), to(rgba(255, 255, 255, 0)));
    background-image:linear-gradient(to bottom, rgba(255, 255, 255, 0.1), rgba(255, 255, 255, 0));
    -webkit-box-shadow:inset 0 0 0 1px rgba(16, 22, 26, 0.4), inset 0 -1px 0 rgba(16, 22, 26, 0.2);
            box-shadow:inset 0 0 0 1px rgba(16, 22, 26, 0.4), inset 0 -1px 0 rgba(16, 22, 26, 0.2);
    color:#ffffff; }
    .bp3-button.bp3-intent-warning:hover, .bp3-button.bp3-intent-warning:active, .bp3-button.bp3-intent-warning.bp3-active{
      color:#ffffff; }
    .bp3-button.bp3-intent-warning:hover{
      background-color:#bf7326;
      -webkit-box-shadow:inset 0 0 0 1px rgba(16, 22, 26, 0.4), inset 0 -1px 0 rgba(16, 22, 26, 0.2);
              box-shadow:inset 0 0 0 1px rgba(16, 22, 26, 0.4), inset 0 -1px 0 rgba(16, 22, 26, 0.2); }
    .bp3-button.bp3-intent-warning:active, .bp3-button.bp3-intent-warning.bp3-active{
      background-color:#a66321;
      background-image:none;
      -webkit-box-shadow:inset 0 0 0 1px rgba(16, 22, 26, 0.4), inset 0 1px 2px rgba(16, 22, 26, 0.2);
              box-shadow:inset 0 0 0 1px rgba(16, 22, 26, 0.4), inset 0 1px 2px rgba(16, 22, 26, 0.2); }
    .bp3-button.bp3-intent-warning:disabled, .bp3-button.bp3-intent-warning.bp3-disabled{
      background-color:rgba(217, 130, 43, 0.5);
      background-image:none;
      border-color:transparent;
      -webkit-box-shadow:none;
              box-shadow:none;
      color:rgba(255, 255, 255, 0.6); }
  .bp3-button.bp3-intent-danger{
    background-color:#db3737;
    background-image:-webkit-gradient(linear, left top, left bottom, from(rgba(255, 255, 255, 0.1)), to(rgba(255, 255, 255, 0)));
    background-image:linear-gradient(to bottom, rgba(255, 255, 255, 0.1), rgba(255, 255, 255, 0));
    -webkit-box-shadow:inset 0 0 0 1px rgba(16, 22, 26, 0.4), inset 0 -1px 0 rgba(16, 22, 26, 0.2);
            box-shadow:inset 0 0 0 1px rgba(16, 22, 26, 0.4), inset 0 -1px 0 rgba(16, 22, 26, 0.2);
    color:#ffffff; }
    .bp3-button.bp3-intent-danger:hover, .bp3-button.bp3-intent-danger:active, .bp3-button.bp3-intent-danger.bp3-active{
      color:#ffffff; }
    .bp3-button.bp3-intent-danger:hover{
      background-color:#c23030;
      -webkit-box-shadow:inset 0 0 0 1px rgba(16, 22, 26, 0.4), inset 0 -1px 0 rgba(16, 22, 26, 0.2);
              box-shadow:inset 0 0 0 1px rgba(16, 22, 26, 0.4), inset 0 -1px 0 rgba(16, 22, 26, 0.2); }
    .bp3-button.bp3-intent-danger:active, .bp3-button.bp3-intent-danger.bp3-active{
      background-color:#a82a2a;
      background-image:none;
      -webkit-box-shadow:inset 0 0 0 1px rgba(16, 22, 26, 0.4), inset 0 1px 2px rgba(16, 22, 26, 0.2);
              box-shadow:inset 0 0 0 1px rgba(16, 22, 26, 0.4), inset 0 1px 2px rgba(16, 22, 26, 0.2); }
    .bp3-button.bp3-intent-danger:disabled, .bp3-button.bp3-intent-danger.bp3-disabled{
      background-color:rgba(219, 55, 55, 0.5);
      background-image:none;
      border-color:transparent;
      -webkit-box-shadow:none;
              box-shadow:none;
      color:rgba(255, 255, 255, 0.6); }
  .bp3-button[class*="bp3-intent-"] .bp3-button-spinner .bp3-spinner-head{
    stroke:#ffffff; }
  .bp3-button.bp3-large,
  .bp3-large .bp3-button{
    min-height:40px;
    min-width:40px;
    font-size:16px;
    padding:5px 15px; }
    .bp3-button.bp3-large::before,
    .bp3-button.bp3-large > *,
    .bp3-large .bp3-button::before,
    .bp3-large .bp3-button > *{
      margin-right:10px; }
    .bp3-button.bp3-large:empty::before,
    .bp3-button.bp3-large > :last-child,
    .bp3-large .bp3-button:empty::before,
    .bp3-large .bp3-button > :last-child{
      margin-right:0; }
  .bp3-button.bp3-small,
  .bp3-small .bp3-button{
    min-height:24px;
    min-width:24px;
    padding:0 7px; }
  .bp3-button.bp3-loading{
    position:relative; }
    .bp3-button.bp3-loading[class*="bp3-icon-"]::before{
      visibility:hidden; }
    .bp3-button.bp3-loading .bp3-button-spinner{
      margin:0;
      position:absolute; }
    .bp3-button.bp3-loading > :not(.bp3-button-spinner){
      visibility:hidden; }
  .bp3-button[class*="bp3-icon-"]::before{
    font-family:"Icons16", sans-serif;
    font-size:16px;
    font-style:normal;
    font-weight:400;
    line-height:1;
    -moz-osx-font-smoothing:grayscale;
    -webkit-font-smoothing:antialiased;
    color:#5c7080; }
  .bp3-button .bp3-icon, .bp3-button .bp3-icon-standard, .bp3-button .bp3-icon-large{
    color:#5c7080; }
    .bp3-button .bp3-icon.bp3-align-right, .bp3-button .bp3-icon-standard.bp3-align-right, .bp3-button .bp3-icon-large.bp3-align-right{
      margin-left:7px; }
  .bp3-button .bp3-icon:first-child:last-child,
  .bp3-button .bp3-spinner + .bp3-icon:last-child{
    margin:0 -7px; }
  .bp3-dark .bp3-button:not([class*="bp3-intent-"]){
    background-color:#394b59;
    background-image:-webkit-gradient(linear, left top, left bottom, from(rgba(255, 255, 255, 0.05)), to(rgba(255, 255, 255, 0)));
    background-image:linear-gradient(to bottom, rgba(255, 255, 255, 0.05), rgba(255, 255, 255, 0));
    -webkit-box-shadow:0 0 0 1px rgba(16, 22, 26, 0.4);
            box-shadow:0 0 0 1px rgba(16, 22, 26, 0.4);
    color:#f5f8fa; }
    .bp3-dark .bp3-button:not([class*="bp3-intent-"]):hover, .bp3-dark .bp3-button:not([class*="bp3-intent-"]):active, .bp3-dark .bp3-button:not([class*="bp3-intent-"]).bp3-active{
      color:#f5f8fa; }
    .bp3-dark .bp3-button:not([class*="bp3-intent-"]):hover{
      background-color:#30404d;
      -webkit-box-shadow:0 0 0 1px rgba(16, 22, 26, 0.4);
              box-shadow:0 0 0 1px rgba(16, 22, 26, 0.4); }
    .bp3-dark .bp3-button:not([class*="bp3-intent-"]):active, .bp3-dark .bp3-button:not([class*="bp3-intent-"]).bp3-active{
      background-color:#202b33;
      background-image:none;
      -webkit-box-shadow:0 0 0 1px rgba(16, 22, 26, 0.6), inset 0 1px 2px rgba(16, 22, 26, 0.2);
              box-shadow:0 0 0 1px rgba(16, 22, 26, 0.6), inset 0 1px 2px rgba(16, 22, 26, 0.2); }
    .bp3-dark .bp3-button:not([class*="bp3-intent-"]):disabled, .bp3-dark .bp3-button:not([class*="bp3-intent-"]).bp3-disabled{
      background-color:rgba(57, 75, 89, 0.5);
      background-image:none;
      -webkit-box-shadow:none;
              box-shadow:none;
      color:rgba(167, 182, 194, 0.6); }
      .bp3-dark .bp3-button:not([class*="bp3-intent-"]):disabled.bp3-active, .bp3-dark .bp3-button:not([class*="bp3-intent-"]).bp3-disabled.bp3-active{
        background:rgba(57, 75, 89, 0.7); }
    .bp3-dark .bp3-button:not([class*="bp3-intent-"]) .bp3-button-spinner .bp3-spinner-head{
      background:rgba(16, 22, 26, 0.5);
      stroke:#8a9ba8; }
    .bp3-dark .bp3-button:not([class*="bp3-intent-"])[class*="bp3-icon-"]::before{
      color:#a7b6c2; }
    .bp3-dark .bp3-button:not([class*="bp3-intent-"]) .bp3-icon, .bp3-dark .bp3-button:not([class*="bp3-intent-"]) .bp3-icon-standard, .bp3-dark .bp3-button:not([class*="bp3-intent-"]) .bp3-icon-large{
      color:#a7b6c2; }
  .bp3-dark .bp3-button[class*="bp3-intent-"]{
    -webkit-box-shadow:0 0 0 1px rgba(16, 22, 26, 0.4);
            box-shadow:0 0 0 1px rgba(16, 22, 26, 0.4); }
    .bp3-dark .bp3-button[class*="bp3-intent-"]:hover{
      -webkit-box-shadow:0 0 0 1px rgba(16, 22, 26, 0.4);
              box-shadow:0 0 0 1px rgba(16, 22, 26, 0.4); }
    .bp3-dark .bp3-button[class*="bp3-intent-"]:active, .bp3-dark .bp3-button[class*="bp3-intent-"].bp3-active{
      -webkit-box-shadow:0 0 0 1px rgba(16, 22, 26, 0.4), inset 0 1px 2px rgba(16, 22, 26, 0.2);
              box-shadow:0 0 0 1px rgba(16, 22, 26, 0.4), inset 0 1px 2px rgba(16, 22, 26, 0.2); }
    .bp3-dark .bp3-button[class*="bp3-intent-"]:disabled, .bp3-dark .bp3-button[class*="bp3-intent-"].bp3-disabled{
      background-image:none;
      -webkit-box-shadow:none;
              box-shadow:none;
      color:rgba(255, 255, 255, 0.3); }
    .bp3-dark .bp3-button[class*="bp3-intent-"] .bp3-button-spinner .bp3-spinner-head{
      stroke:#8a9ba8; }
  .bp3-button:disabled::before,
  .bp3-button:disabled .bp3-icon, .bp3-button:disabled .bp3-icon-standard, .bp3-button:disabled .bp3-icon-large, .bp3-button.bp3-disabled::before,
  .bp3-button.bp3-disabled .bp3-icon, .bp3-button.bp3-disabled .bp3-icon-standard, .bp3-button.bp3-disabled .bp3-icon-large, .bp3-button[class*="bp3-intent-"]::before,
  .bp3-button[class*="bp3-intent-"] .bp3-icon, .bp3-button[class*="bp3-intent-"] .bp3-icon-standard, .bp3-button[class*="bp3-intent-"] .bp3-icon-large{
    color:inherit !important; }
  .bp3-button.bp3-minimal{
    background:none;
    -webkit-box-shadow:none;
            box-shadow:none; }
    .bp3-button.bp3-minimal:hover{
      background:rgba(167, 182, 194, 0.3);
      -webkit-box-shadow:none;
              box-shadow:none;
      color:#182026;
      text-decoration:none; }
    .bp3-button.bp3-minimal:active, .bp3-button.bp3-minimal.bp3-active{
      background:rgba(115, 134, 148, 0.3);
      -webkit-box-shadow:none;
              box-shadow:none;
      color:#182026; }
    .bp3-button.bp3-minimal:disabled, .bp3-button.bp3-minimal:disabled:hover, .bp3-button.bp3-minimal.bp3-disabled, .bp3-button.bp3-minimal.bp3-disabled:hover{
      background:none;
      color:rgba(92, 112, 128, 0.6);
      cursor:not-allowed; }
      .bp3-button.bp3-minimal:disabled.bp3-active, .bp3-button.bp3-minimal:disabled:hover.bp3-active, .bp3-button.bp3-minimal.bp3-disabled.bp3-active, .bp3-button.bp3-minimal.bp3-disabled:hover.bp3-active{
        background:rgba(115, 134, 148, 0.3); }
    .bp3-dark .bp3-button.bp3-minimal{
      background:none;
      -webkit-box-shadow:none;
              box-shadow:none;
      color:inherit; }
      .bp3-dark .bp3-button.bp3-minimal:hover, .bp3-dark .bp3-button.bp3-minimal:active, .bp3-dark .bp3-button.bp3-minimal.bp3-active{
        background:none;
        -webkit-box-shadow:none;
                box-shadow:none; }
      .bp3-dark .bp3-button.bp3-minimal:hover{
        background:rgba(138, 155, 168, 0.15); }
      .bp3-dark .bp3-button.bp3-minimal:active, .bp3-dark .bp3-button.bp3-minimal.bp3-active{
        background:rgba(138, 155, 168, 0.3);
        color:#f5f8fa; }
      .bp3-dark .bp3-button.bp3-minimal:disabled, .bp3-dark .bp3-button.bp3-minimal:disabled:hover, .bp3-dark .bp3-button.bp3-minimal.bp3-disabled, .bp3-dark .bp3-button.bp3-minimal.bp3-disabled:hover{
        background:none;
        color:rgba(167, 182, 194, 0.6);
        cursor:not-allowed; }
        .bp3-dark .bp3-button.bp3-minimal:disabled.bp3-active, .bp3-dark .bp3-button.bp3-minimal:disabled:hover.bp3-active, .bp3-dark .bp3-button.bp3-minimal.bp3-disabled.bp3-active, .bp3-dark .bp3-button.bp3-minimal.bp3-disabled:hover.bp3-active{
          background:rgba(138, 155, 168, 0.3); }
    .bp3-button.bp3-minimal.bp3-intent-primary{
      color:#106ba3; }
      .bp3-button.bp3-minimal.bp3-intent-primary:hover, .bp3-button.bp3-minimal.bp3-intent-primary:active, .bp3-button.bp3-minimal.bp3-intent-primary.bp3-active{
        background:none;
        -webkit-box-shadow:none;
                box-shadow:none;
        color:#106ba3; }
      .bp3-button.bp3-minimal.bp3-intent-primary:hover{
        background:rgba(19, 124, 189, 0.15);
        color:#106ba3; }
      .bp3-button.bp3-minimal.bp3-intent-primary:active, .bp3-button.bp3-minimal.bp3-intent-primary.bp3-active{
        background:rgba(19, 124, 189, 0.3);
        color:#106ba3; }
      .bp3-button.bp3-minimal.bp3-intent-primary:disabled, .bp3-button.bp3-minimal.bp3-intent-primary.bp3-disabled{
        background:none;
        color:rgba(16, 107, 163, 0.5); }
        .bp3-button.bp3-minimal.bp3-intent-primary:disabled.bp3-active, .bp3-button.bp3-minimal.bp3-intent-primary.bp3-disabled.bp3-active{
          background:rgba(19, 124, 189, 0.3); }
      .bp3-button.bp3-minimal.bp3-intent-primary .bp3-button-spinner .bp3-spinner-head{
        stroke:#106ba3; }
      .bp3-dark .bp3-button.bp3-minimal.bp3-intent-primary{
        color:#48aff0; }
        .bp3-dark .bp3-button.bp3-minimal.bp3-intent-primary:hover{
          background:rgba(19, 124, 189, 0.2);
          color:#48aff0; }
        .bp3-dark .bp3-button.bp3-minimal.bp3-intent-primary:active, .bp3-dark .bp3-button.bp3-minimal.bp3-intent-primary.bp3-active{
          background:rgba(19, 124, 189, 0.3);
          color:#48aff0; }
        .bp3-dark .bp3-button.bp3-minimal.bp3-intent-primary:disabled, .bp3-dark .bp3-button.bp3-minimal.bp3-intent-primary.bp3-disabled{
          background:none;
          color:rgba(72, 175, 240, 0.5); }
          .bp3-dark .bp3-button.bp3-minimal.bp3-intent-primary:disabled.bp3-active, .bp3-dark .bp3-button.bp3-minimal.bp3-intent-primary.bp3-disabled.bp3-active{
            background:rgba(19, 124, 189, 0.3); }
    .bp3-button.bp3-minimal.bp3-intent-success{
      color:#0d8050; }
      .bp3-button.bp3-minimal.bp3-intent-success:hover, .bp3-button.bp3-minimal.bp3-intent-success:active, .bp3-button.bp3-minimal.bp3-intent-success.bp3-active{
        background:none;
        -webkit-box-shadow:none;
                box-shadow:none;
        color:#0d8050; }
      .bp3-button.bp3-minimal.bp3-intent-success:hover{
        background:rgba(15, 153, 96, 0.15);
        color:#0d8050; }
      .bp3-button.bp3-minimal.bp3-intent-success:active, .bp3-button.bp3-minimal.bp3-intent-success.bp3-active{
        background:rgba(15, 153, 96, 0.3);
        color:#0d8050; }
      .bp3-button.bp3-minimal.bp3-intent-success:disabled, .bp3-button.bp3-minimal.bp3-intent-success.bp3-disabled{
        background:none;
        color:rgba(13, 128, 80, 0.5); }
        .bp3-button.bp3-minimal.bp3-intent-success:disabled.bp3-active, .bp3-button.bp3-minimal.bp3-intent-success.bp3-disabled.bp3-active{
          background:rgba(15, 153, 96, 0.3); }
      .bp3-button.bp3-minimal.bp3-intent-success .bp3-button-spinner .bp3-spinner-head{
        stroke:#0d8050; }
      .bp3-dark .bp3-button.bp3-minimal.bp3-intent-success{
        color:#3dcc91; }
        .bp3-dark .bp3-button.bp3-minimal.bp3-intent-success:hover{
          background:rgba(15, 153, 96, 0.2);
          color:#3dcc91; }
        .bp3-dark .bp3-button.bp3-minimal.bp3-intent-success:active, .bp3-dark .bp3-button.bp3-minimal.bp3-intent-success.bp3-active{
          background:rgba(15, 153, 96, 0.3);
          color:#3dcc91; }
        .bp3-dark .bp3-button.bp3-minimal.bp3-intent-success:disabled, .bp3-dark .bp3-button.bp3-minimal.bp3-intent-success.bp3-disabled{
          background:none;
          color:rgba(61, 204, 145, 0.5); }
          .bp3-dark .bp3-button.bp3-minimal.bp3-intent-success:disabled.bp3-active, .bp3-dark .bp3-button.bp3-minimal.bp3-intent-success.bp3-disabled.bp3-active{
            background:rgba(15, 153, 96, 0.3); }
    .bp3-button.bp3-minimal.bp3-intent-warning{
      color:#bf7326; }
      .bp3-button.bp3-minimal.bp3-intent-warning:hover, .bp3-button.bp3-minimal.bp3-intent-warning:active, .bp3-button.bp3-minimal.bp3-intent-warning.bp3-active{
        background:none;
        -webkit-box-shadow:none;
                box-shadow:none;
        color:#bf7326; }
      .bp3-button.bp3-minimal.bp3-intent-warning:hover{
        background:rgba(217, 130, 43, 0.15);
        color:#bf7326; }
      .bp3-button.bp3-minimal.bp3-intent-warning:active, .bp3-button.bp3-minimal.bp3-intent-warning.bp3-active{
        background:rgba(217, 130, 43, 0.3);
        color:#bf7326; }
      .bp3-button.bp3-minimal.bp3-intent-warning:disabled, .bp3-button.bp3-minimal.bp3-intent-warning.bp3-disabled{
        background:none;
        color:rgba(191, 115, 38, 0.5); }
        .bp3-button.bp3-minimal.bp3-intent-warning:disabled.bp3-active, .bp3-button.bp3-minimal.bp3-intent-warning.bp3-disabled.bp3-active{
          background:rgba(217, 130, 43, 0.3); }
      .bp3-button.bp3-minimal.bp3-intent-warning .bp3-button-spinner .bp3-spinner-head{
        stroke:#bf7326; }
      .bp3-dark .bp3-button.bp3-minimal.bp3-intent-warning{
        color:#ffb366; }
        .bp3-dark .bp3-button.bp3-minimal.bp3-intent-warning:hover{
          background:rgba(217, 130, 43, 0.2);
          color:#ffb366; }
        .bp3-dark .bp3-button.bp3-minimal.bp3-intent-warning:active, .bp3-dark .bp3-button.bp3-minimal.bp3-intent-warning.bp3-active{
          background:rgba(217, 130, 43, 0.3);
          color:#ffb366; }
        .bp3-dark .bp3-button.bp3-minimal.bp3-intent-warning:disabled, .bp3-dark .bp3-button.bp3-minimal.bp3-intent-warning.bp3-disabled{
          background:none;
          color:rgba(255, 179, 102, 0.5); }
          .bp3-dark .bp3-button.bp3-minimal.bp3-intent-warning:disabled.bp3-active, .bp3-dark .bp3-button.bp3-minimal.bp3-intent-warning.bp3-disabled.bp3-active{
            background:rgba(217, 130, 43, 0.3); }
    .bp3-button.bp3-minimal.bp3-intent-danger{
      color:#c23030; }
      .bp3-button.bp3-minimal.bp3-intent-danger:hover, .bp3-button.bp3-minimal.bp3-intent-danger:active, .bp3-button.bp3-minimal.bp3-intent-danger.bp3-active{
        background:none;
        -webkit-box-shadow:none;
                box-shadow:none;
        color:#c23030; }
      .bp3-button.bp3-minimal.bp3-intent-danger:hover{
        background:rgba(219, 55, 55, 0.15);
        color:#c23030; }
      .bp3-button.bp3-minimal.bp3-intent-danger:active, .bp3-button.bp3-minimal.bp3-intent-danger.bp3-active{
        background:rgba(219, 55, 55, 0.3);
        color:#c23030; }
      .bp3-button.bp3-minimal.bp3-intent-danger:disabled, .bp3-button.bp3-minimal.bp3-intent-danger.bp3-disabled{
        background:none;
        color:rgba(194, 48, 48, 0.5); }
        .bp3-button.bp3-minimal.bp3-intent-danger:disabled.bp3-active, .bp3-button.bp3-minimal.bp3-intent-danger.bp3-disabled.bp3-active{
          background:rgba(219, 55, 55, 0.3); }
      .bp3-button.bp3-minimal.bp3-intent-danger .bp3-button-spinner .bp3-spinner-head{
        stroke:#c23030; }
      .bp3-dark .bp3-button.bp3-minimal.bp3-intent-danger{
        color:#ff7373; }
        .bp3-dark .bp3-button.bp3-minimal.bp3-intent-danger:hover{
          background:rgba(219, 55, 55, 0.2);
          color:#ff7373; }
        .bp3-dark .bp3-button.bp3-minimal.bp3-intent-danger:active, .bp3-dark .bp3-button.bp3-minimal.bp3-intent-danger.bp3-active{
          background:rgba(219, 55, 55, 0.3);
          color:#ff7373; }
        .bp3-dark .bp3-button.bp3-minimal.bp3-intent-danger:disabled, .bp3-dark .bp3-button.bp3-minimal.bp3-intent-danger.bp3-disabled{
          background:none;
          color:rgba(255, 115, 115, 0.5); }
          .bp3-dark .bp3-button.bp3-minimal.bp3-intent-danger:disabled.bp3-active, .bp3-dark .bp3-button.bp3-minimal.bp3-intent-danger.bp3-disabled.bp3-active{
            background:rgba(219, 55, 55, 0.3); }
  .bp3-button.bp3-outlined{
    background:none;
    -webkit-box-shadow:none;
            box-shadow:none;
    border:1px solid rgba(24, 32, 38, 0.2);
    -webkit-box-sizing:border-box;
            box-sizing:border-box; }
    .bp3-button.bp3-outlined:hover{
      background:rgba(167, 182, 194, 0.3);
      -webkit-box-shadow:none;
              box-shadow:none;
      color:#182026;
      text-decoration:none; }
    .bp3-button.bp3-outlined:active, .bp3-button.bp3-outlined.bp3-active{
      background:rgba(115, 134, 148, 0.3);
      -webkit-box-shadow:none;
              box-shadow:none;
      color:#182026; }
    .bp3-button.bp3-outlined:disabled, .bp3-button.bp3-outlined:disabled:hover, .bp3-button.bp3-outlined.bp3-disabled, .bp3-button.bp3-outlined.bp3-disabled:hover{
      background:none;
      color:rgba(92, 112, 128, 0.6);
      cursor:not-allowed; }
      .bp3-button.bp3-outlined:disabled.bp3-active, .bp3-button.bp3-outlined:disabled:hover.bp3-active, .bp3-button.bp3-outlined.bp3-disabled.bp3-active, .bp3-button.bp3-outlined.bp3-disabled:hover.bp3-active{
        background:rgba(115, 134, 148, 0.3); }
    .bp3-dark .bp3-button.bp3-outlined{
      background:none;
      -webkit-box-shadow:none;
              box-shadow:none;
      color:inherit; }
      .bp3-dark .bp3-button.bp3-outlined:hover, .bp3-dark .bp3-button.bp3-outlined:active, .bp3-dark .bp3-button.bp3-outlined.bp3-active{
        background:none;
        -webkit-box-shadow:none;
                box-shadow:none; }
      .bp3-dark .bp3-button.bp3-outlined:hover{
        background:rgba(138, 155, 168, 0.15); }
      .bp3-dark .bp3-button.bp3-outlined:active, .bp3-dark .bp3-button.bp3-outlined.bp3-active{
        background:rgba(138, 155, 168, 0.3);
        color:#f5f8fa; }
      .bp3-dark .bp3-button.bp3-outlined:disabled, .bp3-dark .bp3-button.bp3-outlined:disabled:hover, .bp3-dark .bp3-button.bp3-outlined.bp3-disabled, .bp3-dark .bp3-button.bp3-outlined.bp3-disabled:hover{
        background:none;
        color:rgba(167, 182, 194, 0.6);
        cursor:not-allowed; }
        .bp3-dark .bp3-button.bp3-outlined:disabled.bp3-active, .bp3-dark .bp3-button.bp3-outlined:disabled:hover.bp3-active, .bp3-dark .bp3-button.bp3-outlined.bp3-disabled.bp3-active, .bp3-dark .bp3-button.bp3-outlined.bp3-disabled:hover.bp3-active{
          background:rgba(138, 155, 168, 0.3); }
    .bp3-button.bp3-outlined.bp3-intent-primary{
      color:#106ba3; }
      .bp3-button.bp3-outlined.bp3-intent-primary:hover, .bp3-button.bp3-outlined.bp3-intent-primary:active, .bp3-button.bp3-outlined.bp3-intent-primary.bp3-active{
        background:none;
        -webkit-box-shadow:none;
                box-shadow:none;
        color:#106ba3; }
      .bp3-button.bp3-outlined.bp3-intent-primary:hover{
        background:rgba(19, 124, 189, 0.15);
        color:#106ba3; }
      .bp3-button.bp3-outlined.bp3-intent-primary:active, .bp3-button.bp3-outlined.bp3-intent-primary.bp3-active{
        background:rgba(19, 124, 189, 0.3);
        color:#106ba3; }
      .bp3-button.bp3-outlined.bp3-intent-primary:disabled, .bp3-button.bp3-outlined.bp3-intent-primary.bp3-disabled{
        background:none;
        color:rgba(16, 107, 163, 0.5); }
        .bp3-button.bp3-outlined.bp3-intent-primary:disabled.bp3-active, .bp3-button.bp3-outlined.bp3-intent-primary.bp3-disabled.bp3-active{
          background:rgba(19, 124, 189, 0.3); }
      .bp3-button.bp3-outlined.bp3-intent-primary .bp3-button-spinner .bp3-spinner-head{
        stroke:#106ba3; }
      .bp3-dark .bp3-button.bp3-outlined.bp3-intent-primary{
        color:#48aff0; }
        .bp3-dark .bp3-button.bp3-outlined.bp3-intent-primary:hover{
          background:rgba(19, 124, 189, 0.2);
          color:#48aff0; }
        .bp3-dark .bp3-button.bp3-outlined.bp3-intent-primary:active, .bp3-dark .bp3-button.bp3-outlined.bp3-intent-primary.bp3-active{
          background:rgba(19, 124, 189, 0.3);
          color:#48aff0; }
        .bp3-dark .bp3-button.bp3-outlined.bp3-intent-primary:disabled, .bp3-dark .bp3-button.bp3-outlined.bp3-intent-primary.bp3-disabled{
          background:none;
          color:rgba(72, 175, 240, 0.5); }
          .bp3-dark .bp3-button.bp3-outlined.bp3-intent-primary:disabled.bp3-active, .bp3-dark .bp3-button.bp3-outlined.bp3-intent-primary.bp3-disabled.bp3-active{
            background:rgba(19, 124, 189, 0.3); }
    .bp3-button.bp3-outlined.bp3-intent-success{
      color:#0d8050; }
      .bp3-button.bp3-outlined.bp3-intent-success:hover, .bp3-button.bp3-outlined.bp3-intent-success:active, .bp3-button.bp3-outlined.bp3-intent-success.bp3-active{
        background:none;
        -webkit-box-shadow:none;
                box-shadow:none;
        color:#0d8050; }
      .bp3-button.bp3-outlined.bp3-intent-success:hover{
        background:rgba(15, 153, 96, 0.15);
        color:#0d8050; }
      .bp3-button.bp3-outlined.bp3-intent-success:active, .bp3-button.bp3-outlined.bp3-intent-success.bp3-active{
        background:rgba(15, 153, 96, 0.3);
        color:#0d8050; }
      .bp3-button.bp3-outlined.bp3-intent-success:disabled, .bp3-button.bp3-outlined.bp3-intent-success.bp3-disabled{
        background:none;
        color:rgba(13, 128, 80, 0.5); }
        .bp3-button.bp3-outlined.bp3-intent-success:disabled.bp3-active, .bp3-button.bp3-outlined.bp3-intent-success.bp3-disabled.bp3-active{
          background:rgba(15, 153, 96, 0.3); }
      .bp3-button.bp3-outlined.bp3-intent-success .bp3-button-spinner .bp3-spinner-head{
        stroke:#0d8050; }
      .bp3-dark .bp3-button.bp3-outlined.bp3-intent-success{
        color:#3dcc91; }
        .bp3-dark .bp3-button.bp3-outlined.bp3-intent-success:hover{
          background:rgba(15, 153, 96, 0.2);
          color:#3dcc91; }
        .bp3-dark .bp3-button.bp3-outlined.bp3-intent-success:active, .bp3-dark .bp3-button.bp3-outlined.bp3-intent-success.bp3-active{
          background:rgba(15, 153, 96, 0.3);
          color:#3dcc91; }
        .bp3-dark .bp3-button.bp3-outlined.bp3-intent-success:disabled, .bp3-dark .bp3-button.bp3-outlined.bp3-intent-success.bp3-disabled{
          background:none;
          color:rgba(61, 204, 145, 0.5); }
          .bp3-dark .bp3-button.bp3-outlined.bp3-intent-success:disabled.bp3-active, .bp3-dark .bp3-button.bp3-outlined.bp3-intent-success.bp3-disabled.bp3-active{
            background:rgba(15, 153, 96, 0.3); }
    .bp3-button.bp3-outlined.bp3-intent-warning{
      color:#bf7326; }
      .bp3-button.bp3-outlined.bp3-intent-warning:hover, .bp3-button.bp3-outlined.bp3-intent-warning:active, .bp3-button.bp3-outlined.bp3-intent-warning.bp3-active{
        background:none;
        -webkit-box-shadow:none;
                box-shadow:none;
        color:#bf7326; }
      .bp3-button.bp3-outlined.bp3-intent-warning:hover{
        background:rgba(217, 130, 43, 0.15);
        color:#bf7326; }
      .bp3-button.bp3-outlined.bp3-intent-warning:active, .bp3-button.bp3-outlined.bp3-intent-warning.bp3-active{
        background:rgba(217, 130, 43, 0.3);
        color:#bf7326; }
      .bp3-button.bp3-outlined.bp3-intent-warning:disabled, .bp3-button.bp3-outlined.bp3-intent-warning.bp3-disabled{
        background:none;
        color:rgba(191, 115, 38, 0.5); }
        .bp3-button.bp3-outlined.bp3-intent-warning:disabled.bp3-active, .bp3-button.bp3-outlined.bp3-intent-warning.bp3-disabled.bp3-active{
          background:rgba(217, 130, 43, 0.3); }
      .bp3-button.bp3-outlined.bp3-intent-warning .bp3-button-spinner .bp3-spinner-head{
        stroke:#bf7326; }
      .bp3-dark .bp3-button.bp3-outlined.bp3-intent-warning{
        color:#ffb366; }
        .bp3-dark .bp3-button.bp3-outlined.bp3-intent-warning:hover{
          background:rgba(217, 130, 43, 0.2);
          color:#ffb366; }
        .bp3-dark .bp3-button.bp3-outlined.bp3-intent-warning:active, .bp3-dark .bp3-button.bp3-outlined.bp3-intent-warning.bp3-active{
          background:rgba(217, 130, 43, 0.3);
          color:#ffb366; }
        .bp3-dark .bp3-button.bp3-outlined.bp3-intent-warning:disabled, .bp3-dark .bp3-button.bp3-outlined.bp3-intent-warning.bp3-disabled{
          background:none;
          color:rgba(255, 179, 102, 0.5); }
          .bp3-dark .bp3-button.bp3-outlined.bp3-intent-warning:disabled.bp3-active, .bp3-dark .bp3-button.bp3-outlined.bp3-intent-warning.bp3-disabled.bp3-active{
            background:rgba(217, 130, 43, 0.3); }
    .bp3-button.bp3-outlined.bp3-intent-danger{
      color:#c23030; }
      .bp3-button.bp3-outlined.bp3-intent-danger:hover, .bp3-button.bp3-outlined.bp3-intent-danger:active, .bp3-button.bp3-outlined.bp3-intent-danger.bp3-active{
        background:none;
        -webkit-box-shadow:none;
                box-shadow:none;
        color:#c23030; }
      .bp3-button.bp3-outlined.bp3-intent-danger:hover{
        background:rgba(219, 55, 55, 0.15);
        color:#c23030; }
      .bp3-button.bp3-outlined.bp3-intent-danger:active, .bp3-button.bp3-outlined.bp3-intent-danger.bp3-active{
        background:rgba(219, 55, 55, 0.3);
        color:#c23030; }
      .bp3-button.bp3-outlined.bp3-intent-danger:disabled, .bp3-button.bp3-outlined.bp3-intent-danger.bp3-disabled{
        background:none;
        color:rgba(194, 48, 48, 0.5); }
        .bp3-button.bp3-outlined.bp3-intent-danger:disabled.bp3-active, .bp3-button.bp3-outlined.bp3-intent-danger.bp3-disabled.bp3-active{
          background:rgba(219, 55, 55, 0.3); }
      .bp3-button.bp3-outlined.bp3-intent-danger .bp3-button-spinner .bp3-spinner-head{
        stroke:#c23030; }
      .bp3-dark .bp3-button.bp3-outlined.bp3-intent-danger{
        color:#ff7373; }
        .bp3-dark .bp3-button.bp3-outlined.bp3-intent-danger:hover{
          background:rgba(219, 55, 55, 0.2);
          color:#ff7373; }
        .bp3-dark .bp3-button.bp3-outlined.bp3-intent-danger:active, .bp3-dark .bp3-button.bp3-outlined.bp3-intent-danger.bp3-active{
          background:rgba(219, 55, 55, 0.3);
          color:#ff7373; }
        .bp3-dark .bp3-button.bp3-outlined.bp3-intent-danger:disabled, .bp3-dark .bp3-button.bp3-outlined.bp3-intent-danger.bp3-disabled{
          background:none;
          color:rgba(255, 115, 115, 0.5); }
          .bp3-dark .bp3-button.bp3-outlined.bp3-intent-danger:disabled.bp3-active, .bp3-dark .bp3-button.bp3-outlined.bp3-intent-danger.bp3-disabled.bp3-active{
            background:rgba(219, 55, 55, 0.3); }
    .bp3-button.bp3-outlined:disabled, .bp3-button.bp3-outlined.bp3-disabled, .bp3-button.bp3-outlined:disabled:hover, .bp3-button.bp3-outlined.bp3-disabled:hover{
      border-color:rgba(92, 112, 128, 0.1); }
    .bp3-dark .bp3-button.bp3-outlined{
      border-color:rgba(255, 255, 255, 0.4); }
      .bp3-dark .bp3-button.bp3-outlined:disabled, .bp3-dark .bp3-button.bp3-outlined:disabled:hover, .bp3-dark .bp3-button.bp3-outlined.bp3-disabled, .bp3-dark .bp3-button.bp3-outlined.bp3-disabled:hover{
        border-color:rgba(255, 255, 255, 0.2); }
    .bp3-button.bp3-outlined.bp3-intent-primary{
      border-color:rgba(16, 107, 163, 0.6); }
      .bp3-button.bp3-outlined.bp3-intent-primary:disabled, .bp3-button.bp3-outlined.bp3-intent-primary.bp3-disabled{
        border-color:rgba(16, 107, 163, 0.2); }
      .bp3-dark .bp3-button.bp3-outlined.bp3-intent-primary{
        border-color:rgba(72, 175, 240, 0.6); }
        .bp3-dark .bp3-button.bp3-outlined.bp3-intent-primary:disabled, .bp3-dark .bp3-button.bp3-outlined.bp3-intent-primary.bp3-disabled{
          border-color:rgba(72, 175, 240, 0.2); }
    .bp3-button.bp3-outlined.bp3-intent-success{
      border-color:rgba(13, 128, 80, 0.6); }
      .bp3-button.bp3-outlined.bp3-intent-success:disabled, .bp3-button.bp3-outlined.bp3-intent-success.bp3-disabled{
        border-color:rgba(13, 128, 80, 0.2); }
      .bp3-dark .bp3-button.bp3-outlined.bp3-intent-success{
        border-color:rgba(61, 204, 145, 0.6); }
        .bp3-dark .bp3-button.bp3-outlined.bp3-intent-success:disabled, .bp3-dark .bp3-button.bp3-outlined.bp3-intent-success.bp3-disabled{
          border-color:rgba(61, 204, 145, 0.2); }
    .bp3-button.bp3-outlined.bp3-intent-warning{
      border-color:rgba(191, 115, 38, 0.6); }
      .bp3-button.bp3-outlined.bp3-intent-warning:disabled, .bp3-button.bp3-outlined.bp3-intent-warning.bp3-disabled{
        border-color:rgba(191, 115, 38, 0.2); }
      .bp3-dark .bp3-button.bp3-outlined.bp3-intent-warning{
        border-color:rgba(255, 179, 102, 0.6); }
        .bp3-dark .bp3-button.bp3-outlined.bp3-intent-warning:disabled, .bp3-dark .bp3-button.bp3-outlined.bp3-intent-warning.bp3-disabled{
          border-color:rgba(255, 179, 102, 0.2); }
    .bp3-button.bp3-outlined.bp3-intent-danger{
      border-color:rgba(194, 48, 48, 0.6); }
      .bp3-button.bp3-outlined.bp3-intent-danger:disabled, .bp3-button.bp3-outlined.bp3-intent-danger.bp3-disabled{
        border-color:rgba(194, 48, 48, 0.2); }
      .bp3-dark .bp3-button.bp3-outlined.bp3-intent-danger{
        border-color:rgba(255, 115, 115, 0.6); }
        .bp3-dark .bp3-button.bp3-outlined.bp3-intent-danger:disabled, .bp3-dark .bp3-button.bp3-outlined.bp3-intent-danger.bp3-disabled{
          border-color:rgba(255, 115, 115, 0.2); }

a.bp3-button{
  text-align:center;
  text-decoration:none;
  -webkit-transition:none;
  transition:none; }
  a.bp3-button, a.bp3-button:hover, a.bp3-button:active{
    color:#182026; }
  a.bp3-button.bp3-disabled{
    color:rgba(92, 112, 128, 0.6); }

.bp3-button-text{
  -webkit-box-flex:0;
      -ms-flex:0 1 auto;
          flex:0 1 auto; }

.bp3-button.bp3-align-left .bp3-button-text, .bp3-button.bp3-align-right .bp3-button-text,
.bp3-button-group.bp3-align-left .bp3-button-text,
.bp3-button-group.bp3-align-right .bp3-button-text{
  -webkit-box-flex:1;
      -ms-flex:1 1 auto;
          flex:1 1 auto; }
.bp3-button-group{
  display:-webkit-inline-box;
  display:-ms-inline-flexbox;
  display:inline-flex; }
  .bp3-button-group .bp3-button{
    -webkit-box-flex:0;
        -ms-flex:0 0 auto;
            flex:0 0 auto;
    position:relative;
    z-index:4; }
    .bp3-button-group .bp3-button:focus{
      z-index:5; }
    .bp3-button-group .bp3-button:hover{
      z-index:6; }
    .bp3-button-group .bp3-button:active, .bp3-button-group .bp3-button.bp3-active{
      z-index:7; }
    .bp3-button-group .bp3-button:disabled, .bp3-button-group .bp3-button.bp3-disabled{
      z-index:3; }
    .bp3-button-group .bp3-button[class*="bp3-intent-"]{
      z-index:9; }
      .bp3-button-group .bp3-button[class*="bp3-intent-"]:focus{
        z-index:10; }
      .bp3-button-group .bp3-button[class*="bp3-intent-"]:hover{
        z-index:11; }
      .bp3-button-group .bp3-button[class*="bp3-intent-"]:active, .bp3-button-group .bp3-button[class*="bp3-intent-"].bp3-active{
        z-index:12; }
      .bp3-button-group .bp3-button[class*="bp3-intent-"]:disabled, .bp3-button-group .bp3-button[class*="bp3-intent-"].bp3-disabled{
        z-index:8; }
  .bp3-button-group:not(.bp3-minimal) > .bp3-popover-wrapper:not(:first-child) .bp3-button,
  .bp3-button-group:not(.bp3-minimal) > .bp3-button:not(:first-child){
    border-bottom-left-radius:0;
    border-top-left-radius:0; }
  .bp3-button-group:not(.bp3-minimal) > .bp3-popover-wrapper:not(:last-child) .bp3-button,
  .bp3-button-group:not(.bp3-minimal) > .bp3-button:not(:last-child){
    border-bottom-right-radius:0;
    border-top-right-radius:0;
    margin-right:-1px; }
  .bp3-button-group.bp3-minimal .bp3-button{
    background:none;
    -webkit-box-shadow:none;
            box-shadow:none; }
    .bp3-button-group.bp3-minimal .bp3-button:hover{
      background:rgba(167, 182, 194, 0.3);
      -webkit-box-shadow:none;
              box-shadow:none;
      color:#182026;
      text-decoration:none; }
    .bp3-button-group.bp3-minimal .bp3-button:active, .bp3-button-group.bp3-minimal .bp3-button.bp3-active{
      background:rgba(115, 134, 148, 0.3);
      -webkit-box-shadow:none;
              box-shadow:none;
      color:#182026; }
    .bp3-button-group.bp3-minimal .bp3-button:disabled, .bp3-button-group.bp3-minimal .bp3-button:disabled:hover, .bp3-button-group.bp3-minimal .bp3-button.bp3-disabled, .bp3-button-group.bp3-minimal .bp3-button.bp3-disabled:hover{
      background:none;
      color:rgba(92, 112, 128, 0.6);
      cursor:not-allowed; }
      .bp3-button-group.bp3-minimal .bp3-button:disabled.bp3-active, .bp3-button-group.bp3-minimal .bp3-button:disabled:hover.bp3-active, .bp3-button-group.bp3-minimal .bp3-button.bp3-disabled.bp3-active, .bp3-button-group.bp3-minimal .bp3-button.bp3-disabled:hover.bp3-active{
        background:rgba(115, 134, 148, 0.3); }
    .bp3-dark .bp3-button-group.bp3-minimal .bp3-button{
      background:none;
      -webkit-box-shadow:none;
              box-shadow:none;
      color:inherit; }
      .bp3-dark .bp3-button-group.bp3-minimal .bp3-button:hover, .bp3-dark .bp3-button-group.bp3-minimal .bp3-button:active, .bp3-dark .bp3-button-group.bp3-minimal .bp3-button.bp3-active{
        background:none;
        -webkit-box-shadow:none;
                box-shadow:none; }
      .bp3-dark .bp3-button-group.bp3-minimal .bp3-button:hover{
        background:rgba(138, 155, 168, 0.15); }
      .bp3-dark .bp3-button-group.bp3-minimal .bp3-button:active, .bp3-dark .bp3-button-group.bp3-minimal .bp3-button.bp3-active{
        background:rgba(138, 155, 168, 0.3);
        color:#f5f8fa; }
      .bp3-dark .bp3-button-group.bp3-minimal .bp3-button:disabled, .bp3-dark .bp3-button-group.bp3-minimal .bp3-button:disabled:hover, .bp3-dark .bp3-button-group.bp3-minimal .bp3-button.bp3-disabled, .bp3-dark .bp3-button-group.bp3-minimal .bp3-button.bp3-disabled:hover{
        background:none;
        color:rgba(167, 182, 194, 0.6);
        cursor:not-allowed; }
        .bp3-dark .bp3-button-group.bp3-minimal .bp3-button:disabled.bp3-active, .bp3-dark .bp3-button-group.bp3-minimal .bp3-button:disabled:hover.bp3-active, .bp3-dark .bp3-button-group.bp3-minimal .bp3-button.bp3-disabled.bp3-active, .bp3-dark .bp3-button-group.bp3-minimal .bp3-button.bp3-disabled:hover.bp3-active{
          background:rgba(138, 155, 168, 0.3); }
    .bp3-button-group.bp3-minimal .bp3-button.bp3-intent-primary{
      color:#106ba3; }
      .bp3-button-group.bp3-minimal .bp3-button.bp3-intent-primary:hover, .bp3-button-group.bp3-minimal .bp3-button.bp3-intent-primary:active, .bp3-button-group.bp3-minimal .bp3-button.bp3-intent-primary.bp3-active{
        background:none;
        -webkit-box-shadow:none;
                box-shadow:none;
        color:#106ba3; }
      .bp3-button-group.bp3-minimal .bp3-button.bp3-intent-primary:hover{
        background:rgba(19, 124, 189, 0.15);
        color:#106ba3; }
      .bp3-button-group.bp3-minimal .bp3-button.bp3-intent-primary:active, .bp3-button-group.bp3-minimal .bp3-button.bp3-intent-primary.bp3-active{
        background:rgba(19, 124, 189, 0.3);
        color:#106ba3; }
      .bp3-button-group.bp3-minimal .bp3-button.bp3-intent-primary:disabled, .bp3-button-group.bp3-minimal .bp3-button.bp3-intent-primary.bp3-disabled{
        background:none;
        color:rgba(16, 107, 163, 0.5); }
        .bp3-button-group.bp3-minimal .bp3-button.bp3-intent-primary:disabled.bp3-active, .bp3-button-group.bp3-minimal .bp3-button.bp3-intent-primary.bp3-disabled.bp3-active{
          background:rgba(19, 124, 189, 0.3); }
      .bp3-button-group.bp3-minimal .bp3-button.bp3-intent-primary .bp3-button-spinner .bp3-spinner-head{
        stroke:#106ba3; }
      .bp3-dark .bp3-button-group.bp3-minimal .bp3-button.bp3-intent-primary{
        color:#48aff0; }
        .bp3-dark .bp3-button-group.bp3-minimal .bp3-button.bp3-intent-primary:hover{
          background:rgba(19, 124, 189, 0.2);
          color:#48aff0; }
        .bp3-dark .bp3-button-group.bp3-minimal .bp3-button.bp3-intent-primary:active, .bp3-dark .bp3-button-group.bp3-minimal .bp3-button.bp3-intent-primary.bp3-active{
          background:rgba(19, 124, 189, 0.3);
          color:#48aff0; }
        .bp3-dark .bp3-button-group.bp3-minimal .bp3-button.bp3-intent-primary:disabled, .bp3-dark .bp3-button-group.bp3-minimal .bp3-button.bp3-intent-primary.bp3-disabled{
          background:none;
          color:rgba(72, 175, 240, 0.5); }
          .bp3-dark .bp3-button-group.bp3-minimal .bp3-button.bp3-intent-primary:disabled.bp3-active, .bp3-dark .bp3-button-group.bp3-minimal .bp3-button.bp3-intent-primary.bp3-disabled.bp3-active{
            background:rgba(19, 124, 189, 0.3); }
    .bp3-button-group.bp3-minimal .bp3-button.bp3-intent-success{
      color:#0d8050; }
      .bp3-button-group.bp3-minimal .bp3-button.bp3-intent-success:hover, .bp3-button-group.bp3-minimal .bp3-button.bp3-intent-success:active, .bp3-button-group.bp3-minimal .bp3-button.bp3-intent-success.bp3-active{
        background:none;
        -webkit-box-shadow:none;
                box-shadow:none;
        color:#0d8050; }
      .bp3-button-group.bp3-minimal .bp3-button.bp3-intent-success:hover{
        background:rgba(15, 153, 96, 0.15);
        color:#0d8050; }
      .bp3-button-group.bp3-minimal .bp3-button.bp3-intent-success:active, .bp3-button-group.bp3-minimal .bp3-button.bp3-intent-success.bp3-active{
        background:rgba(15, 153, 96, 0.3);
        color:#0d8050; }
      .bp3-button-group.bp3-minimal .bp3-button.bp3-intent-success:disabled, .bp3-button-group.bp3-minimal .bp3-button.bp3-intent-success.bp3-disabled{
        background:none;
        color:rgba(13, 128, 80, 0.5); }
        .bp3-button-group.bp3-minimal .bp3-button.bp3-intent-success:disabled.bp3-active, .bp3-button-group.bp3-minimal .bp3-button.bp3-intent-success.bp3-disabled.bp3-active{
          background:rgba(15, 153, 96, 0.3); }
      .bp3-button-group.bp3-minimal .bp3-button.bp3-intent-success .bp3-button-spinner .bp3-spinner-head{
        stroke:#0d8050; }
      .bp3-dark .bp3-button-group.bp3-minimal .bp3-button.bp3-intent-success{
        color:#3dcc91; }
        .bp3-dark .bp3-button-group.bp3-minimal .bp3-button.bp3-intent-success:hover{
          background:rgba(15, 153, 96, 0.2);
          color:#3dcc91; }
        .bp3-dark .bp3-button-group.bp3-minimal .bp3-button.bp3-intent-success:active, .bp3-dark .bp3-button-group.bp3-minimal .bp3-button.bp3-intent-success.bp3-active{
          background:rgba(15, 153, 96, 0.3);
          color:#3dcc91; }
        .bp3-dark .bp3-button-group.bp3-minimal .bp3-button.bp3-intent-success:disabled, .bp3-dark .bp3-button-group.bp3-minimal .bp3-button.bp3-intent-success.bp3-disabled{
          background:none;
          color:rgba(61, 204, 145, 0.5); }
          .bp3-dark .bp3-button-group.bp3-minimal .bp3-button.bp3-intent-success:disabled.bp3-active, .bp3-dark .bp3-button-group.bp3-minimal .bp3-button.bp3-intent-success.bp3-disabled.bp3-active{
            background:rgba(15, 153, 96, 0.3); }
    .bp3-button-group.bp3-minimal .bp3-button.bp3-intent-warning{
      color:#bf7326; }
      .bp3-button-group.bp3-minimal .bp3-button.bp3-intent-warning:hover, .bp3-button-group.bp3-minimal .bp3-button.bp3-intent-warning:active, .bp3-button-group.bp3-minimal .bp3-button.bp3-intent-warning.bp3-active{
        background:none;
        -webkit-box-shadow:none;
                box-shadow:none;
        color:#bf7326; }
      .bp3-button-group.bp3-minimal .bp3-button.bp3-intent-warning:hover{
        background:rgba(217, 130, 43, 0.15);
        color:#bf7326; }
      .bp3-button-group.bp3-minimal .bp3-button.bp3-intent-warning:active, .bp3-button-group.bp3-minimal .bp3-button.bp3-intent-warning.bp3-active{
        background:rgba(217, 130, 43, 0.3);
        color:#bf7326; }
      .bp3-button-group.bp3-minimal .bp3-button.bp3-intent-warning:disabled, .bp3-button-group.bp3-minimal .bp3-button.bp3-intent-warning.bp3-disabled{
        background:none;
        color:rgba(191, 115, 38, 0.5); }
        .bp3-button-group.bp3-minimal .bp3-button.bp3-intent-warning:disabled.bp3-active, .bp3-button-group.bp3-minimal .bp3-button.bp3-intent-warning.bp3-disabled.bp3-active{
          background:rgba(217, 130, 43, 0.3); }
      .bp3-button-group.bp3-minimal .bp3-button.bp3-intent-warning .bp3-button-spinner .bp3-spinner-head{
        stroke:#bf7326; }
      .bp3-dark .bp3-button-group.bp3-minimal .bp3-button.bp3-intent-warning{
        color:#ffb366; }
        .bp3-dark .bp3-button-group.bp3-minimal .bp3-button.bp3-intent-warning:hover{
          background:rgba(217, 130, 43, 0.2);
          color:#ffb366; }
        .bp3-dark .bp3-button-group.bp3-minimal .bp3-button.bp3-intent-warning:active, .bp3-dark .bp3-button-group.bp3-minimal .bp3-button.bp3-intent-warning.bp3-active{
          background:rgba(217, 130, 43, 0.3);
          color:#ffb366; }
        .bp3-dark .bp3-button-group.bp3-minimal .bp3-button.bp3-intent-warning:disabled, .bp3-dark .bp3-button-group.bp3-minimal .bp3-button.bp3-intent-warning.bp3-disabled{
          background:none;
          color:rgba(255, 179, 102, 0.5); }
          .bp3-dark .bp3-button-group.bp3-minimal .bp3-button.bp3-intent-warning:disabled.bp3-active, .bp3-dark .bp3-button-group.bp3-minimal .bp3-button.bp3-intent-warning.bp3-disabled.bp3-active{
            background:rgba(217, 130, 43, 0.3); }
    .bp3-button-group.bp3-minimal .bp3-button.bp3-intent-danger{
      color:#c23030; }
      .bp3-button-group.bp3-minimal .bp3-button.bp3-intent-danger:hover, .bp3-button-group.bp3-minimal .bp3-button.bp3-intent-danger:active, .bp3-button-group.bp3-minimal .bp3-button.bp3-intent-danger.bp3-active{
        background:none;
        -webkit-box-shadow:none;
                box-shadow:none;
        color:#c23030; }
      .bp3-button-group.bp3-minimal .bp3-button.bp3-intent-danger:hover{
        background:rgba(219, 55, 55, 0.15);
        color:#c23030; }
      .bp3-button-group.bp3-minimal .bp3-button.bp3-intent-danger:active, .bp3-button-group.bp3-minimal .bp3-button.bp3-intent-danger.bp3-active{
        background:rgba(219, 55, 55, 0.3);
        color:#c23030; }
      .bp3-button-group.bp3-minimal .bp3-button.bp3-intent-danger:disabled, .bp3-button-group.bp3-minimal .bp3-button.bp3-intent-danger.bp3-disabled{
        background:none;
        color:rgba(194, 48, 48, 0.5); }
        .bp3-button-group.bp3-minimal .bp3-button.bp3-intent-danger:disabled.bp3-active, .bp3-button-group.bp3-minimal .bp3-button.bp3-intent-danger.bp3-disabled.bp3-active{
          background:rgba(219, 55, 55, 0.3); }
      .bp3-button-group.bp3-minimal .bp3-button.bp3-intent-danger .bp3-button-spinner .bp3-spinner-head{
        stroke:#c23030; }
      .bp3-dark .bp3-button-group.bp3-minimal .bp3-button.bp3-intent-danger{
        color:#ff7373; }
        .bp3-dark .bp3-button-group.bp3-minimal .bp3-button.bp3-intent-danger:hover{
          background:rgba(219, 55, 55, 0.2);
          color:#ff7373; }
        .bp3-dark .bp3-button-group.bp3-minimal .bp3-button.bp3-intent-danger:active, .bp3-dark .bp3-button-group.bp3-minimal .bp3-button.bp3-intent-danger.bp3-active{
          background:rgba(219, 55, 55, 0.3);
          color:#ff7373; }
        .bp3-dark .bp3-button-group.bp3-minimal .bp3-button.bp3-intent-danger:disabled, .bp3-dark .bp3-button-group.bp3-minimal .bp3-button.bp3-intent-danger.bp3-disabled{
          background:none;
          color:rgba(255, 115, 115, 0.5); }
          .bp3-dark .bp3-button-group.bp3-minimal .bp3-button.bp3-intent-danger:disabled.bp3-active, .bp3-dark .bp3-button-group.bp3-minimal .bp3-button.bp3-intent-danger.bp3-disabled.bp3-active{
            background:rgba(219, 55, 55, 0.3); }
  .bp3-button-group .bp3-popover-wrapper,
  .bp3-button-group .bp3-popover-target{
    display:-webkit-box;
    display:-ms-flexbox;
    display:flex;
    -webkit-box-flex:1;
        -ms-flex:1 1 auto;
            flex:1 1 auto; }
  .bp3-button-group.bp3-fill{
    display:-webkit-box;
    display:-ms-flexbox;
    display:flex;
    width:100%; }
  .bp3-button-group .bp3-button.bp3-fill,
  .bp3-button-group.bp3-fill .bp3-button:not(.bp3-fixed){
    -webkit-box-flex:1;
        -ms-flex:1 1 auto;
            flex:1 1 auto; }
  .bp3-button-group.bp3-vertical{
    -webkit-box-align:stretch;
        -ms-flex-align:stretch;
            align-items:stretch;
    -webkit-box-orient:vertical;
    -webkit-box-direction:normal;
        -ms-flex-direction:column;
            flex-direction:column;
    vertical-align:top; }
    .bp3-button-group.bp3-vertical.bp3-fill{
      height:100%;
      width:unset; }
    .bp3-button-group.bp3-vertical .bp3-button{
      margin-right:0 !important;
      width:100%; }
    .bp3-button-group.bp3-vertical:not(.bp3-minimal) > .bp3-popover-wrapper:first-child .bp3-button,
    .bp3-button-group.bp3-vertical:not(.bp3-minimal) > .bp3-button:first-child{
      border-radius:3px 3px 0 0; }
    .bp3-button-group.bp3-vertical:not(.bp3-minimal) > .bp3-popover-wrapper:last-child .bp3-button,
    .bp3-button-group.bp3-vertical:not(.bp3-minimal) > .bp3-button:last-child{
      border-radius:0 0 3px 3px; }
    .bp3-button-group.bp3-vertical:not(.bp3-minimal) > .bp3-popover-wrapper:not(:last-child) .bp3-button,
    .bp3-button-group.bp3-vertical:not(.bp3-minimal) > .bp3-button:not(:last-child){
      margin-bottom:-1px; }
  .bp3-button-group.bp3-align-left .bp3-button{
    text-align:left; }
  .bp3-dark .bp3-button-group:not(.bp3-minimal) > .bp3-popover-wrapper:not(:last-child) .bp3-button,
  .bp3-dark .bp3-button-group:not(.bp3-minimal) > .bp3-button:not(:last-child){
    margin-right:1px; }
  .bp3-dark .bp3-button-group.bp3-vertical > .bp3-popover-wrapper:not(:last-child) .bp3-button,
  .bp3-dark .bp3-button-group.bp3-vertical > .bp3-button:not(:last-child){
    margin-bottom:1px; }
.bp3-callout{
  font-size:14px;
  line-height:1.5;
  background-color:rgba(138, 155, 168, 0.15);
  border-radius:3px;
  padding:10px 12px 9px;
  position:relative;
  width:100%; }
  .bp3-callout[class*="bp3-icon-"]{
    padding-left:40px; }
    .bp3-callout[class*="bp3-icon-"]::before{
      font-family:"Icons20", sans-serif;
      font-size:20px;
      font-style:normal;
      font-weight:400;
      line-height:1;
      -moz-osx-font-smoothing:grayscale;
      -webkit-font-smoothing:antialiased;
      color:#5c7080;
      left:10px;
      position:absolute;
      top:10px; }
  .bp3-callout.bp3-callout-icon{
    padding-left:40px; }
    .bp3-callout.bp3-callout-icon > .bp3-icon:first-child{
      color:#5c7080;
      left:10px;
      position:absolute;
      top:10px; }
  .bp3-callout .bp3-heading{
    line-height:20px;
    margin-bottom:5px;
    margin-top:0; }
    .bp3-callout .bp3-heading:last-child{
      margin-bottom:0; }
  .bp3-dark .bp3-callout{
    background-color:rgba(138, 155, 168, 0.2); }
    .bp3-dark .bp3-callout[class*="bp3-icon-"]::before{
      color:#a7b6c2; }
  .bp3-callout.bp3-intent-primary{
    background-color:rgba(19, 124, 189, 0.15); }
    .bp3-callout.bp3-intent-primary[class*="bp3-icon-"]::before,
    .bp3-callout.bp3-intent-primary > .bp3-icon:first-child,
    .bp3-callout.bp3-intent-primary .bp3-heading{
      color:#106ba3; }
    .bp3-dark .bp3-callout.bp3-intent-primary{
      background-color:rgba(19, 124, 189, 0.25); }
      .bp3-dark .bp3-callout.bp3-intent-primary[class*="bp3-icon-"]::before,
      .bp3-dark .bp3-callout.bp3-intent-primary > .bp3-icon:first-child,
      .bp3-dark .bp3-callout.bp3-intent-primary .bp3-heading{
        color:#48aff0; }
  .bp3-callout.bp3-intent-success{
    background-color:rgba(15, 153, 96, 0.15); }
    .bp3-callout.bp3-intent-success[class*="bp3-icon-"]::before,
    .bp3-callout.bp3-intent-success > .bp3-icon:first-child,
    .bp3-callout.bp3-intent-success .bp3-heading{
      color:#0d8050; }
    .bp3-dark .bp3-callout.bp3-intent-success{
      background-color:rgba(15, 153, 96, 0.25); }
      .bp3-dark .bp3-callout.bp3-intent-success[class*="bp3-icon-"]::before,
      .bp3-dark .bp3-callout.bp3-intent-success > .bp3-icon:first-child,
      .bp3-dark .bp3-callout.bp3-intent-success .bp3-heading{
        color:#3dcc91; }
  .bp3-callout.bp3-intent-warning{
    background-color:rgba(217, 130, 43, 0.15); }
    .bp3-callout.bp3-intent-warning[class*="bp3-icon-"]::before,
    .bp3-callout.bp3-intent-warning > .bp3-icon:first-child,
    .bp3-callout.bp3-intent-warning .bp3-heading{
      color:#bf7326; }
    .bp3-dark .bp3-callout.bp3-intent-warning{
      background-color:rgba(217, 130, 43, 0.25); }
      .bp3-dark .bp3-callout.bp3-intent-warning[class*="bp3-icon-"]::before,
      .bp3-dark .bp3-callout.bp3-intent-warning > .bp3-icon:first-child,
      .bp3-dark .bp3-callout.bp3-intent-warning .bp3-heading{
        color:#ffb366; }
  .bp3-callout.bp3-intent-danger{
    background-color:rgba(219, 55, 55, 0.15); }
    .bp3-callout.bp3-intent-danger[class*="bp3-icon-"]::before,
    .bp3-callout.bp3-intent-danger > .bp3-icon:first-child,
    .bp3-callout.bp3-intent-danger .bp3-heading{
      color:#c23030; }
    .bp3-dark .bp3-callout.bp3-intent-danger{
      background-color:rgba(219, 55, 55, 0.25); }
      .bp3-dark .bp3-callout.bp3-intent-danger[class*="bp3-icon-"]::before,
      .bp3-dark .bp3-callout.bp3-intent-danger > .bp3-icon:first-child,
      .bp3-dark .bp3-callout.bp3-intent-danger .bp3-heading{
        color:#ff7373; }
  .bp3-running-text .bp3-callout{
    margin:20px 0; }
.bp3-card{
  background-color:#ffffff;
  border-radius:3px;
  -webkit-box-shadow:0 0 0 1px rgba(16, 22, 26, 0.15), 0 0 0 rgba(16, 22, 26, 0), 0 0 0 rgba(16, 22, 26, 0);
          box-shadow:0 0 0 1px rgba(16, 22, 26, 0.15), 0 0 0 rgba(16, 22, 26, 0), 0 0 0 rgba(16, 22, 26, 0);
  padding:20px;
  -webkit-transition:-webkit-transform 200ms cubic-bezier(0.4, 1, 0.75, 0.9), -webkit-box-shadow 200ms cubic-bezier(0.4, 1, 0.75, 0.9);
  transition:-webkit-transform 200ms cubic-bezier(0.4, 1, 0.75, 0.9), -webkit-box-shadow 200ms cubic-bezier(0.4, 1, 0.75, 0.9);
  transition:transform 200ms cubic-bezier(0.4, 1, 0.75, 0.9), box-shadow 200ms cubic-bezier(0.4, 1, 0.75, 0.9);
  transition:transform 200ms cubic-bezier(0.4, 1, 0.75, 0.9), box-shadow 200ms cubic-bezier(0.4, 1, 0.75, 0.9), -webkit-transform 200ms cubic-bezier(0.4, 1, 0.75, 0.9), -webkit-box-shadow 200ms cubic-bezier(0.4, 1, 0.75, 0.9); }
  .bp3-card.bp3-dark,
  .bp3-dark .bp3-card{
    background-color:#30404d;
    -webkit-box-shadow:0 0 0 1px rgba(16, 22, 26, 0.4), 0 0 0 rgba(16, 22, 26, 0), 0 0 0 rgba(16, 22, 26, 0);
            box-shadow:0 0 0 1px rgba(16, 22, 26, 0.4), 0 0 0 rgba(16, 22, 26, 0), 0 0 0 rgba(16, 22, 26, 0); }

.bp3-elevation-0{
  -webkit-box-shadow:0 0 0 1px rgba(16, 22, 26, 0.15), 0 0 0 rgba(16, 22, 26, 0), 0 0 0 rgba(16, 22, 26, 0);
          box-shadow:0 0 0 1px rgba(16, 22, 26, 0.15), 0 0 0 rgba(16, 22, 26, 0), 0 0 0 rgba(16, 22, 26, 0); }
  .bp3-elevation-0.bp3-dark,
  .bp3-dark .bp3-elevation-0{
    -webkit-box-shadow:0 0 0 1px rgba(16, 22, 26, 0.4), 0 0 0 rgba(16, 22, 26, 0), 0 0 0 rgba(16, 22, 26, 0);
            box-shadow:0 0 0 1px rgba(16, 22, 26, 0.4), 0 0 0 rgba(16, 22, 26, 0), 0 0 0 rgba(16, 22, 26, 0); }

.bp3-elevation-1{
  -webkit-box-shadow:0 0 0 1px rgba(16, 22, 26, 0.1), 0 0 0 rgba(16, 22, 26, 0), 0 1px 1px rgba(16, 22, 26, 0.2);
          box-shadow:0 0 0 1px rgba(16, 22, 26, 0.1), 0 0 0 rgba(16, 22, 26, 0), 0 1px 1px rgba(16, 22, 26, 0.2); }
  .bp3-elevation-1.bp3-dark,
  .bp3-dark .bp3-elevation-1{
    -webkit-box-shadow:0 0 0 1px rgba(16, 22, 26, 0.2), 0 0 0 rgba(16, 22, 26, 0), 0 1px 1px rgba(16, 22, 26, 0.4);
            box-shadow:0 0 0 1px rgba(16, 22, 26, 0.2), 0 0 0 rgba(16, 22, 26, 0), 0 1px 1px rgba(16, 22, 26, 0.4); }

.bp3-elevation-2{
  -webkit-box-shadow:0 0 0 1px rgba(16, 22, 26, 0.1), 0 1px 1px rgba(16, 22, 26, 0.2), 0 2px 6px rgba(16, 22, 26, 0.2);
          box-shadow:0 0 0 1px rgba(16, 22, 26, 0.1), 0 1px 1px rgba(16, 22, 26, 0.2), 0 2px 6px rgba(16, 22, 26, 0.2); }
  .bp3-elevation-2.bp3-dark,
  .bp3-dark .bp3-elevation-2{
    -webkit-box-shadow:0 0 0 1px rgba(16, 22, 26, 0.2), 0 1px 1px rgba(16, 22, 26, 0.4), 0 2px 6px rgba(16, 22, 26, 0.4);
            box-shadow:0 0 0 1px rgba(16, 22, 26, 0.2), 0 1px 1px rgba(16, 22, 26, 0.4), 0 2px 6px rgba(16, 22, 26, 0.4); }

.bp3-elevation-3{
  -webkit-box-shadow:0 0 0 1px rgba(16, 22, 26, 0.1), 0 2px 4px rgba(16, 22, 26, 0.2), 0 8px 24px rgba(16, 22, 26, 0.2);
          box-shadow:0 0 0 1px rgba(16, 22, 26, 0.1), 0 2px 4px rgba(16, 22, 26, 0.2), 0 8px 24px rgba(16, 22, 26, 0.2); }
  .bp3-elevation-3.bp3-dark,
  .bp3-dark .bp3-elevation-3{
    -webkit-box-shadow:0 0 0 1px rgba(16, 22, 26, 0.2), 0 2px 4px rgba(16, 22, 26, 0.4), 0 8px 24px rgba(16, 22, 26, 0.4);
            box-shadow:0 0 0 1px rgba(16, 22, 26, 0.2), 0 2px 4px rgba(16, 22, 26, 0.4), 0 8px 24px rgba(16, 22, 26, 0.4); }

.bp3-elevation-4{
  -webkit-box-shadow:0 0 0 1px rgba(16, 22, 26, 0.1), 0 4px 8px rgba(16, 22, 26, 0.2), 0 18px 46px 6px rgba(16, 22, 26, 0.2);
          box-shadow:0 0 0 1px rgba(16, 22, 26, 0.1), 0 4px 8px rgba(16, 22, 26, 0.2), 0 18px 46px 6px rgba(16, 22, 26, 0.2); }
  .bp3-elevation-4.bp3-dark,
  .bp3-dark .bp3-elevation-4{
    -webkit-box-shadow:0 0 0 1px rgba(16, 22, 26, 0.2), 0 4px 8px rgba(16, 22, 26, 0.4), 0 18px 46px 6px rgba(16, 22, 26, 0.4);
            box-shadow:0 0 0 1px rgba(16, 22, 26, 0.2), 0 4px 8px rgba(16, 22, 26, 0.4), 0 18px 46px 6px rgba(16, 22, 26, 0.4); }

.bp3-card.bp3-interactive:hover{
  -webkit-box-shadow:0 0 0 1px rgba(16, 22, 26, 0.1), 0 2px 4px rgba(16, 22, 26, 0.2), 0 8px 24px rgba(16, 22, 26, 0.2);
          box-shadow:0 0 0 1px rgba(16, 22, 26, 0.1), 0 2px 4px rgba(16, 22, 26, 0.2), 0 8px 24px rgba(16, 22, 26, 0.2);
  cursor:pointer; }
  .bp3-card.bp3-interactive:hover.bp3-dark,
  .bp3-dark .bp3-card.bp3-interactive:hover{
    -webkit-box-shadow:0 0 0 1px rgba(16, 22, 26, 0.2), 0 2px 4px rgba(16, 22, 26, 0.4), 0 8px 24px rgba(16, 22, 26, 0.4);
            box-shadow:0 0 0 1px rgba(16, 22, 26, 0.2), 0 2px 4px rgba(16, 22, 26, 0.4), 0 8px 24px rgba(16, 22, 26, 0.4); }

.bp3-card.bp3-interactive:active{
  -webkit-box-shadow:0 0 0 1px rgba(16, 22, 26, 0.1), 0 0 0 rgba(16, 22, 26, 0), 0 1px 1px rgba(16, 22, 26, 0.2);
          box-shadow:0 0 0 1px rgba(16, 22, 26, 0.1), 0 0 0 rgba(16, 22, 26, 0), 0 1px 1px rgba(16, 22, 26, 0.2);
  opacity:0.9;
  -webkit-transition-duration:0;
          transition-duration:0; }
  .bp3-card.bp3-interactive:active.bp3-dark,
  .bp3-dark .bp3-card.bp3-interactive:active{
    -webkit-box-shadow:0 0 0 1px rgba(16, 22, 26, 0.2), 0 0 0 rgba(16, 22, 26, 0), 0 1px 1px rgba(16, 22, 26, 0.4);
            box-shadow:0 0 0 1px rgba(16, 22, 26, 0.2), 0 0 0 rgba(16, 22, 26, 0), 0 1px 1px rgba(16, 22, 26, 0.4); }

.bp3-collapse{
  height:0;
  overflow-y:hidden;
  -webkit-transition:height 200ms cubic-bezier(0.4, 1, 0.75, 0.9);
  transition:height 200ms cubic-bezier(0.4, 1, 0.75, 0.9); }
  .bp3-collapse .bp3-collapse-body{
    -webkit-transition:-webkit-transform 200ms cubic-bezier(0.4, 1, 0.75, 0.9);
    transition:-webkit-transform 200ms cubic-bezier(0.4, 1, 0.75, 0.9);
    transition:transform 200ms cubic-bezier(0.4, 1, 0.75, 0.9);
    transition:transform 200ms cubic-bezier(0.4, 1, 0.75, 0.9), -webkit-transform 200ms cubic-bezier(0.4, 1, 0.75, 0.9); }
    .bp3-collapse .bp3-collapse-body[aria-hidden="true"]{
      display:none; }

.bp3-context-menu .bp3-popover-target{
  display:block; }

.bp3-context-menu-popover-target{
  position:fixed; }

.bp3-divider{
  border-bottom:1px solid rgba(16, 22, 26, 0.15);
  border-right:1px solid rgba(16, 22, 26, 0.15);
  margin:5px; }
  .bp3-dark .bp3-divider{
    border-color:rgba(16, 22, 26, 0.4); }
.bp3-dialog-container{
  opacity:1;
  -webkit-transform:scale(1);
          transform:scale(1);
  -webkit-box-align:center;
      -ms-flex-align:center;
          align-items:center;
  display:-webkit-box;
  display:-ms-flexbox;
  display:flex;
  -webkit-box-pack:center;
      -ms-flex-pack:center;
          justify-content:center;
  min-height:100%;
  pointer-events:none;
  -webkit-user-select:none;
     -moz-user-select:none;
      -ms-user-select:none;
          user-select:none;
  width:100%; }
  .bp3-dialog-container.bp3-overlay-enter > .bp3-dialog, .bp3-dialog-container.bp3-overlay-appear > .bp3-dialog{
    opacity:0;
    -webkit-transform:scale(0.5);
            transform:scale(0.5); }
  .bp3-dialog-container.bp3-overlay-enter-active > .bp3-dialog, .bp3-dialog-container.bp3-overlay-appear-active > .bp3-dialog{
    opacity:1;
    -webkit-transform:scale(1);
            transform:scale(1);
    -webkit-transition-delay:0;
            transition-delay:0;
    -webkit-transition-duration:300ms;
            transition-duration:300ms;
    -webkit-transition-property:opacity, -webkit-transform;
    transition-property:opacity, -webkit-transform;
    transition-property:opacity, transform;
    transition-property:opacity, transform, -webkit-transform;
    -webkit-transition-timing-function:cubic-bezier(0.54, 1.12, 0.38, 1.11);
            transition-timing-function:cubic-bezier(0.54, 1.12, 0.38, 1.11); }
  .bp3-dialog-container.bp3-overlay-exit > .bp3-dialog{
    opacity:1;
    -webkit-transform:scale(1);
            transform:scale(1); }
  .bp3-dialog-container.bp3-overlay-exit-active > .bp3-dialog{
    opacity:0;
    -webkit-transform:scale(0.5);
            transform:scale(0.5);
    -webkit-transition-delay:0;
            transition-delay:0;
    -webkit-transition-duration:300ms;
            transition-duration:300ms;
    -webkit-transition-property:opacity, -webkit-transform;
    transition-property:opacity, -webkit-transform;
    transition-property:opacity, transform;
    transition-property:opacity, transform, -webkit-transform;
    -webkit-transition-timing-function:cubic-bezier(0.54, 1.12, 0.38, 1.11);
            transition-timing-function:cubic-bezier(0.54, 1.12, 0.38, 1.11); }

.bp3-dialog{
  background:#ebf1f5;
  border-radius:6px;
  -webkit-box-shadow:0 0 0 1px rgba(16, 22, 26, 0.1), 0 4px 8px rgba(16, 22, 26, 0.2), 0 18px 46px 6px rgba(16, 22, 26, 0.2);
          box-shadow:0 0 0 1px rgba(16, 22, 26, 0.1), 0 4px 8px rgba(16, 22, 26, 0.2), 0 18px 46px 6px rgba(16, 22, 26, 0.2);
  display:-webkit-box;
  display:-ms-flexbox;
  display:flex;
  -webkit-box-orient:vertical;
  -webkit-box-direction:normal;
      -ms-flex-direction:column;
          flex-direction:column;
  margin:30px 0;
  padding-bottom:20px;
  pointer-events:all;
  -webkit-user-select:text;
     -moz-user-select:text;
      -ms-user-select:text;
          user-select:text;
  width:500px; }
  .bp3-dialog:focus{
    outline:0; }
  .bp3-dialog.bp3-dark,
  .bp3-dark .bp3-dialog{
    background:#293742;
    -webkit-box-shadow:0 0 0 1px rgba(16, 22, 26, 0.2), 0 4px 8px rgba(16, 22, 26, 0.4), 0 18px 46px 6px rgba(16, 22, 26, 0.4);
            box-shadow:0 0 0 1px rgba(16, 22, 26, 0.2), 0 4px 8px rgba(16, 22, 26, 0.4), 0 18px 46px 6px rgba(16, 22, 26, 0.4);
    color:#f5f8fa; }

.bp3-dialog-header{
  -webkit-box-align:center;
      -ms-flex-align:center;
          align-items:center;
  background:#ffffff;
  border-radius:6px 6px 0 0;
  -webkit-box-shadow:0 1px 0 rgba(16, 22, 26, 0.15);
          box-shadow:0 1px 0 rgba(16, 22, 26, 0.15);
  display:-webkit-box;
  display:-ms-flexbox;
  display:flex;
  -webkit-box-flex:0;
      -ms-flex:0 0 auto;
          flex:0 0 auto;
  min-height:40px;
  padding-left:20px;
  padding-right:5px;
  z-index:30; }
  .bp3-dialog-header .bp3-icon-large,
  .bp3-dialog-header .bp3-icon{
    color:#5c7080;
    -webkit-box-flex:0;
        -ms-flex:0 0 auto;
            flex:0 0 auto;
    margin-right:10px; }
  .bp3-dialog-header .bp3-heading{
    overflow:hidden;
    text-overflow:ellipsis;
    white-space:nowrap;
    word-wrap:normal;
    -webkit-box-flex:1;
        -ms-flex:1 1 auto;
            flex:1 1 auto;
    line-height:inherit;
    margin:0; }
    .bp3-dialog-header .bp3-heading:last-child{
      margin-right:20px; }
  .bp3-dark .bp3-dialog-header{
    background:#30404d;
    -webkit-box-shadow:0 1px 0 rgba(16, 22, 26, 0.4);
            box-shadow:0 1px 0 rgba(16, 22, 26, 0.4); }
    .bp3-dark .bp3-dialog-header .bp3-icon-large,
    .bp3-dark .bp3-dialog-header .bp3-icon{
      color:#a7b6c2; }

.bp3-dialog-body{
  -webkit-box-flex:1;
      -ms-flex:1 1 auto;
          flex:1 1 auto;
  line-height:18px;
  margin:20px; }

.bp3-dialog-footer{
  -webkit-box-flex:0;
      -ms-flex:0 0 auto;
          flex:0 0 auto;
  margin:0 20px; }

.bp3-dialog-footer-actions{
  display:-webkit-box;
  display:-ms-flexbox;
  display:flex;
  -webkit-box-pack:end;
      -ms-flex-pack:end;
          justify-content:flex-end; }
  .bp3-dialog-footer-actions .bp3-button{
    margin-left:10px; }
.bp3-multistep-dialog-panels{
  display:-webkit-box;
  display:-ms-flexbox;
  display:flex; }

.bp3-multistep-dialog-left-panel{
  display:-webkit-box;
  display:-ms-flexbox;
  display:flex;
  -webkit-box-flex:1;
      -ms-flex:1;
          flex:1;
  -webkit-box-orient:vertical;
  -webkit-box-direction:normal;
      -ms-flex-direction:column;
          flex-direction:column; }
  .bp3-dark .bp3-multistep-dialog-left-panel{
    background:#202b33; }

.bp3-multistep-dialog-right-panel{
  background-color:#f5f8fa;
  border-left:1px solid rgba(16, 22, 26, 0.15);
  border-radius:0 0 6px 0;
  -webkit-box-flex:3;
      -ms-flex:3;
          flex:3;
  min-width:0; }
  .bp3-dark .bp3-multistep-dialog-right-panel{
    background-color:#293742;
    border-left:1px solid rgba(16, 22, 26, 0.4); }

.bp3-multistep-dialog-footer{
  background-color:#ffffff;
  border-radius:0 0 6px 0;
  border-top:1px solid rgba(16, 22, 26, 0.15);
  padding:10px; }
  .bp3-dark .bp3-multistep-dialog-footer{
    background:#30404d;
    border-top:1px solid rgba(16, 22, 26, 0.4); }

.bp3-dialog-step-container{
  background-color:#f5f8fa;
  border-bottom:1px solid rgba(16, 22, 26, 0.15); }
  .bp3-dark .bp3-dialog-step-container{
    background:#293742;
    border-bottom:1px solid rgba(16, 22, 26, 0.4); }
  .bp3-dialog-step-container.bp3-dialog-step-viewed{
    background-color:#ffffff; }
    .bp3-dark .bp3-dialog-step-container.bp3-dialog-step-viewed{
      background:#30404d; }

.bp3-dialog-step{
  -webkit-box-align:center;
      -ms-flex-align:center;
          align-items:center;
  background-color:#f5f8fa;
  border-radius:6px;
  cursor:not-allowed;
  display:-webkit-box;
  display:-ms-flexbox;
  display:flex;
  margin:4px;
  padding:6px 14px; }
  .bp3-dark .bp3-dialog-step{
    background:#293742; }
  .bp3-dialog-step-viewed .bp3-dialog-step{
    background-color:#ffffff;
    cursor:pointer; }
    .bp3-dark .bp3-dialog-step-viewed .bp3-dialog-step{
      background:#30404d; }
  .bp3-dialog-step:hover{
    background-color:#f5f8fa; }
    .bp3-dark .bp3-dialog-step:hover{
      background:#293742; }

.bp3-dialog-step-icon{
  -webkit-box-align:center;
      -ms-flex-align:center;
          align-items:center;
  background-color:rgba(92, 112, 128, 0.6);
  border-radius:50%;
  color:#ffffff;
  display:-webkit-box;
  display:-ms-flexbox;
  display:flex;
  height:25px;
  -webkit-box-pack:center;
      -ms-flex-pack:center;
          justify-content:center;
  width:25px; }
  .bp3-dark .bp3-dialog-step-icon{
    background-color:rgba(167, 182, 194, 0.6); }
  .bp3-active.bp3-dialog-step-viewed .bp3-dialog-step-icon{
    background-color:#2b95d6; }
  .bp3-dialog-step-viewed .bp3-dialog-step-icon{
    background-color:#8a9ba8; }

.bp3-dialog-step-title{
  color:rgba(92, 112, 128, 0.6);
  -webkit-box-flex:1;
      -ms-flex:1;
          flex:1;
  padding-left:10px; }
  .bp3-dark .bp3-dialog-step-title{
    color:rgba(167, 182, 194, 0.6); }
  .bp3-active.bp3-dialog-step-viewed .bp3-dialog-step-title{
    color:#2b95d6; }
  .bp3-dialog-step-viewed:not(.bp3-active) .bp3-dialog-step-title{
    color:#182026; }
    .bp3-dark .bp3-dialog-step-viewed:not(.bp3-active) .bp3-dialog-step-title{
      color:#f5f8fa; }
.bp3-drawer{
  background:#ffffff;
  -webkit-box-shadow:0 0 0 1px rgba(16, 22, 26, 0.1), 0 4px 8px rgba(16, 22, 26, 0.2), 0 18px 46px 6px rgba(16, 22, 26, 0.2);
          box-shadow:0 0 0 1px rgba(16, 22, 26, 0.1), 0 4px 8px rgba(16, 22, 26, 0.2), 0 18px 46px 6px rgba(16, 22, 26, 0.2);
  display:-webkit-box;
  display:-ms-flexbox;
  display:flex;
  -webkit-box-orient:vertical;
  -webkit-box-direction:normal;
      -ms-flex-direction:column;
          flex-direction:column;
  margin:0;
  padding:0; }
  .bp3-drawer:focus{
    outline:0; }
  .bp3-drawer.bp3-position-top{
    height:50%;
    left:0;
    right:0;
    top:0; }
    .bp3-drawer.bp3-position-top.bp3-overlay-enter, .bp3-drawer.bp3-position-top.bp3-overlay-appear{
      -webkit-transform:translateY(-100%);
              transform:translateY(-100%); }
    .bp3-drawer.bp3-position-top.bp3-overlay-enter-active, .bp3-drawer.bp3-position-top.bp3-overlay-appear-active{
      -webkit-transform:translateY(0);
              transform:translateY(0);
      -webkit-transition-delay:0;
              transition-delay:0;
      -webkit-transition-duration:200ms;
              transition-duration:200ms;
      -webkit-transition-property:-webkit-transform;
      transition-property:-webkit-transform;
      transition-property:transform;
      transition-property:transform, -webkit-transform;
      -webkit-transition-timing-function:cubic-bezier(0.4, 1, 0.75, 0.9);
              transition-timing-function:cubic-bezier(0.4, 1, 0.75, 0.9); }
    .bp3-drawer.bp3-position-top.bp3-overlay-exit{
      -webkit-transform:translateY(0);
              transform:translateY(0); }
    .bp3-drawer.bp3-position-top.bp3-overlay-exit-active{
      -webkit-transform:translateY(-100%);
              transform:translateY(-100%);
      -webkit-transition-delay:0;
              transition-delay:0;
      -webkit-transition-duration:100ms;
              transition-duration:100ms;
      -webkit-transition-property:-webkit-transform;
      transition-property:-webkit-transform;
      transition-property:transform;
      transition-property:transform, -webkit-transform;
      -webkit-transition-timing-function:cubic-bezier(0.4, 1, 0.75, 0.9);
              transition-timing-function:cubic-bezier(0.4, 1, 0.75, 0.9); }
  .bp3-drawer.bp3-position-bottom{
    bottom:0;
    height:50%;
    left:0;
    right:0; }
    .bp3-drawer.bp3-position-bottom.bp3-overlay-enter, .bp3-drawer.bp3-position-bottom.bp3-overlay-appear{
      -webkit-transform:translateY(100%);
              transform:translateY(100%); }
    .bp3-drawer.bp3-position-bottom.bp3-overlay-enter-active, .bp3-drawer.bp3-position-bottom.bp3-overlay-appear-active{
      -webkit-transform:translateY(0);
              transform:translateY(0);
      -webkit-transition-delay:0;
              transition-delay:0;
      -webkit-transition-duration:200ms;
              transition-duration:200ms;
      -webkit-transition-property:-webkit-transform;
      transition-property:-webkit-transform;
      transition-property:transform;
      transition-property:transform, -webkit-transform;
      -webkit-transition-timing-function:cubic-bezier(0.4, 1, 0.75, 0.9);
              transition-timing-function:cubic-bezier(0.4, 1, 0.75, 0.9); }
    .bp3-drawer.bp3-position-bottom.bp3-overlay-exit{
      -webkit-transform:translateY(0);
              transform:translateY(0); }
    .bp3-drawer.bp3-position-bottom.bp3-overlay-exit-active{
      -webkit-transform:translateY(100%);
              transform:translateY(100%);
      -webkit-transition-delay:0;
              transition-delay:0;
      -webkit-transition-duration:100ms;
              transition-duration:100ms;
      -webkit-transition-property:-webkit-transform;
      transition-property:-webkit-transform;
      transition-property:transform;
      transition-property:transform, -webkit-transform;
      -webkit-transition-timing-function:cubic-bezier(0.4, 1, 0.75, 0.9);
              transition-timing-function:cubic-bezier(0.4, 1, 0.75, 0.9); }
  .bp3-drawer.bp3-position-left{
    bottom:0;
    left:0;
    top:0;
    width:50%; }
    .bp3-drawer.bp3-position-left.bp3-overlay-enter, .bp3-drawer.bp3-position-left.bp3-overlay-appear{
      -webkit-transform:translateX(-100%);
              transform:translateX(-100%); }
    .bp3-drawer.bp3-position-left.bp3-overlay-enter-active, .bp3-drawer.bp3-position-left.bp3-overlay-appear-active{
      -webkit-transform:translateX(0);
              transform:translateX(0);
      -webkit-transition-delay:0;
              transition-delay:0;
      -webkit-transition-duration:200ms;
              transition-duration:200ms;
      -webkit-transition-property:-webkit-transform;
      transition-property:-webkit-transform;
      transition-property:transform;
      transition-property:transform, -webkit-transform;
      -webkit-transition-timing-function:cubic-bezier(0.4, 1, 0.75, 0.9);
              transition-timing-function:cubic-bezier(0.4, 1, 0.75, 0.9); }
    .bp3-drawer.bp3-position-left.bp3-overlay-exit{
      -webkit-transform:translateX(0);
              transform:translateX(0); }
    .bp3-drawer.bp3-position-left.bp3-overlay-exit-active{
      -webkit-transform:translateX(-100%);
              transform:translateX(-100%);
      -webkit-transition-delay:0;
              transition-delay:0;
      -webkit-transition-duration:100ms;
              transition-duration:100ms;
      -webkit-transition-property:-webkit-transform;
      transition-property:-webkit-transform;
      transition-property:transform;
      transition-property:transform, -webkit-transform;
      -webkit-transition-timing-function:cubic-bezier(0.4, 1, 0.75, 0.9);
              transition-timing-function:cubic-bezier(0.4, 1, 0.75, 0.9); }
  .bp3-drawer.bp3-position-right{
    bottom:0;
    right:0;
    top:0;
    width:50%; }
    .bp3-drawer.bp3-position-right.bp3-overlay-enter, .bp3-drawer.bp3-position-right.bp3-overlay-appear{
      -webkit-transform:translateX(100%);
              transform:translateX(100%); }
    .bp3-drawer.bp3-position-right.bp3-overlay-enter-active, .bp3-drawer.bp3-position-right.bp3-overlay-appear-active{
      -webkit-transform:translateX(0);
              transform:translateX(0);
      -webkit-transition-delay:0;
              transition-delay:0;
      -webkit-transition-duration:200ms;
              transition-duration:200ms;
      -webkit-transition-property:-webkit-transform;
      transition-property:-webkit-transform;
      transition-property:transform;
      transition-property:transform, -webkit-transform;
      -webkit-transition-timing-function:cubic-bezier(0.4, 1, 0.75, 0.9);
              transition-timing-function:cubic-bezier(0.4, 1, 0.75, 0.9); }
    .bp3-drawer.bp3-position-right.bp3-overlay-exit{
      -webkit-transform:translateX(0);
              transform:translateX(0); }
    .bp3-drawer.bp3-position-right.bp3-overlay-exit-active{
      -webkit-transform:translateX(100%);
              transform:translateX(100%);
      -webkit-transition-delay:0;
              transition-delay:0;
      -webkit-transition-duration:100ms;
              transition-duration:100ms;
      -webkit-transition-property:-webkit-transform;
      transition-property:-webkit-transform;
      transition-property:transform;
      transition-property:transform, -webkit-transform;
      -webkit-transition-timing-function:cubic-bezier(0.4, 1, 0.75, 0.9);
              transition-timing-function:cubic-bezier(0.4, 1, 0.75, 0.9); }
  .bp3-drawer:not(.bp3-position-top):not(.bp3-position-bottom):not(.bp3-position-left):not(
  .bp3-position-right):not(.bp3-vertical){
    bottom:0;
    right:0;
    top:0;
    width:50%; }
    .bp3-drawer:not(.bp3-position-top):not(.bp3-position-bottom):not(.bp3-position-left):not(
    .bp3-position-right):not(.bp3-vertical).bp3-overlay-enter, .bp3-drawer:not(.bp3-position-top):not(.bp3-position-bottom):not(.bp3-position-left):not(
    .bp3-position-right):not(.bp3-vertical).bp3-overlay-appear{
      -webkit-transform:translateX(100%);
              transform:translateX(100%); }
    .bp3-drawer:not(.bp3-position-top):not(.bp3-position-bottom):not(.bp3-position-left):not(
    .bp3-position-right):not(.bp3-vertical).bp3-overlay-enter-active, .bp3-drawer:not(.bp3-position-top):not(.bp3-position-bottom):not(.bp3-position-left):not(
    .bp3-position-right):not(.bp3-vertical).bp3-overlay-appear-active{
      -webkit-transform:translateX(0);
              transform:translateX(0);
      -webkit-transition-delay:0;
              transition-delay:0;
      -webkit-transition-duration:200ms;
              transition-duration:200ms;
      -webkit-transition-property:-webkit-transform;
      transition-property:-webkit-transform;
      transition-property:transform;
      transition-property:transform, -webkit-transform;
      -webkit-transition-timing-function:cubic-bezier(0.4, 1, 0.75, 0.9);
              transition-timing-function:cubic-bezier(0.4, 1, 0.75, 0.9); }
    .bp3-drawer:not(.bp3-position-top):not(.bp3-position-bottom):not(.bp3-position-left):not(
    .bp3-position-right):not(.bp3-vertical).bp3-overlay-exit{
      -webkit-transform:translateX(0);
              transform:translateX(0); }
    .bp3-drawer:not(.bp3-position-top):not(.bp3-position-bottom):not(.bp3-position-left):not(
    .bp3-position-right):not(.bp3-vertical).bp3-overlay-exit-active{
      -webkit-transform:translateX(100%);
              transform:translateX(100%);
      -webkit-transition-delay:0;
              transition-delay:0;
      -webkit-transition-duration:100ms;
              transition-duration:100ms;
      -webkit-transition-property:-webkit-transform;
      transition-property:-webkit-transform;
      transition-property:transform;
      transition-property:transform, -webkit-transform;
      -webkit-transition-timing-function:cubic-bezier(0.4, 1, 0.75, 0.9);
              transition-timing-function:cubic-bezier(0.4, 1, 0.75, 0.9); }
  .bp3-drawer:not(.bp3-position-top):not(.bp3-position-bottom):not(.bp3-position-left):not(
  .bp3-position-right).bp3-vertical{
    bottom:0;
    height:50%;
    left:0;
    right:0; }
    .bp3-drawer:not(.bp3-position-top):not(.bp3-position-bottom):not(.bp3-position-left):not(
    .bp3-position-right).bp3-vertical.bp3-overlay-enter, .bp3-drawer:not(.bp3-position-top):not(.bp3-position-bottom):not(.bp3-position-left):not(
    .bp3-position-right).bp3-vertical.bp3-overlay-appear{
      -webkit-transform:translateY(100%);
              transform:translateY(100%); }
    .bp3-drawer:not(.bp3-position-top):not(.bp3-position-bottom):not(.bp3-position-left):not(
    .bp3-position-right).bp3-vertical.bp3-overlay-enter-active, .bp3-drawer:not(.bp3-position-top):not(.bp3-position-bottom):not(.bp3-position-left):not(
    .bp3-position-right).bp3-vertical.bp3-overlay-appear-active{
      -webkit-transform:translateY(0);
              transform:translateY(0);
      -webkit-transition-delay:0;
              transition-delay:0;
      -webkit-transition-duration:200ms;
              transition-duration:200ms;
      -webkit-transition-property:-webkit-transform;
      transition-property:-webkit-transform;
      transition-property:transform;
      transition-property:transform, -webkit-transform;
      -webkit-transition-timing-function:cubic-bezier(0.4, 1, 0.75, 0.9);
              transition-timing-function:cubic-bezier(0.4, 1, 0.75, 0.9); }
    .bp3-drawer:not(.bp3-position-top):not(.bp3-position-bottom):not(.bp3-position-left):not(
    .bp3-position-right).bp3-vertical.bp3-overlay-exit{
      -webkit-transform:translateY(0);
              transform:translateY(0); }
    .bp3-drawer:not(.bp3-position-top):not(.bp3-position-bottom):not(.bp3-position-left):not(
    .bp3-position-right).bp3-vertical.bp3-overlay-exit-active{
      -webkit-transform:translateY(100%);
              transform:translateY(100%);
      -webkit-transition-delay:0;
              transition-delay:0;
      -webkit-transition-duration:100ms;
              transition-duration:100ms;
      -webkit-transition-property:-webkit-transform;
      transition-property:-webkit-transform;
      transition-property:transform;
      transition-property:transform, -webkit-transform;
      -webkit-transition-timing-function:cubic-bezier(0.4, 1, 0.75, 0.9);
              transition-timing-function:cubic-bezier(0.4, 1, 0.75, 0.9); }
  .bp3-drawer.bp3-dark,
  .bp3-dark .bp3-drawer{
    background:#30404d;
    -webkit-box-shadow:0 0 0 1px rgba(16, 22, 26, 0.2), 0 4px 8px rgba(16, 22, 26, 0.4), 0 18px 46px 6px rgba(16, 22, 26, 0.4);
            box-shadow:0 0 0 1px rgba(16, 22, 26, 0.2), 0 4px 8px rgba(16, 22, 26, 0.4), 0 18px 46px 6px rgba(16, 22, 26, 0.4);
    color:#f5f8fa; }

.bp3-drawer-header{
  -webkit-box-align:center;
      -ms-flex-align:center;
          align-items:center;
  border-radius:0;
  -webkit-box-shadow:0 1px 0 rgba(16, 22, 26, 0.15);
          box-shadow:0 1px 0 rgba(16, 22, 26, 0.15);
  display:-webkit-box;
  display:-ms-flexbox;
  display:flex;
  -webkit-box-flex:0;
      -ms-flex:0 0 auto;
          flex:0 0 auto;
  min-height:40px;
  padding:5px;
  padding-left:20px;
  position:relative; }
  .bp3-drawer-header .bp3-icon-large,
  .bp3-drawer-header .bp3-icon{
    color:#5c7080;
    -webkit-box-flex:0;
        -ms-flex:0 0 auto;
            flex:0 0 auto;
    margin-right:10px; }
  .bp3-drawer-header .bp3-heading{
    overflow:hidden;
    text-overflow:ellipsis;
    white-space:nowrap;
    word-wrap:normal;
    -webkit-box-flex:1;
        -ms-flex:1 1 auto;
            flex:1 1 auto;
    line-height:inherit;
    margin:0; }
    .bp3-drawer-header .bp3-heading:last-child{
      margin-right:20px; }
  .bp3-dark .bp3-drawer-header{
    -webkit-box-shadow:0 1px 0 rgba(16, 22, 26, 0.4);
            box-shadow:0 1px 0 rgba(16, 22, 26, 0.4); }
    .bp3-dark .bp3-drawer-header .bp3-icon-large,
    .bp3-dark .bp3-drawer-header .bp3-icon{
      color:#a7b6c2; }

.bp3-drawer-body{
  -webkit-box-flex:1;
      -ms-flex:1 1 auto;
          flex:1 1 auto;
  line-height:18px;
  overflow:auto; }

.bp3-drawer-footer{
  -webkit-box-shadow:inset 0 1px 0 rgba(16, 22, 26, 0.15);
          box-shadow:inset 0 1px 0 rgba(16, 22, 26, 0.15);
  -webkit-box-flex:0;
      -ms-flex:0 0 auto;
          flex:0 0 auto;
  padding:10px 20px;
  position:relative; }
  .bp3-dark .bp3-drawer-footer{
    -webkit-box-shadow:inset 0 1px 0 rgba(16, 22, 26, 0.4);
            box-shadow:inset 0 1px 0 rgba(16, 22, 26, 0.4); }
.bp3-editable-text{
  cursor:text;
  display:inline-block;
  max-width:100%;
  position:relative;
  vertical-align:top;
  white-space:nowrap; }
  .bp3-editable-text::before{
    bottom:-3px;
    left:-3px;
    position:absolute;
    right:-3px;
    top:-3px;
    border-radius:3px;
    content:"";
    -webkit-transition:background-color 100ms cubic-bezier(0.4, 1, 0.75, 0.9), -webkit-box-shadow 100ms cubic-bezier(0.4, 1, 0.75, 0.9);
    transition:background-color 100ms cubic-bezier(0.4, 1, 0.75, 0.9), -webkit-box-shadow 100ms cubic-bezier(0.4, 1, 0.75, 0.9);
    transition:background-color 100ms cubic-bezier(0.4, 1, 0.75, 0.9), box-shadow 100ms cubic-bezier(0.4, 1, 0.75, 0.9);
    transition:background-color 100ms cubic-bezier(0.4, 1, 0.75, 0.9), box-shadow 100ms cubic-bezier(0.4, 1, 0.75, 0.9), -webkit-box-shadow 100ms cubic-bezier(0.4, 1, 0.75, 0.9); }
  .bp3-editable-text:hover::before{
    -webkit-box-shadow:0 0 0 0 rgba(19, 124, 189, 0), 0 0 0 0 rgba(19, 124, 189, 0), inset 0 0 0 1px rgba(16, 22, 26, 0.15);
            box-shadow:0 0 0 0 rgba(19, 124, 189, 0), 0 0 0 0 rgba(19, 124, 189, 0), inset 0 0 0 1px rgba(16, 22, 26, 0.15); }
  .bp3-editable-text.bp3-editable-text-editing::before{
    background-color:#ffffff;
    -webkit-box-shadow:0 0 0 1px #137cbd, 0 0 0 3px rgba(19, 124, 189, 0.3), inset 0 1px 1px rgba(16, 22, 26, 0.2);
            box-shadow:0 0 0 1px #137cbd, 0 0 0 3px rgba(19, 124, 189, 0.3), inset 0 1px 1px rgba(16, 22, 26, 0.2); }
  .bp3-editable-text.bp3-disabled::before{
    -webkit-box-shadow:none;
            box-shadow:none; }
  .bp3-editable-text.bp3-intent-primary .bp3-editable-text-input,
  .bp3-editable-text.bp3-intent-primary .bp3-editable-text-content{
    color:#137cbd; }
  .bp3-editable-text.bp3-intent-primary:hover::before{
    -webkit-box-shadow:0 0 0 0 rgba(19, 124, 189, 0), 0 0 0 0 rgba(19, 124, 189, 0), inset 0 0 0 1px rgba(19, 124, 189, 0.4);
            box-shadow:0 0 0 0 rgba(19, 124, 189, 0), 0 0 0 0 rgba(19, 124, 189, 0), inset 0 0 0 1px rgba(19, 124, 189, 0.4); }
  .bp3-editable-text.bp3-intent-primary.bp3-editable-text-editing::before{
    -webkit-box-shadow:0 0 0 1px #137cbd, 0 0 0 3px rgba(19, 124, 189, 0.3), inset 0 1px 1px rgba(16, 22, 26, 0.2);
            box-shadow:0 0 0 1px #137cbd, 0 0 0 3px rgba(19, 124, 189, 0.3), inset 0 1px 1px rgba(16, 22, 26, 0.2); }
  .bp3-editable-text.bp3-intent-success .bp3-editable-text-input,
  .bp3-editable-text.bp3-intent-success .bp3-editable-text-content{
    color:#0f9960; }
  .bp3-editable-text.bp3-intent-success:hover::before{
    -webkit-box-shadow:0 0 0 0 rgba(15, 153, 96, 0), 0 0 0 0 rgba(15, 153, 96, 0), inset 0 0 0 1px rgba(15, 153, 96, 0.4);
            box-shadow:0 0 0 0 rgba(15, 153, 96, 0), 0 0 0 0 rgba(15, 153, 96, 0), inset 0 0 0 1px rgba(15, 153, 96, 0.4); }
  .bp3-editable-text.bp3-intent-success.bp3-editable-text-editing::before{
    -webkit-box-shadow:0 0 0 1px #0f9960, 0 0 0 3px rgba(15, 153, 96, 0.3), inset 0 1px 1px rgba(16, 22, 26, 0.2);
            box-shadow:0 0 0 1px #0f9960, 0 0 0 3px rgba(15, 153, 96, 0.3), inset 0 1px 1px rgba(16, 22, 26, 0.2); }
  .bp3-editable-text.bp3-intent-warning .bp3-editable-text-input,
  .bp3-editable-text.bp3-intent-warning .bp3-editable-text-content{
    color:#d9822b; }
  .bp3-editable-text.bp3-intent-warning:hover::before{
    -webkit-box-shadow:0 0 0 0 rgba(217, 130, 43, 0), 0 0 0 0 rgba(217, 130, 43, 0), inset 0 0 0 1px rgba(217, 130, 43, 0.4);
            box-shadow:0 0 0 0 rgba(217, 130, 43, 0), 0 0 0 0 rgba(217, 130, 43, 0), inset 0 0 0 1px rgba(217, 130, 43, 0.4); }
  .bp3-editable-text.bp3-intent-warning.bp3-editable-text-editing::before{
    -webkit-box-shadow:0 0 0 1px #d9822b, 0 0 0 3px rgba(217, 130, 43, 0.3), inset 0 1px 1px rgba(16, 22, 26, 0.2);
            box-shadow:0 0 0 1px #d9822b, 0 0 0 3px rgba(217, 130, 43, 0.3), inset 0 1px 1px rgba(16, 22, 26, 0.2); }
  .bp3-editable-text.bp3-intent-danger .bp3-editable-text-input,
  .bp3-editable-text.bp3-intent-danger .bp3-editable-text-content{
    color:#db3737; }
  .bp3-editable-text.bp3-intent-danger:hover::before{
    -webkit-box-shadow:0 0 0 0 rgba(219, 55, 55, 0), 0 0 0 0 rgba(219, 55, 55, 0), inset 0 0 0 1px rgba(219, 55, 55, 0.4);
            box-shadow:0 0 0 0 rgba(219, 55, 55, 0), 0 0 0 0 rgba(219, 55, 55, 0), inset 0 0 0 1px rgba(219, 55, 55, 0.4); }
  .bp3-editable-text.bp3-intent-danger.bp3-editable-text-editing::before{
    -webkit-box-shadow:0 0 0 1px #db3737, 0 0 0 3px rgba(219, 55, 55, 0.3), inset 0 1px 1px rgba(16, 22, 26, 0.2);
            box-shadow:0 0 0 1px #db3737, 0 0 0 3px rgba(219, 55, 55, 0.3), inset 0 1px 1px rgba(16, 22, 26, 0.2); }
  .bp3-dark .bp3-editable-text:hover::before{
    -webkit-box-shadow:0 0 0 0 rgba(19, 124, 189, 0), 0 0 0 0 rgba(19, 124, 189, 0), inset 0 0 0 1px rgba(255, 255, 255, 0.15);
            box-shadow:0 0 0 0 rgba(19, 124, 189, 0), 0 0 0 0 rgba(19, 124, 189, 0), inset 0 0 0 1px rgba(255, 255, 255, 0.15); }
  .bp3-dark .bp3-editable-text.bp3-editable-text-editing::before{
    background-color:rgba(16, 22, 26, 0.3);
    -webkit-box-shadow:0 0 0 1px #137cbd, 0 0 0 3px rgba(19, 124, 189, 0.3), inset 0 0 0 1px rgba(16, 22, 26, 0.3), inset 0 1px 1px rgba(16, 22, 26, 0.4);
            box-shadow:0 0 0 1px #137cbd, 0 0 0 3px rgba(19, 124, 189, 0.3), inset 0 0 0 1px rgba(16, 22, 26, 0.3), inset 0 1px 1px rgba(16, 22, 26, 0.4); }
  .bp3-dark .bp3-editable-text.bp3-disabled::before{
    -webkit-box-shadow:none;
            box-shadow:none; }
  .bp3-dark .bp3-editable-text.bp3-intent-primary .bp3-editable-text-content{
    color:#48aff0; }
  .bp3-dark .bp3-editable-text.bp3-intent-primary:hover::before{
    -webkit-box-shadow:0 0 0 0 rgba(72, 175, 240, 0), 0 0 0 0 rgba(72, 175, 240, 0), inset 0 0 0 1px rgba(72, 175, 240, 0.4);
            box-shadow:0 0 0 0 rgba(72, 175, 240, 0), 0 0 0 0 rgba(72, 175, 240, 0), inset 0 0 0 1px rgba(72, 175, 240, 0.4); }
  .bp3-dark .bp3-editable-text.bp3-intent-primary.bp3-editable-text-editing::before{
    -webkit-box-shadow:0 0 0 1px #48aff0, 0 0 0 3px rgba(72, 175, 240, 0.3), inset 0 0 0 1px rgba(16, 22, 26, 0.3), inset 0 1px 1px rgba(16, 22, 26, 0.4);
            box-shadow:0 0 0 1px #48aff0, 0 0 0 3px rgba(72, 175, 240, 0.3), inset 0 0 0 1px rgba(16, 22, 26, 0.3), inset 0 1px 1px rgba(16, 22, 26, 0.4); }
  .bp3-dark .bp3-editable-text.bp3-intent-success .bp3-editable-text-content{
    color:#3dcc91; }
  .bp3-dark .bp3-editable-text.bp3-intent-success:hover::before{
    -webkit-box-shadow:0 0 0 0 rgba(61, 204, 145, 0), 0 0 0 0 rgba(61, 204, 145, 0), inset 0 0 0 1px rgba(61, 204, 145, 0.4);
            box-shadow:0 0 0 0 rgba(61, 204, 145, 0), 0 0 0 0 rgba(61, 204, 145, 0), inset 0 0 0 1px rgba(61, 204, 145, 0.4); }
  .bp3-dark .bp3-editable-text.bp3-intent-success.bp3-editable-text-editing::before{
    -webkit-box-shadow:0 0 0 1px #3dcc91, 0 0 0 3px rgba(61, 204, 145, 0.3), inset 0 0 0 1px rgba(16, 22, 26, 0.3), inset 0 1px 1px rgba(16, 22, 26, 0.4);
            box-shadow:0 0 0 1px #3dcc91, 0 0 0 3px rgba(61, 204, 145, 0.3), inset 0 0 0 1px rgba(16, 22, 26, 0.3), inset 0 1px 1px rgba(16, 22, 26, 0.4); }
  .bp3-dark .bp3-editable-text.bp3-intent-warning .bp3-editable-text-content{
    color:#ffb366; }
  .bp3-dark .bp3-editable-text.bp3-intent-warning:hover::before{
    -webkit-box-shadow:0 0 0 0 rgba(255, 179, 102, 0), 0 0 0 0 rgba(255, 179, 102, 0), inset 0 0 0 1px rgba(255, 179, 102, 0.4);
            box-shadow:0 0 0 0 rgba(255, 179, 102, 0), 0 0 0 0 rgba(255, 179, 102, 0), inset 0 0 0 1px rgba(255, 179, 102, 0.4); }
  .bp3-dark .bp3-editable-text.bp3-intent-warning.bp3-editable-text-editing::before{
    -webkit-box-shadow:0 0 0 1px #ffb366, 0 0 0 3px rgba(255, 179, 102, 0.3), inset 0 0 0 1px rgba(16, 22, 26, 0.3), inset 0 1px 1px rgba(16, 22, 26, 0.4);
            box-shadow:0 0 0 1px #ffb366, 0 0 0 3px rgba(255, 179, 102, 0.3), inset 0 0 0 1px rgba(16, 22, 26, 0.3), inset 0 1px 1px rgba(16, 22, 26, 0.4); }
  .bp3-dark .bp3-editable-text.bp3-intent-danger .bp3-editable-text-content{
    color:#ff7373; }
  .bp3-dark .bp3-editable-text.bp3-intent-danger:hover::before{
    -webkit-box-shadow:0 0 0 0 rgba(255, 115, 115, 0), 0 0 0 0 rgba(255, 115, 115, 0), inset 0 0 0 1px rgba(255, 115, 115, 0.4);
            box-shadow:0 0 0 0 rgba(255, 115, 115, 0), 0 0 0 0 rgba(255, 115, 115, 0), inset 0 0 0 1px rgba(255, 115, 115, 0.4); }
  .bp3-dark .bp3-editable-text.bp3-intent-danger.bp3-editable-text-editing::before{
    -webkit-box-shadow:0 0 0 1px #ff7373, 0 0 0 3px rgba(255, 115, 115, 0.3), inset 0 0 0 1px rgba(16, 22, 26, 0.3), inset 0 1px 1px rgba(16, 22, 26, 0.4);
            box-shadow:0 0 0 1px #ff7373, 0 0 0 3px rgba(255, 115, 115, 0.3), inset 0 0 0 1px rgba(16, 22, 26, 0.3), inset 0 1px 1px rgba(16, 22, 26, 0.4); }

.bp3-editable-text-input,
.bp3-editable-text-content{
  color:inherit;
  display:inherit;
  font:inherit;
  letter-spacing:inherit;
  max-width:inherit;
  min-width:inherit;
  position:relative;
  resize:none;
  text-transform:inherit;
  vertical-align:top; }

.bp3-editable-text-input{
  background:none;
  border:none;
  -webkit-box-shadow:none;
          box-shadow:none;
  padding:0;
  white-space:pre-wrap;
  width:100%; }
  .bp3-editable-text-input::-webkit-input-placeholder{
    color:rgba(92, 112, 128, 0.6);
    opacity:1; }
  .bp3-editable-text-input::-moz-placeholder{
    color:rgba(92, 112, 128, 0.6);
    opacity:1; }
  .bp3-editable-text-input:-ms-input-placeholder{
    color:rgba(92, 112, 128, 0.6);
    opacity:1; }
  .bp3-editable-text-input::-ms-input-placeholder{
    color:rgba(92, 112, 128, 0.6);
    opacity:1; }
  .bp3-editable-text-input::placeholder{
    color:rgba(92, 112, 128, 0.6);
    opacity:1; }
  .bp3-editable-text-input:focus{
    outline:none; }
  .bp3-editable-text-input::-ms-clear{
    display:none; }

.bp3-editable-text-content{
  overflow:hidden;
  padding-right:2px;
  text-overflow:ellipsis;
  white-space:pre; }
  .bp3-editable-text-editing > .bp3-editable-text-content{
    left:0;
    position:absolute;
    visibility:hidden; }
  .bp3-editable-text-placeholder > .bp3-editable-text-content{
    color:rgba(92, 112, 128, 0.6); }
    .bp3-dark .bp3-editable-text-placeholder > .bp3-editable-text-content{
      color:rgba(167, 182, 194, 0.6); }

.bp3-editable-text.bp3-multiline{
  display:block; }
  .bp3-editable-text.bp3-multiline .bp3-editable-text-content{
    overflow:auto;
    white-space:pre-wrap;
    word-wrap:break-word; }
.bp3-divider{
  border-bottom:1px solid rgba(16, 22, 26, 0.15);
  border-right:1px solid rgba(16, 22, 26, 0.15);
  margin:5px; }
  .bp3-dark .bp3-divider{
    border-color:rgba(16, 22, 26, 0.4); }
.bp3-control-group{
  -webkit-transform:translateZ(0);
          transform:translateZ(0);
  display:-webkit-box;
  display:-ms-flexbox;
  display:flex;
  -webkit-box-orient:horizontal;
  -webkit-box-direction:normal;
      -ms-flex-direction:row;
          flex-direction:row;
  -webkit-box-align:stretch;
      -ms-flex-align:stretch;
          align-items:stretch; }
  .bp3-control-group > *{
    -webkit-box-flex:0;
        -ms-flex-positive:0;
            flex-grow:0;
    -ms-flex-negative:0;
        flex-shrink:0; }
  .bp3-control-group > .bp3-fill{
    -webkit-box-flex:1;
        -ms-flex-positive:1;
            flex-grow:1;
    -ms-flex-negative:1;
        flex-shrink:1; }
  .bp3-control-group .bp3-button,
  .bp3-control-group .bp3-html-select,
  .bp3-control-group .bp3-input,
  .bp3-control-group .bp3-select{
    position:relative; }
  .bp3-control-group .bp3-input{
    border-radius:inherit;
    z-index:2; }
    .bp3-control-group .bp3-input:focus{
      border-radius:3px;
      z-index:14; }
    .bp3-control-group .bp3-input[class*="bp3-intent"]{
      z-index:13; }
      .bp3-control-group .bp3-input[class*="bp3-intent"]:focus{
        z-index:15; }
    .bp3-control-group .bp3-input[readonly], .bp3-control-group .bp3-input:disabled, .bp3-control-group .bp3-input.bp3-disabled{
      z-index:1; }
  .bp3-control-group .bp3-input-group[class*="bp3-intent"] .bp3-input{
    z-index:13; }
    .bp3-control-group .bp3-input-group[class*="bp3-intent"] .bp3-input:focus{
      z-index:15; }
  .bp3-control-group .bp3-button,
  .bp3-control-group .bp3-html-select select,
  .bp3-control-group .bp3-select select{
    -webkit-transform:translateZ(0);
            transform:translateZ(0);
    border-radius:inherit;
    z-index:4; }
    .bp3-control-group .bp3-button:focus,
    .bp3-control-group .bp3-html-select select:focus,
    .bp3-control-group .bp3-select select:focus{
      z-index:5; }
    .bp3-control-group .bp3-button:hover,
    .bp3-control-group .bp3-html-select select:hover,
    .bp3-control-group .bp3-select select:hover{
      z-index:6; }
    .bp3-control-group .bp3-button:active,
    .bp3-control-group .bp3-html-select select:active,
    .bp3-control-group .bp3-select select:active{
      z-index:7; }
    .bp3-control-group .bp3-button[readonly], .bp3-control-group .bp3-button:disabled, .bp3-control-group .bp3-button.bp3-disabled,
    .bp3-control-group .bp3-html-select select[readonly],
    .bp3-control-group .bp3-html-select select:disabled,
    .bp3-control-group .bp3-html-select select.bp3-disabled,
    .bp3-control-group .bp3-select select[readonly],
    .bp3-control-group .bp3-select select:disabled,
    .bp3-control-group .bp3-select select.bp3-disabled{
      z-index:3; }
    .bp3-control-group .bp3-button[class*="bp3-intent"],
    .bp3-control-group .bp3-html-select select[class*="bp3-intent"],
    .bp3-control-group .bp3-select select[class*="bp3-intent"]{
      z-index:9; }
      .bp3-control-group .bp3-button[class*="bp3-intent"]:focus,
      .bp3-control-group .bp3-html-select select[class*="bp3-intent"]:focus,
      .bp3-control-group .bp3-select select[class*="bp3-intent"]:focus{
        z-index:10; }
      .bp3-control-group .bp3-button[class*="bp3-intent"]:hover,
      .bp3-control-group .bp3-html-select select[class*="bp3-intent"]:hover,
      .bp3-control-group .bp3-select select[class*="bp3-intent"]:hover{
        z-index:11; }
      .bp3-control-group .bp3-button[class*="bp3-intent"]:active,
      .bp3-control-group .bp3-html-select select[class*="bp3-intent"]:active,
      .bp3-control-group .bp3-select select[class*="bp3-intent"]:active{
        z-index:12; }
      .bp3-control-group .bp3-button[class*="bp3-intent"][readonly], .bp3-control-group .bp3-button[class*="bp3-intent"]:disabled, .bp3-control-group .bp3-button[class*="bp3-intent"].bp3-disabled,
      .bp3-control-group .bp3-html-select select[class*="bp3-intent"][readonly],
      .bp3-control-group .bp3-html-select select[class*="bp3-intent"]:disabled,
      .bp3-control-group .bp3-html-select select[class*="bp3-intent"].bp3-disabled,
      .bp3-control-group .bp3-select select[class*="bp3-intent"][readonly],
      .bp3-control-group .bp3-select select[class*="bp3-intent"]:disabled,
      .bp3-control-group .bp3-select select[class*="bp3-intent"].bp3-disabled{
        z-index:8; }
  .bp3-control-group .bp3-input-group > .bp3-icon,
  .bp3-control-group .bp3-input-group > .bp3-button,
  .bp3-control-group .bp3-input-group > .bp3-input-left-container,
  .bp3-control-group .bp3-input-group > .bp3-input-action{
    z-index:16; }
  .bp3-control-group .bp3-select::after,
  .bp3-control-group .bp3-html-select::after,
  .bp3-control-group .bp3-select > .bp3-icon,
  .bp3-control-group .bp3-html-select > .bp3-icon{
    z-index:17; }
  .bp3-control-group .bp3-select:focus-within{
    z-index:5; }
  .bp3-control-group:not(.bp3-vertical) > *:not(.bp3-divider){
    margin-right:-1px; }
  .bp3-control-group:not(.bp3-vertical) > .bp3-divider:not(:first-child){
    margin-left:6px; }
  .bp3-dark .bp3-control-group:not(.bp3-vertical) > *:not(.bp3-divider){
    margin-right:0; }
  .bp3-dark .bp3-control-group:not(.bp3-vertical) > .bp3-button + .bp3-button{
    margin-left:1px; }
  .bp3-control-group .bp3-popover-wrapper,
  .bp3-control-group .bp3-popover-target{
    border-radius:inherit; }
  .bp3-control-group > :first-child{
    border-radius:3px 0 0 3px; }
  .bp3-control-group > :last-child{
    border-radius:0 3px 3px 0;
    margin-right:0; }
  .bp3-control-group > :only-child{
    border-radius:3px;
    margin-right:0; }
  .bp3-control-group .bp3-input-group .bp3-button{
    border-radius:3px; }
  .bp3-control-group .bp3-numeric-input:not(:first-child) .bp3-input-group{
    border-bottom-left-radius:0;
    border-top-left-radius:0; }
  .bp3-control-group.bp3-fill{
    width:100%; }
  .bp3-control-group > .bp3-fill{
    -webkit-box-flex:1;
        -ms-flex:1 1 auto;
            flex:1 1 auto; }
  .bp3-control-group.bp3-fill > *:not(.bp3-fixed){
    -webkit-box-flex:1;
        -ms-flex:1 1 auto;
            flex:1 1 auto; }
  .bp3-control-group.bp3-vertical{
    -webkit-box-orient:vertical;
    -webkit-box-direction:normal;
        -ms-flex-direction:column;
            flex-direction:column; }
    .bp3-control-group.bp3-vertical > *{
      margin-top:-1px; }
    .bp3-control-group.bp3-vertical > :first-child{
      border-radius:3px 3px 0 0;
      margin-top:0; }
    .bp3-control-group.bp3-vertical > :last-child{
      border-radius:0 0 3px 3px; }
.bp3-control{
  cursor:pointer;
  display:block;
  margin-bottom:10px;
  position:relative;
  text-transform:none; }
  .bp3-control input:checked ~ .bp3-control-indicator{
    background-color:#137cbd;
    background-image:-webkit-gradient(linear, left top, left bottom, from(rgba(255, 255, 255, 0.1)), to(rgba(255, 255, 255, 0)));
    background-image:linear-gradient(to bottom, rgba(255, 255, 255, 0.1), rgba(255, 255, 255, 0));
    -webkit-box-shadow:inset 0 0 0 1px rgba(16, 22, 26, 0.4), inset 0 -1px 0 rgba(16, 22, 26, 0.2);
            box-shadow:inset 0 0 0 1px rgba(16, 22, 26, 0.4), inset 0 -1px 0 rgba(16, 22, 26, 0.2);
    color:#ffffff; }
  .bp3-control:hover input:checked ~ .bp3-control-indicator{
    background-color:#106ba3;
    -webkit-box-shadow:inset 0 0 0 1px rgba(16, 22, 26, 0.4), inset 0 -1px 0 rgba(16, 22, 26, 0.2);
            box-shadow:inset 0 0 0 1px rgba(16, 22, 26, 0.4), inset 0 -1px 0 rgba(16, 22, 26, 0.2); }
  .bp3-control input:not(:disabled):active:checked ~ .bp3-control-indicator{
    background:#0e5a8a;
    -webkit-box-shadow:inset 0 0 0 1px rgba(16, 22, 26, 0.4), inset 0 1px 2px rgba(16, 22, 26, 0.2);
            box-shadow:inset 0 0 0 1px rgba(16, 22, 26, 0.4), inset 0 1px 2px rgba(16, 22, 26, 0.2); }
  .bp3-control input:disabled:checked ~ .bp3-control-indicator{
    background:rgba(19, 124, 189, 0.5);
    -webkit-box-shadow:none;
            box-shadow:none; }
  .bp3-dark .bp3-control input:checked ~ .bp3-control-indicator{
    -webkit-box-shadow:0 0 0 1px rgba(16, 22, 26, 0.4);
            box-shadow:0 0 0 1px rgba(16, 22, 26, 0.4); }
  .bp3-dark .bp3-control:hover input:checked ~ .bp3-control-indicator{
    background-color:#106ba3;
    -webkit-box-shadow:0 0 0 1px rgba(16, 22, 26, 0.4);
            box-shadow:0 0 0 1px rgba(16, 22, 26, 0.4); }
  .bp3-dark .bp3-control input:not(:disabled):active:checked ~ .bp3-control-indicator{
    background-color:#0e5a8a;
    -webkit-box-shadow:0 0 0 1px rgba(16, 22, 26, 0.4), inset 0 1px 2px rgba(16, 22, 26, 0.2);
            box-shadow:0 0 0 1px rgba(16, 22, 26, 0.4), inset 0 1px 2px rgba(16, 22, 26, 0.2); }
  .bp3-dark .bp3-control input:disabled:checked ~ .bp3-control-indicator{
    background:rgba(14, 90, 138, 0.5);
    -webkit-box-shadow:none;
            box-shadow:none; }
  .bp3-control:not(.bp3-align-right){
    padding-left:26px; }
    .bp3-control:not(.bp3-align-right) .bp3-control-indicator{
      margin-left:-26px; }
  .bp3-control.bp3-align-right{
    padding-right:26px; }
    .bp3-control.bp3-align-right .bp3-control-indicator{
      margin-right:-26px; }
  .bp3-control.bp3-disabled{
    color:rgba(92, 112, 128, 0.6);
    cursor:not-allowed; }
  .bp3-control.bp3-inline{
    display:inline-block;
    margin-right:20px; }
  .bp3-control input{
    left:0;
    opacity:0;
    position:absolute;
    top:0;
    z-index:-1; }
  .bp3-control .bp3-control-indicator{
    background-clip:padding-box;
    background-color:#f5f8fa;
    background-image:-webkit-gradient(linear, left top, left bottom, from(rgba(255, 255, 255, 0.8)), to(rgba(255, 255, 255, 0)));
    background-image:linear-gradient(to bottom, rgba(255, 255, 255, 0.8), rgba(255, 255, 255, 0));
    border:none;
    -webkit-box-shadow:inset 0 0 0 1px rgba(16, 22, 26, 0.2), inset 0 -1px 0 rgba(16, 22, 26, 0.1);
            box-shadow:inset 0 0 0 1px rgba(16, 22, 26, 0.2), inset 0 -1px 0 rgba(16, 22, 26, 0.1);
    cursor:pointer;
    display:inline-block;
    font-size:16px;
    height:1em;
    margin-right:10px;
    margin-top:-3px;
    position:relative;
    -webkit-user-select:none;
       -moz-user-select:none;
        -ms-user-select:none;
            user-select:none;
    vertical-align:middle;
    width:1em; }
    .bp3-control .bp3-control-indicator::before{
      content:"";
      display:block;
      height:1em;
      width:1em; }
  .bp3-control:hover .bp3-control-indicator{
    background-color:#ebf1f5; }
  .bp3-control input:not(:disabled):active ~ .bp3-control-indicator{
    background:#d8e1e8;
    -webkit-box-shadow:inset 0 0 0 1px rgba(16, 22, 26, 0.2), inset 0 1px 2px rgba(16, 22, 26, 0.2);
            box-shadow:inset 0 0 0 1px rgba(16, 22, 26, 0.2), inset 0 1px 2px rgba(16, 22, 26, 0.2); }
  .bp3-control input:disabled ~ .bp3-control-indicator{
    background:rgba(206, 217, 224, 0.5);
    -webkit-box-shadow:none;
            box-shadow:none;
    cursor:not-allowed; }
  .bp3-control input:focus ~ .bp3-control-indicator{
    outline:rgba(19, 124, 189, 0.6) auto 2px;
    outline-offset:2px;
    -moz-outline-radius:6px; }
  .bp3-control.bp3-align-right .bp3-control-indicator{
    float:right;
    margin-left:10px;
    margin-top:1px; }
  .bp3-control.bp3-large{
    font-size:16px; }
    .bp3-control.bp3-large:not(.bp3-align-right){
      padding-left:30px; }
      .bp3-control.bp3-large:not(.bp3-align-right) .bp3-control-indicator{
        margin-left:-30px; }
    .bp3-control.bp3-large.bp3-align-right{
      padding-right:30px; }
      .bp3-control.bp3-large.bp3-align-right .bp3-control-indicator{
        margin-right:-30px; }
    .bp3-control.bp3-large .bp3-control-indicator{
      font-size:20px; }
    .bp3-control.bp3-large.bp3-align-right .bp3-control-indicator{
      margin-top:0; }
  .bp3-control.bp3-checkbox input:indeterminate ~ .bp3-control-indicator{
    background-color:#137cbd;
    background-image:-webkit-gradient(linear, left top, left bottom, from(rgba(255, 255, 255, 0.1)), to(rgba(255, 255, 255, 0)));
    background-image:linear-gradient(to bottom, rgba(255, 255, 255, 0.1), rgba(255, 255, 255, 0));
    -webkit-box-shadow:inset 0 0 0 1px rgba(16, 22, 26, 0.4), inset 0 -1px 0 rgba(16, 22, 26, 0.2);
            box-shadow:inset 0 0 0 1px rgba(16, 22, 26, 0.4), inset 0 -1px 0 rgba(16, 22, 26, 0.2);
    color:#ffffff; }
  .bp3-control.bp3-checkbox:hover input:indeterminate ~ .bp3-control-indicator{
    background-color:#106ba3;
    -webkit-box-shadow:inset 0 0 0 1px rgba(16, 22, 26, 0.4), inset 0 -1px 0 rgba(16, 22, 26, 0.2);
            box-shadow:inset 0 0 0 1px rgba(16, 22, 26, 0.4), inset 0 -1px 0 rgba(16, 22, 26, 0.2); }
  .bp3-control.bp3-checkbox input:not(:disabled):active:indeterminate ~ .bp3-control-indicator{
    background:#0e5a8a;
    -webkit-box-shadow:inset 0 0 0 1px rgba(16, 22, 26, 0.4), inset 0 1px 2px rgba(16, 22, 26, 0.2);
            box-shadow:inset 0 0 0 1px rgba(16, 22, 26, 0.4), inset 0 1px 2px rgba(16, 22, 26, 0.2); }
  .bp3-control.bp3-checkbox input:disabled:indeterminate ~ .bp3-control-indicator{
    background:rgba(19, 124, 189, 0.5);
    -webkit-box-shadow:none;
            box-shadow:none; }
  .bp3-dark .bp3-control.bp3-checkbox input:indeterminate ~ .bp3-control-indicator{
    -webkit-box-shadow:0 0 0 1px rgba(16, 22, 26, 0.4);
            box-shadow:0 0 0 1px rgba(16, 22, 26, 0.4); }
  .bp3-dark .bp3-control.bp3-checkbox:hover input:indeterminate ~ .bp3-control-indicator{
    background-color:#106ba3;
    -webkit-box-shadow:0 0 0 1px rgba(16, 22, 26, 0.4);
            box-shadow:0 0 0 1px rgba(16, 22, 26, 0.4); }
  .bp3-dark .bp3-control.bp3-checkbox input:not(:disabled):active:indeterminate ~ .bp3-control-indicator{
    background-color:#0e5a8a;
    -webkit-box-shadow:0 0 0 1px rgba(16, 22, 26, 0.4), inset 0 1px 2px rgba(16, 22, 26, 0.2);
            box-shadow:0 0 0 1px rgba(16, 22, 26, 0.4), inset 0 1px 2px rgba(16, 22, 26, 0.2); }
  .bp3-dark .bp3-control.bp3-checkbox input:disabled:indeterminate ~ .bp3-control-indicator{
    background:rgba(14, 90, 138, 0.5);
    -webkit-box-shadow:none;
            box-shadow:none; }
  .bp3-control.bp3-checkbox .bp3-control-indicator{
    border-radius:3px; }
  .bp3-control.bp3-checkbox input:checked ~ .bp3-control-indicator::before{
    background-image:url("data:image/svg+xml,%3csvg xmlns='http://www.w3.org/2000/svg' viewBox='0 0 16 16'%3e%3cpath fill-rule='evenodd' clip-rule='evenodd' d='M12 5c-.28 0-.53.11-.71.29L7 9.59l-2.29-2.3a1.003 1.003 0 00-1.42 1.42l3 3c.18.18.43.29.71.29s.53-.11.71-.29l5-5A1.003 1.003 0 0012 5z' fill='white'/%3e%3c/svg%3e"); }
  .bp3-control.bp3-checkbox input:indeterminate ~ .bp3-control-indicator::before{
    background-image:url("data:image/svg+xml,%3csvg xmlns='http://www.w3.org/2000/svg' viewBox='0 0 16 16'%3e%3cpath fill-rule='evenodd' clip-rule='evenodd' d='M11 7H5c-.55 0-1 .45-1 1s.45 1 1 1h6c.55 0 1-.45 1-1s-.45-1-1-1z' fill='white'/%3e%3c/svg%3e"); }
  .bp3-control.bp3-radio .bp3-control-indicator{
    border-radius:50%; }
  .bp3-control.bp3-radio input:checked ~ .bp3-control-indicator::before{
    background-image:radial-gradient(#ffffff, #ffffff 28%, transparent 32%); }
  .bp3-control.bp3-radio input:checked:disabled ~ .bp3-control-indicator::before{
    opacity:0.5; }
  .bp3-control.bp3-radio input:focus ~ .bp3-control-indicator{
    -moz-outline-radius:16px; }
  .bp3-control.bp3-switch input ~ .bp3-control-indicator{
    background:rgba(167, 182, 194, 0.5); }
  .bp3-control.bp3-switch:hover input ~ .bp3-control-indicator{
    background:rgba(115, 134, 148, 0.5); }
  .bp3-control.bp3-switch input:not(:disabled):active ~ .bp3-control-indicator{
    background:rgba(92, 112, 128, 0.5); }
  .bp3-control.bp3-switch input:disabled ~ .bp3-control-indicator{
    background:rgba(206, 217, 224, 0.5); }
    .bp3-control.bp3-switch input:disabled ~ .bp3-control-indicator::before{
      background:rgba(255, 255, 255, 0.8); }
  .bp3-control.bp3-switch input:checked ~ .bp3-control-indicator{
    background:#137cbd; }
  .bp3-control.bp3-switch:hover input:checked ~ .bp3-control-indicator{
    background:#106ba3; }
  .bp3-control.bp3-switch input:checked:not(:disabled):active ~ .bp3-control-indicator{
    background:#0e5a8a; }
  .bp3-control.bp3-switch input:checked:disabled ~ .bp3-control-indicator{
    background:rgba(19, 124, 189, 0.5); }
    .bp3-control.bp3-switch input:checked:disabled ~ .bp3-control-indicator::before{
      background:rgba(255, 255, 255, 0.8); }
  .bp3-control.bp3-switch:not(.bp3-align-right){
    padding-left:38px; }
    .bp3-control.bp3-switch:not(.bp3-align-right) .bp3-control-indicator{
      margin-left:-38px; }
  .bp3-control.bp3-switch.bp3-align-right{
    padding-right:38px; }
    .bp3-control.bp3-switch.bp3-align-right .bp3-control-indicator{
      margin-right:-38px; }
  .bp3-control.bp3-switch .bp3-control-indicator{
    border:none;
    border-radius:1.75em;
    -webkit-box-shadow:none !important;
            box-shadow:none !important;
    min-width:1.75em;
    -webkit-transition:background-color 100ms cubic-bezier(0.4, 1, 0.75, 0.9);
    transition:background-color 100ms cubic-bezier(0.4, 1, 0.75, 0.9);
    width:auto; }
    .bp3-control.bp3-switch .bp3-control-indicator::before{
      background:#ffffff;
      border-radius:50%;
      -webkit-box-shadow:0 0 0 1px rgba(16, 22, 26, 0.2), 0 1px 1px rgba(16, 22, 26, 0.2);
              box-shadow:0 0 0 1px rgba(16, 22, 26, 0.2), 0 1px 1px rgba(16, 22, 26, 0.2);
      height:calc(1em - 4px);
      left:0;
      margin:2px;
      position:absolute;
      -webkit-transition:left 100ms cubic-bezier(0.4, 1, 0.75, 0.9);
      transition:left 100ms cubic-bezier(0.4, 1, 0.75, 0.9);
      width:calc(1em - 4px); }
  .bp3-control.bp3-switch input:checked ~ .bp3-control-indicator::before{
    left:calc(100% - 1em); }
  .bp3-control.bp3-switch.bp3-large:not(.bp3-align-right){
    padding-left:45px; }
    .bp3-control.bp3-switch.bp3-large:not(.bp3-align-right) .bp3-control-indicator{
      margin-left:-45px; }
  .bp3-control.bp3-switch.bp3-large.bp3-align-right{
    padding-right:45px; }
    .bp3-control.bp3-switch.bp3-large.bp3-align-right .bp3-control-indicator{
      margin-right:-45px; }
  .bp3-dark .bp3-control.bp3-switch input ~ .bp3-control-indicator{
    background:rgba(16, 22, 26, 0.5); }
  .bp3-dark .bp3-control.bp3-switch:hover input ~ .bp3-control-indicator{
    background:rgba(16, 22, 26, 0.7); }
  .bp3-dark .bp3-control.bp3-switch input:not(:disabled):active ~ .bp3-control-indicator{
    background:rgba(16, 22, 26, 0.9); }
  .bp3-dark .bp3-control.bp3-switch input:disabled ~ .bp3-control-indicator{
    background:rgba(57, 75, 89, 0.5); }
    .bp3-dark .bp3-control.bp3-switch input:disabled ~ .bp3-control-indicator::before{
      background:rgba(16, 22, 26, 0.4); }
  .bp3-dark .bp3-control.bp3-switch input:checked ~ .bp3-control-indicator{
    background:#137cbd; }
  .bp3-dark .bp3-control.bp3-switch:hover input:checked ~ .bp3-control-indicator{
    background:#106ba3; }
  .bp3-dark .bp3-control.bp3-switch input:checked:not(:disabled):active ~ .bp3-control-indicator{
    background:#0e5a8a; }
  .bp3-dark .bp3-control.bp3-switch input:checked:disabled ~ .bp3-control-indicator{
    background:rgba(14, 90, 138, 0.5); }
    .bp3-dark .bp3-control.bp3-switch input:checked:disabled ~ .bp3-control-indicator::before{
      background:rgba(16, 22, 26, 0.4); }
  .bp3-dark .bp3-control.bp3-switch .bp3-control-indicator::before{
    background:#394b59;
    -webkit-box-shadow:0 0 0 1px rgba(16, 22, 26, 0.4);
            box-shadow:0 0 0 1px rgba(16, 22, 26, 0.4); }
  .bp3-dark .bp3-control.bp3-switch input:checked ~ .bp3-control-indicator::before{
    -webkit-box-shadow:inset 0 0 0 1px rgba(16, 22, 26, 0.4);
            box-shadow:inset 0 0 0 1px rgba(16, 22, 26, 0.4); }
  .bp3-control.bp3-switch .bp3-switch-inner-text{
    font-size:0.7em;
    text-align:center; }
  .bp3-control.bp3-switch .bp3-control-indicator-child:first-child{
    line-height:0;
    margin-left:0.5em;
    margin-right:1.2em;
    visibility:hidden; }
  .bp3-control.bp3-switch .bp3-control-indicator-child:last-child{
    line-height:1em;
    margin-left:1.2em;
    margin-right:0.5em;
    visibility:visible; }
  .bp3-control.bp3-switch input:checked ~ .bp3-control-indicator .bp3-control-indicator-child:first-child{
    line-height:1em;
    visibility:visible; }
  .bp3-control.bp3-switch input:checked ~ .bp3-control-indicator .bp3-control-indicator-child:last-child{
    line-height:0;
    visibility:hidden; }
  .bp3-dark .bp3-control{
    color:#f5f8fa; }
    .bp3-dark .bp3-control.bp3-disabled{
      color:rgba(167, 182, 194, 0.6); }
    .bp3-dark .bp3-control .bp3-control-indicator{
      background-color:#394b59;
      background-image:-webkit-gradient(linear, left top, left bottom, from(rgba(255, 255, 255, 0.05)), to(rgba(255, 255, 255, 0)));
      background-image:linear-gradient(to bottom, rgba(255, 255, 255, 0.05), rgba(255, 255, 255, 0));
      -webkit-box-shadow:0 0 0 1px rgba(16, 22, 26, 0.4);
              box-shadow:0 0 0 1px rgba(16, 22, 26, 0.4); }
    .bp3-dark .bp3-control:hover .bp3-control-indicator{
      background-color:#30404d; }
    .bp3-dark .bp3-control input:not(:disabled):active ~ .bp3-control-indicator{
      background:#202b33;
      -webkit-box-shadow:0 0 0 1px rgba(16, 22, 26, 0.6), inset 0 1px 2px rgba(16, 22, 26, 0.2);
              box-shadow:0 0 0 1px rgba(16, 22, 26, 0.6), inset 0 1px 2px rgba(16, 22, 26, 0.2); }
    .bp3-dark .bp3-control input:disabled ~ .bp3-control-indicator{
      background:rgba(57, 75, 89, 0.5);
      -webkit-box-shadow:none;
              box-shadow:none;
      cursor:not-allowed; }
    .bp3-dark .bp3-control.bp3-checkbox input:disabled:checked ~ .bp3-control-indicator, .bp3-dark .bp3-control.bp3-checkbox input:disabled:indeterminate ~ .bp3-control-indicator{
      color:rgba(167, 182, 194, 0.6); }
.bp3-file-input{
  cursor:pointer;
  display:inline-block;
  height:30px;
  position:relative; }
  .bp3-file-input input{
    margin:0;
    min-width:200px;
    opacity:0; }
    .bp3-file-input input:disabled + .bp3-file-upload-input,
    .bp3-file-input input.bp3-disabled + .bp3-file-upload-input{
      background:rgba(206, 217, 224, 0.5);
      -webkit-box-shadow:none;
              box-shadow:none;
      color:rgba(92, 112, 128, 0.6);
      cursor:not-allowed;
      resize:none; }
      .bp3-file-input input:disabled + .bp3-file-upload-input::after,
      .bp3-file-input input.bp3-disabled + .bp3-file-upload-input::after{
        background-color:rgba(206, 217, 224, 0.5);
        background-image:none;
        -webkit-box-shadow:none;
                box-shadow:none;
        color:rgba(92, 112, 128, 0.6);
        cursor:not-allowed;
        outline:none; }
        .bp3-file-input input:disabled + .bp3-file-upload-input::after.bp3-active, .bp3-file-input input:disabled + .bp3-file-upload-input::after.bp3-active:hover,
        .bp3-file-input input.bp3-disabled + .bp3-file-upload-input::after.bp3-active,
        .bp3-file-input input.bp3-disabled + .bp3-file-upload-input::after.bp3-active:hover{
          background:rgba(206, 217, 224, 0.7); }
      .bp3-dark .bp3-file-input input:disabled + .bp3-file-upload-input, .bp3-dark
      .bp3-file-input input.bp3-disabled + .bp3-file-upload-input{
        background:rgba(57, 75, 89, 0.5);
        -webkit-box-shadow:none;
                box-shadow:none;
        color:rgba(167, 182, 194, 0.6); }
        .bp3-dark .bp3-file-input input:disabled + .bp3-file-upload-input::after, .bp3-dark
        .bp3-file-input input.bp3-disabled + .bp3-file-upload-input::after{
          background-color:rgba(57, 75, 89, 0.5);
          background-image:none;
          -webkit-box-shadow:none;
                  box-shadow:none;
          color:rgba(167, 182, 194, 0.6); }
          .bp3-dark .bp3-file-input input:disabled + .bp3-file-upload-input::after.bp3-active, .bp3-dark
          .bp3-file-input input.bp3-disabled + .bp3-file-upload-input::after.bp3-active{
            background:rgba(57, 75, 89, 0.7); }
  .bp3-file-input.bp3-file-input-has-selection .bp3-file-upload-input{
    color:#182026; }
  .bp3-dark .bp3-file-input.bp3-file-input-has-selection .bp3-file-upload-input{
    color:#f5f8fa; }
  .bp3-file-input.bp3-fill{
    width:100%; }
  .bp3-file-input.bp3-large,
  .bp3-large .bp3-file-input{
    height:40px; }
  .bp3-file-input .bp3-file-upload-input-custom-text::after{
    content:attr(bp3-button-text); }

.bp3-file-upload-input{
  -webkit-appearance:none;
     -moz-appearance:none;
          appearance:none;
  background:#ffffff;
  border:none;
  border-radius:3px;
  -webkit-box-shadow:0 0 0 0 rgba(19, 124, 189, 0), 0 0 0 0 rgba(19, 124, 189, 0), inset 0 0 0 1px rgba(16, 22, 26, 0.15), inset 0 1px 1px rgba(16, 22, 26, 0.2);
          box-shadow:0 0 0 0 rgba(19, 124, 189, 0), 0 0 0 0 rgba(19, 124, 189, 0), inset 0 0 0 1px rgba(16, 22, 26, 0.15), inset 0 1px 1px rgba(16, 22, 26, 0.2);
  color:#182026;
  font-size:14px;
  font-weight:400;
  height:30px;
  line-height:30px;
  outline:none;
  padding:0 10px;
  -webkit-transition:-webkit-box-shadow 100ms cubic-bezier(0.4, 1, 0.75, 0.9);
  transition:-webkit-box-shadow 100ms cubic-bezier(0.4, 1, 0.75, 0.9);
  transition:box-shadow 100ms cubic-bezier(0.4, 1, 0.75, 0.9);
  transition:box-shadow 100ms cubic-bezier(0.4, 1, 0.75, 0.9), -webkit-box-shadow 100ms cubic-bezier(0.4, 1, 0.75, 0.9);
  vertical-align:middle;
  overflow:hidden;
  text-overflow:ellipsis;
  white-space:nowrap;
  word-wrap:normal;
  color:rgba(92, 112, 128, 0.6);
  left:0;
  padding-right:80px;
  position:absolute;
  right:0;
  top:0;
  -webkit-user-select:none;
     -moz-user-select:none;
      -ms-user-select:none;
          user-select:none; }
  .bp3-file-upload-input::-webkit-input-placeholder{
    color:rgba(92, 112, 128, 0.6);
    opacity:1; }
  .bp3-file-upload-input::-moz-placeholder{
    color:rgba(92, 112, 128, 0.6);
    opacity:1; }
  .bp3-file-upload-input:-ms-input-placeholder{
    color:rgba(92, 112, 128, 0.6);
    opacity:1; }
  .bp3-file-upload-input::-ms-input-placeholder{
    color:rgba(92, 112, 128, 0.6);
    opacity:1; }
  .bp3-file-upload-input::placeholder{
    color:rgba(92, 112, 128, 0.6);
    opacity:1; }
  .bp3-file-upload-input:focus, .bp3-file-upload-input.bp3-active{
    -webkit-box-shadow:0 0 0 1px #137cbd, 0 0 0 3px rgba(19, 124, 189, 0.3), inset 0 1px 1px rgba(16, 22, 26, 0.2);
            box-shadow:0 0 0 1px #137cbd, 0 0 0 3px rgba(19, 124, 189, 0.3), inset 0 1px 1px rgba(16, 22, 26, 0.2); }
  .bp3-file-upload-input[type="search"], .bp3-file-upload-input.bp3-round{
    border-radius:30px;
    -webkit-box-sizing:border-box;
            box-sizing:border-box;
    padding-left:10px; }
  .bp3-file-upload-input[readonly]{
    -webkit-box-shadow:inset 0 0 0 1px rgba(16, 22, 26, 0.15);
            box-shadow:inset 0 0 0 1px rgba(16, 22, 26, 0.15); }
  .bp3-file-upload-input:disabled, .bp3-file-upload-input.bp3-disabled{
    background:rgba(206, 217, 224, 0.5);
    -webkit-box-shadow:none;
            box-shadow:none;
    color:rgba(92, 112, 128, 0.6);
    cursor:not-allowed;
    resize:none; }
  .bp3-file-upload-input::after{
    background-color:#f5f8fa;
    background-image:-webkit-gradient(linear, left top, left bottom, from(rgba(255, 255, 255, 0.8)), to(rgba(255, 255, 255, 0)));
    background-image:linear-gradient(to bottom, rgba(255, 255, 255, 0.8), rgba(255, 255, 255, 0));
    -webkit-box-shadow:inset 0 0 0 1px rgba(16, 22, 26, 0.2), inset 0 -1px 0 rgba(16, 22, 26, 0.1);
            box-shadow:inset 0 0 0 1px rgba(16, 22, 26, 0.2), inset 0 -1px 0 rgba(16, 22, 26, 0.1);
    color:#182026;
    min-height:24px;
    min-width:24px;
    overflow:hidden;
    text-overflow:ellipsis;
    white-space:nowrap;
    word-wrap:normal;
    border-radius:3px;
    content:"Browse";
    line-height:24px;
    margin:3px;
    position:absolute;
    right:0;
    text-align:center;
    top:0;
    width:70px; }
    .bp3-file-upload-input::after:hover{
      background-clip:padding-box;
      background-color:#ebf1f5;
      -webkit-box-shadow:inset 0 0 0 1px rgba(16, 22, 26, 0.2), inset 0 -1px 0 rgba(16, 22, 26, 0.1);
              box-shadow:inset 0 0 0 1px rgba(16, 22, 26, 0.2), inset 0 -1px 0 rgba(16, 22, 26, 0.1); }
    .bp3-file-upload-input::after:active, .bp3-file-upload-input::after.bp3-active{
      background-color:#d8e1e8;
      background-image:none;
      -webkit-box-shadow:inset 0 0 0 1px rgba(16, 22, 26, 0.2), inset 0 1px 2px rgba(16, 22, 26, 0.2);
              box-shadow:inset 0 0 0 1px rgba(16, 22, 26, 0.2), inset 0 1px 2px rgba(16, 22, 26, 0.2); }
    .bp3-file-upload-input::after:disabled, .bp3-file-upload-input::after.bp3-disabled{
      background-color:rgba(206, 217, 224, 0.5);
      background-image:none;
      -webkit-box-shadow:none;
              box-shadow:none;
      color:rgba(92, 112, 128, 0.6);
      cursor:not-allowed;
      outline:none; }
      .bp3-file-upload-input::after:disabled.bp3-active, .bp3-file-upload-input::after:disabled.bp3-active:hover, .bp3-file-upload-input::after.bp3-disabled.bp3-active, .bp3-file-upload-input::after.bp3-disabled.bp3-active:hover{
        background:rgba(206, 217, 224, 0.7); }
  .bp3-file-upload-input:hover::after{
    background-clip:padding-box;
    background-color:#ebf1f5;
    -webkit-box-shadow:inset 0 0 0 1px rgba(16, 22, 26, 0.2), inset 0 -1px 0 rgba(16, 22, 26, 0.1);
            box-shadow:inset 0 0 0 1px rgba(16, 22, 26, 0.2), inset 0 -1px 0 rgba(16, 22, 26, 0.1); }
  .bp3-file-upload-input:active::after{
    background-color:#d8e1e8;
    background-image:none;
    -webkit-box-shadow:inset 0 0 0 1px rgba(16, 22, 26, 0.2), inset 0 1px 2px rgba(16, 22, 26, 0.2);
            box-shadow:inset 0 0 0 1px rgba(16, 22, 26, 0.2), inset 0 1px 2px rgba(16, 22, 26, 0.2); }
  .bp3-large .bp3-file-upload-input{
    font-size:16px;
    height:40px;
    line-height:40px;
    padding-right:95px; }
    .bp3-large .bp3-file-upload-input[type="search"], .bp3-large .bp3-file-upload-input.bp3-round{
      padding:0 15px; }
    .bp3-large .bp3-file-upload-input::after{
      min-height:30px;
      min-width:30px;
      line-height:30px;
      margin:5px;
      width:85px; }
  .bp3-dark .bp3-file-upload-input{
    background:rgba(16, 22, 26, 0.3);
    -webkit-box-shadow:0 0 0 0 rgba(19, 124, 189, 0), 0 0 0 0 rgba(19, 124, 189, 0), 0 0 0 0 rgba(19, 124, 189, 0), inset 0 0 0 1px rgba(16, 22, 26, 0.3), inset 0 1px 1px rgba(16, 22, 26, 0.4);
            box-shadow:0 0 0 0 rgba(19, 124, 189, 0), 0 0 0 0 rgba(19, 124, 189, 0), 0 0 0 0 rgba(19, 124, 189, 0), inset 0 0 0 1px rgba(16, 22, 26, 0.3), inset 0 1px 1px rgba(16, 22, 26, 0.4);
    color:#f5f8fa;
    color:rgba(167, 182, 194, 0.6); }
    .bp3-dark .bp3-file-upload-input::-webkit-input-placeholder{
      color:rgba(167, 182, 194, 0.6); }
    .bp3-dark .bp3-file-upload-input::-moz-placeholder{
      color:rgba(167, 182, 194, 0.6); }
    .bp3-dark .bp3-file-upload-input:-ms-input-placeholder{
      color:rgba(167, 182, 194, 0.6); }
    .bp3-dark .bp3-file-upload-input::-ms-input-placeholder{
      color:rgba(167, 182, 194, 0.6); }
    .bp3-dark .bp3-file-upload-input::placeholder{
      color:rgba(167, 182, 194, 0.6); }
    .bp3-dark .bp3-file-upload-input:focus{
      -webkit-box-shadow:0 0 0 1px #137cbd, 0 0 0 1px #137cbd, 0 0 0 3px rgba(19, 124, 189, 0.3), inset 0 0 0 1px rgba(16, 22, 26, 0.3), inset 0 1px 1px rgba(16, 22, 26, 0.4);
              box-shadow:0 0 0 1px #137cbd, 0 0 0 1px #137cbd, 0 0 0 3px rgba(19, 124, 189, 0.3), inset 0 0 0 1px rgba(16, 22, 26, 0.3), inset 0 1px 1px rgba(16, 22, 26, 0.4); }
    .bp3-dark .bp3-file-upload-input[readonly]{
      -webkit-box-shadow:inset 0 0 0 1px rgba(16, 22, 26, 0.4);
              box-shadow:inset 0 0 0 1px rgba(16, 22, 26, 0.4); }
    .bp3-dark .bp3-file-upload-input:disabled, .bp3-dark .bp3-file-upload-input.bp3-disabled{
      background:rgba(57, 75, 89, 0.5);
      -webkit-box-shadow:none;
              box-shadow:none;
      color:rgba(167, 182, 194, 0.6); }
    .bp3-dark .bp3-file-upload-input::after{
      background-color:#394b59;
      background-image:-webkit-gradient(linear, left top, left bottom, from(rgba(255, 255, 255, 0.05)), to(rgba(255, 255, 255, 0)));
      background-image:linear-gradient(to bottom, rgba(255, 255, 255, 0.05), rgba(255, 255, 255, 0));
      -webkit-box-shadow:0 0 0 1px rgba(16, 22, 26, 0.4);
              box-shadow:0 0 0 1px rgba(16, 22, 26, 0.4);
      color:#f5f8fa; }
      .bp3-dark .bp3-file-upload-input::after:hover, .bp3-dark .bp3-file-upload-input::after:active, .bp3-dark .bp3-file-upload-input::after.bp3-active{
        color:#f5f8fa; }
      .bp3-dark .bp3-file-upload-input::after:hover{
        background-color:#30404d;
        -webkit-box-shadow:0 0 0 1px rgba(16, 22, 26, 0.4);
                box-shadow:0 0 0 1px rgba(16, 22, 26, 0.4); }
      .bp3-dark .bp3-file-upload-input::after:active, .bp3-dark .bp3-file-upload-input::after.bp3-active{
        background-color:#202b33;
        background-image:none;
        -webkit-box-shadow:0 0 0 1px rgba(16, 22, 26, 0.6), inset 0 1px 2px rgba(16, 22, 26, 0.2);
                box-shadow:0 0 0 1px rgba(16, 22, 26, 0.6), inset 0 1px 2px rgba(16, 22, 26, 0.2); }
      .bp3-dark .bp3-file-upload-input::after:disabled, .bp3-dark .bp3-file-upload-input::after.bp3-disabled{
        background-color:rgba(57, 75, 89, 0.5);
        background-image:none;
        -webkit-box-shadow:none;
                box-shadow:none;
        color:rgba(167, 182, 194, 0.6); }
        .bp3-dark .bp3-file-upload-input::after:disabled.bp3-active, .bp3-dark .bp3-file-upload-input::after.bp3-disabled.bp3-active{
          background:rgba(57, 75, 89, 0.7); }
      .bp3-dark .bp3-file-upload-input::after .bp3-button-spinner .bp3-spinner-head{
        background:rgba(16, 22, 26, 0.5);
        stroke:#8a9ba8; }
    .bp3-dark .bp3-file-upload-input:hover::after{
      background-color:#30404d;
      -webkit-box-shadow:0 0 0 1px rgba(16, 22, 26, 0.4);
              box-shadow:0 0 0 1px rgba(16, 22, 26, 0.4); }
    .bp3-dark .bp3-file-upload-input:active::after{
      background-color:#202b33;
      background-image:none;
      -webkit-box-shadow:0 0 0 1px rgba(16, 22, 26, 0.6), inset 0 1px 2px rgba(16, 22, 26, 0.2);
              box-shadow:0 0 0 1px rgba(16, 22, 26, 0.6), inset 0 1px 2px rgba(16, 22, 26, 0.2); }
.bp3-file-upload-input::after{
  -webkit-box-shadow:inset 0 0 0 1px rgba(16, 22, 26, 0.2), inset 0 -1px 0 rgba(16, 22, 26, 0.1);
          box-shadow:inset 0 0 0 1px rgba(16, 22, 26, 0.2), inset 0 -1px 0 rgba(16, 22, 26, 0.1); }
.bp3-form-group{
  display:-webkit-box;
  display:-ms-flexbox;
  display:flex;
  -webkit-box-orient:vertical;
  -webkit-box-direction:normal;
      -ms-flex-direction:column;
          flex-direction:column;
  margin:0 0 15px; }
  .bp3-form-group label.bp3-label{
    margin-bottom:5px; }
  .bp3-form-group .bp3-control{
    margin-top:7px; }
  .bp3-form-group .bp3-form-helper-text{
    color:#5c7080;
    font-size:12px;
    margin-top:5px; }
  .bp3-form-group.bp3-intent-primary .bp3-form-helper-text{
    color:#106ba3; }
  .bp3-form-group.bp3-intent-success .bp3-form-helper-text{
    color:#0d8050; }
  .bp3-form-group.bp3-intent-warning .bp3-form-helper-text{
    color:#bf7326; }
  .bp3-form-group.bp3-intent-danger .bp3-form-helper-text{
    color:#c23030; }
  .bp3-form-group.bp3-inline{
    -webkit-box-align:start;
        -ms-flex-align:start;
            align-items:flex-start;
    -webkit-box-orient:horizontal;
    -webkit-box-direction:normal;
        -ms-flex-direction:row;
            flex-direction:row; }
    .bp3-form-group.bp3-inline.bp3-large label.bp3-label{
      line-height:40px;
      margin:0 10px 0 0; }
    .bp3-form-group.bp3-inline label.bp3-label{
      line-height:30px;
      margin:0 10px 0 0; }
  .bp3-form-group.bp3-disabled .bp3-label,
  .bp3-form-group.bp3-disabled .bp3-text-muted,
  .bp3-form-group.bp3-disabled .bp3-form-helper-text{
    color:rgba(92, 112, 128, 0.6) !important; }
  .bp3-dark .bp3-form-group.bp3-intent-primary .bp3-form-helper-text{
    color:#48aff0; }
  .bp3-dark .bp3-form-group.bp3-intent-success .bp3-form-helper-text{
    color:#3dcc91; }
  .bp3-dark .bp3-form-group.bp3-intent-warning .bp3-form-helper-text{
    color:#ffb366; }
  .bp3-dark .bp3-form-group.bp3-intent-danger .bp3-form-helper-text{
    color:#ff7373; }
  .bp3-dark .bp3-form-group .bp3-form-helper-text{
    color:#a7b6c2; }
  .bp3-dark .bp3-form-group.bp3-disabled .bp3-label,
  .bp3-dark .bp3-form-group.bp3-disabled .bp3-text-muted,
  .bp3-dark .bp3-form-group.bp3-disabled .bp3-form-helper-text{
    color:rgba(167, 182, 194, 0.6) !important; }
.bp3-input-group{
  display:block;
  position:relative; }
  .bp3-input-group .bp3-input{
    position:relative;
    width:100%; }
    .bp3-input-group .bp3-input:not(:first-child){
      padding-left:30px; }
    .bp3-input-group .bp3-input:not(:last-child){
      padding-right:30px; }
  .bp3-input-group .bp3-input-action,
  .bp3-input-group > .bp3-input-left-container,
  .bp3-input-group > .bp3-button,
  .bp3-input-group > .bp3-icon{
    position:absolute;
    top:0; }
    .bp3-input-group .bp3-input-action:first-child,
    .bp3-input-group > .bp3-input-left-container:first-child,
    .bp3-input-group > .bp3-button:first-child,
    .bp3-input-group > .bp3-icon:first-child{
      left:0; }
    .bp3-input-group .bp3-input-action:last-child,
    .bp3-input-group > .bp3-input-left-container:last-child,
    .bp3-input-group > .bp3-button:last-child,
    .bp3-input-group > .bp3-icon:last-child{
      right:0; }
  .bp3-input-group .bp3-button{
    min-height:24px;
    min-width:24px;
    margin:3px;
    padding:0 7px; }
    .bp3-input-group .bp3-button:empty{
      padding:0; }
  .bp3-input-group > .bp3-input-left-container,
  .bp3-input-group > .bp3-icon{
    z-index:1; }
  .bp3-input-group > .bp3-input-left-container > .bp3-icon,
  .bp3-input-group > .bp3-icon{
    color:#5c7080; }
    .bp3-input-group > .bp3-input-left-container > .bp3-icon:empty,
    .bp3-input-group > .bp3-icon:empty{
      font-family:"Icons16", sans-serif;
      font-size:16px;
      font-style:normal;
      font-weight:400;
      line-height:1;
      -moz-osx-font-smoothing:grayscale;
      -webkit-font-smoothing:antialiased; }
  .bp3-input-group > .bp3-input-left-container > .bp3-icon,
  .bp3-input-group > .bp3-icon,
  .bp3-input-group .bp3-input-action > .bp3-spinner{
    margin:7px; }
  .bp3-input-group .bp3-tag{
    margin:5px; }
  .bp3-input-group .bp3-input:not(:focus) + .bp3-button.bp3-minimal:not(:hover):not(:focus),
  .bp3-input-group .bp3-input:not(:focus) + .bp3-input-action .bp3-button.bp3-minimal:not(:hover):not(:focus){
    color:#5c7080; }
    .bp3-dark .bp3-input-group .bp3-input:not(:focus) + .bp3-button.bp3-minimal:not(:hover):not(:focus), .bp3-dark
    .bp3-input-group .bp3-input:not(:focus) + .bp3-input-action .bp3-button.bp3-minimal:not(:hover):not(:focus){
      color:#a7b6c2; }
    .bp3-input-group .bp3-input:not(:focus) + .bp3-button.bp3-minimal:not(:hover):not(:focus) .bp3-icon, .bp3-input-group .bp3-input:not(:focus) + .bp3-button.bp3-minimal:not(:hover):not(:focus) .bp3-icon-standard, .bp3-input-group .bp3-input:not(:focus) + .bp3-button.bp3-minimal:not(:hover):not(:focus) .bp3-icon-large,
    .bp3-input-group .bp3-input:not(:focus) + .bp3-input-action .bp3-button.bp3-minimal:not(:hover):not(:focus) .bp3-icon,
    .bp3-input-group .bp3-input:not(:focus) + .bp3-input-action .bp3-button.bp3-minimal:not(:hover):not(:focus) .bp3-icon-standard,
    .bp3-input-group .bp3-input:not(:focus) + .bp3-input-action .bp3-button.bp3-minimal:not(:hover):not(:focus) .bp3-icon-large{
      color:#5c7080; }
  .bp3-input-group .bp3-input:not(:focus) + .bp3-button.bp3-minimal:disabled,
  .bp3-input-group .bp3-input:not(:focus) + .bp3-input-action .bp3-button.bp3-minimal:disabled{
    color:rgba(92, 112, 128, 0.6) !important; }
    .bp3-input-group .bp3-input:not(:focus) + .bp3-button.bp3-minimal:disabled .bp3-icon, .bp3-input-group .bp3-input:not(:focus) + .bp3-button.bp3-minimal:disabled .bp3-icon-standard, .bp3-input-group .bp3-input:not(:focus) + .bp3-button.bp3-minimal:disabled .bp3-icon-large,
    .bp3-input-group .bp3-input:not(:focus) + .bp3-input-action .bp3-button.bp3-minimal:disabled .bp3-icon,
    .bp3-input-group .bp3-input:not(:focus) + .bp3-input-action .bp3-button.bp3-minimal:disabled .bp3-icon-standard,
    .bp3-input-group .bp3-input:not(:focus) + .bp3-input-action .bp3-button.bp3-minimal:disabled .bp3-icon-large{
      color:rgba(92, 112, 128, 0.6) !important; }
  .bp3-input-group.bp3-disabled{
    cursor:not-allowed; }
    .bp3-input-group.bp3-disabled .bp3-icon{
      color:rgba(92, 112, 128, 0.6); }
  .bp3-input-group.bp3-large .bp3-button{
    min-height:30px;
    min-width:30px;
    margin:5px; }
  .bp3-input-group.bp3-large > .bp3-input-left-container > .bp3-icon,
  .bp3-input-group.bp3-large > .bp3-icon,
  .bp3-input-group.bp3-large .bp3-input-action > .bp3-spinner{
    margin:12px; }
  .bp3-input-group.bp3-large .bp3-input{
    font-size:16px;
    height:40px;
    line-height:40px; }
    .bp3-input-group.bp3-large .bp3-input[type="search"], .bp3-input-group.bp3-large .bp3-input.bp3-round{
      padding:0 15px; }
    .bp3-input-group.bp3-large .bp3-input:not(:first-child){
      padding-left:40px; }
    .bp3-input-group.bp3-large .bp3-input:not(:last-child){
      padding-right:40px; }
  .bp3-input-group.bp3-small .bp3-button{
    min-height:20px;
    min-width:20px;
    margin:2px; }
  .bp3-input-group.bp3-small .bp3-tag{
    min-height:20px;
    min-width:20px;
    margin:2px; }
  .bp3-input-group.bp3-small > .bp3-input-left-container > .bp3-icon,
  .bp3-input-group.bp3-small > .bp3-icon,
  .bp3-input-group.bp3-small .bp3-input-action > .bp3-spinner{
    margin:4px; }
  .bp3-input-group.bp3-small .bp3-input{
    font-size:12px;
    height:24px;
    line-height:24px;
    padding-left:8px;
    padding-right:8px; }
    .bp3-input-group.bp3-small .bp3-input[type="search"], .bp3-input-group.bp3-small .bp3-input.bp3-round{
      padding:0 12px; }
    .bp3-input-group.bp3-small .bp3-input:not(:first-child){
      padding-left:24px; }
    .bp3-input-group.bp3-small .bp3-input:not(:last-child){
      padding-right:24px; }
  .bp3-input-group.bp3-fill{
    -webkit-box-flex:1;
        -ms-flex:1 1 auto;
            flex:1 1 auto;
    width:100%; }
  .bp3-input-group.bp3-round .bp3-button,
  .bp3-input-group.bp3-round .bp3-input,
  .bp3-input-group.bp3-round .bp3-tag{
    border-radius:30px; }
  .bp3-dark .bp3-input-group .bp3-icon{
    color:#a7b6c2; }
  .bp3-dark .bp3-input-group.bp3-disabled .bp3-icon{
    color:rgba(167, 182, 194, 0.6); }
  .bp3-input-group.bp3-intent-primary .bp3-input{
    -webkit-box-shadow:0 0 0 0 rgba(19, 124, 189, 0), 0 0 0 0 rgba(19, 124, 189, 0), inset 0 0 0 1px #137cbd, inset 0 0 0 1px rgba(16, 22, 26, 0.15), inset 0 1px 1px rgba(16, 22, 26, 0.2);
            box-shadow:0 0 0 0 rgba(19, 124, 189, 0), 0 0 0 0 rgba(19, 124, 189, 0), inset 0 0 0 1px #137cbd, inset 0 0 0 1px rgba(16, 22, 26, 0.15), inset 0 1px 1px rgba(16, 22, 26, 0.2); }
    .bp3-input-group.bp3-intent-primary .bp3-input:focus{
      -webkit-box-shadow:0 0 0 1px #137cbd, 0 0 0 3px rgba(19, 124, 189, 0.3), inset 0 1px 1px rgba(16, 22, 26, 0.2);
              box-shadow:0 0 0 1px #137cbd, 0 0 0 3px rgba(19, 124, 189, 0.3), inset 0 1px 1px rgba(16, 22, 26, 0.2); }
    .bp3-input-group.bp3-intent-primary .bp3-input[readonly]{
      -webkit-box-shadow:inset 0 0 0 1px #137cbd;
              box-shadow:inset 0 0 0 1px #137cbd; }
    .bp3-input-group.bp3-intent-primary .bp3-input:disabled, .bp3-input-group.bp3-intent-primary .bp3-input.bp3-disabled{
      -webkit-box-shadow:none;
              box-shadow:none; }
  .bp3-input-group.bp3-intent-primary > .bp3-icon{
    color:#106ba3; }
    .bp3-dark .bp3-input-group.bp3-intent-primary > .bp3-icon{
      color:#48aff0; }
  .bp3-input-group.bp3-intent-success .bp3-input{
    -webkit-box-shadow:0 0 0 0 rgba(15, 153, 96, 0), 0 0 0 0 rgba(15, 153, 96, 0), inset 0 0 0 1px #0f9960, inset 0 0 0 1px rgba(16, 22, 26, 0.15), inset 0 1px 1px rgba(16, 22, 26, 0.2);
            box-shadow:0 0 0 0 rgba(15, 153, 96, 0), 0 0 0 0 rgba(15, 153, 96, 0), inset 0 0 0 1px #0f9960, inset 0 0 0 1px rgba(16, 22, 26, 0.15), inset 0 1px 1px rgba(16, 22, 26, 0.2); }
    .bp3-input-group.bp3-intent-success .bp3-input:focus{
      -webkit-box-shadow:0 0 0 1px #0f9960, 0 0 0 3px rgba(15, 153, 96, 0.3), inset 0 1px 1px rgba(16, 22, 26, 0.2);
              box-shadow:0 0 0 1px #0f9960, 0 0 0 3px rgba(15, 153, 96, 0.3), inset 0 1px 1px rgba(16, 22, 26, 0.2); }
    .bp3-input-group.bp3-intent-success .bp3-input[readonly]{
      -webkit-box-shadow:inset 0 0 0 1px #0f9960;
              box-shadow:inset 0 0 0 1px #0f9960; }
    .bp3-input-group.bp3-intent-success .bp3-input:disabled, .bp3-input-group.bp3-intent-success .bp3-input.bp3-disabled{
      -webkit-box-shadow:none;
              box-shadow:none; }
  .bp3-input-group.bp3-intent-success > .bp3-icon{
    color:#0d8050; }
    .bp3-dark .bp3-input-group.bp3-intent-success > .bp3-icon{
      color:#3dcc91; }
  .bp3-input-group.bp3-intent-warning .bp3-input{
    -webkit-box-shadow:0 0 0 0 rgba(217, 130, 43, 0), 0 0 0 0 rgba(217, 130, 43, 0), inset 0 0 0 1px #d9822b, inset 0 0 0 1px rgba(16, 22, 26, 0.15), inset 0 1px 1px rgba(16, 22, 26, 0.2);
            box-shadow:0 0 0 0 rgba(217, 130, 43, 0), 0 0 0 0 rgba(217, 130, 43, 0), inset 0 0 0 1px #d9822b, inset 0 0 0 1px rgba(16, 22, 26, 0.15), inset 0 1px 1px rgba(16, 22, 26, 0.2); }
    .bp3-input-group.bp3-intent-warning .bp3-input:focus{
      -webkit-box-shadow:0 0 0 1px #d9822b, 0 0 0 3px rgba(217, 130, 43, 0.3), inset 0 1px 1px rgba(16, 22, 26, 0.2);
              box-shadow:0 0 0 1px #d9822b, 0 0 0 3px rgba(217, 130, 43, 0.3), inset 0 1px 1px rgba(16, 22, 26, 0.2); }
    .bp3-input-group.bp3-intent-warning .bp3-input[readonly]{
      -webkit-box-shadow:inset 0 0 0 1px #d9822b;
              box-shadow:inset 0 0 0 1px #d9822b; }
    .bp3-input-group.bp3-intent-warning .bp3-input:disabled, .bp3-input-group.bp3-intent-warning .bp3-input.bp3-disabled{
      -webkit-box-shadow:none;
              box-shadow:none; }
  .bp3-input-group.bp3-intent-warning > .bp3-icon{
    color:#bf7326; }
    .bp3-dark .bp3-input-group.bp3-intent-warning > .bp3-icon{
      color:#ffb366; }
  .bp3-input-group.bp3-intent-danger .bp3-input{
    -webkit-box-shadow:0 0 0 0 rgba(219, 55, 55, 0), 0 0 0 0 rgba(219, 55, 55, 0), inset 0 0 0 1px #db3737, inset 0 0 0 1px rgba(16, 22, 26, 0.15), inset 0 1px 1px rgba(16, 22, 26, 0.2);
            box-shadow:0 0 0 0 rgba(219, 55, 55, 0), 0 0 0 0 rgba(219, 55, 55, 0), inset 0 0 0 1px #db3737, inset 0 0 0 1px rgba(16, 22, 26, 0.15), inset 0 1px 1px rgba(16, 22, 26, 0.2); }
    .bp3-input-group.bp3-intent-danger .bp3-input:focus{
      -webkit-box-shadow:0 0 0 1px #db3737, 0 0 0 3px rgba(219, 55, 55, 0.3), inset 0 1px 1px rgba(16, 22, 26, 0.2);
              box-shadow:0 0 0 1px #db3737, 0 0 0 3px rgba(219, 55, 55, 0.3), inset 0 1px 1px rgba(16, 22, 26, 0.2); }
    .bp3-input-group.bp3-intent-danger .bp3-input[readonly]{
      -webkit-box-shadow:inset 0 0 0 1px #db3737;
              box-shadow:inset 0 0 0 1px #db3737; }
    .bp3-input-group.bp3-intent-danger .bp3-input:disabled, .bp3-input-group.bp3-intent-danger .bp3-input.bp3-disabled{
      -webkit-box-shadow:none;
              box-shadow:none; }
  .bp3-input-group.bp3-intent-danger > .bp3-icon{
    color:#c23030; }
    .bp3-dark .bp3-input-group.bp3-intent-danger > .bp3-icon{
      color:#ff7373; }
.bp3-input{
  -webkit-appearance:none;
     -moz-appearance:none;
          appearance:none;
  background:#ffffff;
  border:none;
  border-radius:3px;
  -webkit-box-shadow:0 0 0 0 rgba(19, 124, 189, 0), 0 0 0 0 rgba(19, 124, 189, 0), inset 0 0 0 1px rgba(16, 22, 26, 0.15), inset 0 1px 1px rgba(16, 22, 26, 0.2);
          box-shadow:0 0 0 0 rgba(19, 124, 189, 0), 0 0 0 0 rgba(19, 124, 189, 0), inset 0 0 0 1px rgba(16, 22, 26, 0.15), inset 0 1px 1px rgba(16, 22, 26, 0.2);
  color:#182026;
  font-size:14px;
  font-weight:400;
  height:30px;
  line-height:30px;
  outline:none;
  padding:0 10px;
  -webkit-transition:-webkit-box-shadow 100ms cubic-bezier(0.4, 1, 0.75, 0.9);
  transition:-webkit-box-shadow 100ms cubic-bezier(0.4, 1, 0.75, 0.9);
  transition:box-shadow 100ms cubic-bezier(0.4, 1, 0.75, 0.9);
  transition:box-shadow 100ms cubic-bezier(0.4, 1, 0.75, 0.9), -webkit-box-shadow 100ms cubic-bezier(0.4, 1, 0.75, 0.9);
  vertical-align:middle; }
  .bp3-input::-webkit-input-placeholder{
    color:rgba(92, 112, 128, 0.6);
    opacity:1; }
  .bp3-input::-moz-placeholder{
    color:rgba(92, 112, 128, 0.6);
    opacity:1; }
  .bp3-input:-ms-input-placeholder{
    color:rgba(92, 112, 128, 0.6);
    opacity:1; }
  .bp3-input::-ms-input-placeholder{
    color:rgba(92, 112, 128, 0.6);
    opacity:1; }
  .bp3-input::placeholder{
    color:rgba(92, 112, 128, 0.6);
    opacity:1; }
  .bp3-input:focus, .bp3-input.bp3-active{
    -webkit-box-shadow:0 0 0 1px #137cbd, 0 0 0 3px rgba(19, 124, 189, 0.3), inset 0 1px 1px rgba(16, 22, 26, 0.2);
            box-shadow:0 0 0 1px #137cbd, 0 0 0 3px rgba(19, 124, 189, 0.3), inset 0 1px 1px rgba(16, 22, 26, 0.2); }
  .bp3-input[type="search"], .bp3-input.bp3-round{
    border-radius:30px;
    -webkit-box-sizing:border-box;
            box-sizing:border-box;
    padding-left:10px; }
  .bp3-input[readonly]{
    -webkit-box-shadow:inset 0 0 0 1px rgba(16, 22, 26, 0.15);
            box-shadow:inset 0 0 0 1px rgba(16, 22, 26, 0.15); }
  .bp3-input:disabled, .bp3-input.bp3-disabled{
    background:rgba(206, 217, 224, 0.5);
    -webkit-box-shadow:none;
            box-shadow:none;
    color:rgba(92, 112, 128, 0.6);
    cursor:not-allowed;
    resize:none; }
  .bp3-input.bp3-large{
    font-size:16px;
    height:40px;
    line-height:40px; }
    .bp3-input.bp3-large[type="search"], .bp3-input.bp3-large.bp3-round{
      padding:0 15px; }
  .bp3-input.bp3-small{
    font-size:12px;
    height:24px;
    line-height:24px;
    padding-left:8px;
    padding-right:8px; }
    .bp3-input.bp3-small[type="search"], .bp3-input.bp3-small.bp3-round{
      padding:0 12px; }
  .bp3-input.bp3-fill{
    -webkit-box-flex:1;
        -ms-flex:1 1 auto;
            flex:1 1 auto;
    width:100%; }
  .bp3-dark .bp3-input{
    background:rgba(16, 22, 26, 0.3);
    -webkit-box-shadow:0 0 0 0 rgba(19, 124, 189, 0), 0 0 0 0 rgba(19, 124, 189, 0), 0 0 0 0 rgba(19, 124, 189, 0), inset 0 0 0 1px rgba(16, 22, 26, 0.3), inset 0 1px 1px rgba(16, 22, 26, 0.4);
            box-shadow:0 0 0 0 rgba(19, 124, 189, 0), 0 0 0 0 rgba(19, 124, 189, 0), 0 0 0 0 rgba(19, 124, 189, 0), inset 0 0 0 1px rgba(16, 22, 26, 0.3), inset 0 1px 1px rgba(16, 22, 26, 0.4);
    color:#f5f8fa; }
    .bp3-dark .bp3-input::-webkit-input-placeholder{
      color:rgba(167, 182, 194, 0.6); }
    .bp3-dark .bp3-input::-moz-placeholder{
      color:rgba(167, 182, 194, 0.6); }
    .bp3-dark .bp3-input:-ms-input-placeholder{
      color:rgba(167, 182, 194, 0.6); }
    .bp3-dark .bp3-input::-ms-input-placeholder{
      color:rgba(167, 182, 194, 0.6); }
    .bp3-dark .bp3-input::placeholder{
      color:rgba(167, 182, 194, 0.6); }
    .bp3-dark .bp3-input:focus{
      -webkit-box-shadow:0 0 0 1px #137cbd, 0 0 0 1px #137cbd, 0 0 0 3px rgba(19, 124, 189, 0.3), inset 0 0 0 1px rgba(16, 22, 26, 0.3), inset 0 1px 1px rgba(16, 22, 26, 0.4);
              box-shadow:0 0 0 1px #137cbd, 0 0 0 1px #137cbd, 0 0 0 3px rgba(19, 124, 189, 0.3), inset 0 0 0 1px rgba(16, 22, 26, 0.3), inset 0 1px 1px rgba(16, 22, 26, 0.4); }
    .bp3-dark .bp3-input[readonly]{
      -webkit-box-shadow:inset 0 0 0 1px rgba(16, 22, 26, 0.4);
              box-shadow:inset 0 0 0 1px rgba(16, 22, 26, 0.4); }
    .bp3-dark .bp3-input:disabled, .bp3-dark .bp3-input.bp3-disabled{
      background:rgba(57, 75, 89, 0.5);
      -webkit-box-shadow:none;
              box-shadow:none;
      color:rgba(167, 182, 194, 0.6); }
  .bp3-input.bp3-intent-primary{
    -webkit-box-shadow:0 0 0 0 rgba(19, 124, 189, 0), 0 0 0 0 rgba(19, 124, 189, 0), inset 0 0 0 1px #137cbd, inset 0 0 0 1px rgba(16, 22, 26, 0.15), inset 0 1px 1px rgba(16, 22, 26, 0.2);
            box-shadow:0 0 0 0 rgba(19, 124, 189, 0), 0 0 0 0 rgba(19, 124, 189, 0), inset 0 0 0 1px #137cbd, inset 0 0 0 1px rgba(16, 22, 26, 0.15), inset 0 1px 1px rgba(16, 22, 26, 0.2); }
    .bp3-input.bp3-intent-primary:focus{
      -webkit-box-shadow:0 0 0 1px #137cbd, 0 0 0 3px rgba(19, 124, 189, 0.3), inset 0 1px 1px rgba(16, 22, 26, 0.2);
              box-shadow:0 0 0 1px #137cbd, 0 0 0 3px rgba(19, 124, 189, 0.3), inset 0 1px 1px rgba(16, 22, 26, 0.2); }
    .bp3-input.bp3-intent-primary[readonly]{
      -webkit-box-shadow:inset 0 0 0 1px #137cbd;
              box-shadow:inset 0 0 0 1px #137cbd; }
    .bp3-input.bp3-intent-primary:disabled, .bp3-input.bp3-intent-primary.bp3-disabled{
      -webkit-box-shadow:none;
              box-shadow:none; }
    .bp3-dark .bp3-input.bp3-intent-primary{
      -webkit-box-shadow:0 0 0 0 rgba(19, 124, 189, 0), 0 0 0 0 rgba(19, 124, 189, 0), 0 0 0 0 rgba(19, 124, 189, 0), inset 0 0 0 1px #137cbd, inset 0 0 0 1px rgba(16, 22, 26, 0.3), inset 0 1px 1px rgba(16, 22, 26, 0.4);
              box-shadow:0 0 0 0 rgba(19, 124, 189, 0), 0 0 0 0 rgba(19, 124, 189, 0), 0 0 0 0 rgba(19, 124, 189, 0), inset 0 0 0 1px #137cbd, inset 0 0 0 1px rgba(16, 22, 26, 0.3), inset 0 1px 1px rgba(16, 22, 26, 0.4); }
      .bp3-dark .bp3-input.bp3-intent-primary:focus{
        -webkit-box-shadow:0 0 0 1px #137cbd, 0 0 0 1px #137cbd, 0 0 0 3px rgba(19, 124, 189, 0.3), inset 0 0 0 1px rgba(16, 22, 26, 0.3), inset 0 1px 1px rgba(16, 22, 26, 0.4);
                box-shadow:0 0 0 1px #137cbd, 0 0 0 1px #137cbd, 0 0 0 3px rgba(19, 124, 189, 0.3), inset 0 0 0 1px rgba(16, 22, 26, 0.3), inset 0 1px 1px rgba(16, 22, 26, 0.4); }
      .bp3-dark .bp3-input.bp3-intent-primary[readonly]{
        -webkit-box-shadow:inset 0 0 0 1px #137cbd;
                box-shadow:inset 0 0 0 1px #137cbd; }
      .bp3-dark .bp3-input.bp3-intent-primary:disabled, .bp3-dark .bp3-input.bp3-intent-primary.bp3-disabled{
        -webkit-box-shadow:none;
                box-shadow:none; }
  .bp3-input.bp3-intent-success{
    -webkit-box-shadow:0 0 0 0 rgba(15, 153, 96, 0), 0 0 0 0 rgba(15, 153, 96, 0), inset 0 0 0 1px #0f9960, inset 0 0 0 1px rgba(16, 22, 26, 0.15), inset 0 1px 1px rgba(16, 22, 26, 0.2);
            box-shadow:0 0 0 0 rgba(15, 153, 96, 0), 0 0 0 0 rgba(15, 153, 96, 0), inset 0 0 0 1px #0f9960, inset 0 0 0 1px rgba(16, 22, 26, 0.15), inset 0 1px 1px rgba(16, 22, 26, 0.2); }
    .bp3-input.bp3-intent-success:focus{
      -webkit-box-shadow:0 0 0 1px #0f9960, 0 0 0 3px rgba(15, 153, 96, 0.3), inset 0 1px 1px rgba(16, 22, 26, 0.2);
              box-shadow:0 0 0 1px #0f9960, 0 0 0 3px rgba(15, 153, 96, 0.3), inset 0 1px 1px rgba(16, 22, 26, 0.2); }
    .bp3-input.bp3-intent-success[readonly]{
      -webkit-box-shadow:inset 0 0 0 1px #0f9960;
              box-shadow:inset 0 0 0 1px #0f9960; }
    .bp3-input.bp3-intent-success:disabled, .bp3-input.bp3-intent-success.bp3-disabled{
      -webkit-box-shadow:none;
              box-shadow:none; }
    .bp3-dark .bp3-input.bp3-intent-success{
      -webkit-box-shadow:0 0 0 0 rgba(15, 153, 96, 0), 0 0 0 0 rgba(15, 153, 96, 0), 0 0 0 0 rgba(15, 153, 96, 0), inset 0 0 0 1px #0f9960, inset 0 0 0 1px rgba(16, 22, 26, 0.3), inset 0 1px 1px rgba(16, 22, 26, 0.4);
              box-shadow:0 0 0 0 rgba(15, 153, 96, 0), 0 0 0 0 rgba(15, 153, 96, 0), 0 0 0 0 rgba(15, 153, 96, 0), inset 0 0 0 1px #0f9960, inset 0 0 0 1px rgba(16, 22, 26, 0.3), inset 0 1px 1px rgba(16, 22, 26, 0.4); }
      .bp3-dark .bp3-input.bp3-intent-success:focus{
        -webkit-box-shadow:0 0 0 1px #0f9960, 0 0 0 1px #0f9960, 0 0 0 3px rgba(15, 153, 96, 0.3), inset 0 0 0 1px rgba(16, 22, 26, 0.3), inset 0 1px 1px rgba(16, 22, 26, 0.4);
                box-shadow:0 0 0 1px #0f9960, 0 0 0 1px #0f9960, 0 0 0 3px rgba(15, 153, 96, 0.3), inset 0 0 0 1px rgba(16, 22, 26, 0.3), inset 0 1px 1px rgba(16, 22, 26, 0.4); }
      .bp3-dark .bp3-input.bp3-intent-success[readonly]{
        -webkit-box-shadow:inset 0 0 0 1px #0f9960;
                box-shadow:inset 0 0 0 1px #0f9960; }
      .bp3-dark .bp3-input.bp3-intent-success:disabled, .bp3-dark .bp3-input.bp3-intent-success.bp3-disabled{
        -webkit-box-shadow:none;
                box-shadow:none; }
  .bp3-input.bp3-intent-warning{
    -webkit-box-shadow:0 0 0 0 rgba(217, 130, 43, 0), 0 0 0 0 rgba(217, 130, 43, 0), inset 0 0 0 1px #d9822b, inset 0 0 0 1px rgba(16, 22, 26, 0.15), inset 0 1px 1px rgba(16, 22, 26, 0.2);
            box-shadow:0 0 0 0 rgba(217, 130, 43, 0), 0 0 0 0 rgba(217, 130, 43, 0), inset 0 0 0 1px #d9822b, inset 0 0 0 1px rgba(16, 22, 26, 0.15), inset 0 1px 1px rgba(16, 22, 26, 0.2); }
    .bp3-input.bp3-intent-warning:focus{
      -webkit-box-shadow:0 0 0 1px #d9822b, 0 0 0 3px rgba(217, 130, 43, 0.3), inset 0 1px 1px rgba(16, 22, 26, 0.2);
              box-shadow:0 0 0 1px #d9822b, 0 0 0 3px rgba(217, 130, 43, 0.3), inset 0 1px 1px rgba(16, 22, 26, 0.2); }
    .bp3-input.bp3-intent-warning[readonly]{
      -webkit-box-shadow:inset 0 0 0 1px #d9822b;
              box-shadow:inset 0 0 0 1px #d9822b; }
    .bp3-input.bp3-intent-warning:disabled, .bp3-input.bp3-intent-warning.bp3-disabled{
      -webkit-box-shadow:none;
              box-shadow:none; }
    .bp3-dark .bp3-input.bp3-intent-warning{
      -webkit-box-shadow:0 0 0 0 rgba(217, 130, 43, 0), 0 0 0 0 rgba(217, 130, 43, 0), 0 0 0 0 rgba(217, 130, 43, 0), inset 0 0 0 1px #d9822b, inset 0 0 0 1px rgba(16, 22, 26, 0.3), inset 0 1px 1px rgba(16, 22, 26, 0.4);
              box-shadow:0 0 0 0 rgba(217, 130, 43, 0), 0 0 0 0 rgba(217, 130, 43, 0), 0 0 0 0 rgba(217, 130, 43, 0), inset 0 0 0 1px #d9822b, inset 0 0 0 1px rgba(16, 22, 26, 0.3), inset 0 1px 1px rgba(16, 22, 26, 0.4); }
      .bp3-dark .bp3-input.bp3-intent-warning:focus{
        -webkit-box-shadow:0 0 0 1px #d9822b, 0 0 0 1px #d9822b, 0 0 0 3px rgba(217, 130, 43, 0.3), inset 0 0 0 1px rgba(16, 22, 26, 0.3), inset 0 1px 1px rgba(16, 22, 26, 0.4);
                box-shadow:0 0 0 1px #d9822b, 0 0 0 1px #d9822b, 0 0 0 3px rgba(217, 130, 43, 0.3), inset 0 0 0 1px rgba(16, 22, 26, 0.3), inset 0 1px 1px rgba(16, 22, 26, 0.4); }
      .bp3-dark .bp3-input.bp3-intent-warning[readonly]{
        -webkit-box-shadow:inset 0 0 0 1px #d9822b;
                box-shadow:inset 0 0 0 1px #d9822b; }
      .bp3-dark .bp3-input.bp3-intent-warning:disabled, .bp3-dark .bp3-input.bp3-intent-warning.bp3-disabled{
        -webkit-box-shadow:none;
                box-shadow:none; }
  .bp3-input.bp3-intent-danger{
    -webkit-box-shadow:0 0 0 0 rgba(219, 55, 55, 0), 0 0 0 0 rgba(219, 55, 55, 0), inset 0 0 0 1px #db3737, inset 0 0 0 1px rgba(16, 22, 26, 0.15), inset 0 1px 1px rgba(16, 22, 26, 0.2);
            box-shadow:0 0 0 0 rgba(219, 55, 55, 0), 0 0 0 0 rgba(219, 55, 55, 0), inset 0 0 0 1px #db3737, inset 0 0 0 1px rgba(16, 22, 26, 0.15), inset 0 1px 1px rgba(16, 22, 26, 0.2); }
    .bp3-input.bp3-intent-danger:focus{
      -webkit-box-shadow:0 0 0 1px #db3737, 0 0 0 3px rgba(219, 55, 55, 0.3), inset 0 1px 1px rgba(16, 22, 26, 0.2);
              box-shadow:0 0 0 1px #db3737, 0 0 0 3px rgba(219, 55, 55, 0.3), inset 0 1px 1px rgba(16, 22, 26, 0.2); }
    .bp3-input.bp3-intent-danger[readonly]{
      -webkit-box-shadow:inset 0 0 0 1px #db3737;
              box-shadow:inset 0 0 0 1px #db3737; }
    .bp3-input.bp3-intent-danger:disabled, .bp3-input.bp3-intent-danger.bp3-disabled{
      -webkit-box-shadow:none;
              box-shadow:none; }
    .bp3-dark .bp3-input.bp3-intent-danger{
      -webkit-box-shadow:0 0 0 0 rgba(219, 55, 55, 0), 0 0 0 0 rgba(219, 55, 55, 0), 0 0 0 0 rgba(219, 55, 55, 0), inset 0 0 0 1px #db3737, inset 0 0 0 1px rgba(16, 22, 26, 0.3), inset 0 1px 1px rgba(16, 22, 26, 0.4);
              box-shadow:0 0 0 0 rgba(219, 55, 55, 0), 0 0 0 0 rgba(219, 55, 55, 0), 0 0 0 0 rgba(219, 55, 55, 0), inset 0 0 0 1px #db3737, inset 0 0 0 1px rgba(16, 22, 26, 0.3), inset 0 1px 1px rgba(16, 22, 26, 0.4); }
      .bp3-dark .bp3-input.bp3-intent-danger:focus{
        -webkit-box-shadow:0 0 0 1px #db3737, 0 0 0 1px #db3737, 0 0 0 3px rgba(219, 55, 55, 0.3), inset 0 0 0 1px rgba(16, 22, 26, 0.3), inset 0 1px 1px rgba(16, 22, 26, 0.4);
                box-shadow:0 0 0 1px #db3737, 0 0 0 1px #db3737, 0 0 0 3px rgba(219, 55, 55, 0.3), inset 0 0 0 1px rgba(16, 22, 26, 0.3), inset 0 1px 1px rgba(16, 22, 26, 0.4); }
      .bp3-dark .bp3-input.bp3-intent-danger[readonly]{
        -webkit-box-shadow:inset 0 0 0 1px #db3737;
                box-shadow:inset 0 0 0 1px #db3737; }
      .bp3-dark .bp3-input.bp3-intent-danger:disabled, .bp3-dark .bp3-input.bp3-intent-danger.bp3-disabled{
        -webkit-box-shadow:none;
                box-shadow:none; }
  .bp3-input::-ms-clear{
    display:none; }
textarea.bp3-input{
  max-width:100%;
  padding:10px; }
  textarea.bp3-input, textarea.bp3-input.bp3-large, textarea.bp3-input.bp3-small{
    height:auto;
    line-height:inherit; }
  textarea.bp3-input.bp3-small{
    padding:8px; }
  .bp3-dark textarea.bp3-input{
    background:rgba(16, 22, 26, 0.3);
    -webkit-box-shadow:0 0 0 0 rgba(19, 124, 189, 0), 0 0 0 0 rgba(19, 124, 189, 0), 0 0 0 0 rgba(19, 124, 189, 0), inset 0 0 0 1px rgba(16, 22, 26, 0.3), inset 0 1px 1px rgba(16, 22, 26, 0.4);
            box-shadow:0 0 0 0 rgba(19, 124, 189, 0), 0 0 0 0 rgba(19, 124, 189, 0), 0 0 0 0 rgba(19, 124, 189, 0), inset 0 0 0 1px rgba(16, 22, 26, 0.3), inset 0 1px 1px rgba(16, 22, 26, 0.4);
    color:#f5f8fa; }
    .bp3-dark textarea.bp3-input::-webkit-input-placeholder{
      color:rgba(167, 182, 194, 0.6); }
    .bp3-dark textarea.bp3-input::-moz-placeholder{
      color:rgba(167, 182, 194, 0.6); }
    .bp3-dark textarea.bp3-input:-ms-input-placeholder{
      color:rgba(167, 182, 194, 0.6); }
    .bp3-dark textarea.bp3-input::-ms-input-placeholder{
      color:rgba(167, 182, 194, 0.6); }
    .bp3-dark textarea.bp3-input::placeholder{
      color:rgba(167, 182, 194, 0.6); }
    .bp3-dark textarea.bp3-input:focus{
      -webkit-box-shadow:0 0 0 1px #137cbd, 0 0 0 1px #137cbd, 0 0 0 3px rgba(19, 124, 189, 0.3), inset 0 0 0 1px rgba(16, 22, 26, 0.3), inset 0 1px 1px rgba(16, 22, 26, 0.4);
              box-shadow:0 0 0 1px #137cbd, 0 0 0 1px #137cbd, 0 0 0 3px rgba(19, 124, 189, 0.3), inset 0 0 0 1px rgba(16, 22, 26, 0.3), inset 0 1px 1px rgba(16, 22, 26, 0.4); }
    .bp3-dark textarea.bp3-input[readonly]{
      -webkit-box-shadow:inset 0 0 0 1px rgba(16, 22, 26, 0.4);
              box-shadow:inset 0 0 0 1px rgba(16, 22, 26, 0.4); }
    .bp3-dark textarea.bp3-input:disabled, .bp3-dark textarea.bp3-input.bp3-disabled{
      background:rgba(57, 75, 89, 0.5);
      -webkit-box-shadow:none;
              box-shadow:none;
      color:rgba(167, 182, 194, 0.6); }
label.bp3-label{
  display:block;
  margin-bottom:15px;
  margin-top:0; }
  label.bp3-label .bp3-html-select,
  label.bp3-label .bp3-input,
  label.bp3-label .bp3-select,
  label.bp3-label .bp3-slider,
  label.bp3-label .bp3-popover-wrapper{
    display:block;
    margin-top:5px;
    text-transform:none; }
  label.bp3-label .bp3-button-group{
    margin-top:5px; }
  label.bp3-label .bp3-select select,
  label.bp3-label .bp3-html-select select{
    font-weight:400;
    vertical-align:top;
    width:100%; }
  label.bp3-label.bp3-disabled,
  label.bp3-label.bp3-disabled .bp3-text-muted{
    color:rgba(92, 112, 128, 0.6); }
  label.bp3-label.bp3-inline{
    line-height:30px; }
    label.bp3-label.bp3-inline .bp3-html-select,
    label.bp3-label.bp3-inline .bp3-input,
    label.bp3-label.bp3-inline .bp3-input-group,
    label.bp3-label.bp3-inline .bp3-select,
    label.bp3-label.bp3-inline .bp3-popover-wrapper{
      display:inline-block;
      margin:0 0 0 5px;
      vertical-align:top; }
    label.bp3-label.bp3-inline .bp3-button-group{
      margin:0 0 0 5px; }
    label.bp3-label.bp3-inline .bp3-input-group .bp3-input{
      margin-left:0; }
    label.bp3-label.bp3-inline.bp3-large{
      line-height:40px; }
  label.bp3-label:not(.bp3-inline) .bp3-popover-target{
    display:block; }
  .bp3-dark label.bp3-label{
    color:#f5f8fa; }
    .bp3-dark label.bp3-label.bp3-disabled,
    .bp3-dark label.bp3-label.bp3-disabled .bp3-text-muted{
      color:rgba(167, 182, 194, 0.6); }
.bp3-numeric-input .bp3-button-group.bp3-vertical > .bp3-button{
  -webkit-box-flex:1;
      -ms-flex:1 1 14px;
          flex:1 1 14px;
  min-height:0;
  padding:0;
  width:30px; }
  .bp3-numeric-input .bp3-button-group.bp3-vertical > .bp3-button:first-child{
    border-radius:0 3px 0 0; }
  .bp3-numeric-input .bp3-button-group.bp3-vertical > .bp3-button:last-child{
    border-radius:0 0 3px 0; }

.bp3-numeric-input .bp3-button-group.bp3-vertical:first-child > .bp3-button:first-child{
  border-radius:3px 0 0 0; }

.bp3-numeric-input .bp3-button-group.bp3-vertical:first-child > .bp3-button:last-child{
  border-radius:0 0 0 3px; }

.bp3-numeric-input.bp3-large .bp3-button-group.bp3-vertical > .bp3-button{
  width:40px; }

form{
  display:block; }
.bp3-html-select select,
.bp3-select select{
  display:-webkit-inline-box;
  display:-ms-inline-flexbox;
  display:inline-flex;
  -webkit-box-orient:horizontal;
  -webkit-box-direction:normal;
      -ms-flex-direction:row;
          flex-direction:row;
  -webkit-box-align:center;
      -ms-flex-align:center;
          align-items:center;
  border:none;
  border-radius:3px;
  cursor:pointer;
  font-size:14px;
  -webkit-box-pack:center;
      -ms-flex-pack:center;
          justify-content:center;
  padding:5px 10px;
  text-align:left;
  vertical-align:middle;
  background-color:#f5f8fa;
  background-image:-webkit-gradient(linear, left top, left bottom, from(rgba(255, 255, 255, 0.8)), to(rgba(255, 255, 255, 0)));
  background-image:linear-gradient(to bottom, rgba(255, 255, 255, 0.8), rgba(255, 255, 255, 0));
  -webkit-box-shadow:inset 0 0 0 1px rgba(16, 22, 26, 0.2), inset 0 -1px 0 rgba(16, 22, 26, 0.1);
          box-shadow:inset 0 0 0 1px rgba(16, 22, 26, 0.2), inset 0 -1px 0 rgba(16, 22, 26, 0.1);
  color:#182026;
  -moz-appearance:none;
  -webkit-appearance:none;
  border-radius:3px;
  height:30px;
  padding:0 25px 0 10px;
  width:100%; }
  .bp3-html-select select > *, .bp3-select select > *{
    -webkit-box-flex:0;
        -ms-flex-positive:0;
            flex-grow:0;
    -ms-flex-negative:0;
        flex-shrink:0; }
  .bp3-html-select select > .bp3-fill, .bp3-select select > .bp3-fill{
    -webkit-box-flex:1;
        -ms-flex-positive:1;
            flex-grow:1;
    -ms-flex-negative:1;
        flex-shrink:1; }
  .bp3-html-select select::before,
  .bp3-select select::before, .bp3-html-select select > *, .bp3-select select > *{
    margin-right:7px; }
  .bp3-html-select select:empty::before,
  .bp3-select select:empty::before,
  .bp3-html-select select > :last-child,
  .bp3-select select > :last-child{
    margin-right:0; }
  .bp3-html-select select:hover,
  .bp3-select select:hover{
    background-clip:padding-box;
    background-color:#ebf1f5;
    -webkit-box-shadow:inset 0 0 0 1px rgba(16, 22, 26, 0.2), inset 0 -1px 0 rgba(16, 22, 26, 0.1);
            box-shadow:inset 0 0 0 1px rgba(16, 22, 26, 0.2), inset 0 -1px 0 rgba(16, 22, 26, 0.1); }
  .bp3-html-select select:active,
  .bp3-select select:active, .bp3-html-select select.bp3-active,
  .bp3-select select.bp3-active{
    background-color:#d8e1e8;
    background-image:none;
    -webkit-box-shadow:inset 0 0 0 1px rgba(16, 22, 26, 0.2), inset 0 1px 2px rgba(16, 22, 26, 0.2);
            box-shadow:inset 0 0 0 1px rgba(16, 22, 26, 0.2), inset 0 1px 2px rgba(16, 22, 26, 0.2); }
  .bp3-html-select select:disabled,
  .bp3-select select:disabled, .bp3-html-select select.bp3-disabled,
  .bp3-select select.bp3-disabled{
    background-color:rgba(206, 217, 224, 0.5);
    background-image:none;
    -webkit-box-shadow:none;
            box-shadow:none;
    color:rgba(92, 112, 128, 0.6);
    cursor:not-allowed;
    outline:none; }
    .bp3-html-select select:disabled.bp3-active,
    .bp3-select select:disabled.bp3-active, .bp3-html-select select:disabled.bp3-active:hover,
    .bp3-select select:disabled.bp3-active:hover, .bp3-html-select select.bp3-disabled.bp3-active,
    .bp3-select select.bp3-disabled.bp3-active, .bp3-html-select select.bp3-disabled.bp3-active:hover,
    .bp3-select select.bp3-disabled.bp3-active:hover{
      background:rgba(206, 217, 224, 0.7); }

.bp3-html-select.bp3-minimal select,
.bp3-select.bp3-minimal select{
  background:none;
  -webkit-box-shadow:none;
          box-shadow:none; }
  .bp3-html-select.bp3-minimal select:hover,
  .bp3-select.bp3-minimal select:hover{
    background:rgba(167, 182, 194, 0.3);
    -webkit-box-shadow:none;
            box-shadow:none;
    color:#182026;
    text-decoration:none; }
  .bp3-html-select.bp3-minimal select:active,
  .bp3-select.bp3-minimal select:active, .bp3-html-select.bp3-minimal select.bp3-active,
  .bp3-select.bp3-minimal select.bp3-active{
    background:rgba(115, 134, 148, 0.3);
    -webkit-box-shadow:none;
            box-shadow:none;
    color:#182026; }
  .bp3-html-select.bp3-minimal select:disabled,
  .bp3-select.bp3-minimal select:disabled, .bp3-html-select.bp3-minimal select:disabled:hover,
  .bp3-select.bp3-minimal select:disabled:hover, .bp3-html-select.bp3-minimal select.bp3-disabled,
  .bp3-select.bp3-minimal select.bp3-disabled, .bp3-html-select.bp3-minimal select.bp3-disabled:hover,
  .bp3-select.bp3-minimal select.bp3-disabled:hover{
    background:none;
    color:rgba(92, 112, 128, 0.6);
    cursor:not-allowed; }
    .bp3-html-select.bp3-minimal select:disabled.bp3-active,
    .bp3-select.bp3-minimal select:disabled.bp3-active, .bp3-html-select.bp3-minimal select:disabled:hover.bp3-active,
    .bp3-select.bp3-minimal select:disabled:hover.bp3-active, .bp3-html-select.bp3-minimal select.bp3-disabled.bp3-active,
    .bp3-select.bp3-minimal select.bp3-disabled.bp3-active, .bp3-html-select.bp3-minimal select.bp3-disabled:hover.bp3-active,
    .bp3-select.bp3-minimal select.bp3-disabled:hover.bp3-active{
      background:rgba(115, 134, 148, 0.3); }
  .bp3-dark .bp3-html-select.bp3-minimal select, .bp3-html-select.bp3-minimal .bp3-dark select,
  .bp3-dark .bp3-select.bp3-minimal select, .bp3-select.bp3-minimal .bp3-dark select{
    background:none;
    -webkit-box-shadow:none;
            box-shadow:none;
    color:inherit; }
    .bp3-dark .bp3-html-select.bp3-minimal select:hover, .bp3-html-select.bp3-minimal .bp3-dark select:hover,
    .bp3-dark .bp3-select.bp3-minimal select:hover, .bp3-select.bp3-minimal .bp3-dark select:hover, .bp3-dark .bp3-html-select.bp3-minimal select:active, .bp3-html-select.bp3-minimal .bp3-dark select:active,
    .bp3-dark .bp3-select.bp3-minimal select:active, .bp3-select.bp3-minimal .bp3-dark select:active, .bp3-dark .bp3-html-select.bp3-minimal select.bp3-active, .bp3-html-select.bp3-minimal .bp3-dark select.bp3-active,
    .bp3-dark .bp3-select.bp3-minimal select.bp3-active, .bp3-select.bp3-minimal .bp3-dark select.bp3-active{
      background:none;
      -webkit-box-shadow:none;
              box-shadow:none; }
    .bp3-dark .bp3-html-select.bp3-minimal select:hover, .bp3-html-select.bp3-minimal .bp3-dark select:hover,
    .bp3-dark .bp3-select.bp3-minimal select:hover, .bp3-select.bp3-minimal .bp3-dark select:hover{
      background:rgba(138, 155, 168, 0.15); }
    .bp3-dark .bp3-html-select.bp3-minimal select:active, .bp3-html-select.bp3-minimal .bp3-dark select:active,
    .bp3-dark .bp3-select.bp3-minimal select:active, .bp3-select.bp3-minimal .bp3-dark select:active, .bp3-dark .bp3-html-select.bp3-minimal select.bp3-active, .bp3-html-select.bp3-minimal .bp3-dark select.bp3-active,
    .bp3-dark .bp3-select.bp3-minimal select.bp3-active, .bp3-select.bp3-minimal .bp3-dark select.bp3-active{
      background:rgba(138, 155, 168, 0.3);
      color:#f5f8fa; }
    .bp3-dark .bp3-html-select.bp3-minimal select:disabled, .bp3-html-select.bp3-minimal .bp3-dark select:disabled,
    .bp3-dark .bp3-select.bp3-minimal select:disabled, .bp3-select.bp3-minimal .bp3-dark select:disabled, .bp3-dark .bp3-html-select.bp3-minimal select:disabled:hover, .bp3-html-select.bp3-minimal .bp3-dark select:disabled:hover,
    .bp3-dark .bp3-select.bp3-minimal select:disabled:hover, .bp3-select.bp3-minimal .bp3-dark select:disabled:hover, .bp3-dark .bp3-html-select.bp3-minimal select.bp3-disabled, .bp3-html-select.bp3-minimal .bp3-dark select.bp3-disabled,
    .bp3-dark .bp3-select.bp3-minimal select.bp3-disabled, .bp3-select.bp3-minimal .bp3-dark select.bp3-disabled, .bp3-dark .bp3-html-select.bp3-minimal select.bp3-disabled:hover, .bp3-html-select.bp3-minimal .bp3-dark select.bp3-disabled:hover,
    .bp3-dark .bp3-select.bp3-minimal select.bp3-disabled:hover, .bp3-select.bp3-minimal .bp3-dark select.bp3-disabled:hover{
      background:none;
      color:rgba(167, 182, 194, 0.6);
      cursor:not-allowed; }
      .bp3-dark .bp3-html-select.bp3-minimal select:disabled.bp3-active, .bp3-html-select.bp3-minimal .bp3-dark select:disabled.bp3-active,
      .bp3-dark .bp3-select.bp3-minimal select:disabled.bp3-active, .bp3-select.bp3-minimal .bp3-dark select:disabled.bp3-active, .bp3-dark .bp3-html-select.bp3-minimal select:disabled:hover.bp3-active, .bp3-html-select.bp3-minimal .bp3-dark select:disabled:hover.bp3-active,
      .bp3-dark .bp3-select.bp3-minimal select:disabled:hover.bp3-active, .bp3-select.bp3-minimal .bp3-dark select:disabled:hover.bp3-active, .bp3-dark .bp3-html-select.bp3-minimal select.bp3-disabled.bp3-active, .bp3-html-select.bp3-minimal .bp3-dark select.bp3-disabled.bp3-active,
      .bp3-dark .bp3-select.bp3-minimal select.bp3-disabled.bp3-active, .bp3-select.bp3-minimal .bp3-dark select.bp3-disabled.bp3-active, .bp3-dark .bp3-html-select.bp3-minimal select.bp3-disabled:hover.bp3-active, .bp3-html-select.bp3-minimal .bp3-dark select.bp3-disabled:hover.bp3-active,
      .bp3-dark .bp3-select.bp3-minimal select.bp3-disabled:hover.bp3-active, .bp3-select.bp3-minimal .bp3-dark select.bp3-disabled:hover.bp3-active{
        background:rgba(138, 155, 168, 0.3); }
  .bp3-html-select.bp3-minimal select.bp3-intent-primary,
  .bp3-select.bp3-minimal select.bp3-intent-primary{
    color:#106ba3; }
    .bp3-html-select.bp3-minimal select.bp3-intent-primary:hover,
    .bp3-select.bp3-minimal select.bp3-intent-primary:hover, .bp3-html-select.bp3-minimal select.bp3-intent-primary:active,
    .bp3-select.bp3-minimal select.bp3-intent-primary:active, .bp3-html-select.bp3-minimal select.bp3-intent-primary.bp3-active,
    .bp3-select.bp3-minimal select.bp3-intent-primary.bp3-active{
      background:none;
      -webkit-box-shadow:none;
              box-shadow:none;
      color:#106ba3; }
    .bp3-html-select.bp3-minimal select.bp3-intent-primary:hover,
    .bp3-select.bp3-minimal select.bp3-intent-primary:hover{
      background:rgba(19, 124, 189, 0.15);
      color:#106ba3; }
    .bp3-html-select.bp3-minimal select.bp3-intent-primary:active,
    .bp3-select.bp3-minimal select.bp3-intent-primary:active, .bp3-html-select.bp3-minimal select.bp3-intent-primary.bp3-active,
    .bp3-select.bp3-minimal select.bp3-intent-primary.bp3-active{
      background:rgba(19, 124, 189, 0.3);
      color:#106ba3; }
    .bp3-html-select.bp3-minimal select.bp3-intent-primary:disabled,
    .bp3-select.bp3-minimal select.bp3-intent-primary:disabled, .bp3-html-select.bp3-minimal select.bp3-intent-primary.bp3-disabled,
    .bp3-select.bp3-minimal select.bp3-intent-primary.bp3-disabled{
      background:none;
      color:rgba(16, 107, 163, 0.5); }
      .bp3-html-select.bp3-minimal select.bp3-intent-primary:disabled.bp3-active,
      .bp3-select.bp3-minimal select.bp3-intent-primary:disabled.bp3-active, .bp3-html-select.bp3-minimal select.bp3-intent-primary.bp3-disabled.bp3-active,
      .bp3-select.bp3-minimal select.bp3-intent-primary.bp3-disabled.bp3-active{
        background:rgba(19, 124, 189, 0.3); }
    .bp3-html-select.bp3-minimal select.bp3-intent-primary .bp3-button-spinner .bp3-spinner-head, .bp3-select.bp3-minimal select.bp3-intent-primary .bp3-button-spinner .bp3-spinner-head{
      stroke:#106ba3; }
    .bp3-dark .bp3-html-select.bp3-minimal select.bp3-intent-primary, .bp3-html-select.bp3-minimal .bp3-dark select.bp3-intent-primary,
    .bp3-dark .bp3-select.bp3-minimal select.bp3-intent-primary, .bp3-select.bp3-minimal .bp3-dark select.bp3-intent-primary{
      color:#48aff0; }
      .bp3-dark .bp3-html-select.bp3-minimal select.bp3-intent-primary:hover, .bp3-html-select.bp3-minimal .bp3-dark select.bp3-intent-primary:hover,
      .bp3-dark .bp3-select.bp3-minimal select.bp3-intent-primary:hover, .bp3-select.bp3-minimal .bp3-dark select.bp3-intent-primary:hover{
        background:rgba(19, 124, 189, 0.2);
        color:#48aff0; }
      .bp3-dark .bp3-html-select.bp3-minimal select.bp3-intent-primary:active, .bp3-html-select.bp3-minimal .bp3-dark select.bp3-intent-primary:active,
      .bp3-dark .bp3-select.bp3-minimal select.bp3-intent-primary:active, .bp3-select.bp3-minimal .bp3-dark select.bp3-intent-primary:active, .bp3-dark .bp3-html-select.bp3-minimal select.bp3-intent-primary.bp3-active, .bp3-html-select.bp3-minimal .bp3-dark select.bp3-intent-primary.bp3-active,
      .bp3-dark .bp3-select.bp3-minimal select.bp3-intent-primary.bp3-active, .bp3-select.bp3-minimal .bp3-dark select.bp3-intent-primary.bp3-active{
        background:rgba(19, 124, 189, 0.3);
        color:#48aff0; }
      .bp3-dark .bp3-html-select.bp3-minimal select.bp3-intent-primary:disabled, .bp3-html-select.bp3-minimal .bp3-dark select.bp3-intent-primary:disabled,
      .bp3-dark .bp3-select.bp3-minimal select.bp3-intent-primary:disabled, .bp3-select.bp3-minimal .bp3-dark select.bp3-intent-primary:disabled, .bp3-dark .bp3-html-select.bp3-minimal select.bp3-intent-primary.bp3-disabled, .bp3-html-select.bp3-minimal .bp3-dark select.bp3-intent-primary.bp3-disabled,
      .bp3-dark .bp3-select.bp3-minimal select.bp3-intent-primary.bp3-disabled, .bp3-select.bp3-minimal .bp3-dark select.bp3-intent-primary.bp3-disabled{
        background:none;
        color:rgba(72, 175, 240, 0.5); }
        .bp3-dark .bp3-html-select.bp3-minimal select.bp3-intent-primary:disabled.bp3-active, .bp3-html-select.bp3-minimal .bp3-dark select.bp3-intent-primary:disabled.bp3-active,
        .bp3-dark .bp3-select.bp3-minimal select.bp3-intent-primary:disabled.bp3-active, .bp3-select.bp3-minimal .bp3-dark select.bp3-intent-primary:disabled.bp3-active, .bp3-dark .bp3-html-select.bp3-minimal select.bp3-intent-primary.bp3-disabled.bp3-active, .bp3-html-select.bp3-minimal .bp3-dark select.bp3-intent-primary.bp3-disabled.bp3-active,
        .bp3-dark .bp3-select.bp3-minimal select.bp3-intent-primary.bp3-disabled.bp3-active, .bp3-select.bp3-minimal .bp3-dark select.bp3-intent-primary.bp3-disabled.bp3-active{
          background:rgba(19, 124, 189, 0.3); }
  .bp3-html-select.bp3-minimal select.bp3-intent-success,
  .bp3-select.bp3-minimal select.bp3-intent-success{
    color:#0d8050; }
    .bp3-html-select.bp3-minimal select.bp3-intent-success:hover,
    .bp3-select.bp3-minimal select.bp3-intent-success:hover, .bp3-html-select.bp3-minimal select.bp3-intent-success:active,
    .bp3-select.bp3-minimal select.bp3-intent-success:active, .bp3-html-select.bp3-minimal select.bp3-intent-success.bp3-active,
    .bp3-select.bp3-minimal select.bp3-intent-success.bp3-active{
      background:none;
      -webkit-box-shadow:none;
              box-shadow:none;
      color:#0d8050; }
    .bp3-html-select.bp3-minimal select.bp3-intent-success:hover,
    .bp3-select.bp3-minimal select.bp3-intent-success:hover{
      background:rgba(15, 153, 96, 0.15);
      color:#0d8050; }
    .bp3-html-select.bp3-minimal select.bp3-intent-success:active,
    .bp3-select.bp3-minimal select.bp3-intent-success:active, .bp3-html-select.bp3-minimal select.bp3-intent-success.bp3-active,
    .bp3-select.bp3-minimal select.bp3-intent-success.bp3-active{
      background:rgba(15, 153, 96, 0.3);
      color:#0d8050; }
    .bp3-html-select.bp3-minimal select.bp3-intent-success:disabled,
    .bp3-select.bp3-minimal select.bp3-intent-success:disabled, .bp3-html-select.bp3-minimal select.bp3-intent-success.bp3-disabled,
    .bp3-select.bp3-minimal select.bp3-intent-success.bp3-disabled{
      background:none;
      color:rgba(13, 128, 80, 0.5); }
      .bp3-html-select.bp3-minimal select.bp3-intent-success:disabled.bp3-active,
      .bp3-select.bp3-minimal select.bp3-intent-success:disabled.bp3-active, .bp3-html-select.bp3-minimal select.bp3-intent-success.bp3-disabled.bp3-active,
      .bp3-select.bp3-minimal select.bp3-intent-success.bp3-disabled.bp3-active{
        background:rgba(15, 153, 96, 0.3); }
    .bp3-html-select.bp3-minimal select.bp3-intent-success .bp3-button-spinner .bp3-spinner-head, .bp3-select.bp3-minimal select.bp3-intent-success .bp3-button-spinner .bp3-spinner-head{
      stroke:#0d8050; }
    .bp3-dark .bp3-html-select.bp3-minimal select.bp3-intent-success, .bp3-html-select.bp3-minimal .bp3-dark select.bp3-intent-success,
    .bp3-dark .bp3-select.bp3-minimal select.bp3-intent-success, .bp3-select.bp3-minimal .bp3-dark select.bp3-intent-success{
      color:#3dcc91; }
      .bp3-dark .bp3-html-select.bp3-minimal select.bp3-intent-success:hover, .bp3-html-select.bp3-minimal .bp3-dark select.bp3-intent-success:hover,
      .bp3-dark .bp3-select.bp3-minimal select.bp3-intent-success:hover, .bp3-select.bp3-minimal .bp3-dark select.bp3-intent-success:hover{
        background:rgba(15, 153, 96, 0.2);
        color:#3dcc91; }
      .bp3-dark .bp3-html-select.bp3-minimal select.bp3-intent-success:active, .bp3-html-select.bp3-minimal .bp3-dark select.bp3-intent-success:active,
      .bp3-dark .bp3-select.bp3-minimal select.bp3-intent-success:active, .bp3-select.bp3-minimal .bp3-dark select.bp3-intent-success:active, .bp3-dark .bp3-html-select.bp3-minimal select.bp3-intent-success.bp3-active, .bp3-html-select.bp3-minimal .bp3-dark select.bp3-intent-success.bp3-active,
      .bp3-dark .bp3-select.bp3-minimal select.bp3-intent-success.bp3-active, .bp3-select.bp3-minimal .bp3-dark select.bp3-intent-success.bp3-active{
        background:rgba(15, 153, 96, 0.3);
        color:#3dcc91; }
      .bp3-dark .bp3-html-select.bp3-minimal select.bp3-intent-success:disabled, .bp3-html-select.bp3-minimal .bp3-dark select.bp3-intent-success:disabled,
      .bp3-dark .bp3-select.bp3-minimal select.bp3-intent-success:disabled, .bp3-select.bp3-minimal .bp3-dark select.bp3-intent-success:disabled, .bp3-dark .bp3-html-select.bp3-minimal select.bp3-intent-success.bp3-disabled, .bp3-html-select.bp3-minimal .bp3-dark select.bp3-intent-success.bp3-disabled,
      .bp3-dark .bp3-select.bp3-minimal select.bp3-intent-success.bp3-disabled, .bp3-select.bp3-minimal .bp3-dark select.bp3-intent-success.bp3-disabled{
        background:none;
        color:rgba(61, 204, 145, 0.5); }
        .bp3-dark .bp3-html-select.bp3-minimal select.bp3-intent-success:disabled.bp3-active, .bp3-html-select.bp3-minimal .bp3-dark select.bp3-intent-success:disabled.bp3-active,
        .bp3-dark .bp3-select.bp3-minimal select.bp3-intent-success:disabled.bp3-active, .bp3-select.bp3-minimal .bp3-dark select.bp3-intent-success:disabled.bp3-active, .bp3-dark .bp3-html-select.bp3-minimal select.bp3-intent-success.bp3-disabled.bp3-active, .bp3-html-select.bp3-minimal .bp3-dark select.bp3-intent-success.bp3-disabled.bp3-active,
        .bp3-dark .bp3-select.bp3-minimal select.bp3-intent-success.bp3-disabled.bp3-active, .bp3-select.bp3-minimal .bp3-dark select.bp3-intent-success.bp3-disabled.bp3-active{
          background:rgba(15, 153, 96, 0.3); }
  .bp3-html-select.bp3-minimal select.bp3-intent-warning,
  .bp3-select.bp3-minimal select.bp3-intent-warning{
    color:#bf7326; }
    .bp3-html-select.bp3-minimal select.bp3-intent-warning:hover,
    .bp3-select.bp3-minimal select.bp3-intent-warning:hover, .bp3-html-select.bp3-minimal select.bp3-intent-warning:active,
    .bp3-select.bp3-minimal select.bp3-intent-warning:active, .bp3-html-select.bp3-minimal select.bp3-intent-warning.bp3-active,
    .bp3-select.bp3-minimal select.bp3-intent-warning.bp3-active{
      background:none;
      -webkit-box-shadow:none;
              box-shadow:none;
      color:#bf7326; }
    .bp3-html-select.bp3-minimal select.bp3-intent-warning:hover,
    .bp3-select.bp3-minimal select.bp3-intent-warning:hover{
      background:rgba(217, 130, 43, 0.15);
      color:#bf7326; }
    .bp3-html-select.bp3-minimal select.bp3-intent-warning:active,
    .bp3-select.bp3-minimal select.bp3-intent-warning:active, .bp3-html-select.bp3-minimal select.bp3-intent-warning.bp3-active,
    .bp3-select.bp3-minimal select.bp3-intent-warning.bp3-active{
      background:rgba(217, 130, 43, 0.3);
      color:#bf7326; }
    .bp3-html-select.bp3-minimal select.bp3-intent-warning:disabled,
    .bp3-select.bp3-minimal select.bp3-intent-warning:disabled, .bp3-html-select.bp3-minimal select.bp3-intent-warning.bp3-disabled,
    .bp3-select.bp3-minimal select.bp3-intent-warning.bp3-disabled{
      background:none;
      color:rgba(191, 115, 38, 0.5); }
      .bp3-html-select.bp3-minimal select.bp3-intent-warning:disabled.bp3-active,
      .bp3-select.bp3-minimal select.bp3-intent-warning:disabled.bp3-active, .bp3-html-select.bp3-minimal select.bp3-intent-warning.bp3-disabled.bp3-active,
      .bp3-select.bp3-minimal select.bp3-intent-warning.bp3-disabled.bp3-active{
        background:rgba(217, 130, 43, 0.3); }
    .bp3-html-select.bp3-minimal select.bp3-intent-warning .bp3-button-spinner .bp3-spinner-head, .bp3-select.bp3-minimal select.bp3-intent-warning .bp3-button-spinner .bp3-spinner-head{
      stroke:#bf7326; }
    .bp3-dark .bp3-html-select.bp3-minimal select.bp3-intent-warning, .bp3-html-select.bp3-minimal .bp3-dark select.bp3-intent-warning,
    .bp3-dark .bp3-select.bp3-minimal select.bp3-intent-warning, .bp3-select.bp3-minimal .bp3-dark select.bp3-intent-warning{
      color:#ffb366; }
      .bp3-dark .bp3-html-select.bp3-minimal select.bp3-intent-warning:hover, .bp3-html-select.bp3-minimal .bp3-dark select.bp3-intent-warning:hover,
      .bp3-dark .bp3-select.bp3-minimal select.bp3-intent-warning:hover, .bp3-select.bp3-minimal .bp3-dark select.bp3-intent-warning:hover{
        background:rgba(217, 130, 43, 0.2);
        color:#ffb366; }
      .bp3-dark .bp3-html-select.bp3-minimal select.bp3-intent-warning:active, .bp3-html-select.bp3-minimal .bp3-dark select.bp3-intent-warning:active,
      .bp3-dark .bp3-select.bp3-minimal select.bp3-intent-warning:active, .bp3-select.bp3-minimal .bp3-dark select.bp3-intent-warning:active, .bp3-dark .bp3-html-select.bp3-minimal select.bp3-intent-warning.bp3-active, .bp3-html-select.bp3-minimal .bp3-dark select.bp3-intent-warning.bp3-active,
      .bp3-dark .bp3-select.bp3-minimal select.bp3-intent-warning.bp3-active, .bp3-select.bp3-minimal .bp3-dark select.bp3-intent-warning.bp3-active{
        background:rgba(217, 130, 43, 0.3);
        color:#ffb366; }
      .bp3-dark .bp3-html-select.bp3-minimal select.bp3-intent-warning:disabled, .bp3-html-select.bp3-minimal .bp3-dark select.bp3-intent-warning:disabled,
      .bp3-dark .bp3-select.bp3-minimal select.bp3-intent-warning:disabled, .bp3-select.bp3-minimal .bp3-dark select.bp3-intent-warning:disabled, .bp3-dark .bp3-html-select.bp3-minimal select.bp3-intent-warning.bp3-disabled, .bp3-html-select.bp3-minimal .bp3-dark select.bp3-intent-warning.bp3-disabled,
      .bp3-dark .bp3-select.bp3-minimal select.bp3-intent-warning.bp3-disabled, .bp3-select.bp3-minimal .bp3-dark select.bp3-intent-warning.bp3-disabled{
        background:none;
        color:rgba(255, 179, 102, 0.5); }
        .bp3-dark .bp3-html-select.bp3-minimal select.bp3-intent-warning:disabled.bp3-active, .bp3-html-select.bp3-minimal .bp3-dark select.bp3-intent-warning:disabled.bp3-active,
        .bp3-dark .bp3-select.bp3-minimal select.bp3-intent-warning:disabled.bp3-active, .bp3-select.bp3-minimal .bp3-dark select.bp3-intent-warning:disabled.bp3-active, .bp3-dark .bp3-html-select.bp3-minimal select.bp3-intent-warning.bp3-disabled.bp3-active, .bp3-html-select.bp3-minimal .bp3-dark select.bp3-intent-warning.bp3-disabled.bp3-active,
        .bp3-dark .bp3-select.bp3-minimal select.bp3-intent-warning.bp3-disabled.bp3-active, .bp3-select.bp3-minimal .bp3-dark select.bp3-intent-warning.bp3-disabled.bp3-active{
          background:rgba(217, 130, 43, 0.3); }
  .bp3-html-select.bp3-minimal select.bp3-intent-danger,
  .bp3-select.bp3-minimal select.bp3-intent-danger{
    color:#c23030; }
    .bp3-html-select.bp3-minimal select.bp3-intent-danger:hover,
    .bp3-select.bp3-minimal select.bp3-intent-danger:hover, .bp3-html-select.bp3-minimal select.bp3-intent-danger:active,
    .bp3-select.bp3-minimal select.bp3-intent-danger:active, .bp3-html-select.bp3-minimal select.bp3-intent-danger.bp3-active,
    .bp3-select.bp3-minimal select.bp3-intent-danger.bp3-active{
      background:none;
      -webkit-box-shadow:none;
              box-shadow:none;
      color:#c23030; }
    .bp3-html-select.bp3-minimal select.bp3-intent-danger:hover,
    .bp3-select.bp3-minimal select.bp3-intent-danger:hover{
      background:rgba(219, 55, 55, 0.15);
      color:#c23030; }
    .bp3-html-select.bp3-minimal select.bp3-intent-danger:active,
    .bp3-select.bp3-minimal select.bp3-intent-danger:active, .bp3-html-select.bp3-minimal select.bp3-intent-danger.bp3-active,
    .bp3-select.bp3-minimal select.bp3-intent-danger.bp3-active{
      background:rgba(219, 55, 55, 0.3);
      color:#c23030; }
    .bp3-html-select.bp3-minimal select.bp3-intent-danger:disabled,
    .bp3-select.bp3-minimal select.bp3-intent-danger:disabled, .bp3-html-select.bp3-minimal select.bp3-intent-danger.bp3-disabled,
    .bp3-select.bp3-minimal select.bp3-intent-danger.bp3-disabled{
      background:none;
      color:rgba(194, 48, 48, 0.5); }
      .bp3-html-select.bp3-minimal select.bp3-intent-danger:disabled.bp3-active,
      .bp3-select.bp3-minimal select.bp3-intent-danger:disabled.bp3-active, .bp3-html-select.bp3-minimal select.bp3-intent-danger.bp3-disabled.bp3-active,
      .bp3-select.bp3-minimal select.bp3-intent-danger.bp3-disabled.bp3-active{
        background:rgba(219, 55, 55, 0.3); }
    .bp3-html-select.bp3-minimal select.bp3-intent-danger .bp3-button-spinner .bp3-spinner-head, .bp3-select.bp3-minimal select.bp3-intent-danger .bp3-button-spinner .bp3-spinner-head{
      stroke:#c23030; }
    .bp3-dark .bp3-html-select.bp3-minimal select.bp3-intent-danger, .bp3-html-select.bp3-minimal .bp3-dark select.bp3-intent-danger,
    .bp3-dark .bp3-select.bp3-minimal select.bp3-intent-danger, .bp3-select.bp3-minimal .bp3-dark select.bp3-intent-danger{
      color:#ff7373; }
      .bp3-dark .bp3-html-select.bp3-minimal select.bp3-intent-danger:hover, .bp3-html-select.bp3-minimal .bp3-dark select.bp3-intent-danger:hover,
      .bp3-dark .bp3-select.bp3-minimal select.bp3-intent-danger:hover, .bp3-select.bp3-minimal .bp3-dark select.bp3-intent-danger:hover{
        background:rgba(219, 55, 55, 0.2);
        color:#ff7373; }
      .bp3-dark .bp3-html-select.bp3-minimal select.bp3-intent-danger:active, .bp3-html-select.bp3-minimal .bp3-dark select.bp3-intent-danger:active,
      .bp3-dark .bp3-select.bp3-minimal select.bp3-intent-danger:active, .bp3-select.bp3-minimal .bp3-dark select.bp3-intent-danger:active, .bp3-dark .bp3-html-select.bp3-minimal select.bp3-intent-danger.bp3-active, .bp3-html-select.bp3-minimal .bp3-dark select.bp3-intent-danger.bp3-active,
      .bp3-dark .bp3-select.bp3-minimal select.bp3-intent-danger.bp3-active, .bp3-select.bp3-minimal .bp3-dark select.bp3-intent-danger.bp3-active{
        background:rgba(219, 55, 55, 0.3);
        color:#ff7373; }
      .bp3-dark .bp3-html-select.bp3-minimal select.bp3-intent-danger:disabled, .bp3-html-select.bp3-minimal .bp3-dark select.bp3-intent-danger:disabled,
      .bp3-dark .bp3-select.bp3-minimal select.bp3-intent-danger:disabled, .bp3-select.bp3-minimal .bp3-dark select.bp3-intent-danger:disabled, .bp3-dark .bp3-html-select.bp3-minimal select.bp3-intent-danger.bp3-disabled, .bp3-html-select.bp3-minimal .bp3-dark select.bp3-intent-danger.bp3-disabled,
      .bp3-dark .bp3-select.bp3-minimal select.bp3-intent-danger.bp3-disabled, .bp3-select.bp3-minimal .bp3-dark select.bp3-intent-danger.bp3-disabled{
        background:none;
        color:rgba(255, 115, 115, 0.5); }
        .bp3-dark .bp3-html-select.bp3-minimal select.bp3-intent-danger:disabled.bp3-active, .bp3-html-select.bp3-minimal .bp3-dark select.bp3-intent-danger:disabled.bp3-active,
        .bp3-dark .bp3-select.bp3-minimal select.bp3-intent-danger:disabled.bp3-active, .bp3-select.bp3-minimal .bp3-dark select.bp3-intent-danger:disabled.bp3-active, .bp3-dark .bp3-html-select.bp3-minimal select.bp3-intent-danger.bp3-disabled.bp3-active, .bp3-html-select.bp3-minimal .bp3-dark select.bp3-intent-danger.bp3-disabled.bp3-active,
        .bp3-dark .bp3-select.bp3-minimal select.bp3-intent-danger.bp3-disabled.bp3-active, .bp3-select.bp3-minimal .bp3-dark select.bp3-intent-danger.bp3-disabled.bp3-active{
          background:rgba(219, 55, 55, 0.3); }

.bp3-html-select.bp3-large select,
.bp3-select.bp3-large select{
  font-size:16px;
  height:40px;
  padding-right:35px; }

.bp3-dark .bp3-html-select select, .bp3-dark .bp3-select select{
  background-color:#394b59;
  background-image:-webkit-gradient(linear, left top, left bottom, from(rgba(255, 255, 255, 0.05)), to(rgba(255, 255, 255, 0)));
  background-image:linear-gradient(to bottom, rgba(255, 255, 255, 0.05), rgba(255, 255, 255, 0));
  -webkit-box-shadow:0 0 0 1px rgba(16, 22, 26, 0.4);
          box-shadow:0 0 0 1px rgba(16, 22, 26, 0.4);
  color:#f5f8fa; }
  .bp3-dark .bp3-html-select select:hover, .bp3-dark .bp3-select select:hover, .bp3-dark .bp3-html-select select:active, .bp3-dark .bp3-select select:active, .bp3-dark .bp3-html-select select.bp3-active, .bp3-dark .bp3-select select.bp3-active{
    color:#f5f8fa; }
  .bp3-dark .bp3-html-select select:hover, .bp3-dark .bp3-select select:hover{
    background-color:#30404d;
    -webkit-box-shadow:0 0 0 1px rgba(16, 22, 26, 0.4);
            box-shadow:0 0 0 1px rgba(16, 22, 26, 0.4); }
  .bp3-dark .bp3-html-select select:active, .bp3-dark .bp3-select select:active, .bp3-dark .bp3-html-select select.bp3-active, .bp3-dark .bp3-select select.bp3-active{
    background-color:#202b33;
    background-image:none;
    -webkit-box-shadow:0 0 0 1px rgba(16, 22, 26, 0.6), inset 0 1px 2px rgba(16, 22, 26, 0.2);
            box-shadow:0 0 0 1px rgba(16, 22, 26, 0.6), inset 0 1px 2px rgba(16, 22, 26, 0.2); }
  .bp3-dark .bp3-html-select select:disabled, .bp3-dark .bp3-select select:disabled, .bp3-dark .bp3-html-select select.bp3-disabled, .bp3-dark .bp3-select select.bp3-disabled{
    background-color:rgba(57, 75, 89, 0.5);
    background-image:none;
    -webkit-box-shadow:none;
            box-shadow:none;
    color:rgba(167, 182, 194, 0.6); }
    .bp3-dark .bp3-html-select select:disabled.bp3-active, .bp3-dark .bp3-select select:disabled.bp3-active, .bp3-dark .bp3-html-select select.bp3-disabled.bp3-active, .bp3-dark .bp3-select select.bp3-disabled.bp3-active{
      background:rgba(57, 75, 89, 0.7); }
  .bp3-dark .bp3-html-select select .bp3-button-spinner .bp3-spinner-head, .bp3-dark .bp3-select select .bp3-button-spinner .bp3-spinner-head{
    background:rgba(16, 22, 26, 0.5);
    stroke:#8a9ba8; }

.bp3-html-select select:disabled,
.bp3-select select:disabled{
  background-color:rgba(206, 217, 224, 0.5);
  -webkit-box-shadow:none;
          box-shadow:none;
  color:rgba(92, 112, 128, 0.6);
  cursor:not-allowed; }

.bp3-html-select .bp3-icon,
.bp3-select .bp3-icon, .bp3-select::after{
  color:#5c7080;
  pointer-events:none;
  position:absolute;
  right:7px;
  top:7px; }
  .bp3-html-select .bp3-disabled.bp3-icon,
  .bp3-select .bp3-disabled.bp3-icon, .bp3-disabled.bp3-select::after{
    color:rgba(92, 112, 128, 0.6); }
.bp3-html-select,
.bp3-select{
  display:inline-block;
  letter-spacing:normal;
  position:relative;
  vertical-align:middle; }
  .bp3-html-select select::-ms-expand,
  .bp3-select select::-ms-expand{
    display:none; }
  .bp3-html-select .bp3-icon,
  .bp3-select .bp3-icon{
    color:#5c7080; }
    .bp3-html-select .bp3-icon:hover,
    .bp3-select .bp3-icon:hover{
      color:#182026; }
    .bp3-dark .bp3-html-select .bp3-icon, .bp3-dark
    .bp3-select .bp3-icon{
      color:#a7b6c2; }
      .bp3-dark .bp3-html-select .bp3-icon:hover, .bp3-dark
      .bp3-select .bp3-icon:hover{
        color:#f5f8fa; }
  .bp3-html-select.bp3-large::after,
  .bp3-html-select.bp3-large .bp3-icon,
  .bp3-select.bp3-large::after,
  .bp3-select.bp3-large .bp3-icon{
    right:12px;
    top:12px; }
  .bp3-html-select.bp3-fill,
  .bp3-html-select.bp3-fill select,
  .bp3-select.bp3-fill,
  .bp3-select.bp3-fill select{
    width:100%; }
  .bp3-dark .bp3-html-select option, .bp3-dark
  .bp3-select option{
    background-color:#30404d;
    color:#f5f8fa; }
  .bp3-dark .bp3-html-select option:disabled, .bp3-dark
  .bp3-select option:disabled{
    color:rgba(167, 182, 194, 0.6); }
  .bp3-dark .bp3-html-select::after, .bp3-dark
  .bp3-select::after{
    color:#a7b6c2; }

.bp3-select::after{
  font-family:"Icons16", sans-serif;
  font-size:16px;
  font-style:normal;
  font-weight:400;
  line-height:1;
  -moz-osx-font-smoothing:grayscale;
  -webkit-font-smoothing:antialiased;
  content:""; }
.bp3-running-text table, table.bp3-html-table{
  border-spacing:0;
  font-size:14px; }
  .bp3-running-text table th, table.bp3-html-table th,
  .bp3-running-text table td,
  table.bp3-html-table td{
    padding:11px;
    text-align:left;
    vertical-align:top; }
  .bp3-running-text table th, table.bp3-html-table th{
    color:#182026;
    font-weight:600; }
  
  .bp3-running-text table td,
  table.bp3-html-table td{
    color:#182026; }
  .bp3-running-text table tbody tr:first-child th, table.bp3-html-table tbody tr:first-child th,
  .bp3-running-text table tbody tr:first-child td,
  table.bp3-html-table tbody tr:first-child td,
  .bp3-running-text table tfoot tr:first-child th,
  table.bp3-html-table tfoot tr:first-child th,
  .bp3-running-text table tfoot tr:first-child td,
  table.bp3-html-table tfoot tr:first-child td{
    -webkit-box-shadow:inset 0 1px 0 0 rgba(16, 22, 26, 0.15);
            box-shadow:inset 0 1px 0 0 rgba(16, 22, 26, 0.15); }
  .bp3-dark .bp3-running-text table th, .bp3-running-text .bp3-dark table th, .bp3-dark table.bp3-html-table th{
    color:#f5f8fa; }
  .bp3-dark .bp3-running-text table td, .bp3-running-text .bp3-dark table td, .bp3-dark table.bp3-html-table td{
    color:#f5f8fa; }
  .bp3-dark .bp3-running-text table tbody tr:first-child th, .bp3-running-text .bp3-dark table tbody tr:first-child th, .bp3-dark table.bp3-html-table tbody tr:first-child th,
  .bp3-dark .bp3-running-text table tbody tr:first-child td,
  .bp3-running-text .bp3-dark table tbody tr:first-child td,
  .bp3-dark table.bp3-html-table tbody tr:first-child td,
  .bp3-dark .bp3-running-text table tfoot tr:first-child th,
  .bp3-running-text .bp3-dark table tfoot tr:first-child th,
  .bp3-dark table.bp3-html-table tfoot tr:first-child th,
  .bp3-dark .bp3-running-text table tfoot tr:first-child td,
  .bp3-running-text .bp3-dark table tfoot tr:first-child td,
  .bp3-dark table.bp3-html-table tfoot tr:first-child td{
    -webkit-box-shadow:inset 0 1px 0 0 rgba(255, 255, 255, 0.15);
            box-shadow:inset 0 1px 0 0 rgba(255, 255, 255, 0.15); }

table.bp3-html-table.bp3-html-table-condensed th,
table.bp3-html-table.bp3-html-table-condensed td, table.bp3-html-table.bp3-small th,
table.bp3-html-table.bp3-small td{
  padding-bottom:6px;
  padding-top:6px; }

table.bp3-html-table.bp3-html-table-striped tbody tr:nth-child(odd) td{
  background:rgba(191, 204, 214, 0.15); }

table.bp3-html-table.bp3-html-table-bordered th:not(:first-child){
  -webkit-box-shadow:inset 1px 0 0 0 rgba(16, 22, 26, 0.15);
          box-shadow:inset 1px 0 0 0 rgba(16, 22, 26, 0.15); }

table.bp3-html-table.bp3-html-table-bordered tbody tr td,
table.bp3-html-table.bp3-html-table-bordered tfoot tr td{
  -webkit-box-shadow:inset 0 1px 0 0 rgba(16, 22, 26, 0.15);
          box-shadow:inset 0 1px 0 0 rgba(16, 22, 26, 0.15); }
  table.bp3-html-table.bp3-html-table-bordered tbody tr td:not(:first-child),
  table.bp3-html-table.bp3-html-table-bordered tfoot tr td:not(:first-child){
    -webkit-box-shadow:inset 1px 1px 0 0 rgba(16, 22, 26, 0.15);
            box-shadow:inset 1px 1px 0 0 rgba(16, 22, 26, 0.15); }

table.bp3-html-table.bp3-html-table-bordered.bp3-html-table-striped tbody tr:not(:first-child) td{
  -webkit-box-shadow:none;
          box-shadow:none; }
  table.bp3-html-table.bp3-html-table-bordered.bp3-html-table-striped tbody tr:not(:first-child) td:not(:first-child){
    -webkit-box-shadow:inset 1px 0 0 0 rgba(16, 22, 26, 0.15);
            box-shadow:inset 1px 0 0 0 rgba(16, 22, 26, 0.15); }

table.bp3-html-table.bp3-interactive tbody tr:hover td{
  background-color:rgba(191, 204, 214, 0.3);
  cursor:pointer; }

table.bp3-html-table.bp3-interactive tbody tr:active td{
  background-color:rgba(191, 204, 214, 0.4); }

.bp3-dark table.bp3-html-table{ }
  .bp3-dark table.bp3-html-table.bp3-html-table-striped tbody tr:nth-child(odd) td{
    background:rgba(92, 112, 128, 0.15); }
  .bp3-dark table.bp3-html-table.bp3-html-table-bordered th:not(:first-child){
    -webkit-box-shadow:inset 1px 0 0 0 rgba(255, 255, 255, 0.15);
            box-shadow:inset 1px 0 0 0 rgba(255, 255, 255, 0.15); }
  .bp3-dark table.bp3-html-table.bp3-html-table-bordered tbody tr td,
  .bp3-dark table.bp3-html-table.bp3-html-table-bordered tfoot tr td{
    -webkit-box-shadow:inset 0 1px 0 0 rgba(255, 255, 255, 0.15);
            box-shadow:inset 0 1px 0 0 rgba(255, 255, 255, 0.15); }
    .bp3-dark table.bp3-html-table.bp3-html-table-bordered tbody tr td:not(:first-child),
    .bp3-dark table.bp3-html-table.bp3-html-table-bordered tfoot tr td:not(:first-child){
      -webkit-box-shadow:inset 1px 1px 0 0 rgba(255, 255, 255, 0.15);
              box-shadow:inset 1px 1px 0 0 rgba(255, 255, 255, 0.15); }
  .bp3-dark table.bp3-html-table.bp3-html-table-bordered.bp3-html-table-striped tbody tr:not(:first-child) td{
    -webkit-box-shadow:inset 1px 0 0 0 rgba(255, 255, 255, 0.15);
            box-shadow:inset 1px 0 0 0 rgba(255, 255, 255, 0.15); }
    .bp3-dark table.bp3-html-table.bp3-html-table-bordered.bp3-html-table-striped tbody tr:not(:first-child) td:first-child{
      -webkit-box-shadow:none;
              box-shadow:none; }
  .bp3-dark table.bp3-html-table.bp3-interactive tbody tr:hover td{
    background-color:rgba(92, 112, 128, 0.3);
    cursor:pointer; }
  .bp3-dark table.bp3-html-table.bp3-interactive tbody tr:active td{
    background-color:rgba(92, 112, 128, 0.4); }

.bp3-key-combo{
  display:-webkit-box;
  display:-ms-flexbox;
  display:flex;
  -webkit-box-orient:horizontal;
  -webkit-box-direction:normal;
      -ms-flex-direction:row;
          flex-direction:row;
  -webkit-box-align:center;
      -ms-flex-align:center;
          align-items:center; }
  .bp3-key-combo > *{
    -webkit-box-flex:0;
        -ms-flex-positive:0;
            flex-grow:0;
    -ms-flex-negative:0;
        flex-shrink:0; }
  .bp3-key-combo > .bp3-fill{
    -webkit-box-flex:1;
        -ms-flex-positive:1;
            flex-grow:1;
    -ms-flex-negative:1;
        flex-shrink:1; }
  .bp3-key-combo::before,
  .bp3-key-combo > *{
    margin-right:5px; }
  .bp3-key-combo:empty::before,
  .bp3-key-combo > :last-child{
    margin-right:0; }

.bp3-hotkey-dialog{
  padding-bottom:0;
  top:40px; }
  .bp3-hotkey-dialog .bp3-dialog-body{
    margin:0;
    padding:0; }
  .bp3-hotkey-dialog .bp3-hotkey-label{
    -webkit-box-flex:1;
        -ms-flex-positive:1;
            flex-grow:1; }

.bp3-hotkey-column{
  margin:auto;
  max-height:80vh;
  overflow-y:auto;
  padding:30px; }
  .bp3-hotkey-column .bp3-heading{
    margin-bottom:20px; }
    .bp3-hotkey-column .bp3-heading:not(:first-child){
      margin-top:40px; }

.bp3-hotkey{
  -webkit-box-align:center;
      -ms-flex-align:center;
          align-items:center;
  display:-webkit-box;
  display:-ms-flexbox;
  display:flex;
  -webkit-box-pack:justify;
      -ms-flex-pack:justify;
          justify-content:space-between;
  margin-left:0;
  margin-right:0; }
  .bp3-hotkey:not(:last-child){
    margin-bottom:10px; }
.bp3-icon{
  display:inline-block;
  -webkit-box-flex:0;
      -ms-flex:0 0 auto;
          flex:0 0 auto;
  vertical-align:text-bottom; }
  .bp3-icon:not(:empty)::before{
    content:"" !important;
    content:unset !important; }
  .bp3-icon > svg{
    display:block; }
    .bp3-icon > svg:not([fill]){
      fill:currentColor; }

.bp3-icon.bp3-intent-primary, .bp3-icon-standard.bp3-intent-primary, .bp3-icon-large.bp3-intent-primary{
  color:#106ba3; }
  .bp3-dark .bp3-icon.bp3-intent-primary, .bp3-dark .bp3-icon-standard.bp3-intent-primary, .bp3-dark .bp3-icon-large.bp3-intent-primary{
    color:#48aff0; }

.bp3-icon.bp3-intent-success, .bp3-icon-standard.bp3-intent-success, .bp3-icon-large.bp3-intent-success{
  color:#0d8050; }
  .bp3-dark .bp3-icon.bp3-intent-success, .bp3-dark .bp3-icon-standard.bp3-intent-success, .bp3-dark .bp3-icon-large.bp3-intent-success{
    color:#3dcc91; }

.bp3-icon.bp3-intent-warning, .bp3-icon-standard.bp3-intent-warning, .bp3-icon-large.bp3-intent-warning{
  color:#bf7326; }
  .bp3-dark .bp3-icon.bp3-intent-warning, .bp3-dark .bp3-icon-standard.bp3-intent-warning, .bp3-dark .bp3-icon-large.bp3-intent-warning{
    color:#ffb366; }

.bp3-icon.bp3-intent-danger, .bp3-icon-standard.bp3-intent-danger, .bp3-icon-large.bp3-intent-danger{
  color:#c23030; }
  .bp3-dark .bp3-icon.bp3-intent-danger, .bp3-dark .bp3-icon-standard.bp3-intent-danger, .bp3-dark .bp3-icon-large.bp3-intent-danger{
    color:#ff7373; }

span.bp3-icon-standard{
  font-family:"Icons16", sans-serif;
  font-size:16px;
  font-style:normal;
  font-weight:400;
  line-height:1;
  -moz-osx-font-smoothing:grayscale;
  -webkit-font-smoothing:antialiased;
  display:inline-block; }

span.bp3-icon-large{
  font-family:"Icons20", sans-serif;
  font-size:20px;
  font-style:normal;
  font-weight:400;
  line-height:1;
  -moz-osx-font-smoothing:grayscale;
  -webkit-font-smoothing:antialiased;
  display:inline-block; }

span.bp3-icon:empty{
  font-family:"Icons20";
  font-size:inherit;
  font-style:normal;
  font-weight:400;
  line-height:1; }
  span.bp3-icon:empty::before{
    -moz-osx-font-smoothing:grayscale;
    -webkit-font-smoothing:antialiased; }

.bp3-icon-add::before{
  content:""; }

.bp3-icon-add-column-left::before{
  content:""; }

.bp3-icon-add-column-right::before{
  content:""; }

.bp3-icon-add-row-bottom::before{
  content:""; }

.bp3-icon-add-row-top::before{
  content:""; }

.bp3-icon-add-to-artifact::before{
  content:""; }

.bp3-icon-add-to-folder::before{
  content:""; }

.bp3-icon-airplane::before{
  content:""; }

.bp3-icon-align-center::before{
  content:""; }

.bp3-icon-align-justify::before{
  content:""; }

.bp3-icon-align-left::before{
  content:""; }

.bp3-icon-align-right::before{
  content:""; }

.bp3-icon-alignment-bottom::before{
  content:""; }

.bp3-icon-alignment-horizontal-center::before{
  content:""; }

.bp3-icon-alignment-left::before{
  content:""; }

.bp3-icon-alignment-right::before{
  content:""; }

.bp3-icon-alignment-top::before{
  content:""; }

.bp3-icon-alignment-vertical-center::before{
  content:""; }

.bp3-icon-annotation::before{
  content:""; }

.bp3-icon-application::before{
  content:""; }

.bp3-icon-applications::before{
  content:""; }

.bp3-icon-archive::before{
  content:""; }

.bp3-icon-arrow-bottom-left::before{
  content:"↙"; }

.bp3-icon-arrow-bottom-right::before{
  content:"↘"; }

.bp3-icon-arrow-down::before{
  content:"↓"; }

.bp3-icon-arrow-left::before{
  content:"←"; }

.bp3-icon-arrow-right::before{
  content:"→"; }

.bp3-icon-arrow-top-left::before{
  content:"↖"; }

.bp3-icon-arrow-top-right::before{
  content:"↗"; }

.bp3-icon-arrow-up::before{
  content:"↑"; }

.bp3-icon-arrows-horizontal::before{
  content:"↔"; }

.bp3-icon-arrows-vertical::before{
  content:"↕"; }

.bp3-icon-asterisk::before{
  content:"*"; }

.bp3-icon-automatic-updates::before{
  content:""; }

.bp3-icon-badge::before{
  content:""; }

.bp3-icon-ban-circle::before{
  content:""; }

.bp3-icon-bank-account::before{
  content:""; }

.bp3-icon-barcode::before{
  content:""; }

.bp3-icon-blank::before{
  content:""; }

.bp3-icon-blocked-person::before{
  content:""; }

.bp3-icon-bold::before{
  content:""; }

.bp3-icon-book::before{
  content:""; }

.bp3-icon-bookmark::before{
  content:""; }

.bp3-icon-box::before{
  content:""; }

.bp3-icon-briefcase::before{
  content:""; }

.bp3-icon-bring-data::before{
  content:""; }

.bp3-icon-build::before{
  content:""; }

.bp3-icon-calculator::before{
  content:""; }

.bp3-icon-calendar::before{
  content:""; }

.bp3-icon-camera::before{
  content:""; }

.bp3-icon-caret-down::before{
  content:"⌄"; }

.bp3-icon-caret-left::before{
  content:"〈"; }

.bp3-icon-caret-right::before{
  content:"〉"; }

.bp3-icon-caret-up::before{
  content:"⌃"; }

.bp3-icon-cell-tower::before{
  content:""; }

.bp3-icon-changes::before{
  content:""; }

.bp3-icon-chart::before{
  content:""; }

.bp3-icon-chat::before{
  content:""; }

.bp3-icon-chevron-backward::before{
  content:""; }

.bp3-icon-chevron-down::before{
  content:""; }

.bp3-icon-chevron-forward::before{
  content:""; }

.bp3-icon-chevron-left::before{
  content:""; }

.bp3-icon-chevron-right::before{
  content:""; }

.bp3-icon-chevron-up::before{
  content:""; }

.bp3-icon-circle::before{
  content:""; }

.bp3-icon-circle-arrow-down::before{
  content:""; }

.bp3-icon-circle-arrow-left::before{
  content:""; }

.bp3-icon-circle-arrow-right::before{
  content:""; }

.bp3-icon-circle-arrow-up::before{
  content:""; }

.bp3-icon-citation::before{
  content:""; }

.bp3-icon-clean::before{
  content:""; }

.bp3-icon-clipboard::before{
  content:""; }

.bp3-icon-cloud::before{
  content:"☁"; }

.bp3-icon-cloud-download::before{
  content:""; }

.bp3-icon-cloud-upload::before{
  content:""; }

.bp3-icon-code::before{
  content:""; }

.bp3-icon-code-block::before{
  content:""; }

.bp3-icon-cog::before{
  content:""; }

.bp3-icon-collapse-all::before{
  content:""; }

.bp3-icon-column-layout::before{
  content:""; }

.bp3-icon-comment::before{
  content:""; }

.bp3-icon-comparison::before{
  content:""; }

.bp3-icon-compass::before{
  content:""; }

.bp3-icon-compressed::before{
  content:""; }

.bp3-icon-confirm::before{
  content:""; }

.bp3-icon-console::before{
  content:""; }

.bp3-icon-contrast::before{
  content:""; }

.bp3-icon-control::before{
  content:""; }

.bp3-icon-credit-card::before{
  content:""; }

.bp3-icon-cross::before{
  content:"✗"; }

.bp3-icon-crown::before{
  content:""; }

.bp3-icon-cube::before{
  content:""; }

.bp3-icon-cube-add::before{
  content:""; }

.bp3-icon-cube-remove::before{
  content:""; }

.bp3-icon-curved-range-chart::before{
  content:""; }

.bp3-icon-cut::before{
  content:""; }

.bp3-icon-dashboard::before{
  content:""; }

.bp3-icon-data-lineage::before{
  content:""; }

.bp3-icon-database::before{
  content:""; }

.bp3-icon-delete::before{
  content:""; }

.bp3-icon-delta::before{
  content:"Δ"; }

.bp3-icon-derive-column::before{
  content:""; }

.bp3-icon-desktop::before{
  content:""; }

.bp3-icon-diagnosis::before{
  content:""; }

.bp3-icon-diagram-tree::before{
  content:""; }

.bp3-icon-direction-left::before{
  content:""; }

.bp3-icon-direction-right::before{
  content:""; }

.bp3-icon-disable::before{
  content:""; }

.bp3-icon-document::before{
  content:""; }

.bp3-icon-document-open::before{
  content:""; }

.bp3-icon-document-share::before{
  content:""; }

.bp3-icon-dollar::before{
  content:"$"; }

.bp3-icon-dot::before{
  content:"•"; }

.bp3-icon-double-caret-horizontal::before{
  content:""; }

.bp3-icon-double-caret-vertical::before{
  content:""; }

.bp3-icon-double-chevron-down::before{
  content:""; }

.bp3-icon-double-chevron-left::before{
  content:""; }

.bp3-icon-double-chevron-right::before{
  content:""; }

.bp3-icon-double-chevron-up::before{
  content:""; }

.bp3-icon-doughnut-chart::before{
  content:""; }

.bp3-icon-download::before{
  content:""; }

.bp3-icon-drag-handle-horizontal::before{
  content:""; }

.bp3-icon-drag-handle-vertical::before{
  content:""; }

.bp3-icon-draw::before{
  content:""; }

.bp3-icon-drive-time::before{
  content:""; }

.bp3-icon-duplicate::before{
  content:""; }

.bp3-icon-edit::before{
  content:"✎"; }

.bp3-icon-eject::before{
  content:"⏏"; }

.bp3-icon-endorsed::before{
  content:""; }

.bp3-icon-envelope::before{
  content:"✉"; }

.bp3-icon-equals::before{
  content:""; }

.bp3-icon-eraser::before{
  content:""; }

.bp3-icon-error::before{
  content:""; }

.bp3-icon-euro::before{
  content:"€"; }

.bp3-icon-exchange::before{
  content:""; }

.bp3-icon-exclude-row::before{
  content:""; }

.bp3-icon-expand-all::before{
  content:""; }

.bp3-icon-export::before{
  content:""; }

.bp3-icon-eye-off::before{
  content:""; }

.bp3-icon-eye-on::before{
  content:""; }

.bp3-icon-eye-open::before{
  content:""; }

.bp3-icon-fast-backward::before{
  content:""; }

.bp3-icon-fast-forward::before{
  content:""; }

.bp3-icon-feed::before{
  content:""; }

.bp3-icon-feed-subscribed::before{
  content:""; }

.bp3-icon-film::before{
  content:""; }

.bp3-icon-filter::before{
  content:""; }

.bp3-icon-filter-keep::before{
  content:""; }

.bp3-icon-filter-list::before{
  content:""; }

.bp3-icon-filter-open::before{
  content:""; }

.bp3-icon-filter-remove::before{
  content:""; }

.bp3-icon-flag::before{
  content:"⚑"; }

.bp3-icon-flame::before{
  content:""; }

.bp3-icon-flash::before{
  content:""; }

.bp3-icon-floppy-disk::before{
  content:""; }

.bp3-icon-flow-branch::before{
  content:""; }

.bp3-icon-flow-end::before{
  content:""; }

.bp3-icon-flow-linear::before{
  content:""; }

.bp3-icon-flow-review::before{
  content:""; }

.bp3-icon-flow-review-branch::before{
  content:""; }

.bp3-icon-flows::before{
  content:""; }

.bp3-icon-folder-close::before{
  content:""; }

.bp3-icon-folder-new::before{
  content:""; }

.bp3-icon-folder-open::before{
  content:""; }

.bp3-icon-folder-shared::before{
  content:""; }

.bp3-icon-folder-shared-open::before{
  content:""; }

.bp3-icon-follower::before{
  content:""; }

.bp3-icon-following::before{
  content:""; }

.bp3-icon-font::before{
  content:""; }

.bp3-icon-fork::before{
  content:""; }

.bp3-icon-form::before{
  content:""; }

.bp3-icon-full-circle::before{
  content:""; }

.bp3-icon-full-stacked-chart::before{
  content:""; }

.bp3-icon-fullscreen::before{
  content:""; }

.bp3-icon-function::before{
  content:""; }

.bp3-icon-gantt-chart::before{
  content:""; }

.bp3-icon-geolocation::before{
  content:""; }

.bp3-icon-geosearch::before{
  content:""; }

.bp3-icon-git-branch::before{
  content:""; }

.bp3-icon-git-commit::before{
  content:""; }

.bp3-icon-git-merge::before{
  content:""; }

.bp3-icon-git-new-branch::before{
  content:""; }

.bp3-icon-git-pull::before{
  content:""; }

.bp3-icon-git-push::before{
  content:""; }

.bp3-icon-git-repo::before{
  content:""; }

.bp3-icon-glass::before{
  content:""; }

.bp3-icon-globe::before{
  content:""; }

.bp3-icon-globe-network::before{
  content:""; }

.bp3-icon-graph::before{
  content:""; }

.bp3-icon-graph-remove::before{
  content:""; }

.bp3-icon-greater-than::before{
  content:""; }

.bp3-icon-greater-than-or-equal-to::before{
  content:""; }

.bp3-icon-grid::before{
  content:""; }

.bp3-icon-grid-view::before{
  content:""; }

.bp3-icon-group-objects::before{
  content:""; }

.bp3-icon-grouped-bar-chart::before{
  content:""; }

.bp3-icon-hand::before{
  content:""; }

.bp3-icon-hand-down::before{
  content:""; }

.bp3-icon-hand-left::before{
  content:""; }

.bp3-icon-hand-right::before{
  content:""; }

.bp3-icon-hand-up::before{
  content:""; }

.bp3-icon-header::before{
  content:""; }

.bp3-icon-header-one::before{
  content:""; }

.bp3-icon-header-two::before{
  content:""; }

.bp3-icon-headset::before{
  content:""; }

.bp3-icon-heart::before{
  content:"♥"; }

.bp3-icon-heart-broken::before{
  content:""; }

.bp3-icon-heat-grid::before{
  content:""; }

.bp3-icon-heatmap::before{
  content:""; }

.bp3-icon-help::before{
  content:"?"; }

.bp3-icon-helper-management::before{
  content:""; }

.bp3-icon-highlight::before{
  content:""; }

.bp3-icon-history::before{
  content:""; }

.bp3-icon-home::before{
  content:"⌂"; }

.bp3-icon-horizontal-bar-chart::before{
  content:""; }

.bp3-icon-horizontal-bar-chart-asc::before{
  content:""; }

.bp3-icon-horizontal-bar-chart-desc::before{
  content:""; }

.bp3-icon-horizontal-distribution::before{
  content:""; }

.bp3-icon-id-number::before{
  content:""; }

.bp3-icon-image-rotate-left::before{
  content:""; }

.bp3-icon-image-rotate-right::before{
  content:""; }

.bp3-icon-import::before{
  content:""; }

.bp3-icon-inbox::before{
  content:""; }

.bp3-icon-inbox-filtered::before{
  content:""; }

.bp3-icon-inbox-geo::before{
  content:""; }

.bp3-icon-inbox-search::before{
  content:""; }

.bp3-icon-inbox-update::before{
  content:""; }

.bp3-icon-info-sign::before{
  content:"ℹ"; }

.bp3-icon-inheritance::before{
  content:""; }

.bp3-icon-inner-join::before{
  content:""; }

.bp3-icon-insert::before{
  content:""; }

.bp3-icon-intersection::before{
  content:""; }

.bp3-icon-ip-address::before{
  content:""; }

.bp3-icon-issue::before{
  content:""; }

.bp3-icon-issue-closed::before{
  content:""; }

.bp3-icon-issue-new::before{
  content:""; }

.bp3-icon-italic::before{
  content:""; }

.bp3-icon-join-table::before{
  content:""; }

.bp3-icon-key::before{
  content:""; }

.bp3-icon-key-backspace::before{
  content:""; }

.bp3-icon-key-command::before{
  content:""; }

.bp3-icon-key-control::before{
  content:""; }

.bp3-icon-key-delete::before{
  content:""; }

.bp3-icon-key-enter::before{
  content:""; }

.bp3-icon-key-escape::before{
  content:""; }

.bp3-icon-key-option::before{
  content:""; }

.bp3-icon-key-shift::before{
  content:""; }

.bp3-icon-key-tab::before{
  content:""; }

.bp3-icon-known-vehicle::before{
  content:""; }

.bp3-icon-lab-test::before{
  content:""; }

.bp3-icon-label::before{
  content:""; }

.bp3-icon-layer::before{
  content:""; }

.bp3-icon-layers::before{
  content:""; }

.bp3-icon-layout::before{
  content:""; }

.bp3-icon-layout-auto::before{
  content:""; }

.bp3-icon-layout-balloon::before{
  content:""; }

.bp3-icon-layout-circle::before{
  content:""; }

.bp3-icon-layout-grid::before{
  content:""; }

.bp3-icon-layout-group-by::before{
  content:""; }

.bp3-icon-layout-hierarchy::before{
  content:""; }

.bp3-icon-layout-linear::before{
  content:""; }

.bp3-icon-layout-skew-grid::before{
  content:""; }

.bp3-icon-layout-sorted-clusters::before{
  content:""; }

.bp3-icon-learning::before{
  content:""; }

.bp3-icon-left-join::before{
  content:""; }

.bp3-icon-less-than::before{
  content:""; }

.bp3-icon-less-than-or-equal-to::before{
  content:""; }

.bp3-icon-lifesaver::before{
  content:""; }

.bp3-icon-lightbulb::before{
  content:""; }

.bp3-icon-link::before{
  content:""; }

.bp3-icon-list::before{
  content:"☰"; }

.bp3-icon-list-columns::before{
  content:""; }

.bp3-icon-list-detail-view::before{
  content:""; }

.bp3-icon-locate::before{
  content:""; }

.bp3-icon-lock::before{
  content:""; }

.bp3-icon-log-in::before{
  content:""; }

.bp3-icon-log-out::before{
  content:""; }

.bp3-icon-manual::before{
  content:""; }

.bp3-icon-manually-entered-data::before{
  content:""; }

.bp3-icon-map::before{
  content:""; }

.bp3-icon-map-create::before{
  content:""; }

.bp3-icon-map-marker::before{
  content:""; }

.bp3-icon-maximize::before{
  content:""; }

.bp3-icon-media::before{
  content:""; }

.bp3-icon-menu::before{
  content:""; }

.bp3-icon-menu-closed::before{
  content:""; }

.bp3-icon-menu-open::before{
  content:""; }

.bp3-icon-merge-columns::before{
  content:""; }

.bp3-icon-merge-links::before{
  content:""; }

.bp3-icon-minimize::before{
  content:""; }

.bp3-icon-minus::before{
  content:"−"; }

.bp3-icon-mobile-phone::before{
  content:""; }

.bp3-icon-mobile-video::before{
  content:""; }

.bp3-icon-moon::before{
  content:""; }

.bp3-icon-more::before{
  content:""; }

.bp3-icon-mountain::before{
  content:""; }

.bp3-icon-move::before{
  content:""; }

.bp3-icon-mugshot::before{
  content:""; }

.bp3-icon-multi-select::before{
  content:""; }

.bp3-icon-music::before{
  content:""; }

.bp3-icon-new-drawing::before{
  content:""; }

.bp3-icon-new-grid-item::before{
  content:""; }

.bp3-icon-new-layer::before{
  content:""; }

.bp3-icon-new-layers::before{
  content:""; }

.bp3-icon-new-link::before{
  content:""; }

.bp3-icon-new-object::before{
  content:""; }

.bp3-icon-new-person::before{
  content:""; }

.bp3-icon-new-prescription::before{
  content:""; }

.bp3-icon-new-text-box::before{
  content:""; }

.bp3-icon-ninja::before{
  content:""; }

.bp3-icon-not-equal-to::before{
  content:""; }

.bp3-icon-notifications::before{
  content:""; }

.bp3-icon-notifications-updated::before{
  content:""; }

.bp3-icon-numbered-list::before{
  content:""; }

.bp3-icon-numerical::before{
  content:""; }

.bp3-icon-office::before{
  content:""; }

.bp3-icon-offline::before{
  content:""; }

.bp3-icon-oil-field::before{
  content:""; }

.bp3-icon-one-column::before{
  content:""; }

.bp3-icon-outdated::before{
  content:""; }

.bp3-icon-page-layout::before{
  content:""; }

.bp3-icon-panel-stats::before{
  content:""; }

.bp3-icon-panel-table::before{
  content:""; }

.bp3-icon-paperclip::before{
  content:""; }

.bp3-icon-paragraph::before{
  content:""; }

.bp3-icon-path::before{
  content:""; }

.bp3-icon-path-search::before{
  content:""; }

.bp3-icon-pause::before{
  content:""; }

.bp3-icon-people::before{
  content:""; }

.bp3-icon-percentage::before{
  content:""; }

.bp3-icon-person::before{
  content:""; }

.bp3-icon-phone::before{
  content:"☎"; }

.bp3-icon-pie-chart::before{
  content:""; }

.bp3-icon-pin::before{
  content:""; }

.bp3-icon-pivot::before{
  content:""; }

.bp3-icon-pivot-table::before{
  content:""; }

.bp3-icon-play::before{
  content:""; }

.bp3-icon-plus::before{
  content:"+"; }

.bp3-icon-polygon-filter::before{
  content:""; }

.bp3-icon-power::before{
  content:""; }

.bp3-icon-predictive-analysis::before{
  content:""; }

.bp3-icon-prescription::before{
  content:""; }

.bp3-icon-presentation::before{
  content:""; }

.bp3-icon-print::before{
  content:"⎙"; }

.bp3-icon-projects::before{
  content:""; }

.bp3-icon-properties::before{
  content:""; }

.bp3-icon-property::before{
  content:""; }

.bp3-icon-publish-function::before{
  content:""; }

.bp3-icon-pulse::before{
  content:""; }

.bp3-icon-random::before{
  content:""; }

.bp3-icon-record::before{
  content:""; }

.bp3-icon-redo::before{
  content:""; }

.bp3-icon-refresh::before{
  content:""; }

.bp3-icon-regression-chart::before{
  content:""; }

.bp3-icon-remove::before{
  content:""; }

.bp3-icon-remove-column::before{
  content:""; }

.bp3-icon-remove-column-left::before{
  content:""; }

.bp3-icon-remove-column-right::before{
  content:""; }

.bp3-icon-remove-row-bottom::before{
  content:""; }

.bp3-icon-remove-row-top::before{
  content:""; }

.bp3-icon-repeat::before{
  content:""; }

.bp3-icon-reset::before{
  content:""; }

.bp3-icon-resolve::before{
  content:""; }

.bp3-icon-rig::before{
  content:""; }

.bp3-icon-right-join::before{
  content:""; }

.bp3-icon-ring::before{
  content:""; }

.bp3-icon-rotate-document::before{
  content:""; }

.bp3-icon-rotate-page::before{
  content:""; }

.bp3-icon-satellite::before{
  content:""; }

.bp3-icon-saved::before{
  content:""; }

.bp3-icon-scatter-plot::before{
  content:""; }

.bp3-icon-search::before{
  content:""; }

.bp3-icon-search-around::before{
  content:""; }

.bp3-icon-search-template::before{
  content:""; }

.bp3-icon-search-text::before{
  content:""; }

.bp3-icon-segmented-control::before{
  content:""; }

.bp3-icon-select::before{
  content:""; }

.bp3-icon-selection::before{
  content:"⦿"; }

.bp3-icon-send-to::before{
  content:""; }

.bp3-icon-send-to-graph::before{
  content:""; }

.bp3-icon-send-to-map::before{
  content:""; }

.bp3-icon-series-add::before{
  content:""; }

.bp3-icon-series-configuration::before{
  content:""; }

.bp3-icon-series-derived::before{
  content:""; }

.bp3-icon-series-filtered::before{
  content:""; }

.bp3-icon-series-search::before{
  content:""; }

.bp3-icon-settings::before{
  content:""; }

.bp3-icon-share::before{
  content:""; }

.bp3-icon-shield::before{
  content:""; }

.bp3-icon-shop::before{
  content:""; }

.bp3-icon-shopping-cart::before{
  content:""; }

.bp3-icon-signal-search::before{
  content:""; }

.bp3-icon-sim-card::before{
  content:""; }

.bp3-icon-slash::before{
  content:""; }

.bp3-icon-small-cross::before{
  content:""; }

.bp3-icon-small-minus::before{
  content:""; }

.bp3-icon-small-plus::before{
  content:""; }

.bp3-icon-small-tick::before{
  content:""; }

.bp3-icon-snowflake::before{
  content:""; }

.bp3-icon-social-media::before{
  content:""; }

.bp3-icon-sort::before{
  content:""; }

.bp3-icon-sort-alphabetical::before{
  content:""; }

.bp3-icon-sort-alphabetical-desc::before{
  content:""; }

.bp3-icon-sort-asc::before{
  content:""; }

.bp3-icon-sort-desc::before{
  content:""; }

.bp3-icon-sort-numerical::before{
  content:""; }

.bp3-icon-sort-numerical-desc::before{
  content:""; }

.bp3-icon-split-columns::before{
  content:""; }

.bp3-icon-square::before{
  content:""; }

.bp3-icon-stacked-chart::before{
  content:""; }

.bp3-icon-star::before{
  content:"★"; }

.bp3-icon-star-empty::before{
  content:"☆"; }

.bp3-icon-step-backward::before{
  content:""; }

.bp3-icon-step-chart::before{
  content:""; }

.bp3-icon-step-forward::before{
  content:""; }

.bp3-icon-stop::before{
  content:""; }

.bp3-icon-stopwatch::before{
  content:""; }

.bp3-icon-strikethrough::before{
  content:""; }

.bp3-icon-style::before{
  content:""; }

.bp3-icon-swap-horizontal::before{
  content:""; }

.bp3-icon-swap-vertical::before{
  content:""; }

.bp3-icon-symbol-circle::before{
  content:""; }

.bp3-icon-symbol-cross::before{
  content:""; }

.bp3-icon-symbol-diamond::before{
  content:""; }

.bp3-icon-symbol-square::before{
  content:""; }

.bp3-icon-symbol-triangle-down::before{
  content:""; }

.bp3-icon-symbol-triangle-up::before{
  content:""; }

.bp3-icon-tag::before{
  content:""; }

.bp3-icon-take-action::before{
  content:""; }

.bp3-icon-taxi::before{
  content:""; }

.bp3-icon-text-highlight::before{
  content:""; }

.bp3-icon-th::before{
  content:""; }

.bp3-icon-th-derived::before{
  content:""; }

.bp3-icon-th-disconnect::before{
  content:""; }

.bp3-icon-th-filtered::before{
  content:""; }

.bp3-icon-th-list::before{
  content:""; }

.bp3-icon-thumbs-down::before{
  content:""; }

.bp3-icon-thumbs-up::before{
  content:""; }

.bp3-icon-tick::before{
  content:"✓"; }

.bp3-icon-tick-circle::before{
  content:""; }

.bp3-icon-time::before{
  content:"⏲"; }

.bp3-icon-timeline-area-chart::before{
  content:""; }

.bp3-icon-timeline-bar-chart::before{
  content:""; }

.bp3-icon-timeline-events::before{
  content:""; }

.bp3-icon-timeline-line-chart::before{
  content:""; }

.bp3-icon-tint::before{
  content:""; }

.bp3-icon-torch::before{
  content:""; }

.bp3-icon-tractor::before{
  content:""; }

.bp3-icon-train::before{
  content:""; }

.bp3-icon-translate::before{
  content:""; }

.bp3-icon-trash::before{
  content:""; }

.bp3-icon-tree::before{
  content:""; }

.bp3-icon-trending-down::before{
  content:""; }

.bp3-icon-trending-up::before{
  content:""; }

.bp3-icon-truck::before{
  content:""; }

.bp3-icon-two-columns::before{
  content:""; }

.bp3-icon-unarchive::before{
  content:""; }

.bp3-icon-underline::before{
  content:"⎁"; }

.bp3-icon-undo::before{
  content:"⎌"; }

.bp3-icon-ungroup-objects::before{
  content:""; }

.bp3-icon-unknown-vehicle::before{
  content:""; }

.bp3-icon-unlock::before{
  content:""; }

.bp3-icon-unpin::before{
  content:""; }

.bp3-icon-unresolve::before{
  content:""; }

.bp3-icon-updated::before{
  content:""; }

.bp3-icon-upload::before{
  content:""; }

.bp3-icon-user::before{
  content:""; }

.bp3-icon-variable::before{
  content:""; }

.bp3-icon-vertical-bar-chart-asc::before{
  content:""; }

.bp3-icon-vertical-bar-chart-desc::before{
  content:""; }

.bp3-icon-vertical-distribution::before{
  content:""; }

.bp3-icon-video::before{
  content:""; }

.bp3-icon-volume-down::before{
  content:""; }

.bp3-icon-volume-off::before{
  content:""; }

.bp3-icon-volume-up::before{
  content:""; }

.bp3-icon-walk::before{
  content:""; }

.bp3-icon-warning-sign::before{
  content:""; }

.bp3-icon-waterfall-chart::before{
  content:""; }

.bp3-icon-widget::before{
  content:""; }

.bp3-icon-widget-button::before{
  content:""; }

.bp3-icon-widget-footer::before{
  content:""; }

.bp3-icon-widget-header::before{
  content:""; }

.bp3-icon-wrench::before{
  content:""; }

.bp3-icon-zoom-in::before{
  content:""; }

.bp3-icon-zoom-out::before{
  content:""; }

.bp3-icon-zoom-to-fit::before{
  content:""; }
.bp3-submenu > .bp3-popover-wrapper{
  display:block; }

.bp3-submenu .bp3-popover-target{
  display:block; }
  .bp3-submenu .bp3-popover-target.bp3-popover-open > .bp3-menu-item{ }

.bp3-submenu.bp3-popover{
  -webkit-box-shadow:none;
          box-shadow:none;
  padding:0 5px; }
  .bp3-submenu.bp3-popover > .bp3-popover-content{
    -webkit-box-shadow:0 0 0 1px rgba(16, 22, 26, 0.1), 0 2px 4px rgba(16, 22, 26, 0.2), 0 8px 24px rgba(16, 22, 26, 0.2);
            box-shadow:0 0 0 1px rgba(16, 22, 26, 0.1), 0 2px 4px rgba(16, 22, 26, 0.2), 0 8px 24px rgba(16, 22, 26, 0.2); }
  .bp3-dark .bp3-submenu.bp3-popover, .bp3-submenu.bp3-popover.bp3-dark{
    -webkit-box-shadow:none;
            box-shadow:none; }
    .bp3-dark .bp3-submenu.bp3-popover > .bp3-popover-content, .bp3-submenu.bp3-popover.bp3-dark > .bp3-popover-content{
      -webkit-box-shadow:0 0 0 1px rgba(16, 22, 26, 0.2), 0 2px 4px rgba(16, 22, 26, 0.4), 0 8px 24px rgba(16, 22, 26, 0.4);
              box-shadow:0 0 0 1px rgba(16, 22, 26, 0.2), 0 2px 4px rgba(16, 22, 26, 0.4), 0 8px 24px rgba(16, 22, 26, 0.4); }
.bp3-menu{
  background:#ffffff;
  border-radius:3px;
  color:#182026;
  list-style:none;
  margin:0;
  min-width:180px;
  padding:5px;
  text-align:left; }

.bp3-menu-divider{
  border-top:1px solid rgba(16, 22, 26, 0.15);
  display:block;
  margin:5px; }
  .bp3-dark .bp3-menu-divider{
    border-top-color:rgba(255, 255, 255, 0.15); }

.bp3-menu-item{
  display:-webkit-box;
  display:-ms-flexbox;
  display:flex;
  -webkit-box-orient:horizontal;
  -webkit-box-direction:normal;
      -ms-flex-direction:row;
          flex-direction:row;
  -webkit-box-align:start;
      -ms-flex-align:start;
          align-items:flex-start;
  border-radius:2px;
  color:inherit;
  line-height:20px;
  padding:5px 7px;
  text-decoration:none;
  -webkit-user-select:none;
     -moz-user-select:none;
      -ms-user-select:none;
          user-select:none; }
  .bp3-menu-item > *{
    -webkit-box-flex:0;
        -ms-flex-positive:0;
            flex-grow:0;
    -ms-flex-negative:0;
        flex-shrink:0; }
  .bp3-menu-item > .bp3-fill{
    -webkit-box-flex:1;
        -ms-flex-positive:1;
            flex-grow:1;
    -ms-flex-negative:1;
        flex-shrink:1; }
  .bp3-menu-item::before,
  .bp3-menu-item > *{
    margin-right:7px; }
  .bp3-menu-item:empty::before,
  .bp3-menu-item > :last-child{
    margin-right:0; }
  .bp3-menu-item > .bp3-fill{
    word-break:break-word; }
  .bp3-menu-item:hover, .bp3-submenu .bp3-popover-target.bp3-popover-open > .bp3-menu-item{
    background-color:rgba(167, 182, 194, 0.3);
    cursor:pointer;
    text-decoration:none; }
  .bp3-menu-item.bp3-disabled{
    background-color:inherit;
    color:rgba(92, 112, 128, 0.6);
    cursor:not-allowed; }
  .bp3-dark .bp3-menu-item{
    color:inherit; }
    .bp3-dark .bp3-menu-item:hover, .bp3-dark .bp3-submenu .bp3-popover-target.bp3-popover-open > .bp3-menu-item, .bp3-submenu .bp3-dark .bp3-popover-target.bp3-popover-open > .bp3-menu-item{
      background-color:rgba(138, 155, 168, 0.15);
      color:inherit; }
    .bp3-dark .bp3-menu-item.bp3-disabled{
      background-color:inherit;
      color:rgba(167, 182, 194, 0.6); }
  .bp3-menu-item.bp3-intent-primary{
    color:#106ba3; }
    .bp3-menu-item.bp3-intent-primary .bp3-icon{
      color:inherit; }
    .bp3-menu-item.bp3-intent-primary::before, .bp3-menu-item.bp3-intent-primary::after,
    .bp3-menu-item.bp3-intent-primary .bp3-menu-item-label{
      color:#106ba3; }
    .bp3-menu-item.bp3-intent-primary:hover, .bp3-submenu .bp3-popover-target.bp3-popover-open > .bp3-intent-primary.bp3-menu-item, .bp3-menu-item.bp3-intent-primary.bp3-active{
      background-color:#137cbd; }
    .bp3-menu-item.bp3-intent-primary:active{
      background-color:#106ba3; }
    .bp3-menu-item.bp3-intent-primary:hover, .bp3-submenu .bp3-popover-target.bp3-popover-open > .bp3-intent-primary.bp3-menu-item, .bp3-menu-item.bp3-intent-primary:hover::before, .bp3-submenu .bp3-popover-target.bp3-popover-open > .bp3-intent-primary.bp3-menu-item::before, .bp3-menu-item.bp3-intent-primary:hover::after, .bp3-submenu .bp3-popover-target.bp3-popover-open > .bp3-intent-primary.bp3-menu-item::after,
    .bp3-menu-item.bp3-intent-primary:hover .bp3-menu-item-label,
    .bp3-submenu .bp3-popover-target.bp3-popover-open > .bp3-intent-primary.bp3-menu-item .bp3-menu-item-label, .bp3-menu-item.bp3-intent-primary:active, .bp3-menu-item.bp3-intent-primary:active::before, .bp3-menu-item.bp3-intent-primary:active::after,
    .bp3-menu-item.bp3-intent-primary:active .bp3-menu-item-label, .bp3-menu-item.bp3-intent-primary.bp3-active, .bp3-menu-item.bp3-intent-primary.bp3-active::before, .bp3-menu-item.bp3-intent-primary.bp3-active::after,
    .bp3-menu-item.bp3-intent-primary.bp3-active .bp3-menu-item-label{
      color:#ffffff; }
  .bp3-menu-item.bp3-intent-success{
    color:#0d8050; }
    .bp3-menu-item.bp3-intent-success .bp3-icon{
      color:inherit; }
    .bp3-menu-item.bp3-intent-success::before, .bp3-menu-item.bp3-intent-success::after,
    .bp3-menu-item.bp3-intent-success .bp3-menu-item-label{
      color:#0d8050; }
    .bp3-menu-item.bp3-intent-success:hover, .bp3-submenu .bp3-popover-target.bp3-popover-open > .bp3-intent-success.bp3-menu-item, .bp3-menu-item.bp3-intent-success.bp3-active{
      background-color:#0f9960; }
    .bp3-menu-item.bp3-intent-success:active{
      background-color:#0d8050; }
    .bp3-menu-item.bp3-intent-success:hover, .bp3-submenu .bp3-popover-target.bp3-popover-open > .bp3-intent-success.bp3-menu-item, .bp3-menu-item.bp3-intent-success:hover::before, .bp3-submenu .bp3-popover-target.bp3-popover-open > .bp3-intent-success.bp3-menu-item::before, .bp3-menu-item.bp3-intent-success:hover::after, .bp3-submenu .bp3-popover-target.bp3-popover-open > .bp3-intent-success.bp3-menu-item::after,
    .bp3-menu-item.bp3-intent-success:hover .bp3-menu-item-label,
    .bp3-submenu .bp3-popover-target.bp3-popover-open > .bp3-intent-success.bp3-menu-item .bp3-menu-item-label, .bp3-menu-item.bp3-intent-success:active, .bp3-menu-item.bp3-intent-success:active::before, .bp3-menu-item.bp3-intent-success:active::after,
    .bp3-menu-item.bp3-intent-success:active .bp3-menu-item-label, .bp3-menu-item.bp3-intent-success.bp3-active, .bp3-menu-item.bp3-intent-success.bp3-active::before, .bp3-menu-item.bp3-intent-success.bp3-active::after,
    .bp3-menu-item.bp3-intent-success.bp3-active .bp3-menu-item-label{
      color:#ffffff; }
  .bp3-menu-item.bp3-intent-warning{
    color:#bf7326; }
    .bp3-menu-item.bp3-intent-warning .bp3-icon{
      color:inherit; }
    .bp3-menu-item.bp3-intent-warning::before, .bp3-menu-item.bp3-intent-warning::after,
    .bp3-menu-item.bp3-intent-warning .bp3-menu-item-label{
      color:#bf7326; }
    .bp3-menu-item.bp3-intent-warning:hover, .bp3-submenu .bp3-popover-target.bp3-popover-open > .bp3-intent-warning.bp3-menu-item, .bp3-menu-item.bp3-intent-warning.bp3-active{
      background-color:#d9822b; }
    .bp3-menu-item.bp3-intent-warning:active{
      background-color:#bf7326; }
    .bp3-menu-item.bp3-intent-warning:hover, .bp3-submenu .bp3-popover-target.bp3-popover-open > .bp3-intent-warning.bp3-menu-item, .bp3-menu-item.bp3-intent-warning:hover::before, .bp3-submenu .bp3-popover-target.bp3-popover-open > .bp3-intent-warning.bp3-menu-item::before, .bp3-menu-item.bp3-intent-warning:hover::after, .bp3-submenu .bp3-popover-target.bp3-popover-open > .bp3-intent-warning.bp3-menu-item::after,
    .bp3-menu-item.bp3-intent-warning:hover .bp3-menu-item-label,
    .bp3-submenu .bp3-popover-target.bp3-popover-open > .bp3-intent-warning.bp3-menu-item .bp3-menu-item-label, .bp3-menu-item.bp3-intent-warning:active, .bp3-menu-item.bp3-intent-warning:active::before, .bp3-menu-item.bp3-intent-warning:active::after,
    .bp3-menu-item.bp3-intent-warning:active .bp3-menu-item-label, .bp3-menu-item.bp3-intent-warning.bp3-active, .bp3-menu-item.bp3-intent-warning.bp3-active::before, .bp3-menu-item.bp3-intent-warning.bp3-active::after,
    .bp3-menu-item.bp3-intent-warning.bp3-active .bp3-menu-item-label{
      color:#ffffff; }
  .bp3-menu-item.bp3-intent-danger{
    color:#c23030; }
    .bp3-menu-item.bp3-intent-danger .bp3-icon{
      color:inherit; }
    .bp3-menu-item.bp3-intent-danger::before, .bp3-menu-item.bp3-intent-danger::after,
    .bp3-menu-item.bp3-intent-danger .bp3-menu-item-label{
      color:#c23030; }
    .bp3-menu-item.bp3-intent-danger:hover, .bp3-submenu .bp3-popover-target.bp3-popover-open > .bp3-intent-danger.bp3-menu-item, .bp3-menu-item.bp3-intent-danger.bp3-active{
      background-color:#db3737; }
    .bp3-menu-item.bp3-intent-danger:active{
      background-color:#c23030; }
    .bp3-menu-item.bp3-intent-danger:hover, .bp3-submenu .bp3-popover-target.bp3-popover-open > .bp3-intent-danger.bp3-menu-item, .bp3-menu-item.bp3-intent-danger:hover::before, .bp3-submenu .bp3-popover-target.bp3-popover-open > .bp3-intent-danger.bp3-menu-item::before, .bp3-menu-item.bp3-intent-danger:hover::after, .bp3-submenu .bp3-popover-target.bp3-popover-open > .bp3-intent-danger.bp3-menu-item::after,
    .bp3-menu-item.bp3-intent-danger:hover .bp3-menu-item-label,
    .bp3-submenu .bp3-popover-target.bp3-popover-open > .bp3-intent-danger.bp3-menu-item .bp3-menu-item-label, .bp3-menu-item.bp3-intent-danger:active, .bp3-menu-item.bp3-intent-danger:active::before, .bp3-menu-item.bp3-intent-danger:active::after,
    .bp3-menu-item.bp3-intent-danger:active .bp3-menu-item-label, .bp3-menu-item.bp3-intent-danger.bp3-active, .bp3-menu-item.bp3-intent-danger.bp3-active::before, .bp3-menu-item.bp3-intent-danger.bp3-active::after,
    .bp3-menu-item.bp3-intent-danger.bp3-active .bp3-menu-item-label{
      color:#ffffff; }
  .bp3-menu-item::before{
    font-family:"Icons16", sans-serif;
    font-size:16px;
    font-style:normal;
    font-weight:400;
    line-height:1;
    -moz-osx-font-smoothing:grayscale;
    -webkit-font-smoothing:antialiased;
    margin-right:7px; }
  .bp3-menu-item::before,
  .bp3-menu-item > .bp3-icon{
    color:#5c7080;
    margin-top:2px; }
  .bp3-menu-item .bp3-menu-item-label{
    color:#5c7080; }
  .bp3-menu-item:hover, .bp3-submenu .bp3-popover-target.bp3-popover-open > .bp3-menu-item{
    color:inherit; }
  .bp3-menu-item.bp3-active, .bp3-menu-item:active{
    background-color:rgba(115, 134, 148, 0.3); }
  .bp3-menu-item.bp3-disabled{
    background-color:inherit !important;
    color:rgba(92, 112, 128, 0.6) !important;
    cursor:not-allowed !important;
    outline:none !important; }
    .bp3-menu-item.bp3-disabled::before,
    .bp3-menu-item.bp3-disabled > .bp3-icon,
    .bp3-menu-item.bp3-disabled .bp3-menu-item-label{
      color:rgba(92, 112, 128, 0.6) !important; }
  .bp3-large .bp3-menu-item{
    font-size:16px;
    line-height:22px;
    padding:9px 7px; }
    .bp3-large .bp3-menu-item .bp3-icon{
      margin-top:3px; }
    .bp3-large .bp3-menu-item::before{
      font-family:"Icons20", sans-serif;
      font-size:20px;
      font-style:normal;
      font-weight:400;
      line-height:1;
      -moz-osx-font-smoothing:grayscale;
      -webkit-font-smoothing:antialiased;
      margin-right:10px;
      margin-top:1px; }

button.bp3-menu-item{
  background:none;
  border:none;
  text-align:left;
  width:100%; }
.bp3-menu-header{
  border-top:1px solid rgba(16, 22, 26, 0.15);
  display:block;
  margin:5px;
  cursor:default;
  padding-left:2px; }
  .bp3-dark .bp3-menu-header{
    border-top-color:rgba(255, 255, 255, 0.15); }
  .bp3-menu-header:first-of-type{
    border-top:none; }
  .bp3-menu-header > h6{
    color:#182026;
    font-weight:600;
    overflow:hidden;
    text-overflow:ellipsis;
    white-space:nowrap;
    word-wrap:normal;
    line-height:17px;
    margin:0;
    padding:10px 7px 0 1px; }
    .bp3-dark .bp3-menu-header > h6{
      color:#f5f8fa; }
  .bp3-menu-header:first-of-type > h6{
    padding-top:0; }
  .bp3-large .bp3-menu-header > h6{
    font-size:18px;
    padding-bottom:5px;
    padding-top:15px; }
  .bp3-large .bp3-menu-header:first-of-type > h6{
    padding-top:0; }

.bp3-dark .bp3-menu{
  background:#30404d;
  color:#f5f8fa; }

.bp3-dark .bp3-menu-item{ }
  .bp3-dark .bp3-menu-item.bp3-intent-primary{
    color:#48aff0; }
    .bp3-dark .bp3-menu-item.bp3-intent-primary .bp3-icon{
      color:inherit; }
    .bp3-dark .bp3-menu-item.bp3-intent-primary::before, .bp3-dark .bp3-menu-item.bp3-intent-primary::after,
    .bp3-dark .bp3-menu-item.bp3-intent-primary .bp3-menu-item-label{
      color:#48aff0; }
    .bp3-dark .bp3-menu-item.bp3-intent-primary:hover, .bp3-dark .bp3-submenu .bp3-popover-target.bp3-popover-open > .bp3-intent-primary.bp3-menu-item, .bp3-submenu .bp3-dark .bp3-popover-target.bp3-popover-open > .bp3-intent-primary.bp3-menu-item, .bp3-dark .bp3-menu-item.bp3-intent-primary.bp3-active{
      background-color:#137cbd; }
    .bp3-dark .bp3-menu-item.bp3-intent-primary:active{
      background-color:#106ba3; }
    .bp3-dark .bp3-menu-item.bp3-intent-primary:hover, .bp3-dark .bp3-submenu .bp3-popover-target.bp3-popover-open > .bp3-intent-primary.bp3-menu-item, .bp3-submenu .bp3-dark .bp3-popover-target.bp3-popover-open > .bp3-intent-primary.bp3-menu-item, .bp3-dark .bp3-menu-item.bp3-intent-primary:hover::before, .bp3-dark .bp3-submenu .bp3-popover-target.bp3-popover-open > .bp3-intent-primary.bp3-menu-item::before, .bp3-submenu .bp3-dark .bp3-popover-target.bp3-popover-open > .bp3-intent-primary.bp3-menu-item::before, .bp3-dark .bp3-menu-item.bp3-intent-primary:hover::after, .bp3-dark .bp3-submenu .bp3-popover-target.bp3-popover-open > .bp3-intent-primary.bp3-menu-item::after, .bp3-submenu .bp3-dark .bp3-popover-target.bp3-popover-open > .bp3-intent-primary.bp3-menu-item::after,
    .bp3-dark .bp3-menu-item.bp3-intent-primary:hover .bp3-menu-item-label,
    .bp3-dark .bp3-submenu .bp3-popover-target.bp3-popover-open > .bp3-intent-primary.bp3-menu-item .bp3-menu-item-label,
    .bp3-submenu .bp3-dark .bp3-popover-target.bp3-popover-open > .bp3-intent-primary.bp3-menu-item .bp3-menu-item-label, .bp3-dark .bp3-menu-item.bp3-intent-primary:active, .bp3-dark .bp3-menu-item.bp3-intent-primary:active::before, .bp3-dark .bp3-menu-item.bp3-intent-primary:active::after,
    .bp3-dark .bp3-menu-item.bp3-intent-primary:active .bp3-menu-item-label, .bp3-dark .bp3-menu-item.bp3-intent-primary.bp3-active, .bp3-dark .bp3-menu-item.bp3-intent-primary.bp3-active::before, .bp3-dark .bp3-menu-item.bp3-intent-primary.bp3-active::after,
    .bp3-dark .bp3-menu-item.bp3-intent-primary.bp3-active .bp3-menu-item-label{
      color:#ffffff; }
  .bp3-dark .bp3-menu-item.bp3-intent-success{
    color:#3dcc91; }
    .bp3-dark .bp3-menu-item.bp3-intent-success .bp3-icon{
      color:inherit; }
    .bp3-dark .bp3-menu-item.bp3-intent-success::before, .bp3-dark .bp3-menu-item.bp3-intent-success::after,
    .bp3-dark .bp3-menu-item.bp3-intent-success .bp3-menu-item-label{
      color:#3dcc91; }
    .bp3-dark .bp3-menu-item.bp3-intent-success:hover, .bp3-dark .bp3-submenu .bp3-popover-target.bp3-popover-open > .bp3-intent-success.bp3-menu-item, .bp3-submenu .bp3-dark .bp3-popover-target.bp3-popover-open > .bp3-intent-success.bp3-menu-item, .bp3-dark .bp3-menu-item.bp3-intent-success.bp3-active{
      background-color:#0f9960; }
    .bp3-dark .bp3-menu-item.bp3-intent-success:active{
      background-color:#0d8050; }
    .bp3-dark .bp3-menu-item.bp3-intent-success:hover, .bp3-dark .bp3-submenu .bp3-popover-target.bp3-popover-open > .bp3-intent-success.bp3-menu-item, .bp3-submenu .bp3-dark .bp3-popover-target.bp3-popover-open > .bp3-intent-success.bp3-menu-item, .bp3-dark .bp3-menu-item.bp3-intent-success:hover::before, .bp3-dark .bp3-submenu .bp3-popover-target.bp3-popover-open > .bp3-intent-success.bp3-menu-item::before, .bp3-submenu .bp3-dark .bp3-popover-target.bp3-popover-open > .bp3-intent-success.bp3-menu-item::before, .bp3-dark .bp3-menu-item.bp3-intent-success:hover::after, .bp3-dark .bp3-submenu .bp3-popover-target.bp3-popover-open > .bp3-intent-success.bp3-menu-item::after, .bp3-submenu .bp3-dark .bp3-popover-target.bp3-popover-open > .bp3-intent-success.bp3-menu-item::after,
    .bp3-dark .bp3-menu-item.bp3-intent-success:hover .bp3-menu-item-label,
    .bp3-dark .bp3-submenu .bp3-popover-target.bp3-popover-open > .bp3-intent-success.bp3-menu-item .bp3-menu-item-label,
    .bp3-submenu .bp3-dark .bp3-popover-target.bp3-popover-open > .bp3-intent-success.bp3-menu-item .bp3-menu-item-label, .bp3-dark .bp3-menu-item.bp3-intent-success:active, .bp3-dark .bp3-menu-item.bp3-intent-success:active::before, .bp3-dark .bp3-menu-item.bp3-intent-success:active::after,
    .bp3-dark .bp3-menu-item.bp3-intent-success:active .bp3-menu-item-label, .bp3-dark .bp3-menu-item.bp3-intent-success.bp3-active, .bp3-dark .bp3-menu-item.bp3-intent-success.bp3-active::before, .bp3-dark .bp3-menu-item.bp3-intent-success.bp3-active::after,
    .bp3-dark .bp3-menu-item.bp3-intent-success.bp3-active .bp3-menu-item-label{
      color:#ffffff; }
  .bp3-dark .bp3-menu-item.bp3-intent-warning{
    color:#ffb366; }
    .bp3-dark .bp3-menu-item.bp3-intent-warning .bp3-icon{
      color:inherit; }
    .bp3-dark .bp3-menu-item.bp3-intent-warning::before, .bp3-dark .bp3-menu-item.bp3-intent-warning::after,
    .bp3-dark .bp3-menu-item.bp3-intent-warning .bp3-menu-item-label{
      color:#ffb366; }
    .bp3-dark .bp3-menu-item.bp3-intent-warning:hover, .bp3-dark .bp3-submenu .bp3-popover-target.bp3-popover-open > .bp3-intent-warning.bp3-menu-item, .bp3-submenu .bp3-dark .bp3-popover-target.bp3-popover-open > .bp3-intent-warning.bp3-menu-item, .bp3-dark .bp3-menu-item.bp3-intent-warning.bp3-active{
      background-color:#d9822b; }
    .bp3-dark .bp3-menu-item.bp3-intent-warning:active{
      background-color:#bf7326; }
    .bp3-dark .bp3-menu-item.bp3-intent-warning:hover, .bp3-dark .bp3-submenu .bp3-popover-target.bp3-popover-open > .bp3-intent-warning.bp3-menu-item, .bp3-submenu .bp3-dark .bp3-popover-target.bp3-popover-open > .bp3-intent-warning.bp3-menu-item, .bp3-dark .bp3-menu-item.bp3-intent-warning:hover::before, .bp3-dark .bp3-submenu .bp3-popover-target.bp3-popover-open > .bp3-intent-warning.bp3-menu-item::before, .bp3-submenu .bp3-dark .bp3-popover-target.bp3-popover-open > .bp3-intent-warning.bp3-menu-item::before, .bp3-dark .bp3-menu-item.bp3-intent-warning:hover::after, .bp3-dark .bp3-submenu .bp3-popover-target.bp3-popover-open > .bp3-intent-warning.bp3-menu-item::after, .bp3-submenu .bp3-dark .bp3-popover-target.bp3-popover-open > .bp3-intent-warning.bp3-menu-item::after,
    .bp3-dark .bp3-menu-item.bp3-intent-warning:hover .bp3-menu-item-label,
    .bp3-dark .bp3-submenu .bp3-popover-target.bp3-popover-open > .bp3-intent-warning.bp3-menu-item .bp3-menu-item-label,
    .bp3-submenu .bp3-dark .bp3-popover-target.bp3-popover-open > .bp3-intent-warning.bp3-menu-item .bp3-menu-item-label, .bp3-dark .bp3-menu-item.bp3-intent-warning:active, .bp3-dark .bp3-menu-item.bp3-intent-warning:active::before, .bp3-dark .bp3-menu-item.bp3-intent-warning:active::after,
    .bp3-dark .bp3-menu-item.bp3-intent-warning:active .bp3-menu-item-label, .bp3-dark .bp3-menu-item.bp3-intent-warning.bp3-active, .bp3-dark .bp3-menu-item.bp3-intent-warning.bp3-active::before, .bp3-dark .bp3-menu-item.bp3-intent-warning.bp3-active::after,
    .bp3-dark .bp3-menu-item.bp3-intent-warning.bp3-active .bp3-menu-item-label{
      color:#ffffff; }
  .bp3-dark .bp3-menu-item.bp3-intent-danger{
    color:#ff7373; }
    .bp3-dark .bp3-menu-item.bp3-intent-danger .bp3-icon{
      color:inherit; }
    .bp3-dark .bp3-menu-item.bp3-intent-danger::before, .bp3-dark .bp3-menu-item.bp3-intent-danger::after,
    .bp3-dark .bp3-menu-item.bp3-intent-danger .bp3-menu-item-label{
      color:#ff7373; }
    .bp3-dark .bp3-menu-item.bp3-intent-danger:hover, .bp3-dark .bp3-submenu .bp3-popover-target.bp3-popover-open > .bp3-intent-danger.bp3-menu-item, .bp3-submenu .bp3-dark .bp3-popover-target.bp3-popover-open > .bp3-intent-danger.bp3-menu-item, .bp3-dark .bp3-menu-item.bp3-intent-danger.bp3-active{
      background-color:#db3737; }
    .bp3-dark .bp3-menu-item.bp3-intent-danger:active{
      background-color:#c23030; }
    .bp3-dark .bp3-menu-item.bp3-intent-danger:hover, .bp3-dark .bp3-submenu .bp3-popover-target.bp3-popover-open > .bp3-intent-danger.bp3-menu-item, .bp3-submenu .bp3-dark .bp3-popover-target.bp3-popover-open > .bp3-intent-danger.bp3-menu-item, .bp3-dark .bp3-menu-item.bp3-intent-danger:hover::before, .bp3-dark .bp3-submenu .bp3-popover-target.bp3-popover-open > .bp3-intent-danger.bp3-menu-item::before, .bp3-submenu .bp3-dark .bp3-popover-target.bp3-popover-open > .bp3-intent-danger.bp3-menu-item::before, .bp3-dark .bp3-menu-item.bp3-intent-danger:hover::after, .bp3-dark .bp3-submenu .bp3-popover-target.bp3-popover-open > .bp3-intent-danger.bp3-menu-item::after, .bp3-submenu .bp3-dark .bp3-popover-target.bp3-popover-open > .bp3-intent-danger.bp3-menu-item::after,
    .bp3-dark .bp3-menu-item.bp3-intent-danger:hover .bp3-menu-item-label,
    .bp3-dark .bp3-submenu .bp3-popover-target.bp3-popover-open > .bp3-intent-danger.bp3-menu-item .bp3-menu-item-label,
    .bp3-submenu .bp3-dark .bp3-popover-target.bp3-popover-open > .bp3-intent-danger.bp3-menu-item .bp3-menu-item-label, .bp3-dark .bp3-menu-item.bp3-intent-danger:active, .bp3-dark .bp3-menu-item.bp3-intent-danger:active::before, .bp3-dark .bp3-menu-item.bp3-intent-danger:active::after,
    .bp3-dark .bp3-menu-item.bp3-intent-danger:active .bp3-menu-item-label, .bp3-dark .bp3-menu-item.bp3-intent-danger.bp3-active, .bp3-dark .bp3-menu-item.bp3-intent-danger.bp3-active::before, .bp3-dark .bp3-menu-item.bp3-intent-danger.bp3-active::after,
    .bp3-dark .bp3-menu-item.bp3-intent-danger.bp3-active .bp3-menu-item-label{
      color:#ffffff; }
  .bp3-dark .bp3-menu-item::before,
  .bp3-dark .bp3-menu-item > .bp3-icon{
    color:#a7b6c2; }
  .bp3-dark .bp3-menu-item .bp3-menu-item-label{
    color:#a7b6c2; }
  .bp3-dark .bp3-menu-item.bp3-active, .bp3-dark .bp3-menu-item:active{
    background-color:rgba(138, 155, 168, 0.3); }
  .bp3-dark .bp3-menu-item.bp3-disabled{
    color:rgba(167, 182, 194, 0.6) !important; }
    .bp3-dark .bp3-menu-item.bp3-disabled::before,
    .bp3-dark .bp3-menu-item.bp3-disabled > .bp3-icon,
    .bp3-dark .bp3-menu-item.bp3-disabled .bp3-menu-item-label{
      color:rgba(167, 182, 194, 0.6) !important; }

.bp3-dark .bp3-menu-divider,
.bp3-dark .bp3-menu-header{
  border-color:rgba(255, 255, 255, 0.15); }

.bp3-dark .bp3-menu-header > h6{
  color:#f5f8fa; }

.bp3-label .bp3-menu{
  margin-top:5px; }
.bp3-navbar{
  background-color:#ffffff;
  -webkit-box-shadow:0 0 0 1px rgba(16, 22, 26, 0.1), 0 0 0 rgba(16, 22, 26, 0), 0 1px 1px rgba(16, 22, 26, 0.2);
          box-shadow:0 0 0 1px rgba(16, 22, 26, 0.1), 0 0 0 rgba(16, 22, 26, 0), 0 1px 1px rgba(16, 22, 26, 0.2);
  height:50px;
  padding:0 15px;
  position:relative;
  width:100%;
  z-index:10; }
  .bp3-navbar.bp3-dark,
  .bp3-dark .bp3-navbar{
    background-color:#394b59; }
  .bp3-navbar.bp3-dark{
    -webkit-box-shadow:inset 0 0 0 1px rgba(16, 22, 26, 0.2), 0 0 0 rgba(16, 22, 26, 0), 0 1px 1px rgba(16, 22, 26, 0.4);
            box-shadow:inset 0 0 0 1px rgba(16, 22, 26, 0.2), 0 0 0 rgba(16, 22, 26, 0), 0 1px 1px rgba(16, 22, 26, 0.4); }
  .bp3-dark .bp3-navbar{
    -webkit-box-shadow:0 0 0 1px rgba(16, 22, 26, 0.2), 0 0 0 rgba(16, 22, 26, 0), 0 1px 1px rgba(16, 22, 26, 0.4);
            box-shadow:0 0 0 1px rgba(16, 22, 26, 0.2), 0 0 0 rgba(16, 22, 26, 0), 0 1px 1px rgba(16, 22, 26, 0.4); }
  .bp3-navbar.bp3-fixed-top{
    left:0;
    position:fixed;
    right:0;
    top:0; }

.bp3-navbar-heading{
  font-size:16px;
  margin-right:15px; }

.bp3-navbar-group{
  -webkit-box-align:center;
      -ms-flex-align:center;
          align-items:center;
  display:-webkit-box;
  display:-ms-flexbox;
  display:flex;
  height:50px; }
  .bp3-navbar-group.bp3-align-left{
    float:left; }
  .bp3-navbar-group.bp3-align-right{
    float:right; }

.bp3-navbar-divider{
  border-left:1px solid rgba(16, 22, 26, 0.15);
  height:20px;
  margin:0 10px; }
  .bp3-dark .bp3-navbar-divider{
    border-left-color:rgba(255, 255, 255, 0.15); }
.bp3-non-ideal-state{
  display:-webkit-box;
  display:-ms-flexbox;
  display:flex;
  -webkit-box-orient:vertical;
  -webkit-box-direction:normal;
      -ms-flex-direction:column;
          flex-direction:column;
  -webkit-box-align:center;
      -ms-flex-align:center;
          align-items:center;
  height:100%;
  -webkit-box-pack:center;
      -ms-flex-pack:center;
          justify-content:center;
  text-align:center;
  width:100%; }
  .bp3-non-ideal-state > *{
    -webkit-box-flex:0;
        -ms-flex-positive:0;
            flex-grow:0;
    -ms-flex-negative:0;
        flex-shrink:0; }
  .bp3-non-ideal-state > .bp3-fill{
    -webkit-box-flex:1;
        -ms-flex-positive:1;
            flex-grow:1;
    -ms-flex-negative:1;
        flex-shrink:1; }
  .bp3-non-ideal-state::before,
  .bp3-non-ideal-state > *{
    margin-bottom:20px; }
  .bp3-non-ideal-state:empty::before,
  .bp3-non-ideal-state > :last-child{
    margin-bottom:0; }
  .bp3-non-ideal-state > *{
    max-width:400px; }

.bp3-non-ideal-state-visual{
  color:rgba(92, 112, 128, 0.6);
  font-size:60px; }
  .bp3-dark .bp3-non-ideal-state-visual{
    color:rgba(167, 182, 194, 0.6); }

.bp3-overflow-list{
  display:-webkit-box;
  display:-ms-flexbox;
  display:flex;
  -ms-flex-wrap:nowrap;
      flex-wrap:nowrap;
  min-width:0; }

.bp3-overflow-list-spacer{
  -ms-flex-negative:1;
      flex-shrink:1;
  width:1px; }

body.bp3-overlay-open{
  overflow:hidden; }

.bp3-overlay{
  bottom:0;
  left:0;
  position:static;
  right:0;
  top:0;
  z-index:20; }
  .bp3-overlay:not(.bp3-overlay-open){
    pointer-events:none; }
  .bp3-overlay.bp3-overlay-container{
    overflow:hidden;
    position:fixed; }
    .bp3-overlay.bp3-overlay-container.bp3-overlay-inline{
      position:absolute; }
  .bp3-overlay.bp3-overlay-scroll-container{
    overflow:auto;
    position:fixed; }
    .bp3-overlay.bp3-overlay-scroll-container.bp3-overlay-inline{
      position:absolute; }
  .bp3-overlay.bp3-overlay-inline{
    display:inline;
    overflow:visible; }

.bp3-overlay-content{
  position:fixed;
  z-index:20; }
  .bp3-overlay-inline .bp3-overlay-content,
  .bp3-overlay-scroll-container .bp3-overlay-content{
    position:absolute; }

.bp3-overlay-backdrop{
  bottom:0;
  left:0;
  position:fixed;
  right:0;
  top:0;
  opacity:1;
  background-color:rgba(16, 22, 26, 0.7);
  overflow:auto;
  -webkit-user-select:none;
     -moz-user-select:none;
      -ms-user-select:none;
          user-select:none;
  z-index:20; }
  .bp3-overlay-backdrop.bp3-overlay-enter, .bp3-overlay-backdrop.bp3-overlay-appear{
    opacity:0; }
  .bp3-overlay-backdrop.bp3-overlay-enter-active, .bp3-overlay-backdrop.bp3-overlay-appear-active{
    opacity:1;
    -webkit-transition-delay:0;
            transition-delay:0;
    -webkit-transition-duration:200ms;
            transition-duration:200ms;
    -webkit-transition-property:opacity;
    transition-property:opacity;
    -webkit-transition-timing-function:cubic-bezier(0.4, 1, 0.75, 0.9);
            transition-timing-function:cubic-bezier(0.4, 1, 0.75, 0.9); }
  .bp3-overlay-backdrop.bp3-overlay-exit{
    opacity:1; }
  .bp3-overlay-backdrop.bp3-overlay-exit-active{
    opacity:0;
    -webkit-transition-delay:0;
            transition-delay:0;
    -webkit-transition-duration:200ms;
            transition-duration:200ms;
    -webkit-transition-property:opacity;
    transition-property:opacity;
    -webkit-transition-timing-function:cubic-bezier(0.4, 1, 0.75, 0.9);
            transition-timing-function:cubic-bezier(0.4, 1, 0.75, 0.9); }
  .bp3-overlay-backdrop:focus{
    outline:none; }
  .bp3-overlay-inline .bp3-overlay-backdrop{
    position:absolute; }
.bp3-panel-stack{
  overflow:hidden;
  position:relative; }

.bp3-panel-stack-header{
  -webkit-box-align:center;
      -ms-flex-align:center;
          align-items:center;
  -webkit-box-shadow:0 1px rgba(16, 22, 26, 0.15);
          box-shadow:0 1px rgba(16, 22, 26, 0.15);
  display:-webkit-box;
  display:-ms-flexbox;
  display:flex;
  -ms-flex-negative:0;
      flex-shrink:0;
  height:30px;
  z-index:1; }
  .bp3-dark .bp3-panel-stack-header{
    -webkit-box-shadow:0 1px rgba(255, 255, 255, 0.15);
            box-shadow:0 1px rgba(255, 255, 255, 0.15); }
  .bp3-panel-stack-header > span{
    -webkit-box-align:stretch;
        -ms-flex-align:stretch;
            align-items:stretch;
    display:-webkit-box;
    display:-ms-flexbox;
    display:flex;
    -webkit-box-flex:1;
        -ms-flex:1;
            flex:1; }
  .bp3-panel-stack-header .bp3-heading{
    margin:0 5px; }

.bp3-button.bp3-panel-stack-header-back{
  margin-left:5px;
  padding-left:0;
  white-space:nowrap; }
  .bp3-button.bp3-panel-stack-header-back .bp3-icon{
    margin:0 2px; }

.bp3-panel-stack-view{
  bottom:0;
  left:0;
  position:absolute;
  right:0;
  top:0;
  background-color:#ffffff;
  border-right:1px solid rgba(16, 22, 26, 0.15);
  display:-webkit-box;
  display:-ms-flexbox;
  display:flex;
  -webkit-box-orient:vertical;
  -webkit-box-direction:normal;
      -ms-flex-direction:column;
          flex-direction:column;
  margin-right:-1px;
  overflow-y:auto;
  z-index:1; }
  .bp3-dark .bp3-panel-stack-view{
    background-color:#30404d; }
  .bp3-panel-stack-view:nth-last-child(n + 4){
    display:none; }

.bp3-panel-stack-push .bp3-panel-stack-enter, .bp3-panel-stack-push .bp3-panel-stack-appear{
  -webkit-transform:translateX(100%);
          transform:translateX(100%);
  opacity:0; }

.bp3-panel-stack-push .bp3-panel-stack-enter-active, .bp3-panel-stack-push .bp3-panel-stack-appear-active{
  -webkit-transform:translate(0%);
          transform:translate(0%);
  opacity:1;
  -webkit-transition-delay:0;
          transition-delay:0;
  -webkit-transition-duration:400ms;
          transition-duration:400ms;
  -webkit-transition-property:opacity, -webkit-transform;
  transition-property:opacity, -webkit-transform;
  transition-property:transform, opacity;
  transition-property:transform, opacity, -webkit-transform;
  -webkit-transition-timing-function:ease;
          transition-timing-function:ease; }

.bp3-panel-stack-push .bp3-panel-stack-exit{
  -webkit-transform:translate(0%);
          transform:translate(0%);
  opacity:1; }

.bp3-panel-stack-push .bp3-panel-stack-exit-active{
  -webkit-transform:translateX(-50%);
          transform:translateX(-50%);
  opacity:0;
  -webkit-transition-delay:0;
          transition-delay:0;
  -webkit-transition-duration:400ms;
          transition-duration:400ms;
  -webkit-transition-property:opacity, -webkit-transform;
  transition-property:opacity, -webkit-transform;
  transition-property:transform, opacity;
  transition-property:transform, opacity, -webkit-transform;
  -webkit-transition-timing-function:ease;
          transition-timing-function:ease; }

.bp3-panel-stack-pop .bp3-panel-stack-enter, .bp3-panel-stack-pop .bp3-panel-stack-appear{
  -webkit-transform:translateX(-50%);
          transform:translateX(-50%);
  opacity:0; }

.bp3-panel-stack-pop .bp3-panel-stack-enter-active, .bp3-panel-stack-pop .bp3-panel-stack-appear-active{
  -webkit-transform:translate(0%);
          transform:translate(0%);
  opacity:1;
  -webkit-transition-delay:0;
          transition-delay:0;
  -webkit-transition-duration:400ms;
          transition-duration:400ms;
  -webkit-transition-property:opacity, -webkit-transform;
  transition-property:opacity, -webkit-transform;
  transition-property:transform, opacity;
  transition-property:transform, opacity, -webkit-transform;
  -webkit-transition-timing-function:ease;
          transition-timing-function:ease; }

.bp3-panel-stack-pop .bp3-panel-stack-exit{
  -webkit-transform:translate(0%);
          transform:translate(0%);
  opacity:1; }

.bp3-panel-stack-pop .bp3-panel-stack-exit-active{
  -webkit-transform:translateX(100%);
          transform:translateX(100%);
  opacity:0;
  -webkit-transition-delay:0;
          transition-delay:0;
  -webkit-transition-duration:400ms;
          transition-duration:400ms;
  -webkit-transition-property:opacity, -webkit-transform;
  transition-property:opacity, -webkit-transform;
  transition-property:transform, opacity;
  transition-property:transform, opacity, -webkit-transform;
  -webkit-transition-timing-function:ease;
          transition-timing-function:ease; }
.bp3-panel-stack2{
  overflow:hidden;
  position:relative; }

.bp3-panel-stack2-header{
  -webkit-box-align:center;
      -ms-flex-align:center;
          align-items:center;
  -webkit-box-shadow:0 1px rgba(16, 22, 26, 0.15);
          box-shadow:0 1px rgba(16, 22, 26, 0.15);
  display:-webkit-box;
  display:-ms-flexbox;
  display:flex;
  -ms-flex-negative:0;
      flex-shrink:0;
  height:30px;
  z-index:1; }
  .bp3-dark .bp3-panel-stack2-header{
    -webkit-box-shadow:0 1px rgba(255, 255, 255, 0.15);
            box-shadow:0 1px rgba(255, 255, 255, 0.15); }
  .bp3-panel-stack2-header > span{
    -webkit-box-align:stretch;
        -ms-flex-align:stretch;
            align-items:stretch;
    display:-webkit-box;
    display:-ms-flexbox;
    display:flex;
    -webkit-box-flex:1;
        -ms-flex:1;
            flex:1; }
  .bp3-panel-stack2-header .bp3-heading{
    margin:0 5px; }

.bp3-button.bp3-panel-stack2-header-back{
  margin-left:5px;
  padding-left:0;
  white-space:nowrap; }
  .bp3-button.bp3-panel-stack2-header-back .bp3-icon{
    margin:0 2px; }

.bp3-panel-stack2-view{
  bottom:0;
  left:0;
  position:absolute;
  right:0;
  top:0;
  background-color:#ffffff;
  border-right:1px solid rgba(16, 22, 26, 0.15);
  display:-webkit-box;
  display:-ms-flexbox;
  display:flex;
  -webkit-box-orient:vertical;
  -webkit-box-direction:normal;
      -ms-flex-direction:column;
          flex-direction:column;
  margin-right:-1px;
  overflow-y:auto;
  z-index:1; }
  .bp3-dark .bp3-panel-stack2-view{
    background-color:#30404d; }
  .bp3-panel-stack2-view:nth-last-child(n + 4){
    display:none; }

.bp3-panel-stack2-push .bp3-panel-stack2-enter, .bp3-panel-stack2-push .bp3-panel-stack2-appear{
  -webkit-transform:translateX(100%);
          transform:translateX(100%);
  opacity:0; }

.bp3-panel-stack2-push .bp3-panel-stack2-enter-active, .bp3-panel-stack2-push .bp3-panel-stack2-appear-active{
  -webkit-transform:translate(0%);
          transform:translate(0%);
  opacity:1;
  -webkit-transition-delay:0;
          transition-delay:0;
  -webkit-transition-duration:400ms;
          transition-duration:400ms;
  -webkit-transition-property:opacity, -webkit-transform;
  transition-property:opacity, -webkit-transform;
  transition-property:transform, opacity;
  transition-property:transform, opacity, -webkit-transform;
  -webkit-transition-timing-function:ease;
          transition-timing-function:ease; }

.bp3-panel-stack2-push .bp3-panel-stack2-exit{
  -webkit-transform:translate(0%);
          transform:translate(0%);
  opacity:1; }

.bp3-panel-stack2-push .bp3-panel-stack2-exit-active{
  -webkit-transform:translateX(-50%);
          transform:translateX(-50%);
  opacity:0;
  -webkit-transition-delay:0;
          transition-delay:0;
  -webkit-transition-duration:400ms;
          transition-duration:400ms;
  -webkit-transition-property:opacity, -webkit-transform;
  transition-property:opacity, -webkit-transform;
  transition-property:transform, opacity;
  transition-property:transform, opacity, -webkit-transform;
  -webkit-transition-timing-function:ease;
          transition-timing-function:ease; }

.bp3-panel-stack2-pop .bp3-panel-stack2-enter, .bp3-panel-stack2-pop .bp3-panel-stack2-appear{
  -webkit-transform:translateX(-50%);
          transform:translateX(-50%);
  opacity:0; }

.bp3-panel-stack2-pop .bp3-panel-stack2-enter-active, .bp3-panel-stack2-pop .bp3-panel-stack2-appear-active{
  -webkit-transform:translate(0%);
          transform:translate(0%);
  opacity:1;
  -webkit-transition-delay:0;
          transition-delay:0;
  -webkit-transition-duration:400ms;
          transition-duration:400ms;
  -webkit-transition-property:opacity, -webkit-transform;
  transition-property:opacity, -webkit-transform;
  transition-property:transform, opacity;
  transition-property:transform, opacity, -webkit-transform;
  -webkit-transition-timing-function:ease;
          transition-timing-function:ease; }

.bp3-panel-stack2-pop .bp3-panel-stack2-exit{
  -webkit-transform:translate(0%);
          transform:translate(0%);
  opacity:1; }

.bp3-panel-stack2-pop .bp3-panel-stack2-exit-active{
  -webkit-transform:translateX(100%);
          transform:translateX(100%);
  opacity:0;
  -webkit-transition-delay:0;
          transition-delay:0;
  -webkit-transition-duration:400ms;
          transition-duration:400ms;
  -webkit-transition-property:opacity, -webkit-transform;
  transition-property:opacity, -webkit-transform;
  transition-property:transform, opacity;
  transition-property:transform, opacity, -webkit-transform;
  -webkit-transition-timing-function:ease;
          transition-timing-function:ease; }
.bp3-popover{
  -webkit-box-shadow:0 0 0 1px rgba(16, 22, 26, 0.1), 0 2px 4px rgba(16, 22, 26, 0.2), 0 8px 24px rgba(16, 22, 26, 0.2);
          box-shadow:0 0 0 1px rgba(16, 22, 26, 0.1), 0 2px 4px rgba(16, 22, 26, 0.2), 0 8px 24px rgba(16, 22, 26, 0.2);
  -webkit-transform:scale(1);
          transform:scale(1);
  border-radius:3px;
  display:inline-block;
  z-index:20; }
  .bp3-popover .bp3-popover-arrow{
    height:30px;
    position:absolute;
    width:30px; }
    .bp3-popover .bp3-popover-arrow::before{
      height:20px;
      margin:5px;
      width:20px; }
  .bp3-tether-element-attached-bottom.bp3-tether-target-attached-top > .bp3-popover{
    margin-bottom:17px;
    margin-top:-17px; }
    .bp3-tether-element-attached-bottom.bp3-tether-target-attached-top > .bp3-popover > .bp3-popover-arrow{
      bottom:-11px; }
      .bp3-tether-element-attached-bottom.bp3-tether-target-attached-top > .bp3-popover > .bp3-popover-arrow svg{
        -webkit-transform:rotate(-90deg);
                transform:rotate(-90deg); }
  .bp3-tether-element-attached-left.bp3-tether-target-attached-right > .bp3-popover{
    margin-left:17px; }
    .bp3-tether-element-attached-left.bp3-tether-target-attached-right > .bp3-popover > .bp3-popover-arrow{
      left:-11px; }
      .bp3-tether-element-attached-left.bp3-tether-target-attached-right > .bp3-popover > .bp3-popover-arrow svg{
        -webkit-transform:rotate(0);
                transform:rotate(0); }
  .bp3-tether-element-attached-top.bp3-tether-target-attached-bottom > .bp3-popover{
    margin-top:17px; }
    .bp3-tether-element-attached-top.bp3-tether-target-attached-bottom > .bp3-popover > .bp3-popover-arrow{
      top:-11px; }
      .bp3-tether-element-attached-top.bp3-tether-target-attached-bottom > .bp3-popover > .bp3-popover-arrow svg{
        -webkit-transform:rotate(90deg);
                transform:rotate(90deg); }
  .bp3-tether-element-attached-right.bp3-tether-target-attached-left > .bp3-popover{
    margin-left:-17px;
    margin-right:17px; }
    .bp3-tether-element-attached-right.bp3-tether-target-attached-left > .bp3-popover > .bp3-popover-arrow{
      right:-11px; }
      .bp3-tether-element-attached-right.bp3-tether-target-attached-left > .bp3-popover > .bp3-popover-arrow svg{
        -webkit-transform:rotate(180deg);
                transform:rotate(180deg); }
  .bp3-tether-element-attached-middle > .bp3-popover > .bp3-popover-arrow{
    top:50%;
    -webkit-transform:translateY(-50%);
            transform:translateY(-50%); }
  .bp3-tether-element-attached-center > .bp3-popover > .bp3-popover-arrow{
    right:50%;
    -webkit-transform:translateX(50%);
            transform:translateX(50%); }
  .bp3-tether-element-attached-top.bp3-tether-target-attached-top > .bp3-popover > .bp3-popover-arrow{
    top:-0.3934px; }
  .bp3-tether-element-attached-right.bp3-tether-target-attached-right > .bp3-popover > .bp3-popover-arrow{
    right:-0.3934px; }
  .bp3-tether-element-attached-left.bp3-tether-target-attached-left > .bp3-popover > .bp3-popover-arrow{
    left:-0.3934px; }
  .bp3-tether-element-attached-bottom.bp3-tether-target-attached-bottom > .bp3-popover > .bp3-popover-arrow{
    bottom:-0.3934px; }
  .bp3-tether-element-attached-top.bp3-tether-element-attached-left > .bp3-popover{
    -webkit-transform-origin:top left;
            transform-origin:top left; }
  .bp3-tether-element-attached-top.bp3-tether-element-attached-center > .bp3-popover{
    -webkit-transform-origin:top center;
            transform-origin:top center; }
  .bp3-tether-element-attached-top.bp3-tether-element-attached-right > .bp3-popover{
    -webkit-transform-origin:top right;
            transform-origin:top right; }
  .bp3-tether-element-attached-middle.bp3-tether-element-attached-left > .bp3-popover{
    -webkit-transform-origin:center left;
            transform-origin:center left; }
  .bp3-tether-element-attached-middle.bp3-tether-element-attached-center > .bp3-popover{
    -webkit-transform-origin:center center;
            transform-origin:center center; }
  .bp3-tether-element-attached-middle.bp3-tether-element-attached-right > .bp3-popover{
    -webkit-transform-origin:center right;
            transform-origin:center right; }
  .bp3-tether-element-attached-bottom.bp3-tether-element-attached-left > .bp3-popover{
    -webkit-transform-origin:bottom left;
            transform-origin:bottom left; }
  .bp3-tether-element-attached-bottom.bp3-tether-element-attached-center > .bp3-popover{
    -webkit-transform-origin:bottom center;
            transform-origin:bottom center; }
  .bp3-tether-element-attached-bottom.bp3-tether-element-attached-right > .bp3-popover{
    -webkit-transform-origin:bottom right;
            transform-origin:bottom right; }
  .bp3-popover .bp3-popover-content{
    background:#ffffff;
    color:inherit; }
  .bp3-popover .bp3-popover-arrow::before{
    -webkit-box-shadow:1px 1px 6px rgba(16, 22, 26, 0.2);
            box-shadow:1px 1px 6px rgba(16, 22, 26, 0.2); }
  .bp3-popover .bp3-popover-arrow-border{
    fill:#10161a;
    fill-opacity:0.1; }
  .bp3-popover .bp3-popover-arrow-fill{
    fill:#ffffff; }
  .bp3-popover-enter > .bp3-popover, .bp3-popover-appear > .bp3-popover{
    -webkit-transform:scale(0.3);
            transform:scale(0.3); }
  .bp3-popover-enter-active > .bp3-popover, .bp3-popover-appear-active > .bp3-popover{
    -webkit-transform:scale(1);
            transform:scale(1);
    -webkit-transition-delay:0;
            transition-delay:0;
    -webkit-transition-duration:300ms;
            transition-duration:300ms;
    -webkit-transition-property:-webkit-transform;
    transition-property:-webkit-transform;
    transition-property:transform;
    transition-property:transform, -webkit-transform;
    -webkit-transition-timing-function:cubic-bezier(0.54, 1.12, 0.38, 1.11);
            transition-timing-function:cubic-bezier(0.54, 1.12, 0.38, 1.11); }
  .bp3-popover-exit > .bp3-popover{
    -webkit-transform:scale(1);
            transform:scale(1); }
  .bp3-popover-exit-active > .bp3-popover{
    -webkit-transform:scale(0.3);
            transform:scale(0.3);
    -webkit-transition-delay:0;
            transition-delay:0;
    -webkit-transition-duration:300ms;
            transition-duration:300ms;
    -webkit-transition-property:-webkit-transform;
    transition-property:-webkit-transform;
    transition-property:transform;
    transition-property:transform, -webkit-transform;
    -webkit-transition-timing-function:cubic-bezier(0.54, 1.12, 0.38, 1.11);
            transition-timing-function:cubic-bezier(0.54, 1.12, 0.38, 1.11); }
  .bp3-popover .bp3-popover-content{
    border-radius:3px;
    position:relative; }
  .bp3-popover.bp3-popover-content-sizing .bp3-popover-content{
    max-width:350px;
    padding:20px; }
  .bp3-popover-target + .bp3-overlay .bp3-popover.bp3-popover-content-sizing{
    width:350px; }
  .bp3-popover.bp3-minimal{
    margin:0 !important; }
    .bp3-popover.bp3-minimal .bp3-popover-arrow{
      display:none; }
    .bp3-popover.bp3-minimal.bp3-popover{
      -webkit-transform:scale(1);
              transform:scale(1); }
      .bp3-popover-enter > .bp3-popover.bp3-minimal.bp3-popover, .bp3-popover-appear > .bp3-popover.bp3-minimal.bp3-popover{
        -webkit-transform:scale(1);
                transform:scale(1); }
      .bp3-popover-enter-active > .bp3-popover.bp3-minimal.bp3-popover, .bp3-popover-appear-active > .bp3-popover.bp3-minimal.bp3-popover{
        -webkit-transform:scale(1);
                transform:scale(1);
        -webkit-transition-delay:0;
                transition-delay:0;
        -webkit-transition-duration:100ms;
                transition-duration:100ms;
        -webkit-transition-property:-webkit-transform;
        transition-property:-webkit-transform;
        transition-property:transform;
        transition-property:transform, -webkit-transform;
        -webkit-transition-timing-function:cubic-bezier(0.4, 1, 0.75, 0.9);
                transition-timing-function:cubic-bezier(0.4, 1, 0.75, 0.9); }
      .bp3-popover-exit > .bp3-popover.bp3-minimal.bp3-popover{
        -webkit-transform:scale(1);
                transform:scale(1); }
      .bp3-popover-exit-active > .bp3-popover.bp3-minimal.bp3-popover{
        -webkit-transform:scale(1);
                transform:scale(1);
        -webkit-transition-delay:0;
                transition-delay:0;
        -webkit-transition-duration:100ms;
                transition-duration:100ms;
        -webkit-transition-property:-webkit-transform;
        transition-property:-webkit-transform;
        transition-property:transform;
        transition-property:transform, -webkit-transform;
        -webkit-transition-timing-function:cubic-bezier(0.4, 1, 0.75, 0.9);
                transition-timing-function:cubic-bezier(0.4, 1, 0.75, 0.9); }
  .bp3-popover.bp3-dark,
  .bp3-dark .bp3-popover{
    -webkit-box-shadow:0 0 0 1px rgba(16, 22, 26, 0.2), 0 2px 4px rgba(16, 22, 26, 0.4), 0 8px 24px rgba(16, 22, 26, 0.4);
            box-shadow:0 0 0 1px rgba(16, 22, 26, 0.2), 0 2px 4px rgba(16, 22, 26, 0.4), 0 8px 24px rgba(16, 22, 26, 0.4); }
    .bp3-popover.bp3-dark .bp3-popover-content,
    .bp3-dark .bp3-popover .bp3-popover-content{
      background:#30404d;
      color:inherit; }
    .bp3-popover.bp3-dark .bp3-popover-arrow::before,
    .bp3-dark .bp3-popover .bp3-popover-arrow::before{
      -webkit-box-shadow:1px 1px 6px rgba(16, 22, 26, 0.4);
              box-shadow:1px 1px 6px rgba(16, 22, 26, 0.4); }
    .bp3-popover.bp3-dark .bp3-popover-arrow-border,
    .bp3-dark .bp3-popover .bp3-popover-arrow-border{
      fill:#10161a;
      fill-opacity:0.2; }
    .bp3-popover.bp3-dark .bp3-popover-arrow-fill,
    .bp3-dark .bp3-popover .bp3-popover-arrow-fill{
      fill:#30404d; }

.bp3-popover-arrow::before{
  border-radius:2px;
  content:"";
  display:block;
  position:absolute;
  -webkit-transform:rotate(45deg);
          transform:rotate(45deg); }

.bp3-tether-pinned .bp3-popover-arrow{
  display:none; }

.bp3-popover-backdrop{
  background:rgba(255, 255, 255, 0); }

.bp3-transition-container{
  opacity:1;
  display:-webkit-box;
  display:-ms-flexbox;
  display:flex;
  z-index:20; }
  .bp3-transition-container.bp3-popover-enter, .bp3-transition-container.bp3-popover-appear{
    opacity:0; }
  .bp3-transition-container.bp3-popover-enter-active, .bp3-transition-container.bp3-popover-appear-active{
    opacity:1;
    -webkit-transition-delay:0;
            transition-delay:0;
    -webkit-transition-duration:100ms;
            transition-duration:100ms;
    -webkit-transition-property:opacity;
    transition-property:opacity;
    -webkit-transition-timing-function:cubic-bezier(0.4, 1, 0.75, 0.9);
            transition-timing-function:cubic-bezier(0.4, 1, 0.75, 0.9); }
  .bp3-transition-container.bp3-popover-exit{
    opacity:1; }
  .bp3-transition-container.bp3-popover-exit-active{
    opacity:0;
    -webkit-transition-delay:0;
            transition-delay:0;
    -webkit-transition-duration:100ms;
            transition-duration:100ms;
    -webkit-transition-property:opacity;
    transition-property:opacity;
    -webkit-transition-timing-function:cubic-bezier(0.4, 1, 0.75, 0.9);
            transition-timing-function:cubic-bezier(0.4, 1, 0.75, 0.9); }
  .bp3-transition-container:focus{
    outline:none; }
  .bp3-transition-container.bp3-popover-leave .bp3-popover-content{
    pointer-events:none; }
  .bp3-transition-container[data-x-out-of-boundaries]{
    display:none; }

span.bp3-popover-target{
  display:inline-block; }

.bp3-popover-wrapper.bp3-fill{
  width:100%; }

.bp3-portal{
  left:0;
  position:absolute;
  right:0;
  top:0; }
@-webkit-keyframes linear-progress-bar-stripes{
  from{
    background-position:0 0; }
  to{
    background-position:30px 0; } }
@keyframes linear-progress-bar-stripes{
  from{
    background-position:0 0; }
  to{
    background-position:30px 0; } }

.bp3-progress-bar{
  background:rgba(92, 112, 128, 0.2);
  border-radius:40px;
  display:block;
  height:8px;
  overflow:hidden;
  position:relative;
  width:100%; }
  .bp3-progress-bar .bp3-progress-meter{
    background:linear-gradient(-45deg, rgba(255, 255, 255, 0.2) 25%, transparent 25%, transparent 50%, rgba(255, 255, 255, 0.2) 50%, rgba(255, 255, 255, 0.2) 75%, transparent 75%);
    background-color:rgba(92, 112, 128, 0.8);
    background-size:30px 30px;
    border-radius:40px;
    height:100%;
    position:absolute;
    -webkit-transition:width 200ms cubic-bezier(0.4, 1, 0.75, 0.9);
    transition:width 200ms cubic-bezier(0.4, 1, 0.75, 0.9);
    width:100%; }
  .bp3-progress-bar:not(.bp3-no-animation):not(.bp3-no-stripes) .bp3-progress-meter{
    animation:linear-progress-bar-stripes 300ms linear infinite reverse; }
  .bp3-progress-bar.bp3-no-stripes .bp3-progress-meter{
    background-image:none; }

.bp3-dark .bp3-progress-bar{
  background:rgba(16, 22, 26, 0.5); }
  .bp3-dark .bp3-progress-bar .bp3-progress-meter{
    background-color:#8a9ba8; }

.bp3-progress-bar.bp3-intent-primary .bp3-progress-meter{
  background-color:#137cbd; }

.bp3-progress-bar.bp3-intent-success .bp3-progress-meter{
  background-color:#0f9960; }

.bp3-progress-bar.bp3-intent-warning .bp3-progress-meter{
  background-color:#d9822b; }

.bp3-progress-bar.bp3-intent-danger .bp3-progress-meter{
  background-color:#db3737; }
@-webkit-keyframes skeleton-glow{
  from{
    background:rgba(206, 217, 224, 0.2);
    border-color:rgba(206, 217, 224, 0.2); }
  to{
    background:rgba(92, 112, 128, 0.2);
    border-color:rgba(92, 112, 128, 0.2); } }
@keyframes skeleton-glow{
  from{
    background:rgba(206, 217, 224, 0.2);
    border-color:rgba(206, 217, 224, 0.2); }
  to{
    background:rgba(92, 112, 128, 0.2);
    border-color:rgba(92, 112, 128, 0.2); } }
.bp3-skeleton{
  -webkit-animation:1000ms linear infinite alternate skeleton-glow;
          animation:1000ms linear infinite alternate skeleton-glow;
  background:rgba(206, 217, 224, 0.2);
  background-clip:padding-box !important;
  border-color:rgba(206, 217, 224, 0.2) !important;
  border-radius:2px;
  -webkit-box-shadow:none !important;
          box-shadow:none !important;
  color:transparent !important;
  cursor:default;
  pointer-events:none;
  -webkit-user-select:none;
     -moz-user-select:none;
      -ms-user-select:none;
          user-select:none; }
  .bp3-skeleton::before, .bp3-skeleton::after,
  .bp3-skeleton *{
    visibility:hidden !important; }
.bp3-slider{
  height:40px;
  min-width:150px;
  width:100%;
  cursor:default;
  outline:none;
  position:relative;
  -webkit-user-select:none;
     -moz-user-select:none;
      -ms-user-select:none;
          user-select:none; }
  .bp3-slider:hover{
    cursor:pointer; }
  .bp3-slider:active{
    cursor:-webkit-grabbing;
    cursor:grabbing; }
  .bp3-slider.bp3-disabled{
    cursor:not-allowed;
    opacity:0.5; }
  .bp3-slider.bp3-slider-unlabeled{
    height:16px; }

.bp3-slider-track,
.bp3-slider-progress{
  height:6px;
  left:0;
  right:0;
  top:5px;
  position:absolute; }

.bp3-slider-track{
  border-radius:3px;
  overflow:hidden; }

.bp3-slider-progress{
  background:rgba(92, 112, 128, 0.2); }
  .bp3-dark .bp3-slider-progress{
    background:rgba(16, 22, 26, 0.5); }
  .bp3-slider-progress.bp3-intent-primary{
    background-color:#137cbd; }
  .bp3-slider-progress.bp3-intent-success{
    background-color:#0f9960; }
  .bp3-slider-progress.bp3-intent-warning{
    background-color:#d9822b; }
  .bp3-slider-progress.bp3-intent-danger{
    background-color:#db3737; }

.bp3-slider-handle{
  background-color:#f5f8fa;
  background-image:-webkit-gradient(linear, left top, left bottom, from(rgba(255, 255, 255, 0.8)), to(rgba(255, 255, 255, 0)));
  background-image:linear-gradient(to bottom, rgba(255, 255, 255, 0.8), rgba(255, 255, 255, 0));
  -webkit-box-shadow:inset 0 0 0 1px rgba(16, 22, 26, 0.2), inset 0 -1px 0 rgba(16, 22, 26, 0.1);
          box-shadow:inset 0 0 0 1px rgba(16, 22, 26, 0.2), inset 0 -1px 0 rgba(16, 22, 26, 0.1);
  color:#182026;
  border-radius:3px;
  -webkit-box-shadow:0 0 0 1px rgba(16, 22, 26, 0.2), 0 1px 1px rgba(16, 22, 26, 0.2);
          box-shadow:0 0 0 1px rgba(16, 22, 26, 0.2), 0 1px 1px rgba(16, 22, 26, 0.2);
  cursor:pointer;
  height:16px;
  left:0;
  position:absolute;
  top:0;
  width:16px; }
  .bp3-slider-handle:hover{
    background-clip:padding-box;
    background-color:#ebf1f5;
    -webkit-box-shadow:inset 0 0 0 1px rgba(16, 22, 26, 0.2), inset 0 -1px 0 rgba(16, 22, 26, 0.1);
            box-shadow:inset 0 0 0 1px rgba(16, 22, 26, 0.2), inset 0 -1px 0 rgba(16, 22, 26, 0.1); }
  .bp3-slider-handle:active, .bp3-slider-handle.bp3-active{
    background-color:#d8e1e8;
    background-image:none;
    -webkit-box-shadow:inset 0 0 0 1px rgba(16, 22, 26, 0.2), inset 0 1px 2px rgba(16, 22, 26, 0.2);
            box-shadow:inset 0 0 0 1px rgba(16, 22, 26, 0.2), inset 0 1px 2px rgba(16, 22, 26, 0.2); }
  .bp3-slider-handle:disabled, .bp3-slider-handle.bp3-disabled{
    background-color:rgba(206, 217, 224, 0.5);
    background-image:none;
    -webkit-box-shadow:none;
            box-shadow:none;
    color:rgba(92, 112, 128, 0.6);
    cursor:not-allowed;
    outline:none; }
    .bp3-slider-handle:disabled.bp3-active, .bp3-slider-handle:disabled.bp3-active:hover, .bp3-slider-handle.bp3-disabled.bp3-active, .bp3-slider-handle.bp3-disabled.bp3-active:hover{
      background:rgba(206, 217, 224, 0.7); }
  .bp3-slider-handle:focus{
    z-index:1; }
  .bp3-slider-handle:hover{
    background-clip:padding-box;
    background-color:#ebf1f5;
    -webkit-box-shadow:inset 0 0 0 1px rgba(16, 22, 26, 0.2), inset 0 -1px 0 rgba(16, 22, 26, 0.1);
            box-shadow:inset 0 0 0 1px rgba(16, 22, 26, 0.2), inset 0 -1px 0 rgba(16, 22, 26, 0.1);
    -webkit-box-shadow:0 0 0 1px rgba(16, 22, 26, 0.2), 0 1px 1px rgba(16, 22, 26, 0.2);
            box-shadow:0 0 0 1px rgba(16, 22, 26, 0.2), 0 1px 1px rgba(16, 22, 26, 0.2);
    cursor:-webkit-grab;
    cursor:grab;
    z-index:2; }
  .bp3-slider-handle.bp3-active{
    background-color:#d8e1e8;
    background-image:none;
    -webkit-box-shadow:inset 0 0 0 1px rgba(16, 22, 26, 0.2), inset 0 1px 2px rgba(16, 22, 26, 0.2);
            box-shadow:inset 0 0 0 1px rgba(16, 22, 26, 0.2), inset 0 1px 2px rgba(16, 22, 26, 0.2);
    -webkit-box-shadow:0 0 0 1px rgba(16, 22, 26, 0.2), inset 0 1px 1px rgba(16, 22, 26, 0.1);
            box-shadow:0 0 0 1px rgba(16, 22, 26, 0.2), inset 0 1px 1px rgba(16, 22, 26, 0.1);
    cursor:-webkit-grabbing;
    cursor:grabbing; }
  .bp3-disabled .bp3-slider-handle{
    background:#bfccd6;
    -webkit-box-shadow:none;
            box-shadow:none;
    pointer-events:none; }
  .bp3-dark .bp3-slider-handle{
    background-color:#394b59;
    background-image:-webkit-gradient(linear, left top, left bottom, from(rgba(255, 255, 255, 0.05)), to(rgba(255, 255, 255, 0)));
    background-image:linear-gradient(to bottom, rgba(255, 255, 255, 0.05), rgba(255, 255, 255, 0));
    -webkit-box-shadow:0 0 0 1px rgba(16, 22, 26, 0.4);
            box-shadow:0 0 0 1px rgba(16, 22, 26, 0.4);
    color:#f5f8fa; }
    .bp3-dark .bp3-slider-handle:hover, .bp3-dark .bp3-slider-handle:active, .bp3-dark .bp3-slider-handle.bp3-active{
      color:#f5f8fa; }
    .bp3-dark .bp3-slider-handle:hover{
      background-color:#30404d;
      -webkit-box-shadow:0 0 0 1px rgba(16, 22, 26, 0.4);
              box-shadow:0 0 0 1px rgba(16, 22, 26, 0.4); }
    .bp3-dark .bp3-slider-handle:active, .bp3-dark .bp3-slider-handle.bp3-active{
      background-color:#202b33;
      background-image:none;
      -webkit-box-shadow:0 0 0 1px rgba(16, 22, 26, 0.6), inset 0 1px 2px rgba(16, 22, 26, 0.2);
              box-shadow:0 0 0 1px rgba(16, 22, 26, 0.6), inset 0 1px 2px rgba(16, 22, 26, 0.2); }
    .bp3-dark .bp3-slider-handle:disabled, .bp3-dark .bp3-slider-handle.bp3-disabled{
      background-color:rgba(57, 75, 89, 0.5);
      background-image:none;
      -webkit-box-shadow:none;
              box-shadow:none;
      color:rgba(167, 182, 194, 0.6); }
      .bp3-dark .bp3-slider-handle:disabled.bp3-active, .bp3-dark .bp3-slider-handle.bp3-disabled.bp3-active{
        background:rgba(57, 75, 89, 0.7); }
    .bp3-dark .bp3-slider-handle .bp3-button-spinner .bp3-spinner-head{
      background:rgba(16, 22, 26, 0.5);
      stroke:#8a9ba8; }
    .bp3-dark .bp3-slider-handle, .bp3-dark .bp3-slider-handle:hover{
      background-color:#394b59; }
    .bp3-dark .bp3-slider-handle.bp3-active{
      background-color:#293742; }
  .bp3-dark .bp3-disabled .bp3-slider-handle{
    background:#5c7080;
    border-color:#5c7080;
    -webkit-box-shadow:none;
            box-shadow:none; }
  .bp3-slider-handle .bp3-slider-label{
    background:#394b59;
    border-radius:3px;
    -webkit-box-shadow:0 0 0 1px rgba(16, 22, 26, 0.1), 0 2px 4px rgba(16, 22, 26, 0.2), 0 8px 24px rgba(16, 22, 26, 0.2);
            box-shadow:0 0 0 1px rgba(16, 22, 26, 0.1), 0 2px 4px rgba(16, 22, 26, 0.2), 0 8px 24px rgba(16, 22, 26, 0.2);
    color:#f5f8fa;
    margin-left:8px; }
    .bp3-dark .bp3-slider-handle .bp3-slider-label{
      background:#e1e8ed;
      -webkit-box-shadow:0 0 0 1px rgba(16, 22, 26, 0.2), 0 2px 4px rgba(16, 22, 26, 0.4), 0 8px 24px rgba(16, 22, 26, 0.4);
              box-shadow:0 0 0 1px rgba(16, 22, 26, 0.2), 0 2px 4px rgba(16, 22, 26, 0.4), 0 8px 24px rgba(16, 22, 26, 0.4);
      color:#394b59; }
    .bp3-disabled .bp3-slider-handle .bp3-slider-label{
      -webkit-box-shadow:none;
              box-shadow:none; }
  .bp3-slider-handle.bp3-start, .bp3-slider-handle.bp3-end{
    width:8px; }
  .bp3-slider-handle.bp3-start{
    border-bottom-right-radius:0;
    border-top-right-radius:0; }
  .bp3-slider-handle.bp3-end{
    border-bottom-left-radius:0;
    border-top-left-radius:0;
    margin-left:8px; }
    .bp3-slider-handle.bp3-end .bp3-slider-label{
      margin-left:0; }

.bp3-slider-label{
  -webkit-transform:translate(-50%, 20px);
          transform:translate(-50%, 20px);
  display:inline-block;
  font-size:12px;
  line-height:1;
  padding:2px 5px;
  position:absolute;
  vertical-align:top; }

.bp3-slider.bp3-vertical{
  height:150px;
  min-width:40px;
  width:40px; }
  .bp3-slider.bp3-vertical .bp3-slider-track,
  .bp3-slider.bp3-vertical .bp3-slider-progress{
    bottom:0;
    height:auto;
    left:5px;
    top:0;
    width:6px; }
  .bp3-slider.bp3-vertical .bp3-slider-progress{
    top:auto; }
  .bp3-slider.bp3-vertical .bp3-slider-label{
    -webkit-transform:translate(20px, 50%);
            transform:translate(20px, 50%); }
  .bp3-slider.bp3-vertical .bp3-slider-handle{
    top:auto; }
    .bp3-slider.bp3-vertical .bp3-slider-handle .bp3-slider-label{
      margin-left:0;
      margin-top:-8px; }
    .bp3-slider.bp3-vertical .bp3-slider-handle.bp3-end, .bp3-slider.bp3-vertical .bp3-slider-handle.bp3-start{
      height:8px;
      margin-left:0;
      width:16px; }
    .bp3-slider.bp3-vertical .bp3-slider-handle.bp3-start{
      border-bottom-right-radius:3px;
      border-top-left-radius:0; }
      .bp3-slider.bp3-vertical .bp3-slider-handle.bp3-start .bp3-slider-label{
        -webkit-transform:translate(20px);
                transform:translate(20px); }
    .bp3-slider.bp3-vertical .bp3-slider-handle.bp3-end{
      border-bottom-left-radius:0;
      border-bottom-right-radius:0;
      border-top-left-radius:3px;
      margin-bottom:8px; }

@-webkit-keyframes pt-spinner-animation{
  from{
    -webkit-transform:rotate(0deg);
            transform:rotate(0deg); }
  to{
    -webkit-transform:rotate(360deg);
            transform:rotate(360deg); } }

@keyframes pt-spinner-animation{
  from{
    -webkit-transform:rotate(0deg);
            transform:rotate(0deg); }
  to{
    -webkit-transform:rotate(360deg);
            transform:rotate(360deg); } }

.bp3-spinner{
  -webkit-box-align:center;
      -ms-flex-align:center;
          align-items:center;
  display:-webkit-box;
  display:-ms-flexbox;
  display:flex;
  -webkit-box-pack:center;
      -ms-flex-pack:center;
          justify-content:center;
  overflow:visible;
  vertical-align:middle; }
  .bp3-spinner svg{
    display:block; }
  .bp3-spinner path{
    fill-opacity:0; }
  .bp3-spinner .bp3-spinner-head{
    stroke:rgba(92, 112, 128, 0.8);
    stroke-linecap:round;
    -webkit-transform-origin:center;
            transform-origin:center;
    -webkit-transition:stroke-dashoffset 200ms cubic-bezier(0.4, 1, 0.75, 0.9);
    transition:stroke-dashoffset 200ms cubic-bezier(0.4, 1, 0.75, 0.9); }
  .bp3-spinner .bp3-spinner-track{
    stroke:rgba(92, 112, 128, 0.2); }

.bp3-spinner-animation{
  -webkit-animation:pt-spinner-animation 500ms linear infinite;
          animation:pt-spinner-animation 500ms linear infinite; }
  .bp3-no-spin > .bp3-spinner-animation{
    -webkit-animation:none;
            animation:none; }

.bp3-dark .bp3-spinner .bp3-spinner-head{
  stroke:#8a9ba8; }

.bp3-dark .bp3-spinner .bp3-spinner-track{
  stroke:rgba(16, 22, 26, 0.5); }

.bp3-spinner.bp3-intent-primary .bp3-spinner-head{
  stroke:#137cbd; }

.bp3-spinner.bp3-intent-success .bp3-spinner-head{
  stroke:#0f9960; }

.bp3-spinner.bp3-intent-warning .bp3-spinner-head{
  stroke:#d9822b; }

.bp3-spinner.bp3-intent-danger .bp3-spinner-head{
  stroke:#db3737; }
.bp3-tabs.bp3-vertical{
  display:-webkit-box;
  display:-ms-flexbox;
  display:flex; }
  .bp3-tabs.bp3-vertical > .bp3-tab-list{
    -webkit-box-align:start;
        -ms-flex-align:start;
            align-items:flex-start;
    -webkit-box-orient:vertical;
    -webkit-box-direction:normal;
        -ms-flex-direction:column;
            flex-direction:column; }
    .bp3-tabs.bp3-vertical > .bp3-tab-list .bp3-tab{
      border-radius:3px;
      padding:0 10px;
      width:100%; }
      .bp3-tabs.bp3-vertical > .bp3-tab-list .bp3-tab[aria-selected="true"]{
        background-color:rgba(19, 124, 189, 0.2);
        -webkit-box-shadow:none;
                box-shadow:none; }
    .bp3-tabs.bp3-vertical > .bp3-tab-list .bp3-tab-indicator-wrapper .bp3-tab-indicator{
      background-color:rgba(19, 124, 189, 0.2);
      border-radius:3px;
      bottom:0;
      height:auto;
      left:0;
      right:0;
      top:0; }
  .bp3-tabs.bp3-vertical > .bp3-tab-panel{
    margin-top:0;
    padding-left:20px; }

.bp3-tab-list{
  -webkit-box-align:end;
      -ms-flex-align:end;
          align-items:flex-end;
  border:none;
  display:-webkit-box;
  display:-ms-flexbox;
  display:flex;
  -webkit-box-flex:0;
      -ms-flex:0 0 auto;
          flex:0 0 auto;
  list-style:none;
  margin:0;
  padding:0;
  position:relative; }
  .bp3-tab-list > *:not(:last-child){
    margin-right:20px; }

.bp3-tab{
  overflow:hidden;
  text-overflow:ellipsis;
  white-space:nowrap;
  word-wrap:normal;
  color:#182026;
  cursor:pointer;
  -webkit-box-flex:0;
      -ms-flex:0 0 auto;
          flex:0 0 auto;
  font-size:14px;
  line-height:30px;
  max-width:100%;
  position:relative;
  vertical-align:top; }
  .bp3-tab a{
    color:inherit;
    display:block;
    text-decoration:none; }
  .bp3-tab-indicator-wrapper ~ .bp3-tab{
    background-color:transparent !important;
    -webkit-box-shadow:none !important;
            box-shadow:none !important; }
  .bp3-tab[aria-disabled="true"]{
    color:rgba(92, 112, 128, 0.6);
    cursor:not-allowed; }
  .bp3-tab[aria-selected="true"]{
    border-radius:0;
    -webkit-box-shadow:inset 0 -3px 0 #106ba3;
            box-shadow:inset 0 -3px 0 #106ba3; }
  .bp3-tab[aria-selected="true"], .bp3-tab:not([aria-disabled="true"]):hover{
    color:#106ba3; }
  .bp3-tab:focus{
    -moz-outline-radius:0; }
  .bp3-large > .bp3-tab{
    font-size:16px;
    line-height:40px; }

.bp3-tab-panel{
  margin-top:20px; }
  .bp3-tab-panel[aria-hidden="true"]{
    display:none; }

.bp3-tab-indicator-wrapper{
  left:0;
  pointer-events:none;
  position:absolute;
  top:0;
  -webkit-transform:translateX(0), translateY(0);
          transform:translateX(0), translateY(0);
  -webkit-transition:height, width, -webkit-transform;
  transition:height, width, -webkit-transform;
  transition:height, transform, width;
  transition:height, transform, width, -webkit-transform;
  -webkit-transition-duration:200ms;
          transition-duration:200ms;
  -webkit-transition-timing-function:cubic-bezier(0.4, 1, 0.75, 0.9);
          transition-timing-function:cubic-bezier(0.4, 1, 0.75, 0.9); }
  .bp3-tab-indicator-wrapper .bp3-tab-indicator{
    background-color:#106ba3;
    bottom:0;
    height:3px;
    left:0;
    position:absolute;
    right:0; }
  .bp3-tab-indicator-wrapper.bp3-no-animation{
    -webkit-transition:none;
    transition:none; }

.bp3-dark .bp3-tab{
  color:#f5f8fa; }
  .bp3-dark .bp3-tab[aria-disabled="true"]{
    color:rgba(167, 182, 194, 0.6); }
  .bp3-dark .bp3-tab[aria-selected="true"]{
    -webkit-box-shadow:inset 0 -3px 0 #48aff0;
            box-shadow:inset 0 -3px 0 #48aff0; }
  .bp3-dark .bp3-tab[aria-selected="true"], .bp3-dark .bp3-tab:not([aria-disabled="true"]):hover{
    color:#48aff0; }

.bp3-dark .bp3-tab-indicator{
  background-color:#48aff0; }

.bp3-flex-expander{
  -webkit-box-flex:1;
      -ms-flex:1 1;
          flex:1 1; }
.bp3-tag{
  display:-webkit-inline-box;
  display:-ms-inline-flexbox;
  display:inline-flex;
  -webkit-box-orient:horizontal;
  -webkit-box-direction:normal;
      -ms-flex-direction:row;
          flex-direction:row;
  -webkit-box-align:center;
      -ms-flex-align:center;
          align-items:center;
  background-color:#5c7080;
  border:none;
  border-radius:3px;
  -webkit-box-shadow:none;
          box-shadow:none;
  color:#f5f8fa;
  font-size:12px;
  line-height:16px;
  max-width:100%;
  min-height:20px;
  min-width:20px;
  padding:2px 6px;
  position:relative; }
  .bp3-tag.bp3-interactive{
    cursor:pointer; }
    .bp3-tag.bp3-interactive:hover{
      background-color:rgba(92, 112, 128, 0.85); }
    .bp3-tag.bp3-interactive.bp3-active, .bp3-tag.bp3-interactive:active{
      background-color:rgba(92, 112, 128, 0.7); }
  .bp3-tag > *{
    -webkit-box-flex:0;
        -ms-flex-positive:0;
            flex-grow:0;
    -ms-flex-negative:0;
        flex-shrink:0; }
  .bp3-tag > .bp3-fill{
    -webkit-box-flex:1;
        -ms-flex-positive:1;
            flex-grow:1;
    -ms-flex-negative:1;
        flex-shrink:1; }
  .bp3-tag::before,
  .bp3-tag > *{
    margin-right:4px; }
  .bp3-tag:empty::before,
  .bp3-tag > :last-child{
    margin-right:0; }
  .bp3-tag:focus{
    outline:rgba(19, 124, 189, 0.6) auto 2px;
    outline-offset:0;
    -moz-outline-radius:6px; }
  .bp3-tag.bp3-round{
    border-radius:30px;
    padding-left:8px;
    padding-right:8px; }
  .bp3-dark .bp3-tag{
    background-color:#bfccd6;
    color:#182026; }
    .bp3-dark .bp3-tag.bp3-interactive{
      cursor:pointer; }
      .bp3-dark .bp3-tag.bp3-interactive:hover{
        background-color:rgba(191, 204, 214, 0.85); }
      .bp3-dark .bp3-tag.bp3-interactive.bp3-active, .bp3-dark .bp3-tag.bp3-interactive:active{
        background-color:rgba(191, 204, 214, 0.7); }
    .bp3-dark .bp3-tag > .bp3-icon, .bp3-dark .bp3-tag .bp3-icon-standard, .bp3-dark .bp3-tag .bp3-icon-large{
      fill:currentColor; }
  .bp3-tag > .bp3-icon, .bp3-tag .bp3-icon-standard, .bp3-tag .bp3-icon-large{
    fill:#ffffff; }
  .bp3-tag.bp3-large,
  .bp3-large .bp3-tag{
    font-size:14px;
    line-height:20px;
    min-height:30px;
    min-width:30px;
    padding:5px 10px; }
    .bp3-tag.bp3-large::before,
    .bp3-tag.bp3-large > *,
    .bp3-large .bp3-tag::before,
    .bp3-large .bp3-tag > *{
      margin-right:7px; }
    .bp3-tag.bp3-large:empty::before,
    .bp3-tag.bp3-large > :last-child,
    .bp3-large .bp3-tag:empty::before,
    .bp3-large .bp3-tag > :last-child{
      margin-right:0; }
    .bp3-tag.bp3-large.bp3-round,
    .bp3-large .bp3-tag.bp3-round{
      padding-left:12px;
      padding-right:12px; }
  .bp3-tag.bp3-intent-primary{
    background:#137cbd;
    color:#ffffff; }
    .bp3-tag.bp3-intent-primary.bp3-interactive{
      cursor:pointer; }
      .bp3-tag.bp3-intent-primary.bp3-interactive:hover{
        background-color:rgba(19, 124, 189, 0.85); }
      .bp3-tag.bp3-intent-primary.bp3-interactive.bp3-active, .bp3-tag.bp3-intent-primary.bp3-interactive:active{
        background-color:rgba(19, 124, 189, 0.7); }
  .bp3-tag.bp3-intent-success{
    background:#0f9960;
    color:#ffffff; }
    .bp3-tag.bp3-intent-success.bp3-interactive{
      cursor:pointer; }
      .bp3-tag.bp3-intent-success.bp3-interactive:hover{
        background-color:rgba(15, 153, 96, 0.85); }
      .bp3-tag.bp3-intent-success.bp3-interactive.bp3-active, .bp3-tag.bp3-intent-success.bp3-interactive:active{
        background-color:rgba(15, 153, 96, 0.7); }
  .bp3-tag.bp3-intent-warning{
    background:#d9822b;
    color:#ffffff; }
    .bp3-tag.bp3-intent-warning.bp3-interactive{
      cursor:pointer; }
      .bp3-tag.bp3-intent-warning.bp3-interactive:hover{
        background-color:rgba(217, 130, 43, 0.85); }
      .bp3-tag.bp3-intent-warning.bp3-interactive.bp3-active, .bp3-tag.bp3-intent-warning.bp3-interactive:active{
        background-color:rgba(217, 130, 43, 0.7); }
  .bp3-tag.bp3-intent-danger{
    background:#db3737;
    color:#ffffff; }
    .bp3-tag.bp3-intent-danger.bp3-interactive{
      cursor:pointer; }
      .bp3-tag.bp3-intent-danger.bp3-interactive:hover{
        background-color:rgba(219, 55, 55, 0.85); }
      .bp3-tag.bp3-intent-danger.bp3-interactive.bp3-active, .bp3-tag.bp3-intent-danger.bp3-interactive:active{
        background-color:rgba(219, 55, 55, 0.7); }
  .bp3-tag.bp3-fill{
    display:-webkit-box;
    display:-ms-flexbox;
    display:flex;
    width:100%; }
  .bp3-tag.bp3-minimal > .bp3-icon, .bp3-tag.bp3-minimal .bp3-icon-standard, .bp3-tag.bp3-minimal .bp3-icon-large{
    fill:#5c7080; }
  .bp3-tag.bp3-minimal:not([class*="bp3-intent-"]){
    background-color:rgba(138, 155, 168, 0.2);
    color:#182026; }
    .bp3-tag.bp3-minimal:not([class*="bp3-intent-"]).bp3-interactive{
      cursor:pointer; }
      .bp3-tag.bp3-minimal:not([class*="bp3-intent-"]).bp3-interactive:hover{
        background-color:rgba(92, 112, 128, 0.3); }
      .bp3-tag.bp3-minimal:not([class*="bp3-intent-"]).bp3-interactive.bp3-active, .bp3-tag.bp3-minimal:not([class*="bp3-intent-"]).bp3-interactive:active{
        background-color:rgba(92, 112, 128, 0.4); }
    .bp3-dark .bp3-tag.bp3-minimal:not([class*="bp3-intent-"]){
      color:#f5f8fa; }
      .bp3-dark .bp3-tag.bp3-minimal:not([class*="bp3-intent-"]).bp3-interactive{
        cursor:pointer; }
        .bp3-dark .bp3-tag.bp3-minimal:not([class*="bp3-intent-"]).bp3-interactive:hover{
          background-color:rgba(191, 204, 214, 0.3); }
        .bp3-dark .bp3-tag.bp3-minimal:not([class*="bp3-intent-"]).bp3-interactive.bp3-active, .bp3-dark .bp3-tag.bp3-minimal:not([class*="bp3-intent-"]).bp3-interactive:active{
          background-color:rgba(191, 204, 214, 0.4); }
      .bp3-dark .bp3-tag.bp3-minimal:not([class*="bp3-intent-"]) > .bp3-icon, .bp3-dark .bp3-tag.bp3-minimal:not([class*="bp3-intent-"]) .bp3-icon-standard, .bp3-dark .bp3-tag.bp3-minimal:not([class*="bp3-intent-"]) .bp3-icon-large{
        fill:#a7b6c2; }
  .bp3-tag.bp3-minimal.bp3-intent-primary{
    background-color:rgba(19, 124, 189, 0.15);
    color:#106ba3; }
    .bp3-tag.bp3-minimal.bp3-intent-primary.bp3-interactive{
      cursor:pointer; }
      .bp3-tag.bp3-minimal.bp3-intent-primary.bp3-interactive:hover{
        background-color:rgba(19, 124, 189, 0.25); }
      .bp3-tag.bp3-minimal.bp3-intent-primary.bp3-interactive.bp3-active, .bp3-tag.bp3-minimal.bp3-intent-primary.bp3-interactive:active{
        background-color:rgba(19, 124, 189, 0.35); }
    .bp3-tag.bp3-minimal.bp3-intent-primary > .bp3-icon, .bp3-tag.bp3-minimal.bp3-intent-primary .bp3-icon-standard, .bp3-tag.bp3-minimal.bp3-intent-primary .bp3-icon-large{
      fill:#137cbd; }
    .bp3-dark .bp3-tag.bp3-minimal.bp3-intent-primary{
      background-color:rgba(19, 124, 189, 0.25);
      color:#48aff0; }
      .bp3-dark .bp3-tag.bp3-minimal.bp3-intent-primary.bp3-interactive{
        cursor:pointer; }
        .bp3-dark .bp3-tag.bp3-minimal.bp3-intent-primary.bp3-interactive:hover{
          background-color:rgba(19, 124, 189, 0.35); }
        .bp3-dark .bp3-tag.bp3-minimal.bp3-intent-primary.bp3-interactive.bp3-active, .bp3-dark .bp3-tag.bp3-minimal.bp3-intent-primary.bp3-interactive:active{
          background-color:rgba(19, 124, 189, 0.45); }
  .bp3-tag.bp3-minimal.bp3-intent-success{
    background-color:rgba(15, 153, 96, 0.15);
    color:#0d8050; }
    .bp3-tag.bp3-minimal.bp3-intent-success.bp3-interactive{
      cursor:pointer; }
      .bp3-tag.bp3-minimal.bp3-intent-success.bp3-interactive:hover{
        background-color:rgba(15, 153, 96, 0.25); }
      .bp3-tag.bp3-minimal.bp3-intent-success.bp3-interactive.bp3-active, .bp3-tag.bp3-minimal.bp3-intent-success.bp3-interactive:active{
        background-color:rgba(15, 153, 96, 0.35); }
    .bp3-tag.bp3-minimal.bp3-intent-success > .bp3-icon, .bp3-tag.bp3-minimal.bp3-intent-success .bp3-icon-standard, .bp3-tag.bp3-minimal.bp3-intent-success .bp3-icon-large{
      fill:#0f9960; }
    .bp3-dark .bp3-tag.bp3-minimal.bp3-intent-success{
      background-color:rgba(15, 153, 96, 0.25);
      color:#3dcc91; }
      .bp3-dark .bp3-tag.bp3-minimal.bp3-intent-success.bp3-interactive{
        cursor:pointer; }
        .bp3-dark .bp3-tag.bp3-minimal.bp3-intent-success.bp3-interactive:hover{
          background-color:rgba(15, 153, 96, 0.35); }
        .bp3-dark .bp3-tag.bp3-minimal.bp3-intent-success.bp3-interactive.bp3-active, .bp3-dark .bp3-tag.bp3-minimal.bp3-intent-success.bp3-interactive:active{
          background-color:rgba(15, 153, 96, 0.45); }
  .bp3-tag.bp3-minimal.bp3-intent-warning{
    background-color:rgba(217, 130, 43, 0.15);
    color:#bf7326; }
    .bp3-tag.bp3-minimal.bp3-intent-warning.bp3-interactive{
      cursor:pointer; }
      .bp3-tag.bp3-minimal.bp3-intent-warning.bp3-interactive:hover{
        background-color:rgba(217, 130, 43, 0.25); }
      .bp3-tag.bp3-minimal.bp3-intent-warning.bp3-interactive.bp3-active, .bp3-tag.bp3-minimal.bp3-intent-warning.bp3-interactive:active{
        background-color:rgba(217, 130, 43, 0.35); }
    .bp3-tag.bp3-minimal.bp3-intent-warning > .bp3-icon, .bp3-tag.bp3-minimal.bp3-intent-warning .bp3-icon-standard, .bp3-tag.bp3-minimal.bp3-intent-warning .bp3-icon-large{
      fill:#d9822b; }
    .bp3-dark .bp3-tag.bp3-minimal.bp3-intent-warning{
      background-color:rgba(217, 130, 43, 0.25);
      color:#ffb366; }
      .bp3-dark .bp3-tag.bp3-minimal.bp3-intent-warning.bp3-interactive{
        cursor:pointer; }
        .bp3-dark .bp3-tag.bp3-minimal.bp3-intent-warning.bp3-interactive:hover{
          background-color:rgba(217, 130, 43, 0.35); }
        .bp3-dark .bp3-tag.bp3-minimal.bp3-intent-warning.bp3-interactive.bp3-active, .bp3-dark .bp3-tag.bp3-minimal.bp3-intent-warning.bp3-interactive:active{
          background-color:rgba(217, 130, 43, 0.45); }
  .bp3-tag.bp3-minimal.bp3-intent-danger{
    background-color:rgba(219, 55, 55, 0.15);
    color:#c23030; }
    .bp3-tag.bp3-minimal.bp3-intent-danger.bp3-interactive{
      cursor:pointer; }
      .bp3-tag.bp3-minimal.bp3-intent-danger.bp3-interactive:hover{
        background-color:rgba(219, 55, 55, 0.25); }
      .bp3-tag.bp3-minimal.bp3-intent-danger.bp3-interactive.bp3-active, .bp3-tag.bp3-minimal.bp3-intent-danger.bp3-interactive:active{
        background-color:rgba(219, 55, 55, 0.35); }
    .bp3-tag.bp3-minimal.bp3-intent-danger > .bp3-icon, .bp3-tag.bp3-minimal.bp3-intent-danger .bp3-icon-standard, .bp3-tag.bp3-minimal.bp3-intent-danger .bp3-icon-large{
      fill:#db3737; }
    .bp3-dark .bp3-tag.bp3-minimal.bp3-intent-danger{
      background-color:rgba(219, 55, 55, 0.25);
      color:#ff7373; }
      .bp3-dark .bp3-tag.bp3-minimal.bp3-intent-danger.bp3-interactive{
        cursor:pointer; }
        .bp3-dark .bp3-tag.bp3-minimal.bp3-intent-danger.bp3-interactive:hover{
          background-color:rgba(219, 55, 55, 0.35); }
        .bp3-dark .bp3-tag.bp3-minimal.bp3-intent-danger.bp3-interactive.bp3-active, .bp3-dark .bp3-tag.bp3-minimal.bp3-intent-danger.bp3-interactive:active{
          background-color:rgba(219, 55, 55, 0.45); }

.bp3-tag-remove{
  background:none;
  border:none;
  color:inherit;
  cursor:pointer;
  display:-webkit-box;
  display:-ms-flexbox;
  display:flex;
  margin-bottom:-2px;
  margin-right:-6px !important;
  margin-top:-2px;
  opacity:0.5;
  padding:2px;
  padding-left:0; }
  .bp3-tag-remove:hover{
    background:none;
    opacity:0.8;
    text-decoration:none; }
  .bp3-tag-remove:active{
    opacity:1; }
  .bp3-tag-remove:empty::before{
    font-family:"Icons16", sans-serif;
    font-size:16px;
    font-style:normal;
    font-weight:400;
    line-height:1;
    -moz-osx-font-smoothing:grayscale;
    -webkit-font-smoothing:antialiased;
    content:""; }
  .bp3-large .bp3-tag-remove{
    margin-right:-10px !important;
    padding:0 5px 0 0; }
    .bp3-large .bp3-tag-remove:empty::before{
      font-family:"Icons20", sans-serif;
      font-size:20px;
      font-style:normal;
      font-weight:400;
      line-height:1; }
.bp3-tag-input{
  display:-webkit-box;
  display:-ms-flexbox;
  display:flex;
  -webkit-box-orient:horizontal;
  -webkit-box-direction:normal;
      -ms-flex-direction:row;
          flex-direction:row;
  -webkit-box-align:start;
      -ms-flex-align:start;
          align-items:flex-start;
  cursor:text;
  height:auto;
  line-height:inherit;
  min-height:30px;
  padding-left:5px;
  padding-right:0; }
  .bp3-tag-input > *{
    -webkit-box-flex:0;
        -ms-flex-positive:0;
            flex-grow:0;
    -ms-flex-negative:0;
        flex-shrink:0; }
  .bp3-tag-input > .bp3-tag-input-values{
    -webkit-box-flex:1;
        -ms-flex-positive:1;
            flex-grow:1;
    -ms-flex-negative:1;
        flex-shrink:1; }
  .bp3-tag-input .bp3-tag-input-icon{
    color:#5c7080;
    margin-left:2px;
    margin-right:7px;
    margin-top:7px; }
  .bp3-tag-input .bp3-tag-input-values{
    display:-webkit-box;
    display:-ms-flexbox;
    display:flex;
    -webkit-box-orient:horizontal;
    -webkit-box-direction:normal;
        -ms-flex-direction:row;
            flex-direction:row;
    -webkit-box-align:center;
        -ms-flex-align:center;
            align-items:center;
    -ms-flex-item-align:stretch;
        align-self:stretch;
    -ms-flex-wrap:wrap;
        flex-wrap:wrap;
    margin-right:7px;
    margin-top:5px;
    min-width:0; }
    .bp3-tag-input .bp3-tag-input-values > *{
      -webkit-box-flex:0;
          -ms-flex-positive:0;
              flex-grow:0;
      -ms-flex-negative:0;
          flex-shrink:0; }
    .bp3-tag-input .bp3-tag-input-values > .bp3-fill{
      -webkit-box-flex:1;
          -ms-flex-positive:1;
              flex-grow:1;
      -ms-flex-negative:1;
          flex-shrink:1; }
    .bp3-tag-input .bp3-tag-input-values::before,
    .bp3-tag-input .bp3-tag-input-values > *{
      margin-right:5px; }
    .bp3-tag-input .bp3-tag-input-values:empty::before,
    .bp3-tag-input .bp3-tag-input-values > :last-child{
      margin-right:0; }
    .bp3-tag-input .bp3-tag-input-values:first-child .bp3-input-ghost:first-child{
      padding-left:5px; }
    .bp3-tag-input .bp3-tag-input-values > *{
      margin-bottom:5px; }
  .bp3-tag-input .bp3-tag{
    overflow-wrap:break-word; }
    .bp3-tag-input .bp3-tag.bp3-active{
      outline:rgba(19, 124, 189, 0.6) auto 2px;
      outline-offset:0;
      -moz-outline-radius:6px; }
  .bp3-tag-input .bp3-input-ghost{
    -webkit-box-flex:1;
        -ms-flex:1 1 auto;
            flex:1 1 auto;
    line-height:20px;
    width:80px; }
    .bp3-tag-input .bp3-input-ghost:disabled, .bp3-tag-input .bp3-input-ghost.bp3-disabled{
      cursor:not-allowed; }
  .bp3-tag-input .bp3-button,
  .bp3-tag-input .bp3-spinner{
    margin:3px;
    margin-left:0; }
  .bp3-tag-input .bp3-button{
    min-height:24px;
    min-width:24px;
    padding:0 7px; }
  .bp3-tag-input.bp3-large{
    height:auto;
    min-height:40px; }
    .bp3-tag-input.bp3-large::before,
    .bp3-tag-input.bp3-large > *{
      margin-right:10px; }
    .bp3-tag-input.bp3-large:empty::before,
    .bp3-tag-input.bp3-large > :last-child{
      margin-right:0; }
    .bp3-tag-input.bp3-large .bp3-tag-input-icon{
      margin-left:5px;
      margin-top:10px; }
    .bp3-tag-input.bp3-large .bp3-input-ghost{
      line-height:30px; }
    .bp3-tag-input.bp3-large .bp3-button{
      min-height:30px;
      min-width:30px;
      padding:5px 10px;
      margin:5px;
      margin-left:0; }
    .bp3-tag-input.bp3-large .bp3-spinner{
      margin:8px;
      margin-left:0; }
  .bp3-tag-input.bp3-active{
    background-color:#ffffff;
    -webkit-box-shadow:0 0 0 1px #137cbd, 0 0 0 3px rgba(19, 124, 189, 0.3), inset 0 1px 1px rgba(16, 22, 26, 0.2);
            box-shadow:0 0 0 1px #137cbd, 0 0 0 3px rgba(19, 124, 189, 0.3), inset 0 1px 1px rgba(16, 22, 26, 0.2); }
    .bp3-tag-input.bp3-active.bp3-intent-primary{
      -webkit-box-shadow:0 0 0 1px #106ba3, 0 0 0 3px rgba(16, 107, 163, 0.3), inset 0 1px 1px rgba(16, 22, 26, 0.2);
              box-shadow:0 0 0 1px #106ba3, 0 0 0 3px rgba(16, 107, 163, 0.3), inset 0 1px 1px rgba(16, 22, 26, 0.2); }
    .bp3-tag-input.bp3-active.bp3-intent-success{
      -webkit-box-shadow:0 0 0 1px #0d8050, 0 0 0 3px rgba(13, 128, 80, 0.3), inset 0 1px 1px rgba(16, 22, 26, 0.2);
              box-shadow:0 0 0 1px #0d8050, 0 0 0 3px rgba(13, 128, 80, 0.3), inset 0 1px 1px rgba(16, 22, 26, 0.2); }
    .bp3-tag-input.bp3-active.bp3-intent-warning{
      -webkit-box-shadow:0 0 0 1px #bf7326, 0 0 0 3px rgba(191, 115, 38, 0.3), inset 0 1px 1px rgba(16, 22, 26, 0.2);
              box-shadow:0 0 0 1px #bf7326, 0 0 0 3px rgba(191, 115, 38, 0.3), inset 0 1px 1px rgba(16, 22, 26, 0.2); }
    .bp3-tag-input.bp3-active.bp3-intent-danger{
      -webkit-box-shadow:0 0 0 1px #c23030, 0 0 0 3px rgba(194, 48, 48, 0.3), inset 0 1px 1px rgba(16, 22, 26, 0.2);
              box-shadow:0 0 0 1px #c23030, 0 0 0 3px rgba(194, 48, 48, 0.3), inset 0 1px 1px rgba(16, 22, 26, 0.2); }
  .bp3-dark .bp3-tag-input .bp3-tag-input-icon, .bp3-tag-input.bp3-dark .bp3-tag-input-icon{
    color:#a7b6c2; }
  .bp3-dark .bp3-tag-input .bp3-input-ghost, .bp3-tag-input.bp3-dark .bp3-input-ghost{
    color:#f5f8fa; }
    .bp3-dark .bp3-tag-input .bp3-input-ghost::-webkit-input-placeholder, .bp3-tag-input.bp3-dark .bp3-input-ghost::-webkit-input-placeholder{
      color:rgba(167, 182, 194, 0.6); }
    .bp3-dark .bp3-tag-input .bp3-input-ghost::-moz-placeholder, .bp3-tag-input.bp3-dark .bp3-input-ghost::-moz-placeholder{
      color:rgba(167, 182, 194, 0.6); }
    .bp3-dark .bp3-tag-input .bp3-input-ghost:-ms-input-placeholder, .bp3-tag-input.bp3-dark .bp3-input-ghost:-ms-input-placeholder{
      color:rgba(167, 182, 194, 0.6); }
    .bp3-dark .bp3-tag-input .bp3-input-ghost::-ms-input-placeholder, .bp3-tag-input.bp3-dark .bp3-input-ghost::-ms-input-placeholder{
      color:rgba(167, 182, 194, 0.6); }
    .bp3-dark .bp3-tag-input .bp3-input-ghost::placeholder, .bp3-tag-input.bp3-dark .bp3-input-ghost::placeholder{
      color:rgba(167, 182, 194, 0.6); }
  .bp3-dark .bp3-tag-input.bp3-active, .bp3-tag-input.bp3-dark.bp3-active{
    background-color:rgba(16, 22, 26, 0.3);
    -webkit-box-shadow:0 0 0 1px #137cbd, 0 0 0 1px #137cbd, 0 0 0 3px rgba(19, 124, 189, 0.3), inset 0 0 0 1px rgba(16, 22, 26, 0.3), inset 0 1px 1px rgba(16, 22, 26, 0.4);
            box-shadow:0 0 0 1px #137cbd, 0 0 0 1px #137cbd, 0 0 0 3px rgba(19, 124, 189, 0.3), inset 0 0 0 1px rgba(16, 22, 26, 0.3), inset 0 1px 1px rgba(16, 22, 26, 0.4); }
    .bp3-dark .bp3-tag-input.bp3-active.bp3-intent-primary, .bp3-tag-input.bp3-dark.bp3-active.bp3-intent-primary{
      -webkit-box-shadow:0 0 0 1px #106ba3, 0 0 0 3px rgba(16, 107, 163, 0.3), inset 0 0 0 1px rgba(16, 22, 26, 0.3), inset 0 1px 1px rgba(16, 22, 26, 0.4);
              box-shadow:0 0 0 1px #106ba3, 0 0 0 3px rgba(16, 107, 163, 0.3), inset 0 0 0 1px rgba(16, 22, 26, 0.3), inset 0 1px 1px rgba(16, 22, 26, 0.4); }
    .bp3-dark .bp3-tag-input.bp3-active.bp3-intent-success, .bp3-tag-input.bp3-dark.bp3-active.bp3-intent-success{
      -webkit-box-shadow:0 0 0 1px #0d8050, 0 0 0 3px rgba(13, 128, 80, 0.3), inset 0 0 0 1px rgba(16, 22, 26, 0.3), inset 0 1px 1px rgba(16, 22, 26, 0.4);
              box-shadow:0 0 0 1px #0d8050, 0 0 0 3px rgba(13, 128, 80, 0.3), inset 0 0 0 1px rgba(16, 22, 26, 0.3), inset 0 1px 1px rgba(16, 22, 26, 0.4); }
    .bp3-dark .bp3-tag-input.bp3-active.bp3-intent-warning, .bp3-tag-input.bp3-dark.bp3-active.bp3-intent-warning{
      -webkit-box-shadow:0 0 0 1px #bf7326, 0 0 0 3px rgba(191, 115, 38, 0.3), inset 0 0 0 1px rgba(16, 22, 26, 0.3), inset 0 1px 1px rgba(16, 22, 26, 0.4);
              box-shadow:0 0 0 1px #bf7326, 0 0 0 3px rgba(191, 115, 38, 0.3), inset 0 0 0 1px rgba(16, 22, 26, 0.3), inset 0 1px 1px rgba(16, 22, 26, 0.4); }
    .bp3-dark .bp3-tag-input.bp3-active.bp3-intent-danger, .bp3-tag-input.bp3-dark.bp3-active.bp3-intent-danger{
      -webkit-box-shadow:0 0 0 1px #c23030, 0 0 0 3px rgba(194, 48, 48, 0.3), inset 0 0 0 1px rgba(16, 22, 26, 0.3), inset 0 1px 1px rgba(16, 22, 26, 0.4);
              box-shadow:0 0 0 1px #c23030, 0 0 0 3px rgba(194, 48, 48, 0.3), inset 0 0 0 1px rgba(16, 22, 26, 0.3), inset 0 1px 1px rgba(16, 22, 26, 0.4); }

.bp3-input-ghost{
  background:none;
  border:none;
  -webkit-box-shadow:none;
          box-shadow:none;
  padding:0; }
  .bp3-input-ghost::-webkit-input-placeholder{
    color:rgba(92, 112, 128, 0.6);
    opacity:1; }
  .bp3-input-ghost::-moz-placeholder{
    color:rgba(92, 112, 128, 0.6);
    opacity:1; }
  .bp3-input-ghost:-ms-input-placeholder{
    color:rgba(92, 112, 128, 0.6);
    opacity:1; }
  .bp3-input-ghost::-ms-input-placeholder{
    color:rgba(92, 112, 128, 0.6);
    opacity:1; }
  .bp3-input-ghost::placeholder{
    color:rgba(92, 112, 128, 0.6);
    opacity:1; }
  .bp3-input-ghost:focus{
    outline:none !important; }
.bp3-toast{
  -webkit-box-align:start;
      -ms-flex-align:start;
          align-items:flex-start;
  background-color:#ffffff;
  border-radius:3px;
  -webkit-box-shadow:0 0 0 1px rgba(16, 22, 26, 0.1), 0 2px 4px rgba(16, 22, 26, 0.2), 0 8px 24px rgba(16, 22, 26, 0.2);
          box-shadow:0 0 0 1px rgba(16, 22, 26, 0.1), 0 2px 4px rgba(16, 22, 26, 0.2), 0 8px 24px rgba(16, 22, 26, 0.2);
  display:-webkit-box;
  display:-ms-flexbox;
  display:flex;
  margin:20px 0 0;
  max-width:500px;
  min-width:300px;
  pointer-events:all;
  position:relative !important; }
  .bp3-toast.bp3-toast-enter, .bp3-toast.bp3-toast-appear{
    -webkit-transform:translateY(-40px);
            transform:translateY(-40px); }
  .bp3-toast.bp3-toast-enter-active, .bp3-toast.bp3-toast-appear-active{
    -webkit-transform:translateY(0);
            transform:translateY(0);
    -webkit-transition-delay:0;
            transition-delay:0;
    -webkit-transition-duration:300ms;
            transition-duration:300ms;
    -webkit-transition-property:-webkit-transform;
    transition-property:-webkit-transform;
    transition-property:transform;
    transition-property:transform, -webkit-transform;
    -webkit-transition-timing-function:cubic-bezier(0.54, 1.12, 0.38, 1.11);
            transition-timing-function:cubic-bezier(0.54, 1.12, 0.38, 1.11); }
  .bp3-toast.bp3-toast-enter ~ .bp3-toast, .bp3-toast.bp3-toast-appear ~ .bp3-toast{
    -webkit-transform:translateY(-40px);
            transform:translateY(-40px); }
  .bp3-toast.bp3-toast-enter-active ~ .bp3-toast, .bp3-toast.bp3-toast-appear-active ~ .bp3-toast{
    -webkit-transform:translateY(0);
            transform:translateY(0);
    -webkit-transition-delay:0;
            transition-delay:0;
    -webkit-transition-duration:300ms;
            transition-duration:300ms;
    -webkit-transition-property:-webkit-transform;
    transition-property:-webkit-transform;
    transition-property:transform;
    transition-property:transform, -webkit-transform;
    -webkit-transition-timing-function:cubic-bezier(0.54, 1.12, 0.38, 1.11);
            transition-timing-function:cubic-bezier(0.54, 1.12, 0.38, 1.11); }
  .bp3-toast.bp3-toast-exit{
    opacity:1;
    -webkit-filter:blur(0);
            filter:blur(0); }
  .bp3-toast.bp3-toast-exit-active{
    opacity:0;
    -webkit-filter:blur(10px);
            filter:blur(10px);
    -webkit-transition-delay:0;
            transition-delay:0;
    -webkit-transition-duration:300ms;
            transition-duration:300ms;
    -webkit-transition-property:opacity, -webkit-filter;
    transition-property:opacity, -webkit-filter;
    transition-property:opacity, filter;
    transition-property:opacity, filter, -webkit-filter;
    -webkit-transition-timing-function:cubic-bezier(0.4, 1, 0.75, 0.9);
            transition-timing-function:cubic-bezier(0.4, 1, 0.75, 0.9); }
  .bp3-toast.bp3-toast-exit ~ .bp3-toast{
    -webkit-transform:translateY(0);
            transform:translateY(0); }
  .bp3-toast.bp3-toast-exit-active ~ .bp3-toast{
    -webkit-transform:translateY(-40px);
            transform:translateY(-40px);
    -webkit-transition-delay:50ms;
            transition-delay:50ms;
    -webkit-transition-duration:100ms;
            transition-duration:100ms;
    -webkit-transition-property:-webkit-transform;
    transition-property:-webkit-transform;
    transition-property:transform;
    transition-property:transform, -webkit-transform;
    -webkit-transition-timing-function:cubic-bezier(0.4, 1, 0.75, 0.9);
            transition-timing-function:cubic-bezier(0.4, 1, 0.75, 0.9); }
  .bp3-toast .bp3-button-group{
    -webkit-box-flex:0;
        -ms-flex:0 0 auto;
            flex:0 0 auto;
    padding:5px;
    padding-left:0; }
  .bp3-toast > .bp3-icon{
    color:#5c7080;
    margin:12px;
    margin-right:0; }
  .bp3-toast.bp3-dark,
  .bp3-dark .bp3-toast{
    background-color:#394b59;
    -webkit-box-shadow:0 0 0 1px rgba(16, 22, 26, 0.2), 0 2px 4px rgba(16, 22, 26, 0.4), 0 8px 24px rgba(16, 22, 26, 0.4);
            box-shadow:0 0 0 1px rgba(16, 22, 26, 0.2), 0 2px 4px rgba(16, 22, 26, 0.4), 0 8px 24px rgba(16, 22, 26, 0.4); }
    .bp3-toast.bp3-dark > .bp3-icon,
    .bp3-dark .bp3-toast > .bp3-icon{
      color:#a7b6c2; }
  .bp3-toast[class*="bp3-intent-"] a{
    color:rgba(255, 255, 255, 0.7); }
    .bp3-toast[class*="bp3-intent-"] a:hover{
      color:#ffffff; }
  .bp3-toast[class*="bp3-intent-"] > .bp3-icon{
    color:#ffffff; }
  .bp3-toast[class*="bp3-intent-"] .bp3-button, .bp3-toast[class*="bp3-intent-"] .bp3-button::before,
  .bp3-toast[class*="bp3-intent-"] .bp3-button .bp3-icon, .bp3-toast[class*="bp3-intent-"] .bp3-button:active{
    color:rgba(255, 255, 255, 0.7) !important; }
  .bp3-toast[class*="bp3-intent-"] .bp3-button:focus{
    outline-color:rgba(255, 255, 255, 0.5); }
  .bp3-toast[class*="bp3-intent-"] .bp3-button:hover{
    background-color:rgba(255, 255, 255, 0.15) !important;
    color:#ffffff !important; }
  .bp3-toast[class*="bp3-intent-"] .bp3-button:active{
    background-color:rgba(255, 255, 255, 0.3) !important;
    color:#ffffff !important; }
  .bp3-toast[class*="bp3-intent-"] .bp3-button::after{
    background:rgba(255, 255, 255, 0.3) !important; }
  .bp3-toast.bp3-intent-primary{
    background-color:#137cbd;
    color:#ffffff; }
  .bp3-toast.bp3-intent-success{
    background-color:#0f9960;
    color:#ffffff; }
  .bp3-toast.bp3-intent-warning{
    background-color:#d9822b;
    color:#ffffff; }
  .bp3-toast.bp3-intent-danger{
    background-color:#db3737;
    color:#ffffff; }

.bp3-toast-message{
  -webkit-box-flex:1;
      -ms-flex:1 1 auto;
          flex:1 1 auto;
  padding:11px;
  word-break:break-word; }

.bp3-toast-container{
  -webkit-box-align:center;
      -ms-flex-align:center;
          align-items:center;
  display:-webkit-box !important;
  display:-ms-flexbox !important;
  display:flex !important;
  -webkit-box-orient:vertical;
  -webkit-box-direction:normal;
      -ms-flex-direction:column;
          flex-direction:column;
  left:0;
  overflow:hidden;
  padding:0 20px 20px;
  pointer-events:none;
  right:0;
  z-index:40; }
  .bp3-toast-container.bp3-toast-container-in-portal{
    position:fixed; }
  .bp3-toast-container.bp3-toast-container-inline{
    position:absolute; }
  .bp3-toast-container.bp3-toast-container-top{
    top:0; }
  .bp3-toast-container.bp3-toast-container-bottom{
    bottom:0;
    -webkit-box-orient:vertical;
    -webkit-box-direction:reverse;
        -ms-flex-direction:column-reverse;
            flex-direction:column-reverse;
    top:auto; }
  .bp3-toast-container.bp3-toast-container-left{
    -webkit-box-align:start;
        -ms-flex-align:start;
            align-items:flex-start; }
  .bp3-toast-container.bp3-toast-container-right{
    -webkit-box-align:end;
        -ms-flex-align:end;
            align-items:flex-end; }

.bp3-toast-container-bottom .bp3-toast.bp3-toast-enter:not(.bp3-toast-enter-active),
.bp3-toast-container-bottom .bp3-toast.bp3-toast-enter:not(.bp3-toast-enter-active) ~ .bp3-toast, .bp3-toast-container-bottom .bp3-toast.bp3-toast-appear:not(.bp3-toast-appear-active),
.bp3-toast-container-bottom .bp3-toast.bp3-toast-appear:not(.bp3-toast-appear-active) ~ .bp3-toast,
.bp3-toast-container-bottom .bp3-toast.bp3-toast-exit-active ~ .bp3-toast,
.bp3-toast-container-bottom .bp3-toast.bp3-toast-leave-active ~ .bp3-toast{
  -webkit-transform:translateY(60px);
          transform:translateY(60px); }
.bp3-tooltip{
  -webkit-box-shadow:0 0 0 1px rgba(16, 22, 26, 0.1), 0 2px 4px rgba(16, 22, 26, 0.2), 0 8px 24px rgba(16, 22, 26, 0.2);
          box-shadow:0 0 0 1px rgba(16, 22, 26, 0.1), 0 2px 4px rgba(16, 22, 26, 0.2), 0 8px 24px rgba(16, 22, 26, 0.2);
  -webkit-transform:scale(1);
          transform:scale(1); }
  .bp3-tooltip .bp3-popover-arrow{
    height:22px;
    position:absolute;
    width:22px; }
    .bp3-tooltip .bp3-popover-arrow::before{
      height:14px;
      margin:4px;
      width:14px; }
  .bp3-tether-element-attached-bottom.bp3-tether-target-attached-top > .bp3-tooltip{
    margin-bottom:11px;
    margin-top:-11px; }
    .bp3-tether-element-attached-bottom.bp3-tether-target-attached-top > .bp3-tooltip > .bp3-popover-arrow{
      bottom:-8px; }
      .bp3-tether-element-attached-bottom.bp3-tether-target-attached-top > .bp3-tooltip > .bp3-popover-arrow svg{
        -webkit-transform:rotate(-90deg);
                transform:rotate(-90deg); }
  .bp3-tether-element-attached-left.bp3-tether-target-attached-right > .bp3-tooltip{
    margin-left:11px; }
    .bp3-tether-element-attached-left.bp3-tether-target-attached-right > .bp3-tooltip > .bp3-popover-arrow{
      left:-8px; }
      .bp3-tether-element-attached-left.bp3-tether-target-attached-right > .bp3-tooltip > .bp3-popover-arrow svg{
        -webkit-transform:rotate(0);
                transform:rotate(0); }
  .bp3-tether-element-attached-top.bp3-tether-target-attached-bottom > .bp3-tooltip{
    margin-top:11px; }
    .bp3-tether-element-attached-top.bp3-tether-target-attached-bottom > .bp3-tooltip > .bp3-popover-arrow{
      top:-8px; }
      .bp3-tether-element-attached-top.bp3-tether-target-attached-bottom > .bp3-tooltip > .bp3-popover-arrow svg{
        -webkit-transform:rotate(90deg);
                transform:rotate(90deg); }
  .bp3-tether-element-attached-right.bp3-tether-target-attached-left > .bp3-tooltip{
    margin-left:-11px;
    margin-right:11px; }
    .bp3-tether-element-attached-right.bp3-tether-target-attached-left > .bp3-tooltip > .bp3-popover-arrow{
      right:-8px; }
      .bp3-tether-element-attached-right.bp3-tether-target-attached-left > .bp3-tooltip > .bp3-popover-arrow svg{
        -webkit-transform:rotate(180deg);
                transform:rotate(180deg); }
  .bp3-tether-element-attached-middle > .bp3-tooltip > .bp3-popover-arrow{
    top:50%;
    -webkit-transform:translateY(-50%);
            transform:translateY(-50%); }
  .bp3-tether-element-attached-center > .bp3-tooltip > .bp3-popover-arrow{
    right:50%;
    -webkit-transform:translateX(50%);
            transform:translateX(50%); }
  .bp3-tether-element-attached-top.bp3-tether-target-attached-top > .bp3-tooltip > .bp3-popover-arrow{
    top:-0.22183px; }
  .bp3-tether-element-attached-right.bp3-tether-target-attached-right > .bp3-tooltip > .bp3-popover-arrow{
    right:-0.22183px; }
  .bp3-tether-element-attached-left.bp3-tether-target-attached-left > .bp3-tooltip > .bp3-popover-arrow{
    left:-0.22183px; }
  .bp3-tether-element-attached-bottom.bp3-tether-target-attached-bottom > .bp3-tooltip > .bp3-popover-arrow{
    bottom:-0.22183px; }
  .bp3-tether-element-attached-top.bp3-tether-element-attached-left > .bp3-tooltip{
    -webkit-transform-origin:top left;
            transform-origin:top left; }
  .bp3-tether-element-attached-top.bp3-tether-element-attached-center > .bp3-tooltip{
    -webkit-transform-origin:top center;
            transform-origin:top center; }
  .bp3-tether-element-attached-top.bp3-tether-element-attached-right > .bp3-tooltip{
    -webkit-transform-origin:top right;
            transform-origin:top right; }
  .bp3-tether-element-attached-middle.bp3-tether-element-attached-left > .bp3-tooltip{
    -webkit-transform-origin:center left;
            transform-origin:center left; }
  .bp3-tether-element-attached-middle.bp3-tether-element-attached-center > .bp3-tooltip{
    -webkit-transform-origin:center center;
            transform-origin:center center; }
  .bp3-tether-element-attached-middle.bp3-tether-element-attached-right > .bp3-tooltip{
    -webkit-transform-origin:center right;
            transform-origin:center right; }
  .bp3-tether-element-attached-bottom.bp3-tether-element-attached-left > .bp3-tooltip{
    -webkit-transform-origin:bottom left;
            transform-origin:bottom left; }
  .bp3-tether-element-attached-bottom.bp3-tether-element-attached-center > .bp3-tooltip{
    -webkit-transform-origin:bottom center;
            transform-origin:bottom center; }
  .bp3-tether-element-attached-bottom.bp3-tether-element-attached-right > .bp3-tooltip{
    -webkit-transform-origin:bottom right;
            transform-origin:bottom right; }
  .bp3-tooltip .bp3-popover-content{
    background:#394b59;
    color:#f5f8fa; }
  .bp3-tooltip .bp3-popover-arrow::before{
    -webkit-box-shadow:1px 1px 6px rgba(16, 22, 26, 0.2);
            box-shadow:1px 1px 6px rgba(16, 22, 26, 0.2); }
  .bp3-tooltip .bp3-popover-arrow-border{
    fill:#10161a;
    fill-opacity:0.1; }
  .bp3-tooltip .bp3-popover-arrow-fill{
    fill:#394b59; }
  .bp3-popover-enter > .bp3-tooltip, .bp3-popover-appear > .bp3-tooltip{
    -webkit-transform:scale(0.8);
            transform:scale(0.8); }
  .bp3-popover-enter-active > .bp3-tooltip, .bp3-popover-appear-active > .bp3-tooltip{
    -webkit-transform:scale(1);
            transform:scale(1);
    -webkit-transition-delay:0;
            transition-delay:0;
    -webkit-transition-duration:100ms;
            transition-duration:100ms;
    -webkit-transition-property:-webkit-transform;
    transition-property:-webkit-transform;
    transition-property:transform;
    transition-property:transform, -webkit-transform;
    -webkit-transition-timing-function:cubic-bezier(0.4, 1, 0.75, 0.9);
            transition-timing-function:cubic-bezier(0.4, 1, 0.75, 0.9); }
  .bp3-popover-exit > .bp3-tooltip{
    -webkit-transform:scale(1);
            transform:scale(1); }
  .bp3-popover-exit-active > .bp3-tooltip{
    -webkit-transform:scale(0.8);
            transform:scale(0.8);
    -webkit-transition-delay:0;
            transition-delay:0;
    -webkit-transition-duration:100ms;
            transition-duration:100ms;
    -webkit-transition-property:-webkit-transform;
    transition-property:-webkit-transform;
    transition-property:transform;
    transition-property:transform, -webkit-transform;
    -webkit-transition-timing-function:cubic-bezier(0.4, 1, 0.75, 0.9);
            transition-timing-function:cubic-bezier(0.4, 1, 0.75, 0.9); }
  .bp3-tooltip .bp3-popover-content{
    padding:10px 12px; }
  .bp3-tooltip.bp3-dark,
  .bp3-dark .bp3-tooltip{
    -webkit-box-shadow:0 0 0 1px rgba(16, 22, 26, 0.2), 0 2px 4px rgba(16, 22, 26, 0.4), 0 8px 24px rgba(16, 22, 26, 0.4);
            box-shadow:0 0 0 1px rgba(16, 22, 26, 0.2), 0 2px 4px rgba(16, 22, 26, 0.4), 0 8px 24px rgba(16, 22, 26, 0.4); }
    .bp3-tooltip.bp3-dark .bp3-popover-content,
    .bp3-dark .bp3-tooltip .bp3-popover-content{
      background:#e1e8ed;
      color:#394b59; }
    .bp3-tooltip.bp3-dark .bp3-popover-arrow::before,
    .bp3-dark .bp3-tooltip .bp3-popover-arrow::before{
      -webkit-box-shadow:1px 1px 6px rgba(16, 22, 26, 0.4);
              box-shadow:1px 1px 6px rgba(16, 22, 26, 0.4); }
    .bp3-tooltip.bp3-dark .bp3-popover-arrow-border,
    .bp3-dark .bp3-tooltip .bp3-popover-arrow-border{
      fill:#10161a;
      fill-opacity:0.2; }
    .bp3-tooltip.bp3-dark .bp3-popover-arrow-fill,
    .bp3-dark .bp3-tooltip .bp3-popover-arrow-fill{
      fill:#e1e8ed; }
  .bp3-tooltip.bp3-intent-primary .bp3-popover-content{
    background:#137cbd;
    color:#ffffff; }
  .bp3-tooltip.bp3-intent-primary .bp3-popover-arrow-fill{
    fill:#137cbd; }
  .bp3-tooltip.bp3-intent-success .bp3-popover-content{
    background:#0f9960;
    color:#ffffff; }
  .bp3-tooltip.bp3-intent-success .bp3-popover-arrow-fill{
    fill:#0f9960; }
  .bp3-tooltip.bp3-intent-warning .bp3-popover-content{
    background:#d9822b;
    color:#ffffff; }
  .bp3-tooltip.bp3-intent-warning .bp3-popover-arrow-fill{
    fill:#d9822b; }
  .bp3-tooltip.bp3-intent-danger .bp3-popover-content{
    background:#db3737;
    color:#ffffff; }
  .bp3-tooltip.bp3-intent-danger .bp3-popover-arrow-fill{
    fill:#db3737; }

.bp3-tooltip-indicator{
  border-bottom:dotted 1px;
  cursor:help; }
.bp3-tree .bp3-icon, .bp3-tree .bp3-icon-standard, .bp3-tree .bp3-icon-large{
  color:#5c7080; }
  .bp3-tree .bp3-icon.bp3-intent-primary, .bp3-tree .bp3-icon-standard.bp3-intent-primary, .bp3-tree .bp3-icon-large.bp3-intent-primary{
    color:#137cbd; }
  .bp3-tree .bp3-icon.bp3-intent-success, .bp3-tree .bp3-icon-standard.bp3-intent-success, .bp3-tree .bp3-icon-large.bp3-intent-success{
    color:#0f9960; }
  .bp3-tree .bp3-icon.bp3-intent-warning, .bp3-tree .bp3-icon-standard.bp3-intent-warning, .bp3-tree .bp3-icon-large.bp3-intent-warning{
    color:#d9822b; }
  .bp3-tree .bp3-icon.bp3-intent-danger, .bp3-tree .bp3-icon-standard.bp3-intent-danger, .bp3-tree .bp3-icon-large.bp3-intent-danger{
    color:#db3737; }

.bp3-tree-node-list{
  list-style:none;
  margin:0;
  padding-left:0; }

.bp3-tree-root{
  background-color:transparent;
  cursor:default;
  padding-left:0;
  position:relative; }

.bp3-tree-node-content-0{
  padding-left:0px; }

.bp3-tree-node-content-1{
  padding-left:23px; }

.bp3-tree-node-content-2{
  padding-left:46px; }

.bp3-tree-node-content-3{
  padding-left:69px; }

.bp3-tree-node-content-4{
  padding-left:92px; }

.bp3-tree-node-content-5{
  padding-left:115px; }

.bp3-tree-node-content-6{
  padding-left:138px; }

.bp3-tree-node-content-7{
  padding-left:161px; }

.bp3-tree-node-content-8{
  padding-left:184px; }

.bp3-tree-node-content-9{
  padding-left:207px; }

.bp3-tree-node-content-10{
  padding-left:230px; }

.bp3-tree-node-content-11{
  padding-left:253px; }

.bp3-tree-node-content-12{
  padding-left:276px; }

.bp3-tree-node-content-13{
  padding-left:299px; }

.bp3-tree-node-content-14{
  padding-left:322px; }

.bp3-tree-node-content-15{
  padding-left:345px; }

.bp3-tree-node-content-16{
  padding-left:368px; }

.bp3-tree-node-content-17{
  padding-left:391px; }

.bp3-tree-node-content-18{
  padding-left:414px; }

.bp3-tree-node-content-19{
  padding-left:437px; }

.bp3-tree-node-content-20{
  padding-left:460px; }

.bp3-tree-node-content{
  -webkit-box-align:center;
      -ms-flex-align:center;
          align-items:center;
  display:-webkit-box;
  display:-ms-flexbox;
  display:flex;
  height:30px;
  padding-right:5px;
  width:100%; }
  .bp3-tree-node-content:hover{
    background-color:rgba(191, 204, 214, 0.4); }

.bp3-tree-node-caret,
.bp3-tree-node-caret-none{
  min-width:30px; }

.bp3-tree-node-caret{
  color:#5c7080;
  cursor:pointer;
  padding:7px;
  -webkit-transform:rotate(0deg);
          transform:rotate(0deg);
  -webkit-transition:-webkit-transform 200ms cubic-bezier(0.4, 1, 0.75, 0.9);
  transition:-webkit-transform 200ms cubic-bezier(0.4, 1, 0.75, 0.9);
  transition:transform 200ms cubic-bezier(0.4, 1, 0.75, 0.9);
  transition:transform 200ms cubic-bezier(0.4, 1, 0.75, 0.9), -webkit-transform 200ms cubic-bezier(0.4, 1, 0.75, 0.9); }
  .bp3-tree-node-caret:hover{
    color:#182026; }
  .bp3-dark .bp3-tree-node-caret{
    color:#a7b6c2; }
    .bp3-dark .bp3-tree-node-caret:hover{
      color:#f5f8fa; }
  .bp3-tree-node-caret.bp3-tree-node-caret-open{
    -webkit-transform:rotate(90deg);
            transform:rotate(90deg); }
  .bp3-tree-node-caret.bp3-icon-standard::before{
    content:""; }

.bp3-tree-node-icon{
  margin-right:7px;
  position:relative; }

.bp3-tree-node-label{
  overflow:hidden;
  text-overflow:ellipsis;
  white-space:nowrap;
  word-wrap:normal;
  -webkit-box-flex:1;
      -ms-flex:1 1 auto;
          flex:1 1 auto;
  position:relative;
  -webkit-user-select:none;
     -moz-user-select:none;
      -ms-user-select:none;
          user-select:none; }
  .bp3-tree-node-label span{
    display:inline; }

.bp3-tree-node-secondary-label{
  padding:0 5px;
  -webkit-user-select:none;
     -moz-user-select:none;
      -ms-user-select:none;
          user-select:none; }
  .bp3-tree-node-secondary-label .bp3-popover-wrapper,
  .bp3-tree-node-secondary-label .bp3-popover-target{
    -webkit-box-align:center;
        -ms-flex-align:center;
            align-items:center;
    display:-webkit-box;
    display:-ms-flexbox;
    display:flex; }

.bp3-tree-node.bp3-disabled .bp3-tree-node-content{
  background-color:inherit;
  color:rgba(92, 112, 128, 0.6);
  cursor:not-allowed; }

.bp3-tree-node.bp3-disabled .bp3-tree-node-caret,
.bp3-tree-node.bp3-disabled .bp3-tree-node-icon{
  color:rgba(92, 112, 128, 0.6);
  cursor:not-allowed; }

.bp3-tree-node.bp3-tree-node-selected > .bp3-tree-node-content{
  background-color:#137cbd; }
  .bp3-tree-node.bp3-tree-node-selected > .bp3-tree-node-content,
  .bp3-tree-node.bp3-tree-node-selected > .bp3-tree-node-content .bp3-icon, .bp3-tree-node.bp3-tree-node-selected > .bp3-tree-node-content .bp3-icon-standard, .bp3-tree-node.bp3-tree-node-selected > .bp3-tree-node-content .bp3-icon-large{
    color:#ffffff; }
  .bp3-tree-node.bp3-tree-node-selected > .bp3-tree-node-content .bp3-tree-node-caret::before{
    color:rgba(255, 255, 255, 0.7); }
  .bp3-tree-node.bp3-tree-node-selected > .bp3-tree-node-content .bp3-tree-node-caret:hover::before{
    color:#ffffff; }

.bp3-dark .bp3-tree-node-content:hover{
  background-color:rgba(92, 112, 128, 0.3); }

.bp3-dark .bp3-tree .bp3-icon, .bp3-dark .bp3-tree .bp3-icon-standard, .bp3-dark .bp3-tree .bp3-icon-large{
  color:#a7b6c2; }
  .bp3-dark .bp3-tree .bp3-icon.bp3-intent-primary, .bp3-dark .bp3-tree .bp3-icon-standard.bp3-intent-primary, .bp3-dark .bp3-tree .bp3-icon-large.bp3-intent-primary{
    color:#137cbd; }
  .bp3-dark .bp3-tree .bp3-icon.bp3-intent-success, .bp3-dark .bp3-tree .bp3-icon-standard.bp3-intent-success, .bp3-dark .bp3-tree .bp3-icon-large.bp3-intent-success{
    color:#0f9960; }
  .bp3-dark .bp3-tree .bp3-icon.bp3-intent-warning, .bp3-dark .bp3-tree .bp3-icon-standard.bp3-intent-warning, .bp3-dark .bp3-tree .bp3-icon-large.bp3-intent-warning{
    color:#d9822b; }
  .bp3-dark .bp3-tree .bp3-icon.bp3-intent-danger, .bp3-dark .bp3-tree .bp3-icon-standard.bp3-intent-danger, .bp3-dark .bp3-tree .bp3-icon-large.bp3-intent-danger{
    color:#db3737; }

.bp3-dark .bp3-tree-node.bp3-tree-node-selected > .bp3-tree-node-content{
  background-color:#137cbd; }
.bp3-omnibar{
  -webkit-filter:blur(0);
          filter:blur(0);
  opacity:1;
  background-color:#ffffff;
  border-radius:3px;
  -webkit-box-shadow:0 0 0 1px rgba(16, 22, 26, 0.1), 0 4px 8px rgba(16, 22, 26, 0.2), 0 18px 46px 6px rgba(16, 22, 26, 0.2);
          box-shadow:0 0 0 1px rgba(16, 22, 26, 0.1), 0 4px 8px rgba(16, 22, 26, 0.2), 0 18px 46px 6px rgba(16, 22, 26, 0.2);
  left:calc(50% - 250px);
  top:20vh;
  width:500px;
  z-index:21; }
  .bp3-omnibar.bp3-overlay-enter, .bp3-omnibar.bp3-overlay-appear{
    -webkit-filter:blur(20px);
            filter:blur(20px);
    opacity:0.2; }
  .bp3-omnibar.bp3-overlay-enter-active, .bp3-omnibar.bp3-overlay-appear-active{
    -webkit-filter:blur(0);
            filter:blur(0);
    opacity:1;
    -webkit-transition-delay:0;
            transition-delay:0;
    -webkit-transition-duration:200ms;
            transition-duration:200ms;
    -webkit-transition-property:opacity, -webkit-filter;
    transition-property:opacity, -webkit-filter;
    transition-property:filter, opacity;
    transition-property:filter, opacity, -webkit-filter;
    -webkit-transition-timing-function:cubic-bezier(0.4, 1, 0.75, 0.9);
            transition-timing-function:cubic-bezier(0.4, 1, 0.75, 0.9); }
  .bp3-omnibar.bp3-overlay-exit{
    -webkit-filter:blur(0);
            filter:blur(0);
    opacity:1; }
  .bp3-omnibar.bp3-overlay-exit-active{
    -webkit-filter:blur(20px);
            filter:blur(20px);
    opacity:0.2;
    -webkit-transition-delay:0;
            transition-delay:0;
    -webkit-transition-duration:200ms;
            transition-duration:200ms;
    -webkit-transition-property:opacity, -webkit-filter;
    transition-property:opacity, -webkit-filter;
    transition-property:filter, opacity;
    transition-property:filter, opacity, -webkit-filter;
    -webkit-transition-timing-function:cubic-bezier(0.4, 1, 0.75, 0.9);
            transition-timing-function:cubic-bezier(0.4, 1, 0.75, 0.9); }
  .bp3-omnibar .bp3-input{
    background-color:transparent;
    border-radius:0; }
    .bp3-omnibar .bp3-input, .bp3-omnibar .bp3-input:focus{
      -webkit-box-shadow:none;
              box-shadow:none; }
  .bp3-omnibar .bp3-menu{
    background-color:transparent;
    border-radius:0;
    -webkit-box-shadow:inset 0 1px 0 rgba(16, 22, 26, 0.15);
            box-shadow:inset 0 1px 0 rgba(16, 22, 26, 0.15);
    max-height:calc(60vh - 40px);
    overflow:auto; }
    .bp3-omnibar .bp3-menu:empty{
      display:none; }
  .bp3-dark .bp3-omnibar, .bp3-omnibar.bp3-dark{
    background-color:#30404d;
    -webkit-box-shadow:0 0 0 1px rgba(16, 22, 26, 0.2), 0 4px 8px rgba(16, 22, 26, 0.4), 0 18px 46px 6px rgba(16, 22, 26, 0.4);
            box-shadow:0 0 0 1px rgba(16, 22, 26, 0.2), 0 4px 8px rgba(16, 22, 26, 0.4), 0 18px 46px 6px rgba(16, 22, 26, 0.4); }

.bp3-omnibar-overlay .bp3-overlay-backdrop{
  background-color:rgba(16, 22, 26, 0.2); }

.bp3-select-popover .bp3-popover-content{
  padding:5px; }

.bp3-select-popover .bp3-input-group{
  margin-bottom:0; }

.bp3-select-popover .bp3-menu{
  max-height:300px;
  max-width:400px;
  overflow:auto;
  padding:0; }
  .bp3-select-popover .bp3-menu:not(:first-child){
    padding-top:5px; }

.bp3-multi-select{
  min-width:150px; }

.bp3-multi-select-popover .bp3-menu{
  max-height:300px;
  max-width:400px;
  overflow:auto; }

.bp3-select-popover .bp3-popover-content{
  padding:5px; }

.bp3-select-popover .bp3-input-group{
  margin-bottom:0; }

.bp3-select-popover .bp3-menu{
  max-height:300px;
  max-width:400px;
  overflow:auto;
  padding:0; }
  .bp3-select-popover .bp3-menu:not(:first-child){
    padding-top:5px; }
/*-----------------------------------------------------------------------------
| Copyright (c) Jupyter Development Team.
| Distributed under the terms of the Modified BSD License.
|----------------------------------------------------------------------------*/

/* This file was auto-generated by ensureUiComponents() in @jupyterlab/buildutils */

/**
 * (DEPRECATED) Support for consuming icons as CSS background images
 */

/* Icons urls */

:root {
  --jp-icon-add: url(data:image/svg+xml;base64,PHN2ZyB4bWxucz0iaHR0cDovL3d3dy53My5vcmcvMjAwMC9zdmciIHdpZHRoPSIxNiIgdmlld0JveD0iMCAwIDI0IDI0Ij4KICA8ZyBjbGFzcz0ianAtaWNvbjMiIGZpbGw9IiM2MTYxNjEiPgogICAgPHBhdGggZD0iTTE5IDEzaC02djZoLTJ2LTZINXYtMmg2VjVoMnY2aDZ2MnoiLz4KICA8L2c+Cjwvc3ZnPgo=);
  --jp-icon-bug: url(data:image/svg+xml;base64,PHN2ZyB2aWV3Qm94PSIwIDAgMjQgMjQiIHdpZHRoPSIxNiIgeG1sbnM9Imh0dHA6Ly93d3cudzMub3JnLzIwMDAvc3ZnIj4KICA8ZyBjbGFzcz0ianAtaWNvbjMganAtaWNvbi1zZWxlY3RhYmxlIiBmaWxsPSIjNjE2MTYxIj4KICAgIDxwYXRoIGQ9Ik0yMCA4aC0yLjgxYy0uNDUtLjc4LTEuMDctMS40NS0xLjgyLTEuOTZMMTcgNC40MSAxNS41OSAzbC0yLjE3IDIuMTdDMTIuOTYgNS4wNiAxMi40OSA1IDEyIDVjLS40OSAwLS45Ni4wNi0xLjQxLjE3TDguNDEgMyA3IDQuNDFsMS42MiAxLjYzQzcuODggNi41NSA3LjI2IDcuMjIgNi44MSA4SDR2MmgyLjA5Yy0uMDUuMzMtLjA5LjY2LS4wOSAxdjFINHYyaDJ2MWMwIC4zNC4wNC42Ny4wOSAxSDR2MmgyLjgxYzEuMDQgMS43OSAyLjk3IDMgNS4xOSAzczQuMTUtMS4yMSA1LjE5LTNIMjB2LTJoLTIuMDljLjA1LS4zMy4wOS0uNjYuMDktMXYtMWgydi0yaC0ydi0xYzAtLjM0LS4wNC0uNjctLjA5LTFIMjBWOHptLTYgOGgtNHYtMmg0djJ6bTAtNGgtNHYtMmg0djJ6Ii8+CiAgPC9nPgo8L3N2Zz4K);
  --jp-icon-build: url(data:image/svg+xml;base64,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);
  --jp-icon-caret-down-empty-thin: url(data:image/svg+xml;base64,PHN2ZyB4bWxucz0iaHR0cDovL3d3dy53My5vcmcvMjAwMC9zdmciIHdpZHRoPSIxNiIgdmlld0JveD0iMCAwIDIwIDIwIj4KCTxnIGNsYXNzPSJqcC1pY29uMyIgZmlsbD0iIzYxNjE2MSIgc2hhcGUtcmVuZGVyaW5nPSJnZW9tZXRyaWNQcmVjaXNpb24iPgoJCTxwb2x5Z29uIGNsYXNzPSJzdDEiIHBvaW50cz0iOS45LDEzLjYgMy42LDcuNCA0LjQsNi42IDkuOSwxMi4yIDE1LjQsNi43IDE2LjEsNy40ICIvPgoJPC9nPgo8L3N2Zz4K);
  --jp-icon-caret-down-empty: url(data:image/svg+xml;base64,PHN2ZyB4bWxucz0iaHR0cDovL3d3dy53My5vcmcvMjAwMC9zdmciIHdpZHRoPSIxNiIgdmlld0JveD0iMCAwIDE4IDE4Ij4KICA8ZyBjbGFzcz0ianAtaWNvbjMiIGZpbGw9IiM2MTYxNjEiIHNoYXBlLXJlbmRlcmluZz0iZ2VvbWV0cmljUHJlY2lzaW9uIj4KICAgIDxwYXRoIGQ9Ik01LjIsNS45TDksOS43bDMuOC0zLjhsMS4yLDEuMmwtNC45LDVsLTQuOS01TDUuMiw1Ljl6Ii8+CiAgPC9nPgo8L3N2Zz4K);
  --jp-icon-caret-down: url(data:image/svg+xml;base64,PHN2ZyB4bWxucz0iaHR0cDovL3d3dy53My5vcmcvMjAwMC9zdmciIHdpZHRoPSIxNiIgdmlld0JveD0iMCAwIDE4IDE4Ij4KICA8ZyBjbGFzcz0ianAtaWNvbjMiIGZpbGw9IiM2MTYxNjEiIHNoYXBlLXJlbmRlcmluZz0iZ2VvbWV0cmljUHJlY2lzaW9uIj4KICAgIDxwYXRoIGQ9Ik01LjIsNy41TDksMTEuMmwzLjgtMy44SDUuMnoiLz4KICA8L2c+Cjwvc3ZnPgo=);
  --jp-icon-caret-left: url(data:image/svg+xml;base64,PHN2ZyB4bWxucz0iaHR0cDovL3d3dy53My5vcmcvMjAwMC9zdmciIHdpZHRoPSIxNiIgdmlld0JveD0iMCAwIDE4IDE4Ij4KCTxnIGNsYXNzPSJqcC1pY29uMyIgZmlsbD0iIzYxNjE2MSIgc2hhcGUtcmVuZGVyaW5nPSJnZW9tZXRyaWNQcmVjaXNpb24iPgoJCTxwYXRoIGQ9Ik0xMC44LDEyLjhMNy4xLDlsMy44LTMuOGwwLDcuNkgxMC44eiIvPgogIDwvZz4KPC9zdmc+Cg==);
  --jp-icon-caret-right: url(data:image/svg+xml;base64,PHN2ZyB4bWxucz0iaHR0cDovL3d3dy53My5vcmcvMjAwMC9zdmciIHdpZHRoPSIxNiIgdmlld0JveD0iMCAwIDE4IDE4Ij4KICA8ZyBjbGFzcz0ianAtaWNvbjMiIGZpbGw9IiM2MTYxNjEiIHNoYXBlLXJlbmRlcmluZz0iZ2VvbWV0cmljUHJlY2lzaW9uIj4KICAgIDxwYXRoIGQ9Ik03LjIsNS4yTDEwLjksOWwtMy44LDMuOFY1LjJINy4yeiIvPgogIDwvZz4KPC9zdmc+Cg==);
  --jp-icon-caret-up-empty-thin: url(data:image/svg+xml;base64,PHN2ZyB4bWxucz0iaHR0cDovL3d3dy53My5vcmcvMjAwMC9zdmciIHdpZHRoPSIxNiIgdmlld0JveD0iMCAwIDIwIDIwIj4KCTxnIGNsYXNzPSJqcC1pY29uMyIgZmlsbD0iIzYxNjE2MSIgc2hhcGUtcmVuZGVyaW5nPSJnZW9tZXRyaWNQcmVjaXNpb24iPgoJCTxwb2x5Z29uIGNsYXNzPSJzdDEiIHBvaW50cz0iMTUuNCwxMy4zIDkuOSw3LjcgNC40LDEzLjIgMy42LDEyLjUgOS45LDYuMyAxNi4xLDEyLjYgIi8+Cgk8L2c+Cjwvc3ZnPgo=);
  --jp-icon-caret-up: url(data:image/svg+xml;base64,PHN2ZyB4bWxucz0iaHR0cDovL3d3dy53My5vcmcvMjAwMC9zdmciIHdpZHRoPSIxNiIgdmlld0JveD0iMCAwIDE4IDE4Ij4KCTxnIGNsYXNzPSJqcC1pY29uMyIgZmlsbD0iIzYxNjE2MSIgc2hhcGUtcmVuZGVyaW5nPSJnZW9tZXRyaWNQcmVjaXNpb24iPgoJCTxwYXRoIGQ9Ik01LjIsMTAuNUw5LDYuOGwzLjgsMy44SDUuMnoiLz4KICA8L2c+Cjwvc3ZnPgo=);
  --jp-icon-case-sensitive: url(data:image/svg+xml;base64,PHN2ZyB4bWxucz0iaHR0cDovL3d3dy53My5vcmcvMjAwMC9zdmciIHdpZHRoPSIxNiIgdmlld0JveD0iMCAwIDIwIDIwIj4KICA8ZyBjbGFzcz0ianAtaWNvbjIiIGZpbGw9IiM0MTQxNDEiPgogICAgPHJlY3QgeD0iMiIgeT0iMiIgd2lkdGg9IjE2IiBoZWlnaHQ9IjE2Ii8+CiAgPC9nPgogIDxnIGNsYXNzPSJqcC1pY29uLWFjY2VudDIiIGZpbGw9IiNGRkYiPgogICAgPHBhdGggZD0iTTcuNiw4aDAuOWwzLjUsOGgtMS4xTDEwLDE0SDZsLTAuOSwySDRMNy42LDh6IE04LDkuMUw2LjQsMTNoMy4yTDgsOS4xeiIvPgogICAgPHBhdGggZD0iTTE2LjYsOS44Yy0wLjIsMC4xLTAuNCwwLjEtMC43LDAuMWMtMC4yLDAtMC40LTAuMS0wLjYtMC4yYy0wLjEtMC4xLTAuMi0wLjQtMC4yLTAuNyBjLTAuMywwLjMtMC42LDAuNS0wLjksMC43Yy0wLjMsMC4xLTAuNywwLjItMS4xLDAuMmMtMC4zLDAtMC41LDAtMC43LTAuMWMtMC4yLTAuMS0wLjQtMC4yLTAuNi0wLjNjLTAuMi0wLjEtMC4zLTAuMy0wLjQtMC41IGMtMC4xLTAuMi0wLjEtMC40LTAuMS0wLjdjMC0wLjMsMC4xLTAuNiwwLjItMC44YzAuMS0wLjIsMC4zLTAuNCwwLjQtMC41QzEyLDcsMTIuMiw2LjksMTIuNSw2LjhjMC4yLTAuMSwwLjUtMC4xLDAuNy0wLjIgYzAuMy0wLjEsMC41LTAuMSwwLjctMC4xYzAuMiwwLDAuNC0wLjEsMC42LTAuMWMwLjIsMCwwLjMtMC4xLDAuNC0wLjJjMC4xLTAuMSwwLjItMC4yLDAuMi0wLjRjMC0xLTEuMS0xLTEuMy0xIGMtMC40LDAtMS40LDAtMS40LDEuMmgtMC45YzAtMC40LDAuMS0wLjcsMC4yLTFjMC4xLTAuMiwwLjMtMC40LDAuNS0wLjZjMC4yLTAuMiwwLjUtMC4zLDAuOC0wLjNDMTMuMyw0LDEzLjYsNCwxMy45LDQgYzAuMywwLDAuNSwwLDAuOCwwLjFjMC4zLDAsMC41LDAuMSwwLjcsMC4yYzAuMiwwLjEsMC40LDAuMywwLjUsMC41QzE2LDUsMTYsNS4yLDE2LDUuNnYyLjljMCwwLjIsMCwwLjQsMCwwLjUgYzAsMC4xLDAuMSwwLjIsMC4zLDAuMmMwLjEsMCwwLjIsMCwwLjMsMFY5Ljh6IE0xNS4yLDYuOWMtMS4yLDAuNi0zLjEsMC4yLTMuMSwxLjRjMCwxLjQsMy4xLDEsMy4xLTAuNVY2Ljl6Ii8+CiAgPC9nPgo8L3N2Zz4K);
  --jp-icon-check: url(data:image/svg+xml;base64,PHN2ZyB4bWxucz0iaHR0cDovL3d3dy53My5vcmcvMjAwMC9zdmciIHdpZHRoPSIxNiIgdmlld0JveD0iMCAwIDI0IDI0Ij4KICA8ZyBjbGFzcz0ianAtaWNvbjMganAtaWNvbi1zZWxlY3RhYmxlIiBmaWxsPSIjNjE2MTYxIj4KICAgIDxwYXRoIGQ9Ik05IDE2LjE3TDQuODMgMTJsLTEuNDIgMS40MUw5IDE5IDIxIDdsLTEuNDEtMS40MXoiLz4KICA8L2c+Cjwvc3ZnPgo=);
  --jp-icon-circle-empty: url(data:image/svg+xml;base64,PHN2ZyB4bWxucz0iaHR0cDovL3d3dy53My5vcmcvMjAwMC9zdmciIHdpZHRoPSIxNiIgdmlld0JveD0iMCAwIDI0IDI0Ij4KICA8ZyBjbGFzcz0ianAtaWNvbjMiIGZpbGw9IiM2MTYxNjEiPgogICAgPHBhdGggZD0iTTEyIDJDNi40NyAyIDIgNi40NyAyIDEyczQuNDcgMTAgMTAgMTAgMTAtNC40NyAxMC0xMFMxNy41MyAyIDEyIDJ6bTAgMThjLTQuNDEgMC04LTMuNTktOC04czMuNTktOCA4LTggOCAzLjU5IDggOC0zLjU5IDgtOCA4eiIvPgogIDwvZz4KPC9zdmc+Cg==);
  --jp-icon-circle: url(data:image/svg+xml;base64,PHN2ZyB2aWV3Qm94PSIwIDAgMTggMTgiIHdpZHRoPSIxNiIgeG1sbnM9Imh0dHA6Ly93d3cudzMub3JnLzIwMDAvc3ZnIj4KICA8ZyBjbGFzcz0ianAtaWNvbjMiIGZpbGw9IiM2MTYxNjEiPgogICAgPGNpcmNsZSBjeD0iOSIgY3k9IjkiIHI9IjgiLz4KICA8L2c+Cjwvc3ZnPgo=);
  --jp-icon-clear: url(data:image/svg+xml;base64,PHN2ZyB4bWxucz0iaHR0cDovL3d3dy53My5vcmcvMjAwMC9zdmciIHdpZHRoPSIxNiIgdmlld0JveD0iMCAwIDI0IDI0Ij4KICA8bWFzayBpZD0iZG9udXRIb2xlIj4KICAgIDxyZWN0IHdpZHRoPSIyNCIgaGVpZ2h0PSIyNCIgZmlsbD0id2hpdGUiIC8+CiAgICA8Y2lyY2xlIGN4PSIxMiIgY3k9IjEyIiByPSI4IiBmaWxsPSJibGFjayIvPgogIDwvbWFzaz4KCiAgPGcgY2xhc3M9ImpwLWljb24zIiBmaWxsPSIjNjE2MTYxIj4KICAgIDxyZWN0IGhlaWdodD0iMTgiIHdpZHRoPSIyIiB4PSIxMSIgeT0iMyIgdHJhbnNmb3JtPSJyb3RhdGUoMzE1LCAxMiwgMTIpIi8+CiAgICA8Y2lyY2xlIGN4PSIxMiIgY3k9IjEyIiByPSIxMCIgbWFzaz0idXJsKCNkb251dEhvbGUpIi8+CiAgPC9nPgo8L3N2Zz4K);
  --jp-icon-close: url(data:image/svg+xml;base64,PHN2ZyB2aWV3Qm94PSIwIDAgMjQgMjQiIHdpZHRoPSIxNiIgeG1sbnM9Imh0dHA6Ly93d3cudzMub3JnLzIwMDAvc3ZnIj4KICA8ZyBjbGFzcz0ianAtaWNvbi1ub25lIGpwLWljb24tc2VsZWN0YWJsZS1pbnZlcnNlIGpwLWljb24zLWhvdmVyIiBmaWxsPSJub25lIj4KICAgIDxjaXJjbGUgY3g9IjEyIiBjeT0iMTIiIHI9IjExIi8+CiAgPC9nPgoKICA8ZyBjbGFzcz0ianAtaWNvbjMganAtaWNvbi1zZWxlY3RhYmxlIGpwLWljb24tYWNjZW50Mi1ob3ZlciIgZmlsbD0iIzYxNjE2MSI+CiAgICA8cGF0aCBkPSJNMTkgNi40MUwxNy41OSA1IDEyIDEwLjU5IDYuNDEgNSA1IDYuNDEgMTAuNTkgMTIgNSAxNy41OSA2LjQxIDE5IDEyIDEzLjQxIDE3LjU5IDE5IDE5IDE3LjU5IDEzLjQxIDEyeiIvPgogIDwvZz4KCiAgPGcgY2xhc3M9ImpwLWljb24tbm9uZSBqcC1pY29uLWJ1c3kiIGZpbGw9Im5vbmUiPgogICAgPGNpcmNsZSBjeD0iMTIiIGN5PSIxMiIgcj0iNyIvPgogIDwvZz4KPC9zdmc+Cg==);
  --jp-icon-code: url(data:image/svg+xml;base64,PHN2ZyB3aWR0aD0iMjIiIGhlaWdodD0iMjIiIHZpZXdCb3g9IjAgMCAyOCAyOCIgeG1sbnM9Imh0dHA6Ly93d3cudzMub3JnLzIwMDAvc3ZnIj4KCTxnIGNsYXNzPSJqcC1pY29uMyIgZmlsbD0iIzYxNjE2MSI+CgkJPHBhdGggZD0iTTExLjQgMTguNkw2LjggMTRMMTEuNCA5LjRMMTAgOEw0IDE0TDEwIDIwTDExLjQgMTguNlpNMTYuNiAxOC42TDIxLjIgMTRMMTYuNiA5LjRMMTggOEwyNCAxNEwxOCAyMEwxNi42IDE4LjZWMTguNloiLz4KCTwvZz4KPC9zdmc+Cg==);
  --jp-icon-console: url(data:image/svg+xml;base64,PHN2ZyB4bWxucz0iaHR0cDovL3d3dy53My5vcmcvMjAwMC9zdmciIHdpZHRoPSIxNiIgdmlld0JveD0iMCAwIDIwMCAyMDAiPgogIDxnIGNsYXNzPSJqcC1pY29uLWJyYW5kMSBqcC1pY29uLXNlbGVjdGFibGUiIGZpbGw9IiMwMjg4RDEiPgogICAgPHBhdGggZD0iTTIwIDE5LjhoMTYwdjE1OS45SDIweiIvPgogIDwvZz4KICA8ZyBjbGFzcz0ianAtaWNvbi1zZWxlY3RhYmxlLWludmVyc2UiIGZpbGw9IiNmZmYiPgogICAgPHBhdGggZD0iTTEwNSAxMjcuM2g0MHYxMi44aC00MHpNNTEuMSA3N0w3NCA5OS45bC0yMy4zIDIzLjMgMTAuNSAxMC41IDIzLjMtMjMuM0w5NSA5OS45IDg0LjUgODkuNCA2MS42IDY2LjV6Ii8+CiAgPC9nPgo8L3N2Zz4K);
  --jp-icon-copy: url(data:image/svg+xml;base64,PHN2ZyB2aWV3Qm94PSIwIDAgMTggMTgiIHdpZHRoPSIxNiIgeG1sbnM9Imh0dHA6Ly93d3cudzMub3JnLzIwMDAvc3ZnIj4KICA8ZyBjbGFzcz0ianAtaWNvbjMiIGZpbGw9IiM2MTYxNjEiPgogICAgPHBhdGggZD0iTTExLjksMUgzLjJDMi40LDEsMS43LDEuNywxLjcsMi41djEwLjJoMS41VjIuNWg4LjdWMXogTTE0LjEsMy45aC04Yy0wLjgsMC0xLjUsMC43LTEuNSwxLjV2MTAuMmMwLDAuOCwwLjcsMS41LDEuNSwxLjVoOCBjMC44LDAsMS41LTAuNywxLjUtMS41VjUuNEMxNS41LDQuNiwxNC45LDMuOSwxNC4xLDMuOXogTTE0LjEsMTUuNWgtOFY1LjRoOFYxNS41eiIvPgogIDwvZz4KPC9zdmc+Cg==);
  --jp-icon-copyright: url(data:image/svg+xml;base64,PHN2ZyB4bWxucz0iaHR0cDovL3d3dy53My5vcmcvMjAwMC9zdmciIGVuYWJsZS1iYWNrZ3JvdW5kPSJuZXcgMCAwIDI0IDI0IiBoZWlnaHQ9IjI0IiB2aWV3Qm94PSIwIDAgMjQgMjQiIHdpZHRoPSIyNCI+CiAgPGcgY2xhc3M9ImpwLWljb24zIiBmaWxsPSIjNjE2MTYxIj4KICAgIDxwYXRoIGQ9Ik0xMS44OCw5LjE0YzEuMjgsMC4wNiwxLjYxLDEuMTUsMS42MywxLjY2aDEuNzljLTAuMDgtMS45OC0xLjQ5LTMuMTktMy40NS0zLjE5QzkuNjQsNy42MSw4LDksOCwxMi4xNCBjMCwxLjk0LDAuOTMsNC4yNCwzLjg0LDQuMjRjMi4yMiwwLDMuNDEtMS42NSwzLjQ0LTIuOTVoLTEuNzljLTAuMDMsMC41OS0wLjQ1LDEuMzgtMS42MywxLjQ0QzEwLjU1LDE0LjgzLDEwLDEzLjgxLDEwLDEyLjE0IEMxMCw5LjI1LDExLjI4LDkuMTYsMTEuODgsOS4xNHogTTEyLDJDNi40OCwyLDIsNi40OCwyLDEyczQuNDgsMTAsMTAsMTBzMTAtNC40OCwxMC0xMFMxNy41MiwyLDEyLDJ6IE0xMiwyMGMtNC40MSwwLTgtMy41OS04LTggczMuNTktOCw4LThzOCwzLjU5LDgsOFMxNi40MSwyMCwxMiwyMHoiLz4KICA8L2c+Cjwvc3ZnPgo=);
  --jp-icon-cut: url(data:image/svg+xml;base64,PHN2ZyB2aWV3Qm94PSIwIDAgMjQgMjQiIHdpZHRoPSIxNiIgeG1sbnM9Imh0dHA6Ly93d3cudzMub3JnLzIwMDAvc3ZnIj4KICA8ZyBjbGFzcz0ianAtaWNvbjMiIGZpbGw9IiM2MTYxNjEiPgogICAgPHBhdGggZD0iTTkuNjQgNy42NGMuMjMtLjUuMzYtMS4wNS4zNi0xLjY0IDAtMi4yMS0xLjc5LTQtNC00UzIgMy43OSAyIDZzMS43OSA0IDQgNGMuNTkgMCAxLjE0LS4xMyAxLjY0LS4zNkwxMCAxMmwtMi4zNiAyLjM2QzcuMTQgMTQuMTMgNi41OSAxNCA2IDE0Yy0yLjIxIDAtNCAxLjc5LTQgNHMxLjc5IDQgNCA0IDQtMS43OSA0LTRjMC0uNTktLjEzLTEuMTQtLjM2LTEuNjRMMTIgMTRsNyA3aDN2LTFMOS42NCA3LjY0ek02IDhjLTEuMSAwLTItLjg5LTItMnMuOS0yIDItMiAyIC44OSAyIDItLjkgMi0yIDJ6bTAgMTJjLTEuMSAwLTItLjg5LTItMnMuOS0yIDItMiAyIC44OSAyIDItLjkgMi0yIDJ6bTYtNy41Yy0uMjggMC0uNS0uMjItLjUtLjVzLjIyLS41LjUtLjUuNS4yMi41LjUtLjIyLjUtLjUuNXpNMTkgM2wtNiA2IDIgMiA3LTdWM3oiLz4KICA8L2c+Cjwvc3ZnPgo=);
  --jp-icon-download: url(data:image/svg+xml;base64,PHN2ZyB2aWV3Qm94PSIwIDAgMjQgMjQiIHdpZHRoPSIxNiIgeG1sbnM9Imh0dHA6Ly93d3cudzMub3JnLzIwMDAvc3ZnIj4KICA8ZyBjbGFzcz0ianAtaWNvbjMiIGZpbGw9IiM2MTYxNjEiPgogICAgPHBhdGggZD0iTTE5IDloLTRWM0g5djZINWw3IDcgNy03ek01IDE4djJoMTR2LTJINXoiLz4KICA8L2c+Cjwvc3ZnPgo=);
  --jp-icon-edit: url(data:image/svg+xml;base64,PHN2ZyB2aWV3Qm94PSIwIDAgMjQgMjQiIHdpZHRoPSIxNiIgeG1sbnM9Imh0dHA6Ly93d3cudzMub3JnLzIwMDAvc3ZnIj4KICA8ZyBjbGFzcz0ianAtaWNvbjMiIGZpbGw9IiM2MTYxNjEiPgogICAgPHBhdGggZD0iTTMgMTcuMjVWMjFoMy43NUwxNy44MSA5Ljk0bC0zLjc1LTMuNzVMMyAxNy4yNXpNMjAuNzEgNy4wNGMuMzktLjM5LjM5LTEuMDIgMC0xLjQxbC0yLjM0LTIuMzRjLS4zOS0uMzktMS4wMi0uMzktMS40MSAwbC0xLjgzIDEuODMgMy43NSAzLjc1IDEuODMtMS44M3oiLz4KICA8L2c+Cjwvc3ZnPgo=);
  --jp-icon-ellipses: url(data:image/svg+xml;base64,PHN2ZyB2aWV3Qm94PSIwIDAgMjQgMjQiIHdpZHRoPSIxNiIgeG1sbnM9Imh0dHA6Ly93d3cudzMub3JnLzIwMDAvc3ZnIj4KICA8ZyBjbGFzcz0ianAtaWNvbjMiIGZpbGw9IiM2MTYxNjEiPgogICAgPGNpcmNsZSBjeD0iNSIgY3k9IjEyIiByPSIyIi8+CiAgICA8Y2lyY2xlIGN4PSIxMiIgY3k9IjEyIiByPSIyIi8+CiAgICA8Y2lyY2xlIGN4PSIxOSIgY3k9IjEyIiByPSIyIi8+CiAgPC9nPgo8L3N2Zz4K);
  --jp-icon-extension: url(data:image/svg+xml;base64,PHN2ZyB4bWxucz0iaHR0cDovL3d3dy53My5vcmcvMjAwMC9zdmciIHdpZHRoPSIxNiIgdmlld0JveD0iMCAwIDI0IDI0Ij4KICA8ZyBjbGFzcz0ianAtaWNvbjMiIGZpbGw9IiM2MTYxNjEiPgogICAgPHBhdGggZD0iTTIwLjUgMTFIMTlWN2MwLTEuMS0uOS0yLTItMmgtNFYzLjVDMTMgMi4xMiAxMS44OCAxIDEwLjUgMVM4IDIuMTIgOCAzLjVWNUg0Yy0xLjEgMC0xLjk5LjktMS45OSAydjMuOEgzLjVjMS40OSAwIDIuNyAxLjIxIDIuNyAyLjdzLTEuMjEgMi43LTIuNyAyLjdIMlYyMGMwIDEuMS45IDIgMiAyaDMuOHYtMS41YzAtMS40OSAxLjIxLTIuNyAyLjctMi43IDEuNDkgMCAyLjcgMS4yMSAyLjcgMi43VjIySDE3YzEuMSAwIDItLjkgMi0ydi00aDEuNWMxLjM4IDAgMi41LTEuMTIgMi41LTIuNVMyMS44OCAxMSAyMC41IDExeiIvPgogIDwvZz4KPC9zdmc+Cg==);
  --jp-icon-fast-forward: url(data:image/svg+xml;base64,PHN2ZyB4bWxucz0iaHR0cDovL3d3dy53My5vcmcvMjAwMC9zdmciIHdpZHRoPSIyNCIgaGVpZ2h0PSIyNCIgdmlld0JveD0iMCAwIDI0IDI0Ij4KICAgIDxnIGNsYXNzPSJqcC1pY29uMyIgZmlsbD0iIzYxNjE2MSI+CiAgICAgICAgPHBhdGggZD0iTTQgMThsOC41LTZMNCA2djEyem05LTEydjEybDguNS02TDEzIDZ6Ii8+CiAgICA8L2c+Cjwvc3ZnPgo=);
  --jp-icon-file-upload: url(data:image/svg+xml;base64,PHN2ZyB4bWxucz0iaHR0cDovL3d3dy53My5vcmcvMjAwMC9zdmciIHdpZHRoPSIxNiIgdmlld0JveD0iMCAwIDI0IDI0Ij4KICA8ZyBjbGFzcz0ianAtaWNvbjMiIGZpbGw9IiM2MTYxNjEiPgogICAgPHBhdGggZD0iTTkgMTZoNnYtNmg0bC03LTctNyA3aDR6bS00IDJoMTR2Mkg1eiIvPgogIDwvZz4KPC9zdmc+Cg==);
  --jp-icon-file: url(data:image/svg+xml;base64,PHN2ZyB4bWxucz0iaHR0cDovL3d3dy53My5vcmcvMjAwMC9zdmciIHdpZHRoPSIxNiIgdmlld0JveD0iMCAwIDIyIDIyIj4KICA8cGF0aCBjbGFzcz0ianAtaWNvbjMganAtaWNvbi1zZWxlY3RhYmxlIiBmaWxsPSIjNjE2MTYxIiBkPSJNMTkuMyA4LjJsLTUuNS01LjVjLS4zLS4zLS43LS41LTEuMi0uNUgzLjljLS44LjEtMS42LjktMS42IDEuOHYxNC4xYzAgLjkuNyAxLjYgMS42IDEuNmgxNC4yYy45IDAgMS42LS43IDEuNi0xLjZWOS40Yy4xLS41LS4xLS45LS40LTEuMnptLTUuOC0zLjNsMy40IDMuNmgtMy40VjQuOXptMy45IDEyLjdINC43Yy0uMSAwLS4yIDAtLjItLjJWNC43YzAtLjIuMS0uMy4yLS4zaDcuMnY0LjRzMCAuOC4zIDEuMWMuMy4zIDEuMS4zIDEuMS4zaDQuM3Y3LjJzLS4xLjItLjIuMnoiLz4KPC9zdmc+Cg==);
  --jp-icon-filter-list: url(data:image/svg+xml;base64,PHN2ZyB4bWxucz0iaHR0cDovL3d3dy53My5vcmcvMjAwMC9zdmciIHdpZHRoPSIxNiIgdmlld0JveD0iMCAwIDI0IDI0Ij4KICA8ZyBjbGFzcz0ianAtaWNvbjMiIGZpbGw9IiM2MTYxNjEiPgogICAgPHBhdGggZD0iTTEwIDE4aDR2LTJoLTR2MnpNMyA2djJoMThWNkgzem0zIDdoMTJ2LTJINnYyeiIvPgogIDwvZz4KPC9zdmc+Cg==);
  --jp-icon-folder: url(data:image/svg+xml;base64,PHN2ZyB4bWxucz0iaHR0cDovL3d3dy53My5vcmcvMjAwMC9zdmciIHdpZHRoPSIxNiIgdmlld0JveD0iMCAwIDI0IDI0Ij4KICA8cGF0aCBjbGFzcz0ianAtaWNvbjMganAtaWNvbi1zZWxlY3RhYmxlIiBmaWxsPSIjNjE2MTYxIiBkPSJNMTAgNEg0Yy0xLjEgMC0xLjk5LjktMS45OSAyTDIgMThjMCAxLjEuOSAyIDIgMmgxNmMxLjEgMCAyLS45IDItMlY4YzAtMS4xLS45LTItMi0yaC04bC0yLTJ6Ii8+Cjwvc3ZnPgo=);
  --jp-icon-html5: url(data:image/svg+xml;base64,PHN2ZyB4bWxucz0iaHR0cDovL3d3dy53My5vcmcvMjAwMC9zdmciIHdpZHRoPSIxNiIgdmlld0JveD0iMCAwIDUxMiA1MTIiPgogIDxwYXRoIGNsYXNzPSJqcC1pY29uMCBqcC1pY29uLXNlbGVjdGFibGUiIGZpbGw9IiMwMDAiIGQ9Ik0xMDguNCAwaDIzdjIyLjhoMjEuMlYwaDIzdjY5aC0yM1Y0NmgtMjF2MjNoLTIzLjJNMjA2IDIzaC0yMC4zVjBoNjMuN3YyM0gyMjl2NDZoLTIzbTUzLjUtNjloMjQuMWwxNC44IDI0LjNMMzEzLjIgMGgyNC4xdjY5aC0yM1YzNC44bC0xNi4xIDI0LjgtMTYuMS0yNC44VjY5aC0yMi42bTg5LjItNjloMjN2NDYuMmgzMi42VjY5aC01NS42Ii8+CiAgPHBhdGggY2xhc3M9ImpwLWljb24tc2VsZWN0YWJsZSIgZmlsbD0iI2U0NGQyNiIgZD0iTTEwNy42IDQ3MWwtMzMtMzcwLjRoMzYyLjhsLTMzIDM3MC4yTDI1NS43IDUxMiIvPgogIDxwYXRoIGNsYXNzPSJqcC1pY29uLXNlbGVjdGFibGUiIGZpbGw9IiNmMTY1MjkiIGQ9Ik0yNTYgNDgwLjVWMTMxaDE0OC4zTDM3NiA0NDciLz4KICA8cGF0aCBjbGFzcz0ianAtaWNvbi1zZWxlY3RhYmxlLWludmVyc2UiIGZpbGw9IiNlYmViZWIiIGQ9Ik0xNDIgMTc2LjNoMTE0djQ1LjRoLTY0LjJsNC4yIDQ2LjVoNjB2NDUuM0gxNTQuNG0yIDIyLjhIMjAybDMuMiAzNi4zIDUwLjggMTMuNnY0Ny40bC05My4yLTI2Ii8+CiAgPHBhdGggY2xhc3M9ImpwLWljb24tc2VsZWN0YWJsZS1pbnZlcnNlIiBmaWxsPSIjZmZmIiBkPSJNMzY5LjYgMTc2LjNIMjU1Ljh2NDUuNGgxMDkuNm0tNC4xIDQ2LjVIMjU1Ljh2NDUuNGg1NmwtNS4zIDU5LTUwLjcgMTMuNnY0Ny4ybDkzLTI1LjgiLz4KPC9zdmc+Cg==);
  --jp-icon-image: url(data:image/svg+xml;base64,PHN2ZyB4bWxucz0iaHR0cDovL3d3dy53My5vcmcvMjAwMC9zdmciIHdpZHRoPSIxNiIgdmlld0JveD0iMCAwIDIyIDIyIj4KICA8cGF0aCBjbGFzcz0ianAtaWNvbi1icmFuZDQganAtaWNvbi1zZWxlY3RhYmxlLWludmVyc2UiIGZpbGw9IiNGRkYiIGQ9Ik0yLjIgMi4yaDE3LjV2MTcuNUgyLjJ6Ii8+CiAgPHBhdGggY2xhc3M9ImpwLWljb24tYnJhbmQwIGpwLWljb24tc2VsZWN0YWJsZSIgZmlsbD0iIzNGNTFCNSIgZD0iTTIuMiAyLjJ2MTcuNWgxNy41bC4xLTE3LjVIMi4yem0xMi4xIDIuMmMxLjIgMCAyLjIgMSAyLjIgMi4ycy0xIDIuMi0yLjIgMi4yLTIuMi0xLTIuMi0yLjIgMS0yLjIgMi4yLTIuMnpNNC40IDE3LjZsMy4zLTguOCAzLjMgNi42IDIuMi0zLjIgNC40IDUuNEg0LjR6Ii8+Cjwvc3ZnPgo=);
  --jp-icon-inspector: url(data:image/svg+xml;base64,PHN2ZyB4bWxucz0iaHR0cDovL3d3dy53My5vcmcvMjAwMC9zdmciIHdpZHRoPSIxNiIgdmlld0JveD0iMCAwIDI0IDI0Ij4KICA8cGF0aCBjbGFzcz0ianAtaWNvbjMganAtaWNvbi1zZWxlY3RhYmxlIiBmaWxsPSIjNjE2MTYxIiBkPSJNMjAgNEg0Yy0xLjEgMC0xLjk5LjktMS45OSAyTDIgMThjMCAxLjEuOSAyIDIgMmgxNmMxLjEgMCAyLS45IDItMlY2YzAtMS4xLS45LTItMi0yem0tNSAxNEg0di00aDExdjR6bTAtNUg0VjloMTF2NHptNSA1aC00VjloNHY5eiIvPgo8L3N2Zz4K);
  --jp-icon-json: url(data:image/svg+xml;base64,PHN2ZyB4bWxucz0iaHR0cDovL3d3dy53My5vcmcvMjAwMC9zdmciIHdpZHRoPSIxNiIgdmlld0JveD0iMCAwIDIyIDIyIj4KICA8ZyBjbGFzcz0ianAtaWNvbi13YXJuMSBqcC1pY29uLXNlbGVjdGFibGUiIGZpbGw9IiNGOUE4MjUiPgogICAgPHBhdGggZD0iTTIwLjIgMTEuOGMtMS42IDAtMS43LjUtMS43IDEgMCAuNC4xLjkuMSAxLjMuMS41LjEuOS4xIDEuMyAwIDEuNy0xLjQgMi4zLTMuNSAyLjNoLS45di0xLjloLjVjMS4xIDAgMS40IDAgMS40LS44IDAtLjMgMC0uNi0uMS0xIDAtLjQtLjEtLjgtLjEtMS4yIDAtMS4zIDAtMS44IDEuMy0yLTEuMy0uMi0xLjMtLjctMS4zLTIgMC0uNC4xLS44LjEtMS4yLjEtLjQuMS0uNy4xLTEgMC0uOC0uNC0uNy0xLjQtLjhoLS41VjQuMWguOWMyLjIgMCAzLjUuNyAzLjUgMi4zIDAgLjQtLjEuOS0uMSAxLjMtLjEuNS0uMS45LS4xIDEuMyAwIC41LjIgMSAxLjcgMXYxLjh6TTEuOCAxMC4xYzEuNiAwIDEuNy0uNSAxLjctMSAwLS40LS4xLS45LS4xLTEuMy0uMS0uNS0uMS0uOS0uMS0xLjMgMC0xLjYgMS40LTIuMyAzLjUtMi4zaC45djEuOWgtLjVjLTEgMC0xLjQgMC0xLjQuOCAwIC4zIDAgLjYuMSAxIDAgLjIuMS42LjEgMSAwIDEuMyAwIDEuOC0xLjMgMkM2IDExLjIgNiAxMS43IDYgMTNjMCAuNC0uMS44LS4xIDEuMi0uMS4zLS4xLjctLjEgMSAwIC44LjMuOCAxLjQuOGguNXYxLjloLS45Yy0yLjEgMC0zLjUtLjYtMy41LTIuMyAwLS40LjEtLjkuMS0xLjMuMS0uNS4xLS45LjEtMS4zIDAtLjUtLjItMS0xLjctMXYtMS45eiIvPgogICAgPGNpcmNsZSBjeD0iMTEiIGN5PSIxMy44IiByPSIyLjEiLz4KICAgIDxjaXJjbGUgY3g9IjExIiBjeT0iOC4yIiByPSIyLjEiLz4KICA8L2c+Cjwvc3ZnPgo=);
  --jp-icon-julia: url(data:image/svg+xml;base64,PHN2ZyB4bWxucz0iaHR0cDovL3d3dy53My5vcmcvMjAwMC9zdmciIHdpZHRoPSIxNiIgdmlld0JveD0iMCAwIDMyNSAzMDAiPgogIDxnIGNsYXNzPSJqcC1icmFuZDAganAtaWNvbi1zZWxlY3RhYmxlIiBmaWxsPSIjY2IzYzMzIj4KICAgIDxwYXRoIGQ9Ik0gMTUwLjg5ODQzOCAyMjUgQyAxNTAuODk4NDM4IDI2Ni40MjE4NzUgMTE3LjMyMDMxMiAzMDAgNzUuODk4NDM4IDMwMCBDIDM0LjQ3NjU2MiAzMDAgMC44OTg0MzggMjY2LjQyMTg3NSAwLjg5ODQzOCAyMjUgQyAwLjg5ODQzOCAxODMuNTc4MTI1IDM0LjQ3NjU2MiAxNTAgNzUuODk4NDM4IDE1MCBDIDExNy4zMjAzMTIgMTUwIDE1MC44OTg0MzggMTgzLjU3ODEyNSAxNTAuODk4NDM4IDIyNSIvPgogIDwvZz4KICA8ZyBjbGFzcz0ianAtYnJhbmQwIGpwLWljb24tc2VsZWN0YWJsZSIgZmlsbD0iIzM4OTgyNiI+CiAgICA8cGF0aCBkPSJNIDIzNy41IDc1IEMgMjM3LjUgMTE2LjQyMTg3NSAyMDMuOTIxODc1IDE1MCAxNjIuNSAxNTAgQyAxMjEuMDc4MTI1IDE1MCA4Ny41IDExNi40MjE4NzUgODcuNSA3NSBDIDg3LjUgMzMuNTc4MTI1IDEyMS4wNzgxMjUgMCAxNjIuNSAwIEMgMjAzLjkyMTg3NSAwIDIzNy41IDMzLjU3ODEyNSAyMzcuNSA3NSIvPgogIDwvZz4KICA8ZyBjbGFzcz0ianAtYnJhbmQwIGpwLWljb24tc2VsZWN0YWJsZSIgZmlsbD0iIzk1NThiMiI+CiAgICA8cGF0aCBkPSJNIDMyNC4xMDE1NjIgMjI1IEMgMzI0LjEwMTU2MiAyNjYuNDIxODc1IDI5MC41MjM0MzggMzAwIDI0OS4xMDE1NjIgMzAwIEMgMjA3LjY3OTY4OCAzMDAgMTc0LjEwMTU2MiAyNjYuNDIxODc1IDE3NC4xMDE1NjIgMjI1IEMgMTc0LjEwMTU2MiAxODMuNTc4MTI1IDIwNy42Nzk2ODggMTUwIDI0OS4xMDE1NjIgMTUwIEMgMjkwLjUyMzQzOCAxNTAgMzI0LjEwMTU2MiAxODMuNTc4MTI1IDMyNC4xMDE1NjIgMjI1Ii8+CiAgPC9nPgo8L3N2Zz4K);
  --jp-icon-jupyter-favicon: url(data:image/svg+xml;base64,PHN2ZyB3aWR0aD0iMTUyIiBoZWlnaHQ9IjE2NSIgdmlld0JveD0iMCAwIDE1MiAxNjUiIHZlcnNpb249IjEuMSIgeG1sbnM9Imh0dHA6Ly93d3cudzMub3JnLzIwMDAvc3ZnIj4KICA8ZyBjbGFzcz0ianAtaWNvbi13YXJuMCIgZmlsbD0iI0YzNzcyNiI+CiAgICA8cGF0aCB0cmFuc2Zvcm09InRyYW5zbGF0ZSgwLjA3ODk0NywgMTEwLjU4MjkyNykiIGQ9Ik03NS45NDIyODQyLDI5LjU4MDQ1NjEgQzQzLjMwMjM5NDcsMjkuNTgwNDU2MSAxNC43OTY3ODMyLDE3LjY1MzQ2MzQgMCwwIEM1LjUxMDgzMjExLDE1Ljg0MDY4MjkgMTUuNzgxNTM4OSwyOS41NjY3NzMyIDI5LjM5MDQ5NDcsMzkuMjc4NDE3MSBDNDIuOTk5Nyw0OC45ODk4NTM3IDU5LjI3MzcsNTQuMjA2NzgwNSA3NS45NjA1Nzg5LDU0LjIwNjc4MDUgQzkyLjY0NzQ1NzksNTQuMjA2NzgwNSAxMDguOTIxNDU4LDQ4Ljk4OTg1MzcgMTIyLjUzMDY2MywzOS4yNzg0MTcxIEMxMzYuMTM5NDUzLDI5LjU2Njc3MzIgMTQ2LjQxMDI4NCwxNS44NDA2ODI5IDE1MS45MjExNTgsMCBDMTM3LjA4Nzg2OCwxNy42NTM0NjM0IDEwOC41ODI1ODksMjkuNTgwNDU2MSA3NS45NDIyODQyLDI5LjU4MDQ1NjEgTDc1Ljk0MjI4NDIsMjkuNTgwNDU2MSBaIiAvPgogICAgPHBhdGggdHJhbnNmb3JtPSJ0cmFuc2xhdGUoMC4wMzczNjgsIDAuNzA0ODc4KSIgZD0iTTc1Ljk3ODQ1NzksMjQuNjI2NDA3MyBDMTA4LjYxODc2MywyNC42MjY0MDczIDEzNy4xMjQ0NTgsMzYuNTUzNDQxNSAxNTEuOTIxMTU4LDU0LjIwNjc4MDUgQzE0Ni40MTAyODQsMzguMzY2MjIyIDEzNi4xMzk0NTMsMjQuNjQwMTMxNyAxMjIuNTMwNjYzLDE0LjkyODQ4NzggQzEwOC45MjE0NTgsNS4yMTY4NDM5IDkyLjY0NzQ1NzksMCA3NS45NjA1Nzg5LDAgQzU5LjI3MzcsMCA0Mi45OTk3LDUuMjE2ODQzOSAyOS4zOTA0OTQ3LDE0LjkyODQ4NzggQzE1Ljc4MTUzODksMjQuNjQwMTMxNyA1LjUxMDgzMjExLDM4LjM2NjIyMiAwLDU0LjIwNjc4MDUgQzE0LjgzMzA4MTYsMzYuNTg5OTI5MyA0My4zMzg1Njg0LDI0LjYyNjQwNzMgNzUuOTc4NDU3OSwyNC42MjY0MDczIEw3NS45Nzg0NTc5LDI0LjYyNjQwNzMgWiIgLz4KICA8L2c+Cjwvc3ZnPgo=);
  --jp-icon-jupyter: url(data:image/svg+xml;base64,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);
  --jp-icon-jupyterlab-wordmark: url(data:image/svg+xml;base64,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);
  --jp-icon-kernel: url(data:image/svg+xml;base64,PHN2ZyB4bWxucz0iaHR0cDovL3d3dy53My5vcmcvMjAwMC9zdmciIHdpZHRoPSIxNiIgdmlld0JveD0iMCAwIDI0IDI0Ij4KICAgIDxwYXRoIGNsYXNzPSJqcC1pY29uMiIgZmlsbD0iIzYxNjE2MSIgZD0iTTE1IDlIOXY2aDZWOXptLTIgNGgtMnYtMmgydjJ6bTgtMlY5aC0yVjdjMC0xLjEtLjktMi0yLTJoLTJWM2gtMnYyaC0yVjNIOXYySDdjLTEuMSAwLTIgLjktMiAydjJIM3YyaDJ2MkgzdjJoMnYyYzAgMS4xLjkgMiAyIDJoMnYyaDJ2LTJoMnYyaDJ2LTJoMmMxLjEgMCAyLS45IDItMnYtMmgydi0yaC0ydi0yaDJ6bS00IDZIN1Y3aDEwdjEweiIvPgo8L3N2Zz4K);
  --jp-icon-keyboard: url(data:image/svg+xml;base64,PHN2ZyB4bWxucz0iaHR0cDovL3d3dy53My5vcmcvMjAwMC9zdmciIHdpZHRoPSIxNiIgdmlld0JveD0iMCAwIDI0IDI0Ij4KICA8cGF0aCBjbGFzcz0ianAtaWNvbjMganAtaWNvbi1zZWxlY3RhYmxlIiBmaWxsPSIjNjE2MTYxIiBkPSJNMjAgNUg0Yy0xLjEgMC0xLjk5LjktMS45OSAyTDIgMTdjMCAxLjEuOSAyIDIgMmgxNmMxLjEgMCAyLS45IDItMlY3YzAtMS4xLS45LTItMi0yem0tOSAzaDJ2MmgtMlY4em0wIDNoMnYyaC0ydi0yek04IDhoMnYySDhWOHptMCAzaDJ2Mkg4di0yem0tMSAySDV2LTJoMnYyem0wLTNINVY4aDJ2MnptOSA3SDh2LTJoOHYyem0wLTRoLTJ2LTJoMnYyem0wLTNoLTJWOGgydjJ6bTMgM2gtMnYtMmgydjJ6bTAtM2gtMlY4aDJ2MnoiLz4KPC9zdmc+Cg==);
  --jp-icon-launcher: url(data:image/svg+xml;base64,PHN2ZyB4bWxucz0iaHR0cDovL3d3dy53My5vcmcvMjAwMC9zdmciIHdpZHRoPSIxNiIgdmlld0JveD0iMCAwIDI0IDI0Ij4KICA8cGF0aCBjbGFzcz0ianAtaWNvbjMganAtaWNvbi1zZWxlY3RhYmxlIiBmaWxsPSIjNjE2MTYxIiBkPSJNMTkgMTlINVY1aDdWM0g1YTIgMiAwIDAwLTIgMnYxNGEyIDIgMCAwMDIgMmgxNGMxLjEgMCAyLS45IDItMnYtN2gtMnY3ek0xNCAzdjJoMy41OWwtOS44MyA5LjgzIDEuNDEgMS40MUwxOSA2LjQxVjEwaDJWM2gtN3oiLz4KPC9zdmc+Cg==);
  --jp-icon-line-form: url(data:image/svg+xml;base64,PHN2ZyB4bWxucz0iaHR0cDovL3d3dy53My5vcmcvMjAwMC9zdmciIHdpZHRoPSIxNiIgdmlld0JveD0iMCAwIDI0IDI0Ij4KICAgIDxwYXRoIGZpbGw9IndoaXRlIiBkPSJNNS44OCA0LjEyTDEzLjc2IDEybC03Ljg4IDcuODhMOCAyMmwxMC0xMEw4IDJ6Ii8+Cjwvc3ZnPgo=);
  --jp-icon-link: url(data:image/svg+xml;base64,PHN2ZyB2aWV3Qm94PSIwIDAgMjQgMjQiIHdpZHRoPSIxNiIgeG1sbnM9Imh0dHA6Ly93d3cudzMub3JnLzIwMDAvc3ZnIj4KICA8ZyBjbGFzcz0ianAtaWNvbjMiIGZpbGw9IiM2MTYxNjEiPgogICAgPHBhdGggZD0iTTMuOSAxMmMwLTEuNzEgMS4zOS0zLjEgMy4xLTMuMWg0VjdIN2MtMi43NiAwLTUgMi4yNC01IDVzMi4yNCA1IDUgNWg0di0xLjlIN2MtMS43MSAwLTMuMS0xLjM5LTMuMS0zLjF6TTggMTNoOHYtMkg4djJ6bTktNmgtNHYxLjloNGMxLjcxIDAgMy4xIDEuMzkgMy4xIDMuMXMtMS4zOSAzLjEtMy4xIDMuMWgtNFYxN2g0YzIuNzYgMCA1LTIuMjQgNS01cy0yLjI0LTUtNS01eiIvPgogIDwvZz4KPC9zdmc+Cg==);
  --jp-icon-list: url(data:image/svg+xml;base64,PHN2ZyB4bWxucz0iaHR0cDovL3d3dy53My5vcmcvMjAwMC9zdmciIHdpZHRoPSIxNiIgdmlld0JveD0iMCAwIDI0IDI0Ij4KICAgIDxwYXRoIGNsYXNzPSJqcC1pY29uMiBqcC1pY29uLXNlbGVjdGFibGUiIGZpbGw9IiM2MTYxNjEiIGQ9Ik0xOSA1djE0SDVWNWgxNG0xLjEtMkgzLjljLS41IDAtLjkuNC0uOS45djE2LjJjMCAuNC40LjkuOS45aDE2LjJjLjQgMCAuOS0uNS45LS45VjMuOWMwLS41LS41LS45LS45LS45ek0xMSA3aDZ2MmgtNlY3em0wIDRoNnYyaC02di0yem0wIDRoNnYyaC02ek03IDdoMnYySDd6bTAgNGgydjJIN3ptMCA0aDJ2Mkg3eiIvPgo8L3N2Zz4=);
  --jp-icon-listings-info: url(data:image/svg+xml;base64,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);
  --jp-icon-markdown: url(data:image/svg+xml;base64,PHN2ZyB4bWxucz0iaHR0cDovL3d3dy53My5vcmcvMjAwMC9zdmciIHdpZHRoPSIxNiIgdmlld0JveD0iMCAwIDIyIDIyIj4KICA8cGF0aCBjbGFzcz0ianAtaWNvbi1jb250cmFzdDAganAtaWNvbi1zZWxlY3RhYmxlIiBmaWxsPSIjN0IxRkEyIiBkPSJNNSAxNC45aDEybC02LjEgNnptOS40LTYuOGMwLTEuMy0uMS0yLjktLjEtNC41LS40IDEuNC0uOSAyLjktMS4zIDQuM2wtMS4zIDQuM2gtMkw4LjUgNy45Yy0uNC0xLjMtLjctMi45LTEtNC4zLS4xIDEuNi0uMSAzLjItLjIgNC42TDcgMTIuNEg0LjhsLjctMTFoMy4zTDEwIDVjLjQgMS4yLjcgMi43IDEgMy45LjMtMS4yLjctMi42IDEtMy45bDEuMi0zLjdoMy4zbC42IDExaC0yLjRsLS4zLTQuMnoiLz4KPC9zdmc+Cg==);
  --jp-icon-new-folder: url(data:image/svg+xml;base64,PHN2ZyB4bWxucz0iaHR0cDovL3d3dy53My5vcmcvMjAwMC9zdmciIHdpZHRoPSIxNiIgdmlld0JveD0iMCAwIDI0IDI0Ij4KICA8ZyBjbGFzcz0ianAtaWNvbjMiIGZpbGw9IiM2MTYxNjEiPgogICAgPHBhdGggZD0iTTIwIDZoLThsLTItMkg0Yy0xLjExIDAtMS45OS44OS0xLjk5IDJMMiAxOGMwIDEuMTEuODkgMiAyIDJoMTZjMS4xMSAwIDItLjg5IDItMlY4YzAtMS4xMS0uODktMi0yLTJ6bS0xIDhoLTN2M2gtMnYtM2gtM3YtMmgzVjloMnYzaDN2MnoiLz4KICA8L2c+Cjwvc3ZnPgo=);
  --jp-icon-not-trusted: url(data:image/svg+xml;base64,PHN2ZyBmaWxsPSJub25lIiB4bWxucz0iaHR0cDovL3d3dy53My5vcmcvMjAwMC9zdmciIHdpZHRoPSIxNiIgdmlld0JveD0iMCAwIDI1IDI1Ij4KICAgIDxwYXRoIGNsYXNzPSJqcC1pY29uMiIgc3Ryb2tlPSIjMzMzMzMzIiBzdHJva2Utd2lkdGg9IjIiIHRyYW5zZm9ybT0idHJhbnNsYXRlKDMgMykiIGQ9Ik0xLjg2MDk0IDExLjQ0MDlDMC44MjY0NDggOC43NzAyNyAwLjg2Mzc3OSA2LjA1NzY0IDEuMjQ5MDcgNC4xOTkzMkMyLjQ4MjA2IDMuOTMzNDcgNC4wODA2OCAzLjQwMzQ3IDUuNjAxMDIgMi44NDQ5QzcuMjM1NDkgMi4yNDQ0IDguODU2NjYgMS41ODE1IDkuOTg3NiAxLjA5NTM5QzExLjA1OTcgMS41ODM0MSAxMi42MDk0IDIuMjQ0NCAxNC4yMTggMi44NDMzOUMxNS43NTAzIDMuNDEzOTQgMTcuMzk5NSAzLjk1MjU4IDE4Ljc1MzkgNC4yMTM4NUMxOS4xMzY0IDYuMDcxNzcgMTkuMTcwOSA4Ljc3NzIyIDE4LjEzOSAxMS40NDA5QzE3LjAzMDMgMTQuMzAzMiAxNC42NjY4IDE3LjE4NDQgOS45OTk5OSAxOC45MzU0QzUuMzMzMTkgMTcuMTg0NCAyLjk2OTY4IDE0LjMwMzIgMS44NjA5NCAxMS40NDA5WiIvPgogICAgPHBhdGggY2xhc3M9ImpwLWljb24yIiBzdHJva2U9IiMzMzMzMzMiIHN0cm9rZS13aWR0aD0iMiIgdHJhbnNmb3JtPSJ0cmFuc2xhdGUoOS4zMTU5MiA5LjMyMDMxKSIgZD0iTTcuMzY4NDIgMEwwIDcuMzY0NzkiLz4KICAgIDxwYXRoIGNsYXNzPSJqcC1pY29uMiIgc3Ryb2tlPSIjMzMzMzMzIiBzdHJva2Utd2lkdGg9IjIiIHRyYW5zZm9ybT0idHJhbnNsYXRlKDkuMzE1OTIgMTYuNjgzNikgc2NhbGUoMSAtMSkiIGQ9Ik03LjM2ODQyIDBMMCA3LjM2NDc5Ii8+Cjwvc3ZnPgo=);
  --jp-icon-notebook: url(data:image/svg+xml;base64,PHN2ZyB4bWxucz0iaHR0cDovL3d3dy53My5vcmcvMjAwMC9zdmciIHdpZHRoPSIxNiIgdmlld0JveD0iMCAwIDIyIDIyIj4KICA8ZyBjbGFzcz0ianAtaWNvbi13YXJuMCBqcC1pY29uLXNlbGVjdGFibGUiIGZpbGw9IiNFRjZDMDAiPgogICAgPHBhdGggZD0iTTE4LjcgMy4zdjE1LjRIMy4zVjMuM2gxNS40bTEuNS0xLjVIMS44djE4LjNoMTguM2wuMS0xOC4zeiIvPgogICAgPHBhdGggZD0iTTE2LjUgMTYuNWwtNS40LTQuMy01LjYgNC4zdi0xMWgxMXoiLz4KICA8L2c+Cjwvc3ZnPgo=);
  --jp-icon-numbering: url(data:image/svg+xml;base64,PHN2ZyB3aWR0aD0iMjIiIGhlaWdodD0iMjIiIHZpZXdCb3g9IjAgMCAyOCAyOCIgeG1sbnM9Imh0dHA6Ly93d3cudzMub3JnLzIwMDAvc3ZnIj4KCTxnIGNsYXNzPSJqcC1pY29uMyIgZmlsbD0iIzYxNjE2MSI+CgkJPHBhdGggZD0iTTQgMTlINlYxOS41SDVWMjAuNUg2VjIxSDRWMjJIN1YxOEg0VjE5Wk01IDEwSDZWNkg0VjdINVYxMFpNNCAxM0g1LjhMNCAxNS4xVjE2SDdWMTVINS4yTDcgMTIuOVYxMkg0VjEzWk05IDdWOUgyM1Y3SDlaTTkgMjFIMjNWMTlIOVYyMVpNOSAxNUgyM1YxM0g5VjE1WiIvPgoJPC9nPgo8L3N2Zz4K);
  --jp-icon-offline-bolt: url(data:image/svg+xml;base64,PHN2ZyB4bWxucz0iaHR0cDovL3d3dy53My5vcmcvMjAwMC9zdmciIHZpZXdCb3g9IjAgMCAyNCAyNCIgd2lkdGg9IjE2Ij4KICA8ZyBjbGFzcz0ianAtaWNvbjMiIGZpbGw9IiM2MTYxNjEiPgogICAgPHBhdGggZD0iTTEyIDIuMDJjLTUuNTEgMC05Ljk4IDQuNDctOS45OCA5Ljk4czQuNDcgOS45OCA5Ljk4IDkuOTggOS45OC00LjQ3IDkuOTgtOS45OFMxNy41MSAyLjAyIDEyIDIuMDJ6TTExLjQ4IDIwdi02LjI2SDhMMTMgNHY2LjI2aDMuMzVMMTEuNDggMjB6Ii8+CiAgPC9nPgo8L3N2Zz4K);
  --jp-icon-palette: url(data:image/svg+xml;base64,PHN2ZyB4bWxucz0iaHR0cDovL3d3dy53My5vcmcvMjAwMC9zdmciIHdpZHRoPSIxNiIgdmlld0JveD0iMCAwIDI0IDI0Ij4KICA8ZyBjbGFzcz0ianAtaWNvbjMiIGZpbGw9IiM2MTYxNjEiPgogICAgPHBhdGggZD0iTTE4IDEzVjIwSDRWNkg5LjAyQzkuMDcgNS4yOSA5LjI0IDQuNjIgOS41IDRINEMyLjkgNCAyIDQuOSAyIDZWMjBDMiAyMS4xIDIuOSAyMiA0IDIySDE4QzE5LjEgMjIgMjAgMjEuMSAyMCAyMFYxNUwxOCAxM1pNMTkuMyA4Ljg5QzE5Ljc0IDguMTkgMjAgNy4zOCAyMCA2LjVDMjAgNC4wMSAxNy45OSAyIDE1LjUgMkMxMy4wMSAyIDExIDQuMDEgMTEgNi41QzExIDguOTkgMTMuMDEgMTEgMTUuNDkgMTFDMTYuMzcgMTEgMTcuMTkgMTAuNzQgMTcuODggMTAuM0wyMSAxMy40MkwyMi40MiAxMkwxOS4zIDguODlaTTE1LjUgOUMxNC4xMiA5IDEzIDcuODggMTMgNi41QzEzIDUuMTIgMTQuMTIgNCAxNS41IDRDMTYuODggNCAxOCA1LjEyIDE4IDYuNUMxOCA3Ljg4IDE2Ljg4IDkgMTUuNSA5WiIvPgogICAgPHBhdGggZmlsbC1ydWxlPSJldmVub2RkIiBjbGlwLXJ1bGU9ImV2ZW5vZGQiIGQ9Ik00IDZIOS4wMTg5NEM5LjAwNjM5IDYuMTY1MDIgOSA2LjMzMTc2IDkgNi41QzkgOC44MTU3NyAxMC4yMTEgMTAuODQ4NyAxMi4wMzQzIDEySDlWMTRIMTZWMTIuOTgxMUMxNi41NzAzIDEyLjkzNzcgMTcuMTIgMTIuODIwNyAxNy42Mzk2IDEyLjYzOTZMMTggMTNWMjBINFY2Wk04IDhINlYxMEg4VjhaTTYgMTJIOFYxNEg2VjEyWk04IDE2SDZWMThIOFYxNlpNOSAxNkgxNlYxOEg5VjE2WiIvPgogIDwvZz4KPC9zdmc+Cg==);
  --jp-icon-paste: url(data:image/svg+xml;base64,PHN2ZyBoZWlnaHQ9IjI0IiB2aWV3Qm94PSIwIDAgMjQgMjQiIHdpZHRoPSIyNCIgeG1sbnM9Imh0dHA6Ly93d3cudzMub3JnLzIwMDAvc3ZnIj4KICAgIDxnIGNsYXNzPSJqcC1pY29uMyIgZmlsbD0iIzYxNjE2MSI+CiAgICAgICAgPHBhdGggZD0iTTE5IDJoLTQuMThDMTQuNC44NCAxMy4zIDAgMTIgMGMtMS4zIDAtMi40Ljg0LTIuODIgMkg1Yy0xLjEgMC0yIC45LTIgMnYxNmMwIDEuMS45IDIgMiAyaDE0YzEuMSAwIDItLjkgMi0yVjRjMC0xLjEtLjktMi0yLTJ6bS03IDBjLjU1IDAgMSAuNDUgMSAxcy0uNDUgMS0xIDEtMS0uNDUtMS0xIC40NS0xIDEtMXptNyAxOEg1VjRoMnYzaDEwVjRoMnYxNnoiLz4KICAgIDwvZz4KPC9zdmc+Cg==);
  --jp-icon-pdf: url(data:image/svg+xml;base64,PHN2ZwogICB4bWxucz0iaHR0cDovL3d3dy53My5vcmcvMjAwMC9zdmciIHZpZXdCb3g9IjAgMCAyMiAyMiIgd2lkdGg9IjE2Ij4KICAgIDxwYXRoIHRyYW5zZm9ybT0icm90YXRlKDQ1KSIgY2xhc3M9ImpwLWljb24tc2VsZWN0YWJsZSIgZmlsbD0iI0ZGMkEyQSIKICAgICAgIGQ9Im0gMjIuMzQ0MzY5LC0zLjAxNjM2NDIgaCA1LjYzODYwNCB2IDEuNTc5MjQzMyBoIC0zLjU0OTIyNyB2IDEuNTA4NjkyOTkgaCAzLjMzNzU3NiBWIDEuNjUwODE1NCBoIC0zLjMzNzU3NiB2IDMuNDM1MjYxMyBoIC0yLjA4OTM3NyB6IG0gLTcuMTM2NDQ0LDEuNTc5MjQzMyB2IDQuOTQzOTU0MyBoIDAuNzQ4OTIgcSAxLjI4MDc2MSwwIDEuOTUzNzAzLC0wLjYzNDk1MzUgMC42NzgzNjksLTAuNjM0OTUzNSAwLjY3ODM2OSwtMS44NDUxNjQxIDAsLTEuMjA0NzgzNTUgLTAuNjcyOTQyLC0xLjgzNDMxMDExIC0wLjY3Mjk0MiwtMC42Mjk1MjY1OSAtMS45NTkxMywtMC42Mjk1MjY1OSB6IG0gLTIuMDg5Mzc3LC0xLjU3OTI0MzMgaCAyLjIwMzM0MyBxIDEuODQ1MTY0LDAgMi43NDYwMzksMC4yNjU5MjA3IDAuOTA2MzAxLDAuMjYwNDkzNyAxLjU1MjEwOCwwLjg5MDAyMDMgMC41Njk4MywwLjU0ODEyMjMgMC44NDY2MDUsMS4yNjQ0ODAwNiAwLjI3Njc3NCwwLjcxNjM1NzgxIDAuMjc2Nzc0LDEuNjIyNjU4OTQgMCwwLjkxNzE1NTEgLTAuMjc2Nzc0LDEuNjM4OTM5OSAtMC4yNzY3NzUsMC43MTYzNTc4IC0wLjg0NjYwNSwxLjI2NDQ4IC0wLjY1MTIzNCwwLjYyOTUyNjYgLTEuNTYyOTYyLDAuODk1NDQ3MyAtMC45MTE3MjgsMC4yNjA0OTM3IC0yLjczNTE4NSwwLjI2MDQ5MzcgaCAtMi4yMDMzNDMgeiBtIC04LjE0NTg1NjUsMCBoIDMuNDY3ODIzIHEgMS41NDY2ODE2LDAgMi4zNzE1Nzg1LDAuNjg5MjIzIDAuODMwMzI0LDAuNjgzNzk2MSAwLjgzMDMyNCwxLjk1MzcwMzE0IDAsMS4yNzUzMzM5NyAtMC44MzAzMjQsMS45NjQ1NTcwNiBRIDkuOTg3MTk2MSwyLjI3NDkxNSA4LjQ0MDUxNDUsMi4yNzQ5MTUgSCA3LjA2MjA2ODQgViA1LjA4NjA3NjcgSCA0Ljk3MjY5MTUgWiBtIDIuMDg5Mzc2OSwxLjUxNDExOTkgdiAyLjI2MzAzOTQzIGggMS4xNTU5NDEgcSAwLjYwNzgxODgsMCAwLjkzODg2MjksLTAuMjkzMDU1NDcgMC4zMzEwNDQxLC0wLjI5ODQ4MjQxIDAuMzMxMDQ0MSwtMC44NDExNzc3MiAwLC0wLjU0MjY5NTMxIC0wLjMzMTA0NDEsLTAuODM1NzUwNzQgLTAuMzMxMDQ0MSwtMC4yOTMwNTU1IC0wLjkzODg2MjksLTAuMjkzMDU1NSB6IgovPgo8L3N2Zz4K);
  --jp-icon-python: url(data:image/svg+xml;base64,PHN2ZyB4bWxucz0iaHR0cDovL3d3dy53My5vcmcvMjAwMC9zdmciIHdpZHRoPSIxNiIgdmlld0JveD0iMCAwIDIyIDIyIj4KICA8ZyBjbGFzcz0ianAtaWNvbi1icmFuZDAganAtaWNvbi1zZWxlY3RhYmxlIiBmaWxsPSIjMEQ0N0ExIj4KICAgIDxwYXRoIGQ9Ik0xMS4xIDYuOVY1LjhINi45YzAtLjUgMC0xLjMuMi0xLjYuNC0uNy44LTEuMSAxLjctMS40IDEuNy0uMyAyLjUtLjMgMy45LS4xIDEgLjEgMS45LjkgMS45IDEuOXY0LjJjMCAuNS0uOSAxLjYtMiAxLjZIOC44Yy0xLjUgMC0yLjQgMS40LTIuNCAyLjh2Mi4ySDQuN0MzLjUgMTUuMSAzIDE0IDMgMTMuMVY5Yy0uMS0xIC42LTIgMS44LTIgMS41LS4xIDYuMy0uMSA2LjMtLjF6Ii8+CiAgICA8cGF0aCBkPSJNMTAuOSAxNS4xdjEuMWg0LjJjMCAuNSAwIDEuMy0uMiAxLjYtLjQuNy0uOCAxLjEtMS43IDEuNC0xLjcuMy0yLjUuMy0zLjkuMS0xLS4xLTEuOS0uOS0xLjktMS45di00LjJjMC0uNS45LTEuNiAyLTEuNmgzLjhjMS41IDAgMi40LTEuNCAyLjQtMi44VjYuNmgxLjdDMTguNSA2LjkgMTkgOCAxOSA4LjlWMTNjMCAxLS43IDIuMS0xLjkgMi4xaC02LjJ6Ii8+CiAgPC9nPgo8L3N2Zz4K);
  --jp-icon-r-kernel: url(data:image/svg+xml;base64,PHN2ZyB4bWxucz0iaHR0cDovL3d3dy53My5vcmcvMjAwMC9zdmciIHdpZHRoPSIxNiIgdmlld0JveD0iMCAwIDIyIDIyIj4KICA8cGF0aCBjbGFzcz0ianAtaWNvbi1jb250cmFzdDMganAtaWNvbi1zZWxlY3RhYmxlIiBmaWxsPSIjMjE5NkYzIiBkPSJNNC40IDIuNWMxLjItLjEgMi45LS4zIDQuOS0uMyAyLjUgMCA0LjEuNCA1LjIgMS4zIDEgLjcgMS41IDEuOSAxLjUgMy41IDAgMi0xLjQgMy41LTIuOSA0LjEgMS4yLjQgMS43IDEuNiAyLjIgMyAuNiAxLjkgMSAzLjkgMS4zIDQuNmgtMy44Yy0uMy0uNC0uOC0xLjctMS4yLTMuN3MtMS4yLTIuNi0yLjYtMi42aC0uOXY2LjRINC40VjIuNXptMy43IDYuOWgxLjRjMS45IDAgMi45LS45IDIuOS0yLjNzLTEtMi4zLTIuOC0yLjNjLS43IDAtMS4zIDAtMS42LjJ2NC41aC4xdi0uMXoiLz4KPC9zdmc+Cg==);
  --jp-icon-react: url(data:image/svg+xml;base64,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);
  --jp-icon-redo: url(data:image/svg+xml;base64,PHN2ZyB4bWxucz0iaHR0cDovL3d3dy53My5vcmcvMjAwMC9zdmciIGhlaWdodD0iMjQiIHZpZXdCb3g9IjAgMCAyNCAyNCIgd2lkdGg9IjE2Ij4KICA8ZyBjbGFzcz0ianAtaWNvbjMiIGZpbGw9IiM2MTYxNjEiPgogICAgICA8cGF0aCBkPSJNMCAwaDI0djI0SDB6IiBmaWxsPSJub25lIi8+PHBhdGggZD0iTTE4LjQgMTAuNkMxNi41NSA4Ljk5IDE0LjE1IDggMTEuNSA4Yy00LjY1IDAtOC41OCAzLjAzLTkuOTYgNy4yMkwzLjkgMTZjMS4wNS0zLjE5IDQuMDUtNS41IDcuNi01LjUgMS45NSAwIDMuNzMuNzIgNS4xMiAxLjg4TDEzIDE2aDlWN2wtMy42IDMuNnoiLz4KICA8L2c+Cjwvc3ZnPgo=);
  --jp-icon-refresh: url(data:image/svg+xml;base64,PHN2ZyB4bWxucz0iaHR0cDovL3d3dy53My5vcmcvMjAwMC9zdmciIHdpZHRoPSIxNiIgdmlld0JveD0iMCAwIDE4IDE4Ij4KICAgIDxnIGNsYXNzPSJqcC1pY29uMyIgZmlsbD0iIzYxNjE2MSI+CiAgICAgICAgPHBhdGggZD0iTTkgMTMuNWMtMi40OSAwLTQuNS0yLjAxLTQuNS00LjVTNi41MSA0LjUgOSA0LjVjMS4yNCAwIDIuMzYuNTIgMy4xNyAxLjMzTDEwIDhoNVYzbC0xLjc2IDEuNzZDMTIuMTUgMy42OCAxMC42NiAzIDkgMyA1LjY5IDMgMy4wMSA1LjY5IDMuMDEgOVM1LjY5IDE1IDkgMTVjMi45NyAwIDUuNDMtMi4xNiA1LjktNWgtMS41MmMtLjQ2IDItMi4yNCAzLjUtNC4zOCAzLjV6Ii8+CiAgICA8L2c+Cjwvc3ZnPgo=);
  --jp-icon-regex: url(data:image/svg+xml;base64,PHN2ZyB4bWxucz0iaHR0cDovL3d3dy53My5vcmcvMjAwMC9zdmciIHdpZHRoPSIxNiIgdmlld0JveD0iMCAwIDIwIDIwIj4KICA8ZyBjbGFzcz0ianAtaWNvbjIiIGZpbGw9IiM0MTQxNDEiPgogICAgPHJlY3QgeD0iMiIgeT0iMiIgd2lkdGg9IjE2IiBoZWlnaHQ9IjE2Ii8+CiAgPC9nPgoKICA8ZyBjbGFzcz0ianAtaWNvbi1hY2NlbnQyIiBmaWxsPSIjRkZGIj4KICAgIDxjaXJjbGUgY2xhc3M9InN0MiIgY3g9IjUuNSIgY3k9IjE0LjUiIHI9IjEuNSIvPgogICAgPHJlY3QgeD0iMTIiIHk9IjQiIGNsYXNzPSJzdDIiIHdpZHRoPSIxIiBoZWlnaHQ9IjgiLz4KICAgIDxyZWN0IHg9IjguNSIgeT0iNy41IiB0cmFuc2Zvcm09Im1hdHJpeCgwLjg2NiAtMC41IDAuNSAwLjg2NiAtMi4zMjU1IDcuMzIxOSkiIGNsYXNzPSJzdDIiIHdpZHRoPSI4IiBoZWlnaHQ9IjEiLz4KICAgIDxyZWN0IHg9IjEyIiB5PSI0IiB0cmFuc2Zvcm09Im1hdHJpeCgwLjUgLTAuODY2IDAuODY2IDAuNSAtMC42Nzc5IDE0LjgyNTIpIiBjbGFzcz0ic3QyIiB3aWR0aD0iMSIgaGVpZ2h0PSI4Ii8+CiAgPC9nPgo8L3N2Zz4K);
  --jp-icon-run: url(data:image/svg+xml;base64,PHN2ZyBoZWlnaHQ9IjI0IiB2aWV3Qm94PSIwIDAgMjQgMjQiIHdpZHRoPSIyNCIgeG1sbnM9Imh0dHA6Ly93d3cudzMub3JnLzIwMDAvc3ZnIj4KICAgIDxnIGNsYXNzPSJqcC1pY29uMyIgZmlsbD0iIzYxNjE2MSI+CiAgICAgICAgPHBhdGggZD0iTTggNXYxNGwxMS03eiIvPgogICAgPC9nPgo8L3N2Zz4K);
  --jp-icon-running: url(data:image/svg+xml;base64,PHN2ZyB4bWxucz0iaHR0cDovL3d3dy53My5vcmcvMjAwMC9zdmciIHdpZHRoPSIxNiIgdmlld0JveD0iMCAwIDUxMiA1MTIiPgogIDxnIGNsYXNzPSJqcC1pY29uMyIgZmlsbD0iIzYxNjE2MSI+CiAgICA8cGF0aCBkPSJNMjU2IDhDMTE5IDggOCAxMTkgOCAyNTZzMTExIDI0OCAyNDggMjQ4IDI0OC0xMTEgMjQ4LTI0OFMzOTMgOCAyNTYgOHptOTYgMzI4YzAgOC44LTcuMiAxNi0xNiAxNkgxNzZjLTguOCAwLTE2LTcuMi0xNi0xNlYxNzZjMC04LjggNy4yLTE2IDE2LTE2aDE2MGM4LjggMCAxNiA3LjIgMTYgMTZ2MTYweiIvPgogIDwvZz4KPC9zdmc+Cg==);
  --jp-icon-save: url(data:image/svg+xml;base64,PHN2ZyBoZWlnaHQ9IjI0IiB2aWV3Qm94PSIwIDAgMjQgMjQiIHdpZHRoPSIyNCIgeG1sbnM9Imh0dHA6Ly93d3cudzMub3JnLzIwMDAvc3ZnIj4KICAgIDxnIGNsYXNzPSJqcC1pY29uMyIgZmlsbD0iIzYxNjE2MSI+CiAgICAgICAgPHBhdGggZD0iTTE3IDNINWMtMS4xMSAwLTIgLjktMiAydjE0YzAgMS4xLjg5IDIgMiAyaDE0YzEuMSAwIDItLjkgMi0yVjdsLTQtNHptLTUgMTZjLTEuNjYgMC0zLTEuMzQtMy0zczEuMzQtMyAzLTMgMyAxLjM0IDMgMy0xLjM0IDMtMyAzem0zLTEwSDVWNWgxMHY0eiIvPgogICAgPC9nPgo8L3N2Zz4K);
  --jp-icon-search: url(data:image/svg+xml;base64,PHN2ZyB2aWV3Qm94PSIwIDAgMTggMTgiIHdpZHRoPSIxNiIgeG1sbnM9Imh0dHA6Ly93d3cudzMub3JnLzIwMDAvc3ZnIj4KICA8ZyBjbGFzcz0ianAtaWNvbjMiIGZpbGw9IiM2MTYxNjEiPgogICAgPHBhdGggZD0iTTEyLjEsMTAuOWgtMC43bC0wLjItMC4yYzAuOC0wLjksMS4zLTIuMiwxLjMtMy41YzAtMy0yLjQtNS40LTUuNC01LjRTMS44LDQuMiwxLjgsNy4xczIuNCw1LjQsNS40LDUuNCBjMS4zLDAsMi41LTAuNSwzLjUtMS4zbDAuMiwwLjJ2MC43bDQuMSw0LjFsMS4yLTEuMkwxMi4xLDEwLjl6IE03LjEsMTAuOWMtMi4xLDAtMy43LTEuNy0zLjctMy43czEuNy0zLjcsMy43LTMuN3MzLjcsMS43LDMuNywzLjcgUzkuMiwxMC45LDcuMSwxMC45eiIvPgogIDwvZz4KPC9zdmc+Cg==);
  --jp-icon-settings: url(data:image/svg+xml;base64,PHN2ZyB4bWxucz0iaHR0cDovL3d3dy53My5vcmcvMjAwMC9zdmciIHdpZHRoPSIxNiIgdmlld0JveD0iMCAwIDI0IDI0Ij4KICA8cGF0aCBjbGFzcz0ianAtaWNvbjMganAtaWNvbi1zZWxlY3RhYmxlIiBmaWxsPSIjNjE2MTYxIiBkPSJNMTkuNDMgMTIuOThjLjA0LS4zMi4wNy0uNjQuMDctLjk4cy0uMDMtLjY2LS4wNy0uOThsMi4xMS0xLjY1Yy4xOS0uMTUuMjQtLjQyLjEyLS42NGwtMi0zLjQ2Yy0uMTItLjIyLS4zOS0uMy0uNjEtLjIybC0yLjQ5IDFjLS41Mi0uNC0xLjA4LS43My0xLjY5LS45OGwtLjM4LTIuNjVBLjQ4OC40ODggMCAwMDE0IDJoLTRjLS4yNSAwLS40Ni4xOC0uNDkuNDJsLS4zOCAyLjY1Yy0uNjEuMjUtMS4xNy41OS0xLjY5Ljk4bC0yLjQ5LTFjLS4yMy0uMDktLjQ5IDAtLjYxLjIybC0yIDMuNDZjLS4xMy4yMi0uMDcuNDkuMTIuNjRsMi4xMSAxLjY1Yy0uMDQuMzItLjA3LjY1LS4wNy45OHMuMDMuNjYuMDcuOThsLTIuMTEgMS42NWMtLjE5LjE1LS4yNC40Mi0uMTIuNjRsMiAzLjQ2Yy4xMi4yMi4zOS4zLjYxLjIybDIuNDktMWMuNTIuNCAxLjA4LjczIDEuNjkuOThsLjM4IDIuNjVjLjAzLjI0LjI0LjQyLjQ5LjQyaDRjLjI1IDAgLjQ2LS4xOC40OS0uNDJsLjM4LTIuNjVjLjYxLS4yNSAxLjE3LS41OSAxLjY5LS45OGwyLjQ5IDFjLjIzLjA5LjQ5IDAgLjYxLS4yMmwyLTMuNDZjLjEyLS4yMi4wNy0uNDktLjEyLS42NGwtMi4xMS0xLjY1ek0xMiAxNS41Yy0xLjkzIDAtMy41LTEuNTctMy41LTMuNXMxLjU3LTMuNSAzLjUtMy41IDMuNSAxLjU3IDMuNSAzLjUtMS41NyAzLjUtMy41IDMuNXoiLz4KPC9zdmc+Cg==);
  --jp-icon-spreadsheet: url(data:image/svg+xml;base64,PHN2ZyB4bWxucz0iaHR0cDovL3d3dy53My5vcmcvMjAwMC9zdmciIHdpZHRoPSIxNiIgdmlld0JveD0iMCAwIDIyIDIyIj4KICA8cGF0aCBjbGFzcz0ianAtaWNvbi1jb250cmFzdDEganAtaWNvbi1zZWxlY3RhYmxlIiBmaWxsPSIjNENBRjUwIiBkPSJNMi4yIDIuMnYxNy42aDE3LjZWMi4ySDIuMnptMTUuNCA3LjdoLTUuNVY0LjRoNS41djUuNXpNOS45IDQuNHY1LjVINC40VjQuNGg1LjV6bS01LjUgNy43aDUuNXY1LjVINC40di01LjV6bTcuNyA1LjV2LTUuNWg1LjV2NS41aC01LjV6Ii8+Cjwvc3ZnPgo=);
  --jp-icon-stop: url(data:image/svg+xml;base64,PHN2ZyBoZWlnaHQ9IjI0IiB2aWV3Qm94PSIwIDAgMjQgMjQiIHdpZHRoPSIyNCIgeG1sbnM9Imh0dHA6Ly93d3cudzMub3JnLzIwMDAvc3ZnIj4KICAgIDxnIGNsYXNzPSJqcC1pY29uMyIgZmlsbD0iIzYxNjE2MSI+CiAgICAgICAgPHBhdGggZD0iTTAgMGgyNHYyNEgweiIgZmlsbD0ibm9uZSIvPgogICAgICAgIDxwYXRoIGQ9Ik02IDZoMTJ2MTJINnoiLz4KICAgIDwvZz4KPC9zdmc+Cg==);
  --jp-icon-tab: url(data:image/svg+xml;base64,PHN2ZyB4bWxucz0iaHR0cDovL3d3dy53My5vcmcvMjAwMC9zdmciIHdpZHRoPSIxNiIgdmlld0JveD0iMCAwIDI0IDI0Ij4KICA8ZyBjbGFzcz0ianAtaWNvbjMiIGZpbGw9IiM2MTYxNjEiPgogICAgPHBhdGggZD0iTTIxIDNIM2MtMS4xIDAtMiAuOS0yIDJ2MTRjMCAxLjEuOSAyIDIgMmgxOGMxLjEgMCAyLS45IDItMlY1YzAtMS4xLS45LTItMi0yem0wIDE2SDNWNWgxMHY0aDh2MTB6Ii8+CiAgPC9nPgo8L3N2Zz4K);
  --jp-icon-table-rows: url(data:image/svg+xml;base64,PHN2ZyBoZWlnaHQ9IjI0IiB2aWV3Qm94PSIwIDAgMjQgMjQiIHdpZHRoPSIyNCIgeG1sbnM9Imh0dHA6Ly93d3cudzMub3JnLzIwMDAvc3ZnIj4KICAgIDxnIGNsYXNzPSJqcC1pY29uMyIgZmlsbD0iIzYxNjE2MSI+CiAgICAgICAgPHBhdGggZD0iTTAgMGgyNHYyNEgweiIgZmlsbD0ibm9uZSIvPgogICAgICAgIDxwYXRoIGQ9Ik0yMSw4SDNWNGgxOFY4eiBNMjEsMTBIM3Y0aDE4VjEweiBNMjEsMTZIM3Y0aDE4VjE2eiIvPgogICAgPC9nPgo8L3N2Zz4=);
  --jp-icon-tag: url(data:image/svg+xml;base64,PHN2ZyB3aWR0aD0iMjgiIGhlaWdodD0iMjgiIHZpZXdCb3g9IjAgMCA0MyAyOCIgeG1sbnM9Imh0dHA6Ly93d3cudzMub3JnLzIwMDAvc3ZnIj4KCTxnIGNsYXNzPSJqcC1pY29uMyIgZmlsbD0iIzYxNjE2MSI+CgkJPHBhdGggZD0iTTI4LjgzMzIgMTIuMzM0TDMyLjk5OTggMTYuNTAwN0wzNy4xNjY1IDEyLjMzNEgyOC44MzMyWiIvPgoJCTxwYXRoIGQ9Ik0xNi4yMDk1IDIxLjYxMDRDMTUuNjg3MyAyMi4xMjk5IDE0Ljg0NDMgMjIuMTI5OSAxNC4zMjQ4IDIxLjYxMDRMNi45ODI5IDE0LjcyNDVDNi41NzI0IDE0LjMzOTQgNi4wODMxMyAxMy42MDk4IDYuMDQ3ODYgMTMuMDQ4MkM1Ljk1MzQ3IDExLjUyODggNi4wMjAwMiA4LjYxOTQ0IDYuMDY2MjEgNy4wNzY5NUM2LjA4MjgxIDYuNTE0NzcgNi41NTU0OCA2LjA0MzQ3IDcuMTE4MDQgNi4wMzA1NUM5LjA4ODYzIDUuOTg0NzMgMTMuMjYzOCA1LjkzNTc5IDEzLjY1MTggNi4zMjQyNUwyMS43MzY5IDEzLjYzOUMyMi4yNTYgMTQuMTU4NSAyMS43ODUxIDE1LjQ3MjQgMjEuMjYyIDE1Ljk5NDZMMTYuMjA5NSAyMS42MTA0Wk05Ljc3NTg1IDguMjY1QzkuMzM1NTEgNy44MjU2NiA4LjYyMzUxIDcuODI1NjYgOC4xODI4IDguMjY1QzcuNzQzNDYgOC43MDU3MSA3Ljc0MzQ2IDkuNDE3MzMgOC4xODI4IDkuODU2NjdDOC42MjM4MiAxMC4yOTY0IDkuMzM1ODIgMTAuMjk2NCA5Ljc3NTg1IDkuODU2NjdDMTAuMjE1NiA5LjQxNzMzIDEwLjIxNTYgOC43MDUzMyA5Ljc3NTg1IDguMjY1WiIvPgoJPC9nPgo8L3N2Zz4K);
  --jp-icon-terminal: url(data:image/svg+xml;base64,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);
  --jp-icon-text-editor: url(data:image/svg+xml;base64,PHN2ZyB4bWxucz0iaHR0cDovL3d3dy53My5vcmcvMjAwMC9zdmciIHdpZHRoPSIxNiIgdmlld0JveD0iMCAwIDI0IDI0Ij4KICA8cGF0aCBjbGFzcz0ianAtaWNvbjMganAtaWNvbi1zZWxlY3RhYmxlIiBmaWxsPSIjNjE2MTYxIiBkPSJNMTUgMTVIM3YyaDEydi0yem0wLThIM3YyaDEyVjd6TTMgMTNoMTh2LTJIM3Yyem0wIDhoMTh2LTJIM3Yyek0zIDN2MmgxOFYzSDN6Ii8+Cjwvc3ZnPgo=);
  --jp-icon-toc: url(data:image/svg+xml;base64,PHN2ZyB4bWxucz0iaHR0cDovL3d3dy53My5vcmcvMjAwMC9zdmciIHdpZHRoPSIyNCIgaGVpZ2h0PSIyNCIgdmlld0JveD0iMCAwIDI0IDI0Ij4KICA8ZyBjbGFzcz0ianAtaWNvbjMganAtaWNvbi1zZWxlY3RhYmxlIiBmaWxsPSIjNjE2MTYxIj4KICAgIDxwYXRoIGQ9Ik03LDVIMjFWN0g3VjVNNywxM1YxMUgyMVYxM0g3TTQsNC41QTEuNSwxLjUgMCAwLDEgNS41LDZBMS41LDEuNSAwIDAsMSA0LDcuNUExLjUsMS41IDAgMCwxIDIuNSw2QTEuNSwxLjUgMCAwLDEgNCw0LjVNNCwxMC41QTEuNSwxLjUgMCAwLDEgNS41LDEyQTEuNSwxLjUgMCAwLDEgNCwxMy41QTEuNSwxLjUgMCAwLDEgMi41LDEyQTEuNSwxLjUgMCAwLDEgNCwxMC41TTcsMTlWMTdIMjFWMTlIN000LDE2LjVBMS41LDEuNSAwIDAsMSA1LjUsMThBMS41LDEuNSAwIDAsMSA0LDE5LjVBMS41LDEuNSAwIDAsMSAyLjUsMThBMS41LDEuNSAwIDAsMSA0LDE2LjVaIiAvPgogIDwvZz4KPC9zdmc+Cg==);
  --jp-icon-tree-view: url(data:image/svg+xml;base64,PHN2ZyBoZWlnaHQ9IjI0IiB2aWV3Qm94PSIwIDAgMjQgMjQiIHdpZHRoPSIyNCIgeG1sbnM9Imh0dHA6Ly93d3cudzMub3JnLzIwMDAvc3ZnIj4KICAgIDxnIGNsYXNzPSJqcC1pY29uMyIgZmlsbD0iIzYxNjE2MSI+CiAgICAgICAgPHBhdGggZD0iTTAgMGgyNHYyNEgweiIgZmlsbD0ibm9uZSIvPgogICAgICAgIDxwYXRoIGQ9Ik0yMiAxMVYzaC03djNIOVYzSDJ2OGg3VjhoMnYxMGg0djNoN3YtOGgtN3YzaC0yVjhoMnYzeiIvPgogICAgPC9nPgo8L3N2Zz4=);
  --jp-icon-trusted: url(data:image/svg+xml;base64,PHN2ZyBmaWxsPSJub25lIiB4bWxucz0iaHR0cDovL3d3dy53My5vcmcvMjAwMC9zdmciIHdpZHRoPSIxNiIgdmlld0JveD0iMCAwIDI0IDI1Ij4KICAgIDxwYXRoIGNsYXNzPSJqcC1pY29uMiIgc3Ryb2tlPSIjMzMzMzMzIiBzdHJva2Utd2lkdGg9IjIiIHRyYW5zZm9ybT0idHJhbnNsYXRlKDIgMykiIGQ9Ik0xLjg2MDk0IDExLjQ0MDlDMC44MjY0NDggOC43NzAyNyAwLjg2Mzc3OSA2LjA1NzY0IDEuMjQ5MDcgNC4xOTkzMkMyLjQ4MjA2IDMuOTMzNDcgNC4wODA2OCAzLjQwMzQ3IDUuNjAxMDIgMi44NDQ5QzcuMjM1NDkgMi4yNDQ0IDguODU2NjYgMS41ODE1IDkuOTg3NiAxLjA5NTM5QzExLjA1OTcgMS41ODM0MSAxMi42MDk0IDIuMjQ0NCAxNC4yMTggMi44NDMzOUMxNS43NTAzIDMuNDEzOTQgMTcuMzk5NSAzLjk1MjU4IDE4Ljc1MzkgNC4yMTM4NUMxOS4xMzY0IDYuMDcxNzcgMTkuMTcwOSA4Ljc3NzIyIDE4LjEzOSAxMS40NDA5QzE3LjAzMDMgMTQuMzAzMiAxNC42NjY4IDE3LjE4NDQgOS45OTk5OSAxOC45MzU0QzUuMzMzMiAxNy4xODQ0IDIuOTY5NjggMTQuMzAzMiAxLjg2MDk0IDExLjQ0MDlaIi8+CiAgICA8cGF0aCBjbGFzcz0ianAtaWNvbjIiIGZpbGw9IiMzMzMzMzMiIHN0cm9rZT0iIzMzMzMzMyIgdHJhbnNmb3JtPSJ0cmFuc2xhdGUoOCA5Ljg2NzE5KSIgZD0iTTIuODYwMTUgNC44NjUzNUwwLjcyNjU0OSAyLjk5OTU5TDAgMy42MzA0NUwyLjg2MDE1IDYuMTMxNTdMOCAwLjYzMDg3Mkw3LjI3ODU3IDBMMi44NjAxNSA0Ljg2NTM1WiIvPgo8L3N2Zz4K);
  --jp-icon-undo: url(data:image/svg+xml;base64,PHN2ZyB2aWV3Qm94PSIwIDAgMjQgMjQiIHdpZHRoPSIxNiIgeG1sbnM9Imh0dHA6Ly93d3cudzMub3JnLzIwMDAvc3ZnIj4KICA8ZyBjbGFzcz0ianAtaWNvbjMiIGZpbGw9IiM2MTYxNjEiPgogICAgPHBhdGggZD0iTTEyLjUgOGMtMi42NSAwLTUuMDUuOTktNi45IDIuNkwyIDd2OWg5bC0zLjYyLTMuNjJjMS4zOS0xLjE2IDMuMTYtMS44OCA1LjEyLTEuODggMy41NCAwIDYuNTUgMi4zMSA3LjYgNS41bDIuMzctLjc4QzIxLjA4IDExLjAzIDE3LjE1IDggMTIuNSA4eiIvPgogIDwvZz4KPC9zdmc+Cg==);
  --jp-icon-vega: url(data:image/svg+xml;base64,PHN2ZyB4bWxucz0iaHR0cDovL3d3dy53My5vcmcvMjAwMC9zdmciIHdpZHRoPSIxNiIgdmlld0JveD0iMCAwIDIyIDIyIj4KICA8ZyBjbGFzcz0ianAtaWNvbjEganAtaWNvbi1zZWxlY3RhYmxlIiBmaWxsPSIjMjEyMTIxIj4KICAgIDxwYXRoIGQ9Ik0xMC42IDUuNGwyLjItMy4ySDIuMnY3LjNsNC02LjZ6Ii8+CiAgICA8cGF0aCBkPSJNMTUuOCAyLjJsLTQuNCA2LjZMNyA2LjNsLTQuOCA4djUuNWgxNy42VjIuMmgtNHptLTcgMTUuNEg1LjV2LTQuNGgzLjN2NC40em00LjQgMEg5LjhWOS44aDMuNHY3Ljh6bTQuNCAwaC0zLjRWNi41aDMuNHYxMS4xeiIvPgogIDwvZz4KPC9zdmc+Cg==);
  --jp-icon-yaml: url(data:image/svg+xml;base64,PHN2ZyB4bWxucz0iaHR0cDovL3d3dy53My5vcmcvMjAwMC9zdmciIHdpZHRoPSIxNiIgdmlld0JveD0iMCAwIDIyIDIyIj4KICA8ZyBjbGFzcz0ianAtaWNvbi1jb250cmFzdDIganAtaWNvbi1zZWxlY3RhYmxlIiBmaWxsPSIjRDgxQjYwIj4KICAgIDxwYXRoIGQ9Ik03LjIgMTguNnYtNS40TDMgNS42aDMuM2wxLjQgMy4xYy4zLjkuNiAxLjYgMSAyLjUuMy0uOC42LTEuNiAxLTIuNWwxLjQtMy4xaDMuNGwtNC40IDcuNnY1LjVsLTIuOS0uMXoiLz4KICAgIDxjaXJjbGUgY2xhc3M9InN0MCIgY3g9IjE3LjYiIGN5PSIxNi41IiByPSIyLjEiLz4KICAgIDxjaXJjbGUgY2xhc3M9InN0MCIgY3g9IjE3LjYiIGN5PSIxMSIgcj0iMi4xIi8+CiAgPC9nPgo8L3N2Zz4K);
}

/* Icon CSS class declarations */

.jp-AddIcon {
  background-image: var(--jp-icon-add);
}
.jp-BugIcon {
  background-image: var(--jp-icon-bug);
}
.jp-BuildIcon {
  background-image: var(--jp-icon-build);
}
.jp-CaretDownEmptyIcon {
  background-image: var(--jp-icon-caret-down-empty);
}
.jp-CaretDownEmptyThinIcon {
  background-image: var(--jp-icon-caret-down-empty-thin);
}
.jp-CaretDownIcon {
  background-image: var(--jp-icon-caret-down);
}
.jp-CaretLeftIcon {
  background-image: var(--jp-icon-caret-left);
}
.jp-CaretRightIcon {
  background-image: var(--jp-icon-caret-right);
}
.jp-CaretUpEmptyThinIcon {
  background-image: var(--jp-icon-caret-up-empty-thin);
}
.jp-CaretUpIcon {
  background-image: var(--jp-icon-caret-up);
}
.jp-CaseSensitiveIcon {
  background-image: var(--jp-icon-case-sensitive);
}
.jp-CheckIcon {
  background-image: var(--jp-icon-check);
}
.jp-CircleEmptyIcon {
  background-image: var(--jp-icon-circle-empty);
}
.jp-CircleIcon {
  background-image: var(--jp-icon-circle);
}
.jp-ClearIcon {
  background-image: var(--jp-icon-clear);
}
.jp-CloseIcon {
  background-image: var(--jp-icon-close);
}
.jp-CodeIcon {
  background-image: var(--jp-icon-code);
}
.jp-ConsoleIcon {
  background-image: var(--jp-icon-console);
}
.jp-CopyIcon {
  background-image: var(--jp-icon-copy);
}
.jp-CopyrightIcon {
  background-image: var(--jp-icon-copyright);
}
.jp-CutIcon {
  background-image: var(--jp-icon-cut);
}
.jp-DownloadIcon {
  background-image: var(--jp-icon-download);
}
.jp-EditIcon {
  background-image: var(--jp-icon-edit);
}
.jp-EllipsesIcon {
  background-image: var(--jp-icon-ellipses);
}
.jp-ExtensionIcon {
  background-image: var(--jp-icon-extension);
}
.jp-FastForwardIcon {
  background-image: var(--jp-icon-fast-forward);
}
.jp-FileIcon {
  background-image: var(--jp-icon-file);
}
.jp-FileUploadIcon {
  background-image: var(--jp-icon-file-upload);
}
.jp-FilterListIcon {
  background-image: var(--jp-icon-filter-list);
}
.jp-FolderIcon {
  background-image: var(--jp-icon-folder);
}
.jp-Html5Icon {
  background-image: var(--jp-icon-html5);
}
.jp-ImageIcon {
  background-image: var(--jp-icon-image);
}
.jp-InspectorIcon {
  background-image: var(--jp-icon-inspector);
}
.jp-JsonIcon {
  background-image: var(--jp-icon-json);
}
.jp-JuliaIcon {
  background-image: var(--jp-icon-julia);
}
.jp-JupyterFaviconIcon {
  background-image: var(--jp-icon-jupyter-favicon);
}
.jp-JupyterIcon {
  background-image: var(--jp-icon-jupyter);
}
.jp-JupyterlabWordmarkIcon {
  background-image: var(--jp-icon-jupyterlab-wordmark);
}
.jp-KernelIcon {
  background-image: var(--jp-icon-kernel);
}
.jp-KeyboardIcon {
  background-image: var(--jp-icon-keyboard);
}
.jp-LauncherIcon {
  background-image: var(--jp-icon-launcher);
}
.jp-LineFormIcon {
  background-image: var(--jp-icon-line-form);
}
.jp-LinkIcon {
  background-image: var(--jp-icon-link);
}
.jp-ListIcon {
  background-image: var(--jp-icon-list);
}
.jp-ListingsInfoIcon {
  background-image: var(--jp-icon-listings-info);
}
.jp-MarkdownIcon {
  background-image: var(--jp-icon-markdown);
}
.jp-NewFolderIcon {
  background-image: var(--jp-icon-new-folder);
}
.jp-NotTrustedIcon {
  background-image: var(--jp-icon-not-trusted);
}
.jp-NotebookIcon {
  background-image: var(--jp-icon-notebook);
}
.jp-NumberingIcon {
  background-image: var(--jp-icon-numbering);
}
.jp-OfflineBoltIcon {
  background-image: var(--jp-icon-offline-bolt);
}
.jp-PaletteIcon {
  background-image: var(--jp-icon-palette);
}
.jp-PasteIcon {
  background-image: var(--jp-icon-paste);
}
.jp-PdfIcon {
  background-image: var(--jp-icon-pdf);
}
.jp-PythonIcon {
  background-image: var(--jp-icon-python);
}
.jp-RKernelIcon {
  background-image: var(--jp-icon-r-kernel);
}
.jp-ReactIcon {
  background-image: var(--jp-icon-react);
}
.jp-RedoIcon {
  background-image: var(--jp-icon-redo);
}
.jp-RefreshIcon {
  background-image: var(--jp-icon-refresh);
}
.jp-RegexIcon {
  background-image: var(--jp-icon-regex);
}
.jp-RunIcon {
  background-image: var(--jp-icon-run);
}
.jp-RunningIcon {
  background-image: var(--jp-icon-running);
}
.jp-SaveIcon {
  background-image: var(--jp-icon-save);
}
.jp-SearchIcon {
  background-image: var(--jp-icon-search);
}
.jp-SettingsIcon {
  background-image: var(--jp-icon-settings);
}
.jp-SpreadsheetIcon {
  background-image: var(--jp-icon-spreadsheet);
}
.jp-StopIcon {
  background-image: var(--jp-icon-stop);
}
.jp-TabIcon {
  background-image: var(--jp-icon-tab);
}
.jp-TableRowsIcon {
  background-image: var(--jp-icon-table-rows);
}
.jp-TagIcon {
  background-image: var(--jp-icon-tag);
}
.jp-TerminalIcon {
  background-image: var(--jp-icon-terminal);
}
.jp-TextEditorIcon {
  background-image: var(--jp-icon-text-editor);
}
.jp-TocIcon {
  background-image: var(--jp-icon-toc);
}
.jp-TreeViewIcon {
  background-image: var(--jp-icon-tree-view);
}
.jp-TrustedIcon {
  background-image: var(--jp-icon-trusted);
}
.jp-UndoIcon {
  background-image: var(--jp-icon-undo);
}
.jp-VegaIcon {
  background-image: var(--jp-icon-vega);
}
.jp-YamlIcon {
  background-image: var(--jp-icon-yaml);
}

/*-----------------------------------------------------------------------------
| Copyright (c) Jupyter Development Team.
| Distributed under the terms of the Modified BSD License.
|----------------------------------------------------------------------------*/

/**
 * (DEPRECATED) Support for consuming icons as CSS background images
 */

.jp-Icon,
.jp-MaterialIcon {
  background-position: center;
  background-repeat: no-repeat;
  background-size: 16px;
  min-width: 16px;
  min-height: 16px;
}

.jp-Icon-cover {
  background-position: center;
  background-repeat: no-repeat;
  background-size: cover;
}

/**
 * (DEPRECATED) Support for specific CSS icon sizes
 */

.jp-Icon-16 {
  background-size: 16px;
  min-width: 16px;
  min-height: 16px;
}

.jp-Icon-18 {
  background-size: 18px;
  min-width: 18px;
  min-height: 18px;
}

.jp-Icon-20 {
  background-size: 20px;
  min-width: 20px;
  min-height: 20px;
}

/*-----------------------------------------------------------------------------
| Copyright (c) Jupyter Development Team.
| Distributed under the terms of the Modified BSD License.
|----------------------------------------------------------------------------*/

/**
 * Support for icons as inline SVG HTMLElements
 */

/* recolor the primary elements of an icon */
.jp-icon0[fill] {
  fill: var(--jp-inverse-layout-color0);
}
.jp-icon1[fill] {
  fill: var(--jp-inverse-layout-color1);
}
.jp-icon2[fill] {
  fill: var(--jp-inverse-layout-color2);
}
.jp-icon3[fill] {
  fill: var(--jp-inverse-layout-color3);
}
.jp-icon4[fill] {
  fill: var(--jp-inverse-layout-color4);
}

.jp-icon0[stroke] {
  stroke: var(--jp-inverse-layout-color0);
}
.jp-icon1[stroke] {
  stroke: var(--jp-inverse-layout-color1);
}
.jp-icon2[stroke] {
  stroke: var(--jp-inverse-layout-color2);
}
.jp-icon3[stroke] {
  stroke: var(--jp-inverse-layout-color3);
}
.jp-icon4[stroke] {
  stroke: var(--jp-inverse-layout-color4);
}
/* recolor the accent elements of an icon */
.jp-icon-accent0[fill] {
  fill: var(--jp-layout-color0);
}
.jp-icon-accent1[fill] {
  fill: var(--jp-layout-color1);
}
.jp-icon-accent2[fill] {
  fill: var(--jp-layout-color2);
}
.jp-icon-accent3[fill] {
  fill: var(--jp-layout-color3);
}
.jp-icon-accent4[fill] {
  fill: var(--jp-layout-color4);
}

.jp-icon-accent0[stroke] {
  stroke: var(--jp-layout-color0);
}
.jp-icon-accent1[stroke] {
  stroke: var(--jp-layout-color1);
}
.jp-icon-accent2[stroke] {
  stroke: var(--jp-layout-color2);
}
.jp-icon-accent3[stroke] {
  stroke: var(--jp-layout-color3);
}
.jp-icon-accent4[stroke] {
  stroke: var(--jp-layout-color4);
}
/* set the color of an icon to transparent */
.jp-icon-none[fill] {
  fill: none;
}

.jp-icon-none[stroke] {
  stroke: none;
}
/* brand icon colors. Same for light and dark */
.jp-icon-brand0[fill] {
  fill: var(--jp-brand-color0);
}
.jp-icon-brand1[fill] {
  fill: var(--jp-brand-color1);
}
.jp-icon-brand2[fill] {
  fill: var(--jp-brand-color2);
}
.jp-icon-brand3[fill] {
  fill: var(--jp-brand-color3);
}
.jp-icon-brand4[fill] {
  fill: var(--jp-brand-color4);
}

.jp-icon-brand0[stroke] {
  stroke: var(--jp-brand-color0);
}
.jp-icon-brand1[stroke] {
  stroke: var(--jp-brand-color1);
}
.jp-icon-brand2[stroke] {
  stroke: var(--jp-brand-color2);
}
.jp-icon-brand3[stroke] {
  stroke: var(--jp-brand-color3);
}
.jp-icon-brand4[stroke] {
  stroke: var(--jp-brand-color4);
}
/* warn icon colors. Same for light and dark */
.jp-icon-warn0[fill] {
  fill: var(--jp-warn-color0);
}
.jp-icon-warn1[fill] {
  fill: var(--jp-warn-color1);
}
.jp-icon-warn2[fill] {
  fill: var(--jp-warn-color2);
}
.jp-icon-warn3[fill] {
  fill: var(--jp-warn-color3);
}

.jp-icon-warn0[stroke] {
  stroke: var(--jp-warn-color0);
}
.jp-icon-warn1[stroke] {
  stroke: var(--jp-warn-color1);
}
.jp-icon-warn2[stroke] {
  stroke: var(--jp-warn-color2);
}
.jp-icon-warn3[stroke] {
  stroke: var(--jp-warn-color3);
}
/* icon colors that contrast well with each other and most backgrounds */
.jp-icon-contrast0[fill] {
  fill: var(--jp-icon-contrast-color0);
}
.jp-icon-contrast1[fill] {
  fill: var(--jp-icon-contrast-color1);
}
.jp-icon-contrast2[fill] {
  fill: var(--jp-icon-contrast-color2);
}
.jp-icon-contrast3[fill] {
  fill: var(--jp-icon-contrast-color3);
}

.jp-icon-contrast0[stroke] {
  stroke: var(--jp-icon-contrast-color0);
}
.jp-icon-contrast1[stroke] {
  stroke: var(--jp-icon-contrast-color1);
}
.jp-icon-contrast2[stroke] {
  stroke: var(--jp-icon-contrast-color2);
}
.jp-icon-contrast3[stroke] {
  stroke: var(--jp-icon-contrast-color3);
}

/* CSS for icons in selected items in the settings editor */
#setting-editor .jp-PluginList .jp-mod-selected .jp-icon-selectable[fill] {
  fill: #fff;
}
#setting-editor
  .jp-PluginList
  .jp-mod-selected
  .jp-icon-selectable-inverse[fill] {
  fill: var(--jp-brand-color1);
}

/* CSS for icons in selected filebrowser listing items */
.jp-DirListing-item.jp-mod-selected .jp-icon-selectable[fill] {
  fill: #fff;
}
.jp-DirListing-item.jp-mod-selected .jp-icon-selectable-inverse[fill] {
  fill: var(--jp-brand-color1);
}

/* CSS for icons in selected tabs in the sidebar tab manager */
#tab-manager .lm-TabBar-tab.jp-mod-active .jp-icon-selectable[fill] {
  fill: #fff;
}

#tab-manager .lm-TabBar-tab.jp-mod-active .jp-icon-selectable-inverse[fill] {
  fill: var(--jp-brand-color1);
}
#tab-manager
  .lm-TabBar-tab.jp-mod-active
  .jp-icon-hover
  :hover
  .jp-icon-selectable[fill] {
  fill: var(--jp-brand-color1);
}

#tab-manager
  .lm-TabBar-tab.jp-mod-active
  .jp-icon-hover
  :hover
  .jp-icon-selectable-inverse[fill] {
  fill: #fff;
}

/**
 * TODO: come up with non css-hack solution for showing the busy icon on top
 *  of the close icon
 * CSS for complex behavior of close icon of tabs in the sidebar tab manager
 */
#tab-manager
  .lm-TabBar-tab.jp-mod-dirty
  > .lm-TabBar-tabCloseIcon
  > :not(:hover)
  > .jp-icon3[fill] {
  fill: none;
}
#tab-manager
  .lm-TabBar-tab.jp-mod-dirty
  > .lm-TabBar-tabCloseIcon
  > :not(:hover)
  > .jp-icon-busy[fill] {
  fill: var(--jp-inverse-layout-color3);
}

#tab-manager
  .lm-TabBar-tab.jp-mod-dirty.jp-mod-active
  > .lm-TabBar-tabCloseIcon
  > :not(:hover)
  > .jp-icon-busy[fill] {
  fill: #fff;
}

/**
* TODO: come up with non css-hack solution for showing the busy icon on top
*  of the close icon
* CSS for complex behavior of close icon of tabs in the main area tabbar
*/
.lm-DockPanel-tabBar
  .lm-TabBar-tab.lm-mod-closable.jp-mod-dirty
  > .lm-TabBar-tabCloseIcon
  > :not(:hover)
  > .jp-icon3[fill] {
  fill: none;
}
.lm-DockPanel-tabBar
  .lm-TabBar-tab.lm-mod-closable.jp-mod-dirty
  > .lm-TabBar-tabCloseIcon
  > :not(:hover)
  > .jp-icon-busy[fill] {
  fill: var(--jp-inverse-layout-color3);
}

/* CSS for icons in status bar */
#jp-main-statusbar .jp-mod-selected .jp-icon-selectable[fill] {
  fill: #fff;
}

#jp-main-statusbar .jp-mod-selected .jp-icon-selectable-inverse[fill] {
  fill: var(--jp-brand-color1);
}
/* special handling for splash icon CSS. While the theme CSS reloads during
   splash, the splash icon can loose theming. To prevent that, we set a
   default for its color variable */
:root {
  --jp-warn-color0: var(--md-orange-700);
}

/* not sure what to do with this one, used in filebrowser listing */
.jp-DragIcon {
  margin-right: 4px;
}

/*-----------------------------------------------------------------------------
| Copyright (c) Jupyter Development Team.
| Distributed under the terms of the Modified BSD License.
|----------------------------------------------------------------------------*/

/**
 * Support for alt colors for icons as inline SVG HTMLElements
 */

/* alt recolor the primary elements of an icon */
.jp-icon-alt .jp-icon0[fill] {
  fill: var(--jp-layout-color0);
}
.jp-icon-alt .jp-icon1[fill] {
  fill: var(--jp-layout-color1);
}
.jp-icon-alt .jp-icon2[fill] {
  fill: var(--jp-layout-color2);
}
.jp-icon-alt .jp-icon3[fill] {
  fill: var(--jp-layout-color3);
}
.jp-icon-alt .jp-icon4[fill] {
  fill: var(--jp-layout-color4);
}

.jp-icon-alt .jp-icon0[stroke] {
  stroke: var(--jp-layout-color0);
}
.jp-icon-alt .jp-icon1[stroke] {
  stroke: var(--jp-layout-color1);
}
.jp-icon-alt .jp-icon2[stroke] {
  stroke: var(--jp-layout-color2);
}
.jp-icon-alt .jp-icon3[stroke] {
  stroke: var(--jp-layout-color3);
}
.jp-icon-alt .jp-icon4[stroke] {
  stroke: var(--jp-layout-color4);
}

/* alt recolor the accent elements of an icon */
.jp-icon-alt .jp-icon-accent0[fill] {
  fill: var(--jp-inverse-layout-color0);
}
.jp-icon-alt .jp-icon-accent1[fill] {
  fill: var(--jp-inverse-layout-color1);
}
.jp-icon-alt .jp-icon-accent2[fill] {
  fill: var(--jp-inverse-layout-color2);
}
.jp-icon-alt .jp-icon-accent3[fill] {
  fill: var(--jp-inverse-layout-color3);
}
.jp-icon-alt .jp-icon-accent4[fill] {
  fill: var(--jp-inverse-layout-color4);
}

.jp-icon-alt .jp-icon-accent0[stroke] {
  stroke: var(--jp-inverse-layout-color0);
}
.jp-icon-alt .jp-icon-accent1[stroke] {
  stroke: var(--jp-inverse-layout-color1);
}
.jp-icon-alt .jp-icon-accent2[stroke] {
  stroke: var(--jp-inverse-layout-color2);
}
.jp-icon-alt .jp-icon-accent3[stroke] {
  stroke: var(--jp-inverse-layout-color3);
}
.jp-icon-alt .jp-icon-accent4[stroke] {
  stroke: var(--jp-inverse-layout-color4);
}

/*-----------------------------------------------------------------------------
| Copyright (c) Jupyter Development Team.
| Distributed under the terms of the Modified BSD License.
|----------------------------------------------------------------------------*/

.jp-icon-hoverShow:not(:hover) svg {
  display: none !important;
}

/**
 * Support for hover colors for icons as inline SVG HTMLElements
 */

/**
 * regular colors
 */

/* recolor the primary elements of an icon */
.jp-icon-hover :hover .jp-icon0-hover[fill] {
  fill: var(--jp-inverse-layout-color0);
}
.jp-icon-hover :hover .jp-icon1-hover[fill] {
  fill: var(--jp-inverse-layout-color1);
}
.jp-icon-hover :hover .jp-icon2-hover[fill] {
  fill: var(--jp-inverse-layout-color2);
}
.jp-icon-hover :hover .jp-icon3-hover[fill] {
  fill: var(--jp-inverse-layout-color3);
}
.jp-icon-hover :hover .jp-icon4-hover[fill] {
  fill: var(--jp-inverse-layout-color4);
}

.jp-icon-hover :hover .jp-icon0-hover[stroke] {
  stroke: var(--jp-inverse-layout-color0);
}
.jp-icon-hover :hover .jp-icon1-hover[stroke] {
  stroke: var(--jp-inverse-layout-color1);
}
.jp-icon-hover :hover .jp-icon2-hover[stroke] {
  stroke: var(--jp-inverse-layout-color2);
}
.jp-icon-hover :hover .jp-icon3-hover[stroke] {
  stroke: var(--jp-inverse-layout-color3);
}
.jp-icon-hover :hover .jp-icon4-hover[stroke] {
  stroke: var(--jp-inverse-layout-color4);
}

/* recolor the accent elements of an icon */
.jp-icon-hover :hover .jp-icon-accent0-hover[fill] {
  fill: var(--jp-layout-color0);
}
.jp-icon-hover :hover .jp-icon-accent1-hover[fill] {
  fill: var(--jp-layout-color1);
}
.jp-icon-hover :hover .jp-icon-accent2-hover[fill] {
  fill: var(--jp-layout-color2);
}
.jp-icon-hover :hover .jp-icon-accent3-hover[fill] {
  fill: var(--jp-layout-color3);
}
.jp-icon-hover :hover .jp-icon-accent4-hover[fill] {
  fill: var(--jp-layout-color4);
}

.jp-icon-hover :hover .jp-icon-accent0-hover[stroke] {
  stroke: var(--jp-layout-color0);
}
.jp-icon-hover :hover .jp-icon-accent1-hover[stroke] {
  stroke: var(--jp-layout-color1);
}
.jp-icon-hover :hover .jp-icon-accent2-hover[stroke] {
  stroke: var(--jp-layout-color2);
}
.jp-icon-hover :hover .jp-icon-accent3-hover[stroke] {
  stroke: var(--jp-layout-color3);
}
.jp-icon-hover :hover .jp-icon-accent4-hover[stroke] {
  stroke: var(--jp-layout-color4);
}

/* set the color of an icon to transparent */
.jp-icon-hover :hover .jp-icon-none-hover[fill] {
  fill: none;
}

.jp-icon-hover :hover .jp-icon-none-hover[stroke] {
  stroke: none;
}

/**
 * inverse colors
 */

/* inverse recolor the primary elements of an icon */
.jp-icon-hover.jp-icon-alt :hover .jp-icon0-hover[fill] {
  fill: var(--jp-layout-color0);
}
.jp-icon-hover.jp-icon-alt :hover .jp-icon1-hover[fill] {
  fill: var(--jp-layout-color1);
}
.jp-icon-hover.jp-icon-alt :hover .jp-icon2-hover[fill] {
  fill: var(--jp-layout-color2);
}
.jp-icon-hover.jp-icon-alt :hover .jp-icon3-hover[fill] {
  fill: var(--jp-layout-color3);
}
.jp-icon-hover.jp-icon-alt :hover .jp-icon4-hover[fill] {
  fill: var(--jp-layout-color4);
}

.jp-icon-hover.jp-icon-alt :hover .jp-icon0-hover[stroke] {
  stroke: var(--jp-layout-color0);
}
.jp-icon-hover.jp-icon-alt :hover .jp-icon1-hover[stroke] {
  stroke: var(--jp-layout-color1);
}
.jp-icon-hover.jp-icon-alt :hover .jp-icon2-hover[stroke] {
  stroke: var(--jp-layout-color2);
}
.jp-icon-hover.jp-icon-alt :hover .jp-icon3-hover[stroke] {
  stroke: var(--jp-layout-color3);
}
.jp-icon-hover.jp-icon-alt :hover .jp-icon4-hover[stroke] {
  stroke: var(--jp-layout-color4);
}

/* inverse recolor the accent elements of an icon */
.jp-icon-hover.jp-icon-alt :hover .jp-icon-accent0-hover[fill] {
  fill: var(--jp-inverse-layout-color0);
}
.jp-icon-hover.jp-icon-alt :hover .jp-icon-accent1-hover[fill] {
  fill: var(--jp-inverse-layout-color1);
}
.jp-icon-hover.jp-icon-alt :hover .jp-icon-accent2-hover[fill] {
  fill: var(--jp-inverse-layout-color2);
}
.jp-icon-hover.jp-icon-alt :hover .jp-icon-accent3-hover[fill] {
  fill: var(--jp-inverse-layout-color3);
}
.jp-icon-hover.jp-icon-alt :hover .jp-icon-accent4-hover[fill] {
  fill: var(--jp-inverse-layout-color4);
}

.jp-icon-hover.jp-icon-alt :hover .jp-icon-accent0-hover[stroke] {
  stroke: var(--jp-inverse-layout-color0);
}
.jp-icon-hover.jp-icon-alt :hover .jp-icon-accent1-hover[stroke] {
  stroke: var(--jp-inverse-layout-color1);
}
.jp-icon-hover.jp-icon-alt :hover .jp-icon-accent2-hover[stroke] {
  stroke: var(--jp-inverse-layout-color2);
}
.jp-icon-hover.jp-icon-alt :hover .jp-icon-accent3-hover[stroke] {
  stroke: var(--jp-inverse-layout-color3);
}
.jp-icon-hover.jp-icon-alt :hover .jp-icon-accent4-hover[stroke] {
  stroke: var(--jp-inverse-layout-color4);
}

/*-----------------------------------------------------------------------------
| Copyright (c) Jupyter Development Team.
| Distributed under the terms of the Modified BSD License.
|----------------------------------------------------------------------------*/

.jp-switch {
  display: flex;
  align-items: center;
  padding-left: 4px;
  padding-right: 4px;
  font-size: var(--jp-ui-font-size1);
  background-color: transparent;
  color: var(--jp-ui-font-color1);
  border: none;
  height: 20px;
}

.jp-switch:hover {
  background-color: var(--jp-layout-color2);
}

.jp-switch-label {
  margin-right: 5px;
}

.jp-switch-track {
  cursor: pointer;
  background-color: var(--jp-border-color1);
  -webkit-transition: 0.4s;
  transition: 0.4s;
  border-radius: 34px;
  height: 16px;
  width: 35px;
  position: relative;
}

.jp-switch-track::before {
  content: '';
  position: absolute;
  height: 10px;
  width: 10px;
  margin: 3px;
  left: 0px;
  background-color: var(--jp-ui-inverse-font-color1);
  -webkit-transition: 0.4s;
  transition: 0.4s;
  border-radius: 50%;
}

.jp-switch[aria-checked='true'] .jp-switch-track {
  background-color: var(--jp-warn-color0);
}

.jp-switch[aria-checked='true'] .jp-switch-track::before {
  /* track width (35) - margins (3 + 3) - thumb width (10) */
  left: 19px;
}

/*-----------------------------------------------------------------------------
| Copyright (c) Jupyter Development Team.
| Distributed under the terms of the Modified BSD License.
|----------------------------------------------------------------------------*/

/* Sibling imports */

/* Override Blueprint's _reset.scss styles */
html {
  box-sizing: unset;
}

*,
*::before,
*::after {
  box-sizing: unset;
}

body {
  color: unset;
  font-family: var(--jp-ui-font-family);
}

p {
  margin-top: unset;
  margin-bottom: unset;
}

small {
  font-size: unset;
}

strong {
  font-weight: unset;
}

/* Override Blueprint's _typography.scss styles */
a {
  text-decoration: unset;
  color: unset;
}
a:hover {
  text-decoration: unset;
  color: unset;
}

/* Override Blueprint's _accessibility.scss styles */
:focus {
  outline: unset;
  outline-offset: unset;
  -moz-outline-radius: unset;
}

/* Styles for ui-components */
.jp-Button {
  border-radius: var(--jp-border-radius);
  padding: 0px 12px;
  font-size: var(--jp-ui-font-size1);
}

/* Use our own theme for hover styles */
button.jp-Button.bp3-button.bp3-minimal:hover {
  background-color: var(--jp-layout-color2);
}
.jp-Button.minimal {
  color: unset !important;
}

.jp-Button.jp-ToolbarButtonComponent {
  text-transform: none;
}

.jp-InputGroup input {
  box-sizing: border-box;
  border-radius: 0;
  background-color: transparent;
  color: var(--jp-ui-font-color0);
  box-shadow: inset 0 0 0 var(--jp-border-width) var(--jp-input-border-color);
}

.jp-InputGroup input:focus {
  box-shadow: inset 0 0 0 var(--jp-border-width)
      var(--jp-input-active-box-shadow-color),
    inset 0 0 0 3px var(--jp-input-active-box-shadow-color);
}

.jp-InputGroup input::placeholder,
input::placeholder {
  color: var(--jp-ui-font-color3);
}

.jp-BPIcon {
  display: inline-block;
  vertical-align: middle;
  margin: auto;
}

/* Stop blueprint futzing with our icon fills */
.bp3-icon.jp-BPIcon > svg:not([fill]) {
  fill: var(--jp-inverse-layout-color3);
}

.jp-InputGroupAction {
  padding: 6px;
}

.jp-HTMLSelect.jp-DefaultStyle select {
  background-color: initial;
  border: none;
  border-radius: 0;
  box-shadow: none;
  color: var(--jp-ui-font-color0);
  display: block;
  font-size: var(--jp-ui-font-size1);
  height: 24px;
  line-height: 14px;
  padding: 0 25px 0 10px;
  text-align: left;
  -moz-appearance: none;
  -webkit-appearance: none;
}

/* Use our own theme for hover and option styles */
.jp-HTMLSelect.jp-DefaultStyle select:hover,
.jp-HTMLSelect.jp-DefaultStyle select > option {
  background-color: var(--jp-layout-color2);
  color: var(--jp-ui-font-color0);
}
select {
  box-sizing: border-box;
}

/*-----------------------------------------------------------------------------
| Copyright (c) Jupyter Development Team.
| Distributed under the terms of the Modified BSD License.
|----------------------------------------------------------------------------*/

.jp-Collapse {
  display: flex;
  flex-direction: column;
  align-items: stretch;
  border-top: 1px solid var(--jp-border-color2);
  border-bottom: 1px solid var(--jp-border-color2);
}

.jp-Collapse-header {
  padding: 1px 12px;
  color: var(--jp-ui-font-color1);
  background-color: var(--jp-layout-color1);
  font-size: var(--jp-ui-font-size2);
}

.jp-Collapse-header:hover {
  background-color: var(--jp-layout-color2);
}

.jp-Collapse-contents {
  padding: 0px 12px 0px 12px;
  background-color: var(--jp-layout-color1);
  color: var(--jp-ui-font-color1);
  overflow: auto;
}

/*-----------------------------------------------------------------------------
| Copyright (c) Jupyter Development Team.
| Distributed under the terms of the Modified BSD License.
|----------------------------------------------------------------------------*/

/*-----------------------------------------------------------------------------
| Variables
|----------------------------------------------------------------------------*/

:root {
  --jp-private-commandpalette-search-height: 28px;
}

/*-----------------------------------------------------------------------------
| Overall styles
|----------------------------------------------------------------------------*/

.lm-CommandPalette {
  padding-bottom: 0px;
  color: var(--jp-ui-font-color1);
  background: var(--jp-layout-color1);
  /* This is needed so that all font sizing of children done in ems is
   * relative to this base size */
  font-size: var(--jp-ui-font-size1);
}

/*-----------------------------------------------------------------------------
| Modal variant
|----------------------------------------------------------------------------*/

.jp-ModalCommandPalette {
  position: absolute;
  z-index: 10000;
  top: 38px;
  left: 30%;
  margin: 0;
  padding: 4px;
  width: 40%;
  box-shadow: var(--jp-elevation-z4);
  border-radius: 4px;
  background: var(--jp-layout-color0);
}

.jp-ModalCommandPalette .lm-CommandPalette {
  max-height: 40vh;
}

.jp-ModalCommandPalette .lm-CommandPalette .lm-close-icon::after {
  display: none;
}

.jp-ModalCommandPalette .lm-CommandPalette .lm-CommandPalette-header {
  display: none;
}

.jp-ModalCommandPalette .lm-CommandPalette .lm-CommandPalette-item {
  margin-left: 4px;
  margin-right: 4px;
}

.jp-ModalCommandPalette
  .lm-CommandPalette
  .lm-CommandPalette-item.lm-mod-disabled {
  display: none;
}

/*-----------------------------------------------------------------------------
| Search
|----------------------------------------------------------------------------*/

.lm-CommandPalette-search {
  padding: 4px;
  background-color: var(--jp-layout-color1);
  z-index: 2;
}

.lm-CommandPalette-wrapper {
  overflow: overlay;
  padding: 0px 9px;
  background-color: var(--jp-input-active-background);
  height: 30px;
  box-shadow: inset 0 0 0 var(--jp-border-width) var(--jp-input-border-color);
}

.lm-CommandPalette.lm-mod-focused .lm-CommandPalette-wrapper {
  box-shadow: inset 0 0 0 1px var(--jp-input-active-box-shadow-color),
    inset 0 0 0 3px var(--jp-input-active-box-shadow-color);
}

.jp-SearchIconGroup {
  color: white;
  background-color: var(--jp-brand-color1);
  position: absolute;
  top: 4px;
  right: 4px;
  padding: 5px 5px 1px 5px;
}

.jp-SearchIconGroup svg {
  height: 20px;
  width: 20px;
}

.jp-SearchIconGroup .jp-icon3[fill] {
  fill: var(--jp-layout-color0);
}

.lm-CommandPalette-input {
  background: transparent;
  width: calc(100% - 18px);
  float: left;
  border: none;
  outline: none;
  font-size: var(--jp-ui-font-size1);
  color: var(--jp-ui-font-color0);
  line-height: var(--jp-private-commandpalette-search-height);
}

.lm-CommandPalette-input::-webkit-input-placeholder,
.lm-CommandPalette-input::-moz-placeholder,
.lm-CommandPalette-input:-ms-input-placeholder {
  color: var(--jp-ui-font-color2);
  font-size: var(--jp-ui-font-size1);
}

/*-----------------------------------------------------------------------------
| Results
|----------------------------------------------------------------------------*/

.lm-CommandPalette-header:first-child {
  margin-top: 0px;
}

.lm-CommandPalette-header {
  border-bottom: solid var(--jp-border-width) var(--jp-border-color2);
  color: var(--jp-ui-font-color1);
  cursor: pointer;
  display: flex;
  font-size: var(--jp-ui-font-size0);
  font-weight: 600;
  letter-spacing: 1px;
  margin-top: 8px;
  padding: 8px 0 8px 12px;
  text-transform: uppercase;
}

.lm-CommandPalette-header.lm-mod-active {
  background: var(--jp-layout-color2);
}

.lm-CommandPalette-header > mark {
  background-color: transparent;
  font-weight: bold;
  color: var(--jp-ui-font-color1);
}

.lm-CommandPalette-item {
  padding: 4px 12px 4px 4px;
  color: var(--jp-ui-font-color1);
  font-size: var(--jp-ui-font-size1);
  font-weight: 400;
  display: flex;
}

.lm-CommandPalette-item.lm-mod-disabled {
  color: var(--jp-ui-font-color2);
}

.lm-CommandPalette-item.lm-mod-active {
  color: var(--jp-ui-inverse-font-color1);
  background: var(--jp-brand-color1);
}

.lm-CommandPalette-item.lm-mod-active .lm-CommandPalette-itemLabel > mark {
  color: var(--jp-ui-inverse-font-color0);
}

.lm-CommandPalette-item.lm-mod-active .jp-icon-selectable[fill] {
  fill: var(--jp-layout-color0);
}

.lm-CommandPalette-item.lm-mod-active .lm-CommandPalette-itemLabel > mark {
  color: var(--jp-ui-inverse-font-color0);
}

.lm-CommandPalette-item.lm-mod-active:hover:not(.lm-mod-disabled) {
  color: var(--jp-ui-inverse-font-color1);
  background: var(--jp-brand-color1);
}

.lm-CommandPalette-item:hover:not(.lm-mod-active):not(.lm-mod-disabled) {
  background: var(--jp-layout-color2);
}

.lm-CommandPalette-itemContent {
  overflow: hidden;
}

.lm-CommandPalette-itemLabel > mark {
  color: var(--jp-ui-font-color0);
  background-color: transparent;
  font-weight: bold;
}

.lm-CommandPalette-item.lm-mod-disabled mark {
  color: var(--jp-ui-font-color2);
}

.lm-CommandPalette-item .lm-CommandPalette-itemIcon {
  margin: 0 4px 0 0;
  position: relative;
  width: 16px;
  top: 2px;
  flex: 0 0 auto;
}

.lm-CommandPalette-item.lm-mod-disabled .lm-CommandPalette-itemIcon {
  opacity: 0.6;
}

.lm-CommandPalette-item .lm-CommandPalette-itemShortcut {
  flex: 0 0 auto;
}

.lm-CommandPalette-itemCaption {
  display: none;
}

.lm-CommandPalette-content {
  background-color: var(--jp-layout-color1);
}

.lm-CommandPalette-content:empty:after {
  content: 'No results';
  margin: auto;
  margin-top: 20px;
  width: 100px;
  display: block;
  font-size: var(--jp-ui-font-size2);
  font-family: var(--jp-ui-font-family);
  font-weight: lighter;
}

.lm-CommandPalette-emptyMessage {
  text-align: center;
  margin-top: 24px;
  line-height: 1.32;
  padding: 0px 8px;
  color: var(--jp-content-font-color3);
}

/*-----------------------------------------------------------------------------
| Copyright (c) 2014-2017, Jupyter Development Team.
|
| Distributed under the terms of the Modified BSD License.
|----------------------------------------------------------------------------*/

.jp-Dialog {
  position: absolute;
  z-index: 10000;
  display: flex;
  flex-direction: column;
  align-items: center;
  justify-content: center;
  top: 0px;
  left: 0px;
  margin: 0;
  padding: 0;
  width: 100%;
  height: 100%;
  background: var(--jp-dialog-background);
}

.jp-Dialog-content {
  display: flex;
  flex-direction: column;
  margin-left: auto;
  margin-right: auto;
  background: var(--jp-layout-color1);
  padding: 24px;
  padding-bottom: 12px;
  min-width: 300px;
  min-height: 150px;
  max-width: 1000px;
  max-height: 500px;
  box-sizing: border-box;
  box-shadow: var(--jp-elevation-z20);
  word-wrap: break-word;
  border-radius: var(--jp-border-radius);
  /* This is needed so that all font sizing of children done in ems is
   * relative to this base size */
  font-size: var(--jp-ui-font-size1);
  color: var(--jp-ui-font-color1);
  resize: both;
}

.jp-Dialog-button {
  overflow: visible;
}

button.jp-Dialog-button:focus {
  outline: 1px solid var(--jp-brand-color1);
  outline-offset: 4px;
  -moz-outline-radius: 0px;
}

button.jp-Dialog-button:focus::-moz-focus-inner {
  border: 0;
}

button.jp-Dialog-close-button {
  padding: 0;
  height: 100%;
  min-width: unset;
  min-height: unset;
}

.jp-Dialog-header {
  display: flex;
  justify-content: space-between;
  flex: 0 0 auto;
  padding-bottom: 12px;
  font-size: var(--jp-ui-font-size3);
  font-weight: 400;
  color: var(--jp-ui-font-color0);
}

.jp-Dialog-body {
  display: flex;
  flex-direction: column;
  flex: 1 1 auto;
  font-size: var(--jp-ui-font-size1);
  background: var(--jp-layout-color1);
  overflow: auto;
}

.jp-Dialog-footer {
  display: flex;
  flex-direction: row;
  justify-content: flex-end;
  flex: 0 0 auto;
  margin-left: -12px;
  margin-right: -12px;
  padding: 12px;
}

.jp-Dialog-title {
  overflow: hidden;
  white-space: nowrap;
  text-overflow: ellipsis;
}

.jp-Dialog-body > .jp-select-wrapper {
  width: 100%;
}

.jp-Dialog-body > button {
  padding: 0px 16px;
}

.jp-Dialog-body > label {
  line-height: 1.4;
  color: var(--jp-ui-font-color0);
}

.jp-Dialog-button.jp-mod-styled:not(:last-child) {
  margin-right: 12px;
}

/*-----------------------------------------------------------------------------
| Copyright (c) 2014-2016, Jupyter Development Team.
|
| Distributed under the terms of the Modified BSD License.
|----------------------------------------------------------------------------*/

.jp-HoverBox {
  position: fixed;
}

.jp-HoverBox.jp-mod-outofview {
  display: none;
}

/*-----------------------------------------------------------------------------
| Copyright (c) Jupyter Development Team.
| Distributed under the terms of the Modified BSD License.
|----------------------------------------------------------------------------*/

.jp-IFrame {
  width: 100%;
  height: 100%;
}

.jp-IFrame > iframe {
  border: none;
}

/*
When drag events occur, `p-mod-override-cursor` is added to the body.
Because iframes steal all cursor events, the following two rules are necessary
to suppress pointer events while resize drags are occurring. There may be a
better solution to this problem.
*/
body.lm-mod-override-cursor .jp-IFrame {
  position: relative;
}

body.lm-mod-override-cursor .jp-IFrame:before {
  content: '';
  position: absolute;
  top: 0;
  left: 0;
  right: 0;
  bottom: 0;
  background: transparent;
}

.jp-Input-Boolean-Dialog {
  flex-direction: row-reverse;
  align-items: end;
  width: 100%;
}

.jp-Input-Boolean-Dialog > label {
  flex: 1 1 auto;
}

/*-----------------------------------------------------------------------------
| Copyright (c) 2014-2016, Jupyter Development Team.
|
| Distributed under the terms of the Modified BSD License.
|----------------------------------------------------------------------------*/

.jp-MainAreaWidget > :focus {
  outline: none;
}

/**
 * google-material-color v1.2.6
 * https://github.com/danlevan/google-material-color
 */
:root {
  --md-red-50: #ffebee;
  --md-red-100: #ffcdd2;
  --md-red-200: #ef9a9a;
  --md-red-300: #e57373;
  --md-red-400: #ef5350;
  --md-red-500: #f44336;
  --md-red-600: #e53935;
  --md-red-700: #d32f2f;
  --md-red-800: #c62828;
  --md-red-900: #b71c1c;
  --md-red-A100: #ff8a80;
  --md-red-A200: #ff5252;
  --md-red-A400: #ff1744;
  --md-red-A700: #d50000;

  --md-pink-50: #fce4ec;
  --md-pink-100: #f8bbd0;
  --md-pink-200: #f48fb1;
  --md-pink-300: #f06292;
  --md-pink-400: #ec407a;
  --md-pink-500: #e91e63;
  --md-pink-600: #d81b60;
  --md-pink-700: #c2185b;
  --md-pink-800: #ad1457;
  --md-pink-900: #880e4f;
  --md-pink-A100: #ff80ab;
  --md-pink-A200: #ff4081;
  --md-pink-A400: #f50057;
  --md-pink-A700: #c51162;

  --md-purple-50: #f3e5f5;
  --md-purple-100: #e1bee7;
  --md-purple-200: #ce93d8;
  --md-purple-300: #ba68c8;
  --md-purple-400: #ab47bc;
  --md-purple-500: #9c27b0;
  --md-purple-600: #8e24aa;
  --md-purple-700: #7b1fa2;
  --md-purple-800: #6a1b9a;
  --md-purple-900: #4a148c;
  --md-purple-A100: #ea80fc;
  --md-purple-A200: #e040fb;
  --md-purple-A400: #d500f9;
  --md-purple-A700: #aa00ff;

  --md-deep-purple-50: #ede7f6;
  --md-deep-purple-100: #d1c4e9;
  --md-deep-purple-200: #b39ddb;
  --md-deep-purple-300: #9575cd;
  --md-deep-purple-400: #7e57c2;
  --md-deep-purple-500: #673ab7;
  --md-deep-purple-600: #5e35b1;
  --md-deep-purple-700: #512da8;
  --md-deep-purple-800: #4527a0;
  --md-deep-purple-900: #311b92;
  --md-deep-purple-A100: #b388ff;
  --md-deep-purple-A200: #7c4dff;
  --md-deep-purple-A400: #651fff;
  --md-deep-purple-A700: #6200ea;

  --md-indigo-50: #e8eaf6;
  --md-indigo-100: #c5cae9;
  --md-indigo-200: #9fa8da;
  --md-indigo-300: #7986cb;
  --md-indigo-400: #5c6bc0;
  --md-indigo-500: #3f51b5;
  --md-indigo-600: #3949ab;
  --md-indigo-700: #303f9f;
  --md-indigo-800: #283593;
  --md-indigo-900: #1a237e;
  --md-indigo-A100: #8c9eff;
  --md-indigo-A200: #536dfe;
  --md-indigo-A400: #3d5afe;
  --md-indigo-A700: #304ffe;

  --md-blue-50: #e3f2fd;
  --md-blue-100: #bbdefb;
  --md-blue-200: #90caf9;
  --md-blue-300: #64b5f6;
  --md-blue-400: #42a5f5;
  --md-blue-500: #2196f3;
  --md-blue-600: #1e88e5;
  --md-blue-700: #1976d2;
  --md-blue-800: #1565c0;
  --md-blue-900: #0d47a1;
  --md-blue-A100: #82b1ff;
  --md-blue-A200: #448aff;
  --md-blue-A400: #2979ff;
  --md-blue-A700: #2962ff;

  --md-light-blue-50: #e1f5fe;
  --md-light-blue-100: #b3e5fc;
  --md-light-blue-200: #81d4fa;
  --md-light-blue-300: #4fc3f7;
  --md-light-blue-400: #29b6f6;
  --md-light-blue-500: #03a9f4;
  --md-light-blue-600: #039be5;
  --md-light-blue-700: #0288d1;
  --md-light-blue-800: #0277bd;
  --md-light-blue-900: #01579b;
  --md-light-blue-A100: #80d8ff;
  --md-light-blue-A200: #40c4ff;
  --md-light-blue-A400: #00b0ff;
  --md-light-blue-A700: #0091ea;

  --md-cyan-50: #e0f7fa;
  --md-cyan-100: #b2ebf2;
  --md-cyan-200: #80deea;
  --md-cyan-300: #4dd0e1;
  --md-cyan-400: #26c6da;
  --md-cyan-500: #00bcd4;
  --md-cyan-600: #00acc1;
  --md-cyan-700: #0097a7;
  --md-cyan-800: #00838f;
  --md-cyan-900: #006064;
  --md-cyan-A100: #84ffff;
  --md-cyan-A200: #18ffff;
  --md-cyan-A400: #00e5ff;
  --md-cyan-A700: #00b8d4;

  --md-teal-50: #e0f2f1;
  --md-teal-100: #b2dfdb;
  --md-teal-200: #80cbc4;
  --md-teal-300: #4db6ac;
  --md-teal-400: #26a69a;
  --md-teal-500: #009688;
  --md-teal-600: #00897b;
  --md-teal-700: #00796b;
  --md-teal-800: #00695c;
  --md-teal-900: #004d40;
  --md-teal-A100: #a7ffeb;
  --md-teal-A200: #64ffda;
  --md-teal-A400: #1de9b6;
  --md-teal-A700: #00bfa5;

  --md-green-50: #e8f5e9;
  --md-green-100: #c8e6c9;
  --md-green-200: #a5d6a7;
  --md-green-300: #81c784;
  --md-green-400: #66bb6a;
  --md-green-500: #4caf50;
  --md-green-600: #43a047;
  --md-green-700: #388e3c;
  --md-green-800: #2e7d32;
  --md-green-900: #1b5e20;
  --md-green-A100: #b9f6ca;
  --md-green-A200: #69f0ae;
  --md-green-A400: #00e676;
  --md-green-A700: #00c853;

  --md-light-green-50: #f1f8e9;
  --md-light-green-100: #dcedc8;
  --md-light-green-200: #c5e1a5;
  --md-light-green-300: #aed581;
  --md-light-green-400: #9ccc65;
  --md-light-green-500: #8bc34a;
  --md-light-green-600: #7cb342;
  --md-light-green-700: #689f38;
  --md-light-green-800: #558b2f;
  --md-light-green-900: #33691e;
  --md-light-green-A100: #ccff90;
  --md-light-green-A200: #b2ff59;
  --md-light-green-A400: #76ff03;
  --md-light-green-A700: #64dd17;

  --md-lime-50: #f9fbe7;
  --md-lime-100: #f0f4c3;
  --md-lime-200: #e6ee9c;
  --md-lime-300: #dce775;
  --md-lime-400: #d4e157;
  --md-lime-500: #cddc39;
  --md-lime-600: #c0ca33;
  --md-lime-700: #afb42b;
  --md-lime-800: #9e9d24;
  --md-lime-900: #827717;
  --md-lime-A100: #f4ff81;
  --md-lime-A200: #eeff41;
  --md-lime-A400: #c6ff00;
  --md-lime-A700: #aeea00;

  --md-yellow-50: #fffde7;
  --md-yellow-100: #fff9c4;
  --md-yellow-200: #fff59d;
  --md-yellow-300: #fff176;
  --md-yellow-400: #ffee58;
  --md-yellow-500: #ffeb3b;
  --md-yellow-600: #fdd835;
  --md-yellow-700: #fbc02d;
  --md-yellow-800: #f9a825;
  --md-yellow-900: #f57f17;
  --md-yellow-A100: #ffff8d;
  --md-yellow-A200: #ffff00;
  --md-yellow-A400: #ffea00;
  --md-yellow-A700: #ffd600;

  --md-amber-50: #fff8e1;
  --md-amber-100: #ffecb3;
  --md-amber-200: #ffe082;
  --md-amber-300: #ffd54f;
  --md-amber-400: #ffca28;
  --md-amber-500: #ffc107;
  --md-amber-600: #ffb300;
  --md-amber-700: #ffa000;
  --md-amber-800: #ff8f00;
  --md-amber-900: #ff6f00;
  --md-amber-A100: #ffe57f;
  --md-amber-A200: #ffd740;
  --md-amber-A400: #ffc400;
  --md-amber-A700: #ffab00;

  --md-orange-50: #fff3e0;
  --md-orange-100: #ffe0b2;
  --md-orange-200: #ffcc80;
  --md-orange-300: #ffb74d;
  --md-orange-400: #ffa726;
  --md-orange-500: #ff9800;
  --md-orange-600: #fb8c00;
  --md-orange-700: #f57c00;
  --md-orange-800: #ef6c00;
  --md-orange-900: #e65100;
  --md-orange-A100: #ffd180;
  --md-orange-A200: #ffab40;
  --md-orange-A400: #ff9100;
  --md-orange-A700: #ff6d00;

  --md-deep-orange-50: #fbe9e7;
  --md-deep-orange-100: #ffccbc;
  --md-deep-orange-200: #ffab91;
  --md-deep-orange-300: #ff8a65;
  --md-deep-orange-400: #ff7043;
  --md-deep-orange-500: #ff5722;
  --md-deep-orange-600: #f4511e;
  --md-deep-orange-700: #e64a19;
  --md-deep-orange-800: #d84315;
  --md-deep-orange-900: #bf360c;
  --md-deep-orange-A100: #ff9e80;
  --md-deep-orange-A200: #ff6e40;
  --md-deep-orange-A400: #ff3d00;
  --md-deep-orange-A700: #dd2c00;

  --md-brown-50: #efebe9;
  --md-brown-100: #d7ccc8;
  --md-brown-200: #bcaaa4;
  --md-brown-300: #a1887f;
  --md-brown-400: #8d6e63;
  --md-brown-500: #795548;
  --md-brown-600: #6d4c41;
  --md-brown-700: #5d4037;
  --md-brown-800: #4e342e;
  --md-brown-900: #3e2723;

  --md-grey-50: #fafafa;
  --md-grey-100: #f5f5f5;
  --md-grey-200: #eeeeee;
  --md-grey-300: #e0e0e0;
  --md-grey-400: #bdbdbd;
  --md-grey-500: #9e9e9e;
  --md-grey-600: #757575;
  --md-grey-700: #616161;
  --md-grey-800: #424242;
  --md-grey-900: #212121;

  --md-blue-grey-50: #eceff1;
  --md-blue-grey-100: #cfd8dc;
  --md-blue-grey-200: #b0bec5;
  --md-blue-grey-300: #90a4ae;
  --md-blue-grey-400: #78909c;
  --md-blue-grey-500: #607d8b;
  --md-blue-grey-600: #546e7a;
  --md-blue-grey-700: #455a64;
  --md-blue-grey-800: #37474f;
  --md-blue-grey-900: #263238;
}

/*-----------------------------------------------------------------------------
| Copyright (c) 2017, Jupyter Development Team.
|
| Distributed under the terms of the Modified BSD License.
|----------------------------------------------------------------------------*/

.jp-Spinner {
  position: absolute;
  display: flex;
  justify-content: center;
  align-items: center;
  z-index: 10;
  left: 0;
  top: 0;
  width: 100%;
  height: 100%;
  background: var(--jp-layout-color0);
  outline: none;
}

.jp-SpinnerContent {
  font-size: 10px;
  margin: 50px auto;
  text-indent: -9999em;
  width: 3em;
  height: 3em;
  border-radius: 50%;
  background: var(--jp-brand-color3);
  background: linear-gradient(
    to right,
    #f37626 10%,
    rgba(255, 255, 255, 0) 42%
  );
  position: relative;
  animation: load3 1s infinite linear, fadeIn 1s;
}

.jp-SpinnerContent:before {
  width: 50%;
  height: 50%;
  background: #f37626;
  border-radius: 100% 0 0 0;
  position: absolute;
  top: 0;
  left: 0;
  content: '';
}

.jp-SpinnerContent:after {
  background: var(--jp-layout-color0);
  width: 75%;
  height: 75%;
  border-radius: 50%;
  content: '';
  margin: auto;
  position: absolute;
  top: 0;
  left: 0;
  bottom: 0;
  right: 0;
}

@keyframes fadeIn {
  0% {
    opacity: 0;
  }
  100% {
    opacity: 1;
  }
}

@keyframes load3 {
  0% {
    transform: rotate(0deg);
  }
  100% {
    transform: rotate(360deg);
  }
}

/*-----------------------------------------------------------------------------
| Copyright (c) 2014-2017, Jupyter Development Team.
|
| Distributed under the terms of the Modified BSD License.
|----------------------------------------------------------------------------*/

button.jp-mod-styled {
  font-size: var(--jp-ui-font-size1);
  color: var(--jp-ui-font-color0);
  border: none;
  box-sizing: border-box;
  text-align: center;
  line-height: 32px;
  height: 32px;
  padding: 0px 12px;
  letter-spacing: 0.8px;
  outline: none;
  appearance: none;
  -webkit-appearance: none;
  -moz-appearance: none;
}

input.jp-mod-styled {
  background: var(--jp-input-background);
  height: 28px;
  box-sizing: border-box;
  border: var(--jp-border-width) solid var(--jp-border-color1);
  padding-left: 7px;
  padding-right: 7px;
  font-size: var(--jp-ui-font-size2);
  color: var(--jp-ui-font-color0);
  outline: none;
  appearance: none;
  -webkit-appearance: none;
  -moz-appearance: none;
}

input[type='checkbox'].jp-mod-styled {
  appearance: checkbox;
  -webkit-appearance: checkbox;
  -moz-appearance: checkbox;
  height: auto;
}

input.jp-mod-styled:focus {
  border: var(--jp-border-width) solid var(--md-blue-500);
  box-shadow: inset 0 0 4px var(--md-blue-300);
}

.jp-FileDialog-Checkbox {
  margin-top: 35px;
  display: flex;
  flex-direction: row;
  align-items: end;
  width: 100%;
}

.jp-FileDialog-Checkbox > label {
  flex: 1 1 auto;
}

.jp-select-wrapper {
  display: flex;
  position: relative;
  flex-direction: column;
  padding: 1px;
  background-color: var(--jp-layout-color1);
  height: 28px;
  box-sizing: border-box;
  margin-bottom: 12px;
}

.jp-select-wrapper.jp-mod-focused select.jp-mod-styled {
  border: var(--jp-border-width) solid var(--jp-input-active-border-color);
  box-shadow: var(--jp-input-box-shadow);
  background-color: var(--jp-input-active-background);
}

select.jp-mod-styled:hover {
  background-color: var(--jp-layout-color1);
  cursor: pointer;
  color: var(--jp-ui-font-color0);
  background-color: var(--jp-input-hover-background);
  box-shadow: inset 0 0px 1px rgba(0, 0, 0, 0.5);
}

select.jp-mod-styled {
  flex: 1 1 auto;
  height: 32px;
  width: 100%;
  font-size: var(--jp-ui-font-size2);
  background: var(--jp-input-background);
  color: var(--jp-ui-font-color0);
  padding: 0 25px 0 8px;
  border: var(--jp-border-width) solid var(--jp-input-border-color);
  border-radius: 0px;
  outline: none;
  appearance: none;
  -webkit-appearance: none;
  -moz-appearance: none;
}

/*-----------------------------------------------------------------------------
| Copyright (c) 2014-2016, Jupyter Development Team.
|
| Distributed under the terms of the Modified BSD License.
|----------------------------------------------------------------------------*/

:root {
  --jp-private-toolbar-height: calc(
    28px + var(--jp-border-width)
  ); /* leave 28px for content */
}

.jp-Toolbar {
  color: var(--jp-ui-font-color1);
  flex: 0 0 auto;
  display: flex;
  flex-direction: row;
  border-bottom: var(--jp-border-width) solid var(--jp-toolbar-border-color);
  box-shadow: var(--jp-toolbar-box-shadow);
  background: var(--jp-toolbar-background);
  min-height: var(--jp-toolbar-micro-height);
  padding: 2px;
  z-index: 1;
  overflow-x: auto;
}

/* Toolbar items */

.jp-Toolbar > .jp-Toolbar-item.jp-Toolbar-spacer {
  flex-grow: 1;
  flex-shrink: 1;
}

.jp-Toolbar-item.jp-Toolbar-kernelStatus {
  display: inline-block;
  width: 32px;
  background-repeat: no-repeat;
  background-position: center;
  background-size: 16px;
}

.jp-Toolbar > .jp-Toolbar-item {
  flex: 0 0 auto;
  display: flex;
  padding-left: 1px;
  padding-right: 1px;
  font-size: var(--jp-ui-font-size1);
  line-height: var(--jp-private-toolbar-height);
  height: 100%;
}

/* Toolbar buttons */

/* This is the div we use to wrap the react component into a Widget */
div.jp-ToolbarButton {
  color: transparent;
  border: none;
  box-sizing: border-box;
  outline: none;
  appearance: none;
  -webkit-appearance: none;
  -moz-appearance: none;
  padding: 0px;
  margin: 0px;
}

button.jp-ToolbarButtonComponent {
  background: var(--jp-layout-color1);
  border: none;
  box-sizing: border-box;
  outline: none;
  appearance: none;
  -webkit-appearance: none;
  -moz-appearance: none;
  padding: 0px 6px;
  margin: 0px;
  height: 24px;
  border-radius: var(--jp-border-radius);
  display: flex;
  align-items: center;
  text-align: center;
  font-size: 14px;
  min-width: unset;
  min-height: unset;
}

button.jp-ToolbarButtonComponent:disabled {
  opacity: 0.4;
}

button.jp-ToolbarButtonComponent span {
  padding: 0px;
  flex: 0 0 auto;
}

button.jp-ToolbarButtonComponent .jp-ToolbarButtonComponent-label {
  font-size: var(--jp-ui-font-size1);
  line-height: 100%;
  padding-left: 2px;
  color: var(--jp-ui-font-color1);
}

#jp-main-dock-panel[data-mode='single-document']
  .jp-MainAreaWidget
  > .jp-Toolbar.jp-Toolbar-micro {
  padding: 0;
  min-height: 0;
}

#jp-main-dock-panel[data-mode='single-document']
  .jp-MainAreaWidget
  > .jp-Toolbar {
  border: none;
  box-shadow: none;
}

/*-----------------------------------------------------------------------------
| Copyright (c) 2014-2017, Jupyter Development Team.
|
| Distributed under the terms of the Modified BSD License.
|----------------------------------------------------------------------------*/

/*-----------------------------------------------------------------------------
| Copyright (c) Jupyter Development Team.
| Copyright (c) 2014-2017, PhosphorJS Contributors
|
| Distributed under the terms of the BSD 3-Clause License.
|
| The full license is in the file LICENSE, distributed with this software.
|----------------------------------------------------------------------------*/


/* <DEPRECATED> */ body.p-mod-override-cursor *, /* </DEPRECATED> */
body.lm-mod-override-cursor * {
  cursor: inherit !important;
}

/*-----------------------------------------------------------------------------
| Copyright (c) 2014-2016, Jupyter Development Team.
|
| Distributed under the terms of the Modified BSD License.
|----------------------------------------------------------------------------*/

.jp-JSONEditor {
  display: flex;
  flex-direction: column;
  width: 100%;
}

.jp-JSONEditor-host {
  flex: 1 1 auto;
  border: var(--jp-border-width) solid var(--jp-input-border-color);
  border-radius: 0px;
  background: var(--jp-layout-color0);
  min-height: 50px;
  padding: 1px;
}

.jp-JSONEditor.jp-mod-error .jp-JSONEditor-host {
  border-color: red;
  outline-color: red;
}

.jp-JSONEditor-header {
  display: flex;
  flex: 1 0 auto;
  padding: 0 0 0 12px;
}

.jp-JSONEditor-header label {
  flex: 0 0 auto;
}

.jp-JSONEditor-commitButton {
  height: 16px;
  width: 16px;
  background-size: 18px;
  background-repeat: no-repeat;
  background-position: center;
}

.jp-JSONEditor-host.jp-mod-focused {
  background-color: var(--jp-input-active-background);
  border: 1px solid var(--jp-input-active-border-color);
  box-shadow: var(--jp-input-box-shadow);
}

.jp-Editor.jp-mod-dropTarget {
  border: var(--jp-border-width) solid var(--jp-input-active-border-color);
  box-shadow: var(--jp-input-box-shadow);
}

/* BASICS */

.CodeMirror {
  /* Set height, width, borders, and global font properties here */
  font-family: monospace;
  height: 300px;
  color: black;
  direction: ltr;
}

/* PADDING */

.CodeMirror-lines {
  padding: 4px 0; /* Vertical padding around content */
}
.CodeMirror pre.CodeMirror-line,
.CodeMirror pre.CodeMirror-line-like {
  padding: 0 4px; /* Horizontal padding of content */
}

.CodeMirror-scrollbar-filler, .CodeMirror-gutter-filler {
  background-color: white; /* The little square between H and V scrollbars */
}

/* GUTTER */

.CodeMirror-gutters {
  border-right: 1px solid #ddd;
  background-color: #f7f7f7;
  white-space: nowrap;
}
.CodeMirror-linenumbers {}
.CodeMirror-linenumber {
  padding: 0 3px 0 5px;
  min-width: 20px;
  text-align: right;
  color: #999;
  white-space: nowrap;
}

.CodeMirror-guttermarker { color: black; }
.CodeMirror-guttermarker-subtle { color: #999; }

/* CURSOR */

.CodeMirror-cursor {
  border-left: 1px solid black;
  border-right: none;
  width: 0;
}
/* Shown when moving in bi-directional text */
.CodeMirror div.CodeMirror-secondarycursor {
  border-left: 1px solid silver;
}
.cm-fat-cursor .CodeMirror-cursor {
  width: auto;
  border: 0 !important;
  background: #7e7;
}
.cm-fat-cursor div.CodeMirror-cursors {
  z-index: 1;
}
.cm-fat-cursor-mark {
  background-color: rgba(20, 255, 20, 0.5);
  -webkit-animation: blink 1.06s steps(1) infinite;
  -moz-animation: blink 1.06s steps(1) infinite;
  animation: blink 1.06s steps(1) infinite;
}
.cm-animate-fat-cursor {
  width: auto;
  border: 0;
  -webkit-animation: blink 1.06s steps(1) infinite;
  -moz-animation: blink 1.06s steps(1) infinite;
  animation: blink 1.06s steps(1) infinite;
  background-color: #7e7;
}
@-moz-keyframes blink {
  0% {}
  50% { background-color: transparent; }
  100% {}
}
@-webkit-keyframes blink {
  0% {}
  50% { background-color: transparent; }
  100% {}
}
@keyframes blink {
  0% {}
  50% { background-color: transparent; }
  100% {}
}

/* Can style cursor different in overwrite (non-insert) mode */
.CodeMirror-overwrite .CodeMirror-cursor {}

.cm-tab { display: inline-block; text-decoration: inherit; }

.CodeMirror-rulers {
  position: absolute;
  left: 0; right: 0; top: -50px; bottom: 0;
  overflow: hidden;
}
.CodeMirror-ruler {
  border-left: 1px solid #ccc;
  top: 0; bottom: 0;
  position: absolute;
}

/* DEFAULT THEME */

.cm-s-default .cm-header {color: blue;}
.cm-s-default .cm-quote {color: #090;}
.cm-negative {color: #d44;}
.cm-positive {color: #292;}
.cm-header, .cm-strong {font-weight: bold;}
.cm-em {font-style: italic;}
.cm-link {text-decoration: underline;}
.cm-strikethrough {text-decoration: line-through;}

.cm-s-default .cm-keyword {color: #708;}
.cm-s-default .cm-atom {color: #219;}
.cm-s-default .cm-number {color: #164;}
.cm-s-default .cm-def {color: #00f;}
.cm-s-default .cm-variable,
.cm-s-default .cm-punctuation,
.cm-s-default .cm-property,
.cm-s-default .cm-operator {}
.cm-s-default .cm-variable-2 {color: #05a;}
.cm-s-default .cm-variable-3, .cm-s-default .cm-type {color: #085;}
.cm-s-default .cm-comment {color: #a50;}
.cm-s-default .cm-string {color: #a11;}
.cm-s-default .cm-string-2 {color: #f50;}
.cm-s-default .cm-meta {color: #555;}
.cm-s-default .cm-qualifier {color: #555;}
.cm-s-default .cm-builtin {color: #30a;}
.cm-s-default .cm-bracket {color: #997;}
.cm-s-default .cm-tag {color: #170;}
.cm-s-default .cm-attribute {color: #00c;}
.cm-s-default .cm-hr {color: #999;}
.cm-s-default .cm-link {color: #00c;}

.cm-s-default .cm-error {color: #f00;}
.cm-invalidchar {color: #f00;}

.CodeMirror-composing { border-bottom: 2px solid; }

/* Default styles for common addons */

div.CodeMirror span.CodeMirror-matchingbracket {color: #0b0;}
div.CodeMirror span.CodeMirror-nonmatchingbracket {color: #a22;}
.CodeMirror-matchingtag { background: rgba(255, 150, 0, .3); }
.CodeMirror-activeline-background {background: #e8f2ff;}

/* STOP */

/* The rest of this file contains styles related to the mechanics of
   the editor. You probably shouldn't touch them. */

.CodeMirror {
  position: relative;
  overflow: hidden;
  background: white;
}

.CodeMirror-scroll {
  overflow: scroll !important; /* Things will break if this is overridden */
  /* 50px is the magic margin used to hide the element's real scrollbars */
  /* See overflow: hidden in .CodeMirror */
  margin-bottom: -50px; margin-right: -50px;
  padding-bottom: 50px;
  height: 100%;
  outline: none; /* Prevent dragging from highlighting the element */
  position: relative;
}
.CodeMirror-sizer {
  position: relative;
  border-right: 50px solid transparent;
}

/* The fake, visible scrollbars. Used to force redraw during scrolling
   before actual scrolling happens, thus preventing shaking and
   flickering artifacts. */
.CodeMirror-vscrollbar, .CodeMirror-hscrollbar, .CodeMirror-scrollbar-filler, .CodeMirror-gutter-filler {
  position: absolute;
  z-index: 6;
  display: none;
  outline: none;
}
.CodeMirror-vscrollbar {
  right: 0; top: 0;
  overflow-x: hidden;
  overflow-y: scroll;
}
.CodeMirror-hscrollbar {
  bottom: 0; left: 0;
  overflow-y: hidden;
  overflow-x: scroll;
}
.CodeMirror-scrollbar-filler {
  right: 0; bottom: 0;
}
.CodeMirror-gutter-filler {
  left: 0; bottom: 0;
}

.CodeMirror-gutters {
  position: absolute; left: 0; top: 0;
  min-height: 100%;
  z-index: 3;
}
.CodeMirror-gutter {
  white-space: normal;
  height: 100%;
  display: inline-block;
  vertical-align: top;
  margin-bottom: -50px;
}
.CodeMirror-gutter-wrapper {
  position: absolute;
  z-index: 4;
  background: none !important;
  border: none !important;
}
.CodeMirror-gutter-background {
  position: absolute;
  top: 0; bottom: 0;
  z-index: 4;
}
.CodeMirror-gutter-elt {
  position: absolute;
  cursor: default;
  z-index: 4;
}
.CodeMirror-gutter-wrapper ::selection { background-color: transparent }
.CodeMirror-gutter-wrapper ::-moz-selection { background-color: transparent }

.CodeMirror-lines {
  cursor: text;
  min-height: 1px; /* prevents collapsing before first draw */
}
.CodeMirror pre.CodeMirror-line,
.CodeMirror pre.CodeMirror-line-like {
  /* Reset some styles that the rest of the page might have set */
  -moz-border-radius: 0; -webkit-border-radius: 0; border-radius: 0;
  border-width: 0;
  background: transparent;
  font-family: inherit;
  font-size: inherit;
  margin: 0;
  white-space: pre;
  word-wrap: normal;
  line-height: inherit;
  color: inherit;
  z-index: 2;
  position: relative;
  overflow: visible;
  -webkit-tap-highlight-color: transparent;
  -webkit-font-variant-ligatures: contextual;
  font-variant-ligatures: contextual;
}
.CodeMirror-wrap pre.CodeMirror-line,
.CodeMirror-wrap pre.CodeMirror-line-like {
  word-wrap: break-word;
  white-space: pre-wrap;
  word-break: normal;
}

.CodeMirror-linebackground {
  position: absolute;
  left: 0; right: 0; top: 0; bottom: 0;
  z-index: 0;
}

.CodeMirror-linewidget {
  position: relative;
  z-index: 2;
  padding: 0.1px; /* Force widget margins to stay inside of the container */
}

.CodeMirror-widget {}

.CodeMirror-rtl pre { direction: rtl; }

.CodeMirror-code {
  outline: none;
}

/* Force content-box sizing for the elements where we expect it */
.CodeMirror-scroll,
.CodeMirror-sizer,
.CodeMirror-gutter,
.CodeMirror-gutters,
.CodeMirror-linenumber {
  -moz-box-sizing: content-box;
  box-sizing: content-box;
}

.CodeMirror-measure {
  position: absolute;
  width: 100%;
  height: 0;
  overflow: hidden;
  visibility: hidden;
}

.CodeMirror-cursor {
  position: absolute;
  pointer-events: none;
}
.CodeMirror-measure pre { position: static; }

div.CodeMirror-cursors {
  visibility: hidden;
  position: relative;
  z-index: 3;
}
div.CodeMirror-dragcursors {
  visibility: visible;
}

.CodeMirror-focused div.CodeMirror-cursors {
  visibility: visible;
}

.CodeMirror-selected { background: #d9d9d9; }
.CodeMirror-focused .CodeMirror-selected { background: #d7d4f0; }
.CodeMirror-crosshair { cursor: crosshair; }
.CodeMirror-line::selection, .CodeMirror-line > span::selection, .CodeMirror-line > span > span::selection { background: #d7d4f0; }
.CodeMirror-line::-moz-selection, .CodeMirror-line > span::-moz-selection, .CodeMirror-line > span > span::-moz-selection { background: #d7d4f0; }

.cm-searching {
  background-color: #ffa;
  background-color: rgba(255, 255, 0, .4);
}

/* Used to force a border model for a node */
.cm-force-border { padding-right: .1px; }

@media print {
  /* Hide the cursor when printing */
  .CodeMirror div.CodeMirror-cursors {
    visibility: hidden;
  }
}

/* See issue #2901 */
.cm-tab-wrap-hack:after { content: ''; }

/* Help users use markselection to safely style text background */
span.CodeMirror-selectedtext { background: none; }

.CodeMirror-dialog {
  position: absolute;
  left: 0; right: 0;
  background: inherit;
  z-index: 15;
  padding: .1em .8em;
  overflow: hidden;
  color: inherit;
}

.CodeMirror-dialog-top {
  border-bottom: 1px solid #eee;
  top: 0;
}

.CodeMirror-dialog-bottom {
  border-top: 1px solid #eee;
  bottom: 0;
}

.CodeMirror-dialog input {
  border: none;
  outline: none;
  background: transparent;
  width: 20em;
  color: inherit;
  font-family: monospace;
}

.CodeMirror-dialog button {
  font-size: 70%;
}

.CodeMirror-foldmarker {
  color: blue;
  text-shadow: #b9f 1px 1px 2px, #b9f -1px -1px 2px, #b9f 1px -1px 2px, #b9f -1px 1px 2px;
  font-family: arial;
  line-height: .3;
  cursor: pointer;
}
.CodeMirror-foldgutter {
  width: .7em;
}
.CodeMirror-foldgutter-open,
.CodeMirror-foldgutter-folded {
  cursor: pointer;
}
.CodeMirror-foldgutter-open:after {
  content: "\25BE";
}
.CodeMirror-foldgutter-folded:after {
  content: "\25B8";
}

/*-----------------------------------------------------------------------------
| Copyright (c) Jupyter Development Team.
| Distributed under the terms of the Modified BSD License.
|----------------------------------------------------------------------------*/

.CodeMirror {
  line-height: var(--jp-code-line-height);
  font-size: var(--jp-code-font-size);
  font-family: var(--jp-code-font-family);
  border: 0;
  border-radius: 0;
  height: auto;
  /* Changed to auto to autogrow */
}

.CodeMirror pre {
  padding: 0 var(--jp-code-padding);
}

.jp-CodeMirrorEditor[data-type='inline'] .CodeMirror-dialog {
  background-color: var(--jp-layout-color0);
  color: var(--jp-content-font-color1);
}

/* This causes https://github.com/jupyter/jupyterlab/issues/522 */
/* May not cause it not because we changed it! */
.CodeMirror-lines {
  padding: var(--jp-code-padding) 0;
}

.CodeMirror-linenumber {
  padding: 0 8px;
}

.jp-CodeMirrorEditor {
  cursor: text;
}

.jp-CodeMirrorEditor[data-type='inline'] .CodeMirror-cursor {
  border-left: var(--jp-code-cursor-width0) solid var(--jp-editor-cursor-color);
}

/* When zoomed out 67% and 33% on a screen of 1440 width x 900 height */
@media screen and (min-width: 2138px) and (max-width: 4319px) {
  .jp-CodeMirrorEditor[data-type='inline'] .CodeMirror-cursor {
    border-left: var(--jp-code-cursor-width1) solid
      var(--jp-editor-cursor-color);
  }
}

/* When zoomed out less than 33% */
@media screen and (min-width: 4320px) {
  .jp-CodeMirrorEditor[data-type='inline'] .CodeMirror-cursor {
    border-left: var(--jp-code-cursor-width2) solid
      var(--jp-editor-cursor-color);
  }
}

.CodeMirror.jp-mod-readOnly .CodeMirror-cursor {
  display: none;
}

.CodeMirror-gutters {
  border-right: 1px solid var(--jp-border-color2);
  background-color: var(--jp-layout-color0);
}

.jp-CollaboratorCursor {
  border-left: 5px solid transparent;
  border-right: 5px solid transparent;
  border-top: none;
  border-bottom: 3px solid;
  background-clip: content-box;
  margin-left: -5px;
  margin-right: -5px;
}

.CodeMirror-selectedtext.cm-searching {
  background-color: var(--jp-search-selected-match-background-color) !important;
  color: var(--jp-search-selected-match-color) !important;
}

.cm-searching {
  background-color: var(
    --jp-search-unselected-match-background-color
  ) !important;
  color: var(--jp-search-unselected-match-color) !important;
}

.CodeMirror-focused .CodeMirror-selected {
  background-color: var(--jp-editor-selected-focused-background);
}

.CodeMirror-selected {
  background-color: var(--jp-editor-selected-background);
}

.jp-CollaboratorCursor-hover {
  position: absolute;
  z-index: 1;
  transform: translateX(-50%);
  color: white;
  border-radius: 3px;
  padding-left: 4px;
  padding-right: 4px;
  padding-top: 1px;
  padding-bottom: 1px;
  text-align: center;
  font-size: var(--jp-ui-font-size1);
  white-space: nowrap;
}

.jp-CodeMirror-ruler {
  border-left: 1px dashed var(--jp-border-color2);
}

/**
 * Here is our jupyter theme for CodeMirror syntax highlighting
 * This is used in our marked.js syntax highlighting and CodeMirror itself
 * The string "jupyter" is set in ../codemirror/widget.DEFAULT_CODEMIRROR_THEME
 * This came from the classic notebook, which came form highlight.js/GitHub
 */

/**
 * CodeMirror themes are handling the background/color in this way. This works
 * fine for CodeMirror editors outside the notebook, but the notebook styles
 * these things differently.
 */
.CodeMirror.cm-s-jupyter {
  background: var(--jp-layout-color0);
  color: var(--jp-content-font-color1);
}

/* In the notebook, we want this styling to be handled by its container */
.jp-CodeConsole .CodeMirror.cm-s-jupyter,
.jp-Notebook .CodeMirror.cm-s-jupyter {
  background: transparent;
}

.cm-s-jupyter .CodeMirror-cursor {
  border-left: var(--jp-code-cursor-width0) solid var(--jp-editor-cursor-color);
}
.cm-s-jupyter span.cm-keyword {
  color: var(--jp-mirror-editor-keyword-color);
  font-weight: bold;
}
.cm-s-jupyter span.cm-atom {
  color: var(--jp-mirror-editor-atom-color);
}
.cm-s-jupyter span.cm-number {
  color: var(--jp-mirror-editor-number-color);
}
.cm-s-jupyter span.cm-def {
  color: var(--jp-mirror-editor-def-color);
}
.cm-s-jupyter span.cm-variable {
  color: var(--jp-mirror-editor-variable-color);
}
.cm-s-jupyter span.cm-variable-2 {
  color: var(--jp-mirror-editor-variable-2-color);
}
.cm-s-jupyter span.cm-variable-3 {
  color: var(--jp-mirror-editor-variable-3-color);
}
.cm-s-jupyter span.cm-punctuation {
  color: var(--jp-mirror-editor-punctuation-color);
}
.cm-s-jupyter span.cm-property {
  color: var(--jp-mirror-editor-property-color);
}
.cm-s-jupyter span.cm-operator {
  color: var(--jp-mirror-editor-operator-color);
  font-weight: bold;
}
.cm-s-jupyter span.cm-comment {
  color: var(--jp-mirror-editor-comment-color);
  font-style: italic;
}
.cm-s-jupyter span.cm-string {
  color: var(--jp-mirror-editor-string-color);
}
.cm-s-jupyter span.cm-string-2 {
  color: var(--jp-mirror-editor-string-2-color);
}
.cm-s-jupyter span.cm-meta {
  color: var(--jp-mirror-editor-meta-color);
}
.cm-s-jupyter span.cm-qualifier {
  color: var(--jp-mirror-editor-qualifier-color);
}
.cm-s-jupyter span.cm-builtin {
  color: var(--jp-mirror-editor-builtin-color);
}
.cm-s-jupyter span.cm-bracket {
  color: var(--jp-mirror-editor-bracket-color);
}
.cm-s-jupyter span.cm-tag {
  color: var(--jp-mirror-editor-tag-color);
}
.cm-s-jupyter span.cm-attribute {
  color: var(--jp-mirror-editor-attribute-color);
}
.cm-s-jupyter span.cm-header {
  color: var(--jp-mirror-editor-header-color);
}
.cm-s-jupyter span.cm-quote {
  color: var(--jp-mirror-editor-quote-color);
}
.cm-s-jupyter span.cm-link {
  color: var(--jp-mirror-editor-link-color);
}
.cm-s-jupyter span.cm-error {
  color: var(--jp-mirror-editor-error-color);
}
.cm-s-jupyter span.cm-hr {
  color: #999;
}

.cm-s-jupyter span.cm-tab {
  background: url(data:image/png;base64,iVBORw0KGgoAAAANSUhEUgAAADAAAAAMCAYAAAAkuj5RAAAAAXNSR0IArs4c6QAAAGFJREFUSMft1LsRQFAQheHPowAKoACx3IgEKtaEHujDjORSgWTH/ZOdnZOcM/sgk/kFFWY0qV8foQwS4MKBCS3qR6ixBJvElOobYAtivseIE120FaowJPN75GMu8j/LfMwNjh4HUpwg4LUAAAAASUVORK5CYII=);
  background-position: right;
  background-repeat: no-repeat;
}

.cm-s-jupyter .CodeMirror-activeline-background,
.cm-s-jupyter .CodeMirror-gutter {
  background-color: var(--jp-layout-color2);
}

/* Styles for shared cursors (remote cursor locations and selected ranges) */
.jp-CodeMirrorEditor .remote-caret {
  position: relative;
  border-left: 2px solid black;
  margin-left: -1px;
  margin-right: -1px;
  box-sizing: border-box;
}

.jp-CodeMirrorEditor .remote-caret > div {
  white-space: nowrap;
  position: absolute;
  top: -1.15em;
  padding-bottom: 0.05em;
  left: -2px;
  font-size: 0.95em;
  background-color: rgb(250, 129, 0);
  font-family: var(--jp-ui-font-family);
  font-weight: bold;
  line-height: normal;
  user-select: none;
  color: white;
  padding-left: 2px;
  padding-right: 2px;
  z-index: 3;
  transition: opacity 0.3s ease-in-out;
}

.jp-CodeMirrorEditor .remote-caret.hide-name > div {
  transition-delay: 0.7s;
  opacity: 0;
}

.jp-CodeMirrorEditor .remote-caret:hover > div {
  opacity: 1;
  transition-delay: 0s;
}

/*-----------------------------------------------------------------------------
| Copyright (c) Jupyter Development Team.
| Distributed under the terms of the Modified BSD License.
|----------------------------------------------------------------------------*/

/*-----------------------------------------------------------------------------
| RenderedText
|----------------------------------------------------------------------------*/

:root {
  /* This is the padding value to fill the gaps between lines containing spans with background color. */
  --jp-private-code-span-padding: calc(
    (var(--jp-code-line-height) - 1) * var(--jp-code-font-size) / 2
  );
}

.jp-RenderedText {
  text-align: left;
  padding-left: var(--jp-code-padding);
  line-height: var(--jp-code-line-height);
  font-family: var(--jp-code-font-family);
}

.jp-RenderedText pre,
.jp-RenderedJavaScript pre,
.jp-RenderedHTMLCommon pre {
  color: var(--jp-content-font-color1);
  font-size: var(--jp-code-font-size);
  border: none;
  margin: 0px;
  padding: 0px;
}

.jp-RenderedText pre a:link {
  text-decoration: none;
  color: var(--jp-content-link-color);
}
.jp-RenderedText pre a:hover {
  text-decoration: underline;
  color: var(--jp-content-link-color);
}
.jp-RenderedText pre a:visited {
  text-decoration: none;
  color: var(--jp-content-link-color);
}

/* console foregrounds and backgrounds */
.jp-RenderedText pre .ansi-black-fg {
  color: #3e424d;
}
.jp-RenderedText pre .ansi-red-fg {
  color: #e75c58;
}
.jp-RenderedText pre .ansi-green-fg {
  color: #00a250;
}
.jp-RenderedText pre .ansi-yellow-fg {
  color: #ddb62b;
}
.jp-RenderedText pre .ansi-blue-fg {
  color: #208ffb;
}
.jp-RenderedText pre .ansi-magenta-fg {
  color: #d160c4;
}
.jp-RenderedText pre .ansi-cyan-fg {
  color: #60c6c8;
}
.jp-RenderedText pre .ansi-white-fg {
  color: #c5c1b4;
}

.jp-RenderedText pre .ansi-black-bg {
  background-color: #3e424d;
  padding: var(--jp-private-code-span-padding) 0;
}
.jp-RenderedText pre .ansi-red-bg {
  background-color: #e75c58;
  padding: var(--jp-private-code-span-padding) 0;
}
.jp-RenderedText pre .ansi-green-bg {
  background-color: #00a250;
  padding: var(--jp-private-code-span-padding) 0;
}
.jp-RenderedText pre .ansi-yellow-bg {
  background-color: #ddb62b;
  padding: var(--jp-private-code-span-padding) 0;
}
.jp-RenderedText pre .ansi-blue-bg {
  background-color: #208ffb;
  padding: var(--jp-private-code-span-padding) 0;
}
.jp-RenderedText pre .ansi-magenta-bg {
  background-color: #d160c4;
  padding: var(--jp-private-code-span-padding) 0;
}
.jp-RenderedText pre .ansi-cyan-bg {
  background-color: #60c6c8;
  padding: var(--jp-private-code-span-padding) 0;
}
.jp-RenderedText pre .ansi-white-bg {
  background-color: #c5c1b4;
  padding: var(--jp-private-code-span-padding) 0;
}

.jp-RenderedText pre .ansi-black-intense-fg {
  color: #282c36;
}
.jp-RenderedText pre .ansi-red-intense-fg {
  color: #b22b31;
}
.jp-RenderedText pre .ansi-green-intense-fg {
  color: #007427;
}
.jp-RenderedText pre .ansi-yellow-intense-fg {
  color: #b27d12;
}
.jp-RenderedText pre .ansi-blue-intense-fg {
  color: #0065ca;
}
.jp-RenderedText pre .ansi-magenta-intense-fg {
  color: #a03196;
}
.jp-RenderedText pre .ansi-cyan-intense-fg {
  color: #258f8f;
}
.jp-RenderedText pre .ansi-white-intense-fg {
  color: #a1a6b2;
}

.jp-RenderedText pre .ansi-black-intense-bg {
  background-color: #282c36;
  padding: var(--jp-private-code-span-padding) 0;
}
.jp-RenderedText pre .ansi-red-intense-bg {
  background-color: #b22b31;
  padding: var(--jp-private-code-span-padding) 0;
}
.jp-RenderedText pre .ansi-green-intense-bg {
  background-color: #007427;
  padding: var(--jp-private-code-span-padding) 0;
}
.jp-RenderedText pre .ansi-yellow-intense-bg {
  background-color: #b27d12;
  padding: var(--jp-private-code-span-padding) 0;
}
.jp-RenderedText pre .ansi-blue-intense-bg {
  background-color: #0065ca;
  padding: var(--jp-private-code-span-padding) 0;
}
.jp-RenderedText pre .ansi-magenta-intense-bg {
  background-color: #a03196;
  padding: var(--jp-private-code-span-padding) 0;
}
.jp-RenderedText pre .ansi-cyan-intense-bg {
  background-color: #258f8f;
  padding: var(--jp-private-code-span-padding) 0;
}
.jp-RenderedText pre .ansi-white-intense-bg {
  background-color: #a1a6b2;
  padding: var(--jp-private-code-span-padding) 0;
}

.jp-RenderedText pre .ansi-default-inverse-fg {
  color: var(--jp-ui-inverse-font-color0);
}
.jp-RenderedText pre .ansi-default-inverse-bg {
  background-color: var(--jp-inverse-layout-color0);
  padding: var(--jp-private-code-span-padding) 0;
}

.jp-RenderedText pre .ansi-bold {
  font-weight: bold;
}
.jp-RenderedText pre .ansi-underline {
  text-decoration: underline;
}

.jp-RenderedText[data-mime-type='application/vnd.jupyter.stderr'] {
  background: var(--jp-rendermime-error-background);
  padding-top: var(--jp-code-padding);
}

/*-----------------------------------------------------------------------------
| RenderedLatex
|----------------------------------------------------------------------------*/

.jp-RenderedLatex {
  color: var(--jp-content-font-color1);
  font-size: var(--jp-content-font-size1);
  line-height: var(--jp-content-line-height);
}

/* Left-justify outputs.*/
.jp-OutputArea-output.jp-RenderedLatex {
  padding: var(--jp-code-padding);
  text-align: left;
}

/*-----------------------------------------------------------------------------
| RenderedHTML
|----------------------------------------------------------------------------*/

.jp-RenderedHTMLCommon {
  color: var(--jp-content-font-color1);
  font-family: var(--jp-content-font-family);
  font-size: var(--jp-content-font-size1);
  line-height: var(--jp-content-line-height);
  /* Give a bit more R padding on Markdown text to keep line lengths reasonable */
  padding-right: 20px;
}

.jp-RenderedHTMLCommon em {
  font-style: italic;
}

.jp-RenderedHTMLCommon strong {
  font-weight: bold;
}

.jp-RenderedHTMLCommon u {
  text-decoration: underline;
}

.jp-RenderedHTMLCommon a:link {
  text-decoration: none;
  color: var(--jp-content-link-color);
}

.jp-RenderedHTMLCommon a:hover {
  text-decoration: underline;
  color: var(--jp-content-link-color);
}

.jp-RenderedHTMLCommon a:visited {
  text-decoration: none;
  color: var(--jp-content-link-color);
}

/* Headings */

.jp-RenderedHTMLCommon h1,
.jp-RenderedHTMLCommon h2,
.jp-RenderedHTMLCommon h3,
.jp-RenderedHTMLCommon h4,
.jp-RenderedHTMLCommon h5,
.jp-RenderedHTMLCommon h6 {
  line-height: var(--jp-content-heading-line-height);
  font-weight: var(--jp-content-heading-font-weight);
  font-style: normal;
  margin: var(--jp-content-heading-margin-top) 0
    var(--jp-content-heading-margin-bottom) 0;
}

.jp-RenderedHTMLCommon h1:first-child,
.jp-RenderedHTMLCommon h2:first-child,
.jp-RenderedHTMLCommon h3:first-child,
.jp-RenderedHTMLCommon h4:first-child,
.jp-RenderedHTMLCommon h5:first-child,
.jp-RenderedHTMLCommon h6:first-child {
  margin-top: calc(0.5 * var(--jp-content-heading-margin-top));
}

.jp-RenderedHTMLCommon h1:last-child,
.jp-RenderedHTMLCommon h2:last-child,
.jp-RenderedHTMLCommon h3:last-child,
.jp-RenderedHTMLCommon h4:last-child,
.jp-RenderedHTMLCommon h5:last-child,
.jp-RenderedHTMLCommon h6:last-child {
  margin-bottom: calc(0.5 * var(--jp-content-heading-margin-bottom));
}

.jp-RenderedHTMLCommon h1 {
  font-size: var(--jp-content-font-size5);
}

.jp-RenderedHTMLCommon h2 {
  font-size: var(--jp-content-font-size4);
}

.jp-RenderedHTMLCommon h3 {
  font-size: var(--jp-content-font-size3);
}

.jp-RenderedHTMLCommon h4 {
  font-size: var(--jp-content-font-size2);
}

.jp-RenderedHTMLCommon h5 {
  font-size: var(--jp-content-font-size1);
}

.jp-RenderedHTMLCommon h6 {
  font-size: var(--jp-content-font-size0);
}

/* Lists */

.jp-RenderedHTMLCommon ul:not(.list-inline),
.jp-RenderedHTMLCommon ol:not(.list-inline) {
  padding-left: 2em;
}

.jp-RenderedHTMLCommon ul {
  list-style: disc;
}

.jp-RenderedHTMLCommon ul ul {
  list-style: square;
}

.jp-RenderedHTMLCommon ul ul ul {
  list-style: circle;
}

.jp-RenderedHTMLCommon ol {
  list-style: decimal;
}

.jp-RenderedHTMLCommon ol ol {
  list-style: upper-alpha;
}

.jp-RenderedHTMLCommon ol ol ol {
  list-style: lower-alpha;
}

.jp-RenderedHTMLCommon ol ol ol ol {
  list-style: lower-roman;
}

.jp-RenderedHTMLCommon ol ol ol ol ol {
  list-style: decimal;
}

.jp-RenderedHTMLCommon ol,
.jp-RenderedHTMLCommon ul {
  margin-bottom: 1em;
}

.jp-RenderedHTMLCommon ul ul,
.jp-RenderedHTMLCommon ul ol,
.jp-RenderedHTMLCommon ol ul,
.jp-RenderedHTMLCommon ol ol {
  margin-bottom: 0em;
}

.jp-RenderedHTMLCommon hr {
  color: var(--jp-border-color2);
  background-color: var(--jp-border-color1);
  margin-top: 1em;
  margin-bottom: 1em;
}

.jp-RenderedHTMLCommon > pre {
  margin: 1.5em 2em;
}

.jp-RenderedHTMLCommon pre,
.jp-RenderedHTMLCommon code {
  border: 0;
  background-color: var(--jp-layout-color0);
  color: var(--jp-content-font-color1);
  font-family: var(--jp-code-font-family);
  font-size: inherit;
  line-height: var(--jp-code-line-height);
  padding: 0;
  white-space: pre-wrap;
}

.jp-RenderedHTMLCommon :not(pre) > code {
  background-color: var(--jp-layout-color2);
  padding: 1px 5px;
}

/* Tables */

.jp-RenderedHTMLCommon table {
  border-collapse: collapse;
  border-spacing: 0;
  border: none;
  color: var(--jp-ui-font-color1);
  font-size: 12px;
  table-layout: fixed;
  margin-left: auto;
  margin-right: auto;
}

.jp-RenderedHTMLCommon thead {
  border-bottom: var(--jp-border-width) solid var(--jp-border-color1);
  vertical-align: bottom;
}

.jp-RenderedHTMLCommon td,
.jp-RenderedHTMLCommon th,
.jp-RenderedHTMLCommon tr {
  vertical-align: middle;
  padding: 0.5em 0.5em;
  line-height: normal;
  white-space: normal;
  max-width: none;
  border: none;
}

.jp-RenderedMarkdown.jp-RenderedHTMLCommon td,
.jp-RenderedMarkdown.jp-RenderedHTMLCommon th {
  max-width: none;
}

:not(.jp-RenderedMarkdown).jp-RenderedHTMLCommon td,
:not(.jp-RenderedMarkdown).jp-RenderedHTMLCommon th,
:not(.jp-RenderedMarkdown).jp-RenderedHTMLCommon tr {
  text-align: right;
}

.jp-RenderedHTMLCommon th {
  font-weight: bold;
}

.jp-RenderedHTMLCommon tbody tr:nth-child(odd) {
  background: var(--jp-layout-color0);
}

.jp-RenderedHTMLCommon tbody tr:nth-child(even) {
  background: var(--jp-rendermime-table-row-background);
}

.jp-RenderedHTMLCommon tbody tr:hover {
  background: var(--jp-rendermime-table-row-hover-background);
}

.jp-RenderedHTMLCommon table {
  margin-bottom: 1em;
}

.jp-RenderedHTMLCommon p {
  text-align: left;
  margin: 0px;
}

.jp-RenderedHTMLCommon p {
  margin-bottom: 1em;
}

.jp-RenderedHTMLCommon img {
  -moz-force-broken-image-icon: 1;
}

/* Restrict to direct children as other images could be nested in other content. */
.jp-RenderedHTMLCommon > img {
  display: block;
  margin-left: 0;
  margin-right: 0;
  margin-bottom: 1em;
}

/* Change color behind transparent images if they need it... */
[data-jp-theme-light='false'] .jp-RenderedImage img.jp-needs-light-background {
  background-color: var(--jp-inverse-layout-color1);
}
[data-jp-theme-light='true'] .jp-RenderedImage img.jp-needs-dark-background {
  background-color: var(--jp-inverse-layout-color1);
}
/* ...or leave it untouched if they don't */
[data-jp-theme-light='false'] .jp-RenderedImage img.jp-needs-dark-background {
}
[data-jp-theme-light='true'] .jp-RenderedImage img.jp-needs-light-background {
}

.jp-RenderedHTMLCommon img,
.jp-RenderedImage img,
.jp-RenderedHTMLCommon svg,
.jp-RenderedSVG svg {
  max-width: 100%;
  height: auto;
}

.jp-RenderedHTMLCommon img.jp-mod-unconfined,
.jp-RenderedImage img.jp-mod-unconfined,
.jp-RenderedHTMLCommon svg.jp-mod-unconfined,
.jp-RenderedSVG svg.jp-mod-unconfined {
  max-width: none;
}

.jp-RenderedHTMLCommon .alert {
  padding: var(--jp-notebook-padding);
  border: var(--jp-border-width) solid transparent;
  border-radius: var(--jp-border-radius);
  margin-bottom: 1em;
}

.jp-RenderedHTMLCommon .alert-info {
  color: var(--jp-info-color0);
  background-color: var(--jp-info-color3);
  border-color: var(--jp-info-color2);
}
.jp-RenderedHTMLCommon .alert-info hr {
  border-color: var(--jp-info-color3);
}
.jp-RenderedHTMLCommon .alert-info > p:last-child,
.jp-RenderedHTMLCommon .alert-info > ul:last-child {
  margin-bottom: 0;
}

.jp-RenderedHTMLCommon .alert-warning {
  color: var(--jp-warn-color0);
  background-color: var(--jp-warn-color3);
  border-color: var(--jp-warn-color2);
}
.jp-RenderedHTMLCommon .alert-warning hr {
  border-color: var(--jp-warn-color3);
}
.jp-RenderedHTMLCommon .alert-warning > p:last-child,
.jp-RenderedHTMLCommon .alert-warning > ul:last-child {
  margin-bottom: 0;
}

.jp-RenderedHTMLCommon .alert-success {
  color: var(--jp-success-color0);
  background-color: var(--jp-success-color3);
  border-color: var(--jp-success-color2);
}
.jp-RenderedHTMLCommon .alert-success hr {
  border-color: var(--jp-success-color3);
}
.jp-RenderedHTMLCommon .alert-success > p:last-child,
.jp-RenderedHTMLCommon .alert-success > ul:last-child {
  margin-bottom: 0;
}

.jp-RenderedHTMLCommon .alert-danger {
  color: var(--jp-error-color0);
  background-color: var(--jp-error-color3);
  border-color: var(--jp-error-color2);
}
.jp-RenderedHTMLCommon .alert-danger hr {
  border-color: var(--jp-error-color3);
}
.jp-RenderedHTMLCommon .alert-danger > p:last-child,
.jp-RenderedHTMLCommon .alert-danger > ul:last-child {
  margin-bottom: 0;
}

.jp-RenderedHTMLCommon blockquote {
  margin: 1em 2em;
  padding: 0 1em;
  border-left: 5px solid var(--jp-border-color2);
}

a.jp-InternalAnchorLink {
  visibility: hidden;
  margin-left: 8px;
  color: var(--md-blue-800);
}

h1:hover .jp-InternalAnchorLink,
h2:hover .jp-InternalAnchorLink,
h3:hover .jp-InternalAnchorLink,
h4:hover .jp-InternalAnchorLink,
h5:hover .jp-InternalAnchorLink,
h6:hover .jp-InternalAnchorLink {
  visibility: visible;
}

.jp-RenderedHTMLCommon kbd {
  background-color: var(--jp-rendermime-table-row-background);
  border: 1px solid var(--jp-border-color0);
  border-bottom-color: var(--jp-border-color2);
  border-radius: 3px;
  box-shadow: inset 0 -1px 0 rgba(0, 0, 0, 0.25);
  display: inline-block;
  font-size: 0.8em;
  line-height: 1em;
  padding: 0.2em 0.5em;
}

/* Most direct children of .jp-RenderedHTMLCommon have a margin-bottom of 1.0.
 * At the bottom of cells this is a bit too much as there is also spacing
 * between cells. Going all the way to 0 gets too tight between markdown and
 * code cells.
 */
.jp-RenderedHTMLCommon > *:last-child {
  margin-bottom: 0.5em;
}

/*-----------------------------------------------------------------------------
| Copyright (c) Jupyter Development Team.
| Distributed under the terms of the Modified BSD License.
|----------------------------------------------------------------------------*/

.jp-MimeDocument {
  outline: none;
}

/*-----------------------------------------------------------------------------
| Copyright (c) Jupyter Development Team.
| Distributed under the terms of the Modified BSD License.
|----------------------------------------------------------------------------*/

/*-----------------------------------------------------------------------------
| Variables
|----------------------------------------------------------------------------*/

:root {
  --jp-private-filebrowser-button-height: 28px;
  --jp-private-filebrowser-button-width: 48px;
}

/*-----------------------------------------------------------------------------
| Copyright (c) Jupyter Development Team.
| Distributed under the terms of the Modified BSD License.
|----------------------------------------------------------------------------*/

.jp-FileBrowser {
  display: flex;
  flex-direction: column;
  color: var(--jp-ui-font-color1);
  background: var(--jp-layout-color1);
  /* This is needed so that all font sizing of children done in ems is
   * relative to this base size */
  font-size: var(--jp-ui-font-size1);
}

.jp-FileBrowser-toolbar.jp-Toolbar {
  border-bottom: none;
  height: auto;
  margin: var(--jp-toolbar-header-margin);
  box-shadow: none;
}

.jp-BreadCrumbs {
  flex: 0 0 auto;
  margin: 8px 12px 8px 12px;
}

.jp-BreadCrumbs-item {
  margin: 0px 2px;
  padding: 0px 2px;
  border-radius: var(--jp-border-radius);
  cursor: pointer;
}

.jp-BreadCrumbs-item:hover {
  background-color: var(--jp-layout-color2);
}

.jp-BreadCrumbs-item:first-child {
  margin-left: 0px;
}

.jp-BreadCrumbs-item.jp-mod-dropTarget {
  background-color: var(--jp-brand-color2);
  opacity: 0.7;
}

/*-----------------------------------------------------------------------------
| Buttons
|----------------------------------------------------------------------------*/

.jp-FileBrowser-toolbar.jp-Toolbar {
  padding: 0px;
  margin: 8px 12px 0px 12px;
}

.jp-FileBrowser-toolbar.jp-Toolbar {
  justify-content: flex-start;
}

.jp-FileBrowser-toolbar.jp-Toolbar .jp-Toolbar-item {
  flex: 0 0 auto;
  padding-left: 0px;
  padding-right: 2px;
}

.jp-FileBrowser-toolbar.jp-Toolbar .jp-ToolbarButtonComponent {
  width: 40px;
}

.jp-FileBrowser-toolbar.jp-Toolbar
  .jp-Toolbar-item:first-child
  .jp-ToolbarButtonComponent {
  width: 72px;
  background: var(--jp-brand-color1);
}

.jp-FileBrowser-toolbar.jp-Toolbar
  .jp-Toolbar-item:first-child
  .jp-ToolbarButtonComponent:focus-visible {
  background-color: var(--jp-brand-color0);
}

.jp-FileBrowser-toolbar.jp-Toolbar
  .jp-Toolbar-item:first-child
  .jp-ToolbarButtonComponent
  .jp-icon3 {
  fill: white;
}

/*-----------------------------------------------------------------------------
| Other styles
|----------------------------------------------------------------------------*/

.jp-FileDialog.jp-mod-conflict input {
  color: var(--jp-error-color1);
}

.jp-FileDialog .jp-new-name-title {
  margin-top: 12px;
}

.jp-LastModified-hidden {
  display: none;
}

.jp-FileBrowser-filterBox {
  padding: 0px;
  flex: 0 0 auto;
  margin: 8px 12px 0px 12px;
}

/*-----------------------------------------------------------------------------
| DirListing
|----------------------------------------------------------------------------*/

.jp-DirListing {
  flex: 1 1 auto;
  display: flex;
  flex-direction: column;
  outline: 0;
}

.jp-DirListing:focus-visible {
  border: 1px solid var(--jp-brand-color1);
}

.jp-DirListing-header {
  flex: 0 0 auto;
  display: flex;
  flex-direction: row;
  overflow: hidden;
  border-top: var(--jp-border-width) solid var(--jp-border-color2);
  border-bottom: var(--jp-border-width) solid var(--jp-border-color1);
  box-shadow: var(--jp-toolbar-box-shadow);
  z-index: 2;
}

.jp-DirListing-headerItem {
  padding: 4px 12px 2px 12px;
  font-weight: 500;
}

.jp-DirListing-headerItem:hover {
  background: var(--jp-layout-color2);
}

.jp-DirListing-headerItem.jp-id-name {
  flex: 1 0 84px;
}

.jp-DirListing-headerItem.jp-id-modified {
  flex: 0 0 112px;
  border-left: var(--jp-border-width) solid var(--jp-border-color2);
  text-align: right;
}

.jp-id-narrow {
  display: none;
  flex: 0 0 5px;
  padding: 4px 4px;
  border-left: var(--jp-border-width) solid var(--jp-border-color2);
  text-align: right;
  color: var(--jp-border-color2);
}

.jp-DirListing-narrow .jp-id-narrow {
  display: block;
}

.jp-DirListing-narrow .jp-id-modified,
.jp-DirListing-narrow .jp-DirListing-itemModified {
  display: none;
}

.jp-DirListing-headerItem.jp-mod-selected {
  font-weight: 600;
}

/* increase specificity to override bundled default */
.jp-DirListing-content {
  flex: 1 1 auto;
  margin: 0;
  padding: 0;
  list-style-type: none;
  overflow: auto;
  background-color: var(--jp-layout-color1);
}

.jp-DirListing-content mark {
  color: var(--jp-ui-font-color0);
  background-color: transparent;
  font-weight: bold;
}

.jp-DirListing-content .jp-DirListing-item.jp-mod-selected mark {
  color: var(--jp-ui-inverse-font-color0);
}

/* Style the directory listing content when a user drops a file to upload */
.jp-DirListing.jp-mod-native-drop .jp-DirListing-content {
  outline: 5px dashed rgba(128, 128, 128, 0.5);
  outline-offset: -10px;
  cursor: copy;
}

.jp-DirListing-item {
  display: flex;
  flex-direction: row;
  padding: 4px 12px;
  -webkit-user-select: none;
  -moz-user-select: none;
  -ms-user-select: none;
  user-select: none;
}

.jp-DirListing-item[data-is-dot] {
  opacity: 75%;
}

.jp-DirListing-item.jp-mod-selected {
  color: var(--jp-ui-inverse-font-color1);
  background: var(--jp-brand-color1);
}

.jp-DirListing-item.jp-mod-dropTarget {
  background: var(--jp-brand-color3);
}

.jp-DirListing-item:hover:not(.jp-mod-selected) {
  background: var(--jp-layout-color2);
}

.jp-DirListing-itemIcon {
  flex: 0 0 20px;
  margin-right: 4px;
}

.jp-DirListing-itemText {
  flex: 1 0 64px;
  white-space: nowrap;
  overflow: hidden;
  text-overflow: ellipsis;
  user-select: none;
}

.jp-DirListing-itemModified {
  flex: 0 0 125px;
  text-align: right;
}

.jp-DirListing-editor {
  flex: 1 0 64px;
  outline: none;
  border: none;
}

.jp-DirListing-item.jp-mod-running .jp-DirListing-itemIcon:before {
  color: var(--jp-success-color1);
  content: '\25CF';
  font-size: 8px;
  position: absolute;
  left: -8px;
}

.jp-DirListing-item.jp-mod-running.jp-mod-selected
  .jp-DirListing-itemIcon:before {
  color: var(--jp-ui-inverse-font-color1);
}

.jp-DirListing-item.lm-mod-drag-image,
.jp-DirListing-item.jp-mod-selected.lm-mod-drag-image {
  font-size: var(--jp-ui-font-size1);
  padding-left: 4px;
  margin-left: 4px;
  width: 160px;
  background-color: var(--jp-ui-inverse-font-color2);
  box-shadow: var(--jp-elevation-z2);
  border-radius: 0px;
  color: var(--jp-ui-font-color1);
  transform: translateX(-40%) translateY(-58%);
}

.jp-DirListing-deadSpace {
  flex: 1 1 auto;
  margin: 0;
  padding: 0;
  list-style-type: none;
  overflow: auto;
  background-color: var(--jp-layout-color1);
}

.jp-Document {
  min-width: 120px;
  min-height: 120px;
  outline: none;
}

/*-----------------------------------------------------------------------------
| Copyright (c) Jupyter Development Team.
| Distributed under the terms of the Modified BSD License.
|----------------------------------------------------------------------------*/

/*-----------------------------------------------------------------------------
| Private CSS variables
|----------------------------------------------------------------------------*/

:root {
}

/*-----------------------------------------------------------------------------
| Main OutputArea
| OutputArea has a list of Outputs
|----------------------------------------------------------------------------*/

.jp-OutputArea {
  overflow-y: auto;
}

.jp-OutputArea-child {
  display: flex;
  flex-direction: row;
}

body[data-format='mobile'] .jp-OutputArea-child {
  flex-direction: column;
}

.jp-OutputPrompt {
  flex: 0 0 var(--jp-cell-prompt-width);
  color: var(--jp-cell-outprompt-font-color);
  font-family: var(--jp-cell-prompt-font-family);
  padding: var(--jp-code-padding);
  letter-spacing: var(--jp-cell-prompt-letter-spacing);
  line-height: var(--jp-code-line-height);
  font-size: var(--jp-code-font-size);
  border: var(--jp-border-width) solid transparent;
  opacity: var(--jp-cell-prompt-opacity);
  /* Right align prompt text, don't wrap to handle large prompt numbers */
  text-align: right;
  white-space: nowrap;
  overflow: hidden;
  text-overflow: ellipsis;
  /* Disable text selection */
  -webkit-user-select: none;
  -moz-user-select: none;
  -ms-user-select: none;
  user-select: none;
}

body[data-format='mobile'] .jp-OutputPrompt {
  flex: 0 0 auto;
  text-align: left;
}

.jp-OutputArea-output {
  height: auto;
  overflow: auto;
  user-select: text;
  -moz-user-select: text;
  -webkit-user-select: text;
  -ms-user-select: text;
}

.jp-OutputArea-child .jp-OutputArea-output {
  flex-grow: 1;
  flex-shrink: 1;
}

body[data-format='mobile'] .jp-OutputArea-child .jp-OutputArea-output {
  margin-left: var(--jp-notebook-padding);
}

/**
 * Isolated output.
 */
.jp-OutputArea-output.jp-mod-isolated {
  width: 100%;
  display: block;
}

/*
When drag events occur, `p-mod-override-cursor` is added to the body.
Because iframes steal all cursor events, the following two rules are necessary
to suppress pointer events while resize drags are occurring. There may be a
better solution to this problem.
*/
body.lm-mod-override-cursor .jp-OutputArea-output.jp-mod-isolated {
  position: relative;
}

body.lm-mod-override-cursor .jp-OutputArea-output.jp-mod-isolated:before {
  content: '';
  position: absolute;
  top: 0;
  left: 0;
  right: 0;
  bottom: 0;
  background: transparent;
}

/* pre */

.jp-OutputArea-output pre {
  border: none;
  margin: 0px;
  padding: 0px;
  overflow-x: auto;
  overflow-y: auto;
  word-break: break-all;
  word-wrap: break-word;
  white-space: pre-wrap;
}

/* tables */

.jp-OutputArea-output.jp-RenderedHTMLCommon table {
  margin-left: 0;
  margin-right: 0;
}

/* description lists */

.jp-OutputArea-output dl,
.jp-OutputArea-output dt,
.jp-OutputArea-output dd {
  display: block;
}

.jp-OutputArea-output dl {
  width: 100%;
  overflow: hidden;
  padding: 0;
  margin: 0;
}

.jp-OutputArea-output dt {
  font-weight: bold;
  float: left;
  width: 20%;
  padding: 0;
  margin: 0;
}

.jp-OutputArea-output dd {
  float: left;
  width: 80%;
  padding: 0;
  margin: 0;
}

/* Hide the gutter in case of
 *  - nested output areas (e.g. in the case of output widgets)
 *  - mirrored output areas
 */
.jp-OutputArea .jp-OutputArea .jp-OutputArea-prompt {
  display: none;
}

/*-----------------------------------------------------------------------------
| executeResult is added to any Output-result for the display of the object
| returned by a cell
|----------------------------------------------------------------------------*/

.jp-OutputArea-output.jp-OutputArea-executeResult {
  margin-left: 0px;
  flex: 1 1 auto;
}

/* Text output with the Out[] prompt needs a top padding to match the
 * alignment of the Out[] prompt itself.
 */
.jp-OutputArea-executeResult .jp-RenderedText.jp-OutputArea-output {
  padding-top: var(--jp-code-padding);
  border-top: var(--jp-border-width) solid transparent;
}

/*-----------------------------------------------------------------------------
| The Stdin output
|----------------------------------------------------------------------------*/

.jp-OutputArea-stdin {
  line-height: var(--jp-code-line-height);
  padding-top: var(--jp-code-padding);
  display: flex;
}

.jp-Stdin-prompt {
  color: var(--jp-content-font-color0);
  padding-right: var(--jp-code-padding);
  vertical-align: baseline;
  flex: 0 0 auto;
}

.jp-Stdin-input {
  font-family: var(--jp-code-font-family);
  font-size: inherit;
  color: inherit;
  background-color: inherit;
  width: 42%;
  min-width: 200px;
  /* make sure input baseline aligns with prompt */
  vertical-align: baseline;
  /* padding + margin = 0.5em between prompt and cursor */
  padding: 0em 0.25em;
  margin: 0em 0.25em;
  flex: 0 0 70%;
}

.jp-Stdin-input:focus {
  box-shadow: none;
}

/*-----------------------------------------------------------------------------
| Output Area View
|----------------------------------------------------------------------------*/

.jp-LinkedOutputView .jp-OutputArea {
  height: 100%;
  display: block;
}

.jp-LinkedOutputView .jp-OutputArea-output:only-child {
  height: 100%;
}

/*-----------------------------------------------------------------------------
| Copyright (c) Jupyter Development Team.
| Distributed under the terms of the Modified BSD License.
|----------------------------------------------------------------------------*/

.jp-Collapser {
  flex: 0 0 var(--jp-cell-collapser-width);
  padding: 0px;
  margin: 0px;
  border: none;
  outline: none;
  background: transparent;
  border-radius: var(--jp-border-radius);
  opacity: 1;
}

.jp-Collapser-child {
  display: block;
  width: 100%;
  box-sizing: border-box;
  /* height: 100% doesn't work because the height of its parent is computed from content */
  position: absolute;
  top: 0px;
  bottom: 0px;
}

/*-----------------------------------------------------------------------------
| Copyright (c) Jupyter Development Team.
| Distributed under the terms of the Modified BSD License.
|----------------------------------------------------------------------------*/

/*-----------------------------------------------------------------------------
| Header/Footer
|----------------------------------------------------------------------------*/

/* Hidden by zero height by default */
.jp-CellHeader,
.jp-CellFooter {
  height: 0px;
  width: 100%;
  padding: 0px;
  margin: 0px;
  border: none;
  outline: none;
  background: transparent;
}

/*-----------------------------------------------------------------------------
| Copyright (c) Jupyter Development Team.
| Distributed under the terms of the Modified BSD License.
|----------------------------------------------------------------------------*/

/*-----------------------------------------------------------------------------
| Input
|----------------------------------------------------------------------------*/

/* All input areas */
.jp-InputArea {
  display: flex;
  flex-direction: row;
  overflow: hidden;
}

body[data-format='mobile'] .jp-InputArea {
  flex-direction: column;
}

.jp-InputArea-editor {
  flex: 1 1 auto;
  overflow: hidden;
}

.jp-InputArea-editor {
  /* This is the non-active, default styling */
  border: var(--jp-border-width) solid var(--jp-cell-editor-border-color);
  border-radius: 0px;
  background: var(--jp-cell-editor-background);
}

body[data-format='mobile'] .jp-InputArea-editor {
  margin-left: var(--jp-notebook-padding);
}

.jp-InputPrompt {
  flex: 0 0 var(--jp-cell-prompt-width);
  color: var(--jp-cell-inprompt-font-color);
  font-family: var(--jp-cell-prompt-font-family);
  padding: var(--jp-code-padding);
  letter-spacing: var(--jp-cell-prompt-letter-spacing);
  opacity: var(--jp-cell-prompt-opacity);
  line-height: var(--jp-code-line-height);
  font-size: var(--jp-code-font-size);
  border: var(--jp-border-width) solid transparent;
  opacity: var(--jp-cell-prompt-opacity);
  /* Right align prompt text, don't wrap to handle large prompt numbers */
  text-align: right;
  white-space: nowrap;
  overflow: hidden;
  text-overflow: ellipsis;
  /* Disable text selection */
  -webkit-user-select: none;
  -moz-user-select: none;
  -ms-user-select: none;
  user-select: none;
}

body[data-format='mobile'] .jp-InputPrompt {
  flex: 0 0 auto;
  text-align: left;
}

/*-----------------------------------------------------------------------------
| Copyright (c) Jupyter Development Team.
| Distributed under the terms of the Modified BSD License.
|----------------------------------------------------------------------------*/

/*-----------------------------------------------------------------------------
| Placeholder
|----------------------------------------------------------------------------*/

.jp-Placeholder {
  display: flex;
  flex-direction: row;
  flex: 1 1 auto;
}

.jp-Placeholder-prompt {
  box-sizing: border-box;
}

.jp-Placeholder-content {
  flex: 1 1 auto;
  border: none;
  background: transparent;
  height: 20px;
  box-sizing: border-box;
}

.jp-Placeholder-content .jp-MoreHorizIcon {
  width: 32px;
  height: 16px;
  border: 1px solid transparent;
  border-radius: var(--jp-border-radius);
}

.jp-Placeholder-content .jp-MoreHorizIcon:hover {
  border: 1px solid var(--jp-border-color1);
  box-shadow: 0px 0px 2px 0px rgba(0, 0, 0, 0.25);
  background-color: var(--jp-layout-color0);
}

/*-----------------------------------------------------------------------------
| Copyright (c) Jupyter Development Team.
| Distributed under the terms of the Modified BSD License.
|----------------------------------------------------------------------------*/

/*-----------------------------------------------------------------------------
| Private CSS variables
|----------------------------------------------------------------------------*/

:root {
  --jp-private-cell-scrolling-output-offset: 5px;
}

/*-----------------------------------------------------------------------------
| Cell
|----------------------------------------------------------------------------*/

.jp-Cell {
  padding: var(--jp-cell-padding);
  margin: 0px;
  border: none;
  outline: none;
  background: transparent;
}

/*-----------------------------------------------------------------------------
| Common input/output
|----------------------------------------------------------------------------*/

.jp-Cell-inputWrapper,
.jp-Cell-outputWrapper {
  display: flex;
  flex-direction: row;
  padding: 0px;
  margin: 0px;
  /* Added to reveal the box-shadow on the input and output collapsers. */
  overflow: visible;
}

/* Only input/output areas inside cells */
.jp-Cell-inputArea,
.jp-Cell-outputArea {
  flex: 1 1 auto;
}

/*-----------------------------------------------------------------------------
| Collapser
|----------------------------------------------------------------------------*/

/* Make the output collapser disappear when there is not output, but do so
 * in a manner that leaves it in the layout and preserves its width.
 */
.jp-Cell.jp-mod-noOutputs .jp-Cell-outputCollapser {
  border: none !important;
  background: transparent !important;
}

.jp-Cell:not(.jp-mod-noOutputs) .jp-Cell-outputCollapser {
  min-height: var(--jp-cell-collapser-min-height);
}

/*-----------------------------------------------------------------------------
| Output
|----------------------------------------------------------------------------*/

/* Put a space between input and output when there IS output */
.jp-Cell:not(.jp-mod-noOutputs) .jp-Cell-outputWrapper {
  margin-top: 5px;
}

.jp-CodeCell.jp-mod-outputsScrolled .jp-Cell-outputArea {
  overflow-y: auto;
  max-height: 200px;
  box-shadow: inset 0 0 6px 2px rgba(0, 0, 0, 0.3);
  margin-left: var(--jp-private-cell-scrolling-output-offset);
}

.jp-CodeCell.jp-mod-outputsScrolled .jp-OutputArea-prompt {
  flex: 0 0
    calc(
      var(--jp-cell-prompt-width) -
        var(--jp-private-cell-scrolling-output-offset)
    );
}

/*-----------------------------------------------------------------------------
| CodeCell
|----------------------------------------------------------------------------*/

/*-----------------------------------------------------------------------------
| MarkdownCell
|----------------------------------------------------------------------------*/

.jp-MarkdownOutput {
  flex: 1 1 auto;
  margin-top: 0;
  margin-bottom: 0;
  padding-left: var(--jp-code-padding);
}

.jp-MarkdownOutput.jp-RenderedHTMLCommon {
  overflow: auto;
}

.jp-showHiddenCellsButton {
  margin-left: calc(var(--jp-cell-prompt-width) + 2 * var(--jp-code-padding));
  margin-top: var(--jp-code-padding);
  border: 1px solid var(--jp-border-color2);
  background-color: var(--jp-border-color3) !important;
  color: var(--jp-content-font-color0) !important;
}

.jp-showHiddenCellsButton:hover {
  background-color: var(--jp-border-color2) !important;
}

.jp-collapseHeadingButton {
  display: none;
}

.jp-MarkdownCell:hover .jp-collapseHeadingButton {
  display: flex;
  min-height: var(--jp-cell-collapser-min-height);
  position: absolute;
  right: 0;
  top: 0;
  bottom: 0;
}

/*-----------------------------------------------------------------------------
| Copyright (c) Jupyter Development Team.
| Distributed under the terms of the Modified BSD License.
|----------------------------------------------------------------------------*/

/*-----------------------------------------------------------------------------
| Copyright (c) Jupyter Development Team.
| Distributed under the terms of the Modified BSD License.
|----------------------------------------------------------------------------*/

/*-----------------------------------------------------------------------------
| Variables
|----------------------------------------------------------------------------*/

/*-----------------------------------------------------------------------------

/*-----------------------------------------------------------------------------
| Styles
|----------------------------------------------------------------------------*/

.jp-NotebookPanel-toolbar {
  padding: 2px;
}

.jp-Toolbar-item.jp-Notebook-toolbarCellType .jp-select-wrapper.jp-mod-focused {
  border: none;
  box-shadow: none;
}

.jp-Notebook-toolbarCellTypeDropdown select {
  height: 24px;
  font-size: var(--jp-ui-font-size1);
  line-height: 14px;
  border-radius: 0;
  display: block;
}

.jp-Notebook-toolbarCellTypeDropdown span {
  top: 5px !important;
}

/*-----------------------------------------------------------------------------
| Copyright (c) Jupyter Development Team.
| Distributed under the terms of the Modified BSD License.
|----------------------------------------------------------------------------*/

/*-----------------------------------------------------------------------------
| Private CSS variables
|----------------------------------------------------------------------------*/

:root {
  --jp-private-notebook-dragImage-width: 304px;
  --jp-private-notebook-dragImage-height: 36px;
  --jp-private-notebook-selected-color: var(--md-blue-400);
  --jp-private-notebook-active-color: var(--md-green-400);
}

/*-----------------------------------------------------------------------------
| Imports
|----------------------------------------------------------------------------*/

/*-----------------------------------------------------------------------------
| Notebook
|----------------------------------------------------------------------------*/

.jp-NotebookPanel {
  display: block;
  height: 100%;
}

.jp-NotebookPanel.jp-Document {
  min-width: 240px;
  min-height: 120px;
}

.jp-Notebook {
  padding: var(--jp-notebook-padding);
  outline: none;
  overflow: auto;
  background: var(--jp-layout-color0);
}

.jp-Notebook.jp-mod-scrollPastEnd::after {
  display: block;
  content: '';
  min-height: var(--jp-notebook-scroll-padding);
}

.jp-MainAreaWidget-ContainStrict .jp-Notebook * {
  contain: strict;
}

.jp-Notebook-render * {
  contain: none !important;
}

.jp-Notebook .jp-Cell {
  overflow: visible;
}

.jp-Notebook .jp-Cell .jp-InputPrompt {
  cursor: move;
  float: left;
}

/*-----------------------------------------------------------------------------
| Notebook state related styling
|
| The notebook and cells each have states, here are the possibilities:
|
| - Notebook
|   - Command
|   - Edit
| - Cell
|   - None
|   - Active (only one can be active)
|   - Selected (the cells actions are applied to)
|   - Multiselected (when multiple selected, the cursor)
|   - No outputs
|----------------------------------------------------------------------------*/

/* Command or edit modes */

.jp-Notebook .jp-Cell:not(.jp-mod-active) .jp-InputPrompt {
  opacity: var(--jp-cell-prompt-not-active-opacity);
  color: var(--jp-cell-prompt-not-active-font-color);
}

.jp-Notebook .jp-Cell:not(.jp-mod-active) .jp-OutputPrompt {
  opacity: var(--jp-cell-prompt-not-active-opacity);
  color: var(--jp-cell-prompt-not-active-font-color);
}

/* cell is active */
.jp-Notebook .jp-Cell.jp-mod-active .jp-Collapser {
  background: var(--jp-brand-color1);
}

/* cell is dirty */
.jp-Notebook .jp-Cell.jp-mod-dirty .jp-InputPrompt {
  color: var(--jp-warn-color1);
}
.jp-Notebook .jp-Cell.jp-mod-dirty .jp-InputPrompt:before {
  color: var(--jp-warn-color1);
  content: '•';
}

.jp-Notebook .jp-Cell.jp-mod-active.jp-mod-dirty .jp-Collapser {
  background: var(--jp-warn-color1);
}

/* collapser is hovered */
.jp-Notebook .jp-Cell .jp-Collapser:hover {
  box-shadow: var(--jp-elevation-z2);
  background: var(--jp-brand-color1);
  opacity: var(--jp-cell-collapser-not-active-hover-opacity);
}

/* cell is active and collapser is hovered */
.jp-Notebook .jp-Cell.jp-mod-active .jp-Collapser:hover {
  background: var(--jp-brand-color0);
  opacity: 1;
}

/* Command mode */

.jp-Notebook.jp-mod-commandMode .jp-Cell.jp-mod-selected {
  background: var(--jp-notebook-multiselected-color);
}

.jp-Notebook.jp-mod-commandMode
  .jp-Cell.jp-mod-active.jp-mod-selected:not(.jp-mod-multiSelected) {
  background: transparent;
}

/* Edit mode */

.jp-Notebook.jp-mod-editMode .jp-Cell.jp-mod-active .jp-InputArea-editor {
  border: var(--jp-border-width) solid var(--jp-cell-editor-active-border-color);
  box-shadow: var(--jp-input-box-shadow);
  background-color: var(--jp-cell-editor-active-background);
}

/*-----------------------------------------------------------------------------
| Notebook drag and drop
|----------------------------------------------------------------------------*/

.jp-Notebook-cell.jp-mod-dropSource {
  opacity: 0.5;
}

.jp-Notebook-cell.jp-mod-dropTarget,
.jp-Notebook.jp-mod-commandMode
  .jp-Notebook-cell.jp-mod-active.jp-mod-selected.jp-mod-dropTarget {
  border-top-color: var(--jp-private-notebook-selected-color);
  border-top-style: solid;
  border-top-width: 2px;
}

.jp-dragImage {
  display: block;
  flex-direction: row;
  width: var(--jp-private-notebook-dragImage-width);
  height: var(--jp-private-notebook-dragImage-height);
  border: var(--jp-border-width) solid var(--jp-cell-editor-border-color);
  background: var(--jp-cell-editor-background);
  overflow: visible;
}

.jp-dragImage-singlePrompt {
  box-shadow: 2px 2px 4px 0px rgba(0, 0, 0, 0.12);
}

.jp-dragImage .jp-dragImage-content {
  flex: 1 1 auto;
  z-index: 2;
  font-size: var(--jp-code-font-size);
  font-family: var(--jp-code-font-family);
  line-height: var(--jp-code-line-height);
  padding: var(--jp-code-padding);
  border: var(--jp-border-width) solid var(--jp-cell-editor-border-color);
  background: var(--jp-cell-editor-background-color);
  color: var(--jp-content-font-color3);
  text-align: left;
  margin: 4px 4px 4px 0px;
}

.jp-dragImage .jp-dragImage-prompt {
  flex: 0 0 auto;
  min-width: 36px;
  color: var(--jp-cell-inprompt-font-color);
  padding: var(--jp-code-padding);
  padding-left: 12px;
  font-family: var(--jp-cell-prompt-font-family);
  letter-spacing: var(--jp-cell-prompt-letter-spacing);
  line-height: 1.9;
  font-size: var(--jp-code-font-size);
  border: var(--jp-border-width) solid transparent;
}

.jp-dragImage-multipleBack {
  z-index: -1;
  position: absolute;
  height: 32px;
  width: 300px;
  top: 8px;
  left: 8px;
  background: var(--jp-layout-color2);
  border: var(--jp-border-width) solid var(--jp-input-border-color);
  box-shadow: 2px 2px 4px 0px rgba(0, 0, 0, 0.12);
}

/*-----------------------------------------------------------------------------
| Cell toolbar
|----------------------------------------------------------------------------*/

.jp-NotebookTools {
  display: block;
  min-width: var(--jp-sidebar-min-width);
  color: var(--jp-ui-font-color1);
  background: var(--jp-layout-color1);
  /* This is needed so that all font sizing of children done in ems is
    * relative to this base size */
  font-size: var(--jp-ui-font-size1);
  overflow: auto;
}

.jp-NotebookTools-tool {
  padding: 0px 12px 0 12px;
}

.jp-ActiveCellTool {
  padding: 12px;
  background-color: var(--jp-layout-color1);
  border-top: none !important;
}

.jp-ActiveCellTool .jp-InputArea-prompt {
  flex: 0 0 auto;
  padding-left: 0px;
}

.jp-ActiveCellTool .jp-InputArea-editor {
  flex: 1 1 auto;
  background: var(--jp-cell-editor-background);
  border-color: var(--jp-cell-editor-border-color);
}

.jp-ActiveCellTool .jp-InputArea-editor .CodeMirror {
  background: transparent;
}

.jp-MetadataEditorTool {
  flex-direction: column;
  padding: 12px 0px 12px 0px;
}

.jp-RankedPanel > :not(:first-child) {
  margin-top: 12px;
}

.jp-KeySelector select.jp-mod-styled {
  font-size: var(--jp-ui-font-size1);
  color: var(--jp-ui-font-color0);
  border: var(--jp-border-width) solid var(--jp-border-color1);
}

.jp-KeySelector label,
.jp-MetadataEditorTool label {
  line-height: 1.4;
}

.jp-NotebookTools .jp-select-wrapper {
  margin-top: 4px;
  margin-bottom: 0px;
}

.jp-NotebookTools .jp-Collapse {
  margin-top: 16px;
}

/*-----------------------------------------------------------------------------
| Presentation Mode (.jp-mod-presentationMode)
|----------------------------------------------------------------------------*/

.jp-mod-presentationMode .jp-Notebook {
  --jp-content-font-size1: var(--jp-content-presentation-font-size1);
  --jp-code-font-size: var(--jp-code-presentation-font-size);
}

.jp-mod-presentationMode .jp-Notebook .jp-Cell .jp-InputPrompt,
.jp-mod-presentationMode .jp-Notebook .jp-Cell .jp-OutputPrompt {
  flex: 0 0 110px;
}

/*-----------------------------------------------------------------------------
| Placeholder
|----------------------------------------------------------------------------*/

.jp-Cell-Placeholder {
  padding-left: 55px;
}

.jp-Cell-Placeholder-wrapper {
  background: #fff;
  border: 1px solid;
  border-color: #e5e6e9 #dfe0e4 #d0d1d5;
  border-radius: 4px;
  -webkit-border-radius: 4px;
  margin: 10px 15px;
}

.jp-Cell-Placeholder-wrapper-inner {
  padding: 15px;
  position: relative;
}

.jp-Cell-Placeholder-wrapper-body {
  background-repeat: repeat;
  background-size: 50% auto;
}

.jp-Cell-Placeholder-wrapper-body div {
  background: #f6f7f8;
  background-image: -webkit-linear-gradient(
    left,
    #f6f7f8 0%,
    #edeef1 20%,
    #f6f7f8 40%,
    #f6f7f8 100%
  );
  background-repeat: no-repeat;
  background-size: 800px 104px;
  height: 104px;
  position: relative;
}

.jp-Cell-Placeholder-wrapper-body div {
  position: absolute;
  right: 15px;
  left: 15px;
  top: 15px;
}

div.jp-Cell-Placeholder-h1 {
  top: 20px;
  height: 20px;
  left: 15px;
  width: 150px;
}

div.jp-Cell-Placeholder-h2 {
  left: 15px;
  top: 50px;
  height: 10px;
  width: 100px;
}

div.jp-Cell-Placeholder-content-1,
div.jp-Cell-Placeholder-content-2,
div.jp-Cell-Placeholder-content-3 {
  left: 15px;
  right: 15px;
  height: 10px;
}

div.jp-Cell-Placeholder-content-1 {
  top: 100px;
}

div.jp-Cell-Placeholder-content-2 {
  top: 120px;
}

div.jp-Cell-Placeholder-content-3 {
  top: 140px;
}

</style>

    <style type="text/css">
/*-----------------------------------------------------------------------------
| Copyright (c) Jupyter Development Team.
| Distributed under the terms of the Modified BSD License.
|----------------------------------------------------------------------------*/

/*
The following CSS variables define the main, public API for styling JupyterLab.
These variables should be used by all plugins wherever possible. In other
words, plugins should not define custom colors, sizes, etc unless absolutely
necessary. This enables users to change the visual theme of JupyterLab
by changing these variables.

Many variables appear in an ordered sequence (0,1,2,3). These sequences
are designed to work well together, so for example, `--jp-border-color1` should
be used with `--jp-layout-color1`. The numbers have the following meanings:

* 0: super-primary, reserved for special emphasis
* 1: primary, most important under normal situations
* 2: secondary, next most important under normal situations
* 3: tertiary, next most important under normal situations

Throughout JupyterLab, we are mostly following principles from Google's
Material Design when selecting colors. We are not, however, following
all of MD as it is not optimized for dense, information rich UIs.
*/

:root {
  /* Elevation
   *
   * We style box-shadows using Material Design's idea of elevation. These particular numbers are taken from here:
   *
   * https://github.com/material-components/material-components-web
   * https://material-components-web.appspot.com/elevation.html
   */

  --jp-shadow-base-lightness: 0;
  --jp-shadow-umbra-color: rgba(
    var(--jp-shadow-base-lightness),
    var(--jp-shadow-base-lightness),
    var(--jp-shadow-base-lightness),
    0.2
  );
  --jp-shadow-penumbra-color: rgba(
    var(--jp-shadow-base-lightness),
    var(--jp-shadow-base-lightness),
    var(--jp-shadow-base-lightness),
    0.14
  );
  --jp-shadow-ambient-color: rgba(
    var(--jp-shadow-base-lightness),
    var(--jp-shadow-base-lightness),
    var(--jp-shadow-base-lightness),
    0.12
  );
  --jp-elevation-z0: none;
  --jp-elevation-z1: 0px 2px 1px -1px var(--jp-shadow-umbra-color),
    0px 1px 1px 0px var(--jp-shadow-penumbra-color),
    0px 1px 3px 0px var(--jp-shadow-ambient-color);
  --jp-elevation-z2: 0px 3px 1px -2px var(--jp-shadow-umbra-color),
    0px 2px 2px 0px var(--jp-shadow-penumbra-color),
    0px 1px 5px 0px var(--jp-shadow-ambient-color);
  --jp-elevation-z4: 0px 2px 4px -1px var(--jp-shadow-umbra-color),
    0px 4px 5px 0px var(--jp-shadow-penumbra-color),
    0px 1px 10px 0px var(--jp-shadow-ambient-color);
  --jp-elevation-z6: 0px 3px 5px -1px var(--jp-shadow-umbra-color),
    0px 6px 10px 0px var(--jp-shadow-penumbra-color),
    0px 1px 18px 0px var(--jp-shadow-ambient-color);
  --jp-elevation-z8: 0px 5px 5px -3px var(--jp-shadow-umbra-color),
    0px 8px 10px 1px var(--jp-shadow-penumbra-color),
    0px 3px 14px 2px var(--jp-shadow-ambient-color);
  --jp-elevation-z12: 0px 7px 8px -4px var(--jp-shadow-umbra-color),
    0px 12px 17px 2px var(--jp-shadow-penumbra-color),
    0px 5px 22px 4px var(--jp-shadow-ambient-color);
  --jp-elevation-z16: 0px 8px 10px -5px var(--jp-shadow-umbra-color),
    0px 16px 24px 2px var(--jp-shadow-penumbra-color),
    0px 6px 30px 5px var(--jp-shadow-ambient-color);
  --jp-elevation-z20: 0px 10px 13px -6px var(--jp-shadow-umbra-color),
    0px 20px 31px 3px var(--jp-shadow-penumbra-color),
    0px 8px 38px 7px var(--jp-shadow-ambient-color);
  --jp-elevation-z24: 0px 11px 15px -7px var(--jp-shadow-umbra-color),
    0px 24px 38px 3px var(--jp-shadow-penumbra-color),
    0px 9px 46px 8px var(--jp-shadow-ambient-color);

  /* Borders
   *
   * The following variables, specify the visual styling of borders in JupyterLab.
   */

  --jp-border-width: 1px;
  --jp-border-color0: var(--md-grey-400);
  --jp-border-color1: var(--md-grey-400);
  --jp-border-color2: var(--md-grey-300);
  --jp-border-color3: var(--md-grey-200);
  --jp-border-radius: 2px;

  /* UI Fonts
   *
   * The UI font CSS variables are used for the typography all of the JupyterLab
   * user interface elements that are not directly user generated content.
   *
   * The font sizing here is done assuming that the body font size of --jp-ui-font-size1
   * is applied to a parent element. When children elements, such as headings, are sized
   * in em all things will be computed relative to that body size.
   */

  --jp-ui-font-scale-factor: 1.2;
  --jp-ui-font-size0: 0.83333em;
  --jp-ui-font-size1: 13px; /* Base font size */
  --jp-ui-font-size2: 1.2em;
  --jp-ui-font-size3: 1.44em;

  --jp-ui-font-family: -apple-system, BlinkMacSystemFont, 'Segoe UI', Helvetica,
    Arial, sans-serif, 'Apple Color Emoji', 'Segoe UI Emoji', 'Segoe UI Symbol';

  /*
   * Use these font colors against the corresponding main layout colors.
   * In a light theme, these go from dark to light.
   */

  /* Defaults use Material Design specification */
  --jp-ui-font-color0: rgba(0, 0, 0, 1);
  --jp-ui-font-color1: rgba(0, 0, 0, 0.87);
  --jp-ui-font-color2: rgba(0, 0, 0, 0.54);
  --jp-ui-font-color3: rgba(0, 0, 0, 0.38);

  /*
   * Use these against the brand/accent/warn/error colors.
   * These will typically go from light to darker, in both a dark and light theme.
   */

  --jp-ui-inverse-font-color0: rgba(255, 255, 255, 1);
  --jp-ui-inverse-font-color1: rgba(255, 255, 255, 1);
  --jp-ui-inverse-font-color2: rgba(255, 255, 255, 0.7);
  --jp-ui-inverse-font-color3: rgba(255, 255, 255, 0.5);

  /* Content Fonts
   *
   * Content font variables are used for typography of user generated content.
   *
   * The font sizing here is done assuming that the body font size of --jp-content-font-size1
   * is applied to a parent element. When children elements, such as headings, are sized
   * in em all things will be computed relative to that body size.
   */

  --jp-content-line-height: 1.6;
  --jp-content-font-scale-factor: 1.2;
  --jp-content-font-size0: 0.83333em;
  --jp-content-font-size1: 14px; /* Base font size */
  --jp-content-font-size2: 1.2em;
  --jp-content-font-size3: 1.44em;
  --jp-content-font-size4: 1.728em;
  --jp-content-font-size5: 2.0736em;

  /* This gives a magnification of about 125% in presentation mode over normal. */
  --jp-content-presentation-font-size1: 17px;

  --jp-content-heading-line-height: 1;
  --jp-content-heading-margin-top: 1.2em;
  --jp-content-heading-margin-bottom: 0.8em;
  --jp-content-heading-font-weight: 500;

  /* Defaults use Material Design specification */
  --jp-content-font-color0: rgba(0, 0, 0, 1);
  --jp-content-font-color1: rgba(0, 0, 0, 0.87);
  --jp-content-font-color2: rgba(0, 0, 0, 0.54);
  --jp-content-font-color3: rgba(0, 0, 0, 0.38);

  --jp-content-link-color: var(--md-blue-700);

  --jp-content-font-family: -apple-system, BlinkMacSystemFont, 'Segoe UI',
    Helvetica, Arial, sans-serif, 'Apple Color Emoji', 'Segoe UI Emoji',
    'Segoe UI Symbol';

  /*
   * Code Fonts
   *
   * Code font variables are used for typography of code and other monospaces content.
   */

  --jp-code-font-size: 13px;
  --jp-code-line-height: 1.3077; /* 17px for 13px base */
  --jp-code-padding: 5px; /* 5px for 13px base, codemirror highlighting needs integer px value */
  --jp-code-font-family-default: Menlo, Consolas, 'DejaVu Sans Mono', monospace;
  --jp-code-font-family: var(--jp-code-font-family-default);

  /* This gives a magnification of about 125% in presentation mode over normal. */
  --jp-code-presentation-font-size: 16px;

  /* may need to tweak cursor width if you change font size */
  --jp-code-cursor-width0: 1.4px;
  --jp-code-cursor-width1: 2px;
  --jp-code-cursor-width2: 4px;

  /* Layout
   *
   * The following are the main layout colors use in JupyterLab. In a light
   * theme these would go from light to dark.
   */

  --jp-layout-color0: white;
  --jp-layout-color1: white;
  --jp-layout-color2: var(--md-grey-200);
  --jp-layout-color3: var(--md-grey-400);
  --jp-layout-color4: var(--md-grey-600);

  /* Inverse Layout
   *
   * The following are the inverse layout colors use in JupyterLab. In a light
   * theme these would go from dark to light.
   */

  --jp-inverse-layout-color0: #111111;
  --jp-inverse-layout-color1: var(--md-grey-900);
  --jp-inverse-layout-color2: var(--md-grey-800);
  --jp-inverse-layout-color3: var(--md-grey-700);
  --jp-inverse-layout-color4: var(--md-grey-600);

  /* Brand/accent */

  --jp-brand-color0: var(--md-blue-900);
  --jp-brand-color1: var(--md-blue-700);
  --jp-brand-color2: var(--md-blue-300);
  --jp-brand-color3: var(--md-blue-100);
  --jp-brand-color4: var(--md-blue-50);

  --jp-accent-color0: var(--md-green-900);
  --jp-accent-color1: var(--md-green-700);
  --jp-accent-color2: var(--md-green-300);
  --jp-accent-color3: var(--md-green-100);

  /* State colors (warn, error, success, info) */

  --jp-warn-color0: var(--md-orange-900);
  --jp-warn-color1: var(--md-orange-700);
  --jp-warn-color2: var(--md-orange-300);
  --jp-warn-color3: var(--md-orange-100);

  --jp-error-color0: var(--md-red-900);
  --jp-error-color1: var(--md-red-700);
  --jp-error-color2: var(--md-red-300);
  --jp-error-color3: var(--md-red-100);

  --jp-success-color0: var(--md-green-900);
  --jp-success-color1: var(--md-green-700);
  --jp-success-color2: var(--md-green-300);
  --jp-success-color3: var(--md-green-100);

  --jp-info-color0: var(--md-cyan-900);
  --jp-info-color1: var(--md-cyan-700);
  --jp-info-color2: var(--md-cyan-300);
  --jp-info-color3: var(--md-cyan-100);

  /* Cell specific styles */

  --jp-cell-padding: 5px;

  --jp-cell-collapser-width: 8px;
  --jp-cell-collapser-min-height: 20px;
  --jp-cell-collapser-not-active-hover-opacity: 0.6;

  --jp-cell-editor-background: var(--md-grey-100);
  --jp-cell-editor-border-color: var(--md-grey-300);
  --jp-cell-editor-box-shadow: inset 0 0 2px var(--md-blue-300);
  --jp-cell-editor-active-background: var(--jp-layout-color0);
  --jp-cell-editor-active-border-color: var(--jp-brand-color1);

  --jp-cell-prompt-width: 64px;
  --jp-cell-prompt-font-family: var(--jp-code-font-family-default);
  --jp-cell-prompt-letter-spacing: 0px;
  --jp-cell-prompt-opacity: 1;
  --jp-cell-prompt-not-active-opacity: 0.5;
  --jp-cell-prompt-not-active-font-color: var(--md-grey-700);
  /* A custom blend of MD grey and blue 600
   * See https://meyerweb.com/eric/tools/color-blend/#546E7A:1E88E5:5:hex */
  --jp-cell-inprompt-font-color: #307fc1;
  /* A custom blend of MD grey and orange 600
   * https://meyerweb.com/eric/tools/color-blend/#546E7A:F4511E:5:hex */
  --jp-cell-outprompt-font-color: #bf5b3d;

  /* Notebook specific styles */

  --jp-notebook-padding: 10px;
  --jp-notebook-select-background: var(--jp-layout-color1);
  --jp-notebook-multiselected-color: var(--md-blue-50);

  /* The scroll padding is calculated to fill enough space at the bottom of the
  notebook to show one single-line cell (with appropriate padding) at the top
  when the notebook is scrolled all the way to the bottom. We also subtract one
  pixel so that no scrollbar appears if we have just one single-line cell in the
  notebook. This padding is to enable a 'scroll past end' feature in a notebook.
  */
  --jp-notebook-scroll-padding: calc(
    100% - var(--jp-code-font-size) * var(--jp-code-line-height) -
      var(--jp-code-padding) - var(--jp-cell-padding) - 1px
  );

  /* Rendermime styles */

  --jp-rendermime-error-background: #fdd;
  --jp-rendermime-table-row-background: var(--md-grey-100);
  --jp-rendermime-table-row-hover-background: var(--md-light-blue-50);

  /* Dialog specific styles */

  --jp-dialog-background: rgba(0, 0, 0, 0.25);

  /* Console specific styles */

  --jp-console-padding: 10px;

  /* Toolbar specific styles */

  --jp-toolbar-border-color: var(--jp-border-color1);
  --jp-toolbar-micro-height: 8px;
  --jp-toolbar-background: var(--jp-layout-color1);
  --jp-toolbar-box-shadow: 0px 0px 2px 0px rgba(0, 0, 0, 0.24);
  --jp-toolbar-header-margin: 4px 4px 0px 4px;
  --jp-toolbar-active-background: var(--md-grey-300);

  /* Statusbar specific styles */

  --jp-statusbar-height: 24px;

  /* Input field styles */

  --jp-input-box-shadow: inset 0 0 2px var(--md-blue-300);
  --jp-input-active-background: var(--jp-layout-color1);
  --jp-input-hover-background: var(--jp-layout-color1);
  --jp-input-background: var(--md-grey-100);
  --jp-input-border-color: var(--jp-border-color1);
  --jp-input-active-border-color: var(--jp-brand-color1);
  --jp-input-active-box-shadow-color: rgba(19, 124, 189, 0.3);

  /* General editor styles */

  --jp-editor-selected-background: #d9d9d9;
  --jp-editor-selected-focused-background: #d7d4f0;
  --jp-editor-cursor-color: var(--jp-ui-font-color0);

  /* Code mirror specific styles */

  --jp-mirror-editor-keyword-color: #008000;
  --jp-mirror-editor-atom-color: #88f;
  --jp-mirror-editor-number-color: #080;
  --jp-mirror-editor-def-color: #00f;
  --jp-mirror-editor-variable-color: var(--md-grey-900);
  --jp-mirror-editor-variable-2-color: #05a;
  --jp-mirror-editor-variable-3-color: #085;
  --jp-mirror-editor-punctuation-color: #05a;
  --jp-mirror-editor-property-color: #05a;
  --jp-mirror-editor-operator-color: #aa22ff;
  --jp-mirror-editor-comment-color: #408080;
  --jp-mirror-editor-string-color: #ba2121;
  --jp-mirror-editor-string-2-color: #708;
  --jp-mirror-editor-meta-color: #aa22ff;
  --jp-mirror-editor-qualifier-color: #555;
  --jp-mirror-editor-builtin-color: #008000;
  --jp-mirror-editor-bracket-color: #997;
  --jp-mirror-editor-tag-color: #170;
  --jp-mirror-editor-attribute-color: #00c;
  --jp-mirror-editor-header-color: blue;
  --jp-mirror-editor-quote-color: #090;
  --jp-mirror-editor-link-color: #00c;
  --jp-mirror-editor-error-color: #f00;
  --jp-mirror-editor-hr-color: #999;

  /* Vega extension styles */

  --jp-vega-background: white;

  /* Sidebar-related styles */

  --jp-sidebar-min-width: 250px;

  /* Search-related styles */

  --jp-search-toggle-off-opacity: 0.5;
  --jp-search-toggle-hover-opacity: 0.8;
  --jp-search-toggle-on-opacity: 1;
  --jp-search-selected-match-background-color: rgb(245, 200, 0);
  --jp-search-selected-match-color: black;
  --jp-search-unselected-match-background-color: var(
    --jp-inverse-layout-color0
  );
  --jp-search-unselected-match-color: var(--jp-ui-inverse-font-color0);

  /* Icon colors that work well with light or dark backgrounds */
  --jp-icon-contrast-color0: var(--md-purple-600);
  --jp-icon-contrast-color1: var(--md-green-600);
  --jp-icon-contrast-color2: var(--md-pink-600);
  --jp-icon-contrast-color3: var(--md-blue-600);
}
</style>

<style type="text/css">
/* Force rendering true colors when outputing to pdf */
* {
  -webkit-print-color-adjust: exact;
}

/* Misc */
a.anchor-link {
  display: none;
}

/* Input area styling */
.jp-InputArea {
  overflow: hidden;
}

.jp-InputArea-editor {
  overflow: hidden;
}

.CodeMirror.cm-s-jupyter .highlight pre {
/* weird, but --jp-code-padding defined to be 5px but 4px horizontal padding is hardcoded for pre.CodeMirror-line */
  padding: var(--jp-code-padding) 4px;
  margin: 0;

  font-family: inherit;
  font-size: inherit;
  line-height: inherit;
  color: inherit;

}

.jp-OutputArea-output pre {
  line-height: inherit;
  font-family: inherit;
}

.jp-RenderedText pre {
  color: var(--jp-content-font-color1);
  font-size: var(--jp-code-font-size);
}

/* Using table instead of flexbox so that we can use break-inside property */
/* CSS rules under this comment should not be required anymore after we move to the JupyterLab 4.0 CSS */


.jp-CodeCell.jp-mod-outputsScrolled .jp-OutputArea-prompt {
  min-width: calc(
    var(--jp-cell-prompt-width) - var(--jp-private-cell-scrolling-output-offset)
  );
}

.jp-OutputArea-child {
  display: table;
  width: 100%;
}

.jp-OutputPrompt {
  display: table-cell;
  vertical-align: top;
  min-width: var(--jp-cell-prompt-width);
}

body[data-format='mobile'] .jp-OutputPrompt {
  display: table-row;
}

.jp-OutputArea-output {
  display: table-cell;
  width: 100%;
}

body[data-format='mobile'] .jp-OutputArea-child .jp-OutputArea-output {
  display: table-row;
}

.jp-OutputArea-output.jp-OutputArea-executeResult {
  width: 100%;
}

/* Hiding the collapser by default */
.jp-Collapser {
  display: none;
}

@media print {
  .jp-Cell-inputWrapper,
  .jp-Cell-outputWrapper {
    display: block;
  }

  .jp-OutputArea-child {
    break-inside: avoid-page;
  }
}
</style>

<!-- Load mathjax -->
    <script src="https://cdnjs.cloudflare.com/ajax/libs/mathjax/2.7.7/latest.js?config=TeX-AMS_CHTML-full,Safe"> </script>
    <!-- MathJax configuration -->
    <script type="text/x-mathjax-config">
    init_mathjax = function() {
        if (window.MathJax) {
        // MathJax loaded
            MathJax.Hub.Config({
                TeX: {
                    equationNumbers: {
                    autoNumber: "AMS",
                    useLabelIds: true
                    }
                },
                tex2jax: {
                    inlineMath: [ ['$','$'], ["\\(","\\)"] ],
                    displayMath: [ ['$$','$$'], ["\\[","\\]"] ],
                    processEscapes: true,
                    processEnvironments: true
                },
                displayAlign: 'center',
                CommonHTML: {
                    linebreaks: {
                    automatic: true
                    }
                }
            });

            MathJax.Hub.Queue(["Typeset", MathJax.Hub]);
        }
    }
    init_mathjax();
    </script>
    <!-- End of mathjax configuration --></head>
<body class="jp-Notebook" data-jp-theme-light="true" data-jp-theme-name="JupyterLab Light">

<div class="jp-Cell jp-MarkdownCell jp-Notebook-cell">
<div class="jp-Cell-inputWrapper">
<div class="jp-Collapser jp-InputCollapser jp-Cell-inputCollapser">
</div>
<div class="jp-InputArea jp-Cell-inputArea"><div class="jp-InputPrompt jp-InputArea-prompt">
</div><div class="jp-RenderedHTMLCommon jp-RenderedMarkdown jp-MarkdownOutput " data-mime-type="text/markdown">
<h1 id="Introduction">Introduction<a class="anchor-link" href="#Introduction">&#182;</a></h1><p>The purpose of this project is to find the appropriate binary classification model to determine the likelihood of a potential loan default. As banks take on significant risk in issuing loans, determining the probability of loan default could significantly mitigate risk and help banks and other financial institutions remain profitable.</p>
<h2 id="Goals">Goals<a class="anchor-link" href="#Goals">&#182;</a></h2><p>This project will compare three different classification methods, Logistic Regression, Support Vector Machine, and Random Forest to determine which model may be most successful in correctly identifying potential loan default. To do so, I will analyze and clean the data, set up each model, adjust the hyperparameters, and use the Reciever Operating Characteristic Curve (ROC) and the Area under the ROC Curve (AUC) to determine which model performs best.</p>
<h2 id="Data-Source">Data Source<a class="anchor-link" href="#Data-Source">&#182;</a></h2><p>The data for this project comes from <a href="https://www.kaggle.com/datasets/nikhil1e9/loan-default">Kaggle</a></p>

</div>
</div>
</div>
</div><div class="jp-Cell jp-CodeCell jp-Notebook-cell jp-mod-noOutputs  ">
<div class="jp-Cell-inputWrapper">
<div class="jp-Collapser jp-InputCollapser jp-Cell-inputCollapser">
</div>
<div class="jp-InputArea jp-Cell-inputArea">
<div class="jp-InputPrompt jp-InputArea-prompt">In&nbsp;[2]:</div>
<div class="jp-CodeMirrorEditor jp-Editor jp-InputArea-editor" data-type="inline">
     <div class="CodeMirror cm-s-jupyter">
<div class=" highlight hl-ipython3"><pre><span></span><span class="kn">import</span> <span class="nn">pandas</span> <span class="k">as</span> <span class="nn">pd</span>
<span class="kn">import</span> <span class="nn">numpy</span> <span class="k">as</span> <span class="nn">np</span>
</pre></div>

     </div>
</div>
</div>
</div>

</div><div class="jp-Cell jp-CodeCell jp-Notebook-cell jp-mod-noOutputs  ">
<div class="jp-Cell-inputWrapper">
<div class="jp-Collapser jp-InputCollapser jp-Cell-inputCollapser">
</div>
<div class="jp-InputArea jp-Cell-inputArea">
<div class="jp-InputPrompt jp-InputArea-prompt">In&nbsp;[3]:</div>
<div class="jp-CodeMirrorEditor jp-Editor jp-InputArea-editor" data-type="inline">
     <div class="CodeMirror cm-s-jupyter">
<div class=" highlight hl-ipython3"><pre><span></span><span class="n">df</span> <span class="o">=</span> <span class="n">pd</span><span class="o">.</span><span class="n">read_csv</span><span class="p">(</span><span class="s1">&#39;credit_risk_dataset.csv&#39;</span><span class="p">)</span>
</pre></div>

     </div>
</div>
</div>
</div>

</div><div class="jp-Cell jp-CodeCell jp-Notebook-cell   ">
<div class="jp-Cell-inputWrapper">
<div class="jp-Collapser jp-InputCollapser jp-Cell-inputCollapser">
</div>
<div class="jp-InputArea jp-Cell-inputArea">
<div class="jp-InputPrompt jp-InputArea-prompt">In&nbsp;[4]:</div>
<div class="jp-CodeMirrorEditor jp-Editor jp-InputArea-editor" data-type="inline">
     <div class="CodeMirror cm-s-jupyter">
<div class=" highlight hl-ipython3"><pre><span></span><span class="n">df</span><span class="o">.</span><span class="n">head</span><span class="p">()</span>
</pre></div>

     </div>
</div>
</div>
</div>

<div class="jp-Cell-outputWrapper">
<div class="jp-Collapser jp-OutputCollapser jp-Cell-outputCollapser">
</div>


<div class="jp-OutputArea jp-Cell-outputArea">
<div class="jp-OutputArea-child jp-OutputArea-executeResult">
    
    <div class="jp-OutputPrompt jp-OutputArea-prompt">Out[4]:</div>



<div class="jp-RenderedHTMLCommon jp-RenderedHTML jp-OutputArea-output jp-OutputArea-executeResult" data-mime-type="text/html">
<div>
<style scoped>
    .dataframe tbody tr th:only-of-type {
        vertical-align: middle;
    }

    .dataframe tbody tr th {
        vertical-align: top;
    }

    .dataframe thead th {
        text-align: right;
    }
</style>
<table border="1" class="dataframe">
  <thead>
    <tr style="text-align: right;">
      <th></th>
      <th>person_age</th>
      <th>person_income</th>
      <th>person_home_ownership</th>
      <th>person_emp_length</th>
      <th>loan_intent</th>
      <th>loan_grade</th>
      <th>loan_amnt</th>
      <th>loan_int_rate</th>
      <th>loan_status</th>
      <th>loan_percent_income</th>
      <th>cb_person_default_on_file</th>
      <th>cb_person_cred_hist_length</th>
    </tr>
  </thead>
  <tbody>
    <tr>
      <th>0</th>
      <td>22</td>
      <td>59000</td>
      <td>RENT</td>
      <td>123.0</td>
      <td>PERSONAL</td>
      <td>D</td>
      <td>35000</td>
      <td>16.02</td>
      <td>1</td>
      <td>0.59</td>
      <td>Y</td>
      <td>3</td>
    </tr>
    <tr>
      <th>1</th>
      <td>21</td>
      <td>9600</td>
      <td>OWN</td>
      <td>5.0</td>
      <td>EDUCATION</td>
      <td>B</td>
      <td>1000</td>
      <td>11.14</td>
      <td>0</td>
      <td>0.10</td>
      <td>N</td>
      <td>2</td>
    </tr>
    <tr>
      <th>2</th>
      <td>25</td>
      <td>9600</td>
      <td>MORTGAGE</td>
      <td>1.0</td>
      <td>MEDICAL</td>
      <td>C</td>
      <td>5500</td>
      <td>12.87</td>
      <td>1</td>
      <td>0.57</td>
      <td>N</td>
      <td>3</td>
    </tr>
    <tr>
      <th>3</th>
      <td>23</td>
      <td>65500</td>
      <td>RENT</td>
      <td>4.0</td>
      <td>MEDICAL</td>
      <td>C</td>
      <td>35000</td>
      <td>15.23</td>
      <td>1</td>
      <td>0.53</td>
      <td>N</td>
      <td>2</td>
    </tr>
    <tr>
      <th>4</th>
      <td>24</td>
      <td>54400</td>
      <td>RENT</td>
      <td>8.0</td>
      <td>MEDICAL</td>
      <td>C</td>
      <td>35000</td>
      <td>14.27</td>
      <td>1</td>
      <td>0.55</td>
      <td>Y</td>
      <td>4</td>
    </tr>
  </tbody>
</table>
</div>
</div>

</div>

</div>

</div>

</div><div class="jp-Cell jp-CodeCell jp-Notebook-cell   ">
<div class="jp-Cell-inputWrapper">
<div class="jp-Collapser jp-InputCollapser jp-Cell-inputCollapser">
</div>
<div class="jp-InputArea jp-Cell-inputArea">
<div class="jp-InputPrompt jp-InputArea-prompt">In&nbsp;[5]:</div>
<div class="jp-CodeMirrorEditor jp-Editor jp-InputArea-editor" data-type="inline">
     <div class="CodeMirror cm-s-jupyter">
<div class=" highlight hl-ipython3"><pre><span></span><span class="n">df</span><span class="o">.</span><span class="n">info</span><span class="p">()</span>
</pre></div>

     </div>
</div>
</div>
</div>

<div class="jp-Cell-outputWrapper">
<div class="jp-Collapser jp-OutputCollapser jp-Cell-outputCollapser">
</div>


<div class="jp-OutputArea jp-Cell-outputArea">
<div class="jp-OutputArea-child">
    
    <div class="jp-OutputPrompt jp-OutputArea-prompt"></div>


<div class="jp-RenderedText jp-OutputArea-output" data-mime-type="text/plain">
<pre>&lt;class &#39;pandas.core.frame.DataFrame&#39;&gt;
RangeIndex: 32581 entries, 0 to 32580
Data columns (total 12 columns):
 #   Column                      Non-Null Count  Dtype  
---  ------                      --------------  -----  
 0   person_age                  32581 non-null  int64  
 1   person_income               32581 non-null  int64  
 2   person_home_ownership       32581 non-null  object 
 3   person_emp_length           31686 non-null  float64
 4   loan_intent                 32581 non-null  object 
 5   loan_grade                  32581 non-null  object 
 6   loan_amnt                   32581 non-null  int64  
 7   loan_int_rate               29465 non-null  float64
 8   loan_status                 32581 non-null  int64  
 9   loan_percent_income         32581 non-null  float64
 10  cb_person_default_on_file   32581 non-null  object 
 11  cb_person_cred_hist_length  32581 non-null  int64  
dtypes: float64(3), int64(5), object(4)
memory usage: 3.0+ MB
</pre>
</div>
</div>

</div>

</div>

</div><div class="jp-Cell jp-CodeCell jp-Notebook-cell jp-mod-noOutputs  ">
<div class="jp-Cell-inputWrapper">
<div class="jp-Collapser jp-InputCollapser jp-Cell-inputCollapser">
</div>
<div class="jp-InputArea jp-Cell-inputArea">
<div class="jp-InputPrompt jp-InputArea-prompt">In&nbsp;[6]:</div>
<div class="jp-CodeMirrorEditor jp-Editor jp-InputArea-editor" data-type="inline">
     <div class="CodeMirror cm-s-jupyter">
<div class=" highlight hl-ipython3"><pre><span></span><span class="c1"># removing rows with N/A values</span>
<span class="n">df</span><span class="o">.</span><span class="n">dropna</span><span class="p">(</span><span class="n">inplace</span><span class="o">=</span><span class="kc">True</span><span class="p">)</span>
<span class="n">df</span><span class="o">.</span><span class="n">reset_index</span><span class="p">(</span><span class="n">inplace</span><span class="o">=</span><span class="kc">True</span><span class="p">,</span> <span class="n">drop</span><span class="o">=</span><span class="kc">True</span><span class="p">)</span>
</pre></div>

     </div>
</div>
</div>
</div>

</div><div class="jp-Cell jp-CodeCell jp-Notebook-cell   ">
<div class="jp-Cell-inputWrapper">
<div class="jp-Collapser jp-InputCollapser jp-Cell-inputCollapser">
</div>
<div class="jp-InputArea jp-Cell-inputArea">
<div class="jp-InputPrompt jp-InputArea-prompt">In&nbsp;[7]:</div>
<div class="jp-CodeMirrorEditor jp-Editor jp-InputArea-editor" data-type="inline">
     <div class="CodeMirror cm-s-jupyter">
<div class=" highlight hl-ipython3"><pre><span></span><span class="n">df</span><span class="o">.</span><span class="n">shape</span>
</pre></div>

     </div>
</div>
</div>
</div>

<div class="jp-Cell-outputWrapper">
<div class="jp-Collapser jp-OutputCollapser jp-Cell-outputCollapser">
</div>


<div class="jp-OutputArea jp-Cell-outputArea">
<div class="jp-OutputArea-child jp-OutputArea-executeResult">
    
    <div class="jp-OutputPrompt jp-OutputArea-prompt">Out[7]:</div>




<div class="jp-RenderedText jp-OutputArea-output jp-OutputArea-executeResult" data-mime-type="text/plain">
<pre>(28638, 12)</pre>
</div>

</div>

</div>

</div>

</div><div class="jp-Cell jp-CodeCell jp-Notebook-cell   ">
<div class="jp-Cell-inputWrapper">
<div class="jp-Collapser jp-InputCollapser jp-Cell-inputCollapser">
</div>
<div class="jp-InputArea jp-Cell-inputArea">
<div class="jp-InputPrompt jp-InputArea-prompt">In&nbsp;[8]:</div>
<div class="jp-CodeMirrorEditor jp-Editor jp-InputArea-editor" data-type="inline">
     <div class="CodeMirror cm-s-jupyter">
<div class=" highlight hl-ipython3"><pre><span></span><span class="n">df</span><span class="o">.</span><span class="n">nunique</span><span class="p">()</span>
</pre></div>

     </div>
</div>
</div>
</div>

<div class="jp-Cell-outputWrapper">
<div class="jp-Collapser jp-OutputCollapser jp-Cell-outputCollapser">
</div>


<div class="jp-OutputArea jp-Cell-outputArea">
<div class="jp-OutputArea-child jp-OutputArea-executeResult">
    
    <div class="jp-OutputPrompt jp-OutputArea-prompt">Out[8]:</div>




<div class="jp-RenderedText jp-OutputArea-output jp-OutputArea-executeResult" data-mime-type="text/plain">
<pre>person_age                      57
person_income                 3835
person_home_ownership            4
person_emp_length               36
loan_intent                      6
loan_grade                       7
loan_amnt                      728
loan_int_rate                  348
loan_status                      2
loan_percent_income             77
cb_person_default_on_file        2
cb_person_cred_hist_length      29
dtype: int64</pre>
</div>

</div>

</div>

</div>

</div><div class="jp-Cell jp-CodeCell jp-Notebook-cell   ">
<div class="jp-Cell-inputWrapper">
<div class="jp-Collapser jp-InputCollapser jp-Cell-inputCollapser">
</div>
<div class="jp-InputArea jp-Cell-inputArea">
<div class="jp-InputPrompt jp-InputArea-prompt">In&nbsp;[9]:</div>
<div class="jp-CodeMirrorEditor jp-Editor jp-InputArea-editor" data-type="inline">
     <div class="CodeMirror cm-s-jupyter">
<div class=" highlight hl-ipython3"><pre><span></span><span class="c1"># identifying the values for the categorical variables </span>
<span class="n">categories</span> <span class="o">=</span> <span class="n">df</span><span class="o">.</span><span class="n">dtypes</span><span class="p">[</span><span class="n">df</span><span class="o">.</span><span class="n">dtypes</span> <span class="o">==</span> <span class="s1">&#39;object&#39;</span><span class="p">]</span><span class="o">.</span><span class="n">index</span><span class="o">.</span><span class="n">to_list</span><span class="p">()</span>
<span class="k">for</span> <span class="n">i</span> <span class="ow">in</span> <span class="n">categories</span><span class="p">:</span>
    <span class="n">k</span> <span class="o">=</span> <span class="n">df</span><span class="p">[</span><span class="n">i</span><span class="p">]</span><span class="o">.</span><span class="n">unique</span><span class="p">()</span>
    <span class="nb">print</span><span class="p">(</span><span class="sa">f</span><span class="s2">&quot;</span><span class="si">{</span><span class="n">i</span><span class="si">}</span><span class="s2">: </span><span class="si">{</span><span class="n">k</span><span class="si">}</span><span class="s2">&quot;</span><span class="p">)</span>
</pre></div>

     </div>
</div>
</div>
</div>

<div class="jp-Cell-outputWrapper">
<div class="jp-Collapser jp-OutputCollapser jp-Cell-outputCollapser">
</div>


<div class="jp-OutputArea jp-Cell-outputArea">
<div class="jp-OutputArea-child">
    
    <div class="jp-OutputPrompt jp-OutputArea-prompt"></div>


<div class="jp-RenderedText jp-OutputArea-output" data-mime-type="text/plain">
<pre>person_home_ownership: [&#39;RENT&#39; &#39;OWN&#39; &#39;MORTGAGE&#39; &#39;OTHER&#39;]
loan_intent: [&#39;PERSONAL&#39; &#39;EDUCATION&#39; &#39;MEDICAL&#39; &#39;VENTURE&#39; &#39;HOMEIMPROVEMENT&#39;
 &#39;DEBTCONSOLIDATION&#39;]
loan_grade: [&#39;D&#39; &#39;B&#39; &#39;C&#39; &#39;A&#39; &#39;E&#39; &#39;F&#39; &#39;G&#39;]
cb_person_default_on_file: [&#39;Y&#39; &#39;N&#39;]
</pre>
</div>
</div>

</div>

</div>

</div>
<div class="jp-Cell jp-MarkdownCell jp-Notebook-cell">
<div class="jp-Cell-inputWrapper">
<div class="jp-Collapser jp-InputCollapser jp-Cell-inputCollapser">
</div>
<div class="jp-InputArea jp-Cell-inputArea"><div class="jp-InputPrompt jp-InputArea-prompt">
</div><div class="jp-RenderedHTMLCommon jp-RenderedMarkdown jp-MarkdownOutput " data-mime-type="text/markdown">
<h1 id="Identifying-Data-Issues">Identifying Data Issues<a class="anchor-link" href="#Identifying-Data-Issues">&#182;</a></h1>
</div>
</div>
</div>
</div><div class="jp-Cell jp-CodeCell jp-Notebook-cell   ">
<div class="jp-Cell-inputWrapper">
<div class="jp-Collapser jp-InputCollapser jp-Cell-inputCollapser">
</div>
<div class="jp-InputArea jp-Cell-inputArea">
<div class="jp-InputPrompt jp-InputArea-prompt">In&nbsp;[11]:</div>
<div class="jp-CodeMirrorEditor jp-Editor jp-InputArea-editor" data-type="inline">
     <div class="CodeMirror cm-s-jupyter">
<div class=" highlight hl-ipython3"><pre><span></span><span class="n">df</span><span class="o">.</span><span class="n">query</span><span class="p">(</span><span class="s1">&#39;person_emp_length &gt; person_age&#39;</span><span class="p">)</span>
</pre></div>

     </div>
</div>
</div>
</div>

<div class="jp-Cell-outputWrapper">
<div class="jp-Collapser jp-OutputCollapser jp-Cell-outputCollapser">
</div>


<div class="jp-OutputArea jp-Cell-outputArea">
<div class="jp-OutputArea-child jp-OutputArea-executeResult">
    
    <div class="jp-OutputPrompt jp-OutputArea-prompt">Out[11]:</div>



<div class="jp-RenderedHTMLCommon jp-RenderedHTML jp-OutputArea-output jp-OutputArea-executeResult" data-mime-type="text/html">
<div>
<style scoped>
    .dataframe tbody tr th:only-of-type {
        vertical-align: middle;
    }

    .dataframe tbody tr th {
        vertical-align: top;
    }

    .dataframe thead th {
        text-align: right;
    }
</style>
<table border="1" class="dataframe">
  <thead>
    <tr style="text-align: right;">
      <th></th>
      <th>person_age</th>
      <th>person_income</th>
      <th>person_home_ownership</th>
      <th>person_emp_length</th>
      <th>loan_intent</th>
      <th>loan_grade</th>
      <th>loan_amnt</th>
      <th>loan_int_rate</th>
      <th>loan_status</th>
      <th>loan_percent_income</th>
      <th>cb_person_default_on_file</th>
      <th>cb_person_cred_hist_length</th>
    </tr>
  </thead>
  <tbody>
    <tr>
      <th>0</th>
      <td>22</td>
      <td>59000</td>
      <td>RENT</td>
      <td>123.0</td>
      <td>PERSONAL</td>
      <td>D</td>
      <td>35000</td>
      <td>16.02</td>
      <td>1</td>
      <td>0.59</td>
      <td>Y</td>
      <td>3</td>
    </tr>
    <tr>
      <th>186</th>
      <td>21</td>
      <td>192000</td>
      <td>MORTGAGE</td>
      <td>123.0</td>
      <td>VENTURE</td>
      <td>A</td>
      <td>20000</td>
      <td>6.54</td>
      <td>0</td>
      <td>0.10</td>
      <td>N</td>
      <td>4</td>
    </tr>
  </tbody>
</table>
</div>
</div>

</div>

</div>

</div>

</div>
<div class="jp-Cell jp-MarkdownCell jp-Notebook-cell">
<div class="jp-Cell-inputWrapper">
<div class="jp-Collapser jp-InputCollapser jp-Cell-inputCollapser">
</div>
<div class="jp-InputArea jp-Cell-inputArea"><div class="jp-InputPrompt jp-InputArea-prompt">
</div><div class="jp-RenderedHTMLCommon jp-RenderedMarkdown jp-MarkdownOutput " data-mime-type="text/markdown">
<h2 id="Person-Employment-Length">Person Employment Length<a class="anchor-link" href="#Person-Employment-Length">&#182;</a></h2>
</div>
</div>
</div>
</div><div class="jp-Cell jp-CodeCell jp-Notebook-cell   ">
<div class="jp-Cell-inputWrapper">
<div class="jp-Collapser jp-InputCollapser jp-Cell-inputCollapser">
</div>
<div class="jp-InputArea jp-Cell-inputArea">
<div class="jp-InputPrompt jp-InputArea-prompt">In&nbsp;[13]:</div>
<div class="jp-CodeMirrorEditor jp-Editor jp-InputArea-editor" data-type="inline">
     <div class="CodeMirror cm-s-jupyter">
<div class=" highlight hl-ipython3"><pre><span></span><span class="n">df</span><span class="p">[</span><span class="s1">&#39;person_emp_length&#39;</span><span class="p">]</span><span class="o">.</span><span class="n">sort_values</span><span class="p">(</span><span class="n">ascending</span><span class="o">=</span><span class="kc">False</span><span class="p">)</span><span class="o">.</span><span class="n">iloc</span><span class="p">[</span><span class="mi">0</span><span class="p">:</span><span class="mi">10</span><span class="p">]</span>
</pre></div>

     </div>
</div>
</div>
</div>

<div class="jp-Cell-outputWrapper">
<div class="jp-Collapser jp-OutputCollapser jp-Cell-outputCollapser">
</div>


<div class="jp-OutputArea jp-Cell-outputArea">
<div class="jp-OutputArea-child jp-OutputArea-executeResult">
    
    <div class="jp-OutputPrompt jp-OutputArea-prompt">Out[13]:</div>




<div class="jp-RenderedText jp-OutputArea-output jp-OutputArea-executeResult" data-mime-type="text/plain">
<pre>0        123.0
186      123.0
28440     41.0
28580     38.0
28504     34.0
27182     31.0
28363     31.0
28018     31.0
28019     31.0
28621     30.0
Name: person_emp_length, dtype: float64</pre>
</div>

</div>

</div>

</div>

</div><div class="jp-Cell jp-CodeCell jp-Notebook-cell   ">
<div class="jp-Cell-inputWrapper">
<div class="jp-Collapser jp-InputCollapser jp-Cell-inputCollapser">
</div>
<div class="jp-InputArea jp-Cell-inputArea">
<div class="jp-InputPrompt jp-InputArea-prompt">In&nbsp;[14]:</div>
<div class="jp-CodeMirrorEditor jp-Editor jp-InputArea-editor" data-type="inline">
     <div class="CodeMirror cm-s-jupyter">
<div class=" highlight hl-ipython3"><pre><span></span><span class="c1"># Determining average employment length within five year age gaps</span>
<span class="n">df</span><span class="o">.</span><span class="n">groupby</span><span class="p">(</span><span class="n">pd</span><span class="o">.</span><span class="n">cut</span><span class="p">(</span><span class="n">df</span><span class="p">[</span><span class="s1">&#39;person_age&#39;</span><span class="p">],</span> <span class="n">np</span><span class="o">.</span><span class="n">arange</span><span class="p">(</span><span class="mi">0</span><span class="p">,</span> <span class="mi">150</span><span class="p">,</span> <span class="n">step</span><span class="o">=</span><span class="mi">5</span><span class="p">)),</span> <span class="n">observed</span><span class="o">=</span><span class="kc">True</span><span class="p">)[</span><span class="s1">&#39;person_emp_length&#39;</span><span class="p">]</span><span class="o">.</span><span class="n">mean</span><span class="p">()</span>
</pre></div>

     </div>
</div>
</div>
</div>

<div class="jp-Cell-outputWrapper">
<div class="jp-Collapser jp-OutputCollapser jp-Cell-outputCollapser">
</div>


<div class="jp-OutputArea jp-Cell-outputArea">
<div class="jp-OutputArea-child jp-OutputArea-executeResult">
    
    <div class="jp-OutputPrompt jp-OutputArea-prompt">Out[14]:</div>




<div class="jp-RenderedText jp-OutputArea-output jp-OutputArea-executeResult" data-mime-type="text/plain">
<pre>person_age
(15, 20]       3.285714
(20, 25]       4.047672
(25, 30]       5.177050
(30, 35]       5.580052
(35, 40]       5.920256
(40, 45]       6.210383
(45, 50]       6.348243
(50, 55]       5.465649
(55, 60]       5.671875
(60, 65]       7.655172
(65, 70]       4.473684
(70, 75]       3.500000
(75, 80]      23.666667
(80, 85]       2.000000
(120, 125]     2.000000
(140, 145]     6.666667
Name: person_emp_length, dtype: float64</pre>
</div>

</div>

</div>

</div>

</div><div class="jp-Cell jp-CodeCell jp-Notebook-cell jp-mod-noOutputs  ">
<div class="jp-Cell-inputWrapper">
<div class="jp-Collapser jp-InputCollapser jp-Cell-inputCollapser">
</div>
<div class="jp-InputArea jp-Cell-inputArea">
<div class="jp-InputPrompt jp-InputArea-prompt">In&nbsp;[15]:</div>
<div class="jp-CodeMirrorEditor jp-Editor jp-InputArea-editor" data-type="inline">
     <div class="CodeMirror cm-s-jupyter">
<div class=" highlight hl-ipython3"><pre><span></span><span class="c1"># assigning new values based on average</span>
<span class="n">df</span><span class="o">.</span><span class="n">iloc</span><span class="p">[</span><span class="mi">0</span><span class="p">,</span> <span class="mi">3</span><span class="p">]</span> <span class="o">=</span> <span class="mi">4</span>
<span class="n">df</span><span class="o">.</span><span class="n">iloc</span><span class="p">[</span><span class="mi">186</span><span class="p">,</span> <span class="mi">3</span><span class="p">]</span> <span class="o">=</span> <span class="mi">4</span>
</pre></div>

     </div>
</div>
</div>
</div>

</div>
<div class="jp-Cell jp-MarkdownCell jp-Notebook-cell">
<div class="jp-Cell-inputWrapper">
<div class="jp-Collapser jp-InputCollapser jp-Cell-inputCollapser">
</div>
<div class="jp-InputArea jp-Cell-inputArea"><div class="jp-InputPrompt jp-InputArea-prompt">
</div><div class="jp-RenderedHTMLCommon jp-RenderedMarkdown jp-MarkdownOutput " data-mime-type="text/markdown">
<h2 id="Person-Age">Person Age<a class="anchor-link" href="#Person-Age">&#182;</a></h2>
</div>
</div>
</div>
</div><div class="jp-Cell jp-CodeCell jp-Notebook-cell   ">
<div class="jp-Cell-inputWrapper">
<div class="jp-Collapser jp-InputCollapser jp-Cell-inputCollapser">
</div>
<div class="jp-InputArea jp-Cell-inputArea">
<div class="jp-InputPrompt jp-InputArea-prompt">In&nbsp;[17]:</div>
<div class="jp-CodeMirrorEditor jp-Editor jp-InputArea-editor" data-type="inline">
     <div class="CodeMirror cm-s-jupyter">
<div class=" highlight hl-ipython3"><pre><span></span><span class="n">df</span><span class="p">[</span><span class="s1">&#39;person_age&#39;</span><span class="p">]</span><span class="o">.</span><span class="n">sort_values</span><span class="p">(</span><span class="n">ascending</span><span class="o">=</span><span class="kc">False</span><span class="p">)</span><span class="o">.</span><span class="n">iloc</span><span class="p">[</span><span class="mi">0</span><span class="p">:</span><span class="mi">10</span><span class="p">]</span>
</pre></div>

     </div>
</div>
</div>
</div>

<div class="jp-Cell-outputWrapper">
<div class="jp-Collapser jp-OutputCollapser jp-Cell-outputCollapser">
</div>


<div class="jp-OutputArea jp-Cell-outputArea">
<div class="jp-OutputArea-child jp-OutputArea-executeResult">
    
    <div class="jp-OutputPrompt jp-OutputArea-prompt">Out[17]:</div>




<div class="jp-RenderedText jp-OutputArea-output jp-OutputArea-executeResult" data-mime-type="text/plain">
<pre>74       144
28388    144
163      144
508      123
28572     84
28498     80
28440     78
28598     76
28463     73
28586     73
Name: person_age, dtype: int64</pre>
</div>

</div>

</div>

</div>

</div><div class="jp-Cell jp-CodeCell jp-Notebook-cell jp-mod-noOutputs  ">
<div class="jp-Cell-inputWrapper">
<div class="jp-Collapser jp-InputCollapser jp-Cell-inputCollapser">
</div>
<div class="jp-InputArea jp-Cell-inputArea">
<div class="jp-InputPrompt jp-InputArea-prompt">In&nbsp;[18]:</div>
<div class="jp-CodeMirrorEditor jp-Editor jp-InputArea-editor" data-type="inline">
     <div class="CodeMirror cm-s-jupyter">
<div class=" highlight hl-ipython3"><pre><span></span><span class="c1"># removing rows with impossible ages</span>
<span class="n">df</span><span class="o">.</span><span class="n">drop</span><span class="p">([</span><span class="mi">74</span><span class="p">,</span> <span class="mi">28388</span><span class="p">,</span> <span class="mi">163</span><span class="p">,</span> <span class="mi">508</span><span class="p">],</span> <span class="n">inplace</span><span class="o">=</span><span class="kc">True</span><span class="p">)</span>
</pre></div>

     </div>
</div>
</div>
</div>

</div><div class="jp-Cell jp-CodeCell jp-Notebook-cell jp-mod-noOutputs  ">
<div class="jp-Cell-inputWrapper">
<div class="jp-Collapser jp-InputCollapser jp-Cell-inputCollapser">
</div>
<div class="jp-InputArea jp-Cell-inputArea">
<div class="jp-InputPrompt jp-InputArea-prompt">In&nbsp;[19]:</div>
<div class="jp-CodeMirrorEditor jp-Editor jp-InputArea-editor" data-type="inline">
     <div class="CodeMirror cm-s-jupyter">
<div class=" highlight hl-ipython3"><pre><span></span><span class="n">df</span><span class="o">.</span><span class="n">reset_index</span><span class="p">(</span><span class="n">inplace</span><span class="o">=</span><span class="kc">True</span><span class="p">,</span> <span class="n">drop</span><span class="o">=</span><span class="kc">True</span><span class="p">)</span>
</pre></div>

     </div>
</div>
</div>
</div>

</div>
<div class="jp-Cell jp-MarkdownCell jp-Notebook-cell">
<div class="jp-Cell-inputWrapper">
<div class="jp-Collapser jp-InputCollapser jp-Cell-inputCollapser">
</div>
<div class="jp-InputArea jp-Cell-inputArea"><div class="jp-InputPrompt jp-InputArea-prompt">
</div><div class="jp-RenderedHTMLCommon jp-RenderedMarkdown jp-MarkdownOutput " data-mime-type="text/markdown">
<h1 id="Visualizing">Visualizing<a class="anchor-link" href="#Visualizing">&#182;</a></h1>
</div>
</div>
</div>
</div><div class="jp-Cell jp-CodeCell jp-Notebook-cell jp-mod-noOutputs  ">
<div class="jp-Cell-inputWrapper">
<div class="jp-Collapser jp-InputCollapser jp-Cell-inputCollapser">
</div>
<div class="jp-InputArea jp-Cell-inputArea">
<div class="jp-InputPrompt jp-InputArea-prompt">In&nbsp;[21]:</div>
<div class="jp-CodeMirrorEditor jp-Editor jp-InputArea-editor" data-type="inline">
     <div class="CodeMirror cm-s-jupyter">
<div class=" highlight hl-ipython3"><pre><span></span><span class="kn">import</span> <span class="nn">matplotlib.pyplot</span> <span class="k">as</span> <span class="nn">plt</span>
<span class="kn">import</span> <span class="nn">seaborn</span> <span class="k">as</span> <span class="nn">sns</span>
</pre></div>

     </div>
</div>
</div>
</div>

</div><div class="jp-Cell jp-CodeCell jp-Notebook-cell   ">
<div class="jp-Cell-inputWrapper">
<div class="jp-Collapser jp-InputCollapser jp-Cell-inputCollapser">
</div>
<div class="jp-InputArea jp-Cell-inputArea">
<div class="jp-InputPrompt jp-InputArea-prompt">In&nbsp;[22]:</div>
<div class="jp-CodeMirrorEditor jp-Editor jp-InputArea-editor" data-type="inline">
     <div class="CodeMirror cm-s-jupyter">
<div class=" highlight hl-ipython3"><pre><span></span><span class="n">plt</span><span class="o">.</span><span class="n">figure</span><span class="p">(</span><span class="n">figsize</span><span class="o">=</span><span class="p">(</span><span class="mi">10</span><span class="p">,</span> <span class="mi">6</span><span class="p">))</span>
<span class="n">sns</span><span class="o">.</span><span class="n">histplot</span><span class="p">(</span><span class="n">data</span><span class="o">=</span><span class="n">df</span><span class="p">,</span> <span class="n">x</span><span class="o">=</span><span class="s1">&#39;person_income&#39;</span><span class="p">,</span> <span class="n">bins</span><span class="o">=</span><span class="n">np</span><span class="o">.</span><span class="n">arange</span><span class="p">(</span><span class="mi">0</span><span class="p">,</span> <span class="mi">220000</span><span class="p">,</span> <span class="n">step</span><span class="o">=</span><span class="mi">20000</span><span class="p">))</span>
<span class="n">plt</span><span class="o">.</span><span class="n">title</span><span class="p">(</span><span class="s1">&#39;Personal Income&#39;</span><span class="p">)</span>
<span class="n">plt</span><span class="o">.</span><span class="n">xlabel</span><span class="p">(</span><span class="s1">&#39;Yearly Income Distribution&#39;</span><span class="p">)</span>
<span class="n">plt</span><span class="o">.</span><span class="n">ylabel</span><span class="p">(</span><span class="s1">&#39;Frequency&#39;</span><span class="p">)</span>
<span class="n">plt</span><span class="o">.</span><span class="n">grid</span><span class="p">(</span><span class="kc">False</span><span class="p">)</span>
<span class="n">plt</span><span class="o">.</span><span class="n">show</span><span class="p">()</span>
</pre></div>

     </div>
</div>
</div>
</div>

<div class="jp-Cell-outputWrapper">
<div class="jp-Collapser jp-OutputCollapser jp-Cell-outputCollapser">
</div>


<div class="jp-OutputArea jp-Cell-outputArea">
<div class="jp-OutputArea-child">
    
    <div class="jp-OutputPrompt jp-OutputArea-prompt"></div>




<div class="jp-RenderedImage jp-OutputArea-output ">
<img src="data:image/png;base64,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"
class="
"
>
</div>

</div>

</div>

</div>

</div><div class="jp-Cell jp-CodeCell jp-Notebook-cell   ">
<div class="jp-Cell-inputWrapper">
<div class="jp-Collapser jp-InputCollapser jp-Cell-inputCollapser">
</div>
<div class="jp-InputArea jp-Cell-inputArea">
<div class="jp-InputPrompt jp-InputArea-prompt">In&nbsp;[23]:</div>
<div class="jp-CodeMirrorEditor jp-Editor jp-InputArea-editor" data-type="inline">
     <div class="CodeMirror cm-s-jupyter">
<div class=" highlight hl-ipython3"><pre><span></span><span class="n">plt</span><span class="o">.</span><span class="n">figure</span><span class="p">(</span><span class="n">figsize</span><span class="o">=</span><span class="p">(</span><span class="mi">10</span><span class="p">,</span> <span class="mi">6</span><span class="p">))</span>
<span class="n">sns</span><span class="o">.</span><span class="n">histplot</span><span class="p">(</span><span class="n">data</span><span class="o">=</span><span class="n">df</span><span class="p">,</span> <span class="n">x</span><span class="o">=</span><span class="s1">&#39;person_emp_length&#39;</span><span class="p">,</span> <span class="n">bins</span><span class="o">=</span><span class="mi">10</span><span class="p">)</span>
<span class="n">plt</span><span class="o">.</span><span class="n">title</span><span class="p">(</span><span class="s1">&#39;Employment Length&#39;</span><span class="p">)</span>
<span class="n">plt</span><span class="o">.</span><span class="n">xlabel</span><span class="p">(</span><span class="s1">&#39;Years of Employment&#39;</span><span class="p">)</span>
<span class="n">plt</span><span class="o">.</span><span class="n">ylabel</span><span class="p">(</span><span class="s1">&#39;Frequency&#39;</span><span class="p">)</span>
<span class="n">plt</span><span class="o">.</span><span class="n">grid</span><span class="p">(</span><span class="kc">False</span><span class="p">)</span>
<span class="n">plt</span><span class="o">.</span><span class="n">show</span><span class="p">()</span>
</pre></div>

     </div>
</div>
</div>
</div>

<div class="jp-Cell-outputWrapper">
<div class="jp-Collapser jp-OutputCollapser jp-Cell-outputCollapser">
</div>


<div class="jp-OutputArea jp-Cell-outputArea">
<div class="jp-OutputArea-child">
    
    <div class="jp-OutputPrompt jp-OutputArea-prompt"></div>




<div class="jp-RenderedImage jp-OutputArea-output ">
<img src="data:image/png;base64,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"
class="
"
>
</div>

</div>

</div>

</div>

</div><div class="jp-Cell jp-CodeCell jp-Notebook-cell jp-mod-noOutputs  ">
<div class="jp-Cell-inputWrapper">
<div class="jp-Collapser jp-InputCollapser jp-Cell-inputCollapser">
</div>
<div class="jp-InputArea jp-Cell-inputArea">
<div class="jp-InputPrompt jp-InputArea-prompt">In&nbsp;[24]:</div>
<div class="jp-CodeMirrorEditor jp-Editor jp-InputArea-editor" data-type="inline">
     <div class="CodeMirror cm-s-jupyter">
<div class=" highlight hl-ipython3"><pre><span></span><span class="n">target_dist_count</span> <span class="o">=</span> <span class="p">[</span><span class="nb">sum</span><span class="p">(</span><span class="n">df</span><span class="p">[</span><span class="s1">&#39;loan_status&#39;</span><span class="p">]</span><span class="o">==</span><span class="mi">0</span><span class="p">),</span> <span class="nb">sum</span><span class="p">(</span><span class="n">df</span><span class="p">[</span><span class="s1">&#39;loan_status&#39;</span><span class="p">]</span><span class="o">==</span><span class="mi">1</span><span class="p">)]</span>
<span class="n">target_dist_labels</span> <span class="o">=</span> <span class="p">[</span><span class="s1">&#39;Non-Default&#39;</span><span class="p">,</span><span class="s1">&#39;Default&#39;</span><span class="p">]</span>
</pre></div>

     </div>
</div>
</div>
</div>

</div><div class="jp-Cell jp-CodeCell jp-Notebook-cell   ">
<div class="jp-Cell-inputWrapper">
<div class="jp-Collapser jp-InputCollapser jp-Cell-inputCollapser">
</div>
<div class="jp-InputArea jp-Cell-inputArea">
<div class="jp-InputPrompt jp-InputArea-prompt">In&nbsp;[25]:</div>
<div class="jp-CodeMirrorEditor jp-Editor jp-InputArea-editor" data-type="inline">
     <div class="CodeMirror cm-s-jupyter">
<div class=" highlight hl-ipython3"><pre><span></span><span class="n">plt</span><span class="o">.</span><span class="n">figure</span><span class="p">(</span><span class="n">figsize</span><span class="o">=</span><span class="p">(</span><span class="mi">10</span><span class="p">,</span> <span class="mi">6</span><span class="p">))</span>
<span class="n">plt</span><span class="o">.</span><span class="n">pie</span><span class="p">(</span><span class="n">target_dist_count</span><span class="p">,</span> <span class="n">labels</span><span class="o">=</span><span class="n">target_dist_labels</span><span class="p">,</span> <span class="n">autopct</span><span class="o">=</span><span class="s1">&#39;</span><span class="si">%.0f%%</span><span class="s1">&#39;</span><span class="p">)</span>
<span class="n">plt</span><span class="o">.</span><span class="n">title</span><span class="p">(</span><span class="s1">&#39;Loan Default Distribution&#39;</span><span class="p">)</span>
<span class="n">plt</span><span class="o">.</span><span class="n">show</span><span class="p">()</span>
</pre></div>

     </div>
</div>
</div>
</div>

<div class="jp-Cell-outputWrapper">
<div class="jp-Collapser jp-OutputCollapser jp-Cell-outputCollapser">
</div>


<div class="jp-OutputArea jp-Cell-outputArea">
<div class="jp-OutputArea-child">
    
    <div class="jp-OutputPrompt jp-OutputArea-prompt"></div>




<div class="jp-RenderedImage jp-OutputArea-output ">
<img src="data:image/png;base64,iVBORw0KGgoAAAANSUhEUgAAAewAAAH2CAYAAACyZ7+dAAAAOXRFWHRTb2Z0d2FyZQBNYXRwbG90bGliIHZlcnNpb24zLjguMCwgaHR0cHM6Ly9tYXRwbG90bGliLm9yZy81sbWrAAAACXBIWXMAAA9hAAAPYQGoP6dpAABI7klEQVR4nO3dd3hTZcMG8DtJ06Z7L1rooGzKLhsZgmwnbkYF9JXxuV/XqwKiKE5w4BYcCDhQQZZs2XtToIyW0Ra6d9qM8/1RiBRa6Ejy5OTcv+vqVZumJ3dCzd3znOecRyVJkgQiIiJyaGrRAYiIiOjmWNhEREQywMImIiKSARY2ERGRDLCwiYiIZICFTUREJAMsbCIiIhlgYRMREckAC5uIiEgGWNhkVfPmzYNKpcLu3btFR6mxDRs2QKVSWT5cXV0RHByMHj164H//+x9SU1Prtf19+/ahd+/e8PX1hUqlwqxZs6wT/BpTp06FSqWqdNucOXMwb968Gm8jOjra8jqo1Wr4+vqiRYsWGD16NP7+++8qf0alUmHq1Km1yrp8+fJa/0xVj2WL37e0tDRMnToV+/fvv+57Vb3GRPbiIjoAkaOYMWMG+vbtC5PJhOzsbOzYsQPffvstPvzwQ3z11Vd4+OGH67TdsWPHori4GAsXLoS/vz+io6OtG/wG5syZg6CgICQmJtb4Z3r06IH33nsPAFBUVITjx49j4cKFGDhwIO655x4sWLAAWq3Wcv9t27YhMjKyVrmWL1+OTz/9tNalXZfHqq20tDRMmzYN0dHRaNeuXaXvjR8/HoMGDbLp4xNVh4VNdFmTJk3QtWtXy9e33347nn32WfTv3x+JiYlo06YN4uPja73dw4cP49FHH8XgwYOtGddm/Pz8Kr0O/fv3x6RJkzB16lRMmzYNr7zyCmbOnGn5/tX3tQVJkqDX6+Hu7m7zx7qZyMhIm//BQFQdDomTEJs3b8att94Kb29veHh4oHv37li2bFml+2RmZmLixIlo2bIlvLy8EBISgn79+mHTpk2V7peSkgKVSoX33nsPH3zwAWJiYuDl5YVu3bph+/bt9coZEBCAL774AkajER9++GGl7yUnJ+Ohhx5CSEgI3Nzc0KJFC3z66aeW718ZrjUajfjss88sQ821eW5Xhus3bNhQ5XO+0XB3dHQ0jhw5go0bN1oeuz5791OnTkWrVq3wySefQK/XW26/dpi6pKQEzz33HGJiYqDT6RAQEIBOnTphwYIFAIDExETL63T1oYiUlBTLbZMnT8bnn3+OFi1awM3NDd99912Vj3VFbm4uHnnkEQQEBMDT0xPDhw/H6dOnr3s9qhpp6NOnD/r06QOg4vVOSEgAADzyyCOWbFces6ohcbPZjHfeeQfNmzeHm5sbQkJCMHr0aJw/f/66x2ndujV27dqFXr16wcPDA7GxsXj77bdhNpurf+GJLmNhk91t3LgR/fr1Q35+Pr755hssWLAA3t7eGD58OBYtWmS5X05ODgBgypQpWLZsGebOnYvY2Fj06dPnugIDgE8//RSrV6/GrFmzMH/+fBQXF2PIkCHIz8+vV96EhASEh4fjn3/+sdx29OhRJCQk4PDhw3j//ffx119/YejQoXjiiScwbdo0AMDQoUOxbds2AMCIESOwbds2y9e1fW518fvvvyM2Nhbt27e3PPbvv/9er20OHz4cJSUlNzxm/Mwzz+Czzz7DE088gZUrV+KHH37Avffei+zsbADAq6++ihEjRgCAJde2bdsQHh5u2cYff/yBzz77DK+99hpWrVqFXr163TDXuHHjoFar8dNPP2HWrFnYuXMn+vTpg7y8vFo9vw4dOmDu3LkAgFdeecWSbfz48dX+zIQJE/DCCy9gwIABWLJkCaZPn46VK1eie/fuyMrKqnTfjIwMPPzwwxg5ciSWLFmCwYMH46WXXsKPP/5Yq5ykUBKRFc2dO1cCIO3atava+3Tt2lUKCQmRCgsLLbcZjUapdevWUmRkpGQ2m6v8OaPRKBkMBunWW2+V7rrrLsvtZ86ckQBI8fHxktFotNy+c+dOCYC0YMGCG2Zev369BED65Zdfqr1Ply5dJHd3d8vXAwcOlCIjI6X8/PxK95s8ebKk0+mknJwcy20ApEmTJt0wQ3XP7Uq29evXV7r/lec8d+5cy21TpkyRrv1fulWrVlLv3r1v+NhXi4qKkoYOHVrt9z/77DMJgLRo0SLLbQCkKVOmWL5u3bq1dOedd97wcSZNmnRd1qu35+vrW+k1rO6xrvy+Xf2aSZIkbdmyRQIgvfHGG5We25gxY67bZu/evSu9Rrt27brutb3i2tc4KSlJAiBNnDix0v127NghAZBefvnlSo8DQNqxY0el+7Zs2VIaOHDgdY9FdC3uYZNdFRcXY8eOHRgxYgS8vLwst2s0GowaNQrnz5/H8ePHLbd//vnn6NChA3Q6HVxcXKDVarF27VokJSVdt+2hQ4dCo9FYvm7Tpg0A1HuWN1BxHPUKvV6PtWvX4q677oKHhweMRqPlY8iQIdDr9TUaiq/Nc3MUV78O1encuTNWrFiBF198ERs2bEBpaWmtH6dfv37w9/ev8f2vnRDYvXt3REVFYf369bV+7Nq4sv1rh9o7d+6MFi1aYO3atZVuDwsLQ+fOnSvd1qZNG6v8jpLzY2GTXeXm5kKSpErDn1c0aNAAACxDpx988AEmTJiALl264LfffsP27duxa9cuDBo0qMoSCAwMrPS1m5sbANSpMK519uzZSvmMRiM+/vhjaLXaSh9DhgwBgOuGQq9V2+fmKK4Uy5XXoiofffQRXnjhBfzxxx/o27cvAgICcOeddyI5ObnGj1PV78eNhIWFVXnbld8lW7my/ep+n699/Gt/R4GK31NH/jcnx8FZ4mRX/v7+UKvVSE9Pv+57aWlpAICgoCAAwI8//og+ffrgs88+q3S/wsJC2we9ys6dO5GRkYFx48YBqHgOV0YEJk2aVOXPxMTE3HCbNX1uOp0OAFBWVlbp9pv9QWALkiRh6dKl8PT0RKdOnaq9n6enJ6ZNm4Zp06bh4sWLlr3t4cOH49ixYzV6rNqe65yRkVHlbXFxcZavdTrdda8jUPFaXvmdq60rBZyenn7d7PG0tLQ6b5eoKtzDJrvy9PREly5dsHjx4kp7FWazGT/++CMiIyPRtGlTABVv2lf2kq84ePCgZeKWPeTk5ODxxx+HVqvF008/DQDw8PBA3759sW/fPrRp0wadOnW67qOqPamr1fS5XZnVffDgwUq3L1mypEb5rbn3Nm3aNBw9ehRPPvmk5Q+JmwkNDUViYiIefPBBHD9+HCUlJZZcgHVGPwBg/vz5lb7eunUrUlNTLbO/gYrX8trX8cSJE5UOwdQ2W79+/QDguklju3btQlJSEm699dYaPweim+EeNtnEunXrLKfpXG3IkCF46623MGDAAPTt2xfPPfccXF1dMWfOHBw+fBgLFiyw7F0NGzYM06dPx5QpU9C7d28cP34cr7/+OmJiYmA0Gq2eOTk5Gdu3b4fZbLZcOOWbb75BQUEBvv/+e7Rq1cpy39mzZ6Nnz57o1asXJkyYgOjoaBQWFuLkyZNYunQp1q1bd8PHqulzCwsLQ//+/fHWW2/B398fUVFRWLt2LRYvXlyj5xQfH4+FCxdi0aJFiI2NhU6nu+m55Hl5eZZj8MXFxZYLp2zatAn33XefZRZ8dbp06YJhw4ahTZs28Pf3R1JSEn744Qd069YNHh4ellwAMHPmTAwePBgajQZt2rSBq6trjZ7XtXbv3o3x48fj3nvvxblz5/C///0PERERmDhxouU+o0aNwsiRIzFx4kTcc889SE1NxTvvvIPg4OBK22rcuDHc3d0xf/58tGjRAl5eXmjQoEGVhwGaNWuGxx57DB9//DHUajUGDx6MlJQUvPrqq2jYsKHljzwiqxA7542czZVZu9V9nDlzRpIkSdq0aZPUr18/ydPTU3J3d5e6du0qLV26tNK2ysrKpOeee06KiIiQdDqd1KFDB+mPP/6QxowZI0VFRVnud2XG9LvvvntdHlwzq7gqV2ZiX/lwcXGRAgMDpW7dukkvv/yylJKSUuXPnTlzRho7dqwUEREhabVaKTg4WOrevXulmclXMlw7S7ymz02SJCk9PV0aMWKEFBAQIPn6+kojR46Udu/eXaNZ4ikpKdJtt90meXt7SwCu2/a1oqKiLK+DSqWSvLy8pGbNmkmjRo2SVq1aVeXPXPsav/jii1KnTp0kf39/yc3NTYqNjZWefvppKSsrq9LzHz9+vBQcHCypVKpKvxtVvV7VPdaV37e///5bGjVqlOTn5ye5u7tLQ4YMkZKTkyv9rNlslt555x0pNjZW0ul0UqdOnaR169ZdN0tckiRpwYIFUvPmzSWtVlvpMat6jU0mkzRz5kypadOmklarlYKCgqSRI0dK586dq3S/3r17S61atbruOVX1b05UFZUk1WDaJxEREQnFY9hEREQywMImIiKSARY2ERGRDLCwiYiIZICFTUREJAMsbCIiIhlgYRMREckAC5uIiEgGWNhEREQywMImIiKSARY2ERGRDLCwiYiIZICFTUREJAMsbCIiIhlgYRMREckAC5uIiEgGWNhEREQywMImIiKSARY2ERGRDLCwiYiIZICFTUREJAMsbCIiIhlgYRMREckAC5uIiEgGWNhEREQywMImIiKSARY2ERGRDLCwiYiIZICFTUREJAMsbCIiIhlgYRMREckAC5uIiEgGWNhEREQywMImIiKSARY2ERGRDLCwiYiIZICFTUREJAMsbCIiIhlgYRMREckAC5uIiEgGWNhEREQywMImIiKSARY2ERGRDLCwiYiIZICFTUREJAMsbCIiIhlgYRMREckAC5uIiEgGWNhEREQywMImIiKSARY2ERGRDLCwiYiIZICFTUREJAMuogMQ0c0ZTWak5+txqbAMxWVGlJSbUGoworjMhNJyE0rKTSgpN17+fPV/V3wuM5qhUamgdVHBRa2GVlPx2UWjgqtGDZ2rBp6uGni4usDDVQNPNxe4azXw0rkg2NsN4b46hPu4w9dDK/qlIFIsFjaRA9AbTLiQV4oLuaU4n1uKC3kluJBbarntYmEZTGZJdEx4uGoQ5qtDuK8OYT7uFZ99dWjg9+/X/p6uomMSOSWVJEni3wWIFMBklnDyUhEOXchH8sVCnM8txfm8UlzILUFWUbnoeFaj06oR7uuOJiFeaNnABy3DfdCygQ8i/T1ERyOSNRY2kQ2YzBJOZRbh4Pl8HL6Qj0MX8nE0rQClBpPoaML4eWjRIqyivFs1qPgcF+wFFw2n0hDVBAubqJ7MZgknM4tw6HxFMbOca87VRY1mod6WvfDWET6Ij/CDqwtLnOhaLGyiWio3mrEnNRebT2Zi55kcHEkrQEk5y9laPFw16BITgJ5NgtGrSRCahnqLjkTkEFjYRDWQlF6ALSezsCk5CzvP5HDv2Y5CfdzQIy4IvZoEoUdcEEK8daIjEQnBwiaqQlGZEZtOZGLdsUvYcCITmYVloiPRZc3DvNEzLgg9mwShS0wg3F01oiMR2QULm+iys9klWJN0EeuOXcLOMzkoN5lFR6KbcHVRo2Mjf/RuFoyh8eFoGMCZ6OS8WNikaGl5pfh93wX8uf8CTlwsEh2H6qltpC+GtWmAoW3C0cDPXXQcIqtiYZPiFJcZseJwBhbvPY/tp7PhANcjIStTqYAOjfwxrE04hrYJ53FvcgosbFIEs1nCllNZWLz3AlYdyeCsbgXRqFXoGReEezpG4raWodBpecyb5ImFTU7txMVC/Lb3PP7cl4aMAr3oOCSYt84FQ1qH456OkUiI9odKpRIdiajGWNjkdLKLyvDn/jQs3ncehy8UiI5DDqpRgAdGdm2EBzo3go+Oi5qQ42Nhk9M4mlaAL/85hWWH0mEw8deaasbTVYN7OzXE2B4xaBTIWebkuFjYJHubkjPx5T+nsSk5S3QUkjG1ChjQMhTjesaic0yA6DhE12FhkywZTWb8dTAdX/5zGkfTOexN1tUm0hfjesZgaHw4Fychh8HCJlkpLjNiwc6zmLslBRfySkXHIScX7qvD6G7ReKhzI/h68Dg3icXCJlm4VKDH3K0pmL89FQV6o+g4pDAerhqM6BiJsT1iEB3kKToOKRQLmxzayUuF+PKf0/hjXxovFUrCqVXAne0j8OxtzRDBK6mRnbGwySGl55fi3VXH8ce+C7wSGTkcVxc1RneNwuR+cfDzcBUdhxSChU0OpajMiM82nMQ3m89Ab+AeNTk2b50LHu/dGGN7xHDVMLI5FjY5BKPJjAU7z2L22mRkFZWLjkNUK6E+bnjy1qa4P6EhNGpePY1sg4VNwv19JANvrzyG05nFoqMQ1UvjYE/8d2AzDGodLjoKOSEWNglz8Hwe3lyWhB1nckRHIbKq9o388NLgFrwAC1kVC5vs7nxuCd5ddRxLDqSBv33kzPo1D8FLg5ujSai36CjkBFjYZDeFegM+WXcSc7emoNzICWWkDK4aNR7v0xiT+8bB1YVXTaO6Y2GTXaw6koHX/jyMiwVloqMQCREX4oWZ98SjYxSHyaluWNhkU5cK9HjtzyNYeSRDdBQi4dQqYFTXKDw/qDk83VxExyGZYWGTTUiShIW7zuGt5Um8lCjRNRr46vDmXfHo2zxEdBSSERY2WV1KVjFeXHwQ209z9jfRjdzetgGmDG+JQC830VFIBljYZDWSJOG7rSmYufI4Sg0m0XGIZMHfQ4tXh7XE3R0iRUchB8fCJqs4n1uC5389iK2nskVHIZKlW5oGY8ZdrRHp7yE6CjkoFjbV28KdZ/HGsiQUlfFYNVF9eLhq8NLg5hjVLVp0FHJALGyqs8zCMvz31wPYcDxTdBQipzKoVRhmjmgDX3et6CjkQFjYVCc7z+Rg8k97camQ51UT2UKEnzs+erA9Okb5i45CDoKFTbX29abTeHvFMRi5UDWRTbmoVXjmtqaY0LsxVCquAqZ0LGyqsaIyI57/9QCWH+JFUIjsqVeTIMy6vx1P/1I4FjbVSPLFQjz+4x6c4hKYREKE+ejw6cMdOESuYCxsuqklB9Lw4m8HUVLOc6uJRNJqVHhlaEuM6R4tOgoJwMKmahlMZry5LAnztqaIjkJEV7mjXQO8fXcbuLtqREchO2JhU5Uy8vWY9NNe7EnNFR2FiKrQLNQbn4/qiJggT9FRyE5Y2HSdraey8MSCfcgqKhcdhYhuwEfngi9GdUK3xoGio5AdsLCpkm83n8Gby5Ng4ilbRLLgqlHj/fvaYnjbBqKjkI2xsMnirRVJ+GLjadExiKiWVCrg5cEt8OgtsaKjkA2xsAlGkxkvLj6EX/ecFx2FiOrhkR7ReHVoS6jVvMiKM2JhK1xpuQmTftqLdccuiY5CRFYwJD4MH9zXDjotZ5A7Gxa2guWVlGPsvF3YezZPdBQisqKEaH98PToBvh5cPMSZsLAVKi2vFKO/3YmTl4pERyEiG4gL8cK8RxK4vrYTYWErUPLFQoz+difS8/WioxCRDYV4u2HuIwlo1cBXdBSyArXoAKJkZGRgwIAB8PT0hJ+fn9W2m5iYiDvvvNNq27O2Pak5GPH5NpY1kQJcKizD/V9sx6ZkrlnvDGpV2ImJiVCpVHj77bcr3f7HH3/YfOm3lJQUqFQqy4e3tzdatWqFSZMmITk5udbb+/DDD5Geno79+/fjxIkTNkhcoU+fPnjqqadstv3aWJt0EQ9/vQP5pQbRUYjITorKjBg7bxeWHkgTHYXqqdZ72DqdDjNnzkRurphLVq5Zswbp6ek4cOAAZsyYgaSkJLRt2xZr166t1XZOnTqFjh07okmTJggJCbFRWsfxy+5z+M8Pe6A3mEVHISI7M5gkPL1oP1YeThcdheqh1oXdv39/hIWF4a233qr2Pr/99htatWoFNzc3REdH4/3336/0/ejoaMyYMQNjx46Ft7c3GjVqhC+//LJGjx8YGIiwsDDExsbijjvuwJo1a9ClSxeMGzcOJtO/q0ktXboUHTt2hE6nQ2xsLKZNmwaj0Wh5/N9++w3ff/89VCoVEhMTAQAffPAB4uPj4enpiYYNG2LixIkoKvp3UtbUqVPRrl27SnlmzZqF6OjoKrMmJiZi48aNmD17tmVkICUlpUbP05p+3n0Oz/92EEZevYxIsYxmCf+3YB/WHbsoOgrVUa0LW6PRYMaMGfj4449x/vz1F9rYs2cP7rvvPjzwwAM4dOgQpk6dildffRXz5s2rdL/3338fnTp1wr59+zBx4kRMmDABx44dq/0TUKvx5JNPIjU1FXv27AEArFq1CiNHjsQTTzyBo0eP4osvvsC8efPw5ptvAgB27dqFQYMG4b777kN6ejpmz55t2dZHH32Ew4cP47vvvsO6devw/PPP1zrTFbNnz0a3bt3w6KOPIj09Henp6WjYsGGdt1cXyw6m46XFh8CphURkMEl4/Me9PKYtU3WadHbXXXehXbt2mDJlynXf++CDD3Drrbfi1VdfRdOmTZGYmIjJkyfj3XffrXS/IUOGYOLEiYiLi8MLL7yAoKAgbNiwoU5Ponnz5gBg2Xt988038eKLL2LMmDGIjY3FgAEDMH36dHzxxRcAgODgYLi5ucHd3R1hYWHw9a2YQfnUU0+hb9++iImJQb9+/TB9+nT8/PPPdcoEAL6+vnB1dYWHhwfCwsIQFhYGjcZ+FzNYf/wSnlq0j9cFJyKLcqMZj32/B9tPZ4uOQrVU51niM2fOxHfffYejR49Wuj0pKQk9evSodFuPHj2QnJxcaci6TZs2lv9WqVQICwvDpUsVV9saPHgwvLy84OXlhVatWt00y5Uz065MfNuzZw9ef/11yza8vLwse7klJSXVbmf9+vUYMGAAIiIi4O3tjdGjRyM7OxvFxcU3zeBotp/OxoQf98BgYlkTUWWlBhPGzdvF5XNlxqWuP3jLLbdg4MCBePnlly3HgIGK8rx2xnhVp3prtZWvwKNSqWA2V0yI+vrrr1FaWlrl/aqSlJQEAIiJiQEAmM1mTJs2DXffffd199XpdFVuIzU1FUOGDMHjjz+O6dOnIyAgAJs3b8a4ceNgMFTMqlar1dc9lyvfcyQHzuVh/He7OcGMiKpVXG5C4tyd+Gl8V8RH8jxtOahzYQPA22+/jXbt2qFp06aW21q2bInNmzdXut/WrVvRtGnTGg8HR0RE1DiD2WzGRx99hJiYGLRv3x4A0KFDBxw/fhxxcXE13s7u3bthNBrx/vvvQ62uGHi4djg8ODgYGRkZlf4o2b9//w236+rqWmlkwdaOZxRizNydKCoz2u0xiUieCvVGjPp2BxY82hUtwn1Ex6GbqFdhx8fH4+GHH8bHH39sue3ZZ59FQkICpk+fjvvvvx/btm3DJ598gjlz5tQ7LABkZ2cjIyMDJSUlOHz4MGbNmoWdO3di2bJllj8IXnvtNQwbNgwNGzbEvffeC7VajYMHD+LQoUN44403qtxu48aNYTQa8fHHH2P48OHYsmULPv/880r36dOnDzIzM/HOO+9gxIgRWLlyJVasWAEfn+p/0aOjo7Fjxw6kpKTAy8sLAQEBlj8IrC0lqxgjv9mBvBLH2+snIseUV2LAyK93YNF/uiIuxFt0HLqBejfH9OnTKw0Td+jQAT///DMWLlyI1q1b47XXXsPrr79eadi8Pvr374/w8HDEx8fjxRdfRIsWLXDw4EH07dvXcp+BAwfir7/+wurVq5GQkICuXbvigw8+QFRUVLXbbdeuHT744APMnDkTrVu3xvz58687da1FixaYM2cOPv30U7Rt2xY7d+7Ec889d8O8zz33HDQaDVq2bIng4GCcPXu2fi9ANdLySvHw1zuQWVhmk+0TkfPKLi7HQ1/twJks+c3XURJeS9wJZBaW4b4vtvF/NiKql3BfHX6d0B0Rfu6io1AVFHstcWeRX2LAqG/4lzER1V96vh7j5u1CSTnnwDgiFraMlRlNGPvdLhzLKBQdhYicxLGMQjy1cH+VZ/eQWCxsGXvpt0M8j5KIrO7voxfx3t/HRcega7CwZeqzDaeweN8F0TGIyEl9uv4U/tzP9xhHwsKWoTVHL+LdVbW/7joRUW08/+tB7D+XJzoGXcbClpljGQV4cuE+8PLgRGRrZUYzHvt+NzLy9aKjEFjYspJTXI7x3+1Gcbn9rpxGRMp2qbAMj36/G3oD33dEY2HLhMksYfJPe3E+t1R0FCJSmEMX8vHsLwc4c1wwFrZMzFx5DFtPcTk8IhJj2cF0zF6bLDqGorGwZWDZwXR8+c9p0TGISOFmr03G8kPpomMoFgvbwZ24WIjnfz0gOgYRESQJePbnAziaViA6iiKxsB1Ygd6Ax3/Yw0lmROQwSg0mTF6wl5cvFYCF7cBe+PUgTvMa4UTkYE5nFmPqkiOiYygOC9tB/bbnPFYczhAdg4ioSj/vPo+lB9JEx1AUFrYDupBXiqlL+dcrETm2l38/hHM5JaJjKAYL28FIkoT//nIAhXoeHyIix1aoN+LJhftgNJlFR1EEFraD+XZLCs+3JiLZ2Hs2j+dn2wkL24GcvFSId1ZyUQ8ikpc5G05h31ku9WtrLGwHYTSZ8fSiAygzcmiJiOTFZJbw7M8HUMpTUG2Khe0gPlp3Eocu5IuOQURUJ6ezivHWiiTRMZwaC9sB7D+XhznrT4qOQURULz9sT8Wm5EzRMZwWC1swvcGEZ37eDyMXuCYimZMk4PlfDyK/1CA6ilNiYQv21vIknM7k1cyIyDmk5+sxYxmHxm2BhS3Q5uQsfL89VXQMIiKr+nnPOc4atwEWtiB6gwkv/X4QXA+eiJyNJAGv/XkEZh7qsyoWtiBfbzqNczmlomMQEdnEoQv5WLDrrOgYToWFLUBGvh5zNpwSHYOIyKbeXXUcucXlomM4DRa2AG+vSEIJLzBARE4ur8SAd1YdFx3DabCw7WxPag7+2M8l6YhIGRbtOouD5/NEx3AKLGw7MpslTF1yVHQMIiK7MUvAq38egcQZtvXGwrajX/ac4+VHiUhxDpzLw8+7z4mOIXssbDsp0BvwLo/lEJFCzVx5HPklvAJafbCw7eSjNcnIKuJsSSJSppzicrz3N3da6oOFbQenMovw3bYU0TGIiISavyMVh3lYsM5Y2HYw/a+jMJg44YKIlM0sAdOWHhEdQ7ZY2Da27thFbDjO5eaIiABgV0ouNidniY4hSyxsGzKbJbzJVWuIiCqZvfaE6AiyxMK2oeWH03GKS2cSEVWyKyUXW09yL7u2WNg2IkkSPll3UnQMIiKHNGttsugIssPCtpE1SZdwLKNQdAwiIoe080wOtp7iXnZtsLBt5JP13LsmIrqR2Wu4l10bLGwb2JSciQPn8kTHICJyaDvO5GD76WzRMWSDhW0DH/PYNRFRjcxawxnjNcXCtrJdKTnYeSZHdAwiIlnYfjoHO7iXXSMsbCvj3jURUe3M5ozxGmFhW9HB83n45wSvakZEVBtbT2VjVwpHJm+GhW1FPO+aiKhueCz75ljYVnI8oxCrky6KjkFEJEtbTmZzJa+bcBEdwFl8uv4kJC7IVcn5z8bCVHDputu92g9F4G0TYC4vRd7GeSg5sR1mfSE0PiHw6XQ7vNsPsdw3Z+1XKD68FiqtO/z7JMKzZW/L94qTNqH4yDqEjJhil+dDRLY1f0cq3rq7jegYDouFbQVpeaVYdihddAyHEz7mQ8BstnxdnpWKS4tegWfzHgCA3LVfQX/2EIKGPwsX31CUntmHnL/nQOMVAI8mXVFycgeKkzYi5L7pMOamIXvFbOhi2kPj7gOzvgh5m75H6ANvinp6RGRlS/an4X9DW8LLjdVUFQ6JW8HCnWdhMnP3+loaD19ovPwtH6Und8LFLxxuDeMBAGVpx+DZuh90jdrAxTcU3u0GwTUkBuXpFTNGDdnnoGsYD7fwJvBs2RsqVw8Y8zIAALkb5sK7/VC4+IQIe35EZF3F5Sb8vu+C6BgOi4VdT0aTGYt2nxMdw+FJJgOKj26AV5sBUKlUAAC3yJYoPbkTxsIsSJIEfepBGHLToIvtAABwDY5BecZJmPRFKMs4CclYBhf/BtCfP4Lyi6fg3XG4yKdERDYwf3uq6AgOi+MO9bQm6SIuFpSJjuHwKo5TF8Gz9a2W2wL6/wfZKz/GhTmJgFoDqFQIHPQEdJGtAADusR3h2aoPMr57GioXVwQNfRpqrRtyVs1B4NCnUbhvOQr3/gWNuw8CBk6Ga3CUoGdHRNZyLKMQe8/mokMjf9FRHA4Lu57m7zgrOoIsFB38G+6xHeHiHWi5rWD3UpSlHUfwPa/CxScE+nOHkbP6M2i8AuAe3Q4A4NfzYfj1fNjyM3mb50MX3Q4qtQb52xahwdhPUXpyJ7KXfYDwxNn2flpEZAPzt59lYVeBQ+L1kJpdjM1chP2mjPmXoE89AK+2Ay23mQ1lyPvne/j3Gw+PuC5wDYmBT8fh8GzeCwU7F1e5HUP2ORQf3QC/XiOhP3sIusjW0Hj4wqN5L5RfPAVzWYm9nhIR2dCyQ2nILzWIjuFwWNj18NPOszyVqwaKDq2GxsMX7o0T/r3RbALMRqigqnxnlRpVvaiSJCF75Sfw7zseald3QDJDMhsvb+vyZ8l83c8RkfzoDWb8tue86BgOh4VdR0aTGYv3cjbjzUiSGUWH1sCz9a1QqTWW29VuHnBr2Bq5G76F/uxBGPIyUHRoDYqPrINH027XbafowKqKvekmXQAAbhEtoE89iLILx1Cw609oAxtBrfOy2/MiItv6aScPN16Lx7DraOOJTGQWcrLZzehT9sNUkAmvNgOu+17w7S8gd+N3yFr6Hsz6Imh8QuDXaxS82g2udD9TcS7yt/2MsJHvWm5za9AMPp3vwqVfp0Ht4YugoU/b/LkQkf2cvFSEHaez0SU28OZ3VgiVJHFQty4m/LgHKw5niI5BROS0bm/bAB892F50DIfBIfE6yC0ux9qk6y+5SURE1rPycAayiziSeQULuw7+3H8B5SZOcCIisqVykxl/7E8THcNhsLDr4Ne9nL1IRGQPyw6ysK9gYdfSyUuFOHyhQHQMIiJF2HcuD+n5paJjOAQWdi2tOsI1r4mI7EWSgOWHOMEXYGHX2pokFjYRkT0t5/LFAFjYtZJZWIYD5/JExyAiUpS9Z3M5LA4Wdq2sO3YRXPaaiMi+JAlYwWFxFnZtrD7Kc6+JiERYeYSFzcKuIb3BhC1cmYuISIg9qbnIKykXHUMoFnYNbU7OQqnBJDoGEZEimcwS1h9X9ignC7uGODuciEisNQo/LMnCrgFJkrCG1w4nIhLqnxOZKDcq97LQLOwa2HcuD1m8AD0RkVCFZUbsOJMtOoYwLOwaWHOUw+FERI5Aye/HLOwa4PFrIiLHsPUU97CpGudySnDiYpHoGEREBOBkZhFyi5V5ehcL+ya2nuK510REjkKSgN2puaJjCMHCvom9qXmiIxAR0VV2p+SIjiAEC/sm9p5V5l9yRESOahcLm66VX2rAyUwevyYiciSHLxRAr8ArT7Kwb2D/uTxIXJ2LiMihlJvMilzqmIV9A3sVOrGBiMjRKXHiGQv7Bnj8mojIMSnxODYLuxqSJGG/AodciIjkYE9qLsxmZR2zZGFXI/lSEQr1RtExiIioCoV6I45lFIqOYVcs7Grw+DURkWPbnaqsYXEWdjV4/JqIyLHtSlHW+zQLuxp7z+aJjkBERDewR2ETz1jYVcgvMeAUL5hCROTQ0vL1KNAbRMewGxZ2Ffaf5wVTiIjk4HRmsegIdsPCrsIJhc08JCKSq1OXlDMaysKuQkq2cv5iIyKSMyUdvmRhV4GFTUQkDxwSV7iUrBLREYiIqAa4h61gZUYT0vNLRccgIqIaSM0ugUkhlyhlYV/jbHYJFPJvT0Qke+UmM87mKGNUlIV9jTNZyjkeQkTkDE4rZFichX2N1Gxl/KVGROQslHIcm4V9jTOcIU5EJCunLinjfZuFfY0UDokTEcnK6SzuYSsSh8SJiOTllELOxWZhX0VvMCGNp3QREclKTnE58krKRcewORb2Vc7mlHDRDyIiGbpUWCY6gs2xsK/C49dERPKUU8w9bEW5WKAXHYGIiOqAQ+IKk1OsnIXQiYiciRLev1nYV8lVwF9oRETOSAnv3yzsqyjhGAgRkTNSwvs3C/sqSvgLjYjIGSnh/ZuFfRUl/IVGROSMchXw/s3CvkpeifNPWiAickY5Cnj/ZmFfJb/U+f/BiYicEfewFUSSJBSXG0XHICKiOmBhK0hJuYmXJSUikqnCMiMMJrPoGDbFwr6sqIx710REcubsM8VZ2JexsImI5C3Xya92xsK+rEjPwiYikjO9wSQ6gk2xsC8r5h42EZGsmZx8IhIL+7JyJ5+sQETk7ExmFrYiaNQq0RGIiKgeWNgKoVGxsImI5MzMwlYGNfewiYhkjcewFYJD4kRE8mZ08j1sF9EBHIWaQ+Lk5D5svBd3XXhPdAwi21H/CmCA6BQ2wz3sy7iHTc5ubUFD0RGIbEutEZ3ApljYl3HSGTm71dmBkFzcRccgsh21cw8as7AvU/OVICdXZlajKKCV6BhEtqPiHrYicEiclCBF11x0BCLb4R62MnBInJRgpyFGdAQi22FhKwPPwyYlWJETKToCke04+bFN5352tcA9bFKC3fneMHsEiY5BZBvcw1YGHsMmpcj2ixcdgcg23LxFJ7ApFvZlbi58KUgZTmiaio5AZBuewaIT2BRb6rIAT1dwVJyUYLM+SnQEIuvTegCunqJT2BQL+zIXjRp+7lrRMYhsbmlmOCTwr1NyMp7OPzeDhX2VIC830RGIbO683g0GP57eRU7GyYfDARZ2JYFerqIjENlFhheveEZOhoWtLNzDJqU4hDjREYisi0PiysLCJqVYX8iVu8jJcA9bWYI4JE4KsSIrBJKGf6CSE2FhKwv3sEkpik1qlPhzIRByIixsZWFhk5KkurcUHYHIengMW1k4S5yUZI+Rp3aRE+EetrJwD5uUZFU+J56RE2FhK0uwNwublGNzji/MOj/RMYisQAUoYBU6FvZVdFoNPF01omMQ2U2eX2vREYjqz90P0Dj30poAC/s6ob460RGI7CZZy5ni5AQ8Q0QnsAsW9jXigr1ERyCym+1l0aIjENVfUBPRCeyChX2NpqHOvQA60dWWZIWLjkBUfyHKOEWRhX2NJqHcwyblOFXiDqMPZ4uTzIW0EJ3ALljY12gSwj1sUpaL3px4RjLHPWxlahziCY1aJToGkd0cUSnj+B85KY0rEKiM1edY2Ndwc9EgKsBDdAwiu9lY3Eh0BKK6C2qqiFO6ABZ2leJCeByblOOvrBBIamW84ZETUsjxa4CFXSXOFCclyTe4QM+Vu0iuWNjKxpnipDTnPJTzpkdORiETzgAWdpW4h01Ks8/UWHQEorphYStbbDBnipOyrM6PFB2BqPZcvQE/5UyaZGFXgTPFSWnW5/hBcuWhIJKZ4GaASjk7VyzsavA4NimJSVKjwJ8XUCGZUdCEM4CFXa3mYT6iIxDZ1Sk3zhQnmVHQ8WuAhV2tjlH+oiMQ2dX2shjREYhqh3vYBAAdovw58YwUZVlOA9ERiGpOpQYatBOdwq5Y2NXwcnNBM57eRQpypNATJi8ut0kyEd4WcFfWSCgL+wYSopX1y0CU6cuJZyQTMbeITmB3LOwb6BQdIDoCkV0lqblyF8lETG/RCeyOhX0DCSxsUphNJVGiIxDdnMYVaNRNdAq7Y2HfQJivDo14ARVSkKWZYZBUfFsgBxfZGXBV3nsz/8+8ie6NA0VHILKbzHItyv04LE4OLlZ5w+EAC/umuscFiY5AZFcXPJV1MQqSIQUevwZY2DfFPWxSmgMSV+4iB+bqDUR0FJ1CCBb2TQR5ufF8bFKUtQXKWf2IZCiqG6BxEZ1CCBZ2DXTjXjYpyOrsAEha5U3oIZlQ6HA4wMKukR48jk0KUmZWo8ifx7HJQSl0whnAwq6Rbo0D4erCl4qU4wxX7iJH5BEEhCr3anxsoRrwcnPBLU24l03KscsYKzoC0fViegEq5S7KxMKuoSHxXBSBlGN5doToCETXU/Dxa4CFXWP9W4bCVcOXi5RhT4E3zB4cVSJHogLi+osOIRQbqIZ8dFr05LA4KUi2b7zoCET/atQV8GsoOoVQLOxa4LA4Kclxl6aiIxD9K36E6ATCsbBrYUDLUGg1yp3wQMqyRc+Vu8hBqLVAq7tFpxCOhV0Lvu5anpNNirEkMxwS+AcqOYC4WwEPLnfMwq4lDouTUlzQu8HgFyM6BhEQf6/oBA6BhV1LA1uGcVicFCPdS7kXqSAH4eoFNBsiOoVDYGHXkq+HFt0ac1iclOEQuHIXCdZ8KODKa9sDLOw6GRofJjoCkV2sL+TKXSQYh8MtWNh1cFvLMLioOSxOzm9lVjAkjZvoGKRUHkFAbF/RKRwGC7sO/D1dueQmKUKxSY2SgBaiY9jFW5vKkPBVEbzfKkDIu4W4c2EJjmeZLN83mCS8sFqP+M+K4DmjAA3eL8To30uRVmiutJ1nVukRMLMAjT4sxMLDhkrf+/mIAcMXlNjl+TiF1ncrdu3rqrCw6+jBzhwqJGVI1SmjsDemGjEpwRXbx3li9SgPGM3AbT+WoLhcAgCUGIC9GSa8eosb9j7micX3u+NEthm3X1XAS48b8NMhA/4e5YmZ/XV45M9SZJdUFHqeXsL/1pXh0yE6Ic9PljgcXgn/dKmj21qGIsxHh4wCvegoRDa1xxgDJayOvXKkZ6Wv596hQ8h7RdiTbsItUS7w1amwelTl+3w8WIXOXxfjbL4ZjXzVSMoyo0+0Bp0aVHw8tUqP07kSAj2A51frMbGTFo18uZ9UI/7RQMPOolM4FP7m1JGLRs29bFKEVfnKvH5zflnF5wD36uer5JdVXFrGT1dxn7ahGuxOMyG3VMKeNBNKDRLiAtTYfNaIvekmPNHF1Q7JnURrXor0WizseniwS0Oek01Ob3OOL8w6P9Ex7EqSJDyzSo+ejTRoHaKp8j56o4QX1+jxULwWPm4V7wMD41wwso0WCV8VIfHPUnx3pzs8XYEJy/T4Ypg7PtttQLNPitDj22IcuWSqcrt0WZv7RCdwOCzsegjx1mFQa175jJxfnr+yVu6avFyPgxdNWHCPe5XfN5gkPPBrKcwSMGdo5WPSU/vocPIJbxya4IW7WmgxY1MZ+se4QKsB3vinDJsf8cD49lqM/qPUHk9Fnhp1B4KbiU7hcFjY9TS6GxdIIOeX7KKcN8//W16KJSeMWD/GE5E+179FGkwS7vu1FGfyzFg9ysOyd12VY1kmzD9kxPR+btiQYsQtURoEe6pxXyst9qabUVAm2fKpyFf3/xOdwCGxsOspIToAzcO8RccgsqltZdGiI9icJEmYvLwUi48ZsW60B2L8qy/r5Gwz1ozyQKBH9W+hkiThsaV6vH+bG7xcVTCZAcPlM8CufDazr68XGAc0Gyw6hUNiYVvB6G7RoiMQ2dTSLOc/9DNpuR4/HjTgp7vd4e2mQkaRGRlFZpQaKlrVaJYw4pdS7E4zYf7d7jBJsNyn3HR9836114AQTxVub6YFAPRo5IJ1Z4zYft6ID7eVoWWw2jJZja7SbRKg4utSFZUkSfwbr55Kyo3oMmMtCvVG0VGIbOZkyItwKTgrOobNqKYVVHn73Dt0SGznipQ8M2JmF1V5n/VjPNAn+t+zZC8WmdHl62JsHeeJBt7/7he9vrEMs3eUI8RThe/udEfniKontCmWRxDw9BFAy3PVq8LCtpJpS49g7pYU0TGIbGZL4x8QcWGF6BjkzPq8BPR5UXQKh8UhcSsZ1TWKozjk1I6omoiOQM7MxR1IeFR0CofGwraS2GAv9IzjspvkvDYU80JBZEPtHgQ8uUbDjbCwrYiTz8iZLcsKgaTm1YzJBlRqoOsk0SkcHgvbivq3COEpXuS08g0u0Ps3Fx2DnFHTwUBQnOgUDo+FbUUqlQpPD2gqOgaRzZzzUMbKXWRnvFBKjbCwrWxgqzDER/iKjkFkE/tMjUVHIGcTmQBEdROdQhZY2DbwDPeyyUn9nR8pOgI5m26TRSeQDRa2DfRtHoL2jfxExyCyug05fpDcOE+DrMQ/Gmhxu+gUssHCtpFnByhnsQRSDpOkRr5/a9ExyFn0fBpQs4Zqiq+UjfRsEoTOMQGiYxBZ3Skt/xglKwhuAbQfJTqFrLCwbehZHssmJ7SjPEZ0BHIGt70BqHkt9dpgYdtQl9hAXv2MnM7S7AjREUjuGvcDmvQXnUJ2WNg29sxt3Msm55JU5AGTVwPRMUiuVBrgtjdFp5AlFraNdWjkj77NgkXHILKqTJ9WoiOQXLUfCYS2FJ1ClljYdvAMZ4yTk0nScOUuqgNXL6DfK6JTyBYL2w7iI30xuHWY6BhEVrOpJEp0BJKjHk8BXiGiU8gWC9tO/je0BXRavtzkHJZmhkFS8feZasEnAujOq5rVB/+Ps5NIfw9M6M3VaMg5ZJZrUe7PYXGqhX6vAlp30SlkjYVtR//pHYtGAR6iYxBZxQUPThyiGgpvB7R9QHQK2WNh25FOq8Frw/gmR85hv8QRI6qhgW8CKpXoFLLHwraz/i1D0a85J12Q/K0taCg6AslBs6FAdE/RKZwCC1uAKcNbws2FLz3J29/ZgZC0PMRDN6DWAgNeF53CabA1BIgK9MTkvhxOJHkzmFUo8uchHrqBnk8DQXyvsxYWtiCP92mMpqFeomMQ1csZtxaiI5CjCosHej8vOoVTYWELotWo8dbd8ZyHQbK2y8CVu6gKGlfgzs8BjVZ0EqfCwhaoY1QAHurcSHQMojpblsuVu6gKvZ8HwlqLTuF0WNiCvTC4OUK83UTHIKqTvfneMHtwcRu6SkRHoOczolM4JRa2YD46LV6/gysfkXxl+8WLjkCOwkVXMRSu1ohO4pRY2A5gUOtw3NcpUnQMojo5zpW76Ip+rwDBTUWncFosbAcx9fZWiA32FB2DqNa26KNFRyBH0Kgb0HWS6BROjYXtIDxcXfDRA+3hquE/CcnLkswwSODpDoqm9QTunAOo+f5lS3x1HUjrCF88P6iZ6BhEtXJB7waDX6zoGCTSgGlAAH8HbI2F7WDG9YxBn2acdUvyku7FiZOKFXMLkDBedApFYGE7GJVKhffubYtgnupFMnIIvPykIrl6A3d8ypW47ISF7YCCvNzwwX1t+f8Ayca6Qq7cpUgD3wT8ePEne2FhO6heTYLxaC8eEyJ5WJUVDEnDUSFFaXUX0HGM6BSKwsJ2YP8d2AxtIn1FxyC6qWKTGiUBXAhEMYJbVAyFk12xsB2YVqPGRw+0h6crrxpEji9Vx8JWBDcf4P4fAVdeN8LeWNgOLjrIE6/fwYvok+PbY+QhHOenAu76nGtcC8LCloF7OkbioS6c2EGObWUeV+5yer2eAZoPFZ1CsVjYMvH67a3Qq0mQ6BhE1dqS6wezzl90DLKVxrcCfV8RnULRWNgy4aJR49OHOyAuxEt0FKJq5fnx8I1T8o8B7vmalx4VjK++jPjotPh2TAICPV1FRyGqUrK2uegIZG1uvsBDiwCPANFJFI+FLTONAj3w5eiOcHXhPx05nq36KNERyJpUGmDEt0Aw1zhwBHzXl6GOUQF4d0Qb0TGIrrM0u4HoCGRNt70BNOkvOgVdxsKWqTvaReCJW5uIjkFUyekSHYw+PKPBKXQYA3SbKDoFXYWFLWPPDGiK4W25R0OOJcOHE89kL7oXMPR90Smq9eWXX6Jhw4ZQq9WYNWuWVbaZkpIClUqF/fv3W2V7tsDClrl3R7RBh0Z+omMQWRzhyl3yFtQMuO97QKO16mYTExOhUqmgUqmg1WoRGhqKAQMG4Ntvv4XZbK7xdgoKCjB58mS88MILuHDhAh577DGr5rxiw4YNUKlUyMvLs8n264KFLXM6rQZfju6ESH930VGIAAAbiznxTLYCYoExS2w2I3zQoEFIT09HSkoKVqxYgb59++LJJ5/EsGHDYDQaa7SNs2fPwmAwYOjQoQgPD4eHh4dNsjoiFrYTCPJyw7eJCfB2cxEdhQhLM4Mhqfm7KDu+jYDRSwDvMJs9hJubG8LCwhAREYEOHTrg5Zdfxp9//okVK1Zg3rx5AID8/Hw89thjCAkJgY+PD/r164cDBw4AAObNm4f4+HgAQGxsLFQqFVJSUnDq1CnccccdCA0NhZeXFxISErBmzZpKj61SqfDHH39Uus3Pz8/yuFdLSUlB3759AQD+/v5QqVRITEy06mtRFyxsJ9E01BtzH0ngQiEkXKHRBfoAno8tK97hwJg/AT/7r2ver18/tG3bFosXL4YkSRg6dCgyMjKwfPly7NmzBx06dMCtt96KnJwc3H///ZYi3rlzJ9LT09GwYUMUFRVhyJAhWLNmDfbt24eBAwdi+PDhOHv2bJ0yNWzYEL/99hsA4Pjx40hPT8fs2bOt9pzrioXtRDpFB2De2M4sbRLurDtX7pINz+CKPesAcYu3NG/eHCkpKVi/fj0OHTqEX375BZ06dUKTJk3w3nvvwc/PD7/++ivc3d0RGBgIAAgODkZYWBg0Gg3atm2L//znP4iPj0eTJk3wxhtvIDY2FkuWLKlTHo1Gg4CAisMCISEhCAsLg6+v+KWOWdhOJiE6AN8mJsCDpU0C7TNx4pksuPsDo/4AgpsKjSFJElQqFfbs2YOioiIEBgbCy8vL8nHmzBmcOnWq2p8vLi7G888/j5YtW8LPzw9eXl44duxYnfewHRUPNDmhLrGB+GZMAsbO24VSg0l0HFKgv/Mj8IDoEHRjbj7AyMVAmPjT8JKSkhATEwOz2Yzw8HBs2LDhuvv4+flV+/P//e9/sWrVKrz33nuIi4uDu7s7RowYgfLycst9VCoVJEmq9HMGg8FaT8EuWNhOqlvjQHwzphPGfrcLekPNT5kgsoaNOX6QfLyhKisUHYWqovUEHv4FiOggOgnWrVuHQ4cO4emnn0ZkZCQyMjLg4uKC6OjoGm9j06ZNSExMxF133QUAKCoqQkpKSqX7BAcHIz093fJ1cnIySkpKqt2mq2vFmg0mk+Ps9HBI3Il1jwvCN2MSoNPyn5nsyySpke8vfs+NquCiAx5aCDTqaveHLisrQ0ZGBi5cuIC9e/dixowZuOOOOzBs2DCMHj0a/fv3R7du3XDnnXdi1apVSElJwdatW/HKK69g9+7d1W43Li4Oixcvxv79+3HgwAE89NBD153b3a9fP3zyySfYu3cvdu/ejccffxxabfXnmkdFRUGlUuGvv/5CZmYmioqKrPY61BXfyZ1cj7ggfDW6E9y4WAjZ2Smu3OV4NK7A/T8CMbcIefiVK1ciPDwc0dHRGDRoENavX4+PPvoIf/75JzQaDVQqFZYvX45bbrkFY8eORdOmTfHAAw8gJSUFoaGh1W73ww8/hL+/P7p3747hw4dj4MCB6NCh8ujB+++/j4YNG+KWW27BQw89hOeee+6G53BHRERg2rRpePHFFxEaGorJkydb7XWoK5V07aA+OaWNJzLx6Pe7UW7k8DjZx3+jkjHp4hTRMegKtQtw73dAi2Gik1AdcbdLIXo3DcYXo7gsJ9nPX9kRoiPQFWoX4K4vWNYyx3dvBenbLARfjOwIVw3/2cn2koo8YPLi4jTCuXoBDy4E4keITkL1xHduhenbPISXMSW7yfRpJTqCsnmFAY8sB5oMEJ2ErICFrUA9mwRh0X+6IcTbTXQUcnJHNWIvyKFowc2B8WuA8Laik5CVsLAVqmUDHyye2B1xIV6io5AT21TcSHQEZYruBYxdJeTa4GQ7LGwFi/T3wG+Pd0dCtL/oKOSk/soKg6Ti24xdxd9bcQUzdz/RScjK+H+Swvl6aPHDuC4Y3Np2S+qRcmWWa1Hm30R0DOXo+Qxw91eAi6voJGQDLGyCTqvBnIc74PHejUVHISeU5smJZzan0gDDZgH9pwAqleg0ZCMsbAJQcWH8Fwc3x3v3tuVpX2RV+838Q9CmtJ4Vp211ekR0ErIxvjNTJSM6RuLH8V3g71H9NXaJamNNASc+2YxXKPDIMqDpbaKTkB3w0qRUpdTsYoydtwunMotFRyGZ06olnPB8FCpD9SsjUR0ENQNG/gr4cSa+UnAPm6oUFeiJ3yf1QP8W1V9wn6gmDGYVCv15HNuqWt4BjF/NslYYFjZVy0enxddjOmHK8JY8rk31csaNK3dZhYsOGPYhcN/3gM5XdBqyM74L00090iMGv03ojujA6peiI7qRXYZY0RHkL6gZ8Og6oNNY0UlIEBY21Uh8pC/+eqIXbm/LxRyo9pbn8vemXtqPBB7bAITy0IKScdIZ1dqiXWcxdclRlBpMoqOQjJwOeBLqkkzRMeTF1RsYPosrbREA7mFTHdyf0AhLJvdA01Beh5xqLtsvXnQEeQlvBzz+D8uaLFjYVCdNQr2xZHJPPNiZ59hSzRzjyl0113USMG41EMBj//QvFjbVmU6rwVt3t8HHD7bn+tp0U1tKo0RHcHzuAcCDi4BBM3g9cLoOj2GTVaRmF+OJBftw4Hy+6CjkoMJ15diKR6AC33KqFNUDuOdrwIcT9KhqLGyyGpNZwtwtZ/Dh6hMoLueENLreibBX4Zp3SnQMx+LiDvT+L9DjKUCtEZ2GHBgLm6wuLa8Ur/15BGuSLoqOQg5mY9xCRJ1fIjqG42gyEBjyDuAfLToJyQCPYZPVNfBzx9djOuHzkR0R5qMTHYccyCHEiY7gGHwigft/BB7+mWVNNcbCJpsZ1DoMa57tjcTu0VBziV4CsK5Q4WcVqF2A7v8HTN4JtBguOg3JDIfEyS4OnMvDy78fwpG0AtFRSCBPjRmHdeOgMpWJjmJ/jboBQz8AQluKTkIyxcImuzGZJXy7+Qw+XHMCJZyUplhHGr4Dz8z9omPYj0cgMOB1oN3DgIpDTVR3HBInu9GoVXj0llisfqY3bm0eIjoOCZKqayE6gp2ogA6jgcm7K64FzrKmemJhk91F+Lnjm8QEfDGqI+JCeHlTpdltVMDVu0JbA2NXAbd/DHgEiE5DToJD4iSUySzh930XMGvNCZzPLRUdh+ygh38+5pdOEB3DNjwCgV7PAp3/A2h49T+yLhY2OYRyoxkLdp7FJ+tPIrNQgROSFOa03ySo9bmiY1iPewDQ4wmg82OAq6foNOSkWNjkUErLTZi79Qy+2Hga+aUG0XHIRvbEfI7A9H9Ex6g/9wCg++SKPWo3Ht4h22Jhk0Mq0Bvw5cbT+HbLGc4od0ILm6xD13Nfi45Rd+7+QLfJQJf/AG7eotOQQrCwyaFlFZXhk3Un8dPOsyg3mkXHISt5stFpPH3pFdExas/dH+g2CejyOIua7I6FTbJwIa8Us9ecwOK9F2A081dW7mI99FhnHis6Rs3p/P7do9b5iE5DCsXCJlm5kFeKeVvOYOGucyjUG0XHoXpIDnkJ2oJU0TFuTOf37x41i5oEY2GTLBWVGbFo1znM3XKGp4PJ1ObGPyLywnLRMarmHQ50Gnt5j9pXdBoiACxskjmTWcKqIxn4ZvMZ7El1otOEFOCLuB0YeH626Bj/UqmBuP5Ax0Sg6SCuTU0Oh4VNTuNIWj5+3J6KP/encWa5DDwYnoa3cp8THaNib7r9qIrLiPopfDUxcmgsbHI6BXoDfttzHj9sT8XpzGLRcaga3i5GHHQdB5VZwPn23JsmGWJhk1PbejILC3edw9qkiyjmXrfDSYqYAffsw/Z7QO5Nk4yxsEkR9AYT1h27hKUH0rD++CXoDTyn2xGsavIHmp372bYPwr1pchK8Oj0pgk6rwZD4cAyJD0dxmRFrki5i6YF0/HMiE+Umlrco+0yN0cwmW1YBER2AZoOBNg9wb5qcAvewSdHySw34+0gG/jqYji0ns3hRFjvrF5iLb4snWWdjLu5AbO+Kkm46GPAOtc52iRwEC5vostzicqw4nIG/DqZh++lssLttT6WScNrncajKCuu2Ac8QoOltQLMhQGxfwNXDugGJHAgLm6gKWUVl2HIyC9tPZ2PrqWykZpeIjuS09kd/DL+MbTX/geAWFXvRzYYAkZ0Alcp24YgcCAubqAYu5JVi68ksbDuVjW2ns5GerxcdyWn81mQ1Op6bW/0d1C5Ao24VBd1sMBAQY79wRA6EhU1UB2eyirH1VBa2nsrG9lPZyC4uFx1Jtv4blYxJF6f8e4POF4hMABp2qfiI7AS4eooLSOQgWNhE9SRJEo5fLMS2U9nYeSYHxzIKkZpdzGPgNaBWAQMaAV+ELf23oENacJibqAosbCIbKC034cTFQhzPKMSxjEIcv1iAY+mFit4TV6uA2GAvxEf4onWEL+IjfNGqgQ883Xh2KVFNsLCJ7CizsOxyiRdUFHlGIZIvFTrNhVw0ahXCfXVoFOCBRgEeaHj5c6MAD8SFeLGcieqBhU0kmNks4VxuCdLy9EjPL0V6fsXnjHw90vL0uFigR25JucMMsXu7uaBRoEeVpRzh7w6tRi06IpFTYmETyYDJLCGnuBzZxWXILipHVlEZcorLkVtcjjKTGQajBKPZDIPJDINJgvHyZ4PJDKNZuny7GcarbtNpNfByc4G3ruKj4r+18HJzgZfOBd5Xvr78PR9dxe0ertxLJhKBhU1ERCQDHLsiIiKSARY2ERGRDLCwiYiIZICFTUREJAMsbCIiIhlgYRMREckAC5uIiEgGWNhEREQywMImIiKSARY2ERGRDLCwiYiIZICFTUREJAMsbCIiIhlgYRMREckAC5uIiEgGWNhEREQywMImIiKSARY2ERGRDLCwiYiIZICFTUREJAMsbCIiIhlgYRMREckAC5uIiEgGWNhEREQywMImIiKSARY2ERGRDLCwiYiIZICFTUREJAMsbCIiIhlgYRMREckAC5uIiEgGWNhEREQywMImIiKSARY2ERGRDLCwiYiIZICFTUREJAMsbCIiIhlgYRMREckAC5uIiEgGWNhEREQywMImIiKSARY2ERGRDLCwiYiIZICFTUREJAMsbCIiIhlgYRMREckAC5uIiEgGWNhEREQywMImIiKSARY2ERGRDLCwiYiIZICFTUREJAMsbCIiIhlgYRMREckAC5uIiEgG/h9sUas8cEBWcwAAAABJRU5ErkJggg=="
class="
"
>
</div>

</div>

</div>

</div>

</div>
<div class="jp-Cell jp-MarkdownCell jp-Notebook-cell">
<div class="jp-Cell-inputWrapper">
<div class="jp-Collapser jp-InputCollapser jp-Cell-inputCollapser">
</div>
<div class="jp-InputArea jp-Cell-inputArea"><div class="jp-InputPrompt jp-InputArea-prompt">
</div><div class="jp-RenderedHTMLCommon jp-RenderedMarkdown jp-MarkdownOutput " data-mime-type="text/markdown">
<h1 id="Setup-and-Running-Models">Setup and Running Models<a class="anchor-link" href="#Setup-and-Running-Models">&#182;</a></h1>
</div>
</div>
</div>
</div><div class="jp-Cell jp-CodeCell jp-Notebook-cell jp-mod-noOutputs  ">
<div class="jp-Cell-inputWrapper">
<div class="jp-Collapser jp-InputCollapser jp-Cell-inputCollapser">
</div>
<div class="jp-InputArea jp-Cell-inputArea">
<div class="jp-InputPrompt jp-InputArea-prompt">In&nbsp;[27]:</div>
<div class="jp-CodeMirrorEditor jp-Editor jp-InputArea-editor" data-type="inline">
     <div class="CodeMirror cm-s-jupyter">
<div class=" highlight hl-ipython3"><pre><span></span><span class="kn">from</span> <span class="nn">sklearn.model_selection</span> <span class="kn">import</span> <span class="n">cross_val_score</span><span class="p">,</span> <span class="n">KFold</span><span class="p">,</span> <span class="n">train_test_split</span>
<span class="kn">from</span> <span class="nn">sklearn.preprocessing</span> <span class="kn">import</span> <span class="n">StandardScaler</span><span class="p">,</span> <span class="n">OneHotEncoder</span>
<span class="kn">from</span> <span class="nn">sklearn.compose</span> <span class="kn">import</span> <span class="n">ColumnTransformer</span>
<span class="kn">from</span> <span class="nn">sklearn</span> <span class="kn">import</span> <span class="n">metrics</span>
<span class="kn">from</span> <span class="nn">sklearn.model_selection</span> <span class="kn">import</span> <span class="n">GridSearchCV</span>
</pre></div>

     </div>
</div>
</div>
</div>

</div><div class="jp-Cell jp-CodeCell jp-Notebook-cell jp-mod-noOutputs  ">
<div class="jp-Cell-inputWrapper">
<div class="jp-Collapser jp-InputCollapser jp-Cell-inputCollapser">
</div>
<div class="jp-InputArea jp-Cell-inputArea">
<div class="jp-InputPrompt jp-InputArea-prompt">In&nbsp;[28]:</div>
<div class="jp-CodeMirrorEditor jp-Editor jp-InputArea-editor" data-type="inline">
     <div class="CodeMirror cm-s-jupyter">
<div class=" highlight hl-ipython3"><pre><span></span><span class="n">X_pre</span> <span class="o">=</span> <span class="n">df</span><span class="o">.</span><span class="n">drop</span><span class="p">(</span><span class="s2">&quot;loan_status&quot;</span><span class="p">,</span> <span class="n">axis</span><span class="o">=</span><span class="mi">1</span><span class="p">)</span>
<span class="n">y</span> <span class="o">=</span> <span class="n">df</span><span class="p">[</span><span class="s2">&quot;loan_status&quot;</span><span class="p">]</span>
</pre></div>

     </div>
</div>
</div>
</div>

</div><div class="jp-Cell jp-CodeCell jp-Notebook-cell jp-mod-noOutputs  ">
<div class="jp-Cell-inputWrapper">
<div class="jp-Collapser jp-InputCollapser jp-Cell-inputCollapser">
</div>
<div class="jp-InputArea jp-Cell-inputArea">
<div class="jp-InputPrompt jp-InputArea-prompt">In&nbsp;[29]:</div>
<div class="jp-CodeMirrorEditor jp-Editor jp-InputArea-editor" data-type="inline">
     <div class="CodeMirror cm-s-jupyter">
<div class=" highlight hl-ipython3"><pre><span></span><span class="n">numeric_columns</span> <span class="o">=</span> <span class="n">X_pre</span><span class="o">.</span><span class="n">select_dtypes</span><span class="p">(</span><span class="n">exclude</span><span class="o">=</span><span class="p">[</span><span class="s1">&#39;object&#39;</span><span class="p">])</span><span class="o">.</span><span class="n">columns</span>
<span class="n">categorical_columns</span> <span class="o">=</span> <span class="n">X_pre</span><span class="o">.</span><span class="n">select_dtypes</span><span class="p">(</span><span class="n">include</span><span class="o">=</span><span class="p">[</span><span class="s1">&#39;object&#39;</span><span class="p">])</span><span class="o">.</span><span class="n">columns</span>
</pre></div>

     </div>
</div>
</div>
</div>

</div><div class="jp-Cell jp-CodeCell jp-Notebook-cell jp-mod-noOutputs  ">
<div class="jp-Cell-inputWrapper">
<div class="jp-Collapser jp-InputCollapser jp-Cell-inputCollapser">
</div>
<div class="jp-InputArea jp-Cell-inputArea">
<div class="jp-InputPrompt jp-InputArea-prompt">In&nbsp;[30]:</div>
<div class="jp-CodeMirrorEditor jp-Editor jp-InputArea-editor" data-type="inline">
     <div class="CodeMirror cm-s-jupyter">
<div class=" highlight hl-ipython3"><pre><span></span><span class="n">pipeline</span><span class="o">=</span><span class="n">ColumnTransformer</span><span class="p">([</span>
    <span class="p">(</span><span class="s1">&#39;num&#39;</span><span class="p">,</span> <span class="n">StandardScaler</span><span class="p">(),</span> <span class="n">numeric_columns</span><span class="p">),</span>
    <span class="p">(</span><span class="s1">&#39;cat&#39;</span><span class="p">,</span> <span class="n">OneHotEncoder</span><span class="p">(),</span> <span class="n">categorical_columns</span><span class="p">),</span>
<span class="p">])</span>
</pre></div>

     </div>
</div>
</div>
</div>

</div><div class="jp-Cell jp-CodeCell jp-Notebook-cell jp-mod-noOutputs  ">
<div class="jp-Cell-inputWrapper">
<div class="jp-Collapser jp-InputCollapser jp-Cell-inputCollapser">
</div>
<div class="jp-InputArea jp-Cell-inputArea">
<div class="jp-InputPrompt jp-InputArea-prompt">In&nbsp;[31]:</div>
<div class="jp-CodeMirrorEditor jp-Editor jp-InputArea-editor" data-type="inline">
     <div class="CodeMirror cm-s-jupyter">
<div class=" highlight hl-ipython3"><pre><span></span><span class="n">X</span> <span class="o">=</span> <span class="n">pd</span><span class="o">.</span><span class="n">DataFrame</span><span class="p">(</span>
    <span class="n">pipeline</span><span class="o">.</span><span class="n">fit_transform</span><span class="p">(</span><span class="n">X_pre</span><span class="p">),</span> 
    <span class="n">columns</span> <span class="o">=</span> <span class="n">pipeline</span><span class="o">.</span><span class="n">get_feature_names_out</span><span class="p">())</span>
</pre></div>

     </div>
</div>
</div>
</div>

</div><div class="jp-Cell jp-CodeCell jp-Notebook-cell jp-mod-noOutputs  ">
<div class="jp-Cell-inputWrapper">
<div class="jp-Collapser jp-InputCollapser jp-Cell-inputCollapser">
</div>
<div class="jp-InputArea jp-Cell-inputArea">
<div class="jp-InputPrompt jp-InputArea-prompt">In&nbsp;[32]:</div>
<div class="jp-CodeMirrorEditor jp-Editor jp-InputArea-editor" data-type="inline">
     <div class="CodeMirror cm-s-jupyter">
<div class=" highlight hl-ipython3"><pre><span></span><span class="n">X_train</span><span class="p">,</span> <span class="n">X_test</span><span class="p">,</span> <span class="n">y_train</span><span class="p">,</span> <span class="n">y_test</span> <span class="o">=</span> <span class="n">train_test_split</span><span class="p">(</span><span class="n">X</span><span class="p">,</span> <span class="n">y</span><span class="p">,</span> <span class="n">test_size</span><span class="o">=</span><span class="mf">0.2</span><span class="p">,</span> <span class="n">random_state</span><span class="o">=</span><span class="mi">7</span><span class="p">)</span>
</pre></div>

     </div>
</div>
</div>
</div>

</div>
<div class="jp-Cell jp-MarkdownCell jp-Notebook-cell">
<div class="jp-Cell-inputWrapper">
<div class="jp-Collapser jp-InputCollapser jp-Cell-inputCollapser">
</div>
<div class="jp-InputArea jp-Cell-inputArea"><div class="jp-InputPrompt jp-InputArea-prompt">
</div><div class="jp-RenderedHTMLCommon jp-RenderedMarkdown jp-MarkdownOutput " data-mime-type="text/markdown">
<h2 id="Logistic-Regression">Logistic Regression<a class="anchor-link" href="#Logistic-Regression">&#182;</a></h2>
</div>
</div>
</div>
</div><div class="jp-Cell jp-CodeCell jp-Notebook-cell jp-mod-noOutputs  ">
<div class="jp-Cell-inputWrapper">
<div class="jp-Collapser jp-InputCollapser jp-Cell-inputCollapser">
</div>
<div class="jp-InputArea jp-Cell-inputArea">
<div class="jp-InputPrompt jp-InputArea-prompt">In&nbsp;[34]:</div>
<div class="jp-CodeMirrorEditor jp-Editor jp-InputArea-editor" data-type="inline">
     <div class="CodeMirror cm-s-jupyter">
<div class=" highlight hl-ipython3"><pre><span></span><span class="kn">from</span> <span class="nn">sklearn.linear_model</span> <span class="kn">import</span> <span class="n">LogisticRegression</span>
</pre></div>

     </div>
</div>
</div>
</div>

</div><div class="jp-Cell jp-CodeCell jp-Notebook-cell jp-mod-noOutputs  ">
<div class="jp-Cell-inputWrapper">
<div class="jp-Collapser jp-InputCollapser jp-Cell-inputCollapser">
</div>
<div class="jp-InputArea jp-Cell-inputArea">
<div class="jp-InputPrompt jp-InputArea-prompt">In&nbsp;[35]:</div>
<div class="jp-CodeMirrorEditor jp-Editor jp-InputArea-editor" data-type="inline">
     <div class="CodeMirror cm-s-jupyter">
<div class=" highlight hl-ipython3"><pre><span></span><span class="n">logreg_pre</span> <span class="o">=</span> <span class="n">LogisticRegression</span><span class="p">(</span><span class="n">max_iter</span><span class="o">=</span><span class="mi">3000</span><span class="p">,</span> <span class="n">random_state</span><span class="o">=</span><span class="mi">7</span><span class="p">,</span> <span class="n">penalty</span> <span class="o">=</span> <span class="s1">&#39;l2&#39;</span><span class="p">)</span>
</pre></div>

     </div>
</div>
</div>
</div>

</div><div class="jp-Cell jp-CodeCell jp-Notebook-cell jp-mod-noOutputs  ">
<div class="jp-Cell-inputWrapper">
<div class="jp-Collapser jp-InputCollapser jp-Cell-inputCollapser">
</div>
<div class="jp-InputArea jp-Cell-inputArea">
<div class="jp-InputPrompt jp-InputArea-prompt">In&nbsp;[36]:</div>
<div class="jp-CodeMirrorEditor jp-Editor jp-InputArea-editor" data-type="inline">
     <div class="CodeMirror cm-s-jupyter">
<div class=" highlight hl-ipython3"><pre><span></span><span class="n">params_logreg</span> <span class="o">=</span> <span class="p">{</span>
    <span class="s1">&#39;C&#39;</span> <span class="p">:</span> <span class="p">[</span><span class="mf">0.1</span><span class="p">,</span> <span class="mi">1</span><span class="p">,</span> <span class="mi">10</span><span class="p">],</span>
    <span class="s1">&#39;solver&#39;</span> <span class="p">:</span> <span class="p">[</span><span class="s1">&#39;newton-cholesky&#39;</span><span class="p">,</span><span class="s1">&#39;saga&#39;</span><span class="p">]</span>
<span class="p">}</span>
</pre></div>

     </div>
</div>
</div>
</div>

</div><div class="jp-Cell jp-CodeCell jp-Notebook-cell   ">
<div class="jp-Cell-inputWrapper">
<div class="jp-Collapser jp-InputCollapser jp-Cell-inputCollapser">
</div>
<div class="jp-InputArea jp-Cell-inputArea">
<div class="jp-InputPrompt jp-InputArea-prompt">In&nbsp;[37]:</div>
<div class="jp-CodeMirrorEditor jp-Editor jp-InputArea-editor" data-type="inline">
     <div class="CodeMirror cm-s-jupyter">
<div class=" highlight hl-ipython3"><pre><span></span><span class="n">gridsearch_logreg</span> <span class="o">=</span> <span class="n">GridSearchCV</span><span class="p">(</span>
    <span class="n">estimator</span><span class="o">=</span><span class="n">logreg_pre</span><span class="p">,</span> <span class="n">param_grid</span><span class="o">=</span><span class="n">params_logreg</span><span class="p">,</span> <span class="n">scoring</span><span class="o">=</span><span class="s1">&#39;balanced_accuracy&#39;</span><span class="p">,</span> <span class="n">cv</span><span class="o">=</span><span class="mi">3</span><span class="p">)</span>
<span class="n">gridsearch_logreg</span><span class="o">.</span><span class="n">fit</span><span class="p">(</span><span class="n">X_train</span><span class="p">,</span> <span class="n">y_train</span><span class="p">)</span>
</pre></div>

     </div>
</div>
</div>
</div>

<div class="jp-Cell-outputWrapper">
<div class="jp-Collapser jp-OutputCollapser jp-Cell-outputCollapser">
</div>


<div class="jp-OutputArea jp-Cell-outputArea">
<div class="jp-OutputArea-child jp-OutputArea-executeResult">
    
    <div class="jp-OutputPrompt jp-OutputArea-prompt">Out[37]:</div>



<div class="jp-RenderedHTMLCommon jp-RenderedHTML jp-OutputArea-output jp-OutputArea-executeResult" data-mime-type="text/html">
<style>#sk-container-id-1 {color: black;background-color: white;}#sk-container-id-1 pre{padding: 0;}#sk-container-id-1 div.sk-toggleable {background-color: white;}#sk-container-id-1 label.sk-toggleable__label {cursor: pointer;display: block;width: 100%;margin-bottom: 0;padding: 0.3em;box-sizing: border-box;text-align: center;}#sk-container-id-1 label.sk-toggleable__label-arrow:before {content: "▸";float: left;margin-right: 0.25em;color: #696969;}#sk-container-id-1 label.sk-toggleable__label-arrow:hover:before {color: black;}#sk-container-id-1 div.sk-estimator:hover label.sk-toggleable__label-arrow:before {color: black;}#sk-container-id-1 div.sk-toggleable__content {max-height: 0;max-width: 0;overflow: hidden;text-align: left;background-color: #f0f8ff;}#sk-container-id-1 div.sk-toggleable__content pre {margin: 0.2em;color: black;border-radius: 0.25em;background-color: #f0f8ff;}#sk-container-id-1 input.sk-toggleable__control:checked~div.sk-toggleable__content {max-height: 200px;max-width: 100%;overflow: auto;}#sk-container-id-1 input.sk-toggleable__control:checked~label.sk-toggleable__label-arrow:before {content: "▾";}#sk-container-id-1 div.sk-estimator input.sk-toggleable__control:checked~label.sk-toggleable__label {background-color: #d4ebff;}#sk-container-id-1 div.sk-label input.sk-toggleable__control:checked~label.sk-toggleable__label {background-color: #d4ebff;}#sk-container-id-1 input.sk-hidden--visually {border: 0;clip: rect(1px 1px 1px 1px);clip: rect(1px, 1px, 1px, 1px);height: 1px;margin: -1px;overflow: hidden;padding: 0;position: absolute;width: 1px;}#sk-container-id-1 div.sk-estimator {font-family: monospace;background-color: #f0f8ff;border: 1px dotted black;border-radius: 0.25em;box-sizing: border-box;margin-bottom: 0.5em;}#sk-container-id-1 div.sk-estimator:hover {background-color: #d4ebff;}#sk-container-id-1 div.sk-parallel-item::after {content: "";width: 100%;border-bottom: 1px solid gray;flex-grow: 1;}#sk-container-id-1 div.sk-label:hover label.sk-toggleable__label {background-color: #d4ebff;}#sk-container-id-1 div.sk-serial::before {content: "";position: absolute;border-left: 1px solid gray;box-sizing: border-box;top: 0;bottom: 0;left: 50%;z-index: 0;}#sk-container-id-1 div.sk-serial {display: flex;flex-direction: column;align-items: center;background-color: white;padding-right: 0.2em;padding-left: 0.2em;position: relative;}#sk-container-id-1 div.sk-item {position: relative;z-index: 1;}#sk-container-id-1 div.sk-parallel {display: flex;align-items: stretch;justify-content: center;background-color: white;position: relative;}#sk-container-id-1 div.sk-item::before, #sk-container-id-1 div.sk-parallel-item::before {content: "";position: absolute;border-left: 1px solid gray;box-sizing: border-box;top: 0;bottom: 0;left: 50%;z-index: -1;}#sk-container-id-1 div.sk-parallel-item {display: flex;flex-direction: column;z-index: 1;position: relative;background-color: white;}#sk-container-id-1 div.sk-parallel-item:first-child::after {align-self: flex-end;width: 50%;}#sk-container-id-1 div.sk-parallel-item:last-child::after {align-self: flex-start;width: 50%;}#sk-container-id-1 div.sk-parallel-item:only-child::after {width: 0;}#sk-container-id-1 div.sk-dashed-wrapped {border: 1px dashed gray;margin: 0 0.4em 0.5em 0.4em;box-sizing: border-box;padding-bottom: 0.4em;background-color: white;}#sk-container-id-1 div.sk-label label {font-family: monospace;font-weight: bold;display: inline-block;line-height: 1.2em;}#sk-container-id-1 div.sk-label-container {text-align: center;}#sk-container-id-1 div.sk-container {/* jupyter's `normalize.less` sets `[hidden] { display: none; }` but bootstrap.min.css set `[hidden] { display: none !important; }` so we also need the `!important` here to be able to override the default hidden behavior on the sphinx rendered scikit-learn.org. See: https://github.com/scikit-learn/scikit-learn/issues/21755 */display: inline-block !important;position: relative;}#sk-container-id-1 div.sk-text-repr-fallback {display: none;}</style><div id="sk-container-id-1" class="sk-top-container"><div class="sk-text-repr-fallback"><pre>GridSearchCV(cv=3, estimator=LogisticRegression(max_iter=3000, random_state=7),
             param_grid={&#x27;C&#x27;: [0.1, 1, 10],
                         &#x27;solver&#x27;: [&#x27;newton-cholesky&#x27;, &#x27;saga&#x27;]},
             scoring=&#x27;balanced_accuracy&#x27;)</pre><b>In a Jupyter environment, please rerun this cell to show the HTML representation or trust the notebook. <br />On GitHub, the HTML representation is unable to render, please try loading this page with nbviewer.org.</b></div><div class="sk-container" hidden><div class="sk-item sk-dashed-wrapped"><div class="sk-label-container"><div class="sk-label sk-toggleable"><input class="sk-toggleable__control sk-hidden--visually" id="sk-estimator-id-1" type="checkbox" ><label for="sk-estimator-id-1" class="sk-toggleable__label sk-toggleable__label-arrow">GridSearchCV</label><div class="sk-toggleable__content"><pre>GridSearchCV(cv=3, estimator=LogisticRegression(max_iter=3000, random_state=7),
             param_grid={&#x27;C&#x27;: [0.1, 1, 10],
                         &#x27;solver&#x27;: [&#x27;newton-cholesky&#x27;, &#x27;saga&#x27;]},
             scoring=&#x27;balanced_accuracy&#x27;)</pre></div></div></div><div class="sk-parallel"><div class="sk-parallel-item"><div class="sk-item"><div class="sk-label-container"><div class="sk-label sk-toggleable"><input class="sk-toggleable__control sk-hidden--visually" id="sk-estimator-id-2" type="checkbox" ><label for="sk-estimator-id-2" class="sk-toggleable__label sk-toggleable__label-arrow">estimator: LogisticRegression</label><div class="sk-toggleable__content"><pre>LogisticRegression(max_iter=3000, random_state=7)</pre></div></div></div><div class="sk-serial"><div class="sk-item"><div class="sk-estimator sk-toggleable"><input class="sk-toggleable__control sk-hidden--visually" id="sk-estimator-id-3" type="checkbox" ><label for="sk-estimator-id-3" class="sk-toggleable__label sk-toggleable__label-arrow">LogisticRegression</label><div class="sk-toggleable__content"><pre>LogisticRegression(max_iter=3000, random_state=7)</pre></div></div></div></div></div></div></div></div></div></div>
</div>

</div>

</div>

</div>

</div><div class="jp-Cell jp-CodeCell jp-Notebook-cell   ">
<div class="jp-Cell-inputWrapper">
<div class="jp-Collapser jp-InputCollapser jp-Cell-inputCollapser">
</div>
<div class="jp-InputArea jp-Cell-inputArea">
<div class="jp-InputPrompt jp-InputArea-prompt">In&nbsp;[38]:</div>
<div class="jp-CodeMirrorEditor jp-Editor jp-InputArea-editor" data-type="inline">
     <div class="CodeMirror cm-s-jupyter">
<div class=" highlight hl-ipython3"><pre><span></span><span class="n">gridsearch_logreg</span><span class="o">.</span><span class="n">best_params_</span>
</pre></div>

     </div>
</div>
</div>
</div>

<div class="jp-Cell-outputWrapper">
<div class="jp-Collapser jp-OutputCollapser jp-Cell-outputCollapser">
</div>


<div class="jp-OutputArea jp-Cell-outputArea">
<div class="jp-OutputArea-child jp-OutputArea-executeResult">
    
    <div class="jp-OutputPrompt jp-OutputArea-prompt">Out[38]:</div>




<div class="jp-RenderedText jp-OutputArea-output jp-OutputArea-executeResult" data-mime-type="text/plain">
<pre>{&#39;C&#39;: 10, &#39;solver&#39;: &#39;newton-cholesky&#39;}</pre>
</div>

</div>

</div>

</div>

</div><div class="jp-Cell jp-CodeCell jp-Notebook-cell jp-mod-noOutputs  ">
<div class="jp-Cell-inputWrapper">
<div class="jp-Collapser jp-InputCollapser jp-Cell-inputCollapser">
</div>
<div class="jp-InputArea jp-Cell-inputArea">
<div class="jp-InputPrompt jp-InputArea-prompt">In&nbsp;[39]:</div>
<div class="jp-CodeMirrorEditor jp-Editor jp-InputArea-editor" data-type="inline">
     <div class="CodeMirror cm-s-jupyter">
<div class=" highlight hl-ipython3"><pre><span></span><span class="n">logreg</span> <span class="o">=</span> <span class="n">gridsearch_logreg</span><span class="o">.</span><span class="n">best_estimator_</span>
</pre></div>

     </div>
</div>
</div>
</div>

</div><div class="jp-Cell jp-CodeCell jp-Notebook-cell jp-mod-noOutputs  ">
<div class="jp-Cell-inputWrapper">
<div class="jp-Collapser jp-InputCollapser jp-Cell-inputCollapser">
</div>
<div class="jp-InputArea jp-Cell-inputArea">
<div class="jp-InputPrompt jp-InputArea-prompt">In&nbsp;[40]:</div>
<div class="jp-CodeMirrorEditor jp-Editor jp-InputArea-editor" data-type="inline">
     <div class="CodeMirror cm-s-jupyter">
<div class=" highlight hl-ipython3"><pre><span></span><span class="n">y_pred_log</span> <span class="o">=</span> <span class="n">logreg</span><span class="o">.</span><span class="n">predict</span><span class="p">(</span><span class="n">X_test</span><span class="p">)</span>
</pre></div>

     </div>
</div>
</div>
</div>

</div><div class="jp-Cell jp-CodeCell jp-Notebook-cell jp-mod-noOutputs  ">
<div class="jp-Cell-inputWrapper">
<div class="jp-Collapser jp-InputCollapser jp-Cell-inputCollapser">
</div>
<div class="jp-InputArea jp-Cell-inputArea">
<div class="jp-InputPrompt jp-InputArea-prompt">In&nbsp;[41]:</div>
<div class="jp-CodeMirrorEditor jp-Editor jp-InputArea-editor" data-type="inline">
     <div class="CodeMirror cm-s-jupyter">
<div class=" highlight hl-ipython3"><pre><span></span><span class="n">cnf_matrix_log</span> <span class="o">=</span> <span class="n">metrics</span><span class="o">.</span><span class="n">confusion_matrix</span><span class="p">(</span><span class="n">y_test</span><span class="p">,</span> <span class="n">y_pred_log</span><span class="p">)</span>
</pre></div>

     </div>
</div>
</div>
</div>

</div><div class="jp-Cell jp-CodeCell jp-Notebook-cell   ">
<div class="jp-Cell-inputWrapper">
<div class="jp-Collapser jp-InputCollapser jp-Cell-inputCollapser">
</div>
<div class="jp-InputArea jp-Cell-inputArea">
<div class="jp-InputPrompt jp-InputArea-prompt">In&nbsp;[42]:</div>
<div class="jp-CodeMirrorEditor jp-Editor jp-InputArea-editor" data-type="inline">
     <div class="CodeMirror cm-s-jupyter">
<div class=" highlight hl-ipython3"><pre><span></span><span class="n">sns</span><span class="o">.</span><span class="n">heatmap</span><span class="p">(</span><span class="n">cnf_matrix_log</span><span class="p">,</span> <span class="n">cmap</span> <span class="o">=</span> <span class="s1">&#39;YlGnBu&#39;</span><span class="p">,</span> <span class="n">annot</span><span class="o">=</span><span class="kc">True</span><span class="p">,</span> <span class="n">fmt</span><span class="o">=</span><span class="s1">&#39;g&#39;</span><span class="p">)</span>
<span class="n">plt</span><span class="o">.</span><span class="n">tight_layout</span><span class="p">()</span>
<span class="n">plt</span><span class="o">.</span><span class="n">title</span><span class="p">(</span><span class="s1">&#39;Confusion matrix&#39;</span><span class="p">,</span> <span class="n">y</span><span class="o">=</span><span class="mf">1.1</span><span class="p">)</span>
<span class="n">plt</span><span class="o">.</span><span class="n">ylabel</span><span class="p">(</span><span class="s1">&#39;Actual label&#39;</span><span class="p">)</span>
<span class="n">plt</span><span class="o">.</span><span class="n">xlabel</span><span class="p">(</span><span class="s1">&#39;Predicted label&#39;</span><span class="p">)</span>
<span class="n">plt</span><span class="o">.</span><span class="n">show</span><span class="p">()</span>
</pre></div>

     </div>
</div>
</div>
</div>

<div class="jp-Cell-outputWrapper">
<div class="jp-Collapser jp-OutputCollapser jp-Cell-outputCollapser">
</div>


<div class="jp-OutputArea jp-Cell-outputArea">
<div class="jp-OutputArea-child">
    
    <div class="jp-OutputPrompt jp-OutputArea-prompt"></div>




<div class="jp-RenderedImage jp-OutputArea-output ">
<img src="data:image/png;base64,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"
class="
"
>
</div>

</div>

</div>

</div>

</div><div class="jp-Cell jp-CodeCell jp-Notebook-cell   ">
<div class="jp-Cell-inputWrapper">
<div class="jp-Collapser jp-InputCollapser jp-Cell-inputCollapser">
</div>
<div class="jp-InputArea jp-Cell-inputArea">
<div class="jp-InputPrompt jp-InputArea-prompt">In&nbsp;[43]:</div>
<div class="jp-CodeMirrorEditor jp-Editor jp-InputArea-editor" data-type="inline">
     <div class="CodeMirror cm-s-jupyter">
<div class=" highlight hl-ipython3"><pre><span></span><span class="nb">print</span><span class="p">(</span><span class="s1">&#39;Logistic Regression Scoring&#39;</span><span class="p">)</span>
<span class="nb">print</span><span class="p">(</span><span class="s1">&#39;F1 Score: &#39;</span><span class="p">,</span> <span class="nb">round</span><span class="p">(</span><span class="n">metrics</span><span class="o">.</span><span class="n">f1_score</span><span class="p">(</span><span class="n">y_test</span><span class="p">,</span> <span class="n">y_pred_log</span><span class="p">),</span> <span class="mi">2</span><span class="p">))</span>
<span class="nb">print</span><span class="p">(</span><span class="s1">&#39;Accuracy: &#39;</span><span class="p">,</span> <span class="nb">round</span><span class="p">(</span><span class="n">metrics</span><span class="o">.</span><span class="n">accuracy_score</span><span class="p">(</span><span class="n">y_test</span><span class="p">,</span> <span class="n">y_pred_log</span><span class="p">),</span> <span class="mi">2</span><span class="p">))</span>
<span class="nb">print</span><span class="p">(</span><span class="s1">&#39;Precision: &#39;</span><span class="p">,</span> <span class="nb">round</span><span class="p">(</span><span class="n">metrics</span><span class="o">.</span><span class="n">precision_score</span><span class="p">(</span><span class="n">y_test</span><span class="p">,</span> <span class="n">y_pred_log</span><span class="p">),</span> <span class="mi">2</span><span class="p">))</span>
<span class="nb">print</span><span class="p">(</span><span class="s1">&#39;Recall: &#39;</span><span class="p">,</span> <span class="nb">round</span><span class="p">(</span><span class="n">metrics</span><span class="o">.</span><span class="n">recall_score</span><span class="p">(</span><span class="n">y_test</span><span class="p">,</span> <span class="n">y_pred_log</span><span class="p">),</span> <span class="mi">2</span><span class="p">))</span>
<span class="nb">print</span><span class="p">(</span><span class="s1">&#39;Balanced Accuracy :&#39;</span><span class="p">,</span> <span class="nb">round</span><span class="p">(</span><span class="n">metrics</span><span class="o">.</span><span class="n">balanced_accuracy_score</span><span class="p">(</span><span class="n">y_test</span><span class="p">,</span> <span class="n">y_pred_log</span><span class="p">),</span> <span class="mi">2</span><span class="p">))</span>
</pre></div>

     </div>
</div>
</div>
</div>

<div class="jp-Cell-outputWrapper">
<div class="jp-Collapser jp-OutputCollapser jp-Cell-outputCollapser">
</div>


<div class="jp-OutputArea jp-Cell-outputArea">
<div class="jp-OutputArea-child">
    
    <div class="jp-OutputPrompt jp-OutputArea-prompt"></div>


<div class="jp-RenderedText jp-OutputArea-output" data-mime-type="text/plain">
<pre>Logistic Regression Scoring
F1 Score:  0.64
Accuracy:  0.87
Precision:  0.77
Recall:  0.55
Balanced Accuracy : 0.75
</pre>
</div>
</div>

</div>

</div>

</div>
<div class="jp-Cell jp-MarkdownCell jp-Notebook-cell">
<div class="jp-Cell-inputWrapper">
<div class="jp-Collapser jp-InputCollapser jp-Cell-inputCollapser">
</div>
<div class="jp-InputArea jp-Cell-inputArea"><div class="jp-InputPrompt jp-InputArea-prompt">
</div><div class="jp-RenderedHTMLCommon jp-RenderedMarkdown jp-MarkdownOutput " data-mime-type="text/markdown">
<h2 id="Support-Vector-Machine">Support Vector Machine<a class="anchor-link" href="#Support-Vector-Machine">&#182;</a></h2>
</div>
</div>
</div>
</div><div class="jp-Cell jp-CodeCell jp-Notebook-cell jp-mod-noOutputs  ">
<div class="jp-Cell-inputWrapper">
<div class="jp-Collapser jp-InputCollapser jp-Cell-inputCollapser">
</div>
<div class="jp-InputArea jp-Cell-inputArea">
<div class="jp-InputPrompt jp-InputArea-prompt">In&nbsp;[45]:</div>
<div class="jp-CodeMirrorEditor jp-Editor jp-InputArea-editor" data-type="inline">
     <div class="CodeMirror cm-s-jupyter">
<div class=" highlight hl-ipython3"><pre><span></span><span class="kn">from</span> <span class="nn">sklearn</span> <span class="kn">import</span> <span class="n">svm</span>
</pre></div>

     </div>
</div>
</div>
</div>

</div><div class="jp-Cell jp-CodeCell jp-Notebook-cell jp-mod-noOutputs  ">
<div class="jp-Cell-inputWrapper">
<div class="jp-Collapser jp-InputCollapser jp-Cell-inputCollapser">
</div>
<div class="jp-InputArea jp-Cell-inputArea">
<div class="jp-InputPrompt jp-InputArea-prompt">In&nbsp;[46]:</div>
<div class="jp-CodeMirrorEditor jp-Editor jp-InputArea-editor" data-type="inline">
     <div class="CodeMirror cm-s-jupyter">
<div class=" highlight hl-ipython3"><pre><span></span><span class="n">svc_classifier_pre</span> <span class="o">=</span> <span class="n">svm</span><span class="o">.</span><span class="n">SVC</span><span class="p">(</span><span class="n">probability</span><span class="o">=</span><span class="kc">True</span><span class="p">,</span> <span class="n">random_state</span><span class="o">=</span><span class="mi">7</span><span class="p">)</span>
</pre></div>

     </div>
</div>
</div>
</div>

</div><div class="jp-Cell jp-CodeCell jp-Notebook-cell jp-mod-noOutputs  ">
<div class="jp-Cell-inputWrapper">
<div class="jp-Collapser jp-InputCollapser jp-Cell-inputCollapser">
</div>
<div class="jp-InputArea jp-Cell-inputArea">
<div class="jp-InputPrompt jp-InputArea-prompt">In&nbsp;[47]:</div>
<div class="jp-CodeMirrorEditor jp-Editor jp-InputArea-editor" data-type="inline">
     <div class="CodeMirror cm-s-jupyter">
<div class=" highlight hl-ipython3"><pre><span></span><span class="n">params_svc</span> <span class="o">=</span> <span class="p">{</span>
    <span class="s1">&#39;C&#39;</span> <span class="p">:</span> <span class="p">[</span><span class="mi">1</span><span class="p">,</span> <span class="mi">10</span><span class="p">],</span>
    <span class="s1">&#39;kernel&#39;</span> <span class="p">:</span> <span class="p">[</span><span class="s1">&#39;linear&#39;</span><span class="p">,</span> <span class="s1">&#39;rbf&#39;</span><span class="p">]</span>
<span class="p">}</span>
</pre></div>

     </div>
</div>
</div>
</div>

</div><div class="jp-Cell jp-CodeCell jp-Notebook-cell   ">
<div class="jp-Cell-inputWrapper">
<div class="jp-Collapser jp-InputCollapser jp-Cell-inputCollapser">
</div>
<div class="jp-InputArea jp-Cell-inputArea">
<div class="jp-InputPrompt jp-InputArea-prompt">In&nbsp;[48]:</div>
<div class="jp-CodeMirrorEditor jp-Editor jp-InputArea-editor" data-type="inline">
     <div class="CodeMirror cm-s-jupyter">
<div class=" highlight hl-ipython3"><pre><span></span><span class="n">gridsearch_svc</span> <span class="o">=</span> <span class="n">GridSearchCV</span><span class="p">(</span>
    <span class="n">estimator</span><span class="o">=</span><span class="n">svc_classifier_pre</span><span class="p">,</span> <span class="n">param_grid</span><span class="o">=</span><span class="n">params_svc</span><span class="p">,</span> <span class="n">scoring</span><span class="o">=</span><span class="s1">&#39;balanced_accuracy&#39;</span><span class="p">,</span> <span class="n">cv</span><span class="o">=</span><span class="mi">3</span><span class="p">)</span>
<span class="n">gridsearch_svc</span><span class="o">.</span><span class="n">fit</span><span class="p">(</span><span class="n">X_train</span><span class="p">,</span> <span class="n">y_train</span><span class="p">)</span>
</pre></div>

     </div>
</div>
</div>
</div>

<div class="jp-Cell-outputWrapper">
<div class="jp-Collapser jp-OutputCollapser jp-Cell-outputCollapser">
</div>


<div class="jp-OutputArea jp-Cell-outputArea">
<div class="jp-OutputArea-child jp-OutputArea-executeResult">
    
    <div class="jp-OutputPrompt jp-OutputArea-prompt">Out[48]:</div>



<div class="jp-RenderedHTMLCommon jp-RenderedHTML jp-OutputArea-output jp-OutputArea-executeResult" data-mime-type="text/html">
<style>#sk-container-id-2 {color: black;background-color: white;}#sk-container-id-2 pre{padding: 0;}#sk-container-id-2 div.sk-toggleable {background-color: white;}#sk-container-id-2 label.sk-toggleable__label {cursor: pointer;display: block;width: 100%;margin-bottom: 0;padding: 0.3em;box-sizing: border-box;text-align: center;}#sk-container-id-2 label.sk-toggleable__label-arrow:before {content: "▸";float: left;margin-right: 0.25em;color: #696969;}#sk-container-id-2 label.sk-toggleable__label-arrow:hover:before {color: black;}#sk-container-id-2 div.sk-estimator:hover label.sk-toggleable__label-arrow:before {color: black;}#sk-container-id-2 div.sk-toggleable__content {max-height: 0;max-width: 0;overflow: hidden;text-align: left;background-color: #f0f8ff;}#sk-container-id-2 div.sk-toggleable__content pre {margin: 0.2em;color: black;border-radius: 0.25em;background-color: #f0f8ff;}#sk-container-id-2 input.sk-toggleable__control:checked~div.sk-toggleable__content {max-height: 200px;max-width: 100%;overflow: auto;}#sk-container-id-2 input.sk-toggleable__control:checked~label.sk-toggleable__label-arrow:before {content: "▾";}#sk-container-id-2 div.sk-estimator input.sk-toggleable__control:checked~label.sk-toggleable__label {background-color: #d4ebff;}#sk-container-id-2 div.sk-label input.sk-toggleable__control:checked~label.sk-toggleable__label {background-color: #d4ebff;}#sk-container-id-2 input.sk-hidden--visually {border: 0;clip: rect(1px 1px 1px 1px);clip: rect(1px, 1px, 1px, 1px);height: 1px;margin: -1px;overflow: hidden;padding: 0;position: absolute;width: 1px;}#sk-container-id-2 div.sk-estimator {font-family: monospace;background-color: #f0f8ff;border: 1px dotted black;border-radius: 0.25em;box-sizing: border-box;margin-bottom: 0.5em;}#sk-container-id-2 div.sk-estimator:hover {background-color: #d4ebff;}#sk-container-id-2 div.sk-parallel-item::after {content: "";width: 100%;border-bottom: 1px solid gray;flex-grow: 1;}#sk-container-id-2 div.sk-label:hover label.sk-toggleable__label {background-color: #d4ebff;}#sk-container-id-2 div.sk-serial::before {content: "";position: absolute;border-left: 1px solid gray;box-sizing: border-box;top: 0;bottom: 0;left: 50%;z-index: 0;}#sk-container-id-2 div.sk-serial {display: flex;flex-direction: column;align-items: center;background-color: white;padding-right: 0.2em;padding-left: 0.2em;position: relative;}#sk-container-id-2 div.sk-item {position: relative;z-index: 1;}#sk-container-id-2 div.sk-parallel {display: flex;align-items: stretch;justify-content: center;background-color: white;position: relative;}#sk-container-id-2 div.sk-item::before, #sk-container-id-2 div.sk-parallel-item::before {content: "";position: absolute;border-left: 1px solid gray;box-sizing: border-box;top: 0;bottom: 0;left: 50%;z-index: -1;}#sk-container-id-2 div.sk-parallel-item {display: flex;flex-direction: column;z-index: 1;position: relative;background-color: white;}#sk-container-id-2 div.sk-parallel-item:first-child::after {align-self: flex-end;width: 50%;}#sk-container-id-2 div.sk-parallel-item:last-child::after {align-self: flex-start;width: 50%;}#sk-container-id-2 div.sk-parallel-item:only-child::after {width: 0;}#sk-container-id-2 div.sk-dashed-wrapped {border: 1px dashed gray;margin: 0 0.4em 0.5em 0.4em;box-sizing: border-box;padding-bottom: 0.4em;background-color: white;}#sk-container-id-2 div.sk-label label {font-family: monospace;font-weight: bold;display: inline-block;line-height: 1.2em;}#sk-container-id-2 div.sk-label-container {text-align: center;}#sk-container-id-2 div.sk-container {/* jupyter's `normalize.less` sets `[hidden] { display: none; }` but bootstrap.min.css set `[hidden] { display: none !important; }` so we also need the `!important` here to be able to override the default hidden behavior on the sphinx rendered scikit-learn.org. See: https://github.com/scikit-learn/scikit-learn/issues/21755 */display: inline-block !important;position: relative;}#sk-container-id-2 div.sk-text-repr-fallback {display: none;}</style><div id="sk-container-id-2" class="sk-top-container"><div class="sk-text-repr-fallback"><pre>GridSearchCV(cv=3, estimator=SVC(probability=True, random_state=7),
             param_grid={&#x27;C&#x27;: [1, 10], &#x27;kernel&#x27;: [&#x27;linear&#x27;, &#x27;rbf&#x27;]},
             scoring=&#x27;balanced_accuracy&#x27;)</pre><b>In a Jupyter environment, please rerun this cell to show the HTML representation or trust the notebook. <br />On GitHub, the HTML representation is unable to render, please try loading this page with nbviewer.org.</b></div><div class="sk-container" hidden><div class="sk-item sk-dashed-wrapped"><div class="sk-label-container"><div class="sk-label sk-toggleable"><input class="sk-toggleable__control sk-hidden--visually" id="sk-estimator-id-4" type="checkbox" ><label for="sk-estimator-id-4" class="sk-toggleable__label sk-toggleable__label-arrow">GridSearchCV</label><div class="sk-toggleable__content"><pre>GridSearchCV(cv=3, estimator=SVC(probability=True, random_state=7),
             param_grid={&#x27;C&#x27;: [1, 10], &#x27;kernel&#x27;: [&#x27;linear&#x27;, &#x27;rbf&#x27;]},
             scoring=&#x27;balanced_accuracy&#x27;)</pre></div></div></div><div class="sk-parallel"><div class="sk-parallel-item"><div class="sk-item"><div class="sk-label-container"><div class="sk-label sk-toggleable"><input class="sk-toggleable__control sk-hidden--visually" id="sk-estimator-id-5" type="checkbox" ><label for="sk-estimator-id-5" class="sk-toggleable__label sk-toggleable__label-arrow">estimator: SVC</label><div class="sk-toggleable__content"><pre>SVC(probability=True, random_state=7)</pre></div></div></div><div class="sk-serial"><div class="sk-item"><div class="sk-estimator sk-toggleable"><input class="sk-toggleable__control sk-hidden--visually" id="sk-estimator-id-6" type="checkbox" ><label for="sk-estimator-id-6" class="sk-toggleable__label sk-toggleable__label-arrow">SVC</label><div class="sk-toggleable__content"><pre>SVC(probability=True, random_state=7)</pre></div></div></div></div></div></div></div></div></div></div>
</div>

</div>

</div>

</div>

</div><div class="jp-Cell jp-CodeCell jp-Notebook-cell   ">
<div class="jp-Cell-inputWrapper">
<div class="jp-Collapser jp-InputCollapser jp-Cell-inputCollapser">
</div>
<div class="jp-InputArea jp-Cell-inputArea">
<div class="jp-InputPrompt jp-InputArea-prompt">In&nbsp;[49]:</div>
<div class="jp-CodeMirrorEditor jp-Editor jp-InputArea-editor" data-type="inline">
     <div class="CodeMirror cm-s-jupyter">
<div class=" highlight hl-ipython3"><pre><span></span><span class="n">gridsearch_svc</span><span class="o">.</span><span class="n">best_params_</span>
</pre></div>

     </div>
</div>
</div>
</div>

<div class="jp-Cell-outputWrapper">
<div class="jp-Collapser jp-OutputCollapser jp-Cell-outputCollapser">
</div>


<div class="jp-OutputArea jp-Cell-outputArea">
<div class="jp-OutputArea-child jp-OutputArea-executeResult">
    
    <div class="jp-OutputPrompt jp-OutputArea-prompt">Out[49]:</div>




<div class="jp-RenderedText jp-OutputArea-output jp-OutputArea-executeResult" data-mime-type="text/plain">
<pre>{&#39;C&#39;: 10, &#39;kernel&#39;: &#39;rbf&#39;}</pre>
</div>

</div>

</div>

</div>

</div><div class="jp-Cell jp-CodeCell jp-Notebook-cell jp-mod-noOutputs  ">
<div class="jp-Cell-inputWrapper">
<div class="jp-Collapser jp-InputCollapser jp-Cell-inputCollapser">
</div>
<div class="jp-InputArea jp-Cell-inputArea">
<div class="jp-InputPrompt jp-InputArea-prompt">In&nbsp;[50]:</div>
<div class="jp-CodeMirrorEditor jp-Editor jp-InputArea-editor" data-type="inline">
     <div class="CodeMirror cm-s-jupyter">
<div class=" highlight hl-ipython3"><pre><span></span><span class="n">svc_classifier</span> <span class="o">=</span> <span class="n">gridsearch_svc</span><span class="o">.</span><span class="n">best_estimator_</span>
</pre></div>

     </div>
</div>
</div>
</div>

</div><div class="jp-Cell jp-CodeCell jp-Notebook-cell jp-mod-noOutputs  ">
<div class="jp-Cell-inputWrapper">
<div class="jp-Collapser jp-InputCollapser jp-Cell-inputCollapser">
</div>
<div class="jp-InputArea jp-Cell-inputArea">
<div class="jp-InputPrompt jp-InputArea-prompt">In&nbsp;[51]:</div>
<div class="jp-CodeMirrorEditor jp-Editor jp-InputArea-editor" data-type="inline">
     <div class="CodeMirror cm-s-jupyter">
<div class=" highlight hl-ipython3"><pre><span></span><span class="n">y_pred_svc</span> <span class="o">=</span> <span class="n">svc_classifier</span><span class="o">.</span><span class="n">predict</span><span class="p">(</span><span class="n">X_test</span><span class="p">)</span>
</pre></div>

     </div>
</div>
</div>
</div>

</div><div class="jp-Cell jp-CodeCell jp-Notebook-cell jp-mod-noOutputs  ">
<div class="jp-Cell-inputWrapper">
<div class="jp-Collapser jp-InputCollapser jp-Cell-inputCollapser">
</div>
<div class="jp-InputArea jp-Cell-inputArea">
<div class="jp-InputPrompt jp-InputArea-prompt">In&nbsp;[52]:</div>
<div class="jp-CodeMirrorEditor jp-Editor jp-InputArea-editor" data-type="inline">
     <div class="CodeMirror cm-s-jupyter">
<div class=" highlight hl-ipython3"><pre><span></span><span class="n">cnf_matrix_svc</span> <span class="o">=</span> <span class="n">metrics</span><span class="o">.</span><span class="n">confusion_matrix</span><span class="p">(</span><span class="n">y_test</span><span class="p">,</span> <span class="n">y_pred_svc</span><span class="p">)</span>
</pre></div>

     </div>
</div>
</div>
</div>

</div><div class="jp-Cell jp-CodeCell jp-Notebook-cell   ">
<div class="jp-Cell-inputWrapper">
<div class="jp-Collapser jp-InputCollapser jp-Cell-inputCollapser">
</div>
<div class="jp-InputArea jp-Cell-inputArea">
<div class="jp-InputPrompt jp-InputArea-prompt">In&nbsp;[53]:</div>
<div class="jp-CodeMirrorEditor jp-Editor jp-InputArea-editor" data-type="inline">
     <div class="CodeMirror cm-s-jupyter">
<div class=" highlight hl-ipython3"><pre><span></span><span class="n">sns</span><span class="o">.</span><span class="n">heatmap</span><span class="p">(</span><span class="n">cnf_matrix_svc</span><span class="p">,</span> <span class="n">cmap</span> <span class="o">=</span> <span class="s1">&#39;YlGnBu&#39;</span><span class="p">,</span> <span class="n">annot</span><span class="o">=</span><span class="kc">True</span><span class="p">,</span> <span class="n">fmt</span><span class="o">=</span><span class="s1">&#39;g&#39;</span><span class="p">)</span>
<span class="n">plt</span><span class="o">.</span><span class="n">tight_layout</span><span class="p">()</span>
<span class="n">plt</span><span class="o">.</span><span class="n">title</span><span class="p">(</span><span class="s1">&#39;Confusion matrix&#39;</span><span class="p">,</span> <span class="n">y</span><span class="o">=</span><span class="mf">1.1</span><span class="p">)</span>
<span class="n">plt</span><span class="o">.</span><span class="n">ylabel</span><span class="p">(</span><span class="s1">&#39;Actual label&#39;</span><span class="p">)</span>
<span class="n">plt</span><span class="o">.</span><span class="n">xlabel</span><span class="p">(</span><span class="s1">&#39;Predicted label&#39;</span><span class="p">)</span>
<span class="n">plt</span><span class="o">.</span><span class="n">show</span><span class="p">()</span>
</pre></div>

     </div>
</div>
</div>
</div>

<div class="jp-Cell-outputWrapper">
<div class="jp-Collapser jp-OutputCollapser jp-Cell-outputCollapser">
</div>


<div class="jp-OutputArea jp-Cell-outputArea">
<div class="jp-OutputArea-child">
    
    <div class="jp-OutputPrompt jp-OutputArea-prompt"></div>




<div class="jp-RenderedImage jp-OutputArea-output ">
<img src="data:image/png;base64,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"
class="
"
>
</div>

</div>

</div>

</div>

</div><div class="jp-Cell jp-CodeCell jp-Notebook-cell   ">
<div class="jp-Cell-inputWrapper">
<div class="jp-Collapser jp-InputCollapser jp-Cell-inputCollapser">
</div>
<div class="jp-InputArea jp-Cell-inputArea">
<div class="jp-InputPrompt jp-InputArea-prompt">In&nbsp;[54]:</div>
<div class="jp-CodeMirrorEditor jp-Editor jp-InputArea-editor" data-type="inline">
     <div class="CodeMirror cm-s-jupyter">
<div class=" highlight hl-ipython3"><pre><span></span><span class="nb">print</span><span class="p">(</span><span class="s1">&#39;Support Vector Machine Scoring&#39;</span><span class="p">)</span>
<span class="nb">print</span><span class="p">(</span><span class="s1">&#39;F1 Score: &#39;</span><span class="p">,</span> <span class="nb">round</span><span class="p">(</span><span class="n">metrics</span><span class="o">.</span><span class="n">f1_score</span><span class="p">(</span><span class="n">y_test</span><span class="p">,</span> <span class="n">y_pred_svc</span><span class="p">),</span> <span class="mi">2</span><span class="p">))</span>
<span class="nb">print</span><span class="p">(</span><span class="s1">&#39;Accuracy: &#39;</span><span class="p">,</span> <span class="nb">round</span><span class="p">(</span><span class="n">metrics</span><span class="o">.</span><span class="n">accuracy_score</span><span class="p">(</span><span class="n">y_test</span><span class="p">,</span> <span class="n">y_pred_svc</span><span class="p">),</span> <span class="mi">2</span><span class="p">))</span>
<span class="nb">print</span><span class="p">(</span><span class="s1">&#39;Precision: &#39;</span><span class="p">,</span> <span class="nb">round</span><span class="p">(</span><span class="n">metrics</span><span class="o">.</span><span class="n">precision_score</span><span class="p">(</span><span class="n">y_test</span><span class="p">,</span> <span class="n">y_pred_svc</span><span class="p">),</span> <span class="mi">2</span><span class="p">))</span>
<span class="nb">print</span><span class="p">(</span><span class="s1">&#39;Recall: &#39;</span><span class="p">,</span> <span class="nb">round</span><span class="p">(</span><span class="n">metrics</span><span class="o">.</span><span class="n">recall_score</span><span class="p">(</span><span class="n">y_test</span><span class="p">,</span> <span class="n">y_pred_svc</span><span class="p">),</span> <span class="mi">2</span><span class="p">))</span>
<span class="nb">print</span><span class="p">(</span><span class="s1">&#39;Balanced Accuracy :&#39;</span><span class="p">,</span> <span class="nb">round</span><span class="p">(</span><span class="n">metrics</span><span class="o">.</span><span class="n">balanced_accuracy_score</span><span class="p">(</span><span class="n">y_test</span><span class="p">,</span> <span class="n">y_pred_svc</span><span class="p">),</span> <span class="mi">2</span><span class="p">))</span>
</pre></div>

     </div>
</div>
</div>
</div>

<div class="jp-Cell-outputWrapper">
<div class="jp-Collapser jp-OutputCollapser jp-Cell-outputCollapser">
</div>


<div class="jp-OutputArea jp-Cell-outputArea">
<div class="jp-OutputArea-child">
    
    <div class="jp-OutputPrompt jp-OutputArea-prompt"></div>


<div class="jp-RenderedText jp-OutputArea-output" data-mime-type="text/plain">
<pre>Support Vector Machine Scoring
F1 Score:  0.79
Accuracy:  0.92
Precision:  0.93
Recall:  0.68
Balanced Accuracy : 0.83
</pre>
</div>
</div>

</div>

</div>

</div>
<div class="jp-Cell jp-MarkdownCell jp-Notebook-cell">
<div class="jp-Cell-inputWrapper">
<div class="jp-Collapser jp-InputCollapser jp-Cell-inputCollapser">
</div>
<div class="jp-InputArea jp-Cell-inputArea"><div class="jp-InputPrompt jp-InputArea-prompt">
</div><div class="jp-RenderedHTMLCommon jp-RenderedMarkdown jp-MarkdownOutput " data-mime-type="text/markdown">
<h2 id="Random-Forest-Classifier">Random Forest Classifier<a class="anchor-link" href="#Random-Forest-Classifier">&#182;</a></h2>
</div>
</div>
</div>
</div><div class="jp-Cell jp-CodeCell jp-Notebook-cell jp-mod-noOutputs  ">
<div class="jp-Cell-inputWrapper">
<div class="jp-Collapser jp-InputCollapser jp-Cell-inputCollapser">
</div>
<div class="jp-InputArea jp-Cell-inputArea">
<div class="jp-InputPrompt jp-InputArea-prompt">In&nbsp;[56]:</div>
<div class="jp-CodeMirrorEditor jp-Editor jp-InputArea-editor" data-type="inline">
     <div class="CodeMirror cm-s-jupyter">
<div class=" highlight hl-ipython3"><pre><span></span><span class="kn">from</span> <span class="nn">sklearn.ensemble</span> <span class="kn">import</span> <span class="n">RandomForestClassifier</span>
</pre></div>

     </div>
</div>
</div>
</div>

</div><div class="jp-Cell jp-CodeCell jp-Notebook-cell jp-mod-noOutputs  ">
<div class="jp-Cell-inputWrapper">
<div class="jp-Collapser jp-InputCollapser jp-Cell-inputCollapser">
</div>
<div class="jp-InputArea jp-Cell-inputArea">
<div class="jp-InputPrompt jp-InputArea-prompt">In&nbsp;[57]:</div>
<div class="jp-CodeMirrorEditor jp-Editor jp-InputArea-editor" data-type="inline">
     <div class="CodeMirror cm-s-jupyter">
<div class=" highlight hl-ipython3"><pre><span></span><span class="n">tree_classifier_pre</span> <span class="o">=</span> <span class="n">RandomForestClassifier</span><span class="p">(</span><span class="n">random_state</span><span class="o">=</span><span class="mi">7</span><span class="p">)</span>
</pre></div>

     </div>
</div>
</div>
</div>

</div><div class="jp-Cell jp-CodeCell jp-Notebook-cell jp-mod-noOutputs  ">
<div class="jp-Cell-inputWrapper">
<div class="jp-Collapser jp-InputCollapser jp-Cell-inputCollapser">
</div>
<div class="jp-InputArea jp-Cell-inputArea">
<div class="jp-InputPrompt jp-InputArea-prompt">In&nbsp;[58]:</div>
<div class="jp-CodeMirrorEditor jp-Editor jp-InputArea-editor" data-type="inline">
     <div class="CodeMirror cm-s-jupyter">
<div class=" highlight hl-ipython3"><pre><span></span><span class="n">params_tree</span> <span class="o">=</span> <span class="p">{</span>
    <span class="s1">&#39;n_estimators&#39;</span> <span class="p">:</span> <span class="p">[</span><span class="mi">50</span><span class="p">,</span> <span class="mi">100</span><span class="p">,</span> <span class="mi">200</span><span class="p">],</span>
    <span class="s1">&#39;max_depth&#39;</span> <span class="p">:</span> <span class="p">[</span><span class="mi">1</span><span class="p">,</span> <span class="mi">5</span><span class="p">,</span> <span class="mi">10</span><span class="p">]</span>
<span class="p">}</span>
</pre></div>

     </div>
</div>
</div>
</div>

</div><div class="jp-Cell jp-CodeCell jp-Notebook-cell   ">
<div class="jp-Cell-inputWrapper">
<div class="jp-Collapser jp-InputCollapser jp-Cell-inputCollapser">
</div>
<div class="jp-InputArea jp-Cell-inputArea">
<div class="jp-InputPrompt jp-InputArea-prompt">In&nbsp;[59]:</div>
<div class="jp-CodeMirrorEditor jp-Editor jp-InputArea-editor" data-type="inline">
     <div class="CodeMirror cm-s-jupyter">
<div class=" highlight hl-ipython3"><pre><span></span><span class="n">gridsearch_tree</span> <span class="o">=</span> <span class="n">GridSearchCV</span><span class="p">(</span>
    <span class="n">estimator</span><span class="o">=</span><span class="n">tree_classifier_pre</span><span class="p">,</span> <span class="n">param_grid</span><span class="o">=</span><span class="n">params_tree</span><span class="p">,</span> <span class="n">scoring</span><span class="o">=</span><span class="s1">&#39;balanced_accuracy&#39;</span><span class="p">,</span> <span class="n">cv</span><span class="o">=</span><span class="mi">3</span><span class="p">)</span>
<span class="n">gridsearch_tree</span><span class="o">.</span><span class="n">fit</span><span class="p">(</span><span class="n">X_train</span><span class="p">,</span> <span class="n">y_train</span><span class="p">)</span>
</pre></div>

     </div>
</div>
</div>
</div>

<div class="jp-Cell-outputWrapper">
<div class="jp-Collapser jp-OutputCollapser jp-Cell-outputCollapser">
</div>


<div class="jp-OutputArea jp-Cell-outputArea">
<div class="jp-OutputArea-child jp-OutputArea-executeResult">
    
    <div class="jp-OutputPrompt jp-OutputArea-prompt">Out[59]:</div>



<div class="jp-RenderedHTMLCommon jp-RenderedHTML jp-OutputArea-output jp-OutputArea-executeResult" data-mime-type="text/html">
<style>#sk-container-id-3 {color: black;background-color: white;}#sk-container-id-3 pre{padding: 0;}#sk-container-id-3 div.sk-toggleable {background-color: white;}#sk-container-id-3 label.sk-toggleable__label {cursor: pointer;display: block;width: 100%;margin-bottom: 0;padding: 0.3em;box-sizing: border-box;text-align: center;}#sk-container-id-3 label.sk-toggleable__label-arrow:before {content: "▸";float: left;margin-right: 0.25em;color: #696969;}#sk-container-id-3 label.sk-toggleable__label-arrow:hover:before {color: black;}#sk-container-id-3 div.sk-estimator:hover label.sk-toggleable__label-arrow:before {color: black;}#sk-container-id-3 div.sk-toggleable__content {max-height: 0;max-width: 0;overflow: hidden;text-align: left;background-color: #f0f8ff;}#sk-container-id-3 div.sk-toggleable__content pre {margin: 0.2em;color: black;border-radius: 0.25em;background-color: #f0f8ff;}#sk-container-id-3 input.sk-toggleable__control:checked~div.sk-toggleable__content {max-height: 200px;max-width: 100%;overflow: auto;}#sk-container-id-3 input.sk-toggleable__control:checked~label.sk-toggleable__label-arrow:before {content: "▾";}#sk-container-id-3 div.sk-estimator input.sk-toggleable__control:checked~label.sk-toggleable__label {background-color: #d4ebff;}#sk-container-id-3 div.sk-label input.sk-toggleable__control:checked~label.sk-toggleable__label {background-color: #d4ebff;}#sk-container-id-3 input.sk-hidden--visually {border: 0;clip: rect(1px 1px 1px 1px);clip: rect(1px, 1px, 1px, 1px);height: 1px;margin: -1px;overflow: hidden;padding: 0;position: absolute;width: 1px;}#sk-container-id-3 div.sk-estimator {font-family: monospace;background-color: #f0f8ff;border: 1px dotted black;border-radius: 0.25em;box-sizing: border-box;margin-bottom: 0.5em;}#sk-container-id-3 div.sk-estimator:hover {background-color: #d4ebff;}#sk-container-id-3 div.sk-parallel-item::after {content: "";width: 100%;border-bottom: 1px solid gray;flex-grow: 1;}#sk-container-id-3 div.sk-label:hover label.sk-toggleable__label {background-color: #d4ebff;}#sk-container-id-3 div.sk-serial::before {content: "";position: absolute;border-left: 1px solid gray;box-sizing: border-box;top: 0;bottom: 0;left: 50%;z-index: 0;}#sk-container-id-3 div.sk-serial {display: flex;flex-direction: column;align-items: center;background-color: white;padding-right: 0.2em;padding-left: 0.2em;position: relative;}#sk-container-id-3 div.sk-item {position: relative;z-index: 1;}#sk-container-id-3 div.sk-parallel {display: flex;align-items: stretch;justify-content: center;background-color: white;position: relative;}#sk-container-id-3 div.sk-item::before, #sk-container-id-3 div.sk-parallel-item::before {content: "";position: absolute;border-left: 1px solid gray;box-sizing: border-box;top: 0;bottom: 0;left: 50%;z-index: -1;}#sk-container-id-3 div.sk-parallel-item {display: flex;flex-direction: column;z-index: 1;position: relative;background-color: white;}#sk-container-id-3 div.sk-parallel-item:first-child::after {align-self: flex-end;width: 50%;}#sk-container-id-3 div.sk-parallel-item:last-child::after {align-self: flex-start;width: 50%;}#sk-container-id-3 div.sk-parallel-item:only-child::after {width: 0;}#sk-container-id-3 div.sk-dashed-wrapped {border: 1px dashed gray;margin: 0 0.4em 0.5em 0.4em;box-sizing: border-box;padding-bottom: 0.4em;background-color: white;}#sk-container-id-3 div.sk-label label {font-family: monospace;font-weight: bold;display: inline-block;line-height: 1.2em;}#sk-container-id-3 div.sk-label-container {text-align: center;}#sk-container-id-3 div.sk-container {/* jupyter's `normalize.less` sets `[hidden] { display: none; }` but bootstrap.min.css set `[hidden] { display: none !important; }` so we also need the `!important` here to be able to override the default hidden behavior on the sphinx rendered scikit-learn.org. See: https://github.com/scikit-learn/scikit-learn/issues/21755 */display: inline-block !important;position: relative;}#sk-container-id-3 div.sk-text-repr-fallback {display: none;}</style><div id="sk-container-id-3" class="sk-top-container"><div class="sk-text-repr-fallback"><pre>GridSearchCV(cv=3, estimator=RandomForestClassifier(random_state=7),
             param_grid={&#x27;max_depth&#x27;: [1, 5, 10],
                         &#x27;n_estimators&#x27;: [50, 100, 200]},
             scoring=&#x27;balanced_accuracy&#x27;)</pre><b>In a Jupyter environment, please rerun this cell to show the HTML representation or trust the notebook. <br />On GitHub, the HTML representation is unable to render, please try loading this page with nbviewer.org.</b></div><div class="sk-container" hidden><div class="sk-item sk-dashed-wrapped"><div class="sk-label-container"><div class="sk-label sk-toggleable"><input class="sk-toggleable__control sk-hidden--visually" id="sk-estimator-id-7" type="checkbox" ><label for="sk-estimator-id-7" class="sk-toggleable__label sk-toggleable__label-arrow">GridSearchCV</label><div class="sk-toggleable__content"><pre>GridSearchCV(cv=3, estimator=RandomForestClassifier(random_state=7),
             param_grid={&#x27;max_depth&#x27;: [1, 5, 10],
                         &#x27;n_estimators&#x27;: [50, 100, 200]},
             scoring=&#x27;balanced_accuracy&#x27;)</pre></div></div></div><div class="sk-parallel"><div class="sk-parallel-item"><div class="sk-item"><div class="sk-label-container"><div class="sk-label sk-toggleable"><input class="sk-toggleable__control sk-hidden--visually" id="sk-estimator-id-8" type="checkbox" ><label for="sk-estimator-id-8" class="sk-toggleable__label sk-toggleable__label-arrow">estimator: RandomForestClassifier</label><div class="sk-toggleable__content"><pre>RandomForestClassifier(random_state=7)</pre></div></div></div><div class="sk-serial"><div class="sk-item"><div class="sk-estimator sk-toggleable"><input class="sk-toggleable__control sk-hidden--visually" id="sk-estimator-id-9" type="checkbox" ><label for="sk-estimator-id-9" class="sk-toggleable__label sk-toggleable__label-arrow">RandomForestClassifier</label><div class="sk-toggleable__content"><pre>RandomForestClassifier(random_state=7)</pre></div></div></div></div></div></div></div></div></div></div>
</div>

</div>

</div>

</div>

</div><div class="jp-Cell jp-CodeCell jp-Notebook-cell   ">
<div class="jp-Cell-inputWrapper">
<div class="jp-Collapser jp-InputCollapser jp-Cell-inputCollapser">
</div>
<div class="jp-InputArea jp-Cell-inputArea">
<div class="jp-InputPrompt jp-InputArea-prompt">In&nbsp;[60]:</div>
<div class="jp-CodeMirrorEditor jp-Editor jp-InputArea-editor" data-type="inline">
     <div class="CodeMirror cm-s-jupyter">
<div class=" highlight hl-ipython3"><pre><span></span><span class="n">gridsearch_tree</span><span class="o">.</span><span class="n">best_params_</span>
</pre></div>

     </div>
</div>
</div>
</div>

<div class="jp-Cell-outputWrapper">
<div class="jp-Collapser jp-OutputCollapser jp-Cell-outputCollapser">
</div>


<div class="jp-OutputArea jp-Cell-outputArea">
<div class="jp-OutputArea-child jp-OutputArea-executeResult">
    
    <div class="jp-OutputPrompt jp-OutputArea-prompt">Out[60]:</div>




<div class="jp-RenderedText jp-OutputArea-output jp-OutputArea-executeResult" data-mime-type="text/plain">
<pre>{&#39;max_depth&#39;: 10, &#39;n_estimators&#39;: 200}</pre>
</div>

</div>

</div>

</div>

</div><div class="jp-Cell jp-CodeCell jp-Notebook-cell jp-mod-noOutputs  ">
<div class="jp-Cell-inputWrapper">
<div class="jp-Collapser jp-InputCollapser jp-Cell-inputCollapser">
</div>
<div class="jp-InputArea jp-Cell-inputArea">
<div class="jp-InputPrompt jp-InputArea-prompt">In&nbsp;[61]:</div>
<div class="jp-CodeMirrorEditor jp-Editor jp-InputArea-editor" data-type="inline">
     <div class="CodeMirror cm-s-jupyter">
<div class=" highlight hl-ipython3"><pre><span></span><span class="n">tree_classifier</span> <span class="o">=</span> <span class="n">gridsearch_tree</span><span class="o">.</span><span class="n">best_estimator_</span>
</pre></div>

     </div>
</div>
</div>
</div>

</div><div class="jp-Cell jp-CodeCell jp-Notebook-cell jp-mod-noOutputs  ">
<div class="jp-Cell-inputWrapper">
<div class="jp-Collapser jp-InputCollapser jp-Cell-inputCollapser">
</div>
<div class="jp-InputArea jp-Cell-inputArea">
<div class="jp-InputPrompt jp-InputArea-prompt">In&nbsp;[62]:</div>
<div class="jp-CodeMirrorEditor jp-Editor jp-InputArea-editor" data-type="inline">
     <div class="CodeMirror cm-s-jupyter">
<div class=" highlight hl-ipython3"><pre><span></span><span class="n">y_pred_tree</span> <span class="o">=</span> <span class="n">tree_classifier</span><span class="o">.</span><span class="n">predict</span><span class="p">(</span><span class="n">X_test</span><span class="p">)</span>
</pre></div>

     </div>
</div>
</div>
</div>

</div><div class="jp-Cell jp-CodeCell jp-Notebook-cell jp-mod-noOutputs  ">
<div class="jp-Cell-inputWrapper">
<div class="jp-Collapser jp-InputCollapser jp-Cell-inputCollapser">
</div>
<div class="jp-InputArea jp-Cell-inputArea">
<div class="jp-InputPrompt jp-InputArea-prompt">In&nbsp;[63]:</div>
<div class="jp-CodeMirrorEditor jp-Editor jp-InputArea-editor" data-type="inline">
     <div class="CodeMirror cm-s-jupyter">
<div class=" highlight hl-ipython3"><pre><span></span><span class="n">cnf_matrix_tree</span> <span class="o">=</span> <span class="n">metrics</span><span class="o">.</span><span class="n">confusion_matrix</span><span class="p">(</span><span class="n">y_test</span><span class="p">,</span> <span class="n">y_pred_tree</span><span class="p">)</span>
</pre></div>

     </div>
</div>
</div>
</div>

</div><div class="jp-Cell jp-CodeCell jp-Notebook-cell   ">
<div class="jp-Cell-inputWrapper">
<div class="jp-Collapser jp-InputCollapser jp-Cell-inputCollapser">
</div>
<div class="jp-InputArea jp-Cell-inputArea">
<div class="jp-InputPrompt jp-InputArea-prompt">In&nbsp;[64]:</div>
<div class="jp-CodeMirrorEditor jp-Editor jp-InputArea-editor" data-type="inline">
     <div class="CodeMirror cm-s-jupyter">
<div class=" highlight hl-ipython3"><pre><span></span><span class="n">sns</span><span class="o">.</span><span class="n">heatmap</span><span class="p">(</span><span class="n">cnf_matrix_tree</span><span class="p">,</span> <span class="n">cmap</span> <span class="o">=</span> <span class="s1">&#39;YlGnBu&#39;</span><span class="p">,</span> <span class="n">annot</span><span class="o">=</span><span class="kc">True</span><span class="p">,</span> <span class="n">fmt</span><span class="o">=</span><span class="s1">&#39;g&#39;</span><span class="p">)</span>
<span class="n">plt</span><span class="o">.</span><span class="n">tight_layout</span><span class="p">()</span>
<span class="n">plt</span><span class="o">.</span><span class="n">title</span><span class="p">(</span><span class="s1">&#39;Confusion matrix&#39;</span><span class="p">,</span> <span class="n">y</span><span class="o">=</span><span class="mf">1.1</span><span class="p">)</span>
<span class="n">plt</span><span class="o">.</span><span class="n">ylabel</span><span class="p">(</span><span class="s1">&#39;Actual label&#39;</span><span class="p">)</span>
<span class="n">plt</span><span class="o">.</span><span class="n">xlabel</span><span class="p">(</span><span class="s1">&#39;Predicted label&#39;</span><span class="p">)</span>
<span class="n">plt</span><span class="o">.</span><span class="n">show</span><span class="p">()</span>
</pre></div>

     </div>
</div>
</div>
</div>

<div class="jp-Cell-outputWrapper">
<div class="jp-Collapser jp-OutputCollapser jp-Cell-outputCollapser">
</div>


<div class="jp-OutputArea jp-Cell-outputArea">
<div class="jp-OutputArea-child">
    
    <div class="jp-OutputPrompt jp-OutputArea-prompt"></div>




<div class="jp-RenderedImage jp-OutputArea-output ">
<img src="data:image/png;base64,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"
class="
"
>
</div>

</div>

</div>

</div>

</div><div class="jp-Cell jp-CodeCell jp-Notebook-cell   ">
<div class="jp-Cell-inputWrapper">
<div class="jp-Collapser jp-InputCollapser jp-Cell-inputCollapser">
</div>
<div class="jp-InputArea jp-Cell-inputArea">
<div class="jp-InputPrompt jp-InputArea-prompt">In&nbsp;[65]:</div>
<div class="jp-CodeMirrorEditor jp-Editor jp-InputArea-editor" data-type="inline">
     <div class="CodeMirror cm-s-jupyter">
<div class=" highlight hl-ipython3"><pre><span></span><span class="nb">print</span><span class="p">(</span><span class="s1">&#39;Random Forest Classifier Scoring&#39;</span><span class="p">)</span>
<span class="nb">print</span><span class="p">(</span><span class="s1">&#39;F1 Score: &#39;</span><span class="p">,</span> <span class="nb">round</span><span class="p">(</span><span class="n">metrics</span><span class="o">.</span><span class="n">f1_score</span><span class="p">(</span><span class="n">y_test</span><span class="p">,</span> <span class="n">y_pred_tree</span><span class="p">),</span> <span class="mi">2</span><span class="p">))</span>
<span class="nb">print</span><span class="p">(</span><span class="s1">&#39;Accuracy: &#39;</span><span class="p">,</span> <span class="nb">round</span><span class="p">(</span><span class="n">metrics</span><span class="o">.</span><span class="n">accuracy_score</span><span class="p">(</span><span class="n">y_test</span><span class="p">,</span> <span class="n">y_pred_tree</span><span class="p">),</span> <span class="mi">2</span><span class="p">))</span>
<span class="nb">print</span><span class="p">(</span><span class="s1">&#39;Precision: &#39;</span><span class="p">,</span> <span class="nb">round</span><span class="p">(</span><span class="n">metrics</span><span class="o">.</span><span class="n">precision_score</span><span class="p">(</span><span class="n">y_test</span><span class="p">,</span> <span class="n">y_pred_tree</span><span class="p">),</span> <span class="mi">2</span><span class="p">))</span>
<span class="nb">print</span><span class="p">(</span><span class="s1">&#39;Recall: &#39;</span><span class="p">,</span> <span class="nb">round</span><span class="p">(</span><span class="n">metrics</span><span class="o">.</span><span class="n">recall_score</span><span class="p">(</span><span class="n">y_test</span><span class="p">,</span> <span class="n">y_pred_tree</span><span class="p">),</span> <span class="mi">2</span><span class="p">))</span>
<span class="nb">print</span><span class="p">(</span><span class="s1">&#39;Balanced Accuracy :&#39;</span><span class="p">,</span> <span class="nb">round</span><span class="p">(</span><span class="n">metrics</span><span class="o">.</span><span class="n">balanced_accuracy_score</span><span class="p">(</span><span class="n">y_test</span><span class="p">,</span> <span class="n">y_pred_tree</span><span class="p">),</span> <span class="mi">2</span><span class="p">))</span>
</pre></div>

     </div>
</div>
</div>
</div>

<div class="jp-Cell-outputWrapper">
<div class="jp-Collapser jp-OutputCollapser jp-Cell-outputCollapser">
</div>


<div class="jp-OutputArea jp-Cell-outputArea">
<div class="jp-OutputArea-child">
    
    <div class="jp-OutputPrompt jp-OutputArea-prompt"></div>


<div class="jp-RenderedText jp-OutputArea-output" data-mime-type="text/plain">
<pre>Random Forest Classifier Scoring
F1 Score:  0.81
Accuracy:  0.93
Precision:  0.96
Recall:  0.7
Balanced Accuracy : 0.85
</pre>
</div>
</div>

</div>

</div>

</div>
<div class="jp-Cell jp-MarkdownCell jp-Notebook-cell">
<div class="jp-Cell-inputWrapper">
<div class="jp-Collapser jp-InputCollapser jp-Cell-inputCollapser">
</div>
<div class="jp-InputArea jp-Cell-inputArea"><div class="jp-InputPrompt jp-InputArea-prompt">
</div><div class="jp-RenderedHTMLCommon jp-RenderedMarkdown jp-MarkdownOutput " data-mime-type="text/markdown">
<h1 id="Model-Comparison">Model Comparison<a class="anchor-link" href="#Model-Comparison">&#182;</a></h1>
</div>
</div>
</div>
</div><div class="jp-Cell jp-CodeCell jp-Notebook-cell jp-mod-noOutputs  ">
<div class="jp-Cell-inputWrapper">
<div class="jp-Collapser jp-InputCollapser jp-Cell-inputCollapser">
</div>
<div class="jp-InputArea jp-Cell-inputArea">
<div class="jp-InputPrompt jp-InputArea-prompt">In&nbsp;[67]:</div>
<div class="jp-CodeMirrorEditor jp-Editor jp-InputArea-editor" data-type="inline">
     <div class="CodeMirror cm-s-jupyter">
<div class=" highlight hl-ipython3"><pre><span></span><span class="n">models</span> <span class="o">=</span> <span class="p">{</span>
    <span class="s1">&#39;Logistic Regression&#39;</span> <span class="p">:</span> <span class="n">logreg</span><span class="p">,</span>
    <span class="s1">&#39;Support Vector Machine&#39;</span> <span class="p">:</span> <span class="n">svc_classifier</span><span class="p">,</span>
    <span class="s1">&#39;Random Forest Classification&#39;</span> <span class="p">:</span> <span class="n">tree_classifier</span>
<span class="p">}</span>
</pre></div>

     </div>
</div>
</div>
</div>

</div><div class="jp-Cell jp-CodeCell jp-Notebook-cell   ">
<div class="jp-Cell-inputWrapper">
<div class="jp-Collapser jp-InputCollapser jp-Cell-inputCollapser">
</div>
<div class="jp-InputArea jp-Cell-inputArea">
<div class="jp-InputPrompt jp-InputArea-prompt">In&nbsp;[68]:</div>
<div class="jp-CodeMirrorEditor jp-Editor jp-InputArea-editor" data-type="inline">
     <div class="CodeMirror cm-s-jupyter">
<div class=" highlight hl-ipython3"><pre><span></span><span class="k">for</span> <span class="n">model_name</span><span class="p">,</span> <span class="n">model</span> <span class="ow">in</span> <span class="n">models</span><span class="o">.</span><span class="n">items</span><span class="p">():</span>
    
    <span class="c1"># finding the probabilities for each model</span>
    <span class="n">y_proba</span> <span class="o">=</span> <span class="n">model</span><span class="o">.</span><span class="n">predict_proba</span><span class="p">(</span><span class="n">X_test</span><span class="p">)[:,</span> <span class="mi">1</span><span class="p">]</span>

    <span class="c1"># finding the ROC scores</span>
    <span class="n">fpr</span><span class="p">,</span> <span class="n">tpr</span><span class="p">,</span> <span class="n">thresholds</span> <span class="o">=</span> <span class="n">metrics</span><span class="o">.</span><span class="n">roc_curve</span><span class="p">(</span><span class="n">y_test</span><span class="p">,</span> <span class="n">y_proba</span><span class="p">)</span>
    <span class="n">roc_score</span> <span class="o">=</span> <span class="n">metrics</span><span class="o">.</span><span class="n">roc_auc_score</span><span class="p">(</span><span class="n">y_test</span><span class="p">,</span> <span class="n">y_proba</span><span class="p">)</span>

    <span class="c1"># plotting</span>
    <span class="n">sns</span><span class="o">.</span><span class="n">lineplot</span><span class="p">(</span><span class="n">x</span><span class="o">=</span><span class="n">fpr</span><span class="p">,</span> <span class="n">y</span><span class="o">=</span><span class="n">tpr</span><span class="p">,</span> <span class="n">label</span><span class="o">=</span><span class="sa">f</span><span class="s1">&#39;</span><span class="si">{</span><span class="n">model_name</span><span class="si">}</span><span class="s1">: AUC=</span><span class="si">{</span><span class="n">roc_score</span><span class="si">:</span><span class="s1">.2f</span><span class="si">}</span><span class="s1">&#39;</span><span class="p">)</span>

<span class="n">plt</span><span class="o">.</span><span class="n">tight_layout</span><span class="p">()</span>
<span class="n">plt</span><span class="o">.</span><span class="n">title</span><span class="p">(</span><span class="s1">&#39;AUC ROC Curve&#39;</span><span class="p">)</span>
<span class="n">plt</span><span class="o">.</span><span class="n">ylabel</span><span class="p">(</span><span class="s1">&#39;True Positive Rate&#39;</span><span class="p">)</span>
<span class="n">plt</span><span class="o">.</span><span class="n">xlabel</span><span class="p">(</span><span class="s1">&#39;False Positive Rate&#39;</span><span class="p">)</span>
<span class="n">plt</span><span class="o">.</span><span class="n">legend</span><span class="p">(</span><span class="n">loc</span><span class="o">=</span><span class="s1">&#39;lower right&#39;</span><span class="p">)</span>
<span class="n">plt</span><span class="o">.</span><span class="n">grid</span><span class="p">(</span><span class="kc">True</span><span class="p">)</span>
<span class="n">plt</span><span class="o">.</span><span class="n">show</span><span class="p">()</span>
</pre></div>

     </div>
</div>
</div>
</div>

<div class="jp-Cell-outputWrapper">
<div class="jp-Collapser jp-OutputCollapser jp-Cell-outputCollapser">
</div>


<div class="jp-OutputArea jp-Cell-outputArea">
<div class="jp-OutputArea-child">
    
    <div class="jp-OutputPrompt jp-OutputArea-prompt"></div>




<div class="jp-RenderedImage jp-OutputArea-output ">
<img src="data:image/png;base64,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"
class="
"
>
</div>

</div>

</div>

</div>

</div>
<div class="jp-Cell jp-MarkdownCell jp-Notebook-cell">
<div class="jp-Cell-inputWrapper">
<div class="jp-Collapser jp-InputCollapser jp-Cell-inputCollapser">
</div>
<div class="jp-InputArea jp-Cell-inputArea"><div class="jp-InputPrompt jp-InputArea-prompt">
</div><div class="jp-RenderedHTMLCommon jp-RenderedMarkdown jp-MarkdownOutput " data-mime-type="text/markdown">
<h1 id="Conclusion">Conclusion<a class="anchor-link" href="#Conclusion">&#182;</a></h1>
</div>
</div>
</div>
</div>
<div class="jp-Cell jp-MarkdownCell jp-Notebook-cell">
<div class="jp-Cell-inputWrapper">
<div class="jp-Collapser jp-InputCollapser jp-Cell-inputCollapser">
</div>
<div class="jp-InputArea jp-Cell-inputArea"><div class="jp-InputPrompt jp-InputArea-prompt">
</div><div class="jp-RenderedHTMLCommon jp-RenderedMarkdown jp-MarkdownOutput " data-mime-type="text/markdown">
<p>Altogether, the Random Forest Classifier performed much better than the Logistic Regression (Logit) model and slightly better than the Support Vector Machine (SVM) model. With a Balanced Accuracy (BA) score of 0.85 and an AUC score of 0.92, the Random Forest Classifier was better able to correctly identify loan default compared to the Logistic Regression model (BA = 0.75, AUC = 0.86) and the Support Vector Machine model (BA = 0.83, AUC = 0.90). One item to consider is that tree-based methods are more likely to overfit, as such, it may be beneficial to see how well the models perform as the data moves further away from the training data. Given that SVM models can be better generalized, if concerns data are straying far from the training data (for example, a bank opening in a new market with a different customer base) it might be a good idea to implement the SVM model. Otherwise, the Random Forest Classifier model is the preferred choice.</p>

</div>
</div>
</div>
</div>
</body>







</html>

  <!-- end block body safe notebook.html -->

  </div>


  
    <footer class="footer hidden-print">
      <div class="container">
        <div class="col-md-4">
          <p>
            This website does not host notebooks, it only renders notebooks
            available on other websites.
          </p>
        </div>

        <div class="col-md-4">
          <p>
            Delivered by <a href="http://www.fastly.com/">Fastly</a>,
            Rendered by <a href="https://ovhcloud.com">OVHcloud</a>
          </p>
          <p>
            nbviewer GitHub <a href="https://github.com/jupyter/nbviewer">repository</a>.
          </p>
        </div>

        <div class="col-md-4">
          
  
            
              <p>
                nbviewer version:
                <a href="https://github.com/jupyter/nbviewer/commit/8b013f79afa22d2ed627fa234783b66fde5690de">
                  8b013f7
                </a>
              </p>
            
          
  
  <p>
    nbconvert version: <a href="https://github.com/jupyter/nbconvert/releases/tag/7.2.3">
      7.2.3
    </a>
  </p>
  

          
  
  
  <p>
    Rendered
    <span class='date' data-date='Wed, 07 Aug 2024 00:36:01 UTC' title='Wed, 07 Aug 2024 00:36:01 UTC'>(Wed, 07 Aug 2024 00:36:01 UTC)</span>
  </p>
<style>
 /* I did not found other ways to override CSS for now */
div.reveal { font-size: 12px; } 
</style>
  

        </div>
      </div>
    </footer>
  

  <script src="/static/components/bootstrap/js/bootstrap.min.js"></script>
  <script src="/static/components/headroom.js/dist/headroom.min.js"></script>
  <script src="/static/components/headroom.js/dist/jQuery.headroom.min.js"></script>

  
  
  <script>
    $(function(){ $("#menubar").headroom({
      tolerance: 5,
      offset: 205,
      classes: {
        initial: "animated",
        pinned: "slideInDown",
        unpinned: "slideOutUp"
      }
    })});
  </script>


  
  <script>
    (function(i,s,o,g,r,a,m){i['GoogleAnalyticsObject']=r;i[r]=i[r]||function(){
      (i[r].q=i[r].q||[]).push(arguments)},i[r].l=1*new Date();a=s.createElement(o),
      m=s.getElementsByTagName(o)[0];a.async=1;a.src=g;m.parentNode.insertBefore(a,m)
    })(window,document,'script','https://www.google-analytics.com/analytics.js','ga');
    ga('create', 'UA-52617120-5', 'auto',
       {'storage': 'none'});
    ga('set', 'anonymizeIp', true);
    ga('send', 'pageview');
  </script>
  
  <script>
    require({
        paths: {
          moment: "/static/components/moment/min/moment.min.js"
        }
      }, ["moment"], function(moment){
      var date = $("footer .date"),
        m = moment(new Date(date.data('date'))),
        update = function(){ date.text(m.fromNow()); };
      setInterval(update, 61*1000);
      update();
      var w = $(window).scroll(function(event){
        $("body").toggleClass("scrolled", w.scrollTop() > 0);
      });
    });
  </script>

  <!--NEW RELIC Stop Perf Measurement-->
  
  <!--NEW RELIC End-->
</body>
</html>